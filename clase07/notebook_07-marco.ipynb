{
 "cells": [
  {
   "cell_type": "markdown",
   "metadata": {},
   "source": [
    "# Clase 7: Taller Práctico - Otros Métodos Supervisados\n",
    "\n",
    "**Objetivos:**\n",
    "\n",
    "En este taller, aplicaremos y compararemos los tres métodos de clasificación que hemos estudiado en la clase teórica:\n",
    "\n",
    "1.  **k-Nearest Neighbors (k-NN)**: Un clasificador basado en instancia y distancia.\n",
    "2.  **Naive Bayes**: Un clasificador probabilístico basado en el teorema de Bayes.\n",
    "3.  **Perceptrón Multicapa (MLP)**: Nuestro primer vistazo a una red neuronal simple.\n",
    "\n",
    "Utilizaremos el conjunto de datos \"Wine\" de Scikit-learn, un dataset clásico para problemas de clasificación multiclase. El objetivo es clasificar vinos en una de tres categorías basándonos en sus atributos químicos."
   ]
  },
  {
   "cell_type": "markdown",
   "metadata": {},
   "source": [
    "## 1. Configuración Inicial e Importación de Librerías"
   ]
  },
  {
   "cell_type": "code",
   "execution_count": 91,
   "metadata": {},
   "outputs": [],
   "source": [
    "# Librerías para manipulación de datos\n",
    "import pandas as pd\n",
    "import numpy as np\n",
    "\n",
    "import time\n",
    "\n",
    "# Librerías de Scikit-learn para el modelado\n",
    "from sklearn.datasets import load_wine\n",
    "from sklearn.model_selection import train_test_split\n",
    "from sklearn.preprocessing import StandardScaler\n",
    "from sklearn.neighbors import KNeighborsClassifier\n",
    "from sklearn.naive_bayes import GaussianNB\n",
    "from sklearn.neural_network import MLPClassifier\n",
    "from sklearn.metrics import accuracy_score, confusion_matrix, classification_report\n",
    "from sklearn.decomposition import PCA\n",
    "\n",
    "# Librerías para visualización\n",
    "import plotly.express as px\n",
    "import plotly.graph_objects as go"
   ]
  },
  {
   "cell_type": "markdown",
   "metadata": {},
   "source": [
    "## 2. Carga y Exploración del Dataset (EDA)\n",
    "\n",
    "El dataset \"Wine\" contiene los resultados de un análisis químico de vinos cultivados en la misma región en Italia pero derivados de tres cultivares diferentes. El análisis determinó las cantidades de 13 constituyentes encontrados en cada uno de los tres tipos de vinos."
   ]
  },
  {
   "cell_type": "code",
   "execution_count": 92,
   "metadata": {},
   "outputs": [
    {
     "name": "stdout",
     "output_type": "stream",
     "text": [
      "Primeras 5 filas del dataset:\n"
     ]
    },
    {
     "data": {
      "text/html": [
       "<div>\n",
       "<style scoped>\n",
       "    .dataframe tbody tr th:only-of-type {\n",
       "        vertical-align: middle;\n",
       "    }\n",
       "\n",
       "    .dataframe tbody tr th {\n",
       "        vertical-align: top;\n",
       "    }\n",
       "\n",
       "    .dataframe thead th {\n",
       "        text-align: right;\n",
       "    }\n",
       "</style>\n",
       "<table border=\"1\" class=\"dataframe\">\n",
       "  <thead>\n",
       "    <tr style=\"text-align: right;\">\n",
       "      <th></th>\n",
       "      <th>alcohol</th>\n",
       "      <th>malic_acid</th>\n",
       "      <th>ash</th>\n",
       "      <th>alcalinity_of_ash</th>\n",
       "      <th>magnesium</th>\n",
       "      <th>total_phenols</th>\n",
       "      <th>flavanoids</th>\n",
       "      <th>nonflavanoid_phenols</th>\n",
       "      <th>proanthocyanins</th>\n",
       "      <th>color_intensity</th>\n",
       "      <th>hue</th>\n",
       "      <th>od280/od315_of_diluted_wines</th>\n",
       "      <th>proline</th>\n",
       "      <th>target</th>\n",
       "      <th>target_name</th>\n",
       "    </tr>\n",
       "  </thead>\n",
       "  <tbody>\n",
       "    <tr>\n",
       "      <th>0</th>\n",
       "      <td>14.23</td>\n",
       "      <td>1.71</td>\n",
       "      <td>2.43</td>\n",
       "      <td>15.6</td>\n",
       "      <td>127.0</td>\n",
       "      <td>2.80</td>\n",
       "      <td>3.06</td>\n",
       "      <td>0.28</td>\n",
       "      <td>2.29</td>\n",
       "      <td>5.64</td>\n",
       "      <td>1.04</td>\n",
       "      <td>3.92</td>\n",
       "      <td>1065.0</td>\n",
       "      <td>0</td>\n",
       "      <td>Class_0</td>\n",
       "    </tr>\n",
       "    <tr>\n",
       "      <th>1</th>\n",
       "      <td>13.20</td>\n",
       "      <td>1.78</td>\n",
       "      <td>2.14</td>\n",
       "      <td>11.2</td>\n",
       "      <td>100.0</td>\n",
       "      <td>2.65</td>\n",
       "      <td>2.76</td>\n",
       "      <td>0.26</td>\n",
       "      <td>1.28</td>\n",
       "      <td>4.38</td>\n",
       "      <td>1.05</td>\n",
       "      <td>3.40</td>\n",
       "      <td>1050.0</td>\n",
       "      <td>0</td>\n",
       "      <td>Class_0</td>\n",
       "    </tr>\n",
       "    <tr>\n",
       "      <th>2</th>\n",
       "      <td>13.16</td>\n",
       "      <td>2.36</td>\n",
       "      <td>2.67</td>\n",
       "      <td>18.6</td>\n",
       "      <td>101.0</td>\n",
       "      <td>2.80</td>\n",
       "      <td>3.24</td>\n",
       "      <td>0.30</td>\n",
       "      <td>2.81</td>\n",
       "      <td>5.68</td>\n",
       "      <td>1.03</td>\n",
       "      <td>3.17</td>\n",
       "      <td>1185.0</td>\n",
       "      <td>0</td>\n",
       "      <td>Class_0</td>\n",
       "    </tr>\n",
       "    <tr>\n",
       "      <th>3</th>\n",
       "      <td>14.37</td>\n",
       "      <td>1.95</td>\n",
       "      <td>2.50</td>\n",
       "      <td>16.8</td>\n",
       "      <td>113.0</td>\n",
       "      <td>3.85</td>\n",
       "      <td>3.49</td>\n",
       "      <td>0.24</td>\n",
       "      <td>2.18</td>\n",
       "      <td>7.80</td>\n",
       "      <td>0.86</td>\n",
       "      <td>3.45</td>\n",
       "      <td>1480.0</td>\n",
       "      <td>0</td>\n",
       "      <td>Class_0</td>\n",
       "    </tr>\n",
       "    <tr>\n",
       "      <th>4</th>\n",
       "      <td>13.24</td>\n",
       "      <td>2.59</td>\n",
       "      <td>2.87</td>\n",
       "      <td>21.0</td>\n",
       "      <td>118.0</td>\n",
       "      <td>2.80</td>\n",
       "      <td>2.69</td>\n",
       "      <td>0.39</td>\n",
       "      <td>1.82</td>\n",
       "      <td>4.32</td>\n",
       "      <td>1.04</td>\n",
       "      <td>2.93</td>\n",
       "      <td>735.0</td>\n",
       "      <td>0</td>\n",
       "      <td>Class_0</td>\n",
       "    </tr>\n",
       "  </tbody>\n",
       "</table>\n",
       "</div>"
      ],
      "text/plain": [
       "   alcohol  malic_acid   ash  alcalinity_of_ash  magnesium  total_phenols  \\\n",
       "0    14.23        1.71  2.43               15.6      127.0           2.80   \n",
       "1    13.20        1.78  2.14               11.2      100.0           2.65   \n",
       "2    13.16        2.36  2.67               18.6      101.0           2.80   \n",
       "3    14.37        1.95  2.50               16.8      113.0           3.85   \n",
       "4    13.24        2.59  2.87               21.0      118.0           2.80   \n",
       "\n",
       "   flavanoids  nonflavanoid_phenols  proanthocyanins  color_intensity   hue  \\\n",
       "0        3.06                  0.28             2.29             5.64  1.04   \n",
       "1        2.76                  0.26             1.28             4.38  1.05   \n",
       "2        3.24                  0.30             2.81             5.68  1.03   \n",
       "3        3.49                  0.24             2.18             7.80  0.86   \n",
       "4        2.69                  0.39             1.82             4.32  1.04   \n",
       "\n",
       "   od280/od315_of_diluted_wines  proline  target target_name  \n",
       "0                          3.92   1065.0       0     Class_0  \n",
       "1                          3.40   1050.0       0     Class_0  \n",
       "2                          3.17   1185.0       0     Class_0  \n",
       "3                          3.45   1480.0       0     Class_0  \n",
       "4                          2.93    735.0       0     Class_0  "
      ]
     },
     "metadata": {},
     "output_type": "display_data"
    },
    {
     "name": "stdout",
     "output_type": "stream",
     "text": [
      "\n",
      "Descripción estadística de las características:\n"
     ]
    },
    {
     "data": {
      "text/html": [
       "<div>\n",
       "<style scoped>\n",
       "    .dataframe tbody tr th:only-of-type {\n",
       "        vertical-align: middle;\n",
       "    }\n",
       "\n",
       "    .dataframe tbody tr th {\n",
       "        vertical-align: top;\n",
       "    }\n",
       "\n",
       "    .dataframe thead th {\n",
       "        text-align: right;\n",
       "    }\n",
       "</style>\n",
       "<table border=\"1\" class=\"dataframe\">\n",
       "  <thead>\n",
       "    <tr style=\"text-align: right;\">\n",
       "      <th></th>\n",
       "      <th>alcohol</th>\n",
       "      <th>malic_acid</th>\n",
       "      <th>ash</th>\n",
       "      <th>alcalinity_of_ash</th>\n",
       "      <th>magnesium</th>\n",
       "      <th>total_phenols</th>\n",
       "      <th>flavanoids</th>\n",
       "      <th>nonflavanoid_phenols</th>\n",
       "      <th>proanthocyanins</th>\n",
       "      <th>color_intensity</th>\n",
       "      <th>hue</th>\n",
       "      <th>od280/od315_of_diluted_wines</th>\n",
       "      <th>proline</th>\n",
       "      <th>target</th>\n",
       "    </tr>\n",
       "  </thead>\n",
       "  <tbody>\n",
       "    <tr>\n",
       "      <th>count</th>\n",
       "      <td>178.000000</td>\n",
       "      <td>178.000000</td>\n",
       "      <td>178.000000</td>\n",
       "      <td>178.000000</td>\n",
       "      <td>178.000000</td>\n",
       "      <td>178.000000</td>\n",
       "      <td>178.000000</td>\n",
       "      <td>178.000000</td>\n",
       "      <td>178.000000</td>\n",
       "      <td>178.000000</td>\n",
       "      <td>178.000000</td>\n",
       "      <td>178.000000</td>\n",
       "      <td>178.000000</td>\n",
       "      <td>178.000000</td>\n",
       "    </tr>\n",
       "    <tr>\n",
       "      <th>mean</th>\n",
       "      <td>13.000618</td>\n",
       "      <td>2.336348</td>\n",
       "      <td>2.366517</td>\n",
       "      <td>19.494944</td>\n",
       "      <td>99.741573</td>\n",
       "      <td>2.295112</td>\n",
       "      <td>2.029270</td>\n",
       "      <td>0.361854</td>\n",
       "      <td>1.590899</td>\n",
       "      <td>5.058090</td>\n",
       "      <td>0.957449</td>\n",
       "      <td>2.611685</td>\n",
       "      <td>746.893258</td>\n",
       "      <td>0.938202</td>\n",
       "    </tr>\n",
       "    <tr>\n",
       "      <th>std</th>\n",
       "      <td>0.811827</td>\n",
       "      <td>1.117146</td>\n",
       "      <td>0.274344</td>\n",
       "      <td>3.339564</td>\n",
       "      <td>14.282484</td>\n",
       "      <td>0.625851</td>\n",
       "      <td>0.998859</td>\n",
       "      <td>0.124453</td>\n",
       "      <td>0.572359</td>\n",
       "      <td>2.318286</td>\n",
       "      <td>0.228572</td>\n",
       "      <td>0.709990</td>\n",
       "      <td>314.907474</td>\n",
       "      <td>0.775035</td>\n",
       "    </tr>\n",
       "    <tr>\n",
       "      <th>min</th>\n",
       "      <td>11.030000</td>\n",
       "      <td>0.740000</td>\n",
       "      <td>1.360000</td>\n",
       "      <td>10.600000</td>\n",
       "      <td>70.000000</td>\n",
       "      <td>0.980000</td>\n",
       "      <td>0.340000</td>\n",
       "      <td>0.130000</td>\n",
       "      <td>0.410000</td>\n",
       "      <td>1.280000</td>\n",
       "      <td>0.480000</td>\n",
       "      <td>1.270000</td>\n",
       "      <td>278.000000</td>\n",
       "      <td>0.000000</td>\n",
       "    </tr>\n",
       "    <tr>\n",
       "      <th>25%</th>\n",
       "      <td>12.362500</td>\n",
       "      <td>1.602500</td>\n",
       "      <td>2.210000</td>\n",
       "      <td>17.200000</td>\n",
       "      <td>88.000000</td>\n",
       "      <td>1.742500</td>\n",
       "      <td>1.205000</td>\n",
       "      <td>0.270000</td>\n",
       "      <td>1.250000</td>\n",
       "      <td>3.220000</td>\n",
       "      <td>0.782500</td>\n",
       "      <td>1.937500</td>\n",
       "      <td>500.500000</td>\n",
       "      <td>0.000000</td>\n",
       "    </tr>\n",
       "    <tr>\n",
       "      <th>50%</th>\n",
       "      <td>13.050000</td>\n",
       "      <td>1.865000</td>\n",
       "      <td>2.360000</td>\n",
       "      <td>19.500000</td>\n",
       "      <td>98.000000</td>\n",
       "      <td>2.355000</td>\n",
       "      <td>2.135000</td>\n",
       "      <td>0.340000</td>\n",
       "      <td>1.555000</td>\n",
       "      <td>4.690000</td>\n",
       "      <td>0.965000</td>\n",
       "      <td>2.780000</td>\n",
       "      <td>673.500000</td>\n",
       "      <td>1.000000</td>\n",
       "    </tr>\n",
       "    <tr>\n",
       "      <th>75%</th>\n",
       "      <td>13.677500</td>\n",
       "      <td>3.082500</td>\n",
       "      <td>2.557500</td>\n",
       "      <td>21.500000</td>\n",
       "      <td>107.000000</td>\n",
       "      <td>2.800000</td>\n",
       "      <td>2.875000</td>\n",
       "      <td>0.437500</td>\n",
       "      <td>1.950000</td>\n",
       "      <td>6.200000</td>\n",
       "      <td>1.120000</td>\n",
       "      <td>3.170000</td>\n",
       "      <td>985.000000</td>\n",
       "      <td>2.000000</td>\n",
       "    </tr>\n",
       "    <tr>\n",
       "      <th>max</th>\n",
       "      <td>14.830000</td>\n",
       "      <td>5.800000</td>\n",
       "      <td>3.230000</td>\n",
       "      <td>30.000000</td>\n",
       "      <td>162.000000</td>\n",
       "      <td>3.880000</td>\n",
       "      <td>5.080000</td>\n",
       "      <td>0.660000</td>\n",
       "      <td>3.580000</td>\n",
       "      <td>13.000000</td>\n",
       "      <td>1.710000</td>\n",
       "      <td>4.000000</td>\n",
       "      <td>1680.000000</td>\n",
       "      <td>2.000000</td>\n",
       "    </tr>\n",
       "  </tbody>\n",
       "</table>\n",
       "</div>"
      ],
      "text/plain": [
       "          alcohol  malic_acid         ash  alcalinity_of_ash   magnesium  \\\n",
       "count  178.000000  178.000000  178.000000         178.000000  178.000000   \n",
       "mean    13.000618    2.336348    2.366517          19.494944   99.741573   \n",
       "std      0.811827    1.117146    0.274344           3.339564   14.282484   \n",
       "min     11.030000    0.740000    1.360000          10.600000   70.000000   \n",
       "25%     12.362500    1.602500    2.210000          17.200000   88.000000   \n",
       "50%     13.050000    1.865000    2.360000          19.500000   98.000000   \n",
       "75%     13.677500    3.082500    2.557500          21.500000  107.000000   \n",
       "max     14.830000    5.800000    3.230000          30.000000  162.000000   \n",
       "\n",
       "       total_phenols  flavanoids  nonflavanoid_phenols  proanthocyanins  \\\n",
       "count     178.000000  178.000000            178.000000       178.000000   \n",
       "mean        2.295112    2.029270              0.361854         1.590899   \n",
       "std         0.625851    0.998859              0.124453         0.572359   \n",
       "min         0.980000    0.340000              0.130000         0.410000   \n",
       "25%         1.742500    1.205000              0.270000         1.250000   \n",
       "50%         2.355000    2.135000              0.340000         1.555000   \n",
       "75%         2.800000    2.875000              0.437500         1.950000   \n",
       "max         3.880000    5.080000              0.660000         3.580000   \n",
       "\n",
       "       color_intensity         hue  od280/od315_of_diluted_wines      proline  \\\n",
       "count       178.000000  178.000000                    178.000000   178.000000   \n",
       "mean          5.058090    0.957449                      2.611685   746.893258   \n",
       "std           2.318286    0.228572                      0.709990   314.907474   \n",
       "min           1.280000    0.480000                      1.270000   278.000000   \n",
       "25%           3.220000    0.782500                      1.937500   500.500000   \n",
       "50%           4.690000    0.965000                      2.780000   673.500000   \n",
       "75%           6.200000    1.120000                      3.170000   985.000000   \n",
       "max          13.000000    1.710000                      4.000000  1680.000000   \n",
       "\n",
       "           target  \n",
       "count  178.000000  \n",
       "mean     0.938202  \n",
       "std      0.775035  \n",
       "min      0.000000  \n",
       "25%      0.000000  \n",
       "50%      1.000000  \n",
       "75%      2.000000  \n",
       "max      2.000000  "
      ]
     },
     "metadata": {},
     "output_type": "display_data"
    }
   ],
   "source": [
    "# Cargar el dataset\n",
    "wine_data = load_wine()\n",
    "X = pd.DataFrame(wine_data.data, columns=wine_data.feature_names)\n",
    "y = pd.Series(wine_data.target, name='target')\n",
    "\n",
    "# Unir características y objetivo en un solo DataFrame para exploración\n",
    "df = pd.concat([X, y], axis=1)\n",
    "\n",
    "# Mapear los números del objetivo a nombres de clases para mayor claridad\n",
    "df['target_name'] = df['target'].map({0: 'Class_0', 1: 'Class_1', 2: 'Class_2'})\n",
    "\n",
    "print(\"Primeras 5 filas del dataset:\")\n",
    "display(df.head())\n",
    "\n",
    "print(\"\\nDescripción estadística de las características:\")\n",
    "display(df.describe())"
   ]
  },
  {
   "cell_type": "markdown",
   "metadata": {},
   "source": [
    "### Visualización con PCA\n",
    "\n",
    "Dado que tenemos 13 características, no podemos visualizarlas todas a la vez. Usaremos el Análisis de Componentes Principales (PCA) para reducir la dimensionalidad a 2 componentes y visualizar la separación de las clases."
   ]
  },
  {
   "cell_type": "code",
   "execution_count": 93,
   "metadata": {},
   "outputs": [
    {
     "data": {
      "application/vnd.plotly.v1+json": {
       "config": {
        "plotlyServerURL": "https://plot.ly"
       },
       "data": [
        {
         "hovertemplate": "target_name=Class_0<br>Primer Componente Principal=%{x}<br>Segundo Componente Principal=%{y}<extra></extra>",
         "legendgroup": "Class_0",
         "marker": {
          "color": "#636efa",
          "symbol": "circle"
         },
         "mode": "markers",
         "name": "Class_0",
         "orientation": "v",
         "showlegend": true,
         "type": "scatter",
         "x": {
          "bdata": "I41bprSICkBDmz7x+6wBQFrGcahIIgRAxTcXangODkDKJZg7fSTwP0dASofrZghAGhkfU7yXA0DrBNgJunkAQKuQfUNFFgRA59kZN24HBkA9LZgvgNYLQCrxOcd3E/w/AtmH8V7oAEDH7FsfTqoLQMQXqWxKQBFAKHPtggZxAkCawSgWKmABQKwjtpkvYv4/y+9ORvxVDEDz0Uj6Ga0AQDmpoMHG/ghAmsrES5di8T/IvvmPI0gEQO/Tf0vfUfo/9xuNLmov/D+Ynjteuq7vP/cToYOJZ/w/0n0260vE8z+0pCYu24EBQG6alt2CDAJAGY9cW3MABEDtxLV7VmsFQF9PwPmoDvo/0l87+Wtx/j8tGEaP85D2P/usyH4Sdv4/Fc9OTGUo9j/byfLBj/TxP9Qtxhn9CPg/4fnoWgg9BEBfxudfa7QEQJFzpFk0ZOU/oi5hQQORCECqymKi1ZTdP8Rg2JmRzwBAaSL3lbwt8j9+ooAqFNAFQNibTFMakgZABQ3UriwUAEB6OnAz8agFQJ3wK6cmuAlAAKFiVCbfBkBDPutLegsMQJB3XmxfzAFAre+48wctAUA6rv/QL8EDQCfCufGg7gVA8y6sR9JjAUBXiU5Xcx0JQA==",
          "dtype": "f8"
         },
         "xaxis": "x",
         "y": {
          "bdata": "O012RmwY9z+Mpq4eT1bVv5Cea4CYf/A/6QDItwwNBkBSRWFyp9XrP0vIgm+t+gBAKyzSpi/M8j88ffEOUL75P8b9JFjWYO0/mA/ryxJD6T/PCF9gW9b0P4J+60RRleM/XyiK5mKf5T9TsWBaDxfyP6xxqteOxABAI2HD18+Z+j/L/JVCUp4CQB+710AWGvo/4hWeXZElBECUxS/Va/rwPwnOwtZCLuk/OSl/43Pxzj9bxnDu3YK3v7UVCGRbheC/ds51CStM1L90Nr5j8hnuP4WkIo4l9eU/SC+YIZj9tr9L0SFP9BDmP3ezrSLTgcg/MXFKlHTa8z9GuV1hy4z3P8E5JucT/Ko/bah7+gMh+j+fxV5delXmP6tn5uV2nsY/siPq4pMT5T/pKKEYTDa9Pzi9A98vn+i/YfGcmRjZ/D897T3knfLoP0mmx7RHwcU/SXQ34KR+8j9bNUsM4SrVP7XSOAGkLbK/thllKQhv/D/NvUj3tA/zPwZRgoMmruQ/gDjsKdXz8z8Dv9n5Dgj8P9Y9mmL+X8U/WjEx71LZ5z9UKA0Ews35Px0QCimwAP4/0DqtQp1E8D8to+U3nkP1P6S3xJMa/PY/CDcAqStl8z+u/ZlNjLT7Pw==",
          "dtype": "f8"
         },
         "yaxis": "y"
        },
        {
         "hovertemplate": "target_name=Class_1<br>Primer Componente Principal=%{x}<br>Segundo Componente Principal=%{y}<extra></extra>",
         "legendgroup": "Class_1",
         "marker": {
          "color": "#EF553B",
          "symbol": "circle"
         },
         "mode": "markers",
         "name": "Class_1",
         "orientation": "v",
         "showlegend": true,
         "type": "scatter",
         "x": {
          "bdata": "3ZaFiPG27b9m8i+n/634v1MNlm5HYf2/Ndu+3WVXnz8DR8aO72YAQFg8t12BguO/OkXGnKrO7D9IZopW8fwBQOAinLYgecc/mgxQsH8C6r8hWno9JJz/P06S2DHMJ/m/Ts9BXN2F+j+gEIEnQDbnv5SDzfVwfwRACitRXzJS/T/1TIwNmcbrv0CuX+VQrtc/BgKdl2pR978mGIv69jT0P+N9dQLZEtg/KJwz19Ni6D+xL2KgoY3wP0SlTI4PrN+/V7qyN9NPBMBEEkVQ8brqP+XxN72DNuk/CXZnq5HR6b95rvM0fNvhv3o9B61+1/G/Xw+JPnvI4b+CHhEqrJb1v1Glq+keCPm/s9CVbr/r/r/sEzz5r+TnP2BTXW55o+4/l49c/dVZBEA7ymtCD2jhvwF15wUuf/A/l3FNFukDAkCmtyKrPpD2P+ehn6jrhuk/HV1Cj8OV4b/0yAZTV6HEv703E0gKHeW/1yrmqVUc2T/DdED+J1z8v4DYWqTscNe/sVcaXUbu+b9YhNqqECG1P2DyW1ydQPk/Q7jR0aa69j++hg4TRNbRv/a7P4mu2fS/EpW5WqpA3b/L58ysvaDfv1mxDaBO2t4/lbrC1FQv0L+PH0Y9RXO7vyGstU/PdgPA3od9h4ai4b/oW1Ob+6rnP89z3+WSYfU/nOWWLFnV8r/+Ys+S5Zbdv7tBWt+oT+8/1zx2sIXIuL9cu1VSlrSjP3JukxL2jfm/UrS4CzGx3r9gfN0mcq/8vw==",
          "dtype": "f8"
         },
         "xaxis": "x",
         "y": {
          "bdata": "/tbc6X+WCMBplAiCZBr2v1cnF906j+q/wq1zPl809L9OSwv97sz+v7v4aqtoh/6/dyiGefZx6L8m4vZySif+v1kfCpXLagPARiUHZc05zL/frnsc2XP2v6II0SfIUey/2q745WKd7r8JLSkKsQTxv1PMYdIXp9A/kK1QKyab9L8meiHshI0DwIlnh5QzOwHAj73wdjUi9r/XeSuizKrov87FTxDFbvC/y0RANhwAC8Ac9BtqGzb3v284+mfJDAPAZJngF7Bitr8thXWSJ5T3v991WfeHNgDAT+LLd+LeAcD0V9bI3/sCwO4suCYB1vy/jpCeWaRCBcCI2CzBqvEAwJeMwrGrov2/GD4agrHz+L8t4AdX4oACwIf7pEbJyQHATF7+a8WqxT8L1koWfpzXv69xAzlJhgTAcvXDOYLs9r89e7JZXFQBwAcG7Lv9AwPAKRaC1FNYAsBNZ21DuaHyv7X/gn2PcAXANs+h2TPKAMB/S1x5A3r7vxIs3ebVWgHAaCjpNHiw9b/JQ5oeK3MCwND2YBF+ZPe/j7Z5cfmw9r96pzhdm+P+v5HuC1joa+i/eAm9XsMnAsAxRBAaVAb/v5G4cM9p+Q7Awg0amGqSBsDbvBVc3dz+vxUgduw/HfS/JR2YovzGAcDzEX0lFov2vxopjxqsNtA/WXDSYjc/5b84iMxKBMnjv50eDYgOIfe/pCG5oEbhAMBRUmpYqET0v/8RPFuOVPO/dsLIyH0F/78h6Nh/lGfyvw==",
          "dtype": "f8"
         },
         "yaxis": "y"
        },
        {
         "hovertemplate": "target_name=Class_2<br>Primer Componente Principal=%{x}<br>Segundo Componente Principal=%{y}<extra></extra>",
         "legendgroup": "Class_2",
         "marker": {
          "color": "#00cc96",
          "symbol": "circle"
         },
         "mode": "markers",
         "name": "Class_2",
         "orientation": "v",
         "showlegend": true,
         "type": "scatter",
         "x": {
          "bdata": "rIc58s479b++EHQsdRMDwLQ+yHPafgfA8m3TUKssAcDvbWEifvUCwPM7Tl6/ggjAw9hBuHZTD8DzNaiE4H0PwKWpVNYTwQjAlI4c++r+AsCgQ15IAjsGwAoDkqTgSgLAz4BTz5PiB8DuJPQTZgADwOPvB/rNrQHAbsTWlUUBBcC65qLFXx8RwKVUMOE/qQzAiU/c0t10BsD3B6eXgDIHwJMsR4zekALA3FGFxA1mBMCLwlBKKwD9vxZYyrbGFAbA38pkKa/lBcAbuzl9xdYMwF2enRddHgfALX+nuSIjC8DH7nNhWsXwv2ErxGEzwvm/la4p2SElCcCvF/tg1+sBwKLhUDAJyAbACxpuiazHBMDf0Q1FKpgHwE5cjo6BPQzAilQP4rY/A8B/Tiz5w24HwBSdAIuIcwHA8xQf3iMMA8Bu+85dZLEJwAFuf6ZgbA3AGmB4UXW5A8CRcfhc1fYKwDYrtTrO0ATAg89iGDdsBcDOULBqnBgDwDMHgGaJqwnA",
          "dtype": "f8"
         },
         "xaxis": "x",
         "y": {
          "bdata": "ZN2eeVDPxT8EQhhSKfnXPyScs7oc49A/ZlC8N32R1z9iEXAeqGrdvzXzkd5QntY/J4zEKFzJwz/6raJmKBzlPybAoZRwU9Y/oZVBW86v0j8qMVfTAlvSP8BQmyQr19c/vvI9oVhP3z+AylQ9jt7eP/H/7zaTj/I/A6EVuWkF4j9BkPTCGsrkP4K6+Y79XPQ/+a1JCegg+T9H8FKyFVQAQLpb/3TW2QJA2+yXYb1cAEDRdTHgPHH4PynaC5CIHAFAdREhoJM72j9VmFXVkNb8P425UAiyzf4/EjiOGHL99D8oXRJY5x4MQEJr5YHLQANAC1L96AOf5z8d3KCwtM7yP89VE7ccy+E/rmqA0rtV5j/MZwyni+L4P6lO8dWoPew/QiD7OyW9BEDMyZt7ImT0P9ZQ8+HLngBAR6pTRZe1BECfD6ofdxTQv24WPBbAIOs/hbcBIOaMAUDrd/HM9boBQMxvIIacHfw/nMawSFIWBkCnhsdL92ACQEluK02/JgZA",
          "dtype": "f8"
         },
         "yaxis": "y"
        }
       ],
       "layout": {
        "legend": {
         "title": {
          "text": "target_name"
         },
         "tracegroupgap": 0
        },
        "template": {
         "data": {
          "bar": [
           {
            "error_x": {
             "color": "#2a3f5f"
            },
            "error_y": {
             "color": "#2a3f5f"
            },
            "marker": {
             "line": {
              "color": "white",
              "width": 0.5
             },
             "pattern": {
              "fillmode": "overlay",
              "size": 10,
              "solidity": 0.2
             }
            },
            "type": "bar"
           }
          ],
          "barpolar": [
           {
            "marker": {
             "line": {
              "color": "white",
              "width": 0.5
             },
             "pattern": {
              "fillmode": "overlay",
              "size": 10,
              "solidity": 0.2
             }
            },
            "type": "barpolar"
           }
          ],
          "carpet": [
           {
            "aaxis": {
             "endlinecolor": "#2a3f5f",
             "gridcolor": "#C8D4E3",
             "linecolor": "#C8D4E3",
             "minorgridcolor": "#C8D4E3",
             "startlinecolor": "#2a3f5f"
            },
            "baxis": {
             "endlinecolor": "#2a3f5f",
             "gridcolor": "#C8D4E3",
             "linecolor": "#C8D4E3",
             "minorgridcolor": "#C8D4E3",
             "startlinecolor": "#2a3f5f"
            },
            "type": "carpet"
           }
          ],
          "choropleth": [
           {
            "colorbar": {
             "outlinewidth": 0,
             "ticks": ""
            },
            "type": "choropleth"
           }
          ],
          "contour": [
           {
            "colorbar": {
             "outlinewidth": 0,
             "ticks": ""
            },
            "colorscale": [
             [
              0,
              "#0d0887"
             ],
             [
              0.1111111111111111,
              "#46039f"
             ],
             [
              0.2222222222222222,
              "#7201a8"
             ],
             [
              0.3333333333333333,
              "#9c179e"
             ],
             [
              0.4444444444444444,
              "#bd3786"
             ],
             [
              0.5555555555555556,
              "#d8576b"
             ],
             [
              0.6666666666666666,
              "#ed7953"
             ],
             [
              0.7777777777777778,
              "#fb9f3a"
             ],
             [
              0.8888888888888888,
              "#fdca26"
             ],
             [
              1,
              "#f0f921"
             ]
            ],
            "type": "contour"
           }
          ],
          "contourcarpet": [
           {
            "colorbar": {
             "outlinewidth": 0,
             "ticks": ""
            },
            "type": "contourcarpet"
           }
          ],
          "heatmap": [
           {
            "colorbar": {
             "outlinewidth": 0,
             "ticks": ""
            },
            "colorscale": [
             [
              0,
              "#0d0887"
             ],
             [
              0.1111111111111111,
              "#46039f"
             ],
             [
              0.2222222222222222,
              "#7201a8"
             ],
             [
              0.3333333333333333,
              "#9c179e"
             ],
             [
              0.4444444444444444,
              "#bd3786"
             ],
             [
              0.5555555555555556,
              "#d8576b"
             ],
             [
              0.6666666666666666,
              "#ed7953"
             ],
             [
              0.7777777777777778,
              "#fb9f3a"
             ],
             [
              0.8888888888888888,
              "#fdca26"
             ],
             [
              1,
              "#f0f921"
             ]
            ],
            "type": "heatmap"
           }
          ],
          "histogram": [
           {
            "marker": {
             "pattern": {
              "fillmode": "overlay",
              "size": 10,
              "solidity": 0.2
             }
            },
            "type": "histogram"
           }
          ],
          "histogram2d": [
           {
            "colorbar": {
             "outlinewidth": 0,
             "ticks": ""
            },
            "colorscale": [
             [
              0,
              "#0d0887"
             ],
             [
              0.1111111111111111,
              "#46039f"
             ],
             [
              0.2222222222222222,
              "#7201a8"
             ],
             [
              0.3333333333333333,
              "#9c179e"
             ],
             [
              0.4444444444444444,
              "#bd3786"
             ],
             [
              0.5555555555555556,
              "#d8576b"
             ],
             [
              0.6666666666666666,
              "#ed7953"
             ],
             [
              0.7777777777777778,
              "#fb9f3a"
             ],
             [
              0.8888888888888888,
              "#fdca26"
             ],
             [
              1,
              "#f0f921"
             ]
            ],
            "type": "histogram2d"
           }
          ],
          "histogram2dcontour": [
           {
            "colorbar": {
             "outlinewidth": 0,
             "ticks": ""
            },
            "colorscale": [
             [
              0,
              "#0d0887"
             ],
             [
              0.1111111111111111,
              "#46039f"
             ],
             [
              0.2222222222222222,
              "#7201a8"
             ],
             [
              0.3333333333333333,
              "#9c179e"
             ],
             [
              0.4444444444444444,
              "#bd3786"
             ],
             [
              0.5555555555555556,
              "#d8576b"
             ],
             [
              0.6666666666666666,
              "#ed7953"
             ],
             [
              0.7777777777777778,
              "#fb9f3a"
             ],
             [
              0.8888888888888888,
              "#fdca26"
             ],
             [
              1,
              "#f0f921"
             ]
            ],
            "type": "histogram2dcontour"
           }
          ],
          "mesh3d": [
           {
            "colorbar": {
             "outlinewidth": 0,
             "ticks": ""
            },
            "type": "mesh3d"
           }
          ],
          "parcoords": [
           {
            "line": {
             "colorbar": {
              "outlinewidth": 0,
              "ticks": ""
             }
            },
            "type": "parcoords"
           }
          ],
          "pie": [
           {
            "automargin": true,
            "type": "pie"
           }
          ],
          "scatter": [
           {
            "fillpattern": {
             "fillmode": "overlay",
             "size": 10,
             "solidity": 0.2
            },
            "type": "scatter"
           }
          ],
          "scatter3d": [
           {
            "line": {
             "colorbar": {
              "outlinewidth": 0,
              "ticks": ""
             }
            },
            "marker": {
             "colorbar": {
              "outlinewidth": 0,
              "ticks": ""
             }
            },
            "type": "scatter3d"
           }
          ],
          "scattercarpet": [
           {
            "marker": {
             "colorbar": {
              "outlinewidth": 0,
              "ticks": ""
             }
            },
            "type": "scattercarpet"
           }
          ],
          "scattergeo": [
           {
            "marker": {
             "colorbar": {
              "outlinewidth": 0,
              "ticks": ""
             }
            },
            "type": "scattergeo"
           }
          ],
          "scattergl": [
           {
            "marker": {
             "colorbar": {
              "outlinewidth": 0,
              "ticks": ""
             }
            },
            "type": "scattergl"
           }
          ],
          "scattermap": [
           {
            "marker": {
             "colorbar": {
              "outlinewidth": 0,
              "ticks": ""
             }
            },
            "type": "scattermap"
           }
          ],
          "scattermapbox": [
           {
            "marker": {
             "colorbar": {
              "outlinewidth": 0,
              "ticks": ""
             }
            },
            "type": "scattermapbox"
           }
          ],
          "scatterpolar": [
           {
            "marker": {
             "colorbar": {
              "outlinewidth": 0,
              "ticks": ""
             }
            },
            "type": "scatterpolar"
           }
          ],
          "scatterpolargl": [
           {
            "marker": {
             "colorbar": {
              "outlinewidth": 0,
              "ticks": ""
             }
            },
            "type": "scatterpolargl"
           }
          ],
          "scatterternary": [
           {
            "marker": {
             "colorbar": {
              "outlinewidth": 0,
              "ticks": ""
             }
            },
            "type": "scatterternary"
           }
          ],
          "surface": [
           {
            "colorbar": {
             "outlinewidth": 0,
             "ticks": ""
            },
            "colorscale": [
             [
              0,
              "#0d0887"
             ],
             [
              0.1111111111111111,
              "#46039f"
             ],
             [
              0.2222222222222222,
              "#7201a8"
             ],
             [
              0.3333333333333333,
              "#9c179e"
             ],
             [
              0.4444444444444444,
              "#bd3786"
             ],
             [
              0.5555555555555556,
              "#d8576b"
             ],
             [
              0.6666666666666666,
              "#ed7953"
             ],
             [
              0.7777777777777778,
              "#fb9f3a"
             ],
             [
              0.8888888888888888,
              "#fdca26"
             ],
             [
              1,
              "#f0f921"
             ]
            ],
            "type": "surface"
           }
          ],
          "table": [
           {
            "cells": {
             "fill": {
              "color": "#EBF0F8"
             },
             "line": {
              "color": "white"
             }
            },
            "header": {
             "fill": {
              "color": "#C8D4E3"
             },
             "line": {
              "color": "white"
             }
            },
            "type": "table"
           }
          ]
         },
         "layout": {
          "annotationdefaults": {
           "arrowcolor": "#2a3f5f",
           "arrowhead": 0,
           "arrowwidth": 1
          },
          "autotypenumbers": "strict",
          "coloraxis": {
           "colorbar": {
            "outlinewidth": 0,
            "ticks": ""
           }
          },
          "colorscale": {
           "diverging": [
            [
             0,
             "#8e0152"
            ],
            [
             0.1,
             "#c51b7d"
            ],
            [
             0.2,
             "#de77ae"
            ],
            [
             0.3,
             "#f1b6da"
            ],
            [
             0.4,
             "#fde0ef"
            ],
            [
             0.5,
             "#f7f7f7"
            ],
            [
             0.6,
             "#e6f5d0"
            ],
            [
             0.7,
             "#b8e186"
            ],
            [
             0.8,
             "#7fbc41"
            ],
            [
             0.9,
             "#4d9221"
            ],
            [
             1,
             "#276419"
            ]
           ],
           "sequential": [
            [
             0,
             "#0d0887"
            ],
            [
             0.1111111111111111,
             "#46039f"
            ],
            [
             0.2222222222222222,
             "#7201a8"
            ],
            [
             0.3333333333333333,
             "#9c179e"
            ],
            [
             0.4444444444444444,
             "#bd3786"
            ],
            [
             0.5555555555555556,
             "#d8576b"
            ],
            [
             0.6666666666666666,
             "#ed7953"
            ],
            [
             0.7777777777777778,
             "#fb9f3a"
            ],
            [
             0.8888888888888888,
             "#fdca26"
            ],
            [
             1,
             "#f0f921"
            ]
           ],
           "sequentialminus": [
            [
             0,
             "#0d0887"
            ],
            [
             0.1111111111111111,
             "#46039f"
            ],
            [
             0.2222222222222222,
             "#7201a8"
            ],
            [
             0.3333333333333333,
             "#9c179e"
            ],
            [
             0.4444444444444444,
             "#bd3786"
            ],
            [
             0.5555555555555556,
             "#d8576b"
            ],
            [
             0.6666666666666666,
             "#ed7953"
            ],
            [
             0.7777777777777778,
             "#fb9f3a"
            ],
            [
             0.8888888888888888,
             "#fdca26"
            ],
            [
             1,
             "#f0f921"
            ]
           ]
          },
          "colorway": [
           "#636efa",
           "#EF553B",
           "#00cc96",
           "#ab63fa",
           "#FFA15A",
           "#19d3f3",
           "#FF6692",
           "#B6E880",
           "#FF97FF",
           "#FECB52"
          ],
          "font": {
           "color": "#2a3f5f"
          },
          "geo": {
           "bgcolor": "white",
           "lakecolor": "white",
           "landcolor": "white",
           "showlakes": true,
           "showland": true,
           "subunitcolor": "#C8D4E3"
          },
          "hoverlabel": {
           "align": "left"
          },
          "hovermode": "closest",
          "mapbox": {
           "style": "light"
          },
          "paper_bgcolor": "white",
          "plot_bgcolor": "white",
          "polar": {
           "angularaxis": {
            "gridcolor": "#EBF0F8",
            "linecolor": "#EBF0F8",
            "ticks": ""
           },
           "bgcolor": "white",
           "radialaxis": {
            "gridcolor": "#EBF0F8",
            "linecolor": "#EBF0F8",
            "ticks": ""
           }
          },
          "scene": {
           "xaxis": {
            "backgroundcolor": "white",
            "gridcolor": "#DFE8F3",
            "gridwidth": 2,
            "linecolor": "#EBF0F8",
            "showbackground": true,
            "ticks": "",
            "zerolinecolor": "#EBF0F8"
           },
           "yaxis": {
            "backgroundcolor": "white",
            "gridcolor": "#DFE8F3",
            "gridwidth": 2,
            "linecolor": "#EBF0F8",
            "showbackground": true,
            "ticks": "",
            "zerolinecolor": "#EBF0F8"
           },
           "zaxis": {
            "backgroundcolor": "white",
            "gridcolor": "#DFE8F3",
            "gridwidth": 2,
            "linecolor": "#EBF0F8",
            "showbackground": true,
            "ticks": "",
            "zerolinecolor": "#EBF0F8"
           }
          },
          "shapedefaults": {
           "line": {
            "color": "#2a3f5f"
           }
          },
          "ternary": {
           "aaxis": {
            "gridcolor": "#DFE8F3",
            "linecolor": "#A2B1C6",
            "ticks": ""
           },
           "baxis": {
            "gridcolor": "#DFE8F3",
            "linecolor": "#A2B1C6",
            "ticks": ""
           },
           "bgcolor": "white",
           "caxis": {
            "gridcolor": "#DFE8F3",
            "linecolor": "#A2B1C6",
            "ticks": ""
           }
          },
          "title": {
           "x": 0.05
          },
          "xaxis": {
           "automargin": true,
           "gridcolor": "#EBF0F8",
           "linecolor": "#EBF0F8",
           "ticks": "",
           "title": {
            "standoff": 15
           },
           "zerolinecolor": "#EBF0F8",
           "zerolinewidth": 2
          },
          "yaxis": {
           "automargin": true,
           "gridcolor": "#EBF0F8",
           "linecolor": "#EBF0F8",
           "ticks": "",
           "title": {
            "standoff": 15
           },
           "zerolinecolor": "#EBF0F8",
           "zerolinewidth": 2
          }
         }
        },
        "title": {
         "text": "Visualización del Dataset Wine con PCA (2 Componentes)"
        },
        "xaxis": {
         "anchor": "y",
         "domain": [
          0,
          1
         ],
         "title": {
          "text": "Primer Componente Principal"
         }
        },
        "yaxis": {
         "anchor": "x",
         "domain": [
          0,
          1
         ],
         "title": {
          "text": "Segundo Componente Principal"
         }
        }
       }
      }
     },
     "metadata": {},
     "output_type": "display_data"
    }
   ],
   "source": [
    "# Primero, escalamos los datos para que PCA funcione correctamente\n",
    "scaler_pca = StandardScaler()\n",
    "X_scaled_pca = scaler_pca.fit_transform(X)\n",
    "\n",
    "# Aplicamos PCA para reducir a 2 dimensiones\n",
    "pca = PCA(n_components=2)\n",
    "X_pca = pca.fit_transform(X_scaled_pca)\n",
    "\n",
    "# Creamos un DataFrame para la visualización\n",
    "df_pca = pd.DataFrame(data=X_pca, columns=['PC1', 'PC2'])\n",
    "df_pca['target_name'] = df['target_name']\n",
    "\n",
    "# Gráfico interactivo con Plotly\n",
    "fig = px.scatter(df_pca, \n",
    "                 x='PC1', \n",
    "                 y='PC2', \n",
    "                 color='target_name', \n",
    "                 title='Visualización del Dataset Wine con PCA (2 Componentes)',\n",
    "                 labels={'PC1': 'Primer Componente Principal', 'PC2': 'Segundo Componente Principal'},\n",
    "                 template='plotly_white')\n",
    "\n",
    "fig.show()"
   ]
  },
  {
   "cell_type": "markdown",
   "metadata": {},
   "source": [
    "La visualización PCA nos muestra que las clases están razonablemente bien separadas, aunque con algo de superposición. Esto sugiere que los algoritmos de clasificación deberían poder encontrar patrones útiles."
   ]
  },
  {
   "cell_type": "markdown",
   "metadata": {},
   "source": [
    "## 3. Preparación de los Datos para el Modelado\n",
    "\n",
    "Ahora, dividiremos los datos en conjuntos de entrenamiento y prueba, y aplicaremos el escalado de características. El escalado es fundamental para k-NN y MLP, ya que son sensibles a las diferentes escalas de las variables."
   ]
  },
  {
   "cell_type": "code",
   "execution_count": 94,
   "metadata": {},
   "outputs": [
    {
     "name": "stdout",
     "output_type": "stream",
     "text": [
      "Tamaño del set de entrenamiento: 124 muestras\n",
      "Tamaño del set de prueba: 54 muestras\n"
     ]
    }
   ],
   "source": [
    "# Separar los datos originales (sin PCA) en entrenamiento y prueba\n",
    "X_train, X_test, y_train, y_test = train_test_split(X, y, test_size=0.3, random_state=42, stratify=y)\n",
    "\n",
    "# Inicializar el escalador\n",
    "scaler = StandardScaler()\n",
    "\n",
    "# Ajustar el escalador SÓLO con los datos de entrenamiento\n",
    "X_train_scaled = scaler.fit_transform(X_train)\n",
    "\n",
    "# Aplicar la misma transformación a los datos de prueba\n",
    "X_test_scaled = scaler.transform(X_test)\n",
    "\n",
    "print(f\"Tamaño del set de entrenamiento: {X_train_scaled.shape[0]} muestras\")\n",
    "print(f\"Tamaño del set de prueba: {X_test_scaled.shape[0]} muestras\")"
   ]
  },
  {
   "cell_type": "markdown",
   "metadata": {},
   "source": [
    "## 4. Implementación y Evaluación de Modelos"
   ]
  },
  {
   "cell_type": "markdown",
   "metadata": {},
   "source": [
    "### Modelo 1: k-Nearest Neighbors (k-NN)\n",
    "\n",
    "Implementaremos k-NN con un valor de `k` inicial (ej. k=5) y evaluaremos su rendimiento."
   ]
  },
  {
   "cell_type": "code",
   "execution_count": 95,
   "metadata": {},
   "outputs": [
    {
     "name": "stdout",
     "output_type": "stream",
     "text": [
      "------ Resultados de k-NN (k=5) ------\n",
      "Accuracy: 0.9444\n",
      "\n",
      "Matriz de Confusión:\n",
      "[[18  0  0]\n",
      " [ 0 18  3]\n",
      " [ 0  0 15]]\n",
      "\n",
      "Reporte de Clasificación:\n",
      "              precision    recall  f1-score   support\n",
      "\n",
      "           0       1.00      1.00      1.00        18\n",
      "           1       1.00      0.86      0.92        21\n",
      "           2       0.83      1.00      0.91        15\n",
      "\n",
      "    accuracy                           0.94        54\n",
      "   macro avg       0.94      0.95      0.94        54\n",
      "weighted avg       0.95      0.94      0.94        54\n",
      "\n",
      "0.030 segundos para entrenar el modelo k-NN\n"
     ]
    }
   ],
   "source": [
    "start = time.time()\n",
    "# Inicializar y entrenar el clasificador k-NN\n",
    "knn = KNeighborsClassifier(n_neighbors=5)\n",
    "knn.fit(X_train_scaled, y_train)\n",
    "\n",
    "# Realizar predicciones\n",
    "y_pred_knn = knn.predict(X_test_scaled)\n",
    "\n",
    "# Evaluar el modelo\n",
    "print(\"------ Resultados de k-NN (k=5) ------\")\n",
    "print(f\"Accuracy: {accuracy_score(y_test, y_pred_knn):.4f}\")\n",
    "print(\"\\nMatriz de Confusión:\")\n",
    "print(confusion_matrix(y_test, y_pred_knn))\n",
    "print(\"\\nReporte de Clasificación:\")\n",
    "print(classification_report(y_test, y_pred_knn))\n",
    "end = time.time()\n",
    "print(f\"{end - start:.3f} segundos para entrenar el modelo k-NN\")"
   ]
  },
  {
   "cell_type": "markdown",
   "metadata": {},
   "source": [
    "#### Desafío: Encontrar el `k` Óptimo\n",
    "\n",
    "El rendimiento de k-NN depende fuertemente del valor de `k`. Un `k` muy pequeño puede llevar a sobreajuste, mientras que un `k` muy grande puede simplificar demasiado el modelo. \n",
    "\n",
    "**Tu tarea:** Escribe un bucle que entrene y evalúe el modelo k-NN para un rango de valores de `k` (por ejemplo, de 1 a 30). Almacena la precisión (accuracy) para cada `k` y luego crea un gráfico para visualizar cómo cambia la precisión en función de `k`. ¿Cuál es el valor de `k` que da el mejor resultado en el conjunto de prueba?"
   ]
  },
  {
   "cell_type": "code",
   "execution_count": 96,
   "metadata": {},
   "outputs": [
    {
     "data": {
      "application/vnd.plotly.v1+json": {
       "config": {
        "plotlyServerURL": "https://plot.ly"
       },
       "data": [
        {
         "mode": "lines+markers",
         "type": "scatter",
         "x": [
          1,
          2,
          3,
          4,
          5,
          6,
          7,
          8,
          9,
          10,
          11,
          12,
          13,
          14,
          15,
          16,
          17,
          18,
          19,
          20,
          21,
          22,
          23,
          24,
          25,
          26,
          27,
          28,
          29,
          30
         ],
         "y": [
          0.9629629629629629,
          0.9259259259259259,
          0.9444444444444444,
          0.9444444444444444,
          0.9444444444444444,
          0.9444444444444444,
          0.9444444444444444,
          0.9629629629629629,
          0.9629629629629629,
          0.9629629629629629,
          0.9629629629629629,
          0.9629629629629629,
          0.9814814814814815,
          0.9629629629629629,
          0.9814814814814815,
          0.9629629629629629,
          0.9814814814814815,
          0.9814814814814815,
          0.9814814814814815,
          0.9814814814814815,
          1,
          1,
          0.9814814814814815,
          0.9629629629629629,
          0.9814814814814815,
          0.9814814814814815,
          0.9814814814814815,
          0.9814814814814815,
          0.9814814814814815,
          0.9814814814814815
         ]
        }
       ],
       "layout": {
        "template": {
         "data": {
          "bar": [
           {
            "error_x": {
             "color": "#2a3f5f"
            },
            "error_y": {
             "color": "#2a3f5f"
            },
            "marker": {
             "line": {
              "color": "white",
              "width": 0.5
             },
             "pattern": {
              "fillmode": "overlay",
              "size": 10,
              "solidity": 0.2
             }
            },
            "type": "bar"
           }
          ],
          "barpolar": [
           {
            "marker": {
             "line": {
              "color": "white",
              "width": 0.5
             },
             "pattern": {
              "fillmode": "overlay",
              "size": 10,
              "solidity": 0.2
             }
            },
            "type": "barpolar"
           }
          ],
          "carpet": [
           {
            "aaxis": {
             "endlinecolor": "#2a3f5f",
             "gridcolor": "#C8D4E3",
             "linecolor": "#C8D4E3",
             "minorgridcolor": "#C8D4E3",
             "startlinecolor": "#2a3f5f"
            },
            "baxis": {
             "endlinecolor": "#2a3f5f",
             "gridcolor": "#C8D4E3",
             "linecolor": "#C8D4E3",
             "minorgridcolor": "#C8D4E3",
             "startlinecolor": "#2a3f5f"
            },
            "type": "carpet"
           }
          ],
          "choropleth": [
           {
            "colorbar": {
             "outlinewidth": 0,
             "ticks": ""
            },
            "type": "choropleth"
           }
          ],
          "contour": [
           {
            "colorbar": {
             "outlinewidth": 0,
             "ticks": ""
            },
            "colorscale": [
             [
              0,
              "#0d0887"
             ],
             [
              0.1111111111111111,
              "#46039f"
             ],
             [
              0.2222222222222222,
              "#7201a8"
             ],
             [
              0.3333333333333333,
              "#9c179e"
             ],
             [
              0.4444444444444444,
              "#bd3786"
             ],
             [
              0.5555555555555556,
              "#d8576b"
             ],
             [
              0.6666666666666666,
              "#ed7953"
             ],
             [
              0.7777777777777778,
              "#fb9f3a"
             ],
             [
              0.8888888888888888,
              "#fdca26"
             ],
             [
              1,
              "#f0f921"
             ]
            ],
            "type": "contour"
           }
          ],
          "contourcarpet": [
           {
            "colorbar": {
             "outlinewidth": 0,
             "ticks": ""
            },
            "type": "contourcarpet"
           }
          ],
          "heatmap": [
           {
            "colorbar": {
             "outlinewidth": 0,
             "ticks": ""
            },
            "colorscale": [
             [
              0,
              "#0d0887"
             ],
             [
              0.1111111111111111,
              "#46039f"
             ],
             [
              0.2222222222222222,
              "#7201a8"
             ],
             [
              0.3333333333333333,
              "#9c179e"
             ],
             [
              0.4444444444444444,
              "#bd3786"
             ],
             [
              0.5555555555555556,
              "#d8576b"
             ],
             [
              0.6666666666666666,
              "#ed7953"
             ],
             [
              0.7777777777777778,
              "#fb9f3a"
             ],
             [
              0.8888888888888888,
              "#fdca26"
             ],
             [
              1,
              "#f0f921"
             ]
            ],
            "type": "heatmap"
           }
          ],
          "histogram": [
           {
            "marker": {
             "pattern": {
              "fillmode": "overlay",
              "size": 10,
              "solidity": 0.2
             }
            },
            "type": "histogram"
           }
          ],
          "histogram2d": [
           {
            "colorbar": {
             "outlinewidth": 0,
             "ticks": ""
            },
            "colorscale": [
             [
              0,
              "#0d0887"
             ],
             [
              0.1111111111111111,
              "#46039f"
             ],
             [
              0.2222222222222222,
              "#7201a8"
             ],
             [
              0.3333333333333333,
              "#9c179e"
             ],
             [
              0.4444444444444444,
              "#bd3786"
             ],
             [
              0.5555555555555556,
              "#d8576b"
             ],
             [
              0.6666666666666666,
              "#ed7953"
             ],
             [
              0.7777777777777778,
              "#fb9f3a"
             ],
             [
              0.8888888888888888,
              "#fdca26"
             ],
             [
              1,
              "#f0f921"
             ]
            ],
            "type": "histogram2d"
           }
          ],
          "histogram2dcontour": [
           {
            "colorbar": {
             "outlinewidth": 0,
             "ticks": ""
            },
            "colorscale": [
             [
              0,
              "#0d0887"
             ],
             [
              0.1111111111111111,
              "#46039f"
             ],
             [
              0.2222222222222222,
              "#7201a8"
             ],
             [
              0.3333333333333333,
              "#9c179e"
             ],
             [
              0.4444444444444444,
              "#bd3786"
             ],
             [
              0.5555555555555556,
              "#d8576b"
             ],
             [
              0.6666666666666666,
              "#ed7953"
             ],
             [
              0.7777777777777778,
              "#fb9f3a"
             ],
             [
              0.8888888888888888,
              "#fdca26"
             ],
             [
              1,
              "#f0f921"
             ]
            ],
            "type": "histogram2dcontour"
           }
          ],
          "mesh3d": [
           {
            "colorbar": {
             "outlinewidth": 0,
             "ticks": ""
            },
            "type": "mesh3d"
           }
          ],
          "parcoords": [
           {
            "line": {
             "colorbar": {
              "outlinewidth": 0,
              "ticks": ""
             }
            },
            "type": "parcoords"
           }
          ],
          "pie": [
           {
            "automargin": true,
            "type": "pie"
           }
          ],
          "scatter": [
           {
            "fillpattern": {
             "fillmode": "overlay",
             "size": 10,
             "solidity": 0.2
            },
            "type": "scatter"
           }
          ],
          "scatter3d": [
           {
            "line": {
             "colorbar": {
              "outlinewidth": 0,
              "ticks": ""
             }
            },
            "marker": {
             "colorbar": {
              "outlinewidth": 0,
              "ticks": ""
             }
            },
            "type": "scatter3d"
           }
          ],
          "scattercarpet": [
           {
            "marker": {
             "colorbar": {
              "outlinewidth": 0,
              "ticks": ""
             }
            },
            "type": "scattercarpet"
           }
          ],
          "scattergeo": [
           {
            "marker": {
             "colorbar": {
              "outlinewidth": 0,
              "ticks": ""
             }
            },
            "type": "scattergeo"
           }
          ],
          "scattergl": [
           {
            "marker": {
             "colorbar": {
              "outlinewidth": 0,
              "ticks": ""
             }
            },
            "type": "scattergl"
           }
          ],
          "scattermap": [
           {
            "marker": {
             "colorbar": {
              "outlinewidth": 0,
              "ticks": ""
             }
            },
            "type": "scattermap"
           }
          ],
          "scattermapbox": [
           {
            "marker": {
             "colorbar": {
              "outlinewidth": 0,
              "ticks": ""
             }
            },
            "type": "scattermapbox"
           }
          ],
          "scatterpolar": [
           {
            "marker": {
             "colorbar": {
              "outlinewidth": 0,
              "ticks": ""
             }
            },
            "type": "scatterpolar"
           }
          ],
          "scatterpolargl": [
           {
            "marker": {
             "colorbar": {
              "outlinewidth": 0,
              "ticks": ""
             }
            },
            "type": "scatterpolargl"
           }
          ],
          "scatterternary": [
           {
            "marker": {
             "colorbar": {
              "outlinewidth": 0,
              "ticks": ""
             }
            },
            "type": "scatterternary"
           }
          ],
          "surface": [
           {
            "colorbar": {
             "outlinewidth": 0,
             "ticks": ""
            },
            "colorscale": [
             [
              0,
              "#0d0887"
             ],
             [
              0.1111111111111111,
              "#46039f"
             ],
             [
              0.2222222222222222,
              "#7201a8"
             ],
             [
              0.3333333333333333,
              "#9c179e"
             ],
             [
              0.4444444444444444,
              "#bd3786"
             ],
             [
              0.5555555555555556,
              "#d8576b"
             ],
             [
              0.6666666666666666,
              "#ed7953"
             ],
             [
              0.7777777777777778,
              "#fb9f3a"
             ],
             [
              0.8888888888888888,
              "#fdca26"
             ],
             [
              1,
              "#f0f921"
             ]
            ],
            "type": "surface"
           }
          ],
          "table": [
           {
            "cells": {
             "fill": {
              "color": "#EBF0F8"
             },
             "line": {
              "color": "white"
             }
            },
            "header": {
             "fill": {
              "color": "#C8D4E3"
             },
             "line": {
              "color": "white"
             }
            },
            "type": "table"
           }
          ]
         },
         "layout": {
          "annotationdefaults": {
           "arrowcolor": "#2a3f5f",
           "arrowhead": 0,
           "arrowwidth": 1
          },
          "autotypenumbers": "strict",
          "coloraxis": {
           "colorbar": {
            "outlinewidth": 0,
            "ticks": ""
           }
          },
          "colorscale": {
           "diverging": [
            [
             0,
             "#8e0152"
            ],
            [
             0.1,
             "#c51b7d"
            ],
            [
             0.2,
             "#de77ae"
            ],
            [
             0.3,
             "#f1b6da"
            ],
            [
             0.4,
             "#fde0ef"
            ],
            [
             0.5,
             "#f7f7f7"
            ],
            [
             0.6,
             "#e6f5d0"
            ],
            [
             0.7,
             "#b8e186"
            ],
            [
             0.8,
             "#7fbc41"
            ],
            [
             0.9,
             "#4d9221"
            ],
            [
             1,
             "#276419"
            ]
           ],
           "sequential": [
            [
             0,
             "#0d0887"
            ],
            [
             0.1111111111111111,
             "#46039f"
            ],
            [
             0.2222222222222222,
             "#7201a8"
            ],
            [
             0.3333333333333333,
             "#9c179e"
            ],
            [
             0.4444444444444444,
             "#bd3786"
            ],
            [
             0.5555555555555556,
             "#d8576b"
            ],
            [
             0.6666666666666666,
             "#ed7953"
            ],
            [
             0.7777777777777778,
             "#fb9f3a"
            ],
            [
             0.8888888888888888,
             "#fdca26"
            ],
            [
             1,
             "#f0f921"
            ]
           ],
           "sequentialminus": [
            [
             0,
             "#0d0887"
            ],
            [
             0.1111111111111111,
             "#46039f"
            ],
            [
             0.2222222222222222,
             "#7201a8"
            ],
            [
             0.3333333333333333,
             "#9c179e"
            ],
            [
             0.4444444444444444,
             "#bd3786"
            ],
            [
             0.5555555555555556,
             "#d8576b"
            ],
            [
             0.6666666666666666,
             "#ed7953"
            ],
            [
             0.7777777777777778,
             "#fb9f3a"
            ],
            [
             0.8888888888888888,
             "#fdca26"
            ],
            [
             1,
             "#f0f921"
            ]
           ]
          },
          "colorway": [
           "#636efa",
           "#EF553B",
           "#00cc96",
           "#ab63fa",
           "#FFA15A",
           "#19d3f3",
           "#FF6692",
           "#B6E880",
           "#FF97FF",
           "#FECB52"
          ],
          "font": {
           "color": "#2a3f5f"
          },
          "geo": {
           "bgcolor": "white",
           "lakecolor": "white",
           "landcolor": "white",
           "showlakes": true,
           "showland": true,
           "subunitcolor": "#C8D4E3"
          },
          "hoverlabel": {
           "align": "left"
          },
          "hovermode": "closest",
          "mapbox": {
           "style": "light"
          },
          "paper_bgcolor": "white",
          "plot_bgcolor": "white",
          "polar": {
           "angularaxis": {
            "gridcolor": "#EBF0F8",
            "linecolor": "#EBF0F8",
            "ticks": ""
           },
           "bgcolor": "white",
           "radialaxis": {
            "gridcolor": "#EBF0F8",
            "linecolor": "#EBF0F8",
            "ticks": ""
           }
          },
          "scene": {
           "xaxis": {
            "backgroundcolor": "white",
            "gridcolor": "#DFE8F3",
            "gridwidth": 2,
            "linecolor": "#EBF0F8",
            "showbackground": true,
            "ticks": "",
            "zerolinecolor": "#EBF0F8"
           },
           "yaxis": {
            "backgroundcolor": "white",
            "gridcolor": "#DFE8F3",
            "gridwidth": 2,
            "linecolor": "#EBF0F8",
            "showbackground": true,
            "ticks": "",
            "zerolinecolor": "#EBF0F8"
           },
           "zaxis": {
            "backgroundcolor": "white",
            "gridcolor": "#DFE8F3",
            "gridwidth": 2,
            "linecolor": "#EBF0F8",
            "showbackground": true,
            "ticks": "",
            "zerolinecolor": "#EBF0F8"
           }
          },
          "shapedefaults": {
           "line": {
            "color": "#2a3f5f"
           }
          },
          "ternary": {
           "aaxis": {
            "gridcolor": "#DFE8F3",
            "linecolor": "#A2B1C6",
            "ticks": ""
           },
           "baxis": {
            "gridcolor": "#DFE8F3",
            "linecolor": "#A2B1C6",
            "ticks": ""
           },
           "bgcolor": "white",
           "caxis": {
            "gridcolor": "#DFE8F3",
            "linecolor": "#A2B1C6",
            "ticks": ""
           }
          },
          "title": {
           "x": 0.05
          },
          "xaxis": {
           "automargin": true,
           "gridcolor": "#EBF0F8",
           "linecolor": "#EBF0F8",
           "ticks": "",
           "title": {
            "standoff": 15
           },
           "zerolinecolor": "#EBF0F8",
           "zerolinewidth": 2
          },
          "yaxis": {
           "automargin": true,
           "gridcolor": "#EBF0F8",
           "linecolor": "#EBF0F8",
           "ticks": "",
           "title": {
            "standoff": 15
           },
           "zerolinecolor": "#EBF0F8",
           "zerolinewidth": 2
          }
         }
        },
        "title": {
         "text": "Accuracy de k-NN en función del número de vecinos (k)"
        },
        "xaxis": {
         "title": {
          "text": "Valor de k"
         }
        },
        "yaxis": {
         "title": {
          "text": "Accuracy en el conjunto de prueba"
         }
        }
       }
      }
     },
     "metadata": {},
     "output_type": "display_data"
    },
    {
     "name": "stdout",
     "output_type": "stream",
     "text": [
      "\n",
      "El valor óptimo de k es: 21 con una precisión de 1.0000\n"
     ]
    }
   ],
   "source": [
    "# Espacio para tu solución al desafío\n",
    "k_values = range(1, 31)\n",
    "accuracies = []\n",
    "\n",
    "for k in k_values:\n",
    "    knn_loop = KNeighborsClassifier(n_neighbors=k)\n",
    "    knn_loop.fit(X_train_scaled, y_train)\n",
    "    y_pred_loop = knn_loop.predict(X_test_scaled)\n",
    "    accuracies.append(accuracy_score(y_test, y_pred_loop))\n",
    "\n",
    "# Gráfico de k vs. Accuracy\n",
    "fig = go.Figure(data=go.Scatter(x=list(k_values), y=accuracies, mode='lines+markers'))\n",
    "fig.update_layout(\n",
    "    title='Accuracy de k-NN en función del número de vecinos (k)',\n",
    "    xaxis_title='Valor de k',\n",
    "    yaxis_title='Accuracy en el conjunto de prueba',\n",
    "    template='plotly_white'\n",
    ")\n",
    "fig.show()\n",
    "\n",
    "best_k = k_values[np.argmax(accuracies)]\n",
    "print(f\"\\nEl valor óptimo de k es: {best_k} con una precisión de {max(accuracies):.4f}\")"
   ]
  },
  {
   "cell_type": "markdown",
   "metadata": {},
   "source": [
    "### Modelo 2: Naive Bayes\n",
    "\n",
    "Ahora, aplicaremos el clasificador Naive Bayes Gaussiano. Esta variante es adecuada porque nuestras características son continuas y podemos asumir (ingenuamente) que siguen una distribución normal dentro de cada clase."
   ]
  },
  {
   "cell_type": "code",
   "execution_count": 97,
   "metadata": {},
   "outputs": [
    {
     "name": "stdout",
     "output_type": "stream",
     "text": [
      "------ Resultados de Naive Bayes Gaussiano ------\n",
      "Accuracy: 1.0000\n",
      "\n",
      "Matriz de Confusión:\n",
      "[[18  0  0]\n",
      " [ 0 21  0]\n",
      " [ 0  0 15]]\n",
      "\n",
      "Reporte de Clasificación:\n",
      "              precision    recall  f1-score   support\n",
      "\n",
      "           0       1.00      1.00      1.00        18\n",
      "           1       1.00      1.00      1.00        21\n",
      "           2       1.00      1.00      1.00        15\n",
      "\n",
      "    accuracy                           1.00        54\n",
      "   macro avg       1.00      1.00      1.00        54\n",
      "weighted avg       1.00      1.00      1.00        54\n",
      "\n",
      "0.027 segundos para entrenar el modelo Naive Bayes\n"
     ]
    }
   ],
   "source": [
    "start = time.time()\n",
    "# Inicializar y entrenar el clasificador Naive Bayes Gaussiano\n",
    "# Nota: Naive Bayes no es tan sensible al escalado, pero es buena práctica usar los datos escalados por consistencia.\n",
    "gnb = GaussianNB()\n",
    "gnb.fit(X_train_scaled, y_train)\n",
    "\n",
    "# Realizar predicciones\n",
    "y_pred_gnb = gnb.predict(X_test_scaled)\n",
    "\n",
    "# Evaluar el modelo\n",
    "print(\"------ Resultados de Naive Bayes Gaussiano ------\")\n",
    "print(f\"Accuracy: {accuracy_score(y_test, y_pred_gnb):.4f}\")\n",
    "print(\"\\nMatriz de Confusión:\")\n",
    "print(confusion_matrix(y_test, y_pred_gnb))\n",
    "print(\"\\nReporte de Clasificación:\")\n",
    "print(classification_report(y_test, y_pred_gnb))\n",
    "end = time.time()\n",
    "print(f\"{end - start:.3f} segundos para entrenar el modelo Naive Bayes\")"
   ]
  },
  {
   "cell_type": "markdown",
   "metadata": {},
   "source": [
    "### Modelo 3: Perceptrón Multicapa (MLP)\n",
    "\n",
    "Finalmente, implementaremos una red neuronal simple. Usaremos `MLPClassifier` de Scikit-learn, que es una implementación eficiente y fácil de usar. Definiremos una arquitectura simple con una capa oculta."
   ]
  },
  {
   "cell_type": "code",
   "execution_count": 98,
   "metadata": {},
   "outputs": [
    {
     "name": "stdout",
     "output_type": "stream",
     "text": [
      "------ Resultados del Perceptrón Multicapa (MLP) ------\n",
      "Accuracy: 1.0000\n",
      "\n",
      "Matriz de Confusión:\n",
      "[[18  0  0]\n",
      " [ 0 21  0]\n",
      " [ 0  0 15]]\n",
      "\n",
      "Reporte de Clasificación:\n",
      "              precision    recall  f1-score   support\n",
      "\n",
      "           0       1.00      1.00      1.00        18\n",
      "           1       1.00      1.00      1.00        21\n",
      "           2       1.00      1.00      1.00        15\n",
      "\n",
      "    accuracy                           1.00        54\n",
      "   macro avg       1.00      1.00      1.00        54\n",
      "weighted avg       1.00      1.00      1.00        54\n",
      "\n",
      "0.198 segundos para entrenar el modelo MLP\n"
     ]
    }
   ],
   "source": [
    "start = time.time()\n",
    "# Inicializar y entrenar el clasificador MLP\n",
    "# hidden_layer_sizes=(100,) significa una capa oculta con 100 neuronas.\n",
    "# max_iter=1000 para asegurar la convergencia.\n",
    "mlp = MLPClassifier(hidden_layer_sizes=(100,), max_iter=1000, random_state=42)\n",
    "mlp.fit(X_train_scaled, y_train)\n",
    "\n",
    "# Realizar predicciones\n",
    "y_pred_mlp = mlp.predict(X_test_scaled)\n",
    "\n",
    "# Evaluar el modelo\n",
    "print(\"------ Resultados del Perceptrón Multicapa (MLP) ------\")\n",
    "print(f\"Accuracy: {accuracy_score(y_test, y_pred_mlp):.4f}\")\n",
    "print(\"\\nMatriz de Confusión:\")\n",
    "print(confusion_matrix(y_test, y_pred_mlp))\n",
    "print(\"\\nReporte de Clasificación:\")\n",
    "print(classification_report(y_test, y_pred_mlp))\n",
    "end = time.time()\n",
    "print(f\"{end - start:.3f} segundos para entrenar el modelo MLP\")"
   ]
  },
  {
   "cell_type": "markdown",
   "metadata": {},
   "source": [
    "## 5. Comparación y Conclusiones\n",
    "\n",
    "En este caso particular, los tres modelos han obtenido una precisión muy alta, a menudo perfecta o casi perfecta en el conjunto de prueba. Esto se debe a que el dataset Wine es un problema relativamente \"fácil\" con clases bien separadas.\n",
    "\n",
    "* **k-NN** demostró ser muy efectivo, especialmente después de encontrar un buen valor para `k`.\n",
    "* **Naive Bayes** también funcionó excepcionalmente bien, lo que sugiere que, para este problema, el supuesto de independencia condicional no fue una limitación grave.\n",
    "* El **MLP** igualó el rendimiento de los otros modelos, mostrando su capacidad para resolver problemas de clasificación, aunque su entrenamiento es computacionalmente más costoso.\n",
    "\n",
    "En problemas del mundo real más complejos y con mayor superposición entre clases, las diferencias en el rendimiento de estos algoritmos suelen ser más pronunciadas. La elección del modelo dependerá de las características específicas del problema, la cantidad de datos disponibles y los recursos computacionales."
   ]
  },
  {
   "cell_type": "markdown",
   "metadata": {},
   "source": [
    "## 6. Ejercicios Adicionales\n",
    "\n",
    "Para solidificar tu comprensión, aquí tienes 10 ejercicios para explorar por tu cuenta.\n",
    "\n",
    "1.  **Cambiar el Dataset:** Carga el dataset `load_breast_cancer` de `sklearn.datasets`. Es un problema de clasificación binaria. Repite el análisis completo (EDA, preprocesamiento, modelado y comparación) para este nuevo dataset. ¿Qué modelo funciona mejor aquí?\n",
    "\n",
    "2. **Arquitectura del MLP:** Experimenta con diferentes arquitecturas para el `MLPClassifier`. Prueba con más capas ocultas (ej. `hidden_layer_sizes=(100, 50,)`) o con diferente número de neuronas por capa. ¿Puedes mejorar la precisión obtenida?\n",
    "\n",
    "3. **Métricas de Distancia en k-NN:** El `KNeighborsClassifier` tiene un parámetro `metric`. Por defecto es `'minkowski'` (que con p=2 es la distancia Euclidiana). Prueba a cambiarlo a `'manhattan'` (Distancia de Manhattan). ¿Cambia el rendimiento del modelo?\n",
    "\n",
    "4. **Robustez del `train_test_split`:** Cambia el valor de `random_state` en la función `train_test_split`. Repite el entrenamiento y evaluación de los tres modelos. ¿Son los resultados de precisión exactamente los mismos? ¿Qué nos dice esto sobre la evaluación de modelos?\n",
    "\n",
    "5. **Comparar con Regresión Logística:** Como un modelo de base adicional, importa `LogisticRegression` de `sklearn.linear_model`. Entrénalo y evalúalo en el dataset Wine. ¿Cómo se compara su rendimiento con los tres modelos de esta clase?"
   ]
  },
  {
   "cell_type": "markdown",
   "metadata": {},
   "source": [
    "---------------------\n",
    "\n",
    "#### **1. Cambiar el Dataset:** Carga el dataset `load_breast_cancer` de `sklearn.datasets`. Es un problema de clasificación binaria. Repite el análisis completo (EDA, preprocesamiento, modelado y comparación) para este nuevo dataset. ¿Qué modelo funciona mejor aquí?\n",
    "\n",
    "`Respuesta`:"
   ]
  },
  {
   "cell_type": "code",
   "execution_count": 99,
   "metadata": {},
   "outputs": [
    {
     "data": {
      "text/markdown": [
       "**Nombres de clases**: ['malignant' 'benign']"
      ],
      "text/plain": [
       "<IPython.core.display.Markdown object>"
      ]
     },
     "metadata": {},
     "output_type": "display_data"
    },
    {
     "data": {
      "text/markdown": [
       "\n",
       "**Primeras 5 filas del dataset de cáncer de mama**:"
      ],
      "text/plain": [
       "<IPython.core.display.Markdown object>"
      ]
     },
     "metadata": {},
     "output_type": "display_data"
    },
    {
     "data": {
      "text/html": [
       "<div>\n",
       "<style scoped>\n",
       "    .dataframe tbody tr th:only-of-type {\n",
       "        vertical-align: middle;\n",
       "    }\n",
       "\n",
       "    .dataframe tbody tr th {\n",
       "        vertical-align: top;\n",
       "    }\n",
       "\n",
       "    .dataframe thead th {\n",
       "        text-align: right;\n",
       "    }\n",
       "</style>\n",
       "<table border=\"1\" class=\"dataframe\">\n",
       "  <thead>\n",
       "    <tr style=\"text-align: right;\">\n",
       "      <th></th>\n",
       "      <th>mean radius</th>\n",
       "      <th>mean texture</th>\n",
       "      <th>mean perimeter</th>\n",
       "      <th>mean area</th>\n",
       "      <th>mean smoothness</th>\n",
       "      <th>mean compactness</th>\n",
       "      <th>mean concavity</th>\n",
       "      <th>mean concave points</th>\n",
       "      <th>mean symmetry</th>\n",
       "      <th>mean fractal dimension</th>\n",
       "      <th>...</th>\n",
       "      <th>worst texture</th>\n",
       "      <th>worst perimeter</th>\n",
       "      <th>worst area</th>\n",
       "      <th>worst smoothness</th>\n",
       "      <th>worst compactness</th>\n",
       "      <th>worst concavity</th>\n",
       "      <th>worst concave points</th>\n",
       "      <th>worst symmetry</th>\n",
       "      <th>worst fractal dimension</th>\n",
       "      <th>target</th>\n",
       "    </tr>\n",
       "  </thead>\n",
       "  <tbody>\n",
       "    <tr>\n",
       "      <th>0</th>\n",
       "      <td>17.99</td>\n",
       "      <td>10.38</td>\n",
       "      <td>122.80</td>\n",
       "      <td>1001.0</td>\n",
       "      <td>0.11840</td>\n",
       "      <td>0.27760</td>\n",
       "      <td>0.3001</td>\n",
       "      <td>0.14710</td>\n",
       "      <td>0.2419</td>\n",
       "      <td>0.07871</td>\n",
       "      <td>...</td>\n",
       "      <td>17.33</td>\n",
       "      <td>184.60</td>\n",
       "      <td>2019.0</td>\n",
       "      <td>0.1622</td>\n",
       "      <td>0.6656</td>\n",
       "      <td>0.7119</td>\n",
       "      <td>0.2654</td>\n",
       "      <td>0.4601</td>\n",
       "      <td>0.11890</td>\n",
       "      <td>0</td>\n",
       "    </tr>\n",
       "    <tr>\n",
       "      <th>1</th>\n",
       "      <td>20.57</td>\n",
       "      <td>17.77</td>\n",
       "      <td>132.90</td>\n",
       "      <td>1326.0</td>\n",
       "      <td>0.08474</td>\n",
       "      <td>0.07864</td>\n",
       "      <td>0.0869</td>\n",
       "      <td>0.07017</td>\n",
       "      <td>0.1812</td>\n",
       "      <td>0.05667</td>\n",
       "      <td>...</td>\n",
       "      <td>23.41</td>\n",
       "      <td>158.80</td>\n",
       "      <td>1956.0</td>\n",
       "      <td>0.1238</td>\n",
       "      <td>0.1866</td>\n",
       "      <td>0.2416</td>\n",
       "      <td>0.1860</td>\n",
       "      <td>0.2750</td>\n",
       "      <td>0.08902</td>\n",
       "      <td>0</td>\n",
       "    </tr>\n",
       "    <tr>\n",
       "      <th>2</th>\n",
       "      <td>19.69</td>\n",
       "      <td>21.25</td>\n",
       "      <td>130.00</td>\n",
       "      <td>1203.0</td>\n",
       "      <td>0.10960</td>\n",
       "      <td>0.15990</td>\n",
       "      <td>0.1974</td>\n",
       "      <td>0.12790</td>\n",
       "      <td>0.2069</td>\n",
       "      <td>0.05999</td>\n",
       "      <td>...</td>\n",
       "      <td>25.53</td>\n",
       "      <td>152.50</td>\n",
       "      <td>1709.0</td>\n",
       "      <td>0.1444</td>\n",
       "      <td>0.4245</td>\n",
       "      <td>0.4504</td>\n",
       "      <td>0.2430</td>\n",
       "      <td>0.3613</td>\n",
       "      <td>0.08758</td>\n",
       "      <td>0</td>\n",
       "    </tr>\n",
       "    <tr>\n",
       "      <th>3</th>\n",
       "      <td>11.42</td>\n",
       "      <td>20.38</td>\n",
       "      <td>77.58</td>\n",
       "      <td>386.1</td>\n",
       "      <td>0.14250</td>\n",
       "      <td>0.28390</td>\n",
       "      <td>0.2414</td>\n",
       "      <td>0.10520</td>\n",
       "      <td>0.2597</td>\n",
       "      <td>0.09744</td>\n",
       "      <td>...</td>\n",
       "      <td>26.50</td>\n",
       "      <td>98.87</td>\n",
       "      <td>567.7</td>\n",
       "      <td>0.2098</td>\n",
       "      <td>0.8663</td>\n",
       "      <td>0.6869</td>\n",
       "      <td>0.2575</td>\n",
       "      <td>0.6638</td>\n",
       "      <td>0.17300</td>\n",
       "      <td>0</td>\n",
       "    </tr>\n",
       "    <tr>\n",
       "      <th>4</th>\n",
       "      <td>20.29</td>\n",
       "      <td>14.34</td>\n",
       "      <td>135.10</td>\n",
       "      <td>1297.0</td>\n",
       "      <td>0.10030</td>\n",
       "      <td>0.13280</td>\n",
       "      <td>0.1980</td>\n",
       "      <td>0.10430</td>\n",
       "      <td>0.1809</td>\n",
       "      <td>0.05883</td>\n",
       "      <td>...</td>\n",
       "      <td>16.67</td>\n",
       "      <td>152.20</td>\n",
       "      <td>1575.0</td>\n",
       "      <td>0.1374</td>\n",
       "      <td>0.2050</td>\n",
       "      <td>0.4000</td>\n",
       "      <td>0.1625</td>\n",
       "      <td>0.2364</td>\n",
       "      <td>0.07678</td>\n",
       "      <td>0</td>\n",
       "    </tr>\n",
       "  </tbody>\n",
       "</table>\n",
       "<p>5 rows × 31 columns</p>\n",
       "</div>"
      ],
      "text/plain": [
       "   mean radius  mean texture  mean perimeter  mean area  mean smoothness  \\\n",
       "0        17.99         10.38          122.80     1001.0          0.11840   \n",
       "1        20.57         17.77          132.90     1326.0          0.08474   \n",
       "2        19.69         21.25          130.00     1203.0          0.10960   \n",
       "3        11.42         20.38           77.58      386.1          0.14250   \n",
       "4        20.29         14.34          135.10     1297.0          0.10030   \n",
       "\n",
       "   mean compactness  mean concavity  mean concave points  mean symmetry  \\\n",
       "0           0.27760          0.3001              0.14710         0.2419   \n",
       "1           0.07864          0.0869              0.07017         0.1812   \n",
       "2           0.15990          0.1974              0.12790         0.2069   \n",
       "3           0.28390          0.2414              0.10520         0.2597   \n",
       "4           0.13280          0.1980              0.10430         0.1809   \n",
       "\n",
       "   mean fractal dimension  ...  worst texture  worst perimeter  worst area  \\\n",
       "0                 0.07871  ...          17.33           184.60      2019.0   \n",
       "1                 0.05667  ...          23.41           158.80      1956.0   \n",
       "2                 0.05999  ...          25.53           152.50      1709.0   \n",
       "3                 0.09744  ...          26.50            98.87       567.7   \n",
       "4                 0.05883  ...          16.67           152.20      1575.0   \n",
       "\n",
       "   worst smoothness  worst compactness  worst concavity  worst concave points  \\\n",
       "0            0.1622             0.6656           0.7119                0.2654   \n",
       "1            0.1238             0.1866           0.2416                0.1860   \n",
       "2            0.1444             0.4245           0.4504                0.2430   \n",
       "3            0.2098             0.8663           0.6869                0.2575   \n",
       "4            0.1374             0.2050           0.4000                0.1625   \n",
       "\n",
       "   worst symmetry  worst fractal dimension  target  \n",
       "0          0.4601                  0.11890       0  \n",
       "1          0.2750                  0.08902       0  \n",
       "2          0.3613                  0.08758       0  \n",
       "3          0.6638                  0.17300       0  \n",
       "4          0.2364                  0.07678       0  \n",
       "\n",
       "[5 rows x 31 columns]"
      ]
     },
     "metadata": {},
     "output_type": "display_data"
    },
    {
     "data": {
      "text/markdown": [
       "\n",
       "**Resumen estadístico del dataset de cáncer de mama**:"
      ],
      "text/plain": [
       "<IPython.core.display.Markdown object>"
      ]
     },
     "metadata": {},
     "output_type": "display_data"
    },
    {
     "data": {
      "text/html": [
       "<div>\n",
       "<style scoped>\n",
       "    .dataframe tbody tr th:only-of-type {\n",
       "        vertical-align: middle;\n",
       "    }\n",
       "\n",
       "    .dataframe tbody tr th {\n",
       "        vertical-align: top;\n",
       "    }\n",
       "\n",
       "    .dataframe thead th {\n",
       "        text-align: right;\n",
       "    }\n",
       "</style>\n",
       "<table border=\"1\" class=\"dataframe\">\n",
       "  <thead>\n",
       "    <tr style=\"text-align: right;\">\n",
       "      <th></th>\n",
       "      <th>mean radius</th>\n",
       "      <th>mean texture</th>\n",
       "      <th>mean perimeter</th>\n",
       "      <th>mean area</th>\n",
       "      <th>mean smoothness</th>\n",
       "      <th>mean compactness</th>\n",
       "      <th>mean concavity</th>\n",
       "      <th>mean concave points</th>\n",
       "      <th>mean symmetry</th>\n",
       "      <th>mean fractal dimension</th>\n",
       "      <th>...</th>\n",
       "      <th>worst texture</th>\n",
       "      <th>worst perimeter</th>\n",
       "      <th>worst area</th>\n",
       "      <th>worst smoothness</th>\n",
       "      <th>worst compactness</th>\n",
       "      <th>worst concavity</th>\n",
       "      <th>worst concave points</th>\n",
       "      <th>worst symmetry</th>\n",
       "      <th>worst fractal dimension</th>\n",
       "      <th>target</th>\n",
       "    </tr>\n",
       "  </thead>\n",
       "  <tbody>\n",
       "    <tr>\n",
       "      <th>count</th>\n",
       "      <td>569.000000</td>\n",
       "      <td>569.000000</td>\n",
       "      <td>569.000000</td>\n",
       "      <td>569.000000</td>\n",
       "      <td>569.000000</td>\n",
       "      <td>569.000000</td>\n",
       "      <td>569.000000</td>\n",
       "      <td>569.000000</td>\n",
       "      <td>569.000000</td>\n",
       "      <td>569.000000</td>\n",
       "      <td>...</td>\n",
       "      <td>569.000000</td>\n",
       "      <td>569.000000</td>\n",
       "      <td>569.000000</td>\n",
       "      <td>569.000000</td>\n",
       "      <td>569.000000</td>\n",
       "      <td>569.000000</td>\n",
       "      <td>569.000000</td>\n",
       "      <td>569.000000</td>\n",
       "      <td>569.000000</td>\n",
       "      <td>569.000000</td>\n",
       "    </tr>\n",
       "    <tr>\n",
       "      <th>mean</th>\n",
       "      <td>14.127292</td>\n",
       "      <td>19.289649</td>\n",
       "      <td>91.969033</td>\n",
       "      <td>654.889104</td>\n",
       "      <td>0.096360</td>\n",
       "      <td>0.104341</td>\n",
       "      <td>0.088799</td>\n",
       "      <td>0.048919</td>\n",
       "      <td>0.181162</td>\n",
       "      <td>0.062798</td>\n",
       "      <td>...</td>\n",
       "      <td>25.677223</td>\n",
       "      <td>107.261213</td>\n",
       "      <td>880.583128</td>\n",
       "      <td>0.132369</td>\n",
       "      <td>0.254265</td>\n",
       "      <td>0.272188</td>\n",
       "      <td>0.114606</td>\n",
       "      <td>0.290076</td>\n",
       "      <td>0.083946</td>\n",
       "      <td>0.627417</td>\n",
       "    </tr>\n",
       "    <tr>\n",
       "      <th>std</th>\n",
       "      <td>3.524049</td>\n",
       "      <td>4.301036</td>\n",
       "      <td>24.298981</td>\n",
       "      <td>351.914129</td>\n",
       "      <td>0.014064</td>\n",
       "      <td>0.052813</td>\n",
       "      <td>0.079720</td>\n",
       "      <td>0.038803</td>\n",
       "      <td>0.027414</td>\n",
       "      <td>0.007060</td>\n",
       "      <td>...</td>\n",
       "      <td>6.146258</td>\n",
       "      <td>33.602542</td>\n",
       "      <td>569.356993</td>\n",
       "      <td>0.022832</td>\n",
       "      <td>0.157336</td>\n",
       "      <td>0.208624</td>\n",
       "      <td>0.065732</td>\n",
       "      <td>0.061867</td>\n",
       "      <td>0.018061</td>\n",
       "      <td>0.483918</td>\n",
       "    </tr>\n",
       "    <tr>\n",
       "      <th>min</th>\n",
       "      <td>6.981000</td>\n",
       "      <td>9.710000</td>\n",
       "      <td>43.790000</td>\n",
       "      <td>143.500000</td>\n",
       "      <td>0.052630</td>\n",
       "      <td>0.019380</td>\n",
       "      <td>0.000000</td>\n",
       "      <td>0.000000</td>\n",
       "      <td>0.106000</td>\n",
       "      <td>0.049960</td>\n",
       "      <td>...</td>\n",
       "      <td>12.020000</td>\n",
       "      <td>50.410000</td>\n",
       "      <td>185.200000</td>\n",
       "      <td>0.071170</td>\n",
       "      <td>0.027290</td>\n",
       "      <td>0.000000</td>\n",
       "      <td>0.000000</td>\n",
       "      <td>0.156500</td>\n",
       "      <td>0.055040</td>\n",
       "      <td>0.000000</td>\n",
       "    </tr>\n",
       "    <tr>\n",
       "      <th>25%</th>\n",
       "      <td>11.700000</td>\n",
       "      <td>16.170000</td>\n",
       "      <td>75.170000</td>\n",
       "      <td>420.300000</td>\n",
       "      <td>0.086370</td>\n",
       "      <td>0.064920</td>\n",
       "      <td>0.029560</td>\n",
       "      <td>0.020310</td>\n",
       "      <td>0.161900</td>\n",
       "      <td>0.057700</td>\n",
       "      <td>...</td>\n",
       "      <td>21.080000</td>\n",
       "      <td>84.110000</td>\n",
       "      <td>515.300000</td>\n",
       "      <td>0.116600</td>\n",
       "      <td>0.147200</td>\n",
       "      <td>0.114500</td>\n",
       "      <td>0.064930</td>\n",
       "      <td>0.250400</td>\n",
       "      <td>0.071460</td>\n",
       "      <td>0.000000</td>\n",
       "    </tr>\n",
       "    <tr>\n",
       "      <th>50%</th>\n",
       "      <td>13.370000</td>\n",
       "      <td>18.840000</td>\n",
       "      <td>86.240000</td>\n",
       "      <td>551.100000</td>\n",
       "      <td>0.095870</td>\n",
       "      <td>0.092630</td>\n",
       "      <td>0.061540</td>\n",
       "      <td>0.033500</td>\n",
       "      <td>0.179200</td>\n",
       "      <td>0.061540</td>\n",
       "      <td>...</td>\n",
       "      <td>25.410000</td>\n",
       "      <td>97.660000</td>\n",
       "      <td>686.500000</td>\n",
       "      <td>0.131300</td>\n",
       "      <td>0.211900</td>\n",
       "      <td>0.226700</td>\n",
       "      <td>0.099930</td>\n",
       "      <td>0.282200</td>\n",
       "      <td>0.080040</td>\n",
       "      <td>1.000000</td>\n",
       "    </tr>\n",
       "    <tr>\n",
       "      <th>75%</th>\n",
       "      <td>15.780000</td>\n",
       "      <td>21.800000</td>\n",
       "      <td>104.100000</td>\n",
       "      <td>782.700000</td>\n",
       "      <td>0.105300</td>\n",
       "      <td>0.130400</td>\n",
       "      <td>0.130700</td>\n",
       "      <td>0.074000</td>\n",
       "      <td>0.195700</td>\n",
       "      <td>0.066120</td>\n",
       "      <td>...</td>\n",
       "      <td>29.720000</td>\n",
       "      <td>125.400000</td>\n",
       "      <td>1084.000000</td>\n",
       "      <td>0.146000</td>\n",
       "      <td>0.339100</td>\n",
       "      <td>0.382900</td>\n",
       "      <td>0.161400</td>\n",
       "      <td>0.317900</td>\n",
       "      <td>0.092080</td>\n",
       "      <td>1.000000</td>\n",
       "    </tr>\n",
       "    <tr>\n",
       "      <th>max</th>\n",
       "      <td>28.110000</td>\n",
       "      <td>39.280000</td>\n",
       "      <td>188.500000</td>\n",
       "      <td>2501.000000</td>\n",
       "      <td>0.163400</td>\n",
       "      <td>0.345400</td>\n",
       "      <td>0.426800</td>\n",
       "      <td>0.201200</td>\n",
       "      <td>0.304000</td>\n",
       "      <td>0.097440</td>\n",
       "      <td>...</td>\n",
       "      <td>49.540000</td>\n",
       "      <td>251.200000</td>\n",
       "      <td>4254.000000</td>\n",
       "      <td>0.222600</td>\n",
       "      <td>1.058000</td>\n",
       "      <td>1.252000</td>\n",
       "      <td>0.291000</td>\n",
       "      <td>0.663800</td>\n",
       "      <td>0.207500</td>\n",
       "      <td>1.000000</td>\n",
       "    </tr>\n",
       "  </tbody>\n",
       "</table>\n",
       "<p>8 rows × 31 columns</p>\n",
       "</div>"
      ],
      "text/plain": [
       "       mean radius  mean texture  mean perimeter    mean area  \\\n",
       "count   569.000000    569.000000      569.000000   569.000000   \n",
       "mean     14.127292     19.289649       91.969033   654.889104   \n",
       "std       3.524049      4.301036       24.298981   351.914129   \n",
       "min       6.981000      9.710000       43.790000   143.500000   \n",
       "25%      11.700000     16.170000       75.170000   420.300000   \n",
       "50%      13.370000     18.840000       86.240000   551.100000   \n",
       "75%      15.780000     21.800000      104.100000   782.700000   \n",
       "max      28.110000     39.280000      188.500000  2501.000000   \n",
       "\n",
       "       mean smoothness  mean compactness  mean concavity  mean concave points  \\\n",
       "count       569.000000        569.000000      569.000000           569.000000   \n",
       "mean          0.096360          0.104341        0.088799             0.048919   \n",
       "std           0.014064          0.052813        0.079720             0.038803   \n",
       "min           0.052630          0.019380        0.000000             0.000000   \n",
       "25%           0.086370          0.064920        0.029560             0.020310   \n",
       "50%           0.095870          0.092630        0.061540             0.033500   \n",
       "75%           0.105300          0.130400        0.130700             0.074000   \n",
       "max           0.163400          0.345400        0.426800             0.201200   \n",
       "\n",
       "       mean symmetry  mean fractal dimension  ...  worst texture  \\\n",
       "count     569.000000              569.000000  ...     569.000000   \n",
       "mean        0.181162                0.062798  ...      25.677223   \n",
       "std         0.027414                0.007060  ...       6.146258   \n",
       "min         0.106000                0.049960  ...      12.020000   \n",
       "25%         0.161900                0.057700  ...      21.080000   \n",
       "50%         0.179200                0.061540  ...      25.410000   \n",
       "75%         0.195700                0.066120  ...      29.720000   \n",
       "max         0.304000                0.097440  ...      49.540000   \n",
       "\n",
       "       worst perimeter   worst area  worst smoothness  worst compactness  \\\n",
       "count       569.000000   569.000000        569.000000         569.000000   \n",
       "mean        107.261213   880.583128          0.132369           0.254265   \n",
       "std          33.602542   569.356993          0.022832           0.157336   \n",
       "min          50.410000   185.200000          0.071170           0.027290   \n",
       "25%          84.110000   515.300000          0.116600           0.147200   \n",
       "50%          97.660000   686.500000          0.131300           0.211900   \n",
       "75%         125.400000  1084.000000          0.146000           0.339100   \n",
       "max         251.200000  4254.000000          0.222600           1.058000   \n",
       "\n",
       "       worst concavity  worst concave points  worst symmetry  \\\n",
       "count       569.000000            569.000000      569.000000   \n",
       "mean          0.272188              0.114606        0.290076   \n",
       "std           0.208624              0.065732        0.061867   \n",
       "min           0.000000              0.000000        0.156500   \n",
       "25%           0.114500              0.064930        0.250400   \n",
       "50%           0.226700              0.099930        0.282200   \n",
       "75%           0.382900              0.161400        0.317900   \n",
       "max           1.252000              0.291000        0.663800   \n",
       "\n",
       "       worst fractal dimension      target  \n",
       "count               569.000000  569.000000  \n",
       "mean                  0.083946    0.627417  \n",
       "std                   0.018061    0.483918  \n",
       "min                   0.055040    0.000000  \n",
       "25%                   0.071460    0.000000  \n",
       "50%                   0.080040    1.000000  \n",
       "75%                   0.092080    1.000000  \n",
       "max                   0.207500    1.000000  \n",
       "\n",
       "[8 rows x 31 columns]"
      ]
     },
     "metadata": {},
     "output_type": "display_data"
    },
    {
     "data": {
      "application/vnd.plotly.v1+json": {
       "config": {
        "plotlyServerURL": "https://plot.ly"
       },
       "data": [
        {
         "hovertemplate": "target_name=Maligno<br>Primer Componente Principal=%{x}<br>Segundo Componente Principal=%{y}<extra></extra>",
         "legendgroup": "Maligno",
         "marker": {
          "color": "#636efa",
          "symbol": "circle"
         },
         "mode": "markers",
         "name": "Maligno",
         "orientation": "v",
         "showlegend": true,
         "type": "scatter",
         "x": {
          "bdata": "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",
          "dtype": "f8"
         },
         "xaxis": "x",
         "y": {
          "bdata": "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",
          "dtype": "f8"
         },
         "yaxis": "y"
        },
        {
         "hovertemplate": "target_name=Benigno<br>Primer Componente Principal=%{x}<br>Segundo Componente Principal=%{y}<extra></extra>",
         "legendgroup": "Benigno",
         "marker": {
          "color": "#EF553B",
          "symbol": "circle"
         },
         "mode": "markers",
         "name": "Benigno",
         "orientation": "v",
         "showlegend": true,
         "type": "scatter",
         "x": {
          "bdata": "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",
          "dtype": "f8"
         },
         "xaxis": "x",
         "y": {
          "bdata": "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",
          "dtype": "f8"
         },
         "yaxis": "y"
        }
       ],
       "layout": {
        "legend": {
         "title": {
          "text": "target_name"
         },
         "tracegroupgap": 0
        },
        "template": {
         "data": {
          "bar": [
           {
            "error_x": {
             "color": "#2a3f5f"
            },
            "error_y": {
             "color": "#2a3f5f"
            },
            "marker": {
             "line": {
              "color": "white",
              "width": 0.5
             },
             "pattern": {
              "fillmode": "overlay",
              "size": 10,
              "solidity": 0.2
             }
            },
            "type": "bar"
           }
          ],
          "barpolar": [
           {
            "marker": {
             "line": {
              "color": "white",
              "width": 0.5
             },
             "pattern": {
              "fillmode": "overlay",
              "size": 10,
              "solidity": 0.2
             }
            },
            "type": "barpolar"
           }
          ],
          "carpet": [
           {
            "aaxis": {
             "endlinecolor": "#2a3f5f",
             "gridcolor": "#C8D4E3",
             "linecolor": "#C8D4E3",
             "minorgridcolor": "#C8D4E3",
             "startlinecolor": "#2a3f5f"
            },
            "baxis": {
             "endlinecolor": "#2a3f5f",
             "gridcolor": "#C8D4E3",
             "linecolor": "#C8D4E3",
             "minorgridcolor": "#C8D4E3",
             "startlinecolor": "#2a3f5f"
            },
            "type": "carpet"
           }
          ],
          "choropleth": [
           {
            "colorbar": {
             "outlinewidth": 0,
             "ticks": ""
            },
            "type": "choropleth"
           }
          ],
          "contour": [
           {
            "colorbar": {
             "outlinewidth": 0,
             "ticks": ""
            },
            "colorscale": [
             [
              0,
              "#0d0887"
             ],
             [
              0.1111111111111111,
              "#46039f"
             ],
             [
              0.2222222222222222,
              "#7201a8"
             ],
             [
              0.3333333333333333,
              "#9c179e"
             ],
             [
              0.4444444444444444,
              "#bd3786"
             ],
             [
              0.5555555555555556,
              "#d8576b"
             ],
             [
              0.6666666666666666,
              "#ed7953"
             ],
             [
              0.7777777777777778,
              "#fb9f3a"
             ],
             [
              0.8888888888888888,
              "#fdca26"
             ],
             [
              1,
              "#f0f921"
             ]
            ],
            "type": "contour"
           }
          ],
          "contourcarpet": [
           {
            "colorbar": {
             "outlinewidth": 0,
             "ticks": ""
            },
            "type": "contourcarpet"
           }
          ],
          "heatmap": [
           {
            "colorbar": {
             "outlinewidth": 0,
             "ticks": ""
            },
            "colorscale": [
             [
              0,
              "#0d0887"
             ],
             [
              0.1111111111111111,
              "#46039f"
             ],
             [
              0.2222222222222222,
              "#7201a8"
             ],
             [
              0.3333333333333333,
              "#9c179e"
             ],
             [
              0.4444444444444444,
              "#bd3786"
             ],
             [
              0.5555555555555556,
              "#d8576b"
             ],
             [
              0.6666666666666666,
              "#ed7953"
             ],
             [
              0.7777777777777778,
              "#fb9f3a"
             ],
             [
              0.8888888888888888,
              "#fdca26"
             ],
             [
              1,
              "#f0f921"
             ]
            ],
            "type": "heatmap"
           }
          ],
          "histogram": [
           {
            "marker": {
             "pattern": {
              "fillmode": "overlay",
              "size": 10,
              "solidity": 0.2
             }
            },
            "type": "histogram"
           }
          ],
          "histogram2d": [
           {
            "colorbar": {
             "outlinewidth": 0,
             "ticks": ""
            },
            "colorscale": [
             [
              0,
              "#0d0887"
             ],
             [
              0.1111111111111111,
              "#46039f"
             ],
             [
              0.2222222222222222,
              "#7201a8"
             ],
             [
              0.3333333333333333,
              "#9c179e"
             ],
             [
              0.4444444444444444,
              "#bd3786"
             ],
             [
              0.5555555555555556,
              "#d8576b"
             ],
             [
              0.6666666666666666,
              "#ed7953"
             ],
             [
              0.7777777777777778,
              "#fb9f3a"
             ],
             [
              0.8888888888888888,
              "#fdca26"
             ],
             [
              1,
              "#f0f921"
             ]
            ],
            "type": "histogram2d"
           }
          ],
          "histogram2dcontour": [
           {
            "colorbar": {
             "outlinewidth": 0,
             "ticks": ""
            },
            "colorscale": [
             [
              0,
              "#0d0887"
             ],
             [
              0.1111111111111111,
              "#46039f"
             ],
             [
              0.2222222222222222,
              "#7201a8"
             ],
             [
              0.3333333333333333,
              "#9c179e"
             ],
             [
              0.4444444444444444,
              "#bd3786"
             ],
             [
              0.5555555555555556,
              "#d8576b"
             ],
             [
              0.6666666666666666,
              "#ed7953"
             ],
             [
              0.7777777777777778,
              "#fb9f3a"
             ],
             [
              0.8888888888888888,
              "#fdca26"
             ],
             [
              1,
              "#f0f921"
             ]
            ],
            "type": "histogram2dcontour"
           }
          ],
          "mesh3d": [
           {
            "colorbar": {
             "outlinewidth": 0,
             "ticks": ""
            },
            "type": "mesh3d"
           }
          ],
          "parcoords": [
           {
            "line": {
             "colorbar": {
              "outlinewidth": 0,
              "ticks": ""
             }
            },
            "type": "parcoords"
           }
          ],
          "pie": [
           {
            "automargin": true,
            "type": "pie"
           }
          ],
          "scatter": [
           {
            "fillpattern": {
             "fillmode": "overlay",
             "size": 10,
             "solidity": 0.2
            },
            "type": "scatter"
           }
          ],
          "scatter3d": [
           {
            "line": {
             "colorbar": {
              "outlinewidth": 0,
              "ticks": ""
             }
            },
            "marker": {
             "colorbar": {
              "outlinewidth": 0,
              "ticks": ""
             }
            },
            "type": "scatter3d"
           }
          ],
          "scattercarpet": [
           {
            "marker": {
             "colorbar": {
              "outlinewidth": 0,
              "ticks": ""
             }
            },
            "type": "scattercarpet"
           }
          ],
          "scattergeo": [
           {
            "marker": {
             "colorbar": {
              "outlinewidth": 0,
              "ticks": ""
             }
            },
            "type": "scattergeo"
           }
          ],
          "scattergl": [
           {
            "marker": {
             "colorbar": {
              "outlinewidth": 0,
              "ticks": ""
             }
            },
            "type": "scattergl"
           }
          ],
          "scattermap": [
           {
            "marker": {
             "colorbar": {
              "outlinewidth": 0,
              "ticks": ""
             }
            },
            "type": "scattermap"
           }
          ],
          "scattermapbox": [
           {
            "marker": {
             "colorbar": {
              "outlinewidth": 0,
              "ticks": ""
             }
            },
            "type": "scattermapbox"
           }
          ],
          "scatterpolar": [
           {
            "marker": {
             "colorbar": {
              "outlinewidth": 0,
              "ticks": ""
             }
            },
            "type": "scatterpolar"
           }
          ],
          "scatterpolargl": [
           {
            "marker": {
             "colorbar": {
              "outlinewidth": 0,
              "ticks": ""
             }
            },
            "type": "scatterpolargl"
           }
          ],
          "scatterternary": [
           {
            "marker": {
             "colorbar": {
              "outlinewidth": 0,
              "ticks": ""
             }
            },
            "type": "scatterternary"
           }
          ],
          "surface": [
           {
            "colorbar": {
             "outlinewidth": 0,
             "ticks": ""
            },
            "colorscale": [
             [
              0,
              "#0d0887"
             ],
             [
              0.1111111111111111,
              "#46039f"
             ],
             [
              0.2222222222222222,
              "#7201a8"
             ],
             [
              0.3333333333333333,
              "#9c179e"
             ],
             [
              0.4444444444444444,
              "#bd3786"
             ],
             [
              0.5555555555555556,
              "#d8576b"
             ],
             [
              0.6666666666666666,
              "#ed7953"
             ],
             [
              0.7777777777777778,
              "#fb9f3a"
             ],
             [
              0.8888888888888888,
              "#fdca26"
             ],
             [
              1,
              "#f0f921"
             ]
            ],
            "type": "surface"
           }
          ],
          "table": [
           {
            "cells": {
             "fill": {
              "color": "#EBF0F8"
             },
             "line": {
              "color": "white"
             }
            },
            "header": {
             "fill": {
              "color": "#C8D4E3"
             },
             "line": {
              "color": "white"
             }
            },
            "type": "table"
           }
          ]
         },
         "layout": {
          "annotationdefaults": {
           "arrowcolor": "#2a3f5f",
           "arrowhead": 0,
           "arrowwidth": 1
          },
          "autotypenumbers": "strict",
          "coloraxis": {
           "colorbar": {
            "outlinewidth": 0,
            "ticks": ""
           }
          },
          "colorscale": {
           "diverging": [
            [
             0,
             "#8e0152"
            ],
            [
             0.1,
             "#c51b7d"
            ],
            [
             0.2,
             "#de77ae"
            ],
            [
             0.3,
             "#f1b6da"
            ],
            [
             0.4,
             "#fde0ef"
            ],
            [
             0.5,
             "#f7f7f7"
            ],
            [
             0.6,
             "#e6f5d0"
            ],
            [
             0.7,
             "#b8e186"
            ],
            [
             0.8,
             "#7fbc41"
            ],
            [
             0.9,
             "#4d9221"
            ],
            [
             1,
             "#276419"
            ]
           ],
           "sequential": [
            [
             0,
             "#0d0887"
            ],
            [
             0.1111111111111111,
             "#46039f"
            ],
            [
             0.2222222222222222,
             "#7201a8"
            ],
            [
             0.3333333333333333,
             "#9c179e"
            ],
            [
             0.4444444444444444,
             "#bd3786"
            ],
            [
             0.5555555555555556,
             "#d8576b"
            ],
            [
             0.6666666666666666,
             "#ed7953"
            ],
            [
             0.7777777777777778,
             "#fb9f3a"
            ],
            [
             0.8888888888888888,
             "#fdca26"
            ],
            [
             1,
             "#f0f921"
            ]
           ],
           "sequentialminus": [
            [
             0,
             "#0d0887"
            ],
            [
             0.1111111111111111,
             "#46039f"
            ],
            [
             0.2222222222222222,
             "#7201a8"
            ],
            [
             0.3333333333333333,
             "#9c179e"
            ],
            [
             0.4444444444444444,
             "#bd3786"
            ],
            [
             0.5555555555555556,
             "#d8576b"
            ],
            [
             0.6666666666666666,
             "#ed7953"
            ],
            [
             0.7777777777777778,
             "#fb9f3a"
            ],
            [
             0.8888888888888888,
             "#fdca26"
            ],
            [
             1,
             "#f0f921"
            ]
           ]
          },
          "colorway": [
           "#636efa",
           "#EF553B",
           "#00cc96",
           "#ab63fa",
           "#FFA15A",
           "#19d3f3",
           "#FF6692",
           "#B6E880",
           "#FF97FF",
           "#FECB52"
          ],
          "font": {
           "color": "#2a3f5f"
          },
          "geo": {
           "bgcolor": "white",
           "lakecolor": "white",
           "landcolor": "white",
           "showlakes": true,
           "showland": true,
           "subunitcolor": "#C8D4E3"
          },
          "hoverlabel": {
           "align": "left"
          },
          "hovermode": "closest",
          "mapbox": {
           "style": "light"
          },
          "paper_bgcolor": "white",
          "plot_bgcolor": "white",
          "polar": {
           "angularaxis": {
            "gridcolor": "#EBF0F8",
            "linecolor": "#EBF0F8",
            "ticks": ""
           },
           "bgcolor": "white",
           "radialaxis": {
            "gridcolor": "#EBF0F8",
            "linecolor": "#EBF0F8",
            "ticks": ""
           }
          },
          "scene": {
           "xaxis": {
            "backgroundcolor": "white",
            "gridcolor": "#DFE8F3",
            "gridwidth": 2,
            "linecolor": "#EBF0F8",
            "showbackground": true,
            "ticks": "",
            "zerolinecolor": "#EBF0F8"
           },
           "yaxis": {
            "backgroundcolor": "white",
            "gridcolor": "#DFE8F3",
            "gridwidth": 2,
            "linecolor": "#EBF0F8",
            "showbackground": true,
            "ticks": "",
            "zerolinecolor": "#EBF0F8"
           },
           "zaxis": {
            "backgroundcolor": "white",
            "gridcolor": "#DFE8F3",
            "gridwidth": 2,
            "linecolor": "#EBF0F8",
            "showbackground": true,
            "ticks": "",
            "zerolinecolor": "#EBF0F8"
           }
          },
          "shapedefaults": {
           "line": {
            "color": "#2a3f5f"
           }
          },
          "ternary": {
           "aaxis": {
            "gridcolor": "#DFE8F3",
            "linecolor": "#A2B1C6",
            "ticks": ""
           },
           "baxis": {
            "gridcolor": "#DFE8F3",
            "linecolor": "#A2B1C6",
            "ticks": ""
           },
           "bgcolor": "white",
           "caxis": {
            "gridcolor": "#DFE8F3",
            "linecolor": "#A2B1C6",
            "ticks": ""
           }
          },
          "title": {
           "x": 0.05
          },
          "xaxis": {
           "automargin": true,
           "gridcolor": "#EBF0F8",
           "linecolor": "#EBF0F8",
           "ticks": "",
           "title": {
            "standoff": 15
           },
           "zerolinecolor": "#EBF0F8",
           "zerolinewidth": 2
          },
          "yaxis": {
           "automargin": true,
           "gridcolor": "#EBF0F8",
           "linecolor": "#EBF0F8",
           "ticks": "",
           "title": {
            "standoff": 15
           },
           "zerolinecolor": "#EBF0F8",
           "zerolinewidth": 2
          }
         }
        },
        "title": {
         "text": "Visualización del Dataset Cáncer de Mama con PCA (2 Componentes)"
        },
        "xaxis": {
         "anchor": "y",
         "domain": [
          0,
          1
         ],
         "title": {
          "text": "Primer Componente Principal"
         }
        },
        "yaxis": {
         "anchor": "x",
         "domain": [
          0,
          1
         ],
         "title": {
          "text": "Segundo Componente Principal"
         }
        }
       }
      }
     },
     "metadata": {},
     "output_type": "display_data"
    },
    {
     "data": {
      "text/markdown": [
       "Tamaño del set de entrenamiento: 455"
      ],
      "text/plain": [
       "<IPython.core.display.Markdown object>"
      ]
     },
     "metadata": {},
     "output_type": "display_data"
    },
    {
     "data": {
      "text/markdown": [
       "Tamaño del set de prueba: 114"
      ],
      "text/plain": [
       "<IPython.core.display.Markdown object>"
      ]
     },
     "metadata": {},
     "output_type": "display_data"
    },
    {
     "data": {
      "text/markdown": [
       "------ Resultados de k-NN (k=5) para Cáncer de Mama ------"
      ],
      "text/plain": [
       "<IPython.core.display.Markdown object>"
      ]
     },
     "metadata": {},
     "output_type": "display_data"
    },
    {
     "data": {
      "text/markdown": [
       "**Accuracy**: 0.9561"
      ],
      "text/plain": [
       "<IPython.core.display.Markdown object>"
      ]
     },
     "metadata": {},
     "output_type": "display_data"
    },
    {
     "data": {
      "text/markdown": [
       "\n",
       "**Matriz de Confusión:**"
      ],
      "text/plain": [
       "<IPython.core.display.Markdown object>"
      ]
     },
     "metadata": {},
     "output_type": "display_data"
    },
    {
     "name": "stdout",
     "output_type": "stream",
     "text": [
      "[[39  3]\n",
      " [ 2 70]]\n"
     ]
    },
    {
     "data": {
      "text/markdown": [
       "\n",
       "**Reporte de Clasificación:**"
      ],
      "text/plain": [
       "<IPython.core.display.Markdown object>"
      ]
     },
     "metadata": {},
     "output_type": "display_data"
    },
    {
     "name": "stdout",
     "output_type": "stream",
     "text": [
      "              precision    recall  f1-score   support\n",
      "\n",
      "           0       0.95      0.93      0.94        42\n",
      "           1       0.96      0.97      0.97        72\n",
      "\n",
      "    accuracy                           0.96       114\n",
      "   macro avg       0.96      0.95      0.95       114\n",
      "weighted avg       0.96      0.96      0.96       114\n",
      "\n"
     ]
    },
    {
     "data": {
      "text/markdown": [
       "**0.053** segundos para entrenar el modelo k-NN para Cáncer de Mama"
      ],
      "text/plain": [
       "<IPython.core.display.Markdown object>"
      ]
     },
     "metadata": {},
     "output_type": "display_data"
    },
    {
     "data": {
      "text/markdown": [
       "\n",
       "------------------------------------------------------------\n"
      ],
      "text/plain": [
       "<IPython.core.display.Markdown object>"
      ]
     },
     "metadata": {},
     "output_type": "display_data"
    },
    {
     "data": {
      "text/markdown": [
       "------ Resultados de Naive Bayes Gaussiano para Cáncer de Mama ------"
      ],
      "text/plain": [
       "<IPython.core.display.Markdown object>"
      ]
     },
     "metadata": {},
     "output_type": "display_data"
    },
    {
     "data": {
      "text/markdown": [
       "**Accuracy**: 0.9298"
      ],
      "text/plain": [
       "<IPython.core.display.Markdown object>"
      ]
     },
     "metadata": {},
     "output_type": "display_data"
    },
    {
     "data": {
      "text/markdown": [
       "\n",
       "**Matriz de Confusión:**"
      ],
      "text/plain": [
       "<IPython.core.display.Markdown object>"
      ]
     },
     "metadata": {},
     "output_type": "display_data"
    },
    {
     "name": "stdout",
     "output_type": "stream",
     "text": [
      "[[38  4]\n",
      " [ 4 68]]\n"
     ]
    },
    {
     "data": {
      "text/markdown": [
       "\n",
       "**Reporte de Clasificación:**"
      ],
      "text/plain": [
       "<IPython.core.display.Markdown object>"
      ]
     },
     "metadata": {},
     "output_type": "display_data"
    },
    {
     "name": "stdout",
     "output_type": "stream",
     "text": [
      "              precision    recall  f1-score   support\n",
      "\n",
      "           0       0.90      0.90      0.90        42\n",
      "           1       0.94      0.94      0.94        72\n",
      "\n",
      "    accuracy                           0.93       114\n",
      "   macro avg       0.92      0.92      0.92       114\n",
      "weighted avg       0.93      0.93      0.93       114\n",
      "\n"
     ]
    },
    {
     "data": {
      "text/markdown": [
       "**0.033** segundos para entrenar el modelo Naive Bayes para Cáncer de Mama"
      ],
      "text/plain": [
       "<IPython.core.display.Markdown object>"
      ]
     },
     "metadata": {},
     "output_type": "display_data"
    },
    {
     "data": {
      "text/markdown": [
       "\n",
       "------------------------------------------------------------\n"
      ],
      "text/plain": [
       "<IPython.core.display.Markdown object>"
      ]
     },
     "metadata": {},
     "output_type": "display_data"
    },
    {
     "data": {
      "text/markdown": [
       "------ Resultados del Perceptrón Multicapa (MLP) para Cáncer de Mama ------"
      ],
      "text/plain": [
       "<IPython.core.display.Markdown object>"
      ]
     },
     "metadata": {},
     "output_type": "display_data"
    },
    {
     "data": {
      "text/markdown": [
       "**Accuracy**: 0.9649"
      ],
      "text/plain": [
       "<IPython.core.display.Markdown object>"
      ]
     },
     "metadata": {},
     "output_type": "display_data"
    },
    {
     "data": {
      "text/markdown": [
       "\n",
       "**Matriz de Confusión:**"
      ],
      "text/plain": [
       "<IPython.core.display.Markdown object>"
      ]
     },
     "metadata": {},
     "output_type": "display_data"
    },
    {
     "name": "stdout",
     "output_type": "stream",
     "text": [
      "[[41  1]\n",
      " [ 3 69]]\n"
     ]
    },
    {
     "data": {
      "text/markdown": [
       "\n",
       "**Reporte de Clasificación:**"
      ],
      "text/plain": [
       "<IPython.core.display.Markdown object>"
      ]
     },
     "metadata": {},
     "output_type": "display_data"
    },
    {
     "name": "stdout",
     "output_type": "stream",
     "text": [
      "              precision    recall  f1-score   support\n",
      "\n",
      "           0       0.93      0.98      0.95        42\n",
      "           1       0.99      0.96      0.97        72\n",
      "\n",
      "    accuracy                           0.96       114\n",
      "   macro avg       0.96      0.97      0.96       114\n",
      "weighted avg       0.97      0.96      0.97       114\n",
      "\n"
     ]
    },
    {
     "data": {
      "text/markdown": [
       "**0.933** segundos para entrenar el modelo MLP para Cáncer de Mama"
      ],
      "text/plain": [
       "<IPython.core.display.Markdown object>"
      ]
     },
     "metadata": {},
     "output_type": "display_data"
    },
    {
     "data": {
      "text/markdown": [
       "\n",
       "------------------------------------------------------------\n"
      ],
      "text/plain": [
       "<IPython.core.display.Markdown object>"
      ]
     },
     "metadata": {},
     "output_type": "display_data"
    },
    {
     "data": {
      "text/markdown": [
       "### Comparación de Modelos para el Dataset Cáncer de Mama"
      ],
      "text/plain": [
       "<IPython.core.display.Markdown object>"
      ]
     },
     "metadata": {},
     "output_type": "display_data"
    },
    {
     "data": {
      "text/markdown": [
       "#### **Precisión**"
      ],
      "text/plain": [
       "<IPython.core.display.Markdown object>"
      ]
     },
     "metadata": {},
     "output_type": "display_data"
    },
    {
     "data": {
      "text/markdown": [
       "Según `accurancy`, el modelo que mejor funciona para el dataset de cáncer de mama, es Preceptrón Multicapa (MLP) con un accuracy de 0.9649, seguido por k-NN con 0.9561 y Naive Bayes con 0.9298."
      ],
      "text/plain": [
       "<IPython.core.display.Markdown object>"
      ]
     },
     "metadata": {},
     "output_type": "display_data"
    },
    {
     "data": {
      "text/markdown": [
       "\n"
      ],
      "text/plain": [
       "<IPython.core.display.Markdown object>"
      ]
     },
     "metadata": {},
     "output_type": "display_data"
    },
    {
     "data": {
      "text/markdown": [
       "#### **Matriz de confusión**"
      ],
      "text/plain": [
       "<IPython.core.display.Markdown object>"
      ]
     },
     "metadata": {},
     "output_type": "display_data"
    },
    {
     "data": {
      "text/markdown": [
       "Si miramos la `matriz de confusión`, no hay tanta diferencia ente los modelos. Pero teniendo en cuenta las características del dataset, podemos considerar que el costo de los falsos negativos tiene mayor peso. Y el modelo que minimiza los falsos negativos es K-NN, con 1 falso negativo."
      ],
      "text/plain": [
       "<IPython.core.display.Markdown object>"
      ]
     },
     "metadata": {},
     "output_type": "display_data"
    },
    {
     "data": {
      "text/markdown": [
       "\n"
      ],
      "text/plain": [
       "<IPython.core.display.Markdown object>"
      ]
     },
     "metadata": {},
     "output_type": "display_data"
    },
    {
     "data": {
      "text/markdown": [
       "#### **Tiempo de entrenamiento**"
      ],
      "text/plain": [
       "<IPython.core.display.Markdown object>"
      ]
     },
     "metadata": {},
     "output_type": "display_data"
    },
    {
     "data": {
      "text/markdown": [
       "En cuanto al `tiempo de entrenamiento`, el modelo más rápido es Naive Bayes, seguido por k-NN y MLP. Pero, la diferencia no es tan significativa entre ellos."
      ],
      "text/plain": [
       "<IPython.core.display.Markdown object>"
      ]
     },
     "metadata": {},
     "output_type": "display_data"
    },
    {
     "data": {
      "text/markdown": [
       "\n"
      ],
      "text/plain": [
       "<IPython.core.display.Markdown object>"
      ]
     },
     "metadata": {},
     "output_type": "display_data"
    }
   ],
   "source": [
    "# ======================================================================================================================================\n",
    "#\n",
    "# PREPARACIÓN DEL ENTORNO\n",
    "#\n",
    "import pandas as pd\n",
    "import numpy as np\n",
    "from IPython.display import display, Markdown\n",
    "\n",
    "# ======================================================================================================================================\n",
    "#\n",
    "# CARGA Y EXPLORACIÓN DE DATOS\n",
    "#\n",
    "from sklearn.datasets import load_breast_cancer\n",
    "\n",
    "# Carga\n",
    "data_cancer = load_breast_cancer(as_frame=True)\n",
    "df_cancer = data_cancer.frame\n",
    "\n",
    "# Características y objetivo\n",
    "X_cancer = df_cancer[data_cancer.feature_names]\n",
    "y_cancer = df_cancer['target']\n",
    "\n",
    "# Clases\n",
    "display(Markdown(f\"**Nombres de clases**: {data_cancer.target_names}\"))\n",
    "\n",
    "# Primeras filas del DF\n",
    "display(Markdown(\"\\n**Primeras 5 filas del dataset de cáncer de mama**:\"))\n",
    "display(df_cancer.head())\n",
    "\n",
    "# Resumen estadístico del DF\n",
    "display(Markdown(\"\\n**Resumen estadístico del dataset de cáncer de mama**:\"))\n",
    "display(df_cancer.describe())\n",
    "\n",
    "# ======================================================================================================================================\n",
    "#\n",
    "# VISUALIZACIÓN CON PCA\n",
    "#\n",
    "\n",
    "# Escalado de datos, necesario para PCA\n",
    "scaler_pca_cancer = StandardScaler()\n",
    "X_scaled_pca_cancer = scaler_pca_cancer.fit_transform(X_cancer)\n",
    "\n",
    "# Aplicamos PCA para reducir a 2 dimensiones\n",
    "pca_cancer = PCA(n_components=2)\n",
    "X_pca_cancer = pca_cancer.fit_transform(X_scaled_pca_cancer)\n",
    "\n",
    "# Creamos un DataFrame para la visualización\n",
    "df_pca_cancer = pd.DataFrame(data=X_pca_cancer, columns=['PC1', 'PC2'])\n",
    "df_pca_cancer['target_name'] = y_cancer.map({0: 'Maligno', 1: 'Benigno'})\n",
    "\n",
    "# Gráfico interactivo con Plotly\n",
    "fig_cancer = px.scatter(df_pca_cancer,\n",
    "                        x='PC1', \n",
    "                        y='PC2', \n",
    "                        color='target_name', \n",
    "                        title='Visualización del Dataset Cáncer de Mama con PCA (2 Componentes)',\n",
    "                        labels={'PC1': 'Primer Componente Principal', 'PC2': 'Segundo Componente Principal'},\n",
    "                        template='plotly_white')\n",
    "fig_cancer.show()\n",
    "\n",
    "# ======================================================================================================================================\n",
    "#\n",
    "# PREPARACIÓN DE DATOS\n",
    "#\n",
    "\n",
    "# Separación\n",
    "X_train_cancer, X_test_cancer, y_train_cancer, y_test_cancer = train_test_split(X_cancer, y_cancer, test_size=0.2, random_state=42, stratify=y_cancer)\n",
    "\n",
    "# Nuevo escalado, en este caso, para el entrenamiento y prueba\n",
    "scaler_cancer = StandardScaler()\n",
    "X_train_scaled_cancer = scaler_cancer.fit_transform(X_train_cancer)\n",
    "X_test_scaled_cancer = scaler_cancer.transform(X_test_cancer)\n",
    "\n",
    "# Visualización de sets\n",
    "display(Markdown(f\"Tamaño del set de entrenamiento: {X_train_scaled_cancer.shape[0]}\"))\n",
    "display(Markdown(f\"Tamaño del set de prueba: {X_test_scaled_cancer.shape[0]}\"))\n",
    "\n",
    "# ======================================================================================================================================\n",
    "#\n",
    "# MODELADO CON K-NN\n",
    "#\n",
    "\n",
    "start_cancer_knn = time.time()\n",
    "\n",
    "# Inicializar y entrenar el clasificador k-NN\n",
    "knn_cancer = KNeighborsClassifier(n_neighbors=5)\n",
    "knn_cancer.fit(X_train_scaled_cancer, y_train_cancer)\n",
    "\n",
    "# Realizar predicciones\n",
    "y_pred_cancer_knn = knn_cancer.predict(X_test_scaled_cancer)\n",
    "\n",
    "# Evaluar el modelo\n",
    "display(Markdown(\"------ Resultados de k-NN (k=5) para Cáncer de Mama ------\"))\n",
    "display(Markdown(f\"**Accuracy**: {accuracy_score(y_test_cancer, y_pred_cancer_knn):.4f}\"))\n",
    "display(Markdown(\"\\n**Matriz de Confusión:**\"))\n",
    "print(confusion_matrix(y_test_cancer, y_pred_cancer_knn))\n",
    "display(Markdown(\"\\n**Reporte de Clasificación:**\"))\n",
    "print(classification_report(y_test_cancer, y_pred_cancer_knn))\n",
    "end_cancer_knn = time.time()\n",
    "display(Markdown(f\"**{end_cancer_knn - start_cancer_knn:.3f}** segundos para entrenar el modelo k-NN para Cáncer de Mama\"))\n",
    "display(Markdown(\"\\n------------------------------------------------------------\\n\"))\n",
    "\n",
    "# ======================================================================================================================================\n",
    "#\n",
    "# MODELADO CON NAIVE BAYES\n",
    "#\n",
    "\n",
    "start_cancer_gnb = time.time()\n",
    "\n",
    "# Inicializar y entrenar el clasificador Naive Bayes\n",
    "gnb_cancer = GaussianNB()\n",
    "gnb_cancer.fit(X_train_scaled_cancer, y_train_cancer)\n",
    "\n",
    "# Realizar predicciones\n",
    "y_pred_cancer_gnb = gnb_cancer.predict(X_test_scaled_cancer)\n",
    "\n",
    "# Evaluar el modelo\n",
    "display(Markdown(\"------ Resultados de Naive Bayes Gaussiano para Cáncer de Mama ------\"))\n",
    "display(Markdown(f\"**Accuracy**: {accuracy_score(y_test_cancer, y_pred_cancer_gnb):.4f}\"))\n",
    "display(Markdown(\"\\n**Matriz de Confusión:**\"))\n",
    "print(confusion_matrix(y_test_cancer, y_pred_cancer_gnb))\n",
    "display(Markdown(\"\\n**Reporte de Clasificación:**\"))\n",
    "print(classification_report(y_test_cancer, y_pred_cancer_gnb))\n",
    "end_cancer_gnb = time.time()\n",
    "display(Markdown(f\"**{end_cancer_gnb - start_cancer_gnb:.3f}** segundos para entrenar el modelo Naive Bayes para Cáncer de Mama\"))\n",
    "display(Markdown(\"\\n------------------------------------------------------------\\n\"))\n",
    "\n",
    "# ======================================================================================================================================\n",
    "#\n",
    "# MODELADO CON MLP\n",
    "#\n",
    "\n",
    "start_cancer_mlp = time.time()\n",
    "\n",
    "# Inicializar y entrenar el clasificador MLP\n",
    "mlp_cancer = MLPClassifier(hidden_layer_sizes=(100,), max_iter=1000, random_state=42)\n",
    "mlp_cancer.fit(X_train_scaled_cancer, y_train_cancer)\n",
    "\n",
    "# Realizar predicciones\n",
    "y_pred_cancer_mlp = mlp_cancer.predict(X_test_scaled_cancer)\n",
    "\n",
    "# Evaluar el modelo\n",
    "display(Markdown(\"------ Resultados del Perceptrón Multicapa (MLP) para Cáncer de Mama ------\"))\n",
    "display(Markdown(f\"**Accuracy**: {accuracy_score(y_test_cancer, y_pred_cancer_mlp):.4f}\"))\n",
    "display(Markdown(\"\\n**Matriz de Confusión:**\"))\n",
    "print(confusion_matrix(y_test_cancer, y_pred_cancer_mlp))\n",
    "display(Markdown(\"\\n**Reporte de Clasificación:**\"))\n",
    "print(classification_report(y_test_cancer, y_pred_cancer_mlp))\n",
    "end_cancer_mlp = time.time()\n",
    "display(Markdown(f\"**{end_cancer_mlp - start_cancer_mlp:.3f}** segundos para entrenar el modelo MLP para Cáncer de Mama\"))\n",
    "display(Markdown(\"\\n------------------------------------------------------------\\n\"))\n",
    "\n",
    "# ======================================================================================================================================\n",
    "#\n",
    "# COMPARACIÓN DE MODELOS\n",
    "#\n",
    "\n",
    "display(Markdown(\"### Comparación de Modelos para el Dataset Cáncer de Mama\"))\n",
    "display(Markdown(\"#### **Precisión**\"))\n",
    "display(Markdown(\"Según `accurancy`, el modelo que mejor funciona para el dataset de cáncer de mama, es Preceptrón Multicapa (MLP) con un accuracy de 0.9649, seguido por k-NN con 0.9561 y Naive Bayes con 0.9298.\"))\n",
    "display(Markdown(\"\\n\"))\n",
    "display(Markdown(\"#### **Matriz de confusión**\"))\n",
    "display(Markdown(\"Si miramos la `matriz de confusión`, no hay tanta diferencia ente los modelos. Pero teniendo en cuenta las características del dataset, podemos considerar que el costo de los falsos negativos tiene mayor peso. Y el modelo que minimiza los falsos negativos es K-NN, con 1 falso negativo.\"))\n",
    "display(Markdown(\"\\n\"))\n",
    "display(Markdown(\"#### **Tiempo de entrenamiento**\"))\n",
    "display(Markdown(\"En cuanto al `tiempo de entrenamiento`, el modelo más rápido es Naive Bayes, seguido por k-NN y MLP. Pero, la diferencia no es tan significativa entre ellos.\"))\n",
    "display(Markdown(\"\\n\"))"
   ]
  },
  {
   "cell_type": "markdown",
   "metadata": {},
   "source": [
    "#### 2. **Arquitectura del MLP:** Experimenta con diferentes arquitecturas para el `MLPClassifier`. Prueba con más capas ocultas (ej. `hidden_layer_sizes=(100, 50,)`) o con diferente número de neuronas por capa. ¿Puedes mejorar la precisión obtenida?\n",
    "\n",
    "`Respuesta`:"
   ]
  },
  {
   "cell_type": "code",
   "execution_count": 100,
   "metadata": {},
   "outputs": [
    {
     "data": {
      "text/markdown": [
       "Entrenamiento MLP para diferentes combinaciones de capas ocultas y neuronas"
      ],
      "text/plain": [
       "<IPython.core.display.Markdown object>"
      ]
     },
     "metadata": {},
     "output_type": "display_data"
    },
    {
     "data": {
      "text/markdown": [
       "------> **Accuracy** para 1 capas (100,): 0.9649 "
      ],
      "text/plain": [
       "<IPython.core.display.Markdown object>"
      ]
     },
     "metadata": {},
     "output_type": "display_data"
    },
    {
     "data": {
      "text/markdown": [
       "------> **Accuracy** para 2 capas (100, 50): 0.9474 "
      ],
      "text/plain": [
       "<IPython.core.display.Markdown object>"
      ]
     },
     "metadata": {},
     "output_type": "display_data"
    },
    {
     "data": {
      "text/markdown": [
       "------> **Accuracy** para 3 capas (100, 50, 25): 0.9474 "
      ],
      "text/plain": [
       "<IPython.core.display.Markdown object>"
      ]
     },
     "metadata": {},
     "output_type": "display_data"
    },
    {
     "data": {
      "text/markdown": [
       "------> **Accuracy** para 1 capas (200,): 0.9649 "
      ],
      "text/plain": [
       "<IPython.core.display.Markdown object>"
      ]
     },
     "metadata": {},
     "output_type": "display_data"
    },
    {
     "data": {
      "text/markdown": [
       "------> **Accuracy** para 2 capas (200, 100): 0.9561 "
      ],
      "text/plain": [
       "<IPython.core.display.Markdown object>"
      ]
     },
     "metadata": {},
     "output_type": "display_data"
    },
    {
     "data": {
      "text/markdown": [
       "------> **Accuracy** para 3 capas (200, 100, 50): 0.9649 "
      ],
      "text/plain": [
       "<IPython.core.display.Markdown object>"
      ]
     },
     "metadata": {},
     "output_type": "display_data"
    },
    {
     "data": {
      "text/markdown": [
       "------> **Accuracy** para 4 capas (200, 100, 50, 25): 0.9649 "
      ],
      "text/plain": [
       "<IPython.core.display.Markdown object>"
      ]
     },
     "metadata": {},
     "output_type": "display_data"
    },
    {
     "data": {
      "text/markdown": [
       "------> **Accuracy** para 1 capas (300,): 0.9649 "
      ],
      "text/plain": [
       "<IPython.core.display.Markdown object>"
      ]
     },
     "metadata": {},
     "output_type": "display_data"
    },
    {
     "data": {
      "text/markdown": [
       "------> **Accuracy** para 2 capas (300, 200): 0.9649 "
      ],
      "text/plain": [
       "<IPython.core.display.Markdown object>"
      ]
     },
     "metadata": {},
     "output_type": "display_data"
    },
    {
     "data": {
      "text/markdown": [
       "------> **Accuracy** para 3 capas (300, 200, 100): 0.9649 "
      ],
      "text/plain": [
       "<IPython.core.display.Markdown object>"
      ]
     },
     "metadata": {},
     "output_type": "display_data"
    },
    {
     "data": {
      "text/markdown": [
       "------> **Accuracy** para 4 capas (300, 200, 100, 50): 0.9649 "
      ],
      "text/plain": [
       "<IPython.core.display.Markdown object>"
      ]
     },
     "metadata": {},
     "output_type": "display_data"
    },
    {
     "data": {
      "text/markdown": [
       "------> **Accuracy** para 5 capas (300, 200, 100, 50, 25): 0.9649 "
      ],
      "text/plain": [
       "<IPython.core.display.Markdown object>"
      ]
     },
     "metadata": {},
     "output_type": "display_data"
    },
    {
     "data": {
      "text/markdown": [
       "`CONCLUSIONES`:"
      ],
      "text/plain": [
       "<IPython.core.display.Markdown object>"
      ]
     },
     "metadata": {},
     "output_type": "display_data"
    },
    {
     "data": {
      "text/markdown": [
       "Se corre el entrenamiento, para distintas cantidades de capas ocultas. No se observan cambios significativos en la precisión, por lo que podemos concluir (al menos con las corridas realizadas para este ejericio), que más capas no mejoran la precisión del modelo."
      ],
      "text/plain": [
       "<IPython.core.display.Markdown object>"
      ]
     },
     "metadata": {},
     "output_type": "display_data"
    }
   ],
   "source": [
    "# ======================================================================================================================================\n",
    "#\n",
    "# PREPARACIÓN DEL ENTORNO\n",
    "#\n",
    "import pandas as pd\n",
    "import numpy as np\n",
    "from IPython.display import display, Markdown\n",
    "\n",
    "# ======================================================================================================================================\n",
    "#\n",
    "# CARGA Y EXPLORACIÓN DE DATOS\n",
    "#\n",
    "from sklearn.datasets import load_breast_cancer\n",
    "\n",
    "# Carga\n",
    "data_cancer_2 = load_breast_cancer(as_frame=True)\n",
    "df_cancer_2 = data_cancer_2.frame\n",
    "\n",
    "# Características y objetivo\n",
    "X_cancer_2 = df_cancer_2[data_cancer_2.feature_names]\n",
    "y_cancer_2 = df_cancer_2['target']\n",
    "\n",
    "# ======================================================================================================================================\n",
    "#\n",
    "# PREPARACIÓN DE DATOS\n",
    "#\n",
    "\n",
    "# Separación\n",
    "X_train_cancer_2, X_test_cancer_2, y_train_cancer_2, y_test_cancer_2 = train_test_split(X_cancer_2, y_cancer_2, test_size=0.2, random_state=42, stratify=y_cancer_2)\n",
    "\n",
    "# Nuevo escalado, en este caso, para el entrenamiento y prueba\n",
    "scaler_cancer_2 = StandardScaler()\n",
    "X_train_scaled_cancer_2 = scaler_cancer_2.fit_transform(X_train_cancer_2)\n",
    "X_test_scaled_cancer_2 = scaler_cancer_2.transform(X_test_cancer_2)\n",
    "\n",
    "# ======================================================================================================================================\n",
    "#\n",
    "# MODELADO CON MLP\n",
    "#\n",
    "\n",
    "# Defino las vbles sobre las cuales voy a basar la iteración del entrenamiento\n",
    "hidden_layers_sizes_2 = [\n",
    "    (100,),\n",
    "    (100, 50),\n",
    "    (100, 50, 25),\n",
    "    (200,),\n",
    "    (200, 100),\n",
    "    (200, 100, 50,),\n",
    "    (200, 100, 50, 25),\n",
    "    (300,),\n",
    "    (300, 200),\n",
    "    (300, 200, 100),\n",
    "    (300, 200, 100, 50),\n",
    "    (300, 200, 100, 50, 25),\n",
    "]\n",
    "corridas = []\n",
    "display(Markdown(f\"Entrenamiento MLP para diferentes combinaciones de capas ocultas y neuronas\"))\n",
    "for layer_size in hidden_layers_sizes_2:\n",
    "    # Inicializar y entrenar el clasificador MLP\n",
    "    mlp_cancer_2 = MLPClassifier(layer_size, max_iter=1000, random_state=42)\n",
    "    mlp_cancer_2.fit(X_train_scaled_cancer_2, y_train_cancer_2)\n",
    "    # Realizar predicciones\n",
    "    y_pred_cancer_mlp_2 = mlp_cancer_2.predict(X_test_scaled_cancer_2)\n",
    "    # Evaluar la precisión del modelo\n",
    "    accuracy = accuracy_score(y_test_cancer_2, y_pred_cancer_mlp_2)\n",
    "    display(Markdown(f\"------> **Accuracy** para {len(layer_size)} capas {layer_size}: {accuracy:.4f} \"))\n",
    "    corridas.append({\n",
    "        'hidden_layer_sizes': layer_size,\n",
    "        'accuracy': accuracy\n",
    "    })\n",
    "display(Markdown(\"`CONCLUSIONES`:\"))\n",
    "display(Markdown(f\"Se corre el entrenamiento, para distintas cantidades de capas ocultas. No se observan cambios significativos en la precisión, por lo que podemos concluir (al menos con las corridas realizadas para este ejericio), que más capas no mejoran la precisión del modelo.\"))\n",
    "\n"
   ]
  },
  {
   "cell_type": "markdown",
   "metadata": {},
   "source": [
    "#### 3. **Métricas de Distancia en k-NN:** El `KNeighborsClassifier` tiene un parámetro `metric`. Por defecto es `'minkowski'` (que con p=2 es la distancia Euclidiana). Prueba a cambiarlo a `'manhattan'` (Distancia de Manhattan). ¿Cambia el rendimiento del modelo?\n",
    "\n",
    "`Respuesta`:"
   ]
  },
  {
   "cell_type": "code",
   "execution_count": 101,
   "metadata": {},
   "outputs": [
    {
     "data": {
      "text/markdown": [
       "------ Resultados de k-NN (k=5) para Cáncer de Mama ------"
      ],
      "text/plain": [
       "<IPython.core.display.Markdown object>"
      ]
     },
     "metadata": {},
     "output_type": "display_data"
    },
    {
     "data": {
      "text/markdown": [
       "**Accuracy k-NN (manhattan)**: 0.9649"
      ],
      "text/plain": [
       "<IPython.core.display.Markdown object>"
      ]
     },
     "metadata": {},
     "output_type": "display_data"
    },
    {
     "data": {
      "text/markdown": [
       "**Accuracy k-NN (euclidiana)**: 0.9561"
      ],
      "text/plain": [
       "<IPython.core.display.Markdown object>"
      ]
     },
     "metadata": {},
     "output_type": "display_data"
    },
    {
     "data": {
      "text/markdown": [
       "\n",
       "**Matriz de Confusión (manhattan):**"
      ],
      "text/plain": [
       "<IPython.core.display.Markdown object>"
      ]
     },
     "metadata": {},
     "output_type": "display_data"
    },
    {
     "name": "stdout",
     "output_type": "stream",
     "text": [
      "[[39  3]\n",
      " [ 1 71]]\n"
     ]
    },
    {
     "data": {
      "text/markdown": [
       "\n",
       "**Matriz de Confusión (euclidiana):**"
      ],
      "text/plain": [
       "<IPython.core.display.Markdown object>"
      ]
     },
     "metadata": {},
     "output_type": "display_data"
    },
    {
     "name": "stdout",
     "output_type": "stream",
     "text": [
      "[[39  3]\n",
      " [ 2 70]]\n"
     ]
    },
    {
     "data": {
      "text/markdown": [
       "\n",
       "**Reporte de Clasificación (manhattan):**"
      ],
      "text/plain": [
       "<IPython.core.display.Markdown object>"
      ]
     },
     "metadata": {},
     "output_type": "display_data"
    },
    {
     "name": "stdout",
     "output_type": "stream",
     "text": [
      "              precision    recall  f1-score   support\n",
      "\n",
      "           0       0.97      0.93      0.95        42\n",
      "           1       0.96      0.99      0.97        72\n",
      "\n",
      "    accuracy                           0.96       114\n",
      "   macro avg       0.97      0.96      0.96       114\n",
      "weighted avg       0.97      0.96      0.96       114\n",
      "\n"
     ]
    },
    {
     "data": {
      "text/markdown": [
       "\n",
       "**Reporte de Clasificación (euclidiana):**"
      ],
      "text/plain": [
       "<IPython.core.display.Markdown object>"
      ]
     },
     "metadata": {},
     "output_type": "display_data"
    },
    {
     "name": "stdout",
     "output_type": "stream",
     "text": [
      "              precision    recall  f1-score   support\n",
      "\n",
      "           0       0.95      0.93      0.94        42\n",
      "           1       0.96      0.97      0.97        72\n",
      "\n",
      "    accuracy                           0.96       114\n",
      "   macro avg       0.96      0.95      0.95       114\n",
      "weighted avg       0.96      0.96      0.96       114\n",
      "\n"
     ]
    },
    {
     "data": {
      "text/markdown": [
       "### Comparación de entrenamientos k-NN (`manhattan` vs `euclidiana`)"
      ],
      "text/plain": [
       "<IPython.core.display.Markdown object>"
      ]
     },
     "metadata": {},
     "output_type": "display_data"
    },
    {
     "data": {
      "text/markdown": [
       "#### **Precisión**"
      ],
      "text/plain": [
       "<IPython.core.display.Markdown object>"
      ]
     },
     "metadata": {},
     "output_type": "display_data"
    },
    {
     "data": {
      "text/markdown": [
       "Según `accurancy`, **manhattan** funciona mejor (0.9649 vs 0.9561)."
      ],
      "text/plain": [
       "<IPython.core.display.Markdown object>"
      ]
     },
     "metadata": {},
     "output_type": "display_data"
    },
    {
     "data": {
      "text/markdown": [
       "---"
      ],
      "text/plain": [
       "<IPython.core.display.Markdown object>"
      ]
     },
     "metadata": {},
     "output_type": "display_data"
    },
    {
     "data": {
      "text/markdown": [
       "#### **Matriz de confusión**"
      ],
      "text/plain": [
       "<IPython.core.display.Markdown object>"
      ]
     },
     "metadata": {},
     "output_type": "display_data"
    },
    {
     "data": {
      "text/markdown": [
       "Si miramos la `matriz de confusión`, podemos concluir que otra vez **manhattan** funciona mejor, dado que minimiza los falsos negativos (1 vs 2)."
      ],
      "text/plain": [
       "<IPython.core.display.Markdown object>"
      ]
     },
     "metadata": {},
     "output_type": "display_data"
    },
    {
     "data": {
      "text/markdown": [
       "---"
      ],
      "text/plain": [
       "<IPython.core.display.Markdown object>"
      ]
     },
     "metadata": {},
     "output_type": "display_data"
    },
    {
     "data": {
      "text/markdown": [
       "#### **Reporte de clasificación**"
      ],
      "text/plain": [
       "<IPython.core.display.Markdown object>"
      ]
     },
     "metadata": {},
     "output_type": "display_data"
    },
    {
     "data": {
      "text/markdown": [
       "Mirando el `Reporte de clasificación`, una vez más **manhattan** parece ser mejor. Para la clase `maligno`, el recall (pocos falsos negativos) mejora (0.99 vs 0.97). "
      ],
      "text/plain": [
       "<IPython.core.display.Markdown object>"
      ]
     },
     "metadata": {},
     "output_type": "display_data"
    }
   ],
   "source": [
    "# ======================================================================================================================================\n",
    "#\n",
    "# PREPARACIÓN DEL ENTORNO\n",
    "#\n",
    "import pandas as pd\n",
    "import numpy as np\n",
    "from IPython.display import display, Markdown\n",
    "\n",
    "# ======================================================================================================================================\n",
    "#\n",
    "# CARGA Y EXPLORACIÓN DE DATOS\n",
    "#\n",
    "from sklearn.datasets import load_breast_cancer\n",
    "\n",
    "# Carga\n",
    "data_cancer_3 = load_breast_cancer(as_frame=True)\n",
    "df_cancer_3 = data_cancer_3.frame\n",
    "\n",
    "# Características y objetivo\n",
    "X_cancer_3 = df_cancer_3[data_cancer_3.feature_names]\n",
    "y_cancer_3 = df_cancer_3['target']\n",
    "\n",
    "# ======================================================================================================================================\n",
    "#\n",
    "# PREPARACIÓN DE DATOS\n",
    "#\n",
    "\n",
    "# Separación\n",
    "X_train_cancer_3, X_test_cancer_3, y_train_cancer_3, y_test_cancer_3 = train_test_split(X_cancer_3, y_cancer_3, test_size=0.2, random_state=42, stratify=y_cancer_3)\n",
    "\n",
    "# Nuevo escalado, en este caso, para el entrenamiento y prueba\n",
    "scaler_cancer_3 = StandardScaler()\n",
    "X_train_scaled_cancer_3 = scaler_cancer_3.fit_transform(X_train_cancer_3)\n",
    "X_test_scaled_cancer_3 = scaler_cancer_3.transform(X_test_cancer_3)\n",
    "\n",
    "# ======================================================================================================================================\n",
    "#\n",
    "# MODELADO CON K-NN\n",
    "#\n",
    "\n",
    "# Inicializar y entrenar el clasificador k-NN\n",
    "knn_cancer_3 = KNeighborsClassifier(n_neighbors=5, metric='manhattan')\n",
    "knn_cancer_3.fit(X_train_scaled_cancer_3, y_train_cancer_3)\n",
    "\n",
    "# Realizar predicciones\n",
    "y_pred_cancer_knn_3 = knn_cancer_3.predict(X_test_scaled_cancer_3)\n",
    "\n",
    "# Evaluar el modelo\n",
    "display(Markdown(\"------ Resultados de k-NN (k=5) para Cáncer de Mama ------\"))\n",
    "display(Markdown(f\"**Accuracy k-NN (manhattan)**: {accuracy_score(y_test_cancer_3, y_pred_cancer_knn_3):.4f}\"))\n",
    "display(Markdown(f\"**Accuracy k-NN (euclidiana)**: {accuracy_score(y_test_cancer, y_pred_cancer_knn):.4f}\"))\n",
    "\n",
    "display(Markdown(\"\\n**Matriz de Confusión (manhattan):**\"))\n",
    "print(confusion_matrix(y_test_cancer_3, y_pred_cancer_knn_3))\n",
    "display(Markdown(\"\\n**Matriz de Confusión (euclidiana):**\"))\n",
    "print(confusion_matrix(y_test_cancer, y_pred_cancer_knn))\n",
    "\n",
    "display(Markdown(\"\\n**Reporte de Clasificación (manhattan):**\"))\n",
    "print(classification_report(y_test_cancer_3, y_pred_cancer_knn_3))\n",
    "display(Markdown(\"\\n**Reporte de Clasificación (euclidiana):**\"))\n",
    "print(classification_report(y_test_cancer, y_pred_cancer_knn))\n",
    "\n",
    "# ======================================================================================================================================\n",
    "#\n",
    "# COMPARACIÓN DE ENTRENAMIENTOS PARA k-NN\n",
    "#\n",
    "\n",
    "display(Markdown(\"### Comparación de entrenamientos k-NN (`manhattan` vs `euclidiana`)\"))\n",
    "display(Markdown(\"#### **Precisión**\"))\n",
    "display(Markdown(\"Según `accurancy`, **manhattan** funciona mejor (0.9649 vs 0.9561).\"))\n",
    "display(Markdown(\"---\"))\n",
    "display(Markdown(\"#### **Matriz de confusión**\"))\n",
    "display(Markdown(\"Si miramos la `matriz de confusión`, podemos concluir que otra vez **manhattan** funciona mejor, dado que minimiza los falsos negativos (1 vs 2).\"))\n",
    "display(Markdown(\"---\"))\n",
    "display(Markdown(\"#### **Reporte de clasificación**\"))\n",
    "display(Markdown(\"Mirando el `Reporte de clasificación`, una vez más **manhattan** parece ser mejor. Para la clase `maligno`, el recall (pocos falsos negativos) mejora (0.99 vs 0.97). \"))"
   ]
  },
  {
   "cell_type": "markdown",
   "metadata": {},
   "source": [
    "#### 4. **Robustez del `train_test_split`:** Cambia el valor de `random_state` en la función `train_test_split`. Repite el entrenamiento y evaluación de los tres modelos. ¿Son los resultados de precisión exactamente los mismos? ¿Qué nos dice esto sobre la evaluación de modelos?\n",
    "\n",
    "`Respuesta`:"
   ]
  },
  {
   "cell_type": "code",
   "execution_count": 102,
   "metadata": {},
   "outputs": [
    {
     "data": {
      "text/markdown": [
       "------> **Accuracy K-NN (42)**: 0.9561"
      ],
      "text/plain": [
       "<IPython.core.display.Markdown object>"
      ]
     },
     "metadata": {},
     "output_type": "display_data"
    },
    {
     "data": {
      "text/markdown": [
       "------> **Accuracy Naive Bayes Gaussiano (GNB) (42)**: 0.9298"
      ],
      "text/plain": [
       "<IPython.core.display.Markdown object>"
      ]
     },
     "metadata": {},
     "output_type": "display_data"
    },
    {
     "data": {
      "text/markdown": [
       "------> **Accuracy Perceptrón Multicapa (MLP) (42)**: 0.9649"
      ],
      "text/plain": [
       "<IPython.core.display.Markdown object>"
      ]
     },
     "metadata": {},
     "output_type": "display_data"
    },
    {
     "data": {
      "text/markdown": [
       "------> **Accuracy K-NN (84)**: 0.9649"
      ],
      "text/plain": [
       "<IPython.core.display.Markdown object>"
      ]
     },
     "metadata": {},
     "output_type": "display_data"
    },
    {
     "data": {
      "text/markdown": [
       "------> **Accuracy Naive Bayes Gaussiano (GNB) (84)**: 0.9386"
      ],
      "text/plain": [
       "<IPython.core.display.Markdown object>"
      ]
     },
     "metadata": {},
     "output_type": "display_data"
    },
    {
     "data": {
      "text/markdown": [
       "------> **Accuracy Perceptrón Multicapa (MLP) (84)**: 0.9737"
      ],
      "text/plain": [
       "<IPython.core.display.Markdown object>"
      ]
     },
     "metadata": {},
     "output_type": "display_data"
    },
    {
     "data": {
      "text/markdown": [
       "------> **Accuracy K-NN (168)**: 0.9561"
      ],
      "text/plain": [
       "<IPython.core.display.Markdown object>"
      ]
     },
     "metadata": {},
     "output_type": "display_data"
    },
    {
     "data": {
      "text/markdown": [
       "------> **Accuracy Naive Bayes Gaussiano (GNB) (168)**: 0.9298"
      ],
      "text/plain": [
       "<IPython.core.display.Markdown object>"
      ]
     },
     "metadata": {},
     "output_type": "display_data"
    },
    {
     "data": {
      "text/markdown": [
       "------> **Accuracy Perceptrón Multicapa (MLP) (168)**: 0.9737"
      ],
      "text/plain": [
       "<IPython.core.display.Markdown object>"
      ]
     },
     "metadata": {},
     "output_type": "display_data"
    },
    {
     "data": {
      "text/markdown": [
       "------> **Accuracy K-NN (336)**: 0.9649"
      ],
      "text/plain": [
       "<IPython.core.display.Markdown object>"
      ]
     },
     "metadata": {},
     "output_type": "display_data"
    },
    {
     "data": {
      "text/markdown": [
       "------> **Accuracy Naive Bayes Gaussiano (GNB) (336)**: 0.9474"
      ],
      "text/plain": [
       "<IPython.core.display.Markdown object>"
      ]
     },
     "metadata": {},
     "output_type": "display_data"
    },
    {
     "data": {
      "text/markdown": [
       "------> **Accuracy Perceptrón Multicapa (MLP) (336)**: 0.9737"
      ],
      "text/plain": [
       "<IPython.core.display.Markdown object>"
      ]
     },
     "metadata": {},
     "output_type": "display_data"
    },
    {
     "data": {
      "text/markdown": [
       "------> **Accuracy K-NN (672)**: 0.9737"
      ],
      "text/plain": [
       "<IPython.core.display.Markdown object>"
      ]
     },
     "metadata": {},
     "output_type": "display_data"
    },
    {
     "data": {
      "text/markdown": [
       "------> **Accuracy Naive Bayes Gaussiano (GNB) (672)**: 0.9386"
      ],
      "text/plain": [
       "<IPython.core.display.Markdown object>"
      ]
     },
     "metadata": {},
     "output_type": "display_data"
    },
    {
     "data": {
      "text/markdown": [
       "------> **Accuracy Perceptrón Multicapa (MLP) (672)**: 0.9649"
      ],
      "text/plain": [
       "<IPython.core.display.Markdown object>"
      ]
     },
     "metadata": {},
     "output_type": "display_data"
    },
    {
     "data": {
      "text/markdown": [
       "------> **Accuracy K-NN (1344)**: 0.9649"
      ],
      "text/plain": [
       "<IPython.core.display.Markdown object>"
      ]
     },
     "metadata": {},
     "output_type": "display_data"
    },
    {
     "data": {
      "text/markdown": [
       "------> **Accuracy Naive Bayes Gaussiano (GNB) (1344)**: 0.9561"
      ],
      "text/plain": [
       "<IPython.core.display.Markdown object>"
      ]
     },
     "metadata": {},
     "output_type": "display_data"
    },
    {
     "data": {
      "text/markdown": [
       "------> **Accuracy Perceptrón Multicapa (MLP) (1344)**: 0.9561"
      ],
      "text/plain": [
       "<IPython.core.display.Markdown object>"
      ]
     },
     "metadata": {},
     "output_type": "display_data"
    },
    {
     "data": {
      "text/markdown": [
       "### Comparación de Modelos para distintos `random_state` en el Dataset Cáncer de Mama"
      ],
      "text/plain": [
       "<IPython.core.display.Markdown object>"
      ]
     },
     "metadata": {},
     "output_type": "display_data"
    },
    {
     "data": {
      "text/markdown": [
       "Según la `accurancy` observada para 6 `random_state` diferentes, no hay grandes variaciones. A priori esto podría indicar que ese parámetro de la función `train_test_split` no afecta tanto a los modelos."
      ],
      "text/plain": [
       "<IPython.core.display.Markdown object>"
      ]
     },
     "metadata": {},
     "output_type": "display_data"
    }
   ],
   "source": [
    "# ======================================================================================================================================\n",
    "#\n",
    "# PREPARACIÓN DEL ENTORNO\n",
    "#\n",
    "import pandas as pd\n",
    "import numpy as np\n",
    "from IPython.display import display, Markdown\n",
    "\n",
    "# ======================================================================================================================================\n",
    "#\n",
    "# CARGA Y EXPLORACIÓN DE DATOS\n",
    "#\n",
    "from sklearn.datasets import load_breast_cancer\n",
    "\n",
    "# Carga\n",
    "data_cancer_4 = load_breast_cancer(as_frame=True)\n",
    "df_cancer_4 = data_cancer_4.frame\n",
    "\n",
    "# Características y objetivo\n",
    "X_cancer_4 = df_cancer_4[data_cancer_4.feature_names]\n",
    "y_cancer_4 = df_cancer_4['target']\n",
    "\n",
    "# ======================================================================================================================================\n",
    "#\n",
    "# PREPARACIÓN DE DATOS\n",
    "#\n",
    "\n",
    "ramdom_states = [42, 84, 168, 336, 672, 1344]\n",
    "\n",
    "for random_state in ramdom_states:\n",
    "    # Separación\n",
    "    X_train_cancer_4, X_test_cancer_4, y_train_cancer_4, y_test_cancer_4 = train_test_split(X_cancer_4, y_cancer_4, test_size=0.2, random_state=random_state, stratify=y_cancer_4)\n",
    "\n",
    "    # Nuevo escalado, en este caso, para el entrenamiento y prueba\n",
    "    scaler_cancer_4 = StandardScaler()\n",
    "    X_train_scaled_cancer_4 = scaler_cancer_4.fit_transform(X_train_cancer_4)\n",
    "    X_test_scaled_cancer_4 = scaler_cancer_4.transform(X_test_cancer_4)\n",
    "\n",
    "    # ======================================================================================================================================\n",
    "    #\n",
    "    # MODELADO CON K-NN\n",
    "    #\n",
    "\n",
    "    # Inicializar y entrenar el clasificador k-NN\n",
    "    knn_cancer_4 = KNeighborsClassifier(n_neighbors=5)\n",
    "    knn_cancer_4.fit(X_train_scaled_cancer_4, y_train_cancer_4)\n",
    "\n",
    "    # Realizar predicciones\n",
    "    y_pred_cancer_knn_4 = knn_cancer_4.predict(X_test_scaled_cancer_4)\n",
    "\n",
    "    # Evaluar el modelo\n",
    "    display(Markdown(f\"------> **Accuracy K-NN ({random_state})**: {accuracy_score(y_test_cancer_4, y_pred_cancer_knn_4):.4f}\"))\n",
    "\n",
    "    # ======================================================================================================================================\n",
    "    #\n",
    "    # MODELADO CON NAIVE BAYES\n",
    "    #\n",
    "\n",
    "    # Inicializar y entrenar el clasificador Naive Bayes\n",
    "    gnb_cancer_4 = GaussianNB()\n",
    "    gnb_cancer_4.fit(X_train_scaled_cancer_4, y_train_cancer_4)\n",
    "\n",
    "    # Realizar predicciones\n",
    "    y_pred_cancer_gnb_4 = gnb_cancer_4.predict(X_test_scaled_cancer_4)\n",
    "\n",
    "    # Evaluar el modelo\n",
    "    display(Markdown(f\"------> **Accuracy Naive Bayes Gaussiano (GNB) ({random_state})**: {accuracy_score(y_test_cancer_4, y_pred_cancer_gnb_4):.4f}\"))\n",
    "\n",
    "    # ======================================================================================================================================\n",
    "    #\n",
    "    # MODELADO CON MLP\n",
    "    #\n",
    "\n",
    "    mlp_cancer_4 = MLPClassifier(hidden_layer_sizes=(100,), max_iter=1000, random_state=42)\n",
    "    mlp_cancer_4.fit(X_train_scaled_cancer_4, y_train_cancer_4)\n",
    "\n",
    "    # Realizar predicciones\n",
    "    y_pred_cancer_mlp_4 = mlp_cancer_4.predict(X_test_scaled_cancer_4)\n",
    "\n",
    "    # Evaluar el modelo\n",
    "    display(Markdown(f\"------> **Accuracy Perceptrón Multicapa (MLP) ({random_state})**: {accuracy_score(y_test_cancer_4, y_pred_cancer_mlp_4):.4f}\"))\n",
    "\n",
    "# ======================================================================================================================================\n",
    "#\n",
    "# COMPARACIÓN DE MODELOS\n",
    "#\n",
    "\n",
    "display(Markdown(\"### Comparación de Modelos para distintos `random_state` en el Dataset Cáncer de Mama\"))\n",
    "display(Markdown(\"Según la `accurancy` observada para 6 `random_state` diferentes, no hay grandes variaciones. A priori esto podría indicar que ese parámetro de la función `train_test_split` no afecta tanto a los modelos.\"))"
   ]
  },
  {
   "cell_type": "markdown",
   "metadata": {},
   "source": [
    "#### 5. **Comparar con Regresión Logística:** Como un modelo de base adicional, importa `LogisticRegression` de `sklearn.linear_model`. Entrénalo y evalúalo en el dataset Wine. ¿Cómo se compara su rendimiento con los tres modelos de esta clase?\n",
    "\n",
    "`Respuesta`:"
   ]
  },
  {
   "cell_type": "code",
   "execution_count": 103,
   "metadata": {},
   "outputs": [
    {
     "data": {
      "text/markdown": [
       "**Nombres de clases**: ['class_0' 'class_1' 'class_2']"
      ],
      "text/plain": [
       "<IPython.core.display.Markdown object>"
      ]
     },
     "metadata": {},
     "output_type": "display_data"
    },
    {
     "data": {
      "text/markdown": [
       "------ **Resultados de k-NN (k=5) para Vinos** ------"
      ],
      "text/plain": [
       "<IPython.core.display.Markdown object>"
      ]
     },
     "metadata": {},
     "output_type": "display_data"
    },
    {
     "data": {
      "text/markdown": [
       "**Accuracy**: 0.9722"
      ],
      "text/plain": [
       "<IPython.core.display.Markdown object>"
      ]
     },
     "metadata": {},
     "output_type": "display_data"
    },
    {
     "data": {
      "text/markdown": [
       "\n",
       "**Matriz de Confusión:**"
      ],
      "text/plain": [
       "<IPython.core.display.Markdown object>"
      ]
     },
     "metadata": {},
     "output_type": "display_data"
    },
    {
     "name": "stdout",
     "output_type": "stream",
     "text": [
      "[[12  0  0]\n",
      " [ 0 13  1]\n",
      " [ 0  0 10]]\n"
     ]
    },
    {
     "data": {
      "text/markdown": [
       "\n",
       "**Reporte de Clasificación:**"
      ],
      "text/plain": [
       "<IPython.core.display.Markdown object>"
      ]
     },
     "metadata": {},
     "output_type": "display_data"
    },
    {
     "name": "stdout",
     "output_type": "stream",
     "text": [
      "              precision    recall  f1-score   support\n",
      "\n",
      "           0       1.00      1.00      1.00        12\n",
      "           1       1.00      0.93      0.96        14\n",
      "           2       0.91      1.00      0.95        10\n",
      "\n",
      "    accuracy                           0.97        36\n",
      "   macro avg       0.97      0.98      0.97        36\n",
      "weighted avg       0.97      0.97      0.97        36\n",
      "\n"
     ]
    },
    {
     "data": {
      "text/markdown": [
       "**0.047** segundos para entrenar el modelo k-NN para Vinos"
      ],
      "text/plain": [
       "<IPython.core.display.Markdown object>"
      ]
     },
     "metadata": {},
     "output_type": "display_data"
    },
    {
     "data": {
      "text/markdown": [
       "\n",
       "------------------------------------------------------------\n"
      ],
      "text/plain": [
       "<IPython.core.display.Markdown object>"
      ]
     },
     "metadata": {},
     "output_type": "display_data"
    },
    {
     "data": {
      "text/markdown": [
       "------ **Resultados de Naive Bayes Gaussiano para Vinos** ------"
      ],
      "text/plain": [
       "<IPython.core.display.Markdown object>"
      ]
     },
     "metadata": {},
     "output_type": "display_data"
    },
    {
     "data": {
      "text/markdown": [
       "**Accuracy**: 0.9722"
      ],
      "text/plain": [
       "<IPython.core.display.Markdown object>"
      ]
     },
     "metadata": {},
     "output_type": "display_data"
    },
    {
     "data": {
      "text/markdown": [
       "\n",
       "**Matriz de Confusión:**"
      ],
      "text/plain": [
       "<IPython.core.display.Markdown object>"
      ]
     },
     "metadata": {},
     "output_type": "display_data"
    },
    {
     "name": "stdout",
     "output_type": "stream",
     "text": [
      "[[12  0  0]\n",
      " [ 1 13  0]\n",
      " [ 0  0 10]]\n"
     ]
    },
    {
     "data": {
      "text/markdown": [
       "\n",
       "**Reporte de Clasificación:**"
      ],
      "text/plain": [
       "<IPython.core.display.Markdown object>"
      ]
     },
     "metadata": {},
     "output_type": "display_data"
    },
    {
     "name": "stdout",
     "output_type": "stream",
     "text": [
      "              precision    recall  f1-score   support\n",
      "\n",
      "           0       0.92      1.00      0.96        12\n",
      "           1       1.00      0.93      0.96        14\n",
      "           2       1.00      1.00      1.00        10\n",
      "\n",
      "    accuracy                           0.97        36\n",
      "   macro avg       0.97      0.98      0.97        36\n",
      "weighted avg       0.97      0.97      0.97        36\n",
      "\n"
     ]
    },
    {
     "data": {
      "text/markdown": [
       "**0.037** segundos para entrenar el modelo Naive Bayes para Vinos"
      ],
      "text/plain": [
       "<IPython.core.display.Markdown object>"
      ]
     },
     "metadata": {},
     "output_type": "display_data"
    },
    {
     "data": {
      "text/markdown": [
       "\n",
       "------------------------------------------------------------\n"
      ],
      "text/plain": [
       "<IPython.core.display.Markdown object>"
      ]
     },
     "metadata": {},
     "output_type": "display_data"
    },
    {
     "data": {
      "text/markdown": [
       "------ **Resultados del Perceptrón Multicapa (MLP) para Vinos** ------"
      ],
      "text/plain": [
       "<IPython.core.display.Markdown object>"
      ]
     },
     "metadata": {},
     "output_type": "display_data"
    },
    {
     "data": {
      "text/markdown": [
       "**Accuracy**: 0.9722"
      ],
      "text/plain": [
       "<IPython.core.display.Markdown object>"
      ]
     },
     "metadata": {},
     "output_type": "display_data"
    },
    {
     "data": {
      "text/markdown": [
       "\n",
       "**Matriz de Confusión:**"
      ],
      "text/plain": [
       "<IPython.core.display.Markdown object>"
      ]
     },
     "metadata": {},
     "output_type": "display_data"
    },
    {
     "name": "stdout",
     "output_type": "stream",
     "text": [
      "[[12  0  0]\n",
      " [ 0 14  0]\n",
      " [ 0  1  9]]\n"
     ]
    },
    {
     "data": {
      "text/markdown": [
       "\n",
       "**Reporte de Clasificación:**"
      ],
      "text/plain": [
       "<IPython.core.display.Markdown object>"
      ]
     },
     "metadata": {},
     "output_type": "display_data"
    },
    {
     "name": "stdout",
     "output_type": "stream",
     "text": [
      "              precision    recall  f1-score   support\n",
      "\n",
      "           0       1.00      1.00      1.00        12\n",
      "           1       0.93      1.00      0.97        14\n",
      "           2       1.00      0.90      0.95        10\n",
      "\n",
      "    accuracy                           0.97        36\n",
      "   macro avg       0.98      0.97      0.97        36\n",
      "weighted avg       0.97      0.97      0.97        36\n",
      "\n"
     ]
    },
    {
     "data": {
      "text/markdown": [
       "**0.218** segundos para entrenar el modelo MLP para Vinos"
      ],
      "text/plain": [
       "<IPython.core.display.Markdown object>"
      ]
     },
     "metadata": {},
     "output_type": "display_data"
    },
    {
     "data": {
      "text/markdown": [
       "\n",
       "------------------------------------------------------------\n"
      ],
      "text/plain": [
       "<IPython.core.display.Markdown object>"
      ]
     },
     "metadata": {},
     "output_type": "display_data"
    },
    {
     "data": {
      "text/markdown": [
       "------ **Resultados de Regresión Logística para Vinos** ------"
      ],
      "text/plain": [
       "<IPython.core.display.Markdown object>"
      ]
     },
     "metadata": {},
     "output_type": "display_data"
    },
    {
     "data": {
      "text/markdown": [
       "**Accuracy**: 0.9722"
      ],
      "text/plain": [
       "<IPython.core.display.Markdown object>"
      ]
     },
     "metadata": {},
     "output_type": "display_data"
    },
    {
     "data": {
      "text/markdown": [
       "\n",
       "**Matriz de Confusión:**"
      ],
      "text/plain": [
       "<IPython.core.display.Markdown object>"
      ]
     },
     "metadata": {},
     "output_type": "display_data"
    },
    {
     "name": "stdout",
     "output_type": "stream",
     "text": [
      "[[12  0  0]\n",
      " [ 0 14  0]\n",
      " [ 0  1  9]]\n"
     ]
    },
    {
     "data": {
      "text/markdown": [
       "\n",
       "**Reporte de Clasificación:**"
      ],
      "text/plain": [
       "<IPython.core.display.Markdown object>"
      ]
     },
     "metadata": {},
     "output_type": "display_data"
    },
    {
     "name": "stdout",
     "output_type": "stream",
     "text": [
      "              precision    recall  f1-score   support\n",
      "\n",
      "           0       1.00      1.00      1.00        12\n",
      "           1       0.93      1.00      0.97        14\n",
      "           2       1.00      0.90      0.95        10\n",
      "\n",
      "    accuracy                           0.97        36\n",
      "   macro avg       0.98      0.97      0.97        36\n",
      "weighted avg       0.97      0.97      0.97        36\n",
      "\n"
     ]
    },
    {
     "data": {
      "text/markdown": [
       "**0.044** segundos para entrenar el modelo de Regresión Logística para Vinos"
      ],
      "text/plain": [
       "<IPython.core.display.Markdown object>"
      ]
     },
     "metadata": {},
     "output_type": "display_data"
    },
    {
     "data": {
      "text/markdown": [
       "\n",
       "------------------------------------------------------------\n"
      ],
      "text/plain": [
       "<IPython.core.display.Markdown object>"
      ]
     },
     "metadata": {},
     "output_type": "display_data"
    },
    {
     "data": {
      "text/markdown": [
       "### Comparación de Modelos para el Dataset Vinos"
      ],
      "text/plain": [
       "<IPython.core.display.Markdown object>"
      ]
     },
     "metadata": {},
     "output_type": "display_data"
    },
    {
     "data": {
      "text/markdown": [
       "#### **Precisión**"
      ],
      "text/plain": [
       "<IPython.core.display.Markdown object>"
      ]
     },
     "metadata": {},
     "output_type": "display_data"
    },
    {
     "data": {
      "text/markdown": [
       "Según `accurancy`, la regresión logística es tan precisa como los 3 modelos supervisados estudiados en esta práctica. "
      ],
      "text/plain": [
       "<IPython.core.display.Markdown object>"
      ]
     },
     "metadata": {},
     "output_type": "display_data"
    },
    {
     "data": {
      "text/markdown": [
       "#### **Matriz de confusión**"
      ],
      "text/plain": [
       "<IPython.core.display.Markdown object>"
      ]
     },
     "metadata": {},
     "output_type": "display_data"
    },
    {
     "data": {
      "text/markdown": [
       "Si miramos la `matriz de confusión`, tampoco hay demasiadas diferencias con los otros 3 modelos."
      ],
      "text/plain": [
       "<IPython.core.display.Markdown object>"
      ]
     },
     "metadata": {},
     "output_type": "display_data"
    },
    {
     "data": {
      "text/markdown": [
       "#### **Reporte de clasificación**"
      ],
      "text/plain": [
       "<IPython.core.display.Markdown object>"
      ]
     },
     "metadata": {},
     "output_type": "display_data"
    },
    {
     "data": {
      "text/markdown": [
       "Si miramos el `reporte de clasificación`, tampoco se notan diferencias sustanciales con los otros 3 modelos."
      ],
      "text/plain": [
       "<IPython.core.display.Markdown object>"
      ]
     },
     "metadata": {},
     "output_type": "display_data"
    },
    {
     "data": {
      "text/markdown": [
       "#### **Tiempo de entrenamiento**"
      ],
      "text/plain": [
       "<IPython.core.display.Markdown object>"
      ]
     },
     "metadata": {},
     "output_type": "display_data"
    },
    {
     "data": {
      "text/markdown": [
       "En cuanto al `tiempo de entrenamiento`, el modelo de regresión logística es más rápido que MLP (por diferencia), pero no que k-NN y GNB (acá no es tanta la diferencia)."
      ],
      "text/plain": [
       "<IPython.core.display.Markdown object>"
      ]
     },
     "metadata": {},
     "output_type": "display_data"
    },
    {
     "data": {
      "text/markdown": [
       "#### **Conclusión**:"
      ],
      "text/plain": [
       "<IPython.core.display.Markdown object>"
      ]
     },
     "metadata": {},
     "output_type": "display_data"
    },
    {
     "data": {
      "text/markdown": [
       "Para el dataset de vinos, la regresión logística se comporta tan bien como los modelos supervisados estudiados (MLP, GNB y k-NN). Por lo que, es una buena opción a considerar."
      ],
      "text/plain": [
       "<IPython.core.display.Markdown object>"
      ]
     },
     "metadata": {},
     "output_type": "display_data"
    }
   ],
   "source": [
    "# ======================================================================================================================================\n",
    "#\n",
    "# PREPARACIÓN DEL ENTORNO\n",
    "#\n",
    "import pandas as pd\n",
    "import numpy as np\n",
    "from IPython.display import display, Markdown\n",
    "from sklearn.linear_model import LogisticRegression\n",
    "\n",
    "# ======================================================================================================================================\n",
    "#\n",
    "# CARGA Y EXPLORACIÓN DE DATOS\n",
    "#\n",
    "from sklearn.datasets import load_wine\n",
    "\n",
    "# Cargar\n",
    "data_vinos_5 = load_wine(as_frame=True)\n",
    "df_vinos_5 = data_vinos_5.frame\n",
    "\n",
    "# Características y objetivo\n",
    "X_vinos_5 = df_vinos_5[data_vinos_5.feature_names]\n",
    "y_vinos_5 = df_vinos_5['target']\n",
    "\n",
    "# Clases\n",
    "display(Markdown(f\"**Nombres de clases**: {data_vinos_5.target_names}\"))\n",
    "\n",
    "# ======================================================================================================================================\n",
    "#\n",
    "# PREPARACIÓN DE DATOS\n",
    "#\n",
    "\n",
    "# Separación\n",
    "X_train_vinos_5, X_test_vinos_5, y_train_vinos_5, y_test_vinos_5 = train_test_split(X_vinos_5, y_vinos_5, test_size=0.2, random_state=42, stratify=y_vinos_5)\n",
    "\n",
    "# Nuevo escalado, en este caso, para el entrenamiento y prueba\n",
    "scaler_vinos_5 = StandardScaler()\n",
    "X_train_scaled_vinos_5 = scaler_vinos_5.fit_transform(X_train_vinos_5)\n",
    "X_test_scaled_vinos_5 = scaler_vinos_5.transform(X_test_vinos_5)\n",
    "\n",
    "# ======================================================================================================================================\n",
    "#\n",
    "# MODELADO CON K-NN\n",
    "#\n",
    "\n",
    "start_vinos_5_knn = time.time()\n",
    "\n",
    "# Inicializar y entrenar el clasificador k-NN\n",
    "knn_vinos_5 = KNeighborsClassifier(n_neighbors=5)\n",
    "knn_vinos_5.fit(X_train_scaled_vinos_5, y_train_vinos_5)\n",
    "\n",
    "# Realizar predicciones\n",
    "y_pred_vinos_5_knn = knn_vinos_5.predict(X_test_scaled_vinos_5)\n",
    "\n",
    "# Evaluar el modelo\n",
    "display(Markdown(\"------ **Resultados de k-NN (k=5) para Vinos** ------\"))\n",
    "display(Markdown(f\"**Accuracy**: {accuracy_score(y_test_vinos_5, y_pred_vinos_5_knn):.4f}\"))\n",
    "display(Markdown(\"\\n**Matriz de Confusión:**\"))\n",
    "print(confusion_matrix(y_test_vinos_5, y_pred_vinos_5_knn))\n",
    "display(Markdown(\"\\n**Reporte de Clasificación:**\"))\n",
    "print(classification_report(y_test_vinos_5, y_pred_vinos_5_knn))\n",
    "end_vinos_5_knn = time.time()\n",
    "display(Markdown(f\"**{end_vinos_5_knn - start_vinos_5_knn:.3f}** segundos para entrenar el modelo k-NN para Vinos\"))\n",
    "display(Markdown(\"\\n------------------------------------------------------------\\n\"))\n",
    "\n",
    "# ======================================================================================================================================\n",
    "#\n",
    "# MODELADO CON NAIVE BAYES\n",
    "#\n",
    "\n",
    "start_vinos_5_gnb = time.time()\n",
    "\n",
    "# Inicializar y entrenar el clasificador Naive Bayes\n",
    "gnb_vinos_5 = GaussianNB()\n",
    "gnb_vinos_5.fit(X_train_scaled_vinos_5, y_train_vinos_5)\n",
    "\n",
    "# Realizar predicciones\n",
    "y_pred_vinos_5_gnb = gnb_vinos_5.predict(X_test_scaled_vinos_5)\n",
    "\n",
    "# Evaluar el modelo\n",
    "display(Markdown(\"------ **Resultados de Naive Bayes Gaussiano para Vinos** ------\"))\n",
    "display(Markdown(f\"**Accuracy**: {accuracy_score(y_test_vinos_5, y_pred_vinos_5_gnb):.4f}\"))\n",
    "display(Markdown(\"\\n**Matriz de Confusión:**\"))\n",
    "print(confusion_matrix(y_test_vinos_5, y_pred_vinos_5_gnb))\n",
    "display(Markdown(\"\\n**Reporte de Clasificación:**\"))\n",
    "print(classification_report(y_test_vinos_5, y_pred_vinos_5_gnb))\n",
    "end_vinos_5_gnb = time.time()\n",
    "display(Markdown(f\"**{end_vinos_5_gnb - start_vinos_5_gnb:.3f}** segundos para entrenar el modelo Naive Bayes para Vinos\"))\n",
    "display(Markdown(\"\\n------------------------------------------------------------\\n\"))\n",
    "\n",
    "# ======================================================================================================================================\n",
    "#\n",
    "# MODELADO CON MLP\n",
    "#\n",
    "\n",
    "start_vinos_5_mlp = time.time()\n",
    "\n",
    "# Inicializar y entrenar el clasificador MLP\n",
    "mlp_vinos_5 = MLPClassifier(hidden_layer_sizes=(100,), max_iter=1000, random_state=42)\n",
    "mlp_vinos_5.fit(X_train_scaled_vinos_5, y_train_vinos_5)\n",
    "\n",
    "# Realizar predicciones\n",
    "y_pred_vinos_5_mlp = mlp_vinos_5.predict(X_test_scaled_vinos_5)\n",
    "\n",
    "# Evaluar el modelo\n",
    "display(Markdown(\"------ **Resultados del Perceptrón Multicapa (MLP) para Vinos** ------\"))\n",
    "display(Markdown(f\"**Accuracy**: {accuracy_score(y_test_vinos_5, y_pred_vinos_5_mlp):.4f}\"))\n",
    "display(Markdown(\"\\n**Matriz de Confusión:**\"))\n",
    "print(confusion_matrix(y_test_vinos_5, y_pred_vinos_5_mlp))\n",
    "display(Markdown(\"\\n**Reporte de Clasificación:**\"))\n",
    "print(classification_report(y_test_vinos_5, y_pred_vinos_5_mlp))\n",
    "end_vinos_5_mlp = time.time()\n",
    "display(Markdown(f\"**{end_vinos_5_mlp - start_vinos_5_mlp:.3f}** segundos para entrenar el modelo MLP para Vinos\"))\n",
    "display(Markdown(\"\\n------------------------------------------------------------\\n\"))\n",
    "\n",
    "# ======================================================================================================================================\n",
    "#\n",
    "# MODELADO CON REGRESIÓN LOGÍSTICA\n",
    "#\n",
    "\n",
    "start_vinos_5_lr = time.time()\n",
    "\n",
    "# Inicializar y entrenar el clasificador de Regresión Logística\n",
    "lr_vinos_5 = LogisticRegression(max_iter=1000, random_state=42)\n",
    "lr_vinos_5.fit(X_train_scaled_vinos_5, y_train_vinos_5)\n",
    "\n",
    "# Realizar predicciones\n",
    "y_pred_vinos_5_lr = lr_vinos_5.predict(X_test_scaled_vinos_5)\n",
    "\n",
    "# Evaluar el modelo\n",
    "display(Markdown(\"------ **Resultados de Regresión Logística para Vinos** ------\"))\n",
    "display(Markdown(f\"**Accuracy**: {accuracy_score(y_test_vinos_5, y_pred_vinos_5_lr):.4f}\"))\n",
    "display(Markdown(\"\\n**Matriz de Confusión:**\"))\n",
    "print(confusion_matrix(y_test_vinos_5, y_pred_vinos_5_lr))\n",
    "display(Markdown(\"\\n**Reporte de Clasificación:**\"))\n",
    "print(classification_report(y_test_vinos_5, y_pred_vinos_5_lr))\n",
    "end_vinos_5_lr = time.time()\n",
    "display(Markdown(f\"**{end_vinos_5_lr - start_vinos_5_lr:.3f}** segundos para entrenar el modelo de Regresión Logística para Vinos\"))\n",
    "display(Markdown(\"\\n------------------------------------------------------------\\n\"))\n",
    "\n",
    "# ======================================================================================================================================\n",
    "#\n",
    "# COMPARACIÓN DE MODELOS\n",
    "#\n",
    "\n",
    "display(Markdown(\"### Comparación de Modelos para el Dataset Vinos\"))\n",
    "display(Markdown(\"#### **Precisión**\"))\n",
    "display(Markdown(\"Según `accurancy`, la regresión logística es tan precisa como los 3 modelos supervisados estudiados en esta práctica. \"))\n",
    "display(Markdown(\"#### **Matriz de confusión**\"))\n",
    "display(Markdown(\"Si miramos la `matriz de confusión`, tampoco hay demasiadas diferencias con los otros 3 modelos.\"))\n",
    "display(Markdown(\"#### **Reporte de clasificación**\"))\n",
    "display(Markdown(\"Si miramos el `reporte de clasificación`, tampoco se notan diferencias sustanciales con los otros 3 modelos.\"))\n",
    "display(Markdown(\"#### **Tiempo de entrenamiento**\"))\n",
    "display(Markdown(\"En cuanto al `tiempo de entrenamiento`, el modelo de regresión logística es más rápido que MLP (por diferencia), pero no que k-NN y GNB (acá no es tanta la diferencia).\"))\n",
    "display(Markdown(\"#### **Conclusión**:\"))\n",
    "display(Markdown(\"Para el dataset de vinos, la regresión logística se comporta tan bien como los modelos supervisados estudiados (MLP, GNB y k-NN). Por lo que, es una buena opción a considerar.\"))"
   ]
  }
 ],
 "metadata": {
  "kernelspec": {
   "display_name": "Python 3",
   "language": "python",
   "name": "python3"
  },
  "language_info": {
   "codemirror_mode": {
    "name": "ipython",
    "version": 3
   },
   "file_extension": ".py",
   "mimetype": "text/x-python",
   "name": "python",
   "nbconvert_exporter": "python",
   "pygments_lexer": "ipython3",
   "version": "3.11.9"
  }
 },
 "nbformat": 4,
 "nbformat_minor": 2
}
