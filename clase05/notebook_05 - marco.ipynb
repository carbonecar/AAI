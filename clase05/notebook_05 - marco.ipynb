{
 "cells": [
  {
   "cell_type": "markdown",
   "metadata": {},
   "source": [
    "# Taller Práctico: Árboles de Decisión con Scikit-Learn\n",
    "\n",
    "**Objetivos de la Práctica:**\n",
    "\n",
    "En este taller, aplicaremos los conceptos teóricos de los árboles de decisión. Al finalizar, serás capaz de:\n",
    "\n",
    "1.  **Cargar y preparar datos** para un problema de clasificación.\n",
    "2.  **Entrenar un árbol de decisión** utilizando la librería `scikit-learn`.\n",
    "3.  **Visualizar e interpretar** la estructura de un árbol.\n",
    "4.  Identificar y comprender el problema del **sobreajuste** en los árboles.\n",
    "5.  Aplicar la **poda por complejidad de costo** para encontrar un árbol más robusto.\n",
    "6.  Evaluar la **importancia de las características** que el modelo aprende."
   ]
  },
  {
   "cell_type": "markdown",
   "metadata": {},
   "source": [
    "## 1. Preparación del Entorno\n",
    "\n",
    "Primero, importaremos las librerías que necesitaremos para nuestro análisis. Usaremos `pandas` para la manipulación de datos, `scikit-learn` para el modelado, `plotly` para visualizaciones interactivas y `matplotlib` para la visualización específica del árbol."
   ]
  },
  {
   "cell_type": "code",
   "execution_count": 11,
   "metadata": {},
   "outputs": [],
   "source": [
    "# Librerías para manipulación y análisis de datos\n",
    "import pandas as pd\n",
    "import numpy as np\n",
    "\n",
    "# Librerías para modelado y evaluación\n",
    "from sklearn.datasets import load_breast_cancer\n",
    "from sklearn.model_selection import train_test_split, GridSearchCV\n",
    "from sklearn.tree import DecisionTreeClassifier\n",
    "from sklearn.metrics import accuracy_score\n",
    "\n",
    "# Librerías para visualización\n",
    "import plotly.express as px\n",
    "from sklearn.tree import plot_tree\n",
    "import matplotlib.pyplot as plt"
   ]
  },
  {
   "cell_type": "markdown",
   "metadata": {},
   "source": [
    "## 2. Carga y Exploración de Datos\n",
    "\n",
    "Vamos a utilizar el dataset de **Cáncer de Mama de Wisconsin**, que está convenientemente incluido en `scikit-learn`. Es un problema de clasificación binaria clásico donde el objetivo es predecir si un tumor es maligno o benigno basándose en varias características de sus células."
   ]
  },
  {
   "cell_type": "code",
   "execution_count": 2,
   "metadata": {},
   "outputs": [
    {
     "name": "stdout",
     "output_type": "stream",
     "text": [
      "Nombres de las clases: ['malignant' 'benign']\n",
      "\n",
      "Primeras 5 filas de características:\n"
     ]
    },
    {
     "data": {
      "text/html": [
       "<div>\n",
       "<style scoped>\n",
       "    .dataframe tbody tr th:only-of-type {\n",
       "        vertical-align: middle;\n",
       "    }\n",
       "\n",
       "    .dataframe tbody tr th {\n",
       "        vertical-align: top;\n",
       "    }\n",
       "\n",
       "    .dataframe thead th {\n",
       "        text-align: right;\n",
       "    }\n",
       "</style>\n",
       "<table border=\"1\" class=\"dataframe\">\n",
       "  <thead>\n",
       "    <tr style=\"text-align: right;\">\n",
       "      <th></th>\n",
       "      <th>mean radius</th>\n",
       "      <th>mean texture</th>\n",
       "      <th>mean perimeter</th>\n",
       "      <th>mean area</th>\n",
       "      <th>mean smoothness</th>\n",
       "      <th>mean compactness</th>\n",
       "      <th>mean concavity</th>\n",
       "      <th>mean concave points</th>\n",
       "      <th>mean symmetry</th>\n",
       "      <th>mean fractal dimension</th>\n",
       "      <th>...</th>\n",
       "      <th>worst radius</th>\n",
       "      <th>worst texture</th>\n",
       "      <th>worst perimeter</th>\n",
       "      <th>worst area</th>\n",
       "      <th>worst smoothness</th>\n",
       "      <th>worst compactness</th>\n",
       "      <th>worst concavity</th>\n",
       "      <th>worst concave points</th>\n",
       "      <th>worst symmetry</th>\n",
       "      <th>worst fractal dimension</th>\n",
       "    </tr>\n",
       "  </thead>\n",
       "  <tbody>\n",
       "    <tr>\n",
       "      <th>0</th>\n",
       "      <td>17.99</td>\n",
       "      <td>10.38</td>\n",
       "      <td>122.80</td>\n",
       "      <td>1001.0</td>\n",
       "      <td>0.11840</td>\n",
       "      <td>0.27760</td>\n",
       "      <td>0.3001</td>\n",
       "      <td>0.14710</td>\n",
       "      <td>0.2419</td>\n",
       "      <td>0.07871</td>\n",
       "      <td>...</td>\n",
       "      <td>25.38</td>\n",
       "      <td>17.33</td>\n",
       "      <td>184.60</td>\n",
       "      <td>2019.0</td>\n",
       "      <td>0.1622</td>\n",
       "      <td>0.6656</td>\n",
       "      <td>0.7119</td>\n",
       "      <td>0.2654</td>\n",
       "      <td>0.4601</td>\n",
       "      <td>0.11890</td>\n",
       "    </tr>\n",
       "    <tr>\n",
       "      <th>1</th>\n",
       "      <td>20.57</td>\n",
       "      <td>17.77</td>\n",
       "      <td>132.90</td>\n",
       "      <td>1326.0</td>\n",
       "      <td>0.08474</td>\n",
       "      <td>0.07864</td>\n",
       "      <td>0.0869</td>\n",
       "      <td>0.07017</td>\n",
       "      <td>0.1812</td>\n",
       "      <td>0.05667</td>\n",
       "      <td>...</td>\n",
       "      <td>24.99</td>\n",
       "      <td>23.41</td>\n",
       "      <td>158.80</td>\n",
       "      <td>1956.0</td>\n",
       "      <td>0.1238</td>\n",
       "      <td>0.1866</td>\n",
       "      <td>0.2416</td>\n",
       "      <td>0.1860</td>\n",
       "      <td>0.2750</td>\n",
       "      <td>0.08902</td>\n",
       "    </tr>\n",
       "    <tr>\n",
       "      <th>2</th>\n",
       "      <td>19.69</td>\n",
       "      <td>21.25</td>\n",
       "      <td>130.00</td>\n",
       "      <td>1203.0</td>\n",
       "      <td>0.10960</td>\n",
       "      <td>0.15990</td>\n",
       "      <td>0.1974</td>\n",
       "      <td>0.12790</td>\n",
       "      <td>0.2069</td>\n",
       "      <td>0.05999</td>\n",
       "      <td>...</td>\n",
       "      <td>23.57</td>\n",
       "      <td>25.53</td>\n",
       "      <td>152.50</td>\n",
       "      <td>1709.0</td>\n",
       "      <td>0.1444</td>\n",
       "      <td>0.4245</td>\n",
       "      <td>0.4504</td>\n",
       "      <td>0.2430</td>\n",
       "      <td>0.3613</td>\n",
       "      <td>0.08758</td>\n",
       "    </tr>\n",
       "    <tr>\n",
       "      <th>3</th>\n",
       "      <td>11.42</td>\n",
       "      <td>20.38</td>\n",
       "      <td>77.58</td>\n",
       "      <td>386.1</td>\n",
       "      <td>0.14250</td>\n",
       "      <td>0.28390</td>\n",
       "      <td>0.2414</td>\n",
       "      <td>0.10520</td>\n",
       "      <td>0.2597</td>\n",
       "      <td>0.09744</td>\n",
       "      <td>...</td>\n",
       "      <td>14.91</td>\n",
       "      <td>26.50</td>\n",
       "      <td>98.87</td>\n",
       "      <td>567.7</td>\n",
       "      <td>0.2098</td>\n",
       "      <td>0.8663</td>\n",
       "      <td>0.6869</td>\n",
       "      <td>0.2575</td>\n",
       "      <td>0.6638</td>\n",
       "      <td>0.17300</td>\n",
       "    </tr>\n",
       "    <tr>\n",
       "      <th>4</th>\n",
       "      <td>20.29</td>\n",
       "      <td>14.34</td>\n",
       "      <td>135.10</td>\n",
       "      <td>1297.0</td>\n",
       "      <td>0.10030</td>\n",
       "      <td>0.13280</td>\n",
       "      <td>0.1980</td>\n",
       "      <td>0.10430</td>\n",
       "      <td>0.1809</td>\n",
       "      <td>0.05883</td>\n",
       "      <td>...</td>\n",
       "      <td>22.54</td>\n",
       "      <td>16.67</td>\n",
       "      <td>152.20</td>\n",
       "      <td>1575.0</td>\n",
       "      <td>0.1374</td>\n",
       "      <td>0.2050</td>\n",
       "      <td>0.4000</td>\n",
       "      <td>0.1625</td>\n",
       "      <td>0.2364</td>\n",
       "      <td>0.07678</td>\n",
       "    </tr>\n",
       "  </tbody>\n",
       "</table>\n",
       "<p>5 rows × 30 columns</p>\n",
       "</div>"
      ],
      "text/plain": [
       "   mean radius  mean texture  mean perimeter  mean area  mean smoothness  \\\n",
       "0        17.99         10.38          122.80     1001.0          0.11840   \n",
       "1        20.57         17.77          132.90     1326.0          0.08474   \n",
       "2        19.69         21.25          130.00     1203.0          0.10960   \n",
       "3        11.42         20.38           77.58      386.1          0.14250   \n",
       "4        20.29         14.34          135.10     1297.0          0.10030   \n",
       "\n",
       "   mean compactness  mean concavity  mean concave points  mean symmetry  \\\n",
       "0           0.27760          0.3001              0.14710         0.2419   \n",
       "1           0.07864          0.0869              0.07017         0.1812   \n",
       "2           0.15990          0.1974              0.12790         0.2069   \n",
       "3           0.28390          0.2414              0.10520         0.2597   \n",
       "4           0.13280          0.1980              0.10430         0.1809   \n",
       "\n",
       "   mean fractal dimension  ...  worst radius  worst texture  worst perimeter  \\\n",
       "0                 0.07871  ...         25.38          17.33           184.60   \n",
       "1                 0.05667  ...         24.99          23.41           158.80   \n",
       "2                 0.05999  ...         23.57          25.53           152.50   \n",
       "3                 0.09744  ...         14.91          26.50            98.87   \n",
       "4                 0.05883  ...         22.54          16.67           152.20   \n",
       "\n",
       "   worst area  worst smoothness  worst compactness  worst concavity  \\\n",
       "0      2019.0            0.1622             0.6656           0.7119   \n",
       "1      1956.0            0.1238             0.1866           0.2416   \n",
       "2      1709.0            0.1444             0.4245           0.4504   \n",
       "3       567.7            0.2098             0.8663           0.6869   \n",
       "4      1575.0            0.1374             0.2050           0.4000   \n",
       "\n",
       "   worst concave points  worst symmetry  worst fractal dimension  \n",
       "0                0.2654          0.4601                  0.11890  \n",
       "1                0.1860          0.2750                  0.08902  \n",
       "2                0.2430          0.3613                  0.08758  \n",
       "3                0.2575          0.6638                  0.17300  \n",
       "4                0.1625          0.2364                  0.07678  \n",
       "\n",
       "[5 rows x 30 columns]"
      ]
     },
     "metadata": {},
     "output_type": "display_data"
    },
    {
     "name": "stdout",
     "output_type": "stream",
     "text": [
      "\n",
      "Información del DataFrame:\n",
      "<class 'pandas.core.frame.DataFrame'>\n",
      "RangeIndex: 569 entries, 0 to 568\n",
      "Data columns (total 30 columns):\n",
      " #   Column                   Non-Null Count  Dtype  \n",
      "---  ------                   --------------  -----  \n",
      " 0   mean radius              569 non-null    float64\n",
      " 1   mean texture             569 non-null    float64\n",
      " 2   mean perimeter           569 non-null    float64\n",
      " 3   mean area                569 non-null    float64\n",
      " 4   mean smoothness          569 non-null    float64\n",
      " 5   mean compactness         569 non-null    float64\n",
      " 6   mean concavity           569 non-null    float64\n",
      " 7   mean concave points      569 non-null    float64\n",
      " 8   mean symmetry            569 non-null    float64\n",
      " 9   mean fractal dimension   569 non-null    float64\n",
      " 10  radius error             569 non-null    float64\n",
      " 11  texture error            569 non-null    float64\n",
      " 12  perimeter error          569 non-null    float64\n",
      " 13  area error               569 non-null    float64\n",
      " 14  smoothness error         569 non-null    float64\n",
      " 15  compactness error        569 non-null    float64\n",
      " 16  concavity error          569 non-null    float64\n",
      " 17  concave points error     569 non-null    float64\n",
      " 18  symmetry error           569 non-null    float64\n",
      " 19  fractal dimension error  569 non-null    float64\n",
      " 20  worst radius             569 non-null    float64\n",
      " 21  worst texture            569 non-null    float64\n",
      " 22  worst perimeter          569 non-null    float64\n",
      " 23  worst area               569 non-null    float64\n",
      " 24  worst smoothness         569 non-null    float64\n",
      " 25  worst compactness        569 non-null    float64\n",
      " 26  worst concavity          569 non-null    float64\n",
      " 27  worst concave points     569 non-null    float64\n",
      " 28  worst symmetry           569 non-null    float64\n",
      " 29  worst fractal dimension  569 non-null    float64\n",
      "dtypes: float64(30)\n",
      "memory usage: 133.5 KB\n"
     ]
    }
   ],
   "source": [
    "# Cargamos el dataset. `as_frame=True` nos lo devuelve como un DataFrame de pandas.\n",
    "data = load_breast_cancer(as_frame=True)\n",
    "df = data.frame\n",
    "\n",
    "# Separamos las características (X) y la variable objetivo (y)\n",
    "X = df[data.feature_names]\n",
    "y = df['target']\n",
    "\n",
    "# Nombres de las clases (0: Maligno, 1: Benigno)\n",
    "print(f\"Nombres de las clases: {data.target_names}\")\n",
    "\n",
    "# Echamos un vistazo a las primeras filas del dataset\n",
    "print(\"\\nPrimeras 5 filas de características:\")\n",
    "display(X.head())\n",
    "\n",
    "# Resumen del dataset\n",
    "print(\"\\nInformación del DataFrame:\")\n",
    "X.info()"
   ]
  },
  {
   "cell_type": "code",
   "execution_count": 3,
   "metadata": {},
   "outputs": [
    {
     "data": {
      "text/plain": [
       "<Axes: title={'center': 'Distribución de Clases'}, xlabel='target'>"
      ]
     },
     "execution_count": 3,
     "metadata": {},
     "output_type": "execute_result"
    },
    {
     "data": {
      "image/png": "[encoded data removed]",
      "text/plain": [
       "<Figure size 640x480 with 1 Axes>"
      ]
     },
     "metadata": {},
     "output_type": "display_data"
    }
   ],
   "source": [
    "y.value_counts().plot(kind='bar', title='Distribución de Clases')"
   ]
  },
  {
   "cell_type": "markdown",
   "metadata": {},
   "source": [
    "### Visualización Exploratoria\n",
    "Usemos Plotly para visualizar la relación entre dos características importantes, `mean radius` y `mean texture`, y ver cómo se distribuyen las clases."
   ]
  },
  {
   "cell_type": "code",
   "execution_count": 4,
   "metadata": {},
   "outputs": [
    {
     "data": {
      "application/vnd.plotly.v1+json": {
       "config": {
        "plotlyServerURL": "https://plot.ly"
       },
       "data": [
        {
         "hovertemplate": "Clase=malignant<br>Radio Promedio=%{x}<br>Textura Promedia=%{y}<extra></extra>",
         "legendgroup": "malignant",
         "marker": {
          "color": "#636efa",
          "symbol": "circle"
         },
         "mode": "markers",
         "name": "malignant",
         "orientation": "v",
         "showlegend": true,
         "type": "scatter",
         "x": {
          "bdata": "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",
          "dtype": "f8"
         },
         "xaxis": "x",
         "y": {
          "bdata": "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",
          "dtype": "f8"
         },
         "yaxis": "y"
        },
        {
         "hovertemplate": "Clase=benign<br>Radio Promedio=%{x}<br>Textura Promedia=%{y}<extra></extra>",
         "legendgroup": "benign",
         "marker": {
          "color": "#EF553B",
          "symbol": "circle"
         },
         "mode": "markers",
         "name": "benign",
         "orientation": "v",
         "showlegend": true,
         "type": "scatter",
         "x": {
          "bdata": "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",
          "dtype": "f8"
         },
         "xaxis": "x",
         "y": {
          "bdata": "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",
          "dtype": "f8"
         },
         "yaxis": "y"
        }
       ],
       "layout": {
        "legend": {
         "title": {
          "text": "Clase"
         },
         "tracegroupgap": 0
        },
        "template": {
         "data": {
          "bar": [
           {
            "error_x": {
             "color": "#2a3f5f"
            },
            "error_y": {
             "color": "#2a3f5f"
            },
            "marker": {
             "line": {
              "color": "#E5ECF6",
              "width": 0.5
             },
             "pattern": {
              "fillmode": "overlay",
              "size": 10,
              "solidity": 0.2
             }
            },
            "type": "bar"
           }
          ],
          "barpolar": [
           {
            "marker": {
             "line": {
              "color": "#E5ECF6",
              "width": 0.5
             },
             "pattern": {
              "fillmode": "overlay",
              "size": 10,
              "solidity": 0.2
             }
            },
            "type": "barpolar"
           }
          ],
          "carpet": [
           {
            "aaxis": {
             "endlinecolor": "#2a3f5f",
             "gridcolor": "white",
             "linecolor": "white",
             "minorgridcolor": "white",
             "startlinecolor": "#2a3f5f"
            },
            "baxis": {
             "endlinecolor": "#2a3f5f",
             "gridcolor": "white",
             "linecolor": "white",
             "minorgridcolor": "white",
             "startlinecolor": "#2a3f5f"
            },
            "type": "carpet"
           }
          ],
          "choropleth": [
           {
            "colorbar": {
             "outlinewidth": 0,
             "ticks": ""
            },
            "type": "choropleth"
           }
          ],
          "contour": [
           {
            "colorbar": {
             "outlinewidth": 0,
             "ticks": ""
            },
            "colorscale": [
             [
              0,
              "#0d0887"
             ],
             [
              0.1111111111111111,
              "#46039f"
             ],
             [
              0.2222222222222222,
              "#7201a8"
             ],
             [
              0.3333333333333333,
              "#9c179e"
             ],
             [
              0.4444444444444444,
              "#bd3786"
             ],
             [
              0.5555555555555556,
              "#d8576b"
             ],
             [
              0.6666666666666666,
              "#ed7953"
             ],
             [
              0.7777777777777778,
              "#fb9f3a"
             ],
             [
              0.8888888888888888,
              "#fdca26"
             ],
             [
              1,
              "#f0f921"
             ]
            ],
            "type": "contour"
           }
          ],
          "contourcarpet": [
           {
            "colorbar": {
             "outlinewidth": 0,
             "ticks": ""
            },
            "type": "contourcarpet"
           }
          ],
          "heatmap": [
           {
            "colorbar": {
             "outlinewidth": 0,
             "ticks": ""
            },
            "colorscale": [
             [
              0,
              "#0d0887"
             ],
             [
              0.1111111111111111,
              "#46039f"
             ],
             [
              0.2222222222222222,
              "#7201a8"
             ],
             [
              0.3333333333333333,
              "#9c179e"
             ],
             [
              0.4444444444444444,
              "#bd3786"
             ],
             [
              0.5555555555555556,
              "#d8576b"
             ],
             [
              0.6666666666666666,
              "#ed7953"
             ],
             [
              0.7777777777777778,
              "#fb9f3a"
             ],
             [
              0.8888888888888888,
              "#fdca26"
             ],
             [
              1,
              "#f0f921"
             ]
            ],
            "type": "heatmap"
           }
          ],
          "histogram": [
           {
            "marker": {
             "pattern": {
              "fillmode": "overlay",
              "size": 10,
              "solidity": 0.2
             }
            },
            "type": "histogram"
           }
          ],
          "histogram2d": [
           {
            "colorbar": {
             "outlinewidth": 0,
             "ticks": ""
            },
            "colorscale": [
             [
              0,
              "#0d0887"
             ],
             [
              0.1111111111111111,
              "#46039f"
             ],
             [
              0.2222222222222222,
              "#7201a8"
             ],
             [
              0.3333333333333333,
              "#9c179e"
             ],
             [
              0.4444444444444444,
              "#bd3786"
             ],
             [
              0.5555555555555556,
              "#d8576b"
             ],
             [
              0.6666666666666666,
              "#ed7953"
             ],
             [
              0.7777777777777778,
              "#fb9f3a"
             ],
             [
              0.8888888888888888,
              "#fdca26"
             ],
             [
              1,
              "#f0f921"
             ]
            ],
            "type": "histogram2d"
           }
          ],
          "histogram2dcontour": [
           {
            "colorbar": {
             "outlinewidth": 0,
             "ticks": ""
            },
            "colorscale": [
             [
              0,
              "#0d0887"
             ],
             [
              0.1111111111111111,
              "#46039f"
             ],
             [
              0.2222222222222222,
              "#7201a8"
             ],
             [
              0.3333333333333333,
              "#9c179e"
             ],
             [
              0.4444444444444444,
              "#bd3786"
             ],
             [
              0.5555555555555556,
              "#d8576b"
             ],
             [
              0.6666666666666666,
              "#ed7953"
             ],
             [
              0.7777777777777778,
              "#fb9f3a"
             ],
             [
              0.8888888888888888,
              "#fdca26"
             ],
             [
              1,
              "#f0f921"
             ]
            ],
            "type": "histogram2dcontour"
           }
          ],
          "mesh3d": [
           {
            "colorbar": {
             "outlinewidth": 0,
             "ticks": ""
            },
            "type": "mesh3d"
           }
          ],
          "parcoords": [
           {
            "line": {
             "colorbar": {
              "outlinewidth": 0,
              "ticks": ""
             }
            },
            "type": "parcoords"
           }
          ],
          "pie": [
           {
            "automargin": true,
            "type": "pie"
           }
          ],
          "scatter": [
           {
            "fillpattern": {
             "fillmode": "overlay",
             "size": 10,
             "solidity": 0.2
            },
            "type": "scatter"
           }
          ],
          "scatter3d": [
           {
            "line": {
             "colorbar": {
              "outlinewidth": 0,
              "ticks": ""
             }
            },
            "marker": {
             "colorbar": {
              "outlinewidth": 0,
              "ticks": ""
             }
            },
            "type": "scatter3d"
           }
          ],
          "scattercarpet": [
           {
            "marker": {
             "colorbar": {
              "outlinewidth": 0,
              "ticks": ""
             }
            },
            "type": "scattercarpet"
           }
          ],
          "scattergeo": [
           {
            "marker": {
             "colorbar": {
              "outlinewidth": 0,
              "ticks": ""
             }
            },
            "type": "scattergeo"
           }
          ],
          "scattergl": [
           {
            "marker": {
             "colorbar": {
              "outlinewidth": 0,
              "ticks": ""
             }
            },
            "type": "scattergl"
           }
          ],
          "scattermap": [
           {
            "marker": {
             "colorbar": {
              "outlinewidth": 0,
              "ticks": ""
             }
            },
            "type": "scattermap"
           }
          ],
          "scattermapbox": [
           {
            "marker": {
             "colorbar": {
              "outlinewidth": 0,
              "ticks": ""
             }
            },
            "type": "scattermapbox"
           }
          ],
          "scatterpolar": [
           {
            "marker": {
             "colorbar": {
              "outlinewidth": 0,
              "ticks": ""
             }
            },
            "type": "scatterpolar"
           }
          ],
          "scatterpolargl": [
           {
            "marker": {
             "colorbar": {
              "outlinewidth": 0,
              "ticks": ""
             }
            },
            "type": "scatterpolargl"
           }
          ],
          "scatterternary": [
           {
            "marker": {
             "colorbar": {
              "outlinewidth": 0,
              "ticks": ""
             }
            },
            "type": "scatterternary"
           }
          ],
          "surface": [
           {
            "colorbar": {
             "outlinewidth": 0,
             "ticks": ""
            },
            "colorscale": [
             [
              0,
              "#0d0887"
             ],
             [
              0.1111111111111111,
              "#46039f"
             ],
             [
              0.2222222222222222,
              "#7201a8"
             ],
             [
              0.3333333333333333,
              "#9c179e"
             ],
             [
              0.4444444444444444,
              "#bd3786"
             ],
             [
              0.5555555555555556,
              "#d8576b"
             ],
             [
              0.6666666666666666,
              "#ed7953"
             ],
             [
              0.7777777777777778,
              "#fb9f3a"
             ],
             [
              0.8888888888888888,
              "#fdca26"
             ],
             [
              1,
              "#f0f921"
             ]
            ],
            "type": "surface"
           }
          ],
          "table": [
           {
            "cells": {
             "fill": {
              "color": "#EBF0F8"
             },
             "line": {
              "color": "white"
             }
            },
            "header": {
             "fill": {
              "color": "#C8D4E3"
             },
             "line": {
              "color": "white"
             }
            },
            "type": "table"
           }
          ]
         },
         "layout": {
          "annotationdefaults": {
           "arrowcolor": "#2a3f5f",
           "arrowhead": 0,
           "arrowwidth": 1
          },
          "autotypenumbers": "strict",
          "coloraxis": {
           "colorbar": {
            "outlinewidth": 0,
            "ticks": ""
           }
          },
          "colorscale": {
           "diverging": [
            [
             0,
             "#8e0152"
            ],
            [
             0.1,
             "#c51b7d"
            ],
            [
             0.2,
             "#de77ae"
            ],
            [
             0.3,
             "#f1b6da"
            ],
            [
             0.4,
             "#fde0ef"
            ],
            [
             0.5,
             "#f7f7f7"
            ],
            [
             0.6,
             "#e6f5d0"
            ],
            [
             0.7,
             "#b8e186"
            ],
            [
             0.8,
             "#7fbc41"
            ],
            [
             0.9,
             "#4d9221"
            ],
            [
             1,
             "#276419"
            ]
           ],
           "sequential": [
            [
             0,
             "#0d0887"
            ],
            [
             0.1111111111111111,
             "#46039f"
            ],
            [
             0.2222222222222222,
             "#7201a8"
            ],
            [
             0.3333333333333333,
             "#9c179e"
            ],
            [
             0.4444444444444444,
             "#bd3786"
            ],
            [
             0.5555555555555556,
             "#d8576b"
            ],
            [
             0.6666666666666666,
             "#ed7953"
            ],
            [
             0.7777777777777778,
             "#fb9f3a"
            ],
            [
             0.8888888888888888,
             "#fdca26"
            ],
            [
             1,
             "#f0f921"
            ]
           ],
           "sequentialminus": [
            [
             0,
             "#0d0887"
            ],
            [
             0.1111111111111111,
             "#46039f"
            ],
            [
             0.2222222222222222,
             "#7201a8"
            ],
            [
             0.3333333333333333,
             "#9c179e"
            ],
            [
             0.4444444444444444,
             "#bd3786"
            ],
            [
             0.5555555555555556,
             "#d8576b"
            ],
            [
             0.6666666666666666,
             "#ed7953"
            ],
            [
             0.7777777777777778,
             "#fb9f3a"
            ],
            [
             0.8888888888888888,
             "#fdca26"
            ],
            [
             1,
             "#f0f921"
            ]
           ]
          },
          "colorway": [
           "#636efa",
           "#EF553B",
           "#00cc96",
           "#ab63fa",
           "#FFA15A",
           "#19d3f3",
           "#FF6692",
           "#B6E880",
           "#FF97FF",
           "#FECB52"
          ],
          "font": {
           "color": "#2a3f5f"
          },
          "geo": {
           "bgcolor": "white",
           "lakecolor": "white",
           "landcolor": "#E5ECF6",
           "showlakes": true,
           "showland": true,
           "subunitcolor": "white"
          },
          "hoverlabel": {
           "align": "left"
          },
          "hovermode": "closest",
          "mapbox": {
           "style": "light"
          },
          "paper_bgcolor": "white",
          "plot_bgcolor": "#E5ECF6",
          "polar": {
           "angularaxis": {
            "gridcolor": "white",
            "linecolor": "white",
            "ticks": ""
           },
           "bgcolor": "#E5ECF6",
           "radialaxis": {
            "gridcolor": "white",
            "linecolor": "white",
            "ticks": ""
           }
          },
          "scene": {
           "xaxis": {
            "backgroundcolor": "#E5ECF6",
            "gridcolor": "white",
            "gridwidth": 2,
            "linecolor": "white",
            "showbackground": true,
            "ticks": "",
            "zerolinecolor": "white"
           },
           "yaxis": {
            "backgroundcolor": "#E5ECF6",
            "gridcolor": "white",
            "gridwidth": 2,
            "linecolor": "white",
            "showbackground": true,
            "ticks": "",
            "zerolinecolor": "white"
           },
           "zaxis": {
            "backgroundcolor": "#E5ECF6",
            "gridcolor": "white",
            "gridwidth": 2,
            "linecolor": "white",
            "showbackground": true,
            "ticks": "",
            "zerolinecolor": "white"
           }
          },
          "shapedefaults": {
           "line": {
            "color": "#2a3f5f"
           }
          },
          "ternary": {
           "aaxis": {
            "gridcolor": "white",
            "linecolor": "white",
            "ticks": ""
           },
           "baxis": {
            "gridcolor": "white",
            "linecolor": "white",
            "ticks": ""
           },
           "bgcolor": "#E5ECF6",
           "caxis": {
            "gridcolor": "white",
            "linecolor": "white",
            "ticks": ""
           }
          },
          "title": {
           "x": 0.05
          },
          "xaxis": {
           "automargin": true,
           "gridcolor": "white",
           "linecolor": "white",
           "ticks": "",
           "title": {
            "standoff": 15
           },
           "zerolinecolor": "white",
           "zerolinewidth": 2
          },
          "yaxis": {
           "automargin": true,
           "gridcolor": "white",
           "linecolor": "white",
           "ticks": "",
           "title": {
            "standoff": 15
           },
           "zerolinecolor": "white",
           "zerolinewidth": 2
          }
         }
        },
        "title": {
         "text": "Distribución de Clases por Radio y Textura Promedio"
        },
        "xaxis": {
         "anchor": "y",
         "domain": [
          0,
          1
         ],
         "title": {
          "text": "Radio Promedio"
         }
        },
        "yaxis": {
         "anchor": "x",
         "domain": [
          0,
          1
         ],
         "title": {
          "text": "Textura Promedia"
         }
        }
       }
      }
     },
     "metadata": {},
     "output_type": "display_data"
    }
   ],
   "source": [
    "df_to_plot = df.copy()\n",
    "df_to_plot['target'] = df_to_plot['target'].map({i: name for i, name in enumerate(data.target_names)})\n",
    "fig = px.scatter(\n",
    "    df_to_plot,\n",
    "    x='mean radius', \n",
    "    y='mean texture', \n",
    "    color='target', \n",
    "    #color_continuous_scale='reds_r',\n",
    "    title='Distribución de Clases por Radio y Textura Promedio',\n",
    "    labels={'target': 'Clase', 'mean radius': 'Radio Promedio', 'mean texture': 'Textura Promedia'}\n",
    ")\n",
    "fig.show()"
   ]
  },
  {
   "cell_type": "markdown",
   "metadata": {},
   "source": [
    "## 3. Entrenamiento de un Árbol de Decisión (Sin Poda)\n",
    "\n",
    "Ahora, dividiremos nuestros datos en un conjunto de entrenamiento y uno de prueba. Luego, entrenaremos un árbol de decisión sin ninguna restricción de crecimiento para observar el fenómeno del sobreajuste."
   ]
  },
  {
   "cell_type": "code",
   "execution_count": 5,
   "metadata": {},
   "outputs": [
    {
     "name": "stdout",
     "output_type": "stream",
     "text": [
      "Precisión en el set de ENTRENAMIENTO: 1.0000\n",
      "Precisión en el set de PRUEBA: 0.9474\n"
     ]
    }
   ],
   "source": [
    "# Dividimos los datos: 80% para entrenamiento, 20% para prueba\n",
    "X_train, X_test, y_train, y_test = train_test_split(X, y, test_size=0.2, random_state=42)\n",
    "\n",
    "# Creamos el clasificador sin restricciones de profundidad\n",
    "tree_overfit = DecisionTreeClassifier(random_state=42)\n",
    "\n",
    "# Entrenamos el modelo\n",
    "tree_overfit.fit(X_train, y_train)\n",
    "\n",
    "# Evaluamos el rendimiento\n",
    "y_train_pred = tree_overfit.predict(X_train)\n",
    "y_test_pred = tree_overfit.predict(X_test)\n",
    "\n",
    "train_accuracy = accuracy_score(y_train, y_train_pred)\n",
    "test_accuracy = accuracy_score(y_test, y_test_pred)\n",
    "\n",
    "print(f\"Precisión en el set de ENTRENAMIENTO: {train_accuracy:.4f}\")\n",
    "print(f\"Precisión en el set de PRUEBA: {test_accuracy:.4f}\")"
   ]
  },
  {
   "cell_type": "markdown",
   "metadata": {},
   "source": [
    "**Observación:** ¡El modelo tiene una precisión del 100% en los datos de entrenamiento! Esto es una señal clara de sobreajuste. El árbol ha crecido tanto que ha \"memorizado\" cada punto de entrenamiento, pero su rendimiento en los datos de prueba, aunque bueno, es menor."
   ]
  },
  {
   "cell_type": "markdown",
   "metadata": {},
   "source": [
    "### Visualización del Árbol Sobreajustado\n",
    "Veamos qué tan complejo es este árbol. La función `plot_tree` nos ayuda a visualizarlo. Usamos `matplotlib` para esta tarea, ya que `plot_tree` está construida sobre ella."
   ]
  },
  {
   "cell_type": "code",
   "execution_count": 6,
   "metadata": {},
   "outputs": [
    {
     "data": {
      "image/png": "[encoded data removed]",
      "text/plain": [
       "<Figure size 2000x1200 with 1 Axes>"
      ]
     },
     "metadata": {},
     "output_type": "display_data"
    }
   ],
   "source": [
    "plt.figure(figsize=(20, 12))\n",
    "plot_tree(tree_overfit, \n",
    "          feature_names=data.feature_names, \n",
    "          class_names=data.target_names, \n",
    "          filled=True,\n",
    "          fontsize=8)\n",
    "plt.title(\"Árbol de Decisión Sin Poda (Sobreajustado)\")\n",
    "plt.show()"
   ]
  },
  {
   "cell_type": "markdown",
   "metadata": {},
   "source": [
    "Como podemos ver, el árbol es enorme e ininterpretable. Necesitamos una forma de simplificarlo: la poda."
   ]
  },
  {
   "cell_type": "markdown",
   "metadata": {},
   "source": [
    "## 4. Poda por Complejidad de Costo (Cost-Complexity Pruning)\n",
    "\n",
    "La poda por complejidad de costo es una estrategia para encontrar el sub-árbol que mejor generaliza. Funciona penalizando el tamaño del árbol. El parámetro clave es `ccp_alpha` (el $\\alpha$ que vimos en la teoría).\n",
    "\n",
    "El proceso es:\n",
    "1.  Calcular la ruta de poda: obtener los valores de `ccp_alpha` que generan diferentes sub-árboles.\n",
    "2.  Usar validación cruzada para encontrar el mejor valor de `ccp_alpha`."
   ]
  },
  {
   "cell_type": "code",
   "execution_count": null,
   "metadata": {},
   "outputs": [
    {
     "name": "stdout",
     "output_type": "stream",
     "text": [
      "Mejor valor de ccp_alpha encontrado: 0.008664\n",
      "{'ccp_alphas': array([0.        , 0.00218083, 0.0029304 , 0.00431133, 0.00559513,\n",
      "       0.00743872, 0.0086638 , 0.01291987, 0.01438561, 0.02404453,\n",
      "       0.02442056, 0.0306549 , 0.3228506 ]), 'impurities': array([0.        , 0.00872332, 0.01165373, 0.01596506, 0.02156019,\n",
      "       0.0289989 , 0.0376627 , 0.05058258, 0.06496819, 0.08901272,\n",
      "       0.11343328, 0.14408818, 0.46693878])}\n"
     ]
    }
   ],
   "source": [
    "# 1. Calcular la ruta de poda\n",
    "path = tree_overfit.cost_complexity_pruning_path(X_train, y_train)\n",
    "ccp_alphas = path.ccp_alphas\n",
    "\n",
    "# Excluimos el alpha máximo que eliminaría todo el árbol\n",
    "ccp_alphas = ccp_alphas[:-1]\n",
    "\n",
    "# 2. Encontrar el mejor alpha con Validación Cruzada\n",
    "param_grid = {'ccp_alpha': ccp_alphas}\n",
    "\n",
    "grid_search = GridSearchCV(DecisionTreeClassifier(random_state=42), param_grid, cv=5, scoring='accuracy')\n",
    "grid_search.fit(X_train, y_train)\n",
    "\n",
    "best_alpha = grid_search.best_params_['ccp_alpha']\n",
    "print(f\"Mejor valor de ccp_alpha encontrado: {best_alpha:.6f}\")"
   ]
  },
  {
   "cell_type": "markdown",
   "metadata": {},
   "source": [
    "## 5. Entrenamiento y Evaluación del Árbol Óptimo\n",
    "\n",
    "Ahora que tenemos el mejor valor de `ccp_alpha`, entrenamos un nuevo árbol con ese parámetro y evaluamos su rendimiento."
   ]
  },
  {
   "cell_type": "code",
   "execution_count": 8,
   "metadata": {},
   "outputs": [
    {
     "name": "stdout",
     "output_type": "stream",
     "text": [
      "--- Árbol Sobreajustado ---\n",
      "Precisión en Entrenamiento: 1.0000\n",
      "Precisión en Prueba: 0.9474\n",
      "\n",
      "--- Árbol Podado ---\n",
      "Precisión en Entrenamiento: 0.9802\n",
      "Precisión en Prueba: 0.9561\n"
     ]
    }
   ],
   "source": [
    "# El GridSearchCV con refit=True (por defecto) ya ha re-entrenado el mejor modelo\n",
    "tree_pruned = grid_search.best_estimator_\n",
    "\n",
    "# Evaluamos el nuevo modelo podado\n",
    "y_train_pred_p = tree_pruned.predict(X_train)\n",
    "y_test_pred_p = tree_pruned.predict(X_test)\n",
    "\n",
    "train_accuracy_p = accuracy_score(y_train, y_train_pred_p)\n",
    "test_accuracy_p = accuracy_score(y_test, y_test_pred_p)\n",
    "\n",
    "print(\"--- Árbol Sobreajustado ---\")\n",
    "print(f\"Precisión en Entrenamiento: {train_accuracy:.4f}\")\n",
    "print(f\"Precisión en Prueba: {test_accuracy:.4f}\")\n",
    "print(\"\\n--- Árbol Podado ---\")\n",
    "print(f\"Precisión en Entrenamiento: {train_accuracy_p:.4f}\")\n",
    "print(f\"Precisión en Prueba: {test_accuracy_p:.4f}\")"
   ]
  },
  {
   "cell_type": "markdown",
   "metadata": {},
   "source": [
    "**Análisis de Resultados:** El árbol podado tiene una precisión de entrenamiento más baja (ya no es 100%), lo cual es bueno, significa que no está memorizando. Sin embargo, su precisión en el conjunto de prueba es mayor. ¡Hemos creado un modelo más simple y que generaliza mejor!"
   ]
  },
  {
   "cell_type": "markdown",
   "metadata": {},
   "source": [
    "### Visualización del Árbol Podado\n",
    "Veamos ahora nuestro nuevo árbol, mucho más simple e interpretable."
   ]
  },
  {
   "cell_type": "code",
   "execution_count": 9,
   "metadata": {},
   "outputs": [
    {
     "data": {
      "image/png": "[encoded data removed]",
      "text/plain": [
       "<Figure size 1500x1000 with 1 Axes>"
      ]
     },
     "metadata": {},
     "output_type": "display_data"
    }
   ],
   "source": [
    "plt.figure(figsize=(15, 10))\n",
    "plot_tree(tree_pruned, \n",
    "          feature_names=data.feature_names, \n",
    "          class_names=data.target_names, \n",
    "          filled=True,\n",
    "          fontsize=10)\n",
    "plt.title(\"Árbol de Decisión Podado con ccp_alpha Óptimo\")\n",
    "plt.show()"
   ]
  },
  {
   "cell_type": "markdown",
   "metadata": {},
   "source": [
    "## 6. Importancia de las Características\n",
    "\n",
    "Finalmente, podemos extraer qué características consideró más importantes nuestro árbol podado para tomar sus decisiones. Esto se basa en la reducción total del índice de Gini que cada característica aporta.\n",
    "\n",
    "La importancia de las características en los árboles de decisión se calcula midiendo cuánto reduce cada característica la impureza (como la impureza de Gini o la entropía) en todos los nodos donde se utiliza para dividir los datos. La importancia de cada característica es la suma de las reducciones de impureza que aporta, ponderada por la cantidad de muestras que divide, y normalizada para que todas las importancias sumen 1."
   ]
  },
  {
   "cell_type": "code",
   "execution_count": 10,
   "metadata": {},
   "outputs": [
    {
     "data": {
      "application/vnd.plotly.v1+json": {
       "config": {
        "plotlyServerURL": "https://plot.ly"
       },
       "data": [
        {
         "hovertemplate": "Característica=%{x}<br>Importancia (Reducción de Gini)=%{y}<extra></extra>",
         "legendgroup": "",
         "marker": {
          "color": "#636efa",
          "pattern": {
           "shape": ""
          }
         },
         "name": "",
         "orientation": "v",
         "showlegend": false,
         "textposition": "auto",
         "type": "bar",
         "x": [
          "mean concave points",
          "worst concave points",
          "mean texture",
          "worst radius",
          "worst perimeter",
          "mean radius",
          "concavity error",
          "worst symmetry",
          "worst concavity",
          "worst compactness",
          "worst smoothness",
          "worst area",
          "worst texture",
          "fractal dimension error",
          "symmetry error",
          "concave points error",
          "compactness error",
          "smoothness error",
          "area error",
          "perimeter error",
          "texture error",
          "radius error",
          "mean fractal dimension",
          "mean symmetry",
          "mean concavity",
          "mean compactness",
          "mean smoothness",
          "mean area",
          "mean perimeter",
          "worst fractal dimension"
         ],
         "xaxis": "x",
         "y": {
          "bdata": "gyt3Qw0R6D+QMGyI+EeyP/WaAeWgSLA/gR6OrmQgrT82kiM/lK2sPwAAAAAAAAAAAAAAAAAAAAAAAAAAAAAAAAAAAAAAAAAAAAAAAAAAAAAAAAAAAAAAAAAAAAAAAAAAAAAAAAAAAAAAAAAAAAAAAAAAAAAAAAAAAAAAAAAAAAAAAAAAAAAAAAAAAAAAAAAAAAAAAAAAAAAAAAAAAAAAAAAAAAAAAAAAAAAAAAAAAAAAAAAAAAAAAAAAAAAAAAAAAAAAAAAAAAAAAAAAAAAAAAAAAAAAAAAAAAAAAAAAAAAAAAAAAAAAAAAAAAAAAAAA",
          "dtype": "f8"
         },
         "yaxis": "y"
        }
       ],
       "layout": {
        "barmode": "relative",
        "legend": {
         "tracegroupgap": 0
        },
        "template": {
         "data": {
          "bar": [
           {
            "error_x": {
             "color": "#2a3f5f"
            },
            "error_y": {
             "color": "#2a3f5f"
            },
            "marker": {
             "line": {
              "color": "#E5ECF6",
              "width": 0.5
             },
             "pattern": {
              "fillmode": "overlay",
              "size": 10,
              "solidity": 0.2
             }
            },
            "type": "bar"
           }
          ],
          "barpolar": [
           {
            "marker": {
             "line": {
              "color": "#E5ECF6",
              "width": 0.5
             },
             "pattern": {
              "fillmode": "overlay",
              "size": 10,
              "solidity": 0.2
             }
            },
            "type": "barpolar"
           }
          ],
          "carpet": [
           {
            "aaxis": {
             "endlinecolor": "#2a3f5f",
             "gridcolor": "white",
             "linecolor": "white",
             "minorgridcolor": "white",
             "startlinecolor": "#2a3f5f"
            },
            "baxis": {
             "endlinecolor": "#2a3f5f",
             "gridcolor": "white",
             "linecolor": "white",
             "minorgridcolor": "white",
             "startlinecolor": "#2a3f5f"
            },
            "type": "carpet"
           }
          ],
          "choropleth": [
           {
            "colorbar": {
             "outlinewidth": 0,
             "ticks": ""
            },
            "type": "choropleth"
           }
          ],
          "contour": [
           {
            "colorbar": {
             "outlinewidth": 0,
             "ticks": ""
            },
            "colorscale": [
             [
              0,
              "#0d0887"
             ],
             [
              0.1111111111111111,
              "#46039f"
             ],
             [
              0.2222222222222222,
              "#7201a8"
             ],
             [
              0.3333333333333333,
              "#9c179e"
             ],
             [
              0.4444444444444444,
              "#bd3786"
             ],
             [
              0.5555555555555556,
              "#d8576b"
             ],
             [
              0.6666666666666666,
              "#ed7953"
             ],
             [
              0.7777777777777778,
              "#fb9f3a"
             ],
             [
              0.8888888888888888,
              "#fdca26"
             ],
             [
              1,
              "#f0f921"
             ]
            ],
            "type": "contour"
           }
          ],
          "contourcarpet": [
           {
            "colorbar": {
             "outlinewidth": 0,
             "ticks": ""
            },
            "type": "contourcarpet"
           }
          ],
          "heatmap": [
           {
            "colorbar": {
             "outlinewidth": 0,
             "ticks": ""
            },
            "colorscale": [
             [
              0,
              "#0d0887"
             ],
             [
              0.1111111111111111,
              "#46039f"
             ],
             [
              0.2222222222222222,
              "#7201a8"
             ],
             [
              0.3333333333333333,
              "#9c179e"
             ],
             [
              0.4444444444444444,
              "#bd3786"
             ],
             [
              0.5555555555555556,
              "#d8576b"
             ],
             [
              0.6666666666666666,
              "#ed7953"
             ],
             [
              0.7777777777777778,
              "#fb9f3a"
             ],
             [
              0.8888888888888888,
              "#fdca26"
             ],
             [
              1,
              "#f0f921"
             ]
            ],
            "type": "heatmap"
           }
          ],
          "histogram": [
           {
            "marker": {
             "pattern": {
              "fillmode": "overlay",
              "size": 10,
              "solidity": 0.2
             }
            },
            "type": "histogram"
           }
          ],
          "histogram2d": [
           {
            "colorbar": {
             "outlinewidth": 0,
             "ticks": ""
            },
            "colorscale": [
             [
              0,
              "#0d0887"
             ],
             [
              0.1111111111111111,
              "#46039f"
             ],
             [
              0.2222222222222222,
              "#7201a8"
             ],
             [
              0.3333333333333333,
              "#9c179e"
             ],
             [
              0.4444444444444444,
              "#bd3786"
             ],
             [
              0.5555555555555556,
              "#d8576b"
             ],
             [
              0.6666666666666666,
              "#ed7953"
             ],
             [
              0.7777777777777778,
              "#fb9f3a"
             ],
             [
              0.8888888888888888,
              "#fdca26"
             ],
             [
              1,
              "#f0f921"
             ]
            ],
            "type": "histogram2d"
           }
          ],
          "histogram2dcontour": [
           {
            "colorbar": {
             "outlinewidth": 0,
             "ticks": ""
            },
            "colorscale": [
             [
              0,
              "#0d0887"
             ],
             [
              0.1111111111111111,
              "#46039f"
             ],
             [
              0.2222222222222222,
              "#7201a8"
             ],
             [
              0.3333333333333333,
              "#9c179e"
             ],
             [
              0.4444444444444444,
              "#bd3786"
             ],
             [
              0.5555555555555556,
              "#d8576b"
             ],
             [
              0.6666666666666666,
              "#ed7953"
             ],
             [
              0.7777777777777778,
              "#fb9f3a"
             ],
             [
              0.8888888888888888,
              "#fdca26"
             ],
             [
              1,
              "#f0f921"
             ]
            ],
            "type": "histogram2dcontour"
           }
          ],
          "mesh3d": [
           {
            "colorbar": {
             "outlinewidth": 0,
             "ticks": ""
            },
            "type": "mesh3d"
           }
          ],
          "parcoords": [
           {
            "line": {
             "colorbar": {
              "outlinewidth": 0,
              "ticks": ""
             }
            },
            "type": "parcoords"
           }
          ],
          "pie": [
           {
            "automargin": true,
            "type": "pie"
           }
          ],
          "scatter": [
           {
            "fillpattern": {
             "fillmode": "overlay",
             "size": 10,
             "solidity": 0.2
            },
            "type": "scatter"
           }
          ],
          "scatter3d": [
           {
            "line": {
             "colorbar": {
              "outlinewidth": 0,
              "ticks": ""
             }
            },
            "marker": {
             "colorbar": {
              "outlinewidth": 0,
              "ticks": ""
             }
            },
            "type": "scatter3d"
           }
          ],
          "scattercarpet": [
           {
            "marker": {
             "colorbar": {
              "outlinewidth": 0,
              "ticks": ""
             }
            },
            "type": "scattercarpet"
           }
          ],
          "scattergeo": [
           {
            "marker": {
             "colorbar": {
              "outlinewidth": 0,
              "ticks": ""
             }
            },
            "type": "scattergeo"
           }
          ],
          "scattergl": [
           {
            "marker": {
             "colorbar": {
              "outlinewidth": 0,
              "ticks": ""
             }
            },
            "type": "scattergl"
           }
          ],
          "scattermap": [
           {
            "marker": {
             "colorbar": {
              "outlinewidth": 0,
              "ticks": ""
             }
            },
            "type": "scattermap"
           }
          ],
          "scattermapbox": [
           {
            "marker": {
             "colorbar": {
              "outlinewidth": 0,
              "ticks": ""
             }
            },
            "type": "scattermapbox"
           }
          ],
          "scatterpolar": [
           {
            "marker": {
             "colorbar": {
              "outlinewidth": 0,
              "ticks": ""
             }
            },
            "type": "scatterpolar"
           }
          ],
          "scatterpolargl": [
           {
            "marker": {
             "colorbar": {
              "outlinewidth": 0,
              "ticks": ""
             }
            },
            "type": "scatterpolargl"
           }
          ],
          "scatterternary": [
           {
            "marker": {
             "colorbar": {
              "outlinewidth": 0,
              "ticks": ""
             }
            },
            "type": "scatterternary"
           }
          ],
          "surface": [
           {
            "colorbar": {
             "outlinewidth": 0,
             "ticks": ""
            },
            "colorscale": [
             [
              0,
              "#0d0887"
             ],
             [
              0.1111111111111111,
              "#46039f"
             ],
             [
              0.2222222222222222,
              "#7201a8"
             ],
             [
              0.3333333333333333,
              "#9c179e"
             ],
             [
              0.4444444444444444,
              "#bd3786"
             ],
             [
              0.5555555555555556,
              "#d8576b"
             ],
             [
              0.6666666666666666,
              "#ed7953"
             ],
             [
              0.7777777777777778,
              "#fb9f3a"
             ],
             [
              0.8888888888888888,
              "#fdca26"
             ],
             [
              1,
              "#f0f921"
             ]
            ],
            "type": "surface"
           }
          ],
          "table": [
           {
            "cells": {
             "fill": {
              "color": "#EBF0F8"
             },
             "line": {
              "color": "white"
             }
            },
            "header": {
             "fill": {
              "color": "#C8D4E3"
             },
             "line": {
              "color": "white"
             }
            },
            "type": "table"
           }
          ]
         },
         "layout": {
          "annotationdefaults": {
           "arrowcolor": "#2a3f5f",
           "arrowhead": 0,
           "arrowwidth": 1
          },
          "autotypenumbers": "strict",
          "coloraxis": {
           "colorbar": {
            "outlinewidth": 0,
            "ticks": ""
           }
          },
          "colorscale": {
           "diverging": [
            [
             0,
             "#8e0152"
            ],
            [
             0.1,
             "#c51b7d"
            ],
            [
             0.2,
             "#de77ae"
            ],
            [
             0.3,
             "#f1b6da"
            ],
            [
             0.4,
             "#fde0ef"
            ],
            [
             0.5,
             "#f7f7f7"
            ],
            [
             0.6,
             "#e6f5d0"
            ],
            [
             0.7,
             "#b8e186"
            ],
            [
             0.8,
             "#7fbc41"
            ],
            [
             0.9,
             "#4d9221"
            ],
            [
             1,
             "#276419"
            ]
           ],
           "sequential": [
            [
             0,
             "#0d0887"
            ],
            [
             0.1111111111111111,
             "#46039f"
            ],
            [
             0.2222222222222222,
             "#7201a8"
            ],
            [
             0.3333333333333333,
             "#9c179e"
            ],
            [
             0.4444444444444444,
             "#bd3786"
            ],
            [
             0.5555555555555556,
             "#d8576b"
            ],
            [
             0.6666666666666666,
             "#ed7953"
            ],
            [
             0.7777777777777778,
             "#fb9f3a"
            ],
            [
             0.8888888888888888,
             "#fdca26"
            ],
            [
             1,
             "#f0f921"
            ]
           ],
           "sequentialminus": [
            [
             0,
             "#0d0887"
            ],
            [
             0.1111111111111111,
             "#46039f"
            ],
            [
             0.2222222222222222,
             "#7201a8"
            ],
            [
             0.3333333333333333,
             "#9c179e"
            ],
            [
             0.4444444444444444,
             "#bd3786"
            ],
            [
             0.5555555555555556,
             "#d8576b"
            ],
            [
             0.6666666666666666,
             "#ed7953"
            ],
            [
             0.7777777777777778,
             "#fb9f3a"
            ],
            [
             0.8888888888888888,
             "#fdca26"
            ],
            [
             1,
             "#f0f921"
            ]
           ]
          },
          "colorway": [
           "#636efa",
           "#EF553B",
           "#00cc96",
           "#ab63fa",
           "#FFA15A",
           "#19d3f3",
           "#FF6692",
           "#B6E880",
           "#FF97FF",
           "#FECB52"
          ],
          "font": {
           "color": "#2a3f5f"
          },
          "geo": {
           "bgcolor": "white",
           "lakecolor": "white",
           "landcolor": "#E5ECF6",
           "showlakes": true,
           "showland": true,
           "subunitcolor": "white"
          },
          "hoverlabel": {
           "align": "left"
          },
          "hovermode": "closest",
          "mapbox": {
           "style": "light"
          },
          "paper_bgcolor": "white",
          "plot_bgcolor": "#E5ECF6",
          "polar": {
           "angularaxis": {
            "gridcolor": "white",
            "linecolor": "white",
            "ticks": ""
           },
           "bgcolor": "#E5ECF6",
           "radialaxis": {
            "gridcolor": "white",
            "linecolor": "white",
            "ticks": ""
           }
          },
          "scene": {
           "xaxis": {
            "backgroundcolor": "#E5ECF6",
            "gridcolor": "white",
            "gridwidth": 2,
            "linecolor": "white",
            "showbackground": true,
            "ticks": "",
            "zerolinecolor": "white"
           },
           "yaxis": {
            "backgroundcolor": "#E5ECF6",
            "gridcolor": "white",
            "gridwidth": 2,
            "linecolor": "white",
            "showbackground": true,
            "ticks": "",
            "zerolinecolor": "white"
           },
           "zaxis": {
            "backgroundcolor": "#E5ECF6",
            "gridcolor": "white",
            "gridwidth": 2,
            "linecolor": "white",
            "showbackground": true,
            "ticks": "",
            "zerolinecolor": "white"
           }
          },
          "shapedefaults": {
           "line": {
            "color": "#2a3f5f"
           }
          },
          "ternary": {
           "aaxis": {
            "gridcolor": "white",
            "linecolor": "white",
            "ticks": ""
           },
           "baxis": {
            "gridcolor": "white",
            "linecolor": "white",
            "ticks": ""
           },
           "bgcolor": "#E5ECF6",
           "caxis": {
            "gridcolor": "white",
            "linecolor": "white",
            "ticks": ""
           }
          },
          "title": {
           "x": 0.05
          },
          "xaxis": {
           "automargin": true,
           "gridcolor": "white",
           "linecolor": "white",
           "ticks": "",
           "title": {
            "standoff": 15
           },
           "zerolinecolor": "white",
           "zerolinewidth": 2
          },
          "yaxis": {
           "automargin": true,
           "gridcolor": "white",
           "linecolor": "white",
           "ticks": "",
           "title": {
            "standoff": 15
           },
           "zerolinecolor": "white",
           "zerolinewidth": 2
          }
         }
        },
        "title": {
         "text": "Importancia de las Características en el Árbol Podado"
        },
        "xaxis": {
         "anchor": "y",
         "domain": [
          0,
          1
         ],
         "title": {
          "text": "Característica"
         }
        },
        "yaxis": {
         "anchor": "x",
         "domain": [
          0,
          1
         ],
         "title": {
          "text": "Importancia (Reducción de Gini)"
         }
        }
       }
      }
     },
     "metadata": {},
     "output_type": "display_data"
    }
   ],
   "source": [
    "importances = pd.DataFrame({\n",
    "    'feature': X_train.columns,\n",
    "    'importance': tree_pruned.feature_importances_\n",
    "}).sort_values('importance', ascending=False)\n",
    "\n",
    "fig = px.bar(\n",
    "    importances,\n",
    "    x='feature',\n",
    "    y='importance',\n",
    "    title='Importancia de las Características en el Árbol Podado',\n",
    "    labels={'feature': 'Característica', 'importance': 'Importancia (Reducción de Gini)'}\n",
    ")\n",
    "fig.show()"
   ]
  },
  {
   "cell_type": "markdown",
   "metadata": {},
   "source": [
    "## 7. Desafíos y Experimentación 🚀\n",
    "\n",
    "Ahora es tu turno de experimentar. Intenta responder a las siguientes preguntas modificando el código anterior:\n",
    "\n",
    "1.  **Cambia el Criterio:** En lugar de `'gini'`, entrena un árbol usando `'entropy'` como criterio. ¿Cambia mucho el árbol podado final? ¿Y la importancia de las características?\n",
    "2.  **Poda por Profundidad:** En lugar de usar `ccp_alpha`, intenta controlar el sobreajuste con el hiperparámetro `max_depth`. Usa `GridSearchCV` para encontrar la profundidad óptima. ¿Qué método da mejores resultados en el set de prueba: poda por complejidad o por profundidad máxima?\n",
    "3.  **Estabilidad del Modelo:** Cambia el `random_state` en `train_test_split` a otro número (o quítalo). Vuelve a correr todo el notebook. ¿El árbol final y la precisión cambian mucho? Esto te dará una idea de la inestabilidad de los árboles de decisión."
   ]
  },
  {
   "cell_type": "markdown",
   "metadata": {},
   "source": [
    "# 📝 Ejercicios Adicionales\n",
    "\n",
    "Para solidificar tu aprendizaje, te proponemos los siguientes ejercicios para que explores por tu cuenta:\n",
    "\n",
    "1.  **Otro Dataset de Clasificación:** Repite el análisis completo de este notebook (entrenamiento, poda, visualización) pero con el dataset de **Vinos** de `scikit-learn` (`sklearn.datasets.load_wine`). Es un problema con 3 clases.\n",
    "\n",
    "2.  **Árboles de Regresión:** Importa el dataset de **Viviendas de California** (`sklearn.datasets.fetch_california_housing`). Entrena un `DecisionTreeRegressor` para predecir el valor de las viviendas. El criterio de división por defecto es el error cuadrático medio (`'squared_error'`). ¿Cómo interpretas el árbol resultante?\n",
    "\n",
    "3.  **Análisis de Hiperparámetros:** Investiga el efecto de `min_samples_split` y `min_samples_leaf`. Usa `GridSearchCV` para encontrar la mejor combinación de `max_depth`, `min_samples_split` y `min_samples_leaf` para el dataset de cáncer. ¿Mejora el resultado de la poda por complejidad?\n",
    "\n",
    "4.  **Visualización de Fronteras de Decisión:** Usando solo dos características (ej. `mean radius` y `mean texture`), entrena un árbol simple (ej. `max_depth=3`). Investiga cómo crear un gráfico de contorno (contour plot) para visualizar las \"cajas\" o fronteras de decisión que el árbol crea en el espacio 2D.\n",
    "\n",
    "5.  **Sensibilidad a la Escala:** Aunque se dijo que los árboles no son sensibles a la escala, compruébalo. Aplica un `StandardScaler` de `scikit-learn` a los datos `X` antes de entrenar el árbol. ¿Cambia la estructura del árbol o su rendimiento? ¿Por qué sí o por qué no?\n",
    "\n",
    "6.  **Interpreta una Ruta de Decisión:** En el árbol podado final, elige una hoja y traza la ruta desde el nodo raíz hasta ella. Escribe en texto plano la secuencia de reglas que definen esa hoja. (Ej: \"Si `worst radius <= 16.5` Y `worst concave points <= 0.142`...\").\n",
    "\n",
    "7.  **Comparación de Métricas de Impureza:** En el árbol podado con Gini, anota la importancia de las 5 características principales. Ahora, fuerza el entrenamiento y la poda usando `'entropy'` como criterio. Compara la nueva lista de las 5 características más importantes. ¿Son las mismas? ¿En el mismo orden?\n",
    "\n",
    "8.  **Efecto del Tamaño del Test Set:** Vuelve a ejecutar el análisis, pero esta vez con `test_size=0.4`. ¿Cómo afecta un conjunto de prueba más grande a la evaluación del rendimiento y a la confianza que tienes en tu modelo?\n",
    "\n",
    "9.  **Explora la Salida de `cost_complexity_pruning_path`:** La variable `path` que creamos contiene `ccp_alphas` e `impurities`. Grafica `impurities` vs `ccp_alphas`. ¿Qué te dice este gráfico sobre cómo la pureza del árbol se ve afectada por el parámetro de poda?\n",
    "\n",
    "10. **Impacto de una Característica Ruidosa:** Añade una nueva columna a `X_train` y `X_test` con datos completamente aleatorios (ej. `np.random.rand(n_samples, 1)`). Vuelve a entrenar el modelo y a calcular la importancia de características. ¿Aparece la nueva característica \"ruidosa\" como importante? ¿Qué te dice esto sobre los árboles?"
   ]
  },
  {
   "cell_type": "code",
   "execution_count": null,
   "metadata": {},
   "outputs": [],
   "source": []
  }
 ],
 "metadata": {
  "kernelspec": {
   "display_name": "Python 3",
   "language": "python",
   "name": "python3"
  },
  "language_info": {
   "codemirror_mode": {
    "name": "ipython",
    "version": 3
   },
   "file_extension": ".py",
   "mimetype": "text/x-python",
   "name": "python",
   "nbconvert_exporter": "python",
   "pygments_lexer": "ipython3",
   "version": "3.11.9"
  }
 },
 "nbformat": 4,
 "nbformat_minor": 4
}
