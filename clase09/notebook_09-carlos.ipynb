{
 "cells": [
  {
   "cell_type": "markdown",
   "metadata": {},
   "source": [
    "# Taller Práctico Clase 9: Reducción de Dimensionalidad\n",
    "\n",
    "**Objetivo:** En este taller, aplicaremos y compararemos las tres técnicas de reducción de dimensionalidad vistas en clase: PCA (Análisis de Componentes Principales), t-SNE y UMAP. \n",
    "\n",
    "**Dataset:** Usaremos el dataset `digits` de Scikit-learn, que contiene imágenes de 8x8 píxeles de dígitos escritos a mano (0-9). Cada imagen está \"aplanada\" en un vector de 64 características (dimensiones), lo que lo convierte en un excelente candidato para la reducción de dimensionalidad y la visualización."
   ]
  },
  {
   "cell_type": "markdown",
   "metadata": {},
   "source": [
    "## 1. Configuración e Importación de Librerías"
   ]
  },
  {
   "cell_type": "code",
   "execution_count": 20,
   "metadata": {},
   "outputs": [],
   "source": [
    "# Librerías para manipulación de datos\n",
    "import numpy as np\n",
    "import pandas as pd\n",
    "\n",
    "# Librerías para visualización\n",
    "import plotly.express as px\n",
    "import matplotlib.pyplot as plt\n",
    "\n",
    "# Scikit-learn para carga de datos, preprocesamiento y modelos\n",
    "from sklearn.datasets import load_digits\n",
    "from sklearn.preprocessing import StandardScaler\n",
    "from sklearn.decomposition import PCA\n",
    "from sklearn.manifold import TSNE\n",
    "\n",
    "# UMAP (es necesario instalarlo: pip install umap-learn)\n",
    "import umap\n",
    "\n",
    "# Configuraciones adicionales\n",
    "pd.options.plotting.backend = 'plotly'"
   ]
  },
  {
   "cell_type": "markdown",
   "metadata": {},
   "source": [
    "## 2. Carga y Exploración del Dataset"
   ]
  },
  {
   "cell_type": "code",
   "execution_count": 21,
   "metadata": {},
   "outputs": [
    {
     "name": "stdout",
     "output_type": "stream",
     "text": [
      "Forma de la matriz de características (X): (1797, 64)\n",
      "Forma del vector de etiquetas (y): (1797,)\n"
     ]
    }
   ],
   "source": [
    "# Cargamos el dataset de dígitos\n",
    "digits = load_digits()\n",
    "\n",
    "# X tiene los datos de las imágenes (las características)\n",
    "X = digits.data\n",
    "\n",
    "# y contiene las etiquetas verdaderas (el dígito del 0 al 9)\n",
    "y = digits.target\n",
    "\n",
    "print(f\"Forma de la matriz de características (X): {X.shape}\")\n",
    "print(f\"Forma del vector de etiquetas (y): {y.shape}\")"
   ]
  },
  {
   "cell_type": "markdown",
   "metadata": {},
   "source": [
    "Cada imagen tiene 64 píxeles (8x8), que actúan como nuestras características. Tenemos 1797 imágenes en total.\n",
    "\n",
    "Para tener una idea de cómo se ven los datos, podemos visualizar algunas de las imágenes."
   ]
  },
  {
   "cell_type": "code",
   "execution_count": 22,
   "metadata": {},
   "outputs": [
    {
     "data": {
      "text/plain": [
       "array([[ 0.,  0.,  5., 13.,  9.,  1.,  0.,  0.],\n",
       "       [ 0.,  0., 13., 15., 10., 15.,  5.,  0.],\n",
       "       [ 0.,  3., 15.,  2.,  0., 11.,  8.,  0.],\n",
       "       [ 0.,  4., 12.,  0.,  0.,  8.,  8.,  0.],\n",
       "       [ 0.,  5.,  8.,  0.,  0.,  9.,  8.,  0.],\n",
       "       [ 0.,  4., 11.,  0.,  1., 12.,  7.,  0.],\n",
       "       [ 0.,  2., 14.,  5., 10., 12.,  0.,  0.],\n",
       "       [ 0.,  0.,  6., 13., 10.,  0.,  0.,  0.]])"
      ]
     },
     "execution_count": 22,
     "metadata": {},
     "output_type": "execute_result"
    }
   ],
   "source": [
    "digits.images[0]"
   ]
  },
  {
   "cell_type": "code",
   "execution_count": 23,
   "metadata": {},
   "outputs": [
    {
     "data": {
      "text/plain": [
       "array([[ 0.,  0.,  5., ...,  0.,  0.,  0.],\n",
       "       [ 0.,  0.,  0., ..., 10.,  0.,  0.],\n",
       "       [ 0.,  0.,  0., ..., 16.,  9.,  0.],\n",
       "       ...,\n",
       "       [ 0.,  0.,  1., ...,  6.,  0.,  0.],\n",
       "       [ 0.,  0.,  2., ..., 12.,  0.,  0.],\n",
       "       [ 0.,  0., 10., ..., 12.,  1.,  0.]])"
      ]
     },
     "execution_count": 23,
     "metadata": {},
     "output_type": "execute_result"
    }
   ],
   "source": [
    "digits.data"
   ]
  },
  {
   "cell_type": "code",
   "execution_count": 24,
   "metadata": {},
   "outputs": [
    {
     "data": {
      "image/png": "[encoded data removed]",
      "text/plain": [
       "<Figure size 750x300 with 10 Axes>"
      ]
     },
     "metadata": {},
     "output_type": "display_data"
    }
   ],
   "source": [
    "plt.figure(figsize=(7.5, 3))\n",
    "for index, (image, label) in enumerate(zip(digits.images[:10], digits.target[:10])):\n",
    "    plt.subplot(2, 5, index + 1)\n",
    "    plt.imshow(image, cmap=plt.cm.gray_r, interpolation='nearest')\n",
    "    plt.axis('off')\n",
    "    plt.title('Label: %i' % label)\n",
    "plt.show()"
   ]
  },
  {
   "cell_type": "markdown",
   "metadata": {},
   "source": [
    "## 3. Preprocesamiento: Escalado de Datos\n",
    "\n",
    "Como vimos en la teoría, PCA es sensible a la escala de las características. Aunque en este caso todos los píxeles están en una escala similar (0-16), es una buena práctica estandarizar los datos para que tengan media 0 y desviación estándar 1. Esto asegura que cada característica contribuya por igual al análisis."
   ]
  },
  {
   "cell_type": "code",
   "execution_count": 25,
   "metadata": {},
   "outputs": [],
   "source": [
    "scaler = StandardScaler()\n",
    "X_scaled = scaler.fit_transform(X)"
   ]
  },
  {
   "cell_type": "markdown",
   "metadata": {},
   "source": [
    "## 4. Análisis de Componentes Principales (PCA)\n",
    "\n",
    "Comenzaremos aplicando PCA para reducir la dimensionalidad de 64 a 2 componentes para poder visualizar los datos en un gráfico de dispersión."
   ]
  },
  {
   "cell_type": "markdown",
   "metadata": {},
   "source": [
    "### 4.1. Varianza Explicada\n",
    "\n",
    "Antes de reducir a 2D, es útil ajustar PCA con todos los componentes posibles para ver cuánta varianza explica cada uno. El **Scree Plot** nos ayudará a decidir cuántos componentes son \"suficientes\"."
   ]
  },
  {
   "cell_type": "code",
   "execution_count": 26,
   "metadata": {},
   "outputs": [
    {
     "data": {
      "application/vnd.plotly.v1+json": {
       "config": {
        "plotlyServerURL": "https://plot.ly"
       },
       "data": [
        {
         "fillpattern": {
          "shape": ""
         },
         "hovertemplate": "Número de Componentes Principales=%{x}<br>Varianza Explicada Acumulada=%{y}<extra></extra>",
         "legendgroup": "",
         "line": {
          "color": "#636efa"
         },
         "marker": {
          "symbol": "circle"
         },
         "mode": "lines",
         "name": "",
         "orientation": "v",
         "showlegend": false,
         "stackgroup": "1",
         "type": "scatter",
         "x": {
          "bdata": "AQIDBAUGBwgJCgsMDQ4PEBESExQVFhcYGRobHB0eHyAhIiMkJSYnKCkqKywtLi8wMTIzNDU2Nzg5Ojs8PT4/QA==",
          "dtype": "i1"
         },
         "xaxis": "x",
         "y": {
          "bdata": "N2fTGIzOvj8SuktsPaTLP5BgpCSnOdM/VEM9IFpi1z9kjtrLo37aP3lSZ8sUMd0/e8Qzu/O23z/i4uFVIvHgP6YKX5a/5uE/R0E1I/DW4j9I/JHT0rrjP4egv5bvjeQ/jiBpKFRI5T9dDpeAx/7lPxt1lqcnsOY/4A9Oo/ZM5z/dUSKPat7nP+0KllybZOg/c7najmPn6D+GdCkpYmHpPx/WqSHPz+k/Gfg1dwE46j/zztPYgpfqP9hExE0n7uo/viRjKQ0+6z+Qjtn/bYvrPwOqDbYg0us/XQssYqoW7D/dkzA5A1jsPxi/2Nwplew/XStcbJrQ7D/v6ZLaSAntP3DeSk/aPu0/A0o6tFhz7T+icIDtyqPtPwDOUBKV0u0/LWr/h3r97T9B+cfE8iTuP4xsgvMdSu4/UPM9Uchs7j/d3g/eC47uP9vC5FaTru4/Usy9i8fL7j/gk/1esufuP0KCi5ONAu8/A17rYwgc7z+9kbtArDPvP4nRKadSSu8/SDoI8o1f7z8EGxVpw3LvP805qpakhO8/RWkkV1KV7z/8o3yIVqXvPy91LwBbtO8/YtN8Fx3C7z8raQF1Us/vP/DP7UNt2+8/TE1g537m7z9wk990vvDvP6jlFR09+e8/AAAAAAAA8D8AAAAAAADwPwAAAAAAAPA/AAAAAAAA8D8=",
          "dtype": "f8"
         },
         "yaxis": "y"
        }
       ],
       "layout": {
        "annotations": [
         {
          "arrowhead": 1,
          "showarrow": true,
          "text": "90% de Varianza Explicada",
          "x": 30,
          "y": 0.9
         }
        ],
        "legend": {
         "tracegroupgap": 0
        },
        "shapes": [
         {
          "line": {
           "color": "red",
           "dash": "dash"
          },
          "type": "line",
          "x0": 0,
          "x1": 1,
          "xref": "x domain",
          "y0": 0.9,
          "y1": 0.9,
          "yref": "y"
         }
        ],
        "template": {
         "data": {
          "bar": [
           {
            "error_x": {
             "color": "#2a3f5f"
            },
            "error_y": {
             "color": "#2a3f5f"
            },
            "marker": {
             "line": {
              "color": "#E5ECF6",
              "width": 0.5
             },
             "pattern": {
              "fillmode": "overlay",
              "size": 10,
              "solidity": 0.2
             }
            },
            "type": "bar"
           }
          ],
          "barpolar": [
           {
            "marker": {
             "line": {
              "color": "#E5ECF6",
              "width": 0.5
             },
             "pattern": {
              "fillmode": "overlay",
              "size": 10,
              "solidity": 0.2
             }
            },
            "type": "barpolar"
           }
          ],
          "carpet": [
           {
            "aaxis": {
             "endlinecolor": "#2a3f5f",
             "gridcolor": "white",
             "linecolor": "white",
             "minorgridcolor": "white",
             "startlinecolor": "#2a3f5f"
            },
            "baxis": {
             "endlinecolor": "#2a3f5f",
             "gridcolor": "white",
             "linecolor": "white",
             "minorgridcolor": "white",
             "startlinecolor": "#2a3f5f"
            },
            "type": "carpet"
           }
          ],
          "choropleth": [
           {
            "colorbar": {
             "outlinewidth": 0,
             "ticks": ""
            },
            "type": "choropleth"
           }
          ],
          "contour": [
           {
            "colorbar": {
             "outlinewidth": 0,
             "ticks": ""
            },
            "colorscale": [
             [
              0,
              "#0d0887"
             ],
             [
              0.1111111111111111,
              "#46039f"
             ],
             [
              0.2222222222222222,
              "#7201a8"
             ],
             [
              0.3333333333333333,
              "#9c179e"
             ],
             [
              0.4444444444444444,
              "#bd3786"
             ],
             [
              0.5555555555555556,
              "#d8576b"
             ],
             [
              0.6666666666666666,
              "#ed7953"
             ],
             [
              0.7777777777777778,
              "#fb9f3a"
             ],
             [
              0.8888888888888888,
              "#fdca26"
             ],
             [
              1,
              "#f0f921"
             ]
            ],
            "type": "contour"
           }
          ],
          "contourcarpet": [
           {
            "colorbar": {
             "outlinewidth": 0,
             "ticks": ""
            },
            "type": "contourcarpet"
           }
          ],
          "heatmap": [
           {
            "colorbar": {
             "outlinewidth": 0,
             "ticks": ""
            },
            "colorscale": [
             [
              0,
              "#0d0887"
             ],
             [
              0.1111111111111111,
              "#46039f"
             ],
             [
              0.2222222222222222,
              "#7201a8"
             ],
             [
              0.3333333333333333,
              "#9c179e"
             ],
             [
              0.4444444444444444,
              "#bd3786"
             ],
             [
              0.5555555555555556,
              "#d8576b"
             ],
             [
              0.6666666666666666,
              "#ed7953"
             ],
             [
              0.7777777777777778,
              "#fb9f3a"
             ],
             [
              0.8888888888888888,
              "#fdca26"
             ],
             [
              1,
              "#f0f921"
             ]
            ],
            "type": "heatmap"
           }
          ],
          "histogram": [
           {
            "marker": {
             "pattern": {
              "fillmode": "overlay",
              "size": 10,
              "solidity": 0.2
             }
            },
            "type": "histogram"
           }
          ],
          "histogram2d": [
           {
            "colorbar": {
             "outlinewidth": 0,
             "ticks": ""
            },
            "colorscale": [
             [
              0,
              "#0d0887"
             ],
             [
              0.1111111111111111,
              "#46039f"
             ],
             [
              0.2222222222222222,
              "#7201a8"
             ],
             [
              0.3333333333333333,
              "#9c179e"
             ],
             [
              0.4444444444444444,
              "#bd3786"
             ],
             [
              0.5555555555555556,
              "#d8576b"
             ],
             [
              0.6666666666666666,
              "#ed7953"
             ],
             [
              0.7777777777777778,
              "#fb9f3a"
             ],
             [
              0.8888888888888888,
              "#fdca26"
             ],
             [
              1,
              "#f0f921"
             ]
            ],
            "type": "histogram2d"
           }
          ],
          "histogram2dcontour": [
           {
            "colorbar": {
             "outlinewidth": 0,
             "ticks": ""
            },
            "colorscale": [
             [
              0,
              "#0d0887"
             ],
             [
              0.1111111111111111,
              "#46039f"
             ],
             [
              0.2222222222222222,
              "#7201a8"
             ],
             [
              0.3333333333333333,
              "#9c179e"
             ],
             [
              0.4444444444444444,
              "#bd3786"
             ],
             [
              0.5555555555555556,
              "#d8576b"
             ],
             [
              0.6666666666666666,
              "#ed7953"
             ],
             [
              0.7777777777777778,
              "#fb9f3a"
             ],
             [
              0.8888888888888888,
              "#fdca26"
             ],
             [
              1,
              "#f0f921"
             ]
            ],
            "type": "histogram2dcontour"
           }
          ],
          "mesh3d": [
           {
            "colorbar": {
             "outlinewidth": 0,
             "ticks": ""
            },
            "type": "mesh3d"
           }
          ],
          "parcoords": [
           {
            "line": {
             "colorbar": {
              "outlinewidth": 0,
              "ticks": ""
             }
            },
            "type": "parcoords"
           }
          ],
          "pie": [
           {
            "automargin": true,
            "type": "pie"
           }
          ],
          "scatter": [
           {
            "fillpattern": {
             "fillmode": "overlay",
             "size": 10,
             "solidity": 0.2
            },
            "type": "scatter"
           }
          ],
          "scatter3d": [
           {
            "line": {
             "colorbar": {
              "outlinewidth": 0,
              "ticks": ""
             }
            },
            "marker": {
             "colorbar": {
              "outlinewidth": 0,
              "ticks": ""
             }
            },
            "type": "scatter3d"
           }
          ],
          "scattercarpet": [
           {
            "marker": {
             "colorbar": {
              "outlinewidth": 0,
              "ticks": ""
             }
            },
            "type": "scattercarpet"
           }
          ],
          "scattergeo": [
           {
            "marker": {
             "colorbar": {
              "outlinewidth": 0,
              "ticks": ""
             }
            },
            "type": "scattergeo"
           }
          ],
          "scattergl": [
           {
            "marker": {
             "colorbar": {
              "outlinewidth": 0,
              "ticks": ""
             }
            },
            "type": "scattergl"
           }
          ],
          "scattermap": [
           {
            "marker": {
             "colorbar": {
              "outlinewidth": 0,
              "ticks": ""
             }
            },
            "type": "scattermap"
           }
          ],
          "scattermapbox": [
           {
            "marker": {
             "colorbar": {
              "outlinewidth": 0,
              "ticks": ""
             }
            },
            "type": "scattermapbox"
           }
          ],
          "scatterpolar": [
           {
            "marker": {
             "colorbar": {
              "outlinewidth": 0,
              "ticks": ""
             }
            },
            "type": "scatterpolar"
           }
          ],
          "scatterpolargl": [
           {
            "marker": {
             "colorbar": {
              "outlinewidth": 0,
              "ticks": ""
             }
            },
            "type": "scatterpolargl"
           }
          ],
          "scatterternary": [
           {
            "marker": {
             "colorbar": {
              "outlinewidth": 0,
              "ticks": ""
             }
            },
            "type": "scatterternary"
           }
          ],
          "surface": [
           {
            "colorbar": {
             "outlinewidth": 0,
             "ticks": ""
            },
            "colorscale": [
             [
              0,
              "#0d0887"
             ],
             [
              0.1111111111111111,
              "#46039f"
             ],
             [
              0.2222222222222222,
              "#7201a8"
             ],
             [
              0.3333333333333333,
              "#9c179e"
             ],
             [
              0.4444444444444444,
              "#bd3786"
             ],
             [
              0.5555555555555556,
              "#d8576b"
             ],
             [
              0.6666666666666666,
              "#ed7953"
             ],
             [
              0.7777777777777778,
              "#fb9f3a"
             ],
             [
              0.8888888888888888,
              "#fdca26"
             ],
             [
              1,
              "#f0f921"
             ]
            ],
            "type": "surface"
           }
          ],
          "table": [
           {
            "cells": {
             "fill": {
              "color": "#EBF0F8"
             },
             "line": {
              "color": "white"
             }
            },
            "header": {
             "fill": {
              "color": "#C8D4E3"
             },
             "line": {
              "color": "white"
             }
            },
            "type": "table"
           }
          ]
         },
         "layout": {
          "annotationdefaults": {
           "arrowcolor": "#2a3f5f",
           "arrowhead": 0,
           "arrowwidth": 1
          },
          "autotypenumbers": "strict",
          "coloraxis": {
           "colorbar": {
            "outlinewidth": 0,
            "ticks": ""
           }
          },
          "colorscale": {
           "diverging": [
            [
             0,
             "#8e0152"
            ],
            [
             0.1,
             "#c51b7d"
            ],
            [
             0.2,
             "#de77ae"
            ],
            [
             0.3,
             "#f1b6da"
            ],
            [
             0.4,
             "#fde0ef"
            ],
            [
             0.5,
             "#f7f7f7"
            ],
            [
             0.6,
             "#e6f5d0"
            ],
            [
             0.7,
             "#b8e186"
            ],
            [
             0.8,
             "#7fbc41"
            ],
            [
             0.9,
             "#4d9221"
            ],
            [
             1,
             "#276419"
            ]
           ],
           "sequential": [
            [
             0,
             "#0d0887"
            ],
            [
             0.1111111111111111,
             "#46039f"
            ],
            [
             0.2222222222222222,
             "#7201a8"
            ],
            [
             0.3333333333333333,
             "#9c179e"
            ],
            [
             0.4444444444444444,
             "#bd3786"
            ],
            [
             0.5555555555555556,
             "#d8576b"
            ],
            [
             0.6666666666666666,
             "#ed7953"
            ],
            [
             0.7777777777777778,
             "#fb9f3a"
            ],
            [
             0.8888888888888888,
             "#fdca26"
            ],
            [
             1,
             "#f0f921"
            ]
           ],
           "sequentialminus": [
            [
             0,
             "#0d0887"
            ],
            [
             0.1111111111111111,
             "#46039f"
            ],
            [
             0.2222222222222222,
             "#7201a8"
            ],
            [
             0.3333333333333333,
             "#9c179e"
            ],
            [
             0.4444444444444444,
             "#bd3786"
            ],
            [
             0.5555555555555556,
             "#d8576b"
            ],
            [
             0.6666666666666666,
             "#ed7953"
            ],
            [
             0.7777777777777778,
             "#fb9f3a"
            ],
            [
             0.8888888888888888,
             "#fdca26"
            ],
            [
             1,
             "#f0f921"
            ]
           ]
          },
          "colorway": [
           "#636efa",
           "#EF553B",
           "#00cc96",
           "#ab63fa",
           "#FFA15A",
           "#19d3f3",
           "#FF6692",
           "#B6E880",
           "#FF97FF",
           "#FECB52"
          ],
          "font": {
           "color": "#2a3f5f"
          },
          "geo": {
           "bgcolor": "white",
           "lakecolor": "white",
           "landcolor": "#E5ECF6",
           "showlakes": true,
           "showland": true,
           "subunitcolor": "white"
          },
          "hoverlabel": {
           "align": "left"
          },
          "hovermode": "closest",
          "mapbox": {
           "style": "light"
          },
          "paper_bgcolor": "white",
          "plot_bgcolor": "#E5ECF6",
          "polar": {
           "angularaxis": {
            "gridcolor": "white",
            "linecolor": "white",
            "ticks": ""
           },
           "bgcolor": "#E5ECF6",
           "radialaxis": {
            "gridcolor": "white",
            "linecolor": "white",
            "ticks": ""
           }
          },
          "scene": {
           "xaxis": {
            "backgroundcolor": "#E5ECF6",
            "gridcolor": "white",
            "gridwidth": 2,
            "linecolor": "white",
            "showbackground": true,
            "ticks": "",
            "zerolinecolor": "white"
           },
           "yaxis": {
            "backgroundcolor": "#E5ECF6",
            "gridcolor": "white",
            "gridwidth": 2,
            "linecolor": "white",
            "showbackground": true,
            "ticks": "",
            "zerolinecolor": "white"
           },
           "zaxis": {
            "backgroundcolor": "#E5ECF6",
            "gridcolor": "white",
            "gridwidth": 2,
            "linecolor": "white",
            "showbackground": true,
            "ticks": "",
            "zerolinecolor": "white"
           }
          },
          "shapedefaults": {
           "line": {
            "color": "#2a3f5f"
           }
          },
          "ternary": {
           "aaxis": {
            "gridcolor": "white",
            "linecolor": "white",
            "ticks": ""
           },
           "baxis": {
            "gridcolor": "white",
            "linecolor": "white",
            "ticks": ""
           },
           "bgcolor": "#E5ECF6",
           "caxis": {
            "gridcolor": "white",
            "linecolor": "white",
            "ticks": ""
           }
          },
          "title": {
           "x": 0.05
          },
          "xaxis": {
           "automargin": true,
           "gridcolor": "white",
           "linecolor": "white",
           "ticks": "",
           "title": {
            "standoff": 15
           },
           "zerolinecolor": "white",
           "zerolinewidth": 2
          },
          "yaxis": {
           "automargin": true,
           "gridcolor": "white",
           "linecolor": "white",
           "ticks": "",
           "title": {
            "standoff": 15
           },
           "zerolinecolor": "white",
           "zerolinewidth": 2
          }
         }
        },
        "title": {
         "text": "Scree Plot: Varianza Explicada por los Componentes Principales"
        },
        "xaxis": {
         "anchor": "y",
         "domain": [
          0,
          1
         ],
         "title": {
          "text": "Número de Componentes Principales"
         }
        },
        "yaxis": {
         "anchor": "x",
         "domain": [
          0,
          1
         ],
         "range": [
          0,
          1.05
         ],
         "title": {
          "text": "Varianza Explicada Acumulada"
         }
        }
       }
      }
     },
     "metadata": {},
     "output_type": "display_data"
    }
   ],
   "source": [
    "# Ajustamos PCA sin especificar n_components para mantenerlos todos\n",
    "pca_full = PCA()\n",
    "pca_full.fit(X_scaled)\n",
    "\n",
    "# Calculamos la varianza explicada acumulada\n",
    "cumulative_variance = np.cumsum(pca_full.explained_variance_ratio_)\n",
    "\n",
    "# Creamos el Scree Plot\n",
    "fig = px.area(x=range(1, cumulative_variance.shape[0] + 1),\n",
    "              y=cumulative_variance,\n",
    "              labels={\"x\": \"Número de Componentes Principales\", \"y\": \"Varianza Explicada Acumulada\"},\n",
    "              title=\"Scree Plot: Varianza Explicada por los Componentes Principales\")\n",
    "fig.update_layout(yaxis_range=[0,1.05])\n",
    "fig.add_hline(y=0.9, line_dash=\"dash\", line_color=\"red\")\n",
    "fig.add_annotation(x=30, y=0.9, text=\"90% de Varianza Explicada\", showarrow=True, arrowhead=1)\n",
    "fig.show()"
   ]
  },
  {
   "cell_type": "markdown",
   "metadata": {},
   "source": [
    "**Interpretación:** Podemos ver que con aproximadamente 10 componentes ya capturamos más del 60% de la varianza, y con unos 30 componentes, superamos el 90%. Esto nos dice que hay mucha redundancia en los 64 píxeles y que podemos representar los datos con mucha menos información sin una pérdida masiva.\n",
    "\n",
    "Ahora, vamos a reducir a solo 2 componentes para la visualización."
   ]
  },
  {
   "cell_type": "markdown",
   "metadata": {},
   "source": [
    "### 4.2. Reducción a 2D y Visualización"
   ]
  },
  {
   "cell_type": "code",
   "execution_count": 27,
   "metadata": {},
   "outputs": [
    {
     "data": {
      "application/vnd.plotly.v1+json": {
       "config": {
        "plotlyServerURL": "https://plot.ly"
       },
       "data": [
        {
         "hovertemplate": "label=0<br>PC1=%{x}<br>PC2=%{y}<extra></extra>",
         "legendgroup": "0",
         "marker": {
          "color": "#636efa",
          "symbol": "circle"
         },
         "mode": "markers",
         "name": "0",
         "showlegend": true,
         "type": "scattergl",
         "x": {
          "bdata": "G4g0gJ6g/r8qsNAmswcLwJwkWW/kAwDAAiDNEDqA+L9WYSzm5NX7v7HvJop2kPm/jD9vC0I+979KmHHPnEgGwGqcpu8k3vW/mxIdnQ8Ypb+nn6A1T+3nv9+UPJ/xtP6/k7ZOWlkV/b8mD9+aPvL1v3/zmf0G1v2/YlWMbiJT8r/oD5WcgdsGwPcI/Xzd5/2/RFcS7rCY9b8B4Y4gefwFwPcU8EE0bQXAhfomEtfW+b9p8RRDpnAMwKlYgOer3QPAuXgCXAmq979LJKDLgwMCwBtUfTWLwQXAKLqppJ5s/79sOZUmN8fzv1kp7Te63QPAS1uhSqTv87+J8hw/v7v2v/fqVZ9xqPW/JQrT+cmb+b9miyjbNx71v5mMrGXOGQXAd+qwMaXG8L8/eiRzLPT3vyMyuUcIz/S/ttIKqf5Ksb8KSvCr1HX8v47tQDT6MP6/BxeC040cBcAsjr8LK7/tv8oM8E0Xyfm/euLbXL50/784vZpzPBHnv/mcjoiWpv6/xT+VhEsq/789iimUZkjev0U8RzaTcfq/JbUdENALAcCWGF6jQezyv1qE24yDGQHAkYVM4F258b+4hW9CIcD6v39lnwo1Sum/pLjqe4lh9L9R6szNK9jzv5iZJmjGUgnAalPuq7mi+L/MPnjycgvlvxtBqh/huPS/2+VSdMqe7b9kEDrZR835v59OSEuNXALAfcEn6gqc9r8QmIUSGnAHwAGaaShK/v+/NCINdU15/L+X9UVoFGcHwP1D2vOhJva/AyFuC9s9D8BGos/Bo+EKwINqv1QDnAPAs2NVNEgn/b+5re2qch76v5YabW3E4AHAViBQKgEq+L8e0zObaHf5v7lqfzMctwHAeGiRy3NhAsCCUdRnZN4CwOe/eBjM1QDAbui9J1yKCcBvX2TsfGf/v8Z+sOEAhgXA38gjl8VfCsAIHwm5d9Xwv3DzInQyVfG/D9XdEPd1B8DA9t7jUNrovzDs2NBOdd+/TPSVGFoo87+8uT9Mo0TnvzvABOqvSfW/mLrYiUoi2j+EJwydchzwv+wN4MRvF4S/NzlJ0IFS4r+KraJvklDhPxzvMSbXrv2/7SfJfjY3+r+pFq/EPvXgvxpvqN1um8G/ck14SMx2AMDmkpdQz136v/0ZdGufLOU/nHM0xsiF6b/XKEyOxmvmv2WzNlhSmALAclCYs09Y9b+HNYW2YaD1v9V7KJMzofG/38vjWqiv8b9e0HugNgQCwBNW96V5tv+/pqz7s2rv5r/DNkaDQ6gEwIVJ21WOCOm/FeQ6rEMYAMCg4qh+F47xvynTq/enCAHA7H9nIBsO779tC+WcEDj2v3PLRU6rM/O/WBTOkAi88r831cHrgojyvw4HISst9wXAhK3g/AIyAMD9FdHq8q3vv1ZPq5O8egHA4q7uEHO4BMBIWFH0E+gEwLtwXFcQvve/5hLK22nvAMDl9qCaTUvxv/nWkK9gzem/9te9eyp7/L/NAMVQqLUDwFY65NaS4uG/ZUDnvyfi5L9DEXmUXNz3vxMfKPH6ZfG/duHLKxjx87+mGd1hLSP6v+8zYe5i4uy/pI8fAjV1479yAmUb7nLxv4TPLc3VyuW/l7/9Cg6l/L+nR+rOLdPuvxDjML/vgvW/jqv0y3wSBcALp2l/zaf/vzdO7gIWxPq/LK1mr8vWBsDseAYSp/P2v2HsVwJPAQHAL4FTMRNe7b+rWrorHpQCwLg1isRHUArAMPvr1lw7AsCoa4baMd4JwOReDzgheAHAwkRckJZ06b9qW2dOROnnv8QHjF+krPO/Db9dmG2P879ibfSIyFkHwJVuHCxAD/W/JhR4caez/b+6J+c4i4v8vyWZppZLlPa/cPjI/7z/9b+cBGKMdLzWvzk4fNMAJfC/uMOCsshiA8A=",
          "dtype": "f8"
         },
         "xaxis": "x",
         "y": {
          "bdata": "R+6+4EaL7r+k3pPaqrrfvwDstieuHfW//5hTHgWP+7/AyGZT6Drbv1p861259wXA3XGDHb+8B8CypaMRi8Xyv5GkfxW6egPAItdBweOdCsDK0SaOOVcIwEsDdyQYSQ7AAD5Yphl4BcBUkEpjF3YEwOBrBKchbPm/CH431GLSDcDJCWYS18/2v9w8YydSqPm/Dd8lS5QOCMB++aP0Q/P9vzJ84ZNU+wbAMXO+UW70BsCm06R7mEIBwAMSdHxU3wzA+Jq8z+KVBcBlEUcpvAwHwFI+2CRTbey/E5MCW+8yAsB7XiRYbRj2v7WO7VMkace/0QpQOkPGzb/8Gg19kk8EwCIy1L5IRgPAHr+N3/tU/L+vreIjwxz7vyGGq9cqqPq/UWGfDvQx9L80W+BQIcUHwOt40PJDHgnAhZTFl3H2CMCaTG3i1H8BwNEI6QtI0gPAJqNuj+hS8b8M8lgywmoAwKOVMAW7iArAttS69nUcAsDFl4+agCQEwAVxvfsA1Oa/2xIiQMVl/b+bs2aXnDEQwAONAL5/+wbA1z13tR+v+r/UKlzCl0n2vwmbfkXvmvm/kFU9QDBZ079JE15kpdfvv5j9FhTS1QHAGPH/YlDnAcB3166r02ALwMoSY/eQ+N+/8jzSW6s5/b+mTul3dkLjv6ja9eU41ey/Bqn80rSd0T+x3DeXjUX3v8nL6WZcI/6/Bww7VJeWxT9VD16O80T9v4Gaj85qPvW/fA1oyDOcAsBf8dW0O6wDwMbrZ0XBb9m/b+hesCl84L83WLeVE8L4v9lDs3VCO+2/pVtLE1O8A8DP4Kmm0L0DwJiXEQXL//G/ggNvfm4x8L8GOE/WaXv9v5rzwcbCt+a/DYu7ogHdA8BkLovfp038vxyGdJohDf2/5lOCSIeZ0r+hwdfgNhjuv8QgpV2Syfm/6pVxrS0g2b/JqRSqgIL+v4pXX2uOwfi/eReT+o91+79ZKMel1l0CwJFpKIUX1/+/I51IoyvvAcDCHqWROvH7v15lqiY6zQHATKIhPjzIAMDzNnpbz2/xv4YIGutnZgnAMInHCqEX/b+oSdasKy4AwPNw+MrHvfe/GgB+MzLyBsA9/c0MuI0MwNuuWfjZFAbA6EWsivi/DMDQIJ6yRfgKwHjqCDSIGg3AuEFU0mWuBsAv3bOW00D/v1/PMM2ZRwvAqsZR58RrEMDviORnHLz5v5D+TaHm+QrAJ0R0yCoC/L/TcGc1UPbuv/+zOrgDvfa//sJPT7htvj/PFeBUfT/kv/DbP08Bwua/FtvloXLU0r8cyX/84zbfv6S/Yw8Zm5u/abFV6p923z8lEH1lMeyhPxO1M4JV7/+/lFAdBUT/8j9oAdtm71EKwP7YEDFCeQPA4iRl5F6sC8DMuNeHkekNwPcyliOk7uy/ttf8ehVUB8Au48V/G6sEwBT4Uc7ioPq/nPEQVRN39L9uTj+op8D4v2nuhEzHqwXAPbLikxdBBcDVC2tI7KH5v3El7nsqafm/q9rOLjAu/L+zwETLGTL5v4iN7prDnAXAH0q2nxpiBcAgXie7h1QCwBD4w6kZdwHAVTT+h+tzDMDzYQYHMFMDwEnqr95oFQzAhiE1LwHz+79iNkPB64oIwPlt+xi3Yvm/6qZqgsArA8Dnl0yhp1YEwAX/tbifePu/k3BnCTtW4b/DmzxAKzYGwKC6qtpPPwDAeOqoQyWU1r9FQAPSn+wHwKoboxZ7gAPAYwKJNXypCMCNzeYR3P79v69NCBe5NPG/E5yFj5vJA8BOLGb1VSkGwL6k9m0DvAjABY+7YwwLAsDG8mvAXAQCwOOl7ZCnmf+/KlKlJwsSAcB7wvMLOEf1vxhtdPqL8/u/wj8M0deo97/kJpA/kY0CwB/oLQSEmwrAfmrtQq/f9r8=",
          "dtype": "f8"
         },
         "yaxis": "y"
        },
        {
         "hovertemplate": "label=1<br>PC1=%{x}<br>PC2=%{y}<extra></extra>",
         "legendgroup": "1",
         "marker": {
          "color": "#EF553B",
          "symbol": "circle"
         },
         "mode": "markers",
         "name": "1",
         "showlegend": true,
         "type": "scattergl",
         "x": {
          "bdata": "iNq+Ru3Y4r/pNETKuoEAwDBS2lc4Hvu/BbQnuv7Y/7+rIkYfnib9vx0qmgWrygPA6ZotWT8lAsAb2qMEhUz1v9LCtz1hf/6/UskBHoPR/79TyU8ohMX5v1QHhSzFwvS/4rfJNHh//b/ie5xuJNULwETplvpbGwrAMD3NzsTJBMCFw2vmiWIKwMQNvqOn5gvAFGkYb8JhBsBOqxF2R70EwCzw4RuGjArAcn/MHtuQ/L93wMnO3owHwOQZpEF6YATAzByZSYnABMDgh9RVTQ4QwJh8UA9OxNa/753XfGAs+b+yQTtpxfL/v9HG2o8BQto/YvyzjjAd4b/IkEUbkwkEwCW91OcRaKq/fkKDbItJ6L/h64N4CUTjv16A8Qn8nuO/B7mqs4VZ1j81ZjTD37LTP+vvQibiocM/jGLqM2MwAsAUjjLmS671v9+xbIgqZQbA96u9STGO/7+594H5ITXzvylPx8wgefs/2FKqr2zp+798w/Ovctf2v2HZtMR+aQHABFH4GM169L+gpDmIFxr4vxWqmxNz//G/YCGXx9vWA8B2Ai8KrjIFQDNbKeNqzAJA+JwtMwKuA0CaCFLE6Yf/P/2099p8EO4/niiaCFS+/j8wsThwX+HpP8X32GS8Xvk/d4cWSz+3/D8CKAJ3+ST0P7QjohWveARARVeN/Gps1z/G99PbSwT3PwNPF1mL2OG/ffcik4lzwD+9qMQZpVXmv39I6M4OQPq/qJOaP9aq/r/tE4eni2qfP0OuVK0TE/m/TDvaB/dP6L/DNYpYnsC5P2bfIDea3cg/dGIZnyUg7b/1LBtpo7QAwHP0emLp7fa/UR6bYWwy8D+pS6gXP2TlPyJujDb8hpS/Q73rOH3267/gj5fpFg/jP17pBdgFTAlAGQj4hZj7wD/y0JQStXb6P2WMTb4qtba/J4PDmQz1wz/P1aQST7vSPww612vt3uQ/G4mMXTEe97/0bZHuGegDQJws5XSAjwtAzMYn82198T+56h+e3gQDQPzUTlswuQVAb5er/z4NAUBNM2zvJ6oDQBiH3kacXgRAPbd4dM/3AkDzIBh5bBIGQAIThddPl/g/eelwZFEqAEDPRRNeEtwDQOmPtly/0+i/4t4n1t7K0b+H4PYK/S7VP5dNTOUDZrg/YZ3tTDTjx7/zfScMgJX0vw+Nc/KMLdU//8FA3LFcwj9v5P89z5XhP+eCZdWT5Og/Py90EogOx7+6OThodWDcv3RVprPLcdQ/Vvw0mS9a/b8qXbyoTi4FwFh9lVGf5NG/ug1IB71l3D9F220WWhzyv10kw8T6jdQ/aysJljkE5T86kR0Co/HjP2iBPemsguE/Neu71qsk0D/s4u+8DMZrvyjKt9tKGFg/dczZi2He2j8eFUwF+K0BwFNFqpziueS/JqmmzuuABcCzb2uyJEWgPyvBmmL3iuI/tTozP6PJBsC+FllYUBnlP7QGv5L0fQHAPMnP/YbF3T9Cui+nhODiP1V1PZb9quM/vSHrUKal2D8v2E2woXm3PyKEHP4a4/W/eZZPSzkK/L+SpFuvUTj/v41lv2SPiQbAD0i7M9GEAsA55IcV9pv0vxDAgVUY/v2/dmT7iHM7A8DmA+RBY931v6CT38y39v2/h8N8r1CR+r+Khx3kKM0EwEAMZZ9nZQDALEjAFcBj47/OqSb5wgLfP6hpbXo9PvC/fWuS/RkAwj8ZB4XxcWCgP+IjpcddqvG/WYSand7917/ZqXFbiDG6v2lcG7RAN8Q/Hzr97z3Wwb+dH2NCG+ehPwt84+cpSrg/10mGNmo8or+GgCtZSzDOP6naRZ1pbQDAfdBEzOfMwT+aP7lay65yPzre+jNMOOK/WCD6CnaX0T8dSox9fQucP4KQX1WNbfG/EXmVd94i4r+mbpXIxTnEP36NbKaxU++/GWO0lD0Z9L9KPD6yG2rovw==",
          "dtype": "f8"
         },
         "xaxis": "x",
         "y": {
          "bdata": "Jiok0Z2W7T+TP2h5KCIAQElB1KRkmgBARtxWIb7a9T/QgxwPOwj5P513ayA82v8/4NzdWX2O7z+vhaljX8YEQN5SelKQowBAk5hLpFUFBEBLWtJRTl7rP+XLuafMRMS/E0IDwxmyAEBneicKtc4HQGCj3Hlb5wdATyHzAzY7BkAPeiaKJSAGQGW4zaTV/P8/SRNXP0UDBUB3P37ux4v4Pz+51jfGUAhAZbQQDQEbAEBS6aXF4SsEQM9VTeQkC/w/kJmkcMwgA0CuwMrIduUFQL/1pp2AtuY/CSJtOnfA+D/XOJtPzgTwP5HqAt2Jo9a/V0qW+9UFhL9zWeJ6HmoAQJOwEJdBtNU/wqbQSSgM/T+p7sZCI6P0Pws6/AxCR+4/XTCBXSKEr78znhZvDu75P+xMwX88bN+/WM40Bafn+z+EU2Jq7Z/zP8nl4hjalPw/0GyZw28n8z/DE6FgddXjP6jSP/weNwHA/7AyCvYP+j8xXW7+/y7tP31aqKSuX90/SzBZXENM9j8MVxC7TbcAQP4BfHZCh9o/OijJmuRz9D/ogC3nnbMLwIIWGoTq7QXAzNpNVSaYCMBy/uChYG8PwMNFGpdkDBDA7oGiQWhoDsBc526f8tcSwLjlczhSNg/A1gC0FBImC8Cn5qhkzPMMwChligXo+w7AJe64/ECl2b+cV9irXNYDwNrU8cQdNwBAg4nFC//Lbj/ZLd18axbtv9eOQB1Wog1AsrWhdDJvCEAMlT6o8fkAQAq9F12txdQ/aq9VzcK8CUAjWQK7bmb1P2vEyJ7mCuk/drUqU1n/7T+sS9E7sVj7P8PdCphvAARA6z/o9Pwa9j/11k/7L234P3ibfZoY+f8/hq7mQwwF4r/7gv9xwMHiPybSgDUiWQbAewJJJsGmAEANVKTqCBXsv6Z/BKf06uU/rDFTT/Xl9j+inrYDAj/tP3g8USvenfQ/AOHGOSUoDED8dV6Yt0sEwGP4WvXbRQXA+QvzShZQBMC+AcCseoILwFYqvBsbOAzAeC0fn1kGCsBnCF2LAfUGwO44qgoHdwvASKZDUGEpBsDE0Ux+/58HwLDVwDrFCgHAaB69u0HcCMDCl0mGToAJwFhP+5uQrf8/dXOA+eWz2z8iH4xtKf3mP0EFPrQcJ+w/cR9koVJy4D+CHtL8j0Pav0Nazxf+AvE/mHBCaQpd0j/vFOcJ+/7vP5YxRQbsqfw/WpFbqZ858j8N4xjXZBzGv57uBfnektU/gGY9lgU79z/gP3HGCbPzP4In7sjGIdI/50/7WHH+8z/ZBO/WUI/0Pw5aqVaPRfQ/NmkCjuuiob+ollSHyiH2P56+1p6cF/s/nc9u9tRr6z82s8vVSnLSP7zV6wky3uu/HSts9EWO+b8B8wBbH67zP9KP73M9XOg/AdqtH0JJ8z8xoSzX9zHmP7QWgoo9OvE/aqRmG3us5z+41Z9pE7bxPzgS8jRjcfA/XJg1Cmwv6z+miqhlPH35P+2OoO/0SNM/tukl7S9r2z+GpFgICJi/P1z1UflTGvY/PQIEzNrJ8D9A0gQmScDzP85Ss3D/mOs/edwmvNuz8D9hgCj5fomsvxITfu7W3OE/R2nzX18j7D/0PwErAg36P3gc+4qTg+0/WNnjmJdf9D+P5kSohAHvP4BZcADe1QNAKQHGLmae9j9gAef6puzhPzC+X2wFyNq/o25aED6J8j8qIjqrA0XuP+KlAfCSpOI/ic8YQ/AF1j/q3wwuKHPhP3quj1qSr/I/GpupY9gR8T98HosOC/rvP+7HmRXbDvc/b/aCo4M09T86T/k6IFznv2IvwBHEZfE/PtViiPOp6b8BBM0nYonav1Y3FnGkMeg/DclPqVfI1j+BCPVXlrLtP0tDnHEdAdQ/lF7ZiVk3/z+Vn6fIPnb+P0PnD0HZYNa/dhVPn3MD3j8Rj6ksuZbkPw==",
          "dtype": "f8"
         },
         "yaxis": "y"
        },
        {
         "hovertemplate": "label=2<br>PC1=%{x}<br>PC2=%{y}<extra></extra>",
         "legendgroup": "2",
         "marker": {
          "color": "#00cc96",
          "symbol": "circle"
         },
         "mode": "markers",
         "name": "2",
         "showlegend": true,
         "type": "scattergl",
         "x": {
          "bdata": "74EQ6CbV9L8DVI5z//3+P5Wlneqj6ghAf8ANrWzb5b8yoxnV/o4AwNl1WfZzOQnAHWLxH4+B978oEIrKhbT2v8D67FBW1gjA/lCvRBhuEECs8jU63u/4P9pPSkJNNu6/a6BuoIZM6D/X1qyW9j0UQF/qZVD2kgtAQuFg7XIQBUDkvDsqloAOQLLqg0shXg5A+OJIG4EsCEAan/o7P9UIQL9peTST7PU/lEidKYHaAUBZvn2AWgILQE2VEu9A3hBAOgemtpydEECQZpeT0vICQM4RbcZLOg1AfO1AxpmfEUD5EVH2hXETQJ86DCkbzxdARLEDw5eWCUCfIeqqmqAQQCRf6bfXwBdAFW0f2DPXE0BnTfwKo74WQOq1+UJmmRBAffQMz9kfDkAtLIWJS4gVQEUq+jhXARpA6bw8Tz7qC0AxFpp0fmICQH2MG++YuQhAXRMI/S3rD0DOysdXUVcMQEe8HCtZjw1AFN6xcYSnBUBrD1zJCuEGQAX3OTE/VA1AtEbCjdaoCUC4j8ZQZYIQQF8A6U6rWxFA/fcZ16JG4r8odd31GyzxP085Zn+oDgBAgEVxIJ+cAkA09sKUxYwLQH3CintTtwVA5rcABW2sDEBkybXF9IUGQHjowot6BxBAMgVHmbTuEUAbNtwLXr0QQANE5zUPjxFAl5oGUN6VFUC2JbV5pt4HQI+/cqSE5RFAP+GKnwBNCkCIs20/vNYNQLpMG86pPghAiY9D5HJbBkCoRUZpAjb2P0wYKxgnm/M/2SfM/ZT1BEC5/hJQd7ADQFFp0gAFThBAymRnyiiOCkDr/M79kT8KQMMvOs9ISQ5AbCQcsxUKFUCP0V/42ykbQNMBUH2WLxZAEitKQsJ1DkBtWHZrf5sRQN4Uhm+yDRNAHzEOi2BYEkBFD7IZ9tEVQKtlatTrVBRALpjzHwa1+j/nuWs888UXQBpg34CpUuq/P9ohsPTpDECGGuApoxAVQMIDtlTbvBdAn3Dqh1hrGEDf7xor2XEZQCcsA5P0DhFApAoqV0HUD0CgF6AbZDsSQHjDWX/iKRBAt5t0f+PNGUCke2ToZzIMQCX4eiCqGAhAmWTkxvC9GUDV6wbCpCIWQEJOGPakMQdAE88hWjT3EECZVB4bQKAMQJoV6oERCwxATt8zDoeXCkAjaQqSjpMNQHbNcCSn3xdARa9FRbOeGECRCwzH20sDQJg6/NOwEAVAohkE9/Y7GEDmf+RMgcASQD5OLCMG8RJAOpiHwAoiFEC6JtajKHoQQIlGMemTuhlAQR4G+r5MF0CFV74P9foXQHBpW/8Uqg1AK+hXn+MtE0AqyflF3oUTQO3RfKOQgBZA/MnM9y/9G0AVaMuY24z9Pyuu18CZqQJAUTnDDjbY9j/IcttmJX4FQN9U2jzggPc/qNnCIFsOAUAr70CZkyoDQHaBJtZWOhRAi2Tt8Tk36z+sRc05koUJQJwyvr7F8AVA7kYbdtHQCkC6Ndmx0tUPQIc+ZGF68hFAxnZ1uvvNFUAmsbSkhuYbQAGoivTS2RdAZHXq/ZzdEkDu71YA77IaQKK9VfOmrhRAhHtcqbuKF0BZ1X49n6gaQJ/N2NiYhRhAJVPyV/JqGkCUF9J8WmARQBjv6UfX4xNAR1p/GUyRAUDWd7jTvJTYP6hzvRPzrPc/ICxdSSYv5D+vhDjwjGYaQGYK03tAic4/f1WDtZOaE0AMVg2N3Hf6P7r4bC+plRRA+zb4TWN2B0A35gNxEzUBQBdRVybT3xJAxwVAdLsX/z+1eeCNCqAEQNIriYNxdw1ALnQu6R3KG0CUGJC6dQoWQHq+AQZz5xFAxs4o/RM/FUCYsrQNnvgTQOTIdTyJOwZAj7V6aSSNFEDcc19zihcRQKhixUBYGAlA",
          "dtype": "f8"
         },
         "xaxis": "x",
         "y": {
          "bdata": "1n2eXdJM1L+8x6b8Pwv9vw+d5x6R8fC/nqRwN6Cz4T/JGXoskFjyP1SgnM2okPw/EYGOK5md0z+kdx9nixbrP49WT57XZgZAzQ8oXAUKCcAb25HLWqHzv7jE3e5fCOs/adA9Pl00xD95tE08ccX0vw/tOvlpvLK/GNEqul328j9PrEEeDVblv+ibkVXZ08y/jKj/iFkG/7+VYfRCsoT4vya3Ys6Wr/Y/AX9Jd4dfsb+pD4+xHhDyvwHJd8aYfgXAHIPvNlEpAMD7PghvmwvSvzdwaOU0s/O//lSxmYPQ97+j5sq+sV/qvxZQIzuvNfu/ct1OhauS4r+1tnu7q5DXvxoHE24YN/2/4IzChZsD47/xaBFvKerpvw+kJj1/v5C/2cI5Reox3b9HnZlZXQnpvxDo1LUGGPC/u5016JMs9b/uWM7qsjv+v0NpanXL7Pi/mLLDbH6rAsAiX9H9Eo3hv4XimRxiGuq/yV1ztF1y3b8itwWQHTb5v4En6B/l5/K/rnWRE9Ld/L8lTHg/c4L7v7r909yxhfO/52nfmwRP8z+g4a4ah/jqv4fuQ9V37uu/oc4ZotB9/b9jwg/NV5/iv7VP234uFgHAZEdHgMlW4b9y5rwpOOX5v9Dc+Q/mCADAJ5hmA3cl+r+uykLMeboOwE3d3xTSzQLAgHeaXBYOz79jwnLRVqD8v720o3DPduS/dCO+byjg8b/H3CG5Ue/bv4cr7TahB+I/ZmWsHZM40z9sJ6feZRn2P96rLo7BGuE/tKNP9tA39j9dxwSzDWLsvy0+2Rkkc/y/BTmH8F/J5j/+XBA7bq3UP3mmT8fL3bo//eRTeFvT57/qVXLV4231v/+5QiPLmPS/3cUev9sJsr99BqrBXLIFwL8mZG/2N+S/C6bFXyXY77+xm9jq0lH8vwaxmra0jQHAWon0pqdqAkCUrL47/Bn6v4C7oVujBw9AjXyTaMacmj/UatnY+nXtv4pYnwOD/QfAbQvV2tZ857//24l2xJXgv1Idq0+S7P6/yCY90so68b8Gy00lSVLzv1zWCA9Eb/i/30nY0+ep7r+zh0E+O33qvwqP5SYgQO2/pQ6hz7j66b+mFRVMPksDwD/9vm15LOq/sOCcfO298b+IM+2NvDbhP5D+1qPuOei/kKG8II5v8b8J9rdBsRfrP+fmHLav0v2/pywNEy/C+b/U5b0+9wX1v8+NPIR3cve/FL8n5IWA9b+wwtOhbzDmv+FDUCHMKvo/3ZFZui7b2j/nA5cwR5TRP235wtMfeOu/yqKOlwhMyb8IrUxfG9TfP/G9BYMBRvA/LIHXn6RU5T9Yfi0PbX36v72DX80SeNa/sP9IyyFT5j8DDoNmyK/aP9MrpS4aKgDA4NSUuAiR8D+W7/ndWV3zPwNxzmR5oMg/ATVAs7E26r87GUyE7EjGPwfSSjpRqbE/tqIDeA4i578h2CynYerwv6UOTCaDbOO/ony1vtJT5r8RONfUGNTkv5G+4L/63P+/iW/kMZxx/79g9BqFybn6v7D8nYAS9tE/Mxh37Wij6b/jpLkA2pxuP+p0tbaBKOG/5MVvoFhw578j5xXtzK3kv4cVZsGmofm/0xgbMSc+5L+ptPepOmjqP2aItS1BBNS/6g0HD5cr979IM5ICaq7qv1ZvPqwZ1dm//GanpEdE978+3O7DnZ7gv/EHJedDh+S/uNII0qBE+7/E63XHT/X7v4E9RHy/H/C/e+JtL7HSCMD4Ig+ErcfnP2aEC/HtEOm/ZyT/LSni4r9YsnQkdqriPylWUhV0jQTAWRT88lMj6L/1svJ/epX3v73Yp5i0CwXA9BlhJYKZ9D9Np+XFJvnfP5I11wo9+8s/DVtDfE10yL+F9XJthbH1v8nab2tSlva/",
          "dtype": "f8"
         },
         "yaxis": "y"
        },
        {
         "hovertemplate": "label=3<br>PC1=%{x}<br>PC2=%{y}<extra></extra>",
         "legendgroup": "3",
         "marker": {
          "color": "#ab63fa",
          "symbol": "circle"
         },
         "mode": "markers",
         "name": "3",
         "showlegend": true,
         "type": "scattergl",
         "x": {
          "bdata": "5boukYkqCECVEEVbihAKQKPwa/C8gvc/MEf5OJooBEBKX6/w7dAIQA+RpUquUwVAbZfyeZC+BEBs0mDaDocPQPxdsXnJegRAaQkTyKnQAkCz/0bPaEUSQL3a9G9eIwxA0I88CXR+EEA6ThFbrLcJQJWS2yMD7xJA7F9wB8TXAUBu3jyzYagJQAxc0j3wLg5AjlJmcLRXCkCepGUaM3D5P8jhzs0u2QxAgve46eEhCEAb+7axKD7+Pyjd1+Y4PQZAXPYAlhkV/j8hX/McdtfCv+1NvfZtFg1AxPW6GBuoAkAdIej8WxULQG1WBPN0JAZAoeHJRvBgE0BCH8nG3tf/P9zupyVvzxBAzFGhzFe9C0ArkybgBTAIQAJYz3eEwAlAt/CXiR9tEUCUorxymgoQQLRY/TLL0QRAOnGCSnRxDEDWUqL5lK/+PxiBsgSKxw1ALZ1b2rcowL+nZtzanLoKQB+WO+XTuvM/iDKgLRmc+j87PHwE7W/5P4sNgTbFI/0/nhxr1a8RAkD4SGYw/5UDQI7YnjzIvgtAUbv3YPzkEEA1bZgrYQr8PxOCXYoy4fQ/FIxv/I+NA0COlG9MsWMAQCJe3WxuWwJAvll/lLCRAkAueHrg/gD3P72VXbWTEus/rnFfEmYW7j+80/j33pQFQH7Rl3Ojr+o/qm9v8CKj4T+A/IkV+csGQCt8B1noGAJACFgOH5X99T9IQ+w4ukX9P55RukdnbQNA+e38uyGqxb/1qZKhvGn/PyJKCPUR5whAquDwc0ZvBEAmSvwmKRsJQLlIr3bytQBAWMowBw21BEDz/qxwcNvzP9g3K5DjXv0/HhKdYTQZC0CzZHzgTsAAQKf1h3Z1OA9AKPGyG39mD0BP/cVKg/sIQBQ9Kn21sAZAR6Vs6OU/BkArLY0hOKW7P6KtRhbATPE/JbQtgMBOBUCaVgq740YPQCLZEyg6jwRALJrTFWfbAEDxa4RgI7v/P1xlTojT2gFAuPEeG5vrAkA/1HzX++gOQPAPDjVD/QVAMhuKXzqYB0Af4XWf2OgCQD08uunGKe4/mrx1IFZNAUBzpEXhs2Pev23ekurXQAZAvu+JdkSqrj9oit4wrKMCQC3Jtft0VQRApMMQgG+bBkBuBPf4FGgLQKIlQHz2iAhAg/FnJqODBkAvSJhZYmsVQNyDr0RB4QhA6kfpyVmfEkA5cinexcwRQJdIfq3UxRBAqbCkM90GEECe4Clvtt+8P5jm/9lGiA9AU9uxcrdTE0DnyvV8XwISQORbNRWpyAdA0a8CRR6UCkB86ncgb/oHQIrbnSjZyAhAsrNgUCtkC0Bv4C/U8HUEQJK60o+RPAtAqqVkPDDBEEB5k4dpv9QCQILySmxnaRRA0Y5TuyW1CUDWmR9A5CgUQJVYNPupKxhAN+bhUwp/AUD4MMrJWlwSQGMzt9nGHgxACGfUeZKXAkBPxpo6u2D/Pxcdcf4mYQhAj5Wmm9yiCkBCJh9JwdMNQGuE1ba8dAxADBGPnNzBEED6yJxapFkDQEF38Apn1BFAfOSXQrBGBkC9fal/lZMKQEpeI36F1A5AqdssBI9dCUApzC6+zN4RQAyPmeKUQgpA9PMTyj1REEC70Yf9e+gOQGrm80I0vwtApbVsPgK2CkDHDSiDJ0UMQIj9wac+jwNAeSpdBbeCDUB+MHAJp334P0VLgRgYde8/5Nun1i1jDEBhy4mqF2kMQPfYf2TqCApAoKUIHA1kCkDdXBRv7vv2PzmYrn/+IQNAtRjCLfltC0B+r5GFB5f2P/qVUQv7KwBAZDTriCwAA0CMku8aTjoBQIOE5i1aeP0/qbchfjjSAECzAaNXAZoLQNi5OzjBxsc/3IfaPoYc8j9uRUiG3P7dP/leYfKwYNu/2aEfRhOB9D9FJ2jHtV/2PxMGygEXPf8/x7EfeqN//T88b6CEHYX2P/Vlyh1qhApA",
          "dtype": "f8"
         },
         "xaxis": "x",
         "y": {
          "bdata": "TtKHmvvM67+MUTcPaDEBQHfcOrp5SA9ASCVpRS55v78kaZ4ih5z1P/NV91wvotY/34H27tdF7T8W/dAaba0CQNN3hRIPBAZAs6Bu2bO9/j8NCNlpB+INQOig5AfJeQdASu0ZGl2GEUA5I1UnseARQCQizv3INP0/mN+scvxlDkB1wdNH0qAEQIkgn9QgLvk/vuNVoPDd8D9zZMWeWucMQCW782EOQ/s/JKUHGCDlBUDyi9XcoPQCQC39m3333AJAjAFgfPqKEkCFF+yTE40TQFqv0iopyOq/nUsUn/zY0T9LhJsQNYjUPwvM4FMxu8o/41AYiOCr5b8xehL8dHb4P7+N01rW4+Y/uaA3XadL3z8xUay2as7JP/cOG+1QCfk/6Wd150hC17+pPVjMxFbzv2oafBSiA9E/mbcyskhr9T/fqzT+nOr3P9GJ9+VrRfm/Hy6Oe72P/L98NL9unp3uvymoRKhcweC/QA3mM5f0/b/Nwf/y56vrv3INMx7pQ/q/UzEsCqGd/78q0rlT27/7v6eYcZEu8QDAS+jXaX/R87+5E1nVwTDuv9A0sUCXd/2/IZwxU5LS079Zut7lyQTwv+tHSg9wuva/la4Z7ONIAcAOtx+WSbvxPz8By/YIvOm/m2agUIAW87/GhgJteC8FwIPNMg6zfOW/83zWqFc96L+lNMAu2vnqvwN0v8y7m/S/sq2WWcDa4j8vGEykt4jkv6W9uB0ui8k/s01HIFxY8j+N+opSfLTmP+LdtxOFYuc/ylm1tQUf1T8qa6L8CI73PxZEjhMMWPU/jXRhZu+qbL+HeXTETqDSP40R5q/309a/BAehBQVG8D/QKcFK2Ancv/paOo0Oh9E/F4IFDWBKvj8oX1ayecbjPysn2C01Jec/oCZYYYdW5T9e70Pb32EQQEDBIhTDLgdAHVKTfh6F5z/ByYU2N7K+P6PE4YTEj94/EfQofC3E2L/q22AE24DkP5v3utgXlfS/Xd/MqRAN7r8G1HC9hcrnv++nRld+r/i/6i0rgYet8L9tS/9nwgXlv3vcAVy7NPa/Hq6MwduKBcB3aNkQNj36v52cT4Jom/K/fRhN4SmY+L/yzCyT92Xev+73SkuY1wLAHgyMeycG1j8mV5JsX+/gvzjKF1RWwuw/8Ni2o/Yl9z8++T8BkJnLvxgiy1X9sQFAzjqZya5D3794HNQKf7XgP7+2WKxihMC/UNaZde6/6D+hmulyn10RQNdeELKWl+M/oweLpz3X5z83EDCbmqnrv+apnUZku/U/3iUfHW131T9KVSi/mUYWQGQcoVmZVOo/7aL73N0fAkDaigXjN/QHQGWFDoLgRgJABIOqiaNgDkDqzN9WBzT/P+cC1P+bkOq/UsxChAH10j+3pTqkHocQQBLsJVWTzP4/VsVEpv5N+j8U1UKxuAnwvzD+mK0Ox+O/CEhuqGDS8D+/HxqMhjPpP2GG5iy7RcW/95854xz67b+R+c+Xwfaxv8K9gDQN8gBAbALaTzjB47+skYq5QDzov2AGsprT5NG/2MDfb0G96r8gK0gigALyv+gdhNkQHtq/4cd1i9Qmx79AQyGePfD0v1IoCHzrIvq/9vsXkEmV378Q7v2a02DAPy31O0pcjt2/Y5ZxKOidzT8skLTjoknWvwTGZBDqEeq/TI152o0Knr9y5v2hQKn2P2wyWnNCAQhAQ4WUbg1+/T+fj0ndv30PQDC9tV8T9AVARe62DfbCEED9jm7S9sMIQFHtZPOtZQRAkckDHp8pBEBoWxYi8FTxPxOSVb4ZzvE/7ddKtQbe9z/oWZQbuOnoP464jwwBeuO/WugpdJFf+z9srBaCeZDMPxZ2NsQS3BVAusxbDfMGBECNMQVsNZwMQMYyVKbAJQDAbaISsj8gC0COh681j74QQPiDyzvS5wZAezAEjV4h3b8d2mpw0RDeP9gGzm1JK/g/",
          "dtype": "f8"
         },
         "yaxis": "y"
        },
        {
         "hovertemplate": "label=4<br>PC1=%{x}<br>PC2=%{y}<extra></extra>",
         "legendgroup": "4",
         "marker": {
          "color": "#FFA15A",
          "symbol": "circle"
         },
         "mode": "markers",
         "name": "4",
         "showlegend": true,
         "type": "scattergl",
         "x": {
          "bdata": "Tz5E0KQdEsCCGyHqwNUVwFHU0sVpAxDAMz5HPsHpEsAFopoCroIVwEUi4mWQ5gjA7Qw2hsZAAcDaKHb54h4RwGe8OTNKzhHA66LT9cBDBsAPywFYIiIKwK+3pZ/SmgfA9t0uLonJEcCqQ297i14PwFJjiG1VlQvA+zNnR4SmEMAMp+q4wOgIwFjYcMpPgwzAoS2szBRABcASK9+ZWBgQwJ4zOhdPMRHAh+mKGK4rBsC0aGUR8mkPwEifLiRojA/AqfSJorBFD8BlZJ9TFfYMwPKACK/AIhLAn1sNXYU8C8D+eAmGyIMTwKkZgUQy3hPAgK3mcpQfDMAtS74zF8MPwKYTsb1TNxjAt6opra5REMAEcgJbW30UwM0F+lQ22xLAYLrn9n1sEsAuyLuj1QUUwEimdFwK/grAiAI3LfC0CsAZMlt8H9gQwObAcRpwqA/AE2OjY0GuEcAr1Saliw0LwPPolcn/bBDAT/1k1gFZEMA0aMFGv0cOwOzvPyEpgBDAty1B2wsfEcDJj9UQ+FMRwIaih9Fi8QXASUnvVEbHCcBF5Wy0c/kAwMjli/ASjw3Av5CuRJxkDsDvOjKIhmUSwILRk45BpP6/swF6YpJaBcDcm4M2Pw0RwKO5qcDlzxDAfSTVHIpQDcCi0OB4G38VwFwzaF9mmAHAzLH3K0hPCcAgYtO8BwQTwNz0svWVvRXAKlQn7mVPFMDw8MejheERwGtrNKcaKhLAm6sAEi0vEsACDkUO7mwUwDdE3+mdqQ/AnYCQy9yfAMBddnGQtQQJwC4sq3wMUBnAvw8Qoq0lGMDtJu3YBTkNwGSS9WcsyQ/A4QNP1ev3EsAx/lKodgUWwDpL5ByNhxbA1Df0CvNaFsDbi5EcYwISwFrDoMyEbRnACVBiSdB3GMCWKPdGc8IQwPxMJGAPexLAPJXsYGmDFMBiEeprJiEUwK9D9SnesxXAVkDLrSjPGsCCRNCA4NIgwHXpXgUpAhrA1goZLh0WGMBjPuY2pN4UwDzD5iizRhjA0RBHqMypIMBVYy55eIEdwJtERx5KghrASv+OuMhgGcBuF3/cX6YdwEUI5C/jHRvAJmXeCPQBG8DeTgX+00sYwJv2P8wOQCDAU2MukLCpFMC/QUwOEvcjwOK+qfLZtxLAUn3w1mQf9r97ZkDH5vwRwOvpeymwFxLAxfswObdEE8CV0MiBMOMWwLUql7aFYxPA22JAVXQFFMBEGcPShxsQwMFUcsF+xRPAe/Tcn+wjG8AasQH3kcAQwDTHT6SDxRrAvnvt6akeF8AqXybJi2kZwJiqlJWqDhbA16zBVHKNFsBalJGX9ccXwHRtDeqSWBbAC5QEGlkuHcB7FBGsTCQXwNAF5LSj3QbAcKzqV+OpEcB2v7vY3tgQwKTz90ZWCAnAsV+bde26FMDiA3gfHD4SwINIaA4TWxfAQWdOVxakFcBVCgAT+WwSwI9mXvwsjRXAVdR2XcY5FsBC7ZlM7XQWwDGbPOLfNBbAZ23QuYaVGMAVmwgPC9YJwIxgUm4/CRLANok6Cxo/E8D3qw2V7OIXwEhVhX78lBDAB5Xz0lu/FMBIWJjhTTUUwOGDMzjivhTAaRODGBZGEcDxBHXRO0YVwBho9fygRgvAtIZYDIG9EsDZomTWKvYTwM4OPsSpQA7A8As8zdhRDcDontKC0IoIwASHtH3uixLAZapT9Id6A8CrAk2ErvgAQAw9jx0xQPE/UuqWDxSpEsD0K1sjy1AQwBFH8ybwlhDAKWJT0tSlAcCvvn1XuqcCQL3BRChFThPAmpB8xAHwDsDALF2izKgVwLx1EqAgNBbAl6t16U57HcCIsW0/K+UbwPWLdKcm7xfAtOcs7oHuGsDdlgq3QNcZwO3FzQiU1RPAQE6+Bj5tFMD4IaBCs5kXwH8rTjRzGBnAT8CaGh7WGcA=",
          "dtype": "f8"
         },
         "xaxis": "x",
         "y": {
          "bdata": "Ib68xOR+8b/dihxRS7yZP6RKYp0wn9S/suYZMk/E07+7grkD9lL/v/qTP7UpTc6/EcNM+1izzj/GIB+mJGXlv2MdZ+XCSOq/rDEZU3wR079U9hop6evZv+TNMJ9D6eY/UB95NDH43b8CAORHRSTzP05wLo2+xta/Kct2sOZK4T+SJqUe91/wv4mjXndv6a4//EQIkQgX5b+7g0ObOp/tv2nuTZu9Nsq/EUaBsNWO7r/aFr6Y4ZLdP64TQM58UsE/lWSiNTryqT8uTwYolYjIP6SneU0T+dO/U8eJyTFd4L9/uHcypEjxv5/H4jFuF/G/HPSQEu8S/L/JBAaIUz/Dv3Y9vo/V/fu/3yuLcGdG+T8XQY/2gn4GwASzZD27juC/P/RmvNo4878FmoNFGAzIv5ZV4Tzfleu/AAcxcKyL5b+5zlvRaN7Fv88n2XwCsuU/9b4sj8sX4r/t5mdle8Xmv7PZ0Zz3WcQ/+VXSw1vo4r+cmk4jOD/Qv6GKMWlmA9w/crPpET+s37+yxCA8hwLPP2bdNUN46uS/5uzGg46P57+gwJcziUHOPwq/RoRx/vu/9Lyf6nFklb8iulaTejPZv2XHZDWCPce/cjTWVkTW5r8W2lDdt2vbv/VuKHhA1Mw/dES+wSsn7L+aP/J4DCGyP9iStveSUem/vJtbGkNR5T9tYU5e8OXOP1KUXzsuHeC/9sV2rVYM5z/9Ozpb4Hz1P4VmaUWUqPY/RNzYCR/W1b90xzKBJJrav/gt79Qc1tM/GKfOmB0mAkBUspvv54byv7mJbLmB3RlAFU9jDsu34z8snd1Q2vwJQE5RW11g0AbA5SkvU52x8r83jNE/G1X/v3Y9Ij86xPS/S+L2kuBs8b+U+dEIpYf7v5M2o0Q8OwDAtfm9WJO5CMBaYNdtUA0BwMKywjzDr/O/4GHzTASg9r8jO+3gBgQHwBQ/NXHA5gbAR1K4R9tM+r/F+slSXgH5v/eYVG3Cx80/1YL8+J257j+MxHk9WYnAP1J345Df8vE/mVmBOg7bBMCEg5rWXtMEQNTjtz3Zruk/k9jCSJWP2b+oCnc5zgT5P/XzOo0lyxdA94udxDv/BEACoiLNPuEIQAxRTXyzRRFAirbrcbAF5j+nQNY/7Q0UQFS6otHLS/U/vhaSWwd9BEBVCkxaCjj0P/XnLjOSDvc/T8O3LqF9dr+vJnNxwnH0v7kt2BB69fk/Kf52D6oAuL+vsosawPT3P0HBK6juY8e/uskAzcIY9b+GR6r+r7bqvxebZTau+vO/3wEINt4aB8AK8hiOdvunvyg31wnMGuS/nSRZWZYW8L8CJ045/uL2vxtn0QKrDuS/dhGq4isb5L/NIGETnIn/v9QuZk7MNNS/MhHqYmkiA8AmgQIXwIUIwJ+UpBQnM/m/4wiG77aXAMDaRElnqPkCwK4SVJUSqfS/e25s75MN9L+SZiNIZzUCwILh/Qt8+OO/rses9hHaBcDkfKfofbYEwGdPD3361QDAOe1GpUNN+b+QcOEjVB/3v05zg72+Vvq/6UL7+e387b9YcXmnI6Xmv1qZx8wHG/m/eATMWZa46b/05u9FT4n3v8zzKlHNcOq/r/9tBxon778HezzaZe/5v3qx5Mvb7b+/5/VipaRj+b8PF5XpHtfkv9WS9xzERsy/RS4woYHnyr+cS9h/DevVv1UGHzQps+G/MFxugM1h4z/ji9QMhLf9P2eU32U0u/o/dPD5gVzE+L/5AvzJYD7gvy0qX8xwruG/4essruTa4T/kQWW1GOz9P+iCYcTvAti/ajCzwq50xT8gymlldITrvzywfZSZCuS/J12VI/kyCUC/80DyAGP0P63i/+4Lk/C/hccx7xGZ9b90wPHtS8oBwPoD2XjfjfK/2/X9bE2B0r9t0I9kJF37v8Iokq/NZP2/LmzM3bWt9b8=",
          "dtype": "f8"
         },
         "yaxis": "y"
        },
        {
         "hovertemplate": "label=5<br>PC1=%{x}<br>PC2=%{y}<extra></extra>",
         "legendgroup": "5",
         "marker": {
          "color": "#19d3f3",
          "symbol": "circle"
         },
         "mode": "markers",
         "name": "5",
         "showlegend": true,
         "type": "scattergl",
         "x": {
          "bdata": "oewtKorU9D/kvBC1KwQPQH9px+A3HNg/jGt65JoH/T/WE6sz9eUKQMBPKB5U7ABAIbpDCidv7z+w4g5Fa9P/PwAw37w/3vQ/ITO4xi4d9T9EgV5l0j/4P1qq2N9A+glAFWzQM24c6j8eblwkE5gRQBusBvrmxRBAsM51Vby9/j9tveiFmIEKQJsKv6oK4xBA/hjsjb7/BkC35uNMmMkRQBTz//WwnAtAKynQ2GWLDUAHiOSR2joHQFA2nLg2Ivc/QfgJ6JGrBECKWgp8By8HQK3BsgBpofQ/u2tbi88QA0DxHFs5sp/0P/vs8wtORNQ/+iAdhTWJ9j8ZRgCGKbH9P3mjOq+NKOM/M1tRcIVu4D8BIdrQx/rYP68s6HD6etk/MRJKKCJnBEAQ6/QBEusBQAJ+L+7/xg9A1RscKDH57T8fQyEg9IXfP3ahxivphcS/o5uPyMdJBEDZN4qihWXyP0LlwOxCKNg/rm0KPep78L9qC2qWYkb6v+kbC8k6u+I/0HKFNWvdAUDsoGN9nRT7P9y9ET+LnfE/hDKgAfAG+b9lGvshfUTrv6OuTILQ++w/gLEBEr5L/D+KT9Cmu771P9M8rsoMces/iRfbItuWtD8qCMwBqvD2P+GobQu0ofY/jb77waYl0D9Sm+SwKMXiP45CDMcZgPc/6Pjonpne9r/jl5mKrC0AQPUn8xqGpvW/TjStVMqj8j9cbdLKx9/9P8cBhPYGcg7AA+QntD5M2T9Hcqu8rEe2v/a4qJKzvuM/co6Yoo3o979CYl+O+6MCwGTL6/u0APk/5j3K0a2L8D8LLJfGFMrkPyfeDkJISQVAv7oqWeWLCUDYPKNRNREFQDKHgOCuHw1AZsl1BvnD/j/zEbACoL26vyNAwH6lsQVA5qv1K81d+T/JxvtEI0L0Pwr1mHzDXAhA9XTk4CA5AUCM13A9WWQHQFCJjABNLQNAEYv2KWN2CkDFl+nqoYb9P1AqDhgQjgRAFrIiqpb3/z/3m+i343kFQI9GnwR0EvY/+Em/zBtlCkAdS1LB/4cQQB2jIx7TKQBAxFhCNO31/z/TMlTT5dwGQBIYIloDP/k/1Gw2ia/T8z+TwFBUSAYPQEj+pof90eU/4DyNEWPi9z+lLoJgsFLjvzDWNdtf/9W/UHYmuQ7V2z9kgjs7RCbzvyt1D+9cP/g/FnwSClXt/r9cHsdSQLT4P330BrRf5f4/zrhVeD4H9L9GiBRIRxj0Px7OF4zffPq/XMvHAkPg1D9AmfDZF1b+Pwl1K6+8bRFAO9s9yCFc7j+6LxKkSzgHQGEEgBegLRBAJmKfj99B/788sS/w1QAtP/g/9H3Yi/g/cb4UNdvtE0D7Z3EnieUBQKnUj26h4AJAnB6XtUhMFkDyt2BQTfrvP0aRTeNwlBBAcjkVa4aC3r8qoApvzBMEQD5p5g/Lb9w/htPhK3YJ+z+6doIiCS3zP/OBvXtUDKI/xXihgmhj7L8Jh8xOnhDbv0lW81A/5PI/rYRcPkFclj/9sQmIGbQEQMD/ZAJ7Rfs/vrH6YfGa9j8Y7waSutcBQAHdD37yOPs/SMlk1hzuBkDpl6lznaO0P32NMKVVFAFAIpVNwgabvz/oxR3LJCfhPxs3pr4bvPk/b170W1GV+T/x7Gb+CZHuP4b3em6q8fs/mOfRxuIl9T+bkG+72DnVvwSHDLNnovI/M8dNU4zBAUBPrp7s6nEUQBbvIUnsx8+/7FP9qK53DECgT45pi1n+PxTjKCPixde/prBhmAv//D9GgUwpsoP8P/7p8EvZSdK/Q1PxnDJB1j8bMGWSgsO2P9vDGt9y+OW/IMT3mV/nAsD2D1D28b7Cv1GPxLniFPS/SH41Tr3t5T8CWnK7vqnvv37Fhhm1OeK/hxt4DJ/c/r+KFo+L8V7hP3foRHDn0+A/HX1NO8EY+b+m2XWKFaXHPw==",
          "dtype": "f8"
         },
         "xaxis": "x",
         "y": {
          "bdata": "32eD5/Re8r/StCNbwtoEQB+drWLEzeA/9mBC5NuqA0BVSTQ1r7YHQIVRdLKTSABAdBC5D6Rj8j+shDScuzIEQASb08b2i9m/p2ChPsgp6D+0BNXW7ljyPxTG1HBB5ARANnvnwF2o6j8sdWCKRHwEQAvHAJ6GNgRA+iJAua0m8D+CzIAW84MAQIqQcY+28QhAnCaJQdL8/j8DF1SBevcBQF4epwDKmQRAkXD5IwwOAECTG6vw5ib+P4uQ8uzmTug/NrwoB0+aAEDEs9+7c3QBQGv5DVYbo82/0uZOQINdDkCz8NgN/PbuP1gySLHNgvE/CX+29f7B+L+sBt698voBwAGxQl0wSvg/7h5SKQFM47/ZOUD9ynnyPxnU2k8SWMO/4rsYGXfu9D/XX4e0u5rlv0rOYBNztwhAxPNH+/vtBEDYTnYsmxEDQPYC547/3wRA8vzoYqOb9j/ej54i1tv0P3D5mjcRp/8/j3QgYVdzCEBYEkP+vLMCQNzYj01oQv8/s2p6xXqY/z/qZLg4nIH7P81R6A62DQJAvTuKbtFFAEAbIQ+qHtHxP/ekJlNpMtG/mnbx9Tzc8j8KZ6PG0g4EQADjJkPOoum/rYgG5Yz24j8a5ZPSZDjkP37nV/AeMNs/lSkG09ya0b95PQAjUA7nv195s3p50u8/xogJxuxeBkARs34skFTUPywvSDC/9vs/dEdFwPAMxz8J/GsaeLTfPyVYUMv/ds0/k++7oZl9AkAUnSuPqWb3P7PDp+EgugBAh3QoZNomu78VqP3uJLHwP16n48PqMPC/9s57Mgv5CUAsnlijiznyP0/7jGp5ReE/3qc5TNafD0AnpmvPZB7/P5MkAeWqpQFAG/eTkBH7EEDAwCxpWx8FQCFKs2f7Ww5AiiccAG9kC0BumaJqYmgBQGsUioxXAghATLwEBBG4B0AuyYFGvfYAQH0rPf+CNQ1ACDufgDiNAUCv3w5JtrvsP75Fuqd56/K/kdxWvlDCAMCC4npFLLIAwHBS/BPLnqQ/jFXeyIOZ9r8lGGc6SmsHwGt7qU9kJ9C/Jcti9Yg68r/zcYqTdxz3P9fOZIntHfK//hiKzd/ZAMDr6yLdx5LZv8dTJXgT/gZAqcIhAgPiCEBJHm5aw4H5P1TprKkj4PQ/0AkkTyn88j+9JOa/aSz7P2OPTkVUZvc/5NhhkdUd7z9AWld9wLwCQGL+nPEj9OM/EpKmvwnG8L+KkQOo1/r4PxGEAj9GqtO/Xqv2xhxd979Kp3T68lXzv2/xG6FL2AVAyluF0syO6T8Ap204DOAMQNP9Dc8gAAtAdQX4QBmg4L/z5OsXAt33P5cdC/OgLc2/Ev799gf3BECIdTFG/X7zPyPBDUm7/uI/bpE4gt/PBkBUedtGCELrv5FXKQYJ3Po/tgu1GC4w0T+KI+YrSt7HPwEQe+F8g+C/xMz/hgHz+z8zw1ZOIurQPyi3YHYAeP6//Nd699Nq9L/qoWRT+CS9PwHOeL8hm/M/TNdHsPyU/r+TrheJJ14AQNeiNVz+MfM/FMdKCkHV678qsqAMEjgCwBDiKxXOE9y/8Cg2fxvpxD/GtW5g4oewPzphBiH5uuW/pL+XecWG4L9m1yoa/0vZv0H9NrvGMMk/Z9g/eGgK87/dq4FbuJ7sv032h2C5YvE/v9WvYx1m8D97Mwu1n2XXP9TF8C5LWvk/96iaop8VAUBszZaVITUGQECWPsFYWvI/rk3VJ1sY8j93cAbGcLH7Py9b+zbP6bQ/ww9xC2Kz5z9hiTxKviD7P859MLUyvdM/dsYw9+C95j+bsj0MtijmP7IM3uPmWuM/BURYC+cat7+WkL5neAu+P3Ky3Wlv9Po/buHE5U759z8Ird+YoAfwP/dFCwkUtPE/f/fVqdtx5L/40heICY3fvxvReShqefK/mBifFBQS3L/9Mn4Mb5Tzvw==",
          "dtype": "f8"
         },
         "yaxis": "y"
        },
        {
         "hovertemplate": "label=6<br>PC1=%{x}<br>PC2=%{y}<extra></extra>",
         "legendgroup": "6",
         "marker": {
          "color": "#FF6692",
          "symbol": "circle"
         },
         "mode": "markers",
         "name": "6",
         "showlegend": true,
         "type": "scattergl",
         "x": {
          "bdata": "T2Kc+5Ly9r/Rx99utnvtvwNAtO9tlvS/Yrr61ln8+789fFQHWbL8v1fjPsHUdvu/9oewN85c8r9L8cRC0OG7vwToE3dTPfC/9TucuMZN9r+zAL6teEj0vwC9n1wr5gHAP6RQKdnb8r8vivK1olXiv270JQlJl/u/6cImTxRY5L+hP5xHkrbxvymVcRBzDdK/zaw/5WG6AcC7y5bsgCbuv/A2ZAgPG/i/4SBZpxEV5b/2dl11Epbzv5O9eDHSJv+/xKTYct1J2r8k9DOXKgLwv2sgWheeHvm/Q5CnGfLg7r8n+7chkKLyvyvXVILGPLO/dk6ag7WT4r80ZCLNO/Dgv7GkcJKgXPC/FQAcPrM5/b9hTSCk6Ifiv/KFo/062fG/ZwwzzY8H9r++SlzqUP72v8X8lKm/TwTAqdkG6eBcAsAGF5+/5m8BwN852yxs1ALARzL0In+W8r9+u+cWgnADwEN8bBFtNPy/+uRU+1HdAMAv6xn7Rhj9vwDEVsC80/S/gsI3dRf+AMBUlE6uJZAEwPHlEwSiiQfAomFz4/to679wxW5q6jb1vx1Vw7Eg+PG//6ey/MBS7b+m2eZ/ijn3v8DUVOU4sPu/b+z9IsICAcDuq4GXDCz9v3OajJ4EpQDALbJV7gwN/b/1X7zxyvX5v1/zAZiVpvK/x2ZIBuCwAcDgp+KNYVfov/jK6aF2Rfm/6KHIAqJK7r/7NO8D4bL+v6Un6Uz39OK/sqA58vPd8r+E8SMNus3qvy3nfXYlh+q/aqgkZsIE9783cXXIakXwvxYrt3iX2Om/jEXaGrOS/r98kgXLfV7xvwIIifre4Pq/0NQ9z8pr/r8vYh7rQhEAwMEeBeGMNe6/F9fh78aQ+L8p9pGKhEUBwLPlwXhPie+/5DMqzXsJAsDG6JtlQjwCwJGCrS8LIvS/ZoL7fgJD9L9KBBfZMWgAwA41yZh8DPy/mDQZh4W/9L/Ed40ZSK73vyMXorZlfNy/EaXcCpjf9L/okWn815Lmv3XvLyJDGvu/XNgPyHfe8b+1RNwlpznnvxkXnsjSr+a/1K16MJyK9r/pJiPZsBwCwH0MH/2Z6O+/hiPhiZ34/b8RfkaFobq2v9w01bUgbfC/GFku3fut+L+i7BWgOSH6vy+aRdcfnuy/OgMXBYC0xr9+hftnMQX0v0vFht8yieK/B1URExmO8r851hrupvvVv3kpecPfYOS/H5EhqDRD7L/NdQqXJPHxv8f50E9mH9E/cJWBlRWS+b82Z2QENdHyv+URjeo2euO/ZcDmitCw8b/9E35nQwrxv8AXrv7/yO+/0KsInpUy7r+poVWhI/X1vwURnC0GIPS/u0mPch9f8L/sEjJOcDbxvx4oCunTMvC/ja/ZnyTE278wWYV1fKi5P64S2kOpyKe/1hyqi1y7zL/2/A4d0gr2v1bySMOqhO+/esBa/Uq39L9+AKfqwE3wv11mLj1QJfS/4BjBd4s217+Gtics4Dbjv0FHRxmHqu6/uvLiCntc878/Y4p47P3xv2uzWIarDu6/zkZgQ0rq679OInWqMcP5v1Xa7i1/lfq/Xa1BBnYg9L/ZSIveudPtv4snFx53YfK/MTO8z486AcB/NwqqLM/0v2MdjFhhxfO/KNPJRHrM/L/5C3fFDjb9v6Sb+C9jWvC/Je9yE275/L9em8ZJTjr/v5iBKzAIJO+/cQwM2D7f+L+GcW1tA3f+vxo2x6ATuwHAVT/fPvxs/L8R8Zno1Bn8v1/Q4W6nC/e/5FHJoQNT+7/rPhd+BY78v2n9ryB3KPq/76qwx+BW87/2jbdtbij3v4pN6ptG1QDA01zQobNv578v7gPcwVX/v2aue4kAyvK/2PYkHdgI6b9UILuGBTrtv5RUmAnx5f2/C5Ls1Cnt/r+i4OMdicvwvyL6hOKUBgHAv547za7+9b8=",
          "dtype": "f8"
         },
         "xaxis": "x",
         "y": {
          "bdata": "YrKYd6qpB8BZ+dr5ERkKwM1S4FJrwQ/AhVPkOeY0B8Cfe9ttvicQwJYLesvqCxHAASgP9FRKEsDHT5bmzhcTwAUUU9GzIBDAUeMjcJgACcDrqZE+qN33vzoh+l4ZOf6/Yo8P/BfbAsAXGQnd80wTwP0R65MCgQ7AUQDHjr/IEMBadO2lcD0SwEwvCcAlMBHAFfD9Dh6yC8CQnt9Dc+8QwGnCp3LA6hHAAhMrQPhNE8AHaARCml0MwInmS9JT8Q7Agr+3gFfAE8BlhyxyEHEQwH6Qqzc22w/AnSmS4RxrEsDQXRdBzkUNwCUmyByM6w/AThtgzLoEEsBrCdyjq8oPwCKI8+as+BPAGJ9Wqn3KCsBEfYEvSwwSwPg+AiFykQ7AV/zv//DWEcCe1nmJI8sQwL7oQqTAwQjAZ0Q5UoU7AMBuODVAjiYJwDnXYcybLva/HIy5V5IcBsA49/CxCiYQwBN9jcAv2AbAKV/vf1RTDcCAQwnOKaQNwILhZDQ/dQ/Ae2pE18sJDMDrQotkQDUMwDLkj7tIzbk/uRl72haPDMBt+O5gpTUIwE8UbK9ZyxHAHney7Z9sB8Ax3OFZ5aQBwJTAmpRljQbAjUNueP03DMDGBWwD5tIEwGztM25PHQLAU6FX2f5GAcC7zekinz4PwMSRdCASXxDAZYTpimYbCMAX9EOs55kSwLmmCfoichHAX8dwbwyZEMAhyJKzdCwWwNfbNJkjDxLAHICqwAXuEcDY/I1zrkkRwNlkESkbQxHAIvPR5C7LEMCKRWqtlfcUwMame0XiahPAVOfbQdRREsD4vn/ZeAERwBbm0eaBBw/AL+mows1xCcBQUPocEaIFwFZtkgQdvBHA3edP3EjXC8B4y/wRqfgMwJGprZV94RDA5cwDCRl9CsAvIu4mOdARwBw+WqrtOhDAHitc68ekEMDxlkHdybEDwKDHPJJHWhDAaKQvNZpaEMBNIJhR7OIQwG5rIeLxkg7AgAkJqi0aEsCEALHxU0cQwDq7CKWhihDATbfNMeaKEcDqlHKPQFgPwAAH4+qEFxHArUZLPZi2EMAPsP8aVJUMwMXhTPwYsBHA9Ab3EePHDsAcN6h6B3gSwLmi/l+qxhLAEyGfTzo1EMAwnFGsGEENwIVFDv1pCwvAKTVV5JAoE8BPAyg0VDIQwDOWqUouKBjA4LZntwebFcCj241VpS8WwO94jYckiBDAmp3Be1BVCsBB5ubJsh0SwOx4+77RXg/AqnbamHlcD8BgndQ0IrkRwELGSYBFsBfAxDgCzixfFMDMtPcNyeYQwEw5gJBtbhLAb1FhUezYEcDiZwMnR2oKwJSxdT6ciw/AOcHiXubMEcDyEm1K07AOwDhH/KGqNBfAWvS4V5fmEcARH66ljKoRwJPS+TuasRnAeBNJjvB6F8AuZlMPTXANwA9Id0O6OwnAf+ZjwgCIC8AqxsMjUPENwNbllql8OwPAsYRYE4SzGsDv9qdVRWoIwGoHcuJWRwjAg8HTQbHEEcBxVToNw8UQwCb09+9oTRHArkWRIt/eEcA+NBnfwhcKwIvv2o3eQRPA/GY4F3C6EMDR93KPhXwRwJX3klNLchTAr2Xhn23FEMD0CowxVgwSwMld+WHurhHAlWfpZtWkEcDHR5He1FIRwPj3YEgXbP2/INF7fUhKA8BSbbfMd9D2vwzgm3c1uQ/A012D2pElB8CZ/jI98ZwMwJ5h118AzAHAoCYB/HNQCsBU7xiJdeEKwItsTrWrPgLAchOB3KLWD8AZRsr6ld72v39FKAMnDPi/pHRXv8daEcC6aKnyKoUOwKbFKR5WNxHAjkaXNNp+EsD++gfrLhAOwJv/IQB5VQrAYivYHphVEMAmXQUW3sASwFv0QH8VjxDA/U19nczIDcDC9qSQLaIRwCCtgUM0lAbAe/WetsurEcA=",
          "dtype": "f8"
         },
         "yaxis": "y"
        },
        {
         "hovertemplate": "label=7<br>PC1=%{x}<br>PC2=%{y}<extra></extra>",
         "legendgroup": "7",
         "marker": {
          "color": "#B6E880",
          "symbol": "circle"
         },
         "mode": "markers",
         "name": "7",
         "showlegend": true,
         "type": "scattergl",
         "x": {
          "bdata": "e3zIwNmn47+UWAO4NqX2v5BI9n8QvQ7Aw+KF0VFZA8DDMFlFh0Thv1cfAdqI/AnAjiloxIS+9r/KwY0+v3Dxv1gOJ3lbJwrA7+Y2lphWsL+I/BeeSEz8v7lbE1bptOS/YFZO0RYd4r/ukpKEPMTgvzniu1xJeNu/XRn0REvm4r+U0V4PO0X5v4X46CmZGO2/Ffi9DY66oD9+0uFO/pytPyuuN+uD2NO/fdqEVcYG0T93RFWpkHHsv27FCiBOaMw/G6yUN4cR1L/gMbQWVeb7v91sNU7d5OC/8u6EKnbyDMDNx1CJUKHjP0OI6hPQ7P6/LCud7/P69r9SpDChGvoMwBSj3qK30tu/VuJRr7ET4L8FfJzduMLtP1hfs089Bcy/+OD7Z6R+3b8QHcoiE4IDwOVdgZn3vQbAP8ocA8vqDMCzL5V2WIEQwETkTa3xYBLAfjpiclIv7L+aafEZZ/cFwIy3dukHPRbAFc17bpcoFcB5cOmNuffbv0iC4nPM7/a/JOpbhvAHEsBlg6cZQfYJwAx+KOq3+fS/Di76asj98D+BIPPSClriP3UdltXuIv6/0xbSLvDH978BZDWahlLkvx8CYm39NtM/zcdzh4ch/b+5DU90oLPfP0EnOQngDuG/sY0cOSjC3b9y4GkY4uW/P4Bwyz3mnfU/AWjBGfEa27/y07HrBSXnv+GMxh6SHAXAhOGl9mYiHMDAQE2Ud3MbwIyIUcdHwRHAbqn1mQJgBMAlOZzeYLUDwCNdwiujqgbA+OxaQzZ9HcC5/AvXuF8NwA4yJq/PWQ3ABxlRvLJ1FMBYiJjR2XDVvzbve8TRrtC/O9CdHgz45j/ppQzG2GzuP4fjewHgRgFAbq4YX3/24r9hXzwedintP4tG4uGDquo/3+peotHW3z+hQTb+llL4v2/6RgbJR+U/dkQ71FWS2z9a/3QDS/3NP123BUxJnO0/x51pb1Be/r+Dx96jpYjlP0JJjn/74/O/nG738Ump5r998snxvnUAwMFfbNm/59G//k0ttlfv7L/LRimAxRTVv1mOt6Oii/m/t2WELssRAsCfjgTdzOHBv5ylI6PDueO/xChgQ7bd0D+R3Ocuff7av4iKgHhpDc6/tkKP7SMD4T/A9FqFhS7HP1xQd6fd0d0/S3sDAElA8T8byhFNALDUP1UxHnVhedu/c9/bGGRe3L/9LrgldyTQP3yoClluZeM/VzAA4+Ul5T98qSKwpI3ePzP3ERvubem/+z0FYqwwAMBtP68h73HmP7UsnlRjLus/OtW1YC11vT8aeW27a7zKv3QdimKEF/U/61gqmkc66z+Ztbt4i2LvP4OxYwLXePM/agkJumt7+L9IUEU9jETYv40GestQAAVAaCKi3nvXzT+waM2wGDXxP4F2Wn2hl8U/sjwMFaC99z+kszjCvwL0P1MUKIh3ytc/NBRcfQe79z+86v1/zCn9P2C1/VgQy9a/ZH0ndiiZ9j/aEPM94nnxv7kXLaXaFZI/r8H1ZbfCAsB+MmZPHRgHwM8jB0gQJv6/CpNa+nyL5r+12cYAP2v7v0KKiYDiaxDA4U53R9U79L8mG7VtWlbwv2/JXjgyJeS/M9XMRQXo8r/xPswsk+z6v4iN1Y5ULQDAVTNtPjwFAMBQ070AjAQNQPZNOYJFEPk/Xi9rCBAuwr9qZOspyFkBQHH0lfV+/9Q/HLs4NJFvCkBL/BgrpiHMv8GWDWqCnABAxGgB846SDkCWVV67SuH8v4taJome68u/q0jp8+reC0ChCXGjzDHQv+0riVscMgjAZLhVR9/y6b/zeP3Wje8CwOnSDzC0rQTAPeC1t8fw7r+4qnM1GTP1v819oVxL6Pq/7iFd5J00AMDpi2ii+rjov4RxxGoCt9s/kJfwxOGN+b+PtcFsbdatvw==",
          "dtype": "f8"
         },
         "xaxis": "x",
         "y": {
          "bdata": "/a78w0bZFUBkl10pjEX/PyXQXfFt0wtAxKjtZU6UBUBswZCrXgYSQPrn+0AFkRFA7EddYy0PAUC4i6MEUZ8NQLuVOeRGuQZAka+LOSXoBUCSTTVfyzcDQKPGvlnLRAdAXFW6UZeGDkA2oHxIhbkEQP6ubAQDswBA7nRJKLkR+D82HYyOkQ8YQPOfQVjRIxJAZUkE8uHhBkB2mTF8wg30P+9R8XdsawpAk9dhzWxa8T9rYk50f9AUQLCEdGVu/ARAi/JYUmRJ9T99X+GlxMwgQPZfTXQMhAVA8C7DJfRfHkAQ0++zdlsGQFjr+yDzeBJAAeyCuJkvFUAwmCmTHo4hQCrGDTfmZgRAMBTm3mxpA0CJyD2h47v/PxHYq9S3UO4/gvvQ1/DoBUBHbzLTP28OQKU8hXyjnxVAqfwCwbPxGEBZY2ApcD0bQOkPk/u6uRZAyBoMkaCyGUCdGyuRLdQVQFU+smzNux9AIUAWxrn8GECO/iNyJqcUQNr1PSh23ghASm9fXsxKIEDzmFIPULkVQBDS+TRGKBNAmGNpNqnrBkBz6EqzRZkSQPaiZ3mr9BZA6ebBPueUCUCe6lzOWwwSQJo571cBZQpA2w7sN66UGEAnNn17eWcMQGI3w6sP8RBA6/7n6onfBkDQcvf2qDQNQFsJgCC5ZwFArdR+9XhRFEBrK5khMmMQQD/f1j2jJhtA2GFTHNm4I0BlXsMLndEaQH/M651TlhRAJTEAgSR3EkBGb1MLHAwUQDIa/ecHNRFAn9A2N0LTIUCaE0Pz2n8RQBX4iIqYEBNAE/t4PneTEEAHkrb3u0IOQJenckh92gxAuXreAsnUCECFcM/EmfwKQKwZXkfXPwNA1UdlNalSD0CUGrpCTMPrP9TBg2fqPAtAnSM7dWASBUCrEKv2vMYVQIOImkteXwFAgWBFn2v5AkB44v5/2+MGQLxvY9Nk+AhABBeanNcgC0DUGtu3AssDQOcg12GiaxFA2HQbtwgeCEDnpU20qAYUQEU4fN/QFwdAOrRzddBiEkAUH3oqROwOQM1QizKDxw5ABLGmM6WlGEAEmS1tDv4OQDEvgj5RIQhAZ9XtV2xiDUBTrUSqMO0PQOWTiOJ4CAdA5pd4lqgkD0DgP26BUeYDQJ+LwRNfRg5A2BytwuA8EUDiw8EbSNcJQPFQ1AWu/gpAq5ah0cZ8BEC4gS1LO8wZQBGy44mmZgJAiyBQTcXSFEBmZDh+dIEPQBnwB+MwQRJAHgmxb9hNGEDWTtNvL/cJQHWWQ44GLxFANcaNbckhDEDDIQHm494MQG2cawIyjApAZXBjF3RtA0C4RVpwVCAGQPBSkq7jywxA7sIPUZKYFkBeRm5TzIwaQFVl7IOWXAdA5/9qqe1jEEDbPGcKpIkRQNvFG1kPTw5AxUkGlVbZC0C+IPWiIwIOQL/U64DG2gpAI4hmfVY6EECZ0ZBxAz/9P4sx6P4v2whAzIcQLxS9AUC60qaONfkQQALSAXKT5Q1AK8p8s3XiD0B93L+6DDMVQOjw0hxHQBNAcg3nKPd4D0DTrbiUXnn+P/7ypWo3OxlAGBcvdkyhEkCcpvr+Z/YKQCDY99BLsQlAogKrFSSwDUAhQghf5gUOQAlYVNg0mRJASipI1ng1EEBLlY2D494CQJcemvks/gZA6006eamNBkDPi/tVhfv/P1SXgDBjSeM/bF+vDoiBA0BfZM5vde4CQLhUClEi4eQ/4iuXCOgiCUCuCLoWPKoDQMPHAyxVGP8/8BDYf+UqAkDmC/E9XHESQHiKXh9ymAtAeoJq1FzyEUC6+KWJZ1USQOFrADeR0RRA10J+5kzvAUCg/a99Kd33P2hP6h5BCtk/rU/Zo0W/8D9BsAH3Vf4NQLeU+ntnuglApj3bPKm0EkDBWwg9c6b/Pw==",
          "dtype": "f8"
         },
         "yaxis": "y"
        },
        {
         "hovertemplate": "label=8<br>PC1=%{x}<br>PC2=%{y}<extra></extra>",
         "legendgroup": "8",
         "marker": {
          "color": "#FF97FF",
          "symbol": "circle"
         },
         "mode": "markers",
         "name": "8",
         "showlegend": true,
         "type": "scattergl",
         "x": {
          "bdata": "WyxuakGT8T/TEXAzEabtP6Xu3X4WUcU/SeNhnEAX0D8mvfwXtJv5P2Jjdyh7yde/SgqLWkQFAUCZVyzZ9ZXsP4Hqc0HgFJY/TpZCz2vB3D/531NF7o37P2P4bMTy29Y/6Nm/4o1G6D9/6uEg3lDlP2h4JvvUKNM/HZKgBS/Z6b/qi8j9NcPSv1xp9A/do9M/Qwj9WBh09T+/Ah76Rw35PwqxraYnOOC/yWTNM6syxL/a2kevH+a9PzsoHm3BjOQ/JRSDBRN+qb+mjkvJSyNxv0BLtEl+vO4/f8YHH38RwT/uMQIDzdrmv4tBnZ+N5tE/MqqqlA+9xz/InX6wm4zwPyvUXvFPfvU/B4+6KiMkvD9cvSjipDT5P85so6A6w/0/gBt0mOhayz+bABvMbUqkP/TI8TcuwPS/UUPxylTm4z/cAX5dG4T0v0NIWg6OFug/2cHq76RA7j+AYAADUU/Wv9f+hvMu+My/hujw4oH6fz+c3TV42YfpP5ubWFxZsdo/+h2goUDZnr9vfKdgMKquv4a/ljputuw/7GFSHOU8/L++cB46UiXLv8fzNLqyrPE/ms0ZtVgaAMCSaUPN7enIP1QzhXvTPuS/Xp9UOsgf3L8exJ/CBCfDv1g7NLd94/y/t+TRz+LLAMB8jr9fMKLbvwEwCAqvd9u/Ha3S7bfM+L9r5mCM3fj1P0I491TzseY/HhR/0tEp5z/gvkoZEFb8PwBAj6Nkaes/TAUhKYus5z8jQoXjmenwP+rnleXClvI/DfowodQV+L/HQwtW50jeP/m81rw3J8U/OH+C+24j6z9HOcbX157OvxQeZgRZ0vQ/V8vY3mpY/r8Q9j0Gx/3zvwhdDbGPcOs/2t1thecKkL9+Y4xhkc76v6EPJzjkgfA/po3YoFQ76j87PtEK9F/ov7outUJxqOy/bOuXY/wv1z9fxVuE6T/Tvy5TwCMZwcG/9Ux6QFZd/j9/98wTocsEQFe+Wm2kXgVAy1u2W5q/BUC/7Nu+AEzwP4TWAANznQVArAibk6Hf8D89t0Hvh3/WP4R1mN6VwwZABSoyIgIH8j+IcHSgTb4DQPfmN3QRt9O/ZLoGSIOaA0BGwgftWA4FQMQhVcyDOgRARzhrEVAG4j/O91aQ/FYFQK857jwJigNA7RbuLNZe+z8dnLhX1/X3P27wuqww+vw/nunzPasl8j/7AOVSL0v9P+TXoPdEwANARCDlc3+gD0C2vilJIeD/P/Q5ZXOkngNAQ2WNExSEBECEdk3zS8XwP5kKpIiIafg/PAi6GRBBCkBL8UsJKIUCQLg09qcGYxBA2HO6WPE4+z9RzVwV+AX/P7DG/CZWm/0/PNkjKi6SAUAfu6FEE8HuPzjsxPdLDQhATixBuip9t78Jfp9/4lThPyWkWmQbHtQ/6yvbW4Zg+T/9N79WiNDiP2JKhg1G5fw/GGci32ME+j/UmXj4QIfjPwkLq68wjPM/cc1RA9j68z/+n3qKTnXzPwJYcEW2Vt0/YvMbVejy9D/ldGxAtoLZv41dMEOFM86/blw0hI9VBcBlGWq1lyXcv7/Szj4LWeO/YUFyxuKR9799bKUZoy/4v10TzLoVu6m/lwBu84O0AMDZZSVTOyLhv2MXJ5xewfi/EXMAvXlezj9CfvqllqgIwNVwZOGf2PK/PZWF81Po4D9zjC4wQNzwvyAyuCTgn/+/nhrTJjZH879yu1qzndH+vwriu7UvpQFAWEbAhieYBkBiDp3EsK/7Pwvw3I0pOeg/fOqAGo86BUBP508CiLP7P+Uw9g3RC+A/y1RDP+j76T8rwqmVVqj2Pz4EIh/NhvM/vBb+xsuG3T9YhhedjVzwvzQXUnuMH/Q/",
          "dtype": "f8"
         },
         "xaxis": "x",
         "y": {
          "bdata": "/S+znWxO5b+1rQ0ILgYCQJ/UAfU95O0/hGAHz31UAUCTERiTwUvwP+MKxbi34/c/AygF0qfe5T9nlksrhA3yPwtoX0ThtuY/6VPoIALP+D8ZIgxX5We2P4wM22ShrPU/WuxY9KvW6T8CeX2rCI6nPxitsujvHOy/UWZWtrdp4j+cGW9QQerRP12NDu1Yhmm/QzCKWZNN6r/hDJOyl6PXP1FLu2MJAPW/aTy9zmO+5T+nQQPRxoHDP4dI6xuO0NG/GmeGQW2G4r8+gUVfK0HRP/9yRROCCrO/3G1SlTwr9j9UZ/6fQu/7P2+Nf7d8DuU/QdxN13Zr8z/c1saJqOzRP9r6dNji9+m/9b0jjldx7j+zuM0Dyi3QP+LT8aJj3Pq/VumFZibK9D/0fCMnZ0kCQBSspL8t+/k/+6GjW2Mv+T+Bh3NJv//Rv89/khC53cI/ZVwu5Sgc0D/6wQNj2hnlPwboY+3kmvw/LfO39tG41L/Y2AsAGjX4v0KJPMfZsfI/7NC8JiVlAkB9642rMtBrv69zCXLbyPc/ln4tZlE18z+bZ2Dh4r7yv/eHd8gQfei/7j2r4c2F0z8vZKM7o8Lsv7HtcjGw/ei/SAOwwEbu8L/wZZ3gsR/sv4Wo2Tb0buU/117Nyv7S7T8nuyjkUDfLv2Sq6B+h0d+/SFCYHEL+5j9SjZhfVK7Uv1TEEbFJfsK/jyRiabzx3b8Q42WDIG3Wv8ZQ3jXbv+I/fw6IMBuf7j/teLvln4rlvydQ7T+zauA/zlRfqOJY8j8V+jX3z+qHP3fMGWrBHOO/vKEVF4628r9STTc9OI7cP/0K2of4zATAPrKJ7XM3vj/+aUGw3gLaP6AO1WPR7ea/XGTtJZue4T/+UmDDO5zpP7AdMxYkpuk/Eo/0gyJf879i2dgjRn33P+eX/qoAcfo/nGrqqDyi+L8wKoRY3uXHP3GD7m4bbPu/Ajb4eKbTrj8WLz9rkanuvwY5I9dXnPK/0OER705n5b+Ox8OU8lLLP6SFUFyFFPC/gumRF1jY4j+cIs7S203Dv0GqxX+rGAHAk1fD3joVwz8W/hiFRiHTv9LW3gfOR/s/yuyGTH7iAkA0GvbIzhncvy6uqi7G1Ni/3y2HOzRh7j/3ojt5CnQDQJbr/vu0fOE/6O9PeG2/5j9k7ud1dP77P7RpsHylnM2/1FTKd9FpBkCCEVJdHY3wPyL0zG37kNU/WOiKbmmf0b/qINutT97rP33C6e4rbwNA+KODAH/4/D9BBUXeNBsCQEWiEEKZJf8/KlG06Dc1CUDg/Bi5mZMAQCXSZAY1rem/+uflnuXz+D/8i7I7cyD7Pyzp41oRpgRA3ZSeJkyq7D8yfAfu7DnjP+YX9IzD6eE/R7DkTtM2AUCvTBGxiz//Py1tMemGC+4/DIttl+Lx8j8AGmCYarDXv8vtOMItivs/uRFsU6ig9j+w9G09qOH0P/g870mbZ+A/7L6Tq7cm/j8wrhvYm07aPwrAUqVaAO0/s4d0+ceQ4L+Baf27zg7sP7kkNRDZRPE/hh9o+zav7T+2BSQi6+v3P3y1YBCkQQJAojTPRHUt/j9w2egqj1X7P/HkjmtbWQJAMnHIU/GzC0DXrYcJ8C/zP6e6oqxsC8i/ONIVIOBT5D/mtqVSa/LxPzlV5AeSdc2/dt+uFLQc6T8PyRb+h6fwPxCsRoL0gdk/9npfo9JE7z+g+7A+KQABQEEATaOIhus/OK0RUwrt4T+1PsrKHRHYv0E0PHe3zfS/CjHzJ6Fy7j+wPPptlQ4CQEhu/RYnuuK/t+mS7R859z91ZxBf9oDwv08eI7Rq9fQ/4tPoL3bR+D/y0eJNvu7Cv6SCTSob0gHA",
          "dtype": "f8"
         },
         "yaxis": "y"
        },
        {
         "hovertemplate": "label=9<br>PC1=%{x}<br>PC2=%{y}<extra></extra>",
         "legendgroup": "9",
         "marker": {
          "color": "#FECB52",
          "symbol": "circle"
         },
         "mode": "markers",
         "name": "9",
         "showlegend": true,
         "type": "scattergl",
         "x": {
          "bdata": "zivnkww34T+Dw+uZu/cCQJmynLWKHQBAq6yM/wu59j99K7ekt2AJQFXtKyZRtwhAlD+GJWbaAEApCXBeH7sIQEurxHU0L/s/WVh7V8wA9D+OhNV7nq7XP5KrF+u50wFAXdQss9+rwD/3KB5zyHD0P6pU/QRYHfM/82S/nBQf7z+6XfWSPwvUPwjMwIihW9E/in0uV9ib+j/LQRzsiB7pP64mhq8IwfY/NI6wNKFA+z+deujQGGjmP2y4fi0Urcc/In/AWb3f37+71YEwLarSP+oQebqwnX4/fcGcsaINAEAoBW0YTN3lP8NwxPKRy+o/3fwU48058T9iMLvZTcHyv+AiInJ/mNs/Iy4CndE35L+0cL34jMnbPy9chGwjIwrABwOFxNrfEMBVd8ix06n5vxx+vYPpFvk/QFf0wnz58T81mu6kBuPkP0/7/Jibb9o/To/olAvKAkDSVW1tflMDQGwvVzYlzgNALKKhJ15q9T+hNvY1HHTwP9zsHrIuku4/mzD67m5d5D98F6TDGdTvv5BOCdwADPE/ssT61ohO0b91XR2iRv/nv1E1tPIMKgFArriji5Aovz+k8ORpljfxP0kvw9q8x9Y/y6LYlose6b/kjPUSPEACQAqJ8ToRgN4/C7CfXUnq1D+8RpyoUnH/PwqJLQ7dP+w/kbSGtG6Z3z/8UQ6hVXsVwCb/3HKPKRHA7TuMphznDMCQzC8GtfkRwHLjkVftVQnAzb93EsxYEMBy55u+kT4PwG4/inp/DAfAvqLEwWgeDMD+To4s+M8TwC2+jGxMoxXAcDWbn3k+FcBITZc9kEUQwGde7wehDvs/Dc8Ylxl98b9Rzs1AhSKVP1Y3QAYOruU/TcFE8lUT+T/R3b5D2JXQPwVMyp4C7MA/XhtopWLb1D9NM93WL0y6v3r5jb21dtw/JTAzJBYQ8L+bq4lrZkj0vzVHt+kgvvE/wg73HUbzBEBwBft22wwFQCf9EYQM+QpAAMup+whPBUClhWrPFDv3P46lfS8xwgNANFAXPtxf/z94L9b8TqQGQN4anCznj/E/IQc2QX0hEEDhU3rNRJL2PztBlJchBv4/s2wo3/GFDEDGw5XwZPn/P28JP+pxIfM/5UGQ9YwL+j/CcFmhuyvoP8x1NGCVtwJAVSWhyYsd0D/IYnUgy9LpP2KLZmrJLQFA+ersde80+z9N3TsEijX9P08Oz4p8kf4/cRaHOqnuzT+D8ozhg4n/P0kNN2BWnvM/OJpH2ShN9z+8qcTagprGP0NqSTxn3f4/GoBmdbFZ6D+zOWdP0a8EQMzA2DEJjPA/VBZFiDWt0T8lnDFj674BQMvbkOgY8wFAGrmFxM2n/T8EN0i8r2H8P/jgogrFXuQ/KZLj3EhuBkClI/PkPQECQOYhHzeDGQBAubZnnEvq8T/kJ20lAOPkP9sc93Hxx+Y/WwunKpQRzz9NIOCeZyv/Py6ZG6/Nvfs/OntmsGw06z9GsOGuSdb4PwjCTj5hyeC/C4225QVL/j+CrPJPKjX5P2xI5ee4DwRAsngw3WPcC0B6Xg7J/rvzP+i391i3XwtA4VydN5vDBUAS8b3EAF8RQPQ70i1K2es/ehLOJSFhD0BHJUT4kV4CQCktdmk2nMI/XN/9f4hv7T8L/Wn4sYgJwJdPk/xisATASU2N7g0QFsC7FNS1cAoNwMMSha64Ife/YW4GKOoF/z/UO9fbN5wFwOP4+nDGQe8/iiuIdu1p8r+MW2ta6NvxP3juADFe4vc/g1HYJo/xAUCltDJ8hHLmv2ukPsMmqwVAffDMFnCT+z9Qx8debWz2P9BGbtF+ROg/tfwT5+qV/z+M/OGCCXP7P7QK9XgxPANA5nH1jnJmAECfihQug4j2P3SnOUpEBv0/2YM0GTzE5j+u3w68aLW6v5mNF62FN/G/",
          "dtype": "f8"
         },
         "xaxis": "x",
         "y": {
          "bdata": "mhr6VDjh6L/7bO6vj3QHwJkmI1LHAwPAea974OYEAcBcKfXXfVoGwK1TH4wMKdy/+u35bwyoBUDJHUM45Yj2v6R/csW/ZKs/v+fCxk9V+r/XhlYvPgMBwDUF1VLz3vA/PLf4yWEh0b+0k13XBxr3v2SWw90Gldu/HSblSTBi5b/ZQsKhBfPmv72zhA+TA+e/fLF9cgwb+78dGeINq+vyv6ClI54J3+Y/mcUBhdeq5z95rXl0sF3ovwVQq7VD8+K/yxLSHG7cyL8nXbb38gcHQLIfUpKs7RFAXwsrjc2L0j9UCCOf8z7vv3erPMGFM/k/ZOO4giOr378sa15oDOcQQCAhleegIAxAXHC+SDO/C0AatH0kuOMOQJhNmEAwMxBARLcbk0T/BkBkH3IxEtQJQC0Z8sAP0ro/5A0dAiDq+L9X08hv8SDyv0+r62Gcqe2/lwyYALWj978X1oJHIsviv8a+02C5Us6/8E8a4cBe37/l5eIt35XuvxBiQD8w4f6/NDlxYZpz87/Vl2pdYvQBQPvYSGt4euC/2LGc5wW1pj/MGzwyYRbGPwOjVdOlmfS/O3K9HW+S/j9wlm98Im7wP3EUOwHXmNm/Hc1CYOeO8z80tXk/AuLJP+ErKBCBnOe/q4iEokVY77/DN5YEa7bZv1ZykO24c/E/EkmwZACN8b+74kmYm/sTQMQbeAPc8AlAR5BqHOzBBkBBOPQ8O2QFQGcFHqgJsg5A1irlWlDaBUBkftKb9ikNQKrQ8V7+RwBAoKFitFZ/B0CxoegH6PIRQBKvl9L8qBNAc7nTz0ikEUC3ZJY5WukTQM+Wv9eO5Pe/k7NpTV+qu78VCX6luaYBwJAp1df6ttW/eCEVZSyfAcAmdDEuPiTrP6JcTHhg6fC/aehSGtkG1r+GEnJJB13pP2/g5UVVmui/UajGvhJ84D8Udp8zQm7EP03uy9lBt7a/iL5MTsdjAMBlIdXkIbP4v47neNAw3em/6CVYus9Z2z/dFMF9quniv/MD0MKy0Pe/XBqk1tnT+L/ukRdi5SX3v75bCD1x7/m/rCdTAdXq+7+RoUaVwqLzv39Tv+cpVPG/mutGC02Y67/MAjuN1BLiP9B7sq/yMt+/LfVFOJ4G8L8r6OjMpOX3P48HKxtao/a/UfBdkSUS8j+b5kvxAJ7zv5ncxbuikf8//asE7sCXAcB9ccr5IsrOP1otR2wAnuQ/Zc5+SZTD8r+CO/DJQR/3Pzi+vNamSu+/wDREt0/hCsAwI6cMwA7fvz/sJFv9xsK/23gt44uf2T8XrBb0xnfiv3gRAo0WIeu/uBt3EDyX9T+agiD5NG3jP2rpCAc+HvU/z7W18MWv9D8ONQgux+DOv7IBkHi5YfU/rZ02aWlrAMAffZJWtrfTv9g0YrrbTdA/cWp2LBMmlj8oV0yPSCjov3F2m/ywba2/6Zgu5NqP5r+PNpg/qVHEv3eOeFcTyPK/YGV99spF8z/JGBrxjT/3PzNM9I+9PfE/z+DNNKXb0j+kMs1+K2jeP0ZRTAOLYte/7yv/4GSo2L+hLpIjtYLTP0xQSXBRcuS/YAVIwUp/8b84DHUkUouJP4IRymwD8Mg/gRWbSrSV5L+7jouo1TrJvw43aR7igANAXhUg3M2Y+D+6j8jAt1ECQGOWLRVZrBRAswAFRVeBIUBhDkHKygUUQC2ZTOb60QxAMY9mxzaECkCV8d4lV4wMQNk7DUurcvW//riDIwpiDEDfS/ypdsXxv10NhR8+5tI/2Sf6L6whAEASZIXja9QOQANyCYoKiuW/EN9N+GZLzD8bzomDh/jqv8otY/9Xz7o/CdvQ0cbL7z8GJn0B78rpP1vXjMaXNPG/N0SkN3qW3b90K0u1thvSP+AHARoBK/M/6AOZ2dE20D/E0+6nUFLQP9zq6Z/EYNi/",
          "dtype": "f8"
         },
         "yaxis": "y"
        }
       ],
       "layout": {
        "legend": {
         "title": {
          "text": "label"
         },
         "tracegroupgap": 0
        },
        "template": {
         "data": {
          "bar": [
           {
            "error_x": {
             "color": "#2a3f5f"
            },
            "error_y": {
             "color": "#2a3f5f"
            },
            "marker": {
             "line": {
              "color": "#E5ECF6",
              "width": 0.5
             },
             "pattern": {
              "fillmode": "overlay",
              "size": 10,
              "solidity": 0.2
             }
            },
            "type": "bar"
           }
          ],
          "barpolar": [
           {
            "marker": {
             "line": {
              "color": "#E5ECF6",
              "width": 0.5
             },
             "pattern": {
              "fillmode": "overlay",
              "size": 10,
              "solidity": 0.2
             }
            },
            "type": "barpolar"
           }
          ],
          "carpet": [
           {
            "aaxis": {
             "endlinecolor": "#2a3f5f",
             "gridcolor": "white",
             "linecolor": "white",
             "minorgridcolor": "white",
             "startlinecolor": "#2a3f5f"
            },
            "baxis": {
             "endlinecolor": "#2a3f5f",
             "gridcolor": "white",
             "linecolor": "white",
             "minorgridcolor": "white",
             "startlinecolor": "#2a3f5f"
            },
            "type": "carpet"
           }
          ],
          "choropleth": [
           {
            "colorbar": {
             "outlinewidth": 0,
             "ticks": ""
            },
            "type": "choropleth"
           }
          ],
          "contour": [
           {
            "colorbar": {
             "outlinewidth": 0,
             "ticks": ""
            },
            "colorscale": [
             [
              0,
              "#0d0887"
             ],
             [
              0.1111111111111111,
              "#46039f"
             ],
             [
              0.2222222222222222,
              "#7201a8"
             ],
             [
              0.3333333333333333,
              "#9c179e"
             ],
             [
              0.4444444444444444,
              "#bd3786"
             ],
             [
              0.5555555555555556,
              "#d8576b"
             ],
             [
              0.6666666666666666,
              "#ed7953"
             ],
             [
              0.7777777777777778,
              "#fb9f3a"
             ],
             [
              0.8888888888888888,
              "#fdca26"
             ],
             [
              1,
              "#f0f921"
             ]
            ],
            "type": "contour"
           }
          ],
          "contourcarpet": [
           {
            "colorbar": {
             "outlinewidth": 0,
             "ticks": ""
            },
            "type": "contourcarpet"
           }
          ],
          "heatmap": [
           {
            "colorbar": {
             "outlinewidth": 0,
             "ticks": ""
            },
            "colorscale": [
             [
              0,
              "#0d0887"
             ],
             [
              0.1111111111111111,
              "#46039f"
             ],
             [
              0.2222222222222222,
              "#7201a8"
             ],
             [
              0.3333333333333333,
              "#9c179e"
             ],
             [
              0.4444444444444444,
              "#bd3786"
             ],
             [
              0.5555555555555556,
              "#d8576b"
             ],
             [
              0.6666666666666666,
              "#ed7953"
             ],
             [
              0.7777777777777778,
              "#fb9f3a"
             ],
             [
              0.8888888888888888,
              "#fdca26"
             ],
             [
              1,
              "#f0f921"
             ]
            ],
            "type": "heatmap"
           }
          ],
          "histogram": [
           {
            "marker": {
             "pattern": {
              "fillmode": "overlay",
              "size": 10,
              "solidity": 0.2
             }
            },
            "type": "histogram"
           }
          ],
          "histogram2d": [
           {
            "colorbar": {
             "outlinewidth": 0,
             "ticks": ""
            },
            "colorscale": [
             [
              0,
              "#0d0887"
             ],
             [
              0.1111111111111111,
              "#46039f"
             ],
             [
              0.2222222222222222,
              "#7201a8"
             ],
             [
              0.3333333333333333,
              "#9c179e"
             ],
             [
              0.4444444444444444,
              "#bd3786"
             ],
             [
              0.5555555555555556,
              "#d8576b"
             ],
             [
              0.6666666666666666,
              "#ed7953"
             ],
             [
              0.7777777777777778,
              "#fb9f3a"
             ],
             [
              0.8888888888888888,
              "#fdca26"
             ],
             [
              1,
              "#f0f921"
             ]
            ],
            "type": "histogram2d"
           }
          ],
          "histogram2dcontour": [
           {
            "colorbar": {
             "outlinewidth": 0,
             "ticks": ""
            },
            "colorscale": [
             [
              0,
              "#0d0887"
             ],
             [
              0.1111111111111111,
              "#46039f"
             ],
             [
              0.2222222222222222,
              "#7201a8"
             ],
             [
              0.3333333333333333,
              "#9c179e"
             ],
             [
              0.4444444444444444,
              "#bd3786"
             ],
             [
              0.5555555555555556,
              "#d8576b"
             ],
             [
              0.6666666666666666,
              "#ed7953"
             ],
             [
              0.7777777777777778,
              "#fb9f3a"
             ],
             [
              0.8888888888888888,
              "#fdca26"
             ],
             [
              1,
              "#f0f921"
             ]
            ],
            "type": "histogram2dcontour"
           }
          ],
          "mesh3d": [
           {
            "colorbar": {
             "outlinewidth": 0,
             "ticks": ""
            },
            "type": "mesh3d"
           }
          ],
          "parcoords": [
           {
            "line": {
             "colorbar": {
              "outlinewidth": 0,
              "ticks": ""
             }
            },
            "type": "parcoords"
           }
          ],
          "pie": [
           {
            "automargin": true,
            "type": "pie"
           }
          ],
          "scatter": [
           {
            "fillpattern": {
             "fillmode": "overlay",
             "size": 10,
             "solidity": 0.2
            },
            "type": "scatter"
           }
          ],
          "scatter3d": [
           {
            "line": {
             "colorbar": {
              "outlinewidth": 0,
              "ticks": ""
             }
            },
            "marker": {
             "colorbar": {
              "outlinewidth": 0,
              "ticks": ""
             }
            },
            "type": "scatter3d"
           }
          ],
          "scattercarpet": [
           {
            "marker": {
             "colorbar": {
              "outlinewidth": 0,
              "ticks": ""
             }
            },
            "type": "scattercarpet"
           }
          ],
          "scattergeo": [
           {
            "marker": {
             "colorbar": {
              "outlinewidth": 0,
              "ticks": ""
             }
            },
            "type": "scattergeo"
           }
          ],
          "scattergl": [
           {
            "marker": {
             "colorbar": {
              "outlinewidth": 0,
              "ticks": ""
             }
            },
            "type": "scattergl"
           }
          ],
          "scattermap": [
           {
            "marker": {
             "colorbar": {
              "outlinewidth": 0,
              "ticks": ""
             }
            },
            "type": "scattermap"
           }
          ],
          "scattermapbox": [
           {
            "marker": {
             "colorbar": {
              "outlinewidth": 0,
              "ticks": ""
             }
            },
            "type": "scattermapbox"
           }
          ],
          "scatterpolar": [
           {
            "marker": {
             "colorbar": {
              "outlinewidth": 0,
              "ticks": ""
             }
            },
            "type": "scatterpolar"
           }
          ],
          "scatterpolargl": [
           {
            "marker": {
             "colorbar": {
              "outlinewidth": 0,
              "ticks": ""
             }
            },
            "type": "scatterpolargl"
           }
          ],
          "scatterternary": [
           {
            "marker": {
             "colorbar": {
              "outlinewidth": 0,
              "ticks": ""
             }
            },
            "type": "scatterternary"
           }
          ],
          "surface": [
           {
            "colorbar": {
             "outlinewidth": 0,
             "ticks": ""
            },
            "colorscale": [
             [
              0,
              "#0d0887"
             ],
             [
              0.1111111111111111,
              "#46039f"
             ],
             [
              0.2222222222222222,
              "#7201a8"
             ],
             [
              0.3333333333333333,
              "#9c179e"
             ],
             [
              0.4444444444444444,
              "#bd3786"
             ],
             [
              0.5555555555555556,
              "#d8576b"
             ],
             [
              0.6666666666666666,
              "#ed7953"
             ],
             [
              0.7777777777777778,
              "#fb9f3a"
             ],
             [
              0.8888888888888888,
              "#fdca26"
             ],
             [
              1,
              "#f0f921"
             ]
            ],
            "type": "surface"
           }
          ],
          "table": [
           {
            "cells": {
             "fill": {
              "color": "#EBF0F8"
             },
             "line": {
              "color": "white"
             }
            },
            "header": {
             "fill": {
              "color": "#C8D4E3"
             },
             "line": {
              "color": "white"
             }
            },
            "type": "table"
           }
          ]
         },
         "layout": {
          "annotationdefaults": {
           "arrowcolor": "#2a3f5f",
           "arrowhead": 0,
           "arrowwidth": 1
          },
          "autotypenumbers": "strict",
          "coloraxis": {
           "colorbar": {
            "outlinewidth": 0,
            "ticks": ""
           }
          },
          "colorscale": {
           "diverging": [
            [
             0,
             "#8e0152"
            ],
            [
             0.1,
             "#c51b7d"
            ],
            [
             0.2,
             "#de77ae"
            ],
            [
             0.3,
             "#f1b6da"
            ],
            [
             0.4,
             "#fde0ef"
            ],
            [
             0.5,
             "#f7f7f7"
            ],
            [
             0.6,
             "#e6f5d0"
            ],
            [
             0.7,
             "#b8e186"
            ],
            [
             0.8,
             "#7fbc41"
            ],
            [
             0.9,
             "#4d9221"
            ],
            [
             1,
             "#276419"
            ]
           ],
           "sequential": [
            [
             0,
             "#0d0887"
            ],
            [
             0.1111111111111111,
             "#46039f"
            ],
            [
             0.2222222222222222,
             "#7201a8"
            ],
            [
             0.3333333333333333,
             "#9c179e"
            ],
            [
             0.4444444444444444,
             "#bd3786"
            ],
            [
             0.5555555555555556,
             "#d8576b"
            ],
            [
             0.6666666666666666,
             "#ed7953"
            ],
            [
             0.7777777777777778,
             "#fb9f3a"
            ],
            [
             0.8888888888888888,
             "#fdca26"
            ],
            [
             1,
             "#f0f921"
            ]
           ],
           "sequentialminus": [
            [
             0,
             "#0d0887"
            ],
            [
             0.1111111111111111,
             "#46039f"
            ],
            [
             0.2222222222222222,
             "#7201a8"
            ],
            [
             0.3333333333333333,
             "#9c179e"
            ],
            [
             0.4444444444444444,
             "#bd3786"
            ],
            [
             0.5555555555555556,
             "#d8576b"
            ],
            [
             0.6666666666666666,
             "#ed7953"
            ],
            [
             0.7777777777777778,
             "#fb9f3a"
            ],
            [
             0.8888888888888888,
             "#fdca26"
            ],
            [
             1,
             "#f0f921"
            ]
           ]
          },
          "colorway": [
           "#636efa",
           "#EF553B",
           "#00cc96",
           "#ab63fa",
           "#FFA15A",
           "#19d3f3",
           "#FF6692",
           "#B6E880",
           "#FF97FF",
           "#FECB52"
          ],
          "font": {
           "color": "#2a3f5f"
          },
          "geo": {
           "bgcolor": "white",
           "lakecolor": "white",
           "landcolor": "#E5ECF6",
           "showlakes": true,
           "showland": true,
           "subunitcolor": "white"
          },
          "hoverlabel": {
           "align": "left"
          },
          "hovermode": "closest",
          "mapbox": {
           "style": "light"
          },
          "paper_bgcolor": "white",
          "plot_bgcolor": "#E5ECF6",
          "polar": {
           "angularaxis": {
            "gridcolor": "white",
            "linecolor": "white",
            "ticks": ""
           },
           "bgcolor": "#E5ECF6",
           "radialaxis": {
            "gridcolor": "white",
            "linecolor": "white",
            "ticks": ""
           }
          },
          "scene": {
           "xaxis": {
            "backgroundcolor": "#E5ECF6",
            "gridcolor": "white",
            "gridwidth": 2,
            "linecolor": "white",
            "showbackground": true,
            "ticks": "",
            "zerolinecolor": "white"
           },
           "yaxis": {
            "backgroundcolor": "#E5ECF6",
            "gridcolor": "white",
            "gridwidth": 2,
            "linecolor": "white",
            "showbackground": true,
            "ticks": "",
            "zerolinecolor": "white"
           },
           "zaxis": {
            "backgroundcolor": "#E5ECF6",
            "gridcolor": "white",
            "gridwidth": 2,
            "linecolor": "white",
            "showbackground": true,
            "ticks": "",
            "zerolinecolor": "white"
           }
          },
          "shapedefaults": {
           "line": {
            "color": "#2a3f5f"
           }
          },
          "ternary": {
           "aaxis": {
            "gridcolor": "white",
            "linecolor": "white",
            "ticks": ""
           },
           "baxis": {
            "gridcolor": "white",
            "linecolor": "white",
            "ticks": ""
           },
           "bgcolor": "#E5ECF6",
           "caxis": {
            "gridcolor": "white",
            "linecolor": "white",
            "ticks": ""
           }
          },
          "title": {
           "x": 0.05
          },
          "xaxis": {
           "automargin": true,
           "gridcolor": "white",
           "linecolor": "white",
           "ticks": "",
           "title": {
            "standoff": 15
           },
           "zerolinecolor": "white",
           "zerolinewidth": 2
          },
          "yaxis": {
           "automargin": true,
           "gridcolor": "white",
           "linecolor": "white",
           "ticks": "",
           "title": {
            "standoff": 15
           },
           "zerolinecolor": "white",
           "zerolinewidth": 2
          }
         }
        },
        "title": {
         "text": "Visualización del Dataset Digits con PCA (2 Componentes)"
        },
        "xaxis": {
         "anchor": "y",
         "domain": [
          0,
          1
         ],
         "title": {
          "text": "PC1"
         }
        },
        "yaxis": {
         "anchor": "x",
         "domain": [
          0,
          1
         ],
         "title": {
          "text": "PC2"
         }
        }
       }
      }
     },
     "metadata": {},
     "output_type": "display_data"
    }
   ],
   "source": [
    "# Aplicamos PCA para reducir a 2 dimensiones\n",
    "pca_2d = PCA(n_components=2)\n",
    "X_pca = pca_2d.fit_transform(X_scaled)\n",
    "\n",
    "# Creamos un DataFrame para facilitar la visualización con Plotly\n",
    "df_pca = pd.DataFrame(data=X_pca, columns=['PC1', 'PC2'])\n",
    "df_pca['label'] = y.astype(str) # Convertimos la etiqueta a string para colores discretos\n",
    "\n",
    "# Visualizamos\n",
    "fig = px.scatter(df_pca, x='PC1', y='PC2', color='label',\n",
    "                 title='Visualización del Dataset Digits con PCA (2 Componentes)',\n",
    "                 labels={'color': 'Dígito'})\n",
    "fig.show()"
   ]
  },
  {
   "cell_type": "markdown",
   "metadata": {},
   "source": [
    "**Análisis de PCA:** PCA logra una separación decente para algunos dígitos (como el 0, 4 y 6), pero muchos otros se superponen significativamente. Esto es esperado, ya que PCA está limitado a proyecciones lineales."
   ]
  },
  {
   "cell_type": "markdown",
   "metadata": {},
   "source": [
    "## 5. t-SNE (t-distributed Stochastic Neighbor Embedding)\n",
    "\n",
    "Ahora, aplicaremos t-SNE, una técnica no lineal, para ver si podemos obtener una mejor separación visual de los clusters de dígitos."
   ]
  },
  {
   "cell_type": "code",
   "execution_count": 28,
   "metadata": {},
   "outputs": [
    {
     "data": {
      "application/vnd.plotly.v1+json": {
       "config": {
        "plotlyServerURL": "https://plot.ly"
       },
       "data": [
        {
         "hovertemplate": "label=0<br>TSNE1=%{x}<br>TSNE2=%{y}<extra></extra>",
         "legendgroup": "0",
         "marker": {
          "color": "#636efa",
          "symbol": "circle"
         },
         "mode": "markers",
         "name": "0",
         "showlegend": true,
         "type": "scattergl",
         "x": {
          "bdata": "oxSOwb37ecFQVY7BYRqOwQX8fcF8SprBI3KiwXmdisGYm5XBLLuwwbCHp8EvEJzBdDKTwTQqmMH5MIjBOhyjwbKafsES3IvBvwuowT3/i8GaIJHB0hGbwfgxh8GAqpzBJ1qnwRxWlsFccnzB/3ifwQDEjMExyX7BEVuJwfj1mcG/iJnBxHyUwQCSj8GhFHvBhpqIwR49o8EV86HBfSeuwbOQocEttZjBLuiAwf4prsEnD6TB3tScwbUDn8FGEInBsz6XwXPip8F4r6DBP42UwXQhi8Fl+5XBH2SNwa4UisF9kKLBlUiTwVAJrsHlyIDBZuGRwS1Xm8F6eobBC/uGwS44ksEpO3nBA6F+wcOGfMGD7IXBGsGbwcFmj8G/+YTBphSEweGNiMF/v4LBTuCTwbspl8ED/4rBHx2VwTfKpcHOR4DBm0uVwSGZj8H83mnBf4VvwbgldMFroIXBJeGAwfQAl8FL7JDBDJhqwXSCnsHWFZzB8lSXwatFnMFmXZjBdQKhwTvJlMHsl6/BSvubwdg/o8HClI7BhvKbwcKlrcGXb6LBQ46iwVNxr8G5MbTBItmpwYSAncGcAqrBOWqtwb8RkMH2qaTBr/aRwXO/icGYs4bBurqAwROcicE2Lo7BgLWJwcVbg8EKM3/B4wKAwTB/g8G635PBTL97wao9r8F5RY7BoXiZwZM9sMGvPYLBKC2VwcRXk8HAmZHBvAmHwX07kMF44pvBzOaSwcutgsGl9ZvB3V2gwZ2omMHA9aTBIX+iweewnMGHg53BCJSuweTssMGiL7HBv4iYwTXCpsGot5XBqg6PwSg7ksEWA4nBetaAwejgksGc84TBWOBnwQSsmMFDTovB0uimwaDZicGkYYrBHLykwa2on8GLXavBl7qRwWUOgMEfxbbBZ3yLwdp0eMGUEKnBSnCJwQUnq8HbpZvBsPyAwQ==",
          "dtype": "f4"
         },
         "xaxis": "x",
         "y": {
          "bdata": "Dqq+wREMtMF+R5rB267MwX90osGxdq7BDcagwewymcEhIZfBjpKpwWXdsMHUMJPBmduYwWlBqcFkQ5/BMQaZwf5AqMGCyKzBfc+1wR5Yk8H/J5nB65yewVf5mcFgwZTBs++zwYIjncHmRrfB0omtwdL1s8ExGrvBY13Kwb7KssG6dbfBw0m2wX/rrMH4VLTBfUy0wfvipsHTQqjBu2OswfQGscEJEqDBrDuiwQHbr8E0C7HB/MufwUV8vcFLWKvBoCzBwVXonsHn05rBBJixwQjKrsHM7LfBfHbEwapur8HvcbvBJ7euwbr3vsFztLfBVNOQwenix8E8fa7BOWHSwa4gtMFkpq/B01nJwWOwq8E8QrPBJ32rwV3PocHQMrnBSQmTwTU0osEudqrB+HKpwZlDoMGl66fB2ibMwTsExsFrPb3B4+y2wRdNtcFYG6rBITiywTPSvsHWI6XB+tGdwfZNw8F2+MDB59G2wcrrvcGETbrBOASuwSIJxMH8/L/BrgTFwZe6zMF21LHB/ATEwaChycE/m7vBofGpwV2jnME1S7nBpLSewU6blsF5gZbBwynBwf2YusGqtr7B5LW/wR+avcHbGbfBEjCxwVNTv8GTMcDBIzTIwaYXzMHy3tPBsPHNwYNlxsHJPcnBMQbKwW2DxsH5Y47BkSHNwaJVnMHln6LBdBulwZVyusGcR5XBR0ulwYpYo8GjpsjBoue0wZAEv8FtLKXB3XmhwR2al8Faqr3BMbmmwUqat8FBoKjBnESrwRsWscH4vrHBad65wUxlvMH8+LjByj+0wcXSqMH+uLvB92eiwZ54nMGhmKPBoeSJwW2OqsF2vYvBaVO9waswksFK5Y7Bs+2/wbpSmcGSKrHBcPitwYQ2o8HP26XBCRC5wccqp8GdkbHBKwi7wboIoMHwI63Bfse5walJqMESyJDBYUyowQ==",
          "dtype": "f4"
         },
         "yaxis": "y"
        },
        {
         "hovertemplate": "label=1<br>TSNE1=%{x}<br>TSNE2=%{y}<extra></extra>",
         "legendgroup": "1",
         "marker": {
          "color": "#EF553B",
          "symbol": "circle"
         },
         "mode": "markers",
         "name": "1",
         "showlegend": true,
         "type": "scattergl",
         "x": {
          "bdata": "f80zwT0NicCeTHPAPaaXwGXqksBi2YTAKxOZwEgCi8C8jqvAkouWwABwNsGgYi3BfZ+FwMJQ0b8bjlvAF4ApwAOnI8DD3xzA/9VJwJ+plsAjsi3AqC2fwGVQJsAQsGPA0sWLwFQ/ScCiahjBbBC6wItSB8F8/xHBHZ8cwSCUm8Cjlh7BX+YPwQmT0MBzNR7BWcguwfk/MMF6+xPBfgHsv5dDgcDhoF/Ak3ZmwDiIgsB1k5E/DLtdwI2BkMBBIaLALoGOwLU1Z8ChMnbArTRVwN2X6z6zM5U/34bfPQyZx747L5a/GncdP0uHWr+kLpC/85pkv+X6Wb8RIZe/+Bf8wFrKBT+qdRDBST4NwSEHFcGvNv7AFuz9wEfoH8HDagzBqjwfwSvcFcFeGAvBih0IwR8wCcECqgfBd5IywQvWMcFgzyTBsHflwAcDBcGdwNk/qkH8wMS5DcExUhDB1rsiwZXjH8H24yPBjJwIwVzasD857KA/eUnYP/guCT/NUE0/vqxFP7HDHD9qYy0/Ss2qP3quUj9fTTQ/ST4xP9nyej8TwfTABjwFwcFDK8GwR/XAGhImwURnHMHKMDDB2t8cwZjMK8Ea6+zAjfUcwVhAKsEiQyPBO2uXwMZoksApkDHBfR0TwdGFLsFZE0DBaW0dwS3CK8HvfDHBaoIgwZDuHcEb6yjBQdwIQFJ8CMB3oTDBpgIowDAaPcF1xDfBXCFqwJXnLMHI5ZPAdNw4wd+AOsGKATjBSF4twVavNME+RQ7AcDzivw+PN8Ccvsy/a8u6vxuzob8ujJW/bmZIvxL3+L/u3DLApOPUv/DYnb8Bf2C/0XE6wUtFJsEjBibBYnZAwZUAN8GY+DLBb2wzwQIBOsF/20bBDMlDwVtMNMHk6D3BdWQ/wRlPAcFDXQTB5/0NwTXI/8CgHArBOxECwcrH+MCQgObAtksNwb/Z98DpbgzBItvqwA787cA=",
          "dtype": "f4"
         },
         "xaxis": "x",
         "y": {
          "bdata": "D4qfQLKTxsAZjarAMwHDwJVUmsAKoKvAWEqOwPMcqsC9iKnA/1jDwIb4iEBAzAtB5GjZwJ2208DwruDAGijlwCPEy8A9F+HAPEyzwCfF2cBYBdDAXyznwG4D6MBQSLvAKL7UwMUy08DcBuVApFbHwJY4XEAFxg5BoZWZQF435MC6CfdANUxvQO1jucBiKMpAbuv2QFlUykARISJB9bOjwCdWWcAfxonAOKifwNhFZsCg1dpBGcOgwOM4asBN8XTAu6+0wMr3ccBndWXAtx2PwPt2z0HbrtZBo5HZQZG11UHkIdhB1rvXQcay1EEgmNhByZ7YQXjV20HKwdRBmUMJQT6eykHdpdVA6rkQQfYiE0ETf6RAlmKnQPDutUBbDfJAcf6sQGTRKkGwjSlBz7IBQZeAyEBG075AX2zdQNW6ukChnMNAP9MCQaiWBEEv39tBM8XEQFnUHEG+/utA8dX1QK8F+EB+rd5AqUmuQOn+2UE0OdlBLX3eQbSBy0GpgtFBR9PTQZF0zUGIGdBB22bZQW4M0UHLJ9JBhMnNQZ601UFXPMdAAWjiQIQZ5kAp9PVAmgz3QMHHHkEAvOVATXULQU/11kCDFOJASBXUQCTdCUHPmwNBOjGBwChzk8AaIUJAY/naQAHnHEDtMOtApVkKQeZo4UCK8jFA+m8BQVW5AkHvYx9BXblSwFSEecAZXTtAjZbswNTy70ANqdhAq5yUwBc61EAHgIvAute9QOt61kArnOhADZ0BQVXjBEEV7oTA8wiawLwOpcAYIMPAfF3EwM/mmsCn1aDAXgSrwIluhcAEkqfAuoizwOIxvsBOraDA0K71QAXQFUHuJSFBbzjXQGzm/0DdDhZB8IT4QKRz+UAdDeZArGnYQO+x4kBg8NNAVCXRQCzDFEEUPtdAEosQQdp5C0EH0eZAuegWQVoCAEEc2AFB7sWjQOWf3kC4GgRB0XT6QKaj8EA=",
          "dtype": "f4"
         },
         "yaxis": "y"
        },
        {
         "hovertemplate": "label=2<br>TSNE1=%{x}<br>TSNE2=%{y}<extra></extra>",
         "legendgroup": "2",
         "marker": {
          "color": "#00cc96",
          "symbol": "circle"
         },
         "mode": "markers",
         "name": "2",
         "showlegend": true,
         "type": "scattergl",
         "x": {
          "bdata": "yqXpwE9ToECSv7tAJUbuwKU84cAim93AALbrwODm48BzjN3AACYmQeGLDEF9F+3AgPvvwMV/KUG1dQZBJ+afQP/e4EBSTfRARf4NQUz79EBeB5VAMrnSQOPI50C0XhhBff80QY5j0ECYPfFA0Ej4QESQHEGUtzJB7GHpQCrG8EALqxpBPicAQcm1KEG0dvhAiNX1QBa6LEHTbiFBoIa/QCoop0CdcvVAzsBaQBgN4EB7I+JAzGa3QPp8w0CBm/ZA6rAEQTnbCUFfnwFBDSBAwdMVIkCVZsdAy4B3QLLuakGGA1NAM1VmQBedVUBNHitABkrrQBYxK0BpZTZA4tn9QMAqHkAcXQpBR6LSQO3z60BR5q5ACiXIQOQyDUAEQhRAdse2QGwnzEA9pzRBFzXkQEnD2kBAmu5A/XUdQY3TLUHwokFBWfHjQAz4RkFQajlB/7cVQd2tTkEur0JBzE1/QPgIUEFspTBBJpT2QGJ7FEEOYkBBIIoPQZIiGEFMQRZAZryCQHBAbkBfLxdAjPgzQVittkCdKj5ADpIlQUDWD0EHs5pAyH5DQIl0O0Bw8WJAQyKlQJu6IEAPLIlAMOAYQQeumEAgqOk/73AiQZ6uhUCSZARBo4G5QNaP7EAASzhBz2sGQSyjEkGOuodA1AwJQc3+OkGPFTNBty18QR6nO0D9GKU/7BRQQOWZEkBGoeQ/hUilP8/nB0D4u9tARZjDP3kFLEAASQtAZ0NLQO+hGEBnPAdB/tUmQSKvMkE1WjNBfl8HQWyeOUEfPiFBqhcmQZG6LEFfAUNBHAMkQWVSqUAxuh5BWEamQEk+oUCNsp1AK2+rPw1rFEGDIM0/RLIVQaW+4r+nnh5B5vbQQGZiUEC6wAFBaX8BQZhWAkH/KA5BbcA9QVJjQkELKyJBuSZGQX77EEEKwr1AsME2QTonA0GcM/pA",
          "dtype": "f4"
         },
         "xaxis": "x",
         "y": {
          "bdata": "4t9APxVSwUEGKrdByjORPwiKSD6w9Hk9cFkUPweiEb7dXtm+a/avQTmxjEGVmYk/DImnP/MMrUGqZ5NBkxWeQUZApUGLsp9BLg/GQd2htkFZI5tBU1ygQUOAo0HX/MVBLGCwQaFKpEEJG65B+VOuQWG0pUFdAalBEByhQYuOqkE2cK1B/82pQSFopkH/v59BuMCqQWG0pUFj7rJB5jq8QfofxkGYcr5BDFjHQZ1Yu0Eef71B9QrCQa8dwEFBd7lBZFzBQUAhukHsvr1BR4p3wc3nuUE9qq1BqNXOQbk5g0ERDs5BsWC3QfZ5zUGeZslBI/auQa6X10E8ks1BLcetQaMkzEGIoJlB4z6WQdVdmkFz9JRBnzCVQV8GFkH6JhVBpfOTQTcpl0GjbKFB/pSXQZqXlkF0U5lB/G2pQYFJtEEfzKhBPPGgQayRrkHJxaVBkj6+QWtIqkFCB7JBK2mcQUpjq0EJYxLBqNOWQSgvqkFLcrdBDnuxQSPbtUHBhMVBTIK7QRT1ukEebcVB28e4QYxluEH+k7xBPK65QfHgs0EB+7FBB3y7Qf5gtUH167dBFujGQSMusUG8Br9ByLK7QRvKtUHzV8VBEhixQSROuEH9VZpBpTmnQWDimUEL7KhBNYuqQUPNqUFYj6BBKiCeQY/NpUFWJ6RBp6h0Qbr4sEHdTsdBaQSoQXSVsEE7b7BBV3vEQY05tUGlzrhBi3SsQSXmvkEy7bRB7Fi4QekIvEFnHb1BXdTAQaUku0Fcvr5Bpoy9QYdPvkGcar9B5+O8QeLFvUFav7hBeeu4QShOpUG/C79BqMK4QV5byUERr8hBYWSIvyVwtEFQTa9BRcCcQd0p0EH02a9B68/OQV9EqEFAr7dBON+PQYHkjUG8oMZBSJm7QSYzt0EXQsRBeu7BQQpCoUEIe5xB4na+QSM8vUHoEcVB",
          "dtype": "f4"
         },
         "yaxis": "y"
        },
        {
         "hovertemplate": "label=3<br>TSNE1=%{x}<br>TSNE2=%{y}<extra></extra>",
         "legendgroup": "3",
         "marker": {
          "color": "#ab63fa",
          "symbol": "circle"
         },
         "mode": "markers",
         "name": "3",
         "showlegend": true,
         "type": "scattergl",
         "x": {
          "bdata": "qDoxQe3vFkF/Yp1A7sENQab75ECgGwNB7moCQQ4gFkGXAxJBgvj6QJm5I0E6/RNBhSEiQTFgGkGDzihB330VQfy09UDKJSZBk10ZQZ7VrEDphxRB4ugUQZgbBUFC0A5BzqkTQUyfiEDBvDFB/JkiQTJDCEGwARtBXLM3QXhD9kAB7CBBdy4iQa4pHkE3evlAc6wyQbY5N0FeI/hAlsbiQBZ810CesjxBtUg6QRpOz0B8KsVA4Xk5QVLqMUFMVDtBrZo7QanjO0EE+0hBGIw7QYLG/ECoLJFAuI5yQMXQUED56pFA+iOYQCDPpUC822NA5maBQNjibECc5GBA8PtdQOisjUAGfYhAKQ0hQbVmJEH54CJBeaKPQDadGkHUeBxBqYMQQR/iF0F0WB5BmvYYQcpBSEE3lUZBnpQjQZvVSkHPvhtB1XoeQVka4kCfNeFACXjhQOf3h0DF65dA2aP3QNukKkHVywhBmNYHQVn2wUBAl85ATBvkQGl3MUG5HdFAN6IMQXf63ECgFjhBvjpKQdS9OUGW6spA42U6QdRG1kBIbEtBkxfvQGsH5UB6nudArvzgQNkibUFrHNlAAbgQQeZEA0GDn/5AjHD6QJWVF0HAwvBAKuYBQfDXEEFdYeFATsTzQLaFHEDiofxANG7aQMJUsUDuiihBsqAhQawZ0kD5Un5BdKz5QK77KEFWsDRByx7XQJlmNUFDUAdBWpHHQLweHEEXrAxB0r8RQXd+BUGMWt9AVecWQVijHUF/DQlBpd81Qd7KLEGnti1BjucAQej4NEFkIQ9BfE0rQXfADUEGRhVBH/UZQc4LAkGd0gFBjRcTQTLfxkC9sp5Ak5ffQAyEe0Do4FZAjCpwQJiqdEBOahdAUYPiQABu0kBT+KxAkgzLQM2w2UAEFVVBBE9oQBOmZUH3yxZAmGpVQHnkREA5cHFBPFxZQM9odkDjbbBAopAkQY0YZEFOyRpB",
          "dtype": "f4"
         },
         "xaxis": "x",
         "y": {
          "bdata": "hJYhQUwxU0ET6SpBDTE6QUIARUGLYj9BxN1GQWI0XkF++V9Bba9LQUQHbkGHxmBBRBB7QXZobUF+jmBBoxhsQdGERUH7WltBN7RZQR/qJUFsSkxBXjhhQThhVEE6iFRBvj9qQYk3KEFVEB5B4tkVQQKSHEFcFhRBRaw2QatyLEHzTiVB5W0nQUJdF0HwRi5B5iQ/QUtDQUFoqxdBn9IvQSYJKEFgZhVBC9zYvwwdaUF0am1BergEQTcdA0HHggdBGpMPQYAUE0EKNw5BndY3QVvWd0EZuNJAmo3aQBCmz0A/ot1APUDJQDDuE0ERRrZAr1vQQLT20UFAQNhA6bbJQOmB30BKJttAV90BQYJv6kAp8g1B980JQZd07ECf+AlBX+n4QBNCKkHoEf1A507/QBFgJkF21SRBVd4mQcnQM0GvajVBX5k7QQZ3VkEaRVlB509bQSqGLUHTCjdBxUInQXK5Q0HMhjVBOBk8QaIHO0GRnAJB3RRrQQ0qL0H8MXNBWFsuQVFqbEHIiPq+nu3tQPWoib9wjgNBP67Tv18MakHOLvJAMhoHQXF1/UCQrAtBVIwOQVHRgUGmYRZBa40EQRUSAkHKNgBByOUAQTxNEcEr4/ZAeBkCQWHrC0ExIBlBbGTyQOX1ZUG0FOhAfJEwQVPJKkERB1ZB66NpQc4EOkHnRGhBcNkeQSvmbkFb4l5B1UQaQcQdKUFaAw9BIqdBQXFQ5EBpjeZAEvXmQLDVHUGARDhBr44cQUG47kDChAxBg3kUQYKdG0FuUT9BcmMmQRzMK0HerxtBqaguQbnFKkFacChBQLUnQYwJKkH48hFBPzYuQRnzREFn3CJBz444Qd5hZEFwwV1B4aRnQWYiWkEC8k9BlfxDQejpRkEqw01B6VBBQUofQUFbxS9B8hpRQXDWN0FmFGRBHONDQZnYQ0GR0gnAQvJKQTxPQkG7iDhBEXIdQXlvMkEbAElB",
          "dtype": "f4"
         },
         "yaxis": "y"
        },
        {
         "hovertemplate": "label=4<br>TSNE1=%{x}<br>TSNE2=%{y}<extra></extra>",
         "legendgroup": "4",
         "marker": {
          "color": "#FFA15A",
          "symbol": "circle"
         },
         "mode": "markers",
         "name": "4",
         "showlegend": true,
         "type": "scattergl",
         "x": {
          "bdata": "0ISjwJggX8DTIJnAnFdrwJR0rsCLwwfA3QUFQNaspMCfHaHADa/evxCwGMCY9du/kvBkwBochMBvJfjA3izdwEDwBMFuXePA1OoFwd/B+cBgJPDA+9EFwdjv4sDsVc/A0un1wFLlG8DwxknA+3NAwOtTjMAKPV3AnfeDwMzXP8CcVqTA9Y5Kv66+7MBfMnbAd5ZuwJo8aMDrN/vAWDvJwCpP3MC/yrzAz0viwN4z18BPmaDAsb7pwJxf0cAu5azAKlHKwBPHp8By6QHBcQ+ZwIc1YMAHg83ALhibwNcGhMBpeW7AHw6hwJYAq8Bv6aHAZ1DpwKbslMAFJpzAYV2LwKJ+1sAwDeDArty0wO1nuMCMAiLATmDVwCjT2MA6gpLAhwkEQQQNPMHbe0BAAU7zwGBsAEEzIejAGsvIwN+bI8EoxdDAB8bAwEAby8C1PtPAivMswe/CDcF0ds/AxLTHwOZMHMFMgxzB+KSuwIksKcG5m1vAotzSvt9aR8C6IVfAoA84wSOlpj8yfjW/diKIwBls3z7lUItAUupfP39QMD97KyxA0Umkv71yJ0B27+q+U2m1PjLra7/bHGu/uAoowCuGjsDujfc8x689wEfQpb/JWVfAXj/IwFHOicBdFqDAqqX2wG+9ZsBOmaLApLqUwHfRuMCAd+PAZXfsvvAqucBl+fi/dxsPwf+pFMEhzRjB2eAHwZxQC8FJ7/TADej7wKILD8G6vYXARG3owOIg38DRTsvAYwX5wA2xoMDv6sTAYlCnwLNTrcAIv8TALW+swE3lycCF1KvALxCiwGm5wcDpu1/AJli6wB9SwMCBsCvAUvwmwAQ5LsA9NnrAcWolwNBkoD6ai6Y+6R6LwBbERMD7r0nAU6szwGWGpz7jOWzAt6HHwOvEocD0q5/AdOtrQDElTj0k4RzBU84cwTi48MB5h5rARdahwLaTHMFYsNTA2wbAwA==",
          "dtype": "f4"
         },
         "xaxis": "x",
         "y": {
          "bdata": "NVdFwdMAZcEO6yvBFXtxwcrZWMEGb33B8iBXwNr5OMF1kzjBq/qMwZMLgsGvmoXBh8B0wSqYN8HvTjnBdqg1wVj4MMEs+CfBo0kewXpzOMHWUzbBO3AewSZiK8HOVyLB7n45wYQvhcHv7IHBW3CMwXBYeMG35YTBlQaSweTKg8GcoXnB8mh+wd5KecGAvXjBnfmIwanjbsE+yyPB3hCRwVNNM8FNQTfBkg1OwZBbLcGboSbBBTpPwaolOsEjEijB5uouwYfiLMEAByHBLYuXwQGVmcFv2I7BuD6PwdrxiMF15pjBqFuYwY3zksEye5XBQlqSwSlChMHg2JvBh0mZwUL0OsFQDUPBzkYcwf7ePcHmhGjBi8I3wU2xQcFyyZfBe4QswaSdfMHJS4LBdy+OwdXuLMERfInB5pR6wbqAisFWjG/BOSWCwerKh8EkpWTBOVCKweGrbcFz44fBqhNpwbk/iMFnmobB9+lewV+iisEU8kzB2PxmwWprSMG73UvBqQuGwWonWMHEGlTBUNRXwW70XMFUaWLBYdZewRHKXsH4A4LBN35wwYvRgcGjqHDBEJGEwSxxdMFWQnrBkPJ7wQlHZ8H5AmfBGqR3wYTJgMHvtHrBs2dfwVQRj8Hy+ljBERNpwZwEaMEeWV7BvYhrwbqWecH2nW3BdtVgwcamYcFjtI7BFPdmwY+eZsF80WTBIC5nwQuQY8F5N3fBoaB6wS5GZMFRyHHB74JdwQzIXsGXmFjBpVx6wdmimcFea4zB+rqOwdeXbcFWho/BuaiFwW0uhMGu1o/BAkGNwQyeiMEQGZTBXeWMwbf1eMGHRIfBbd2EwUC8ksGC/YXBwZKRwTBBREHq6ENBV0uHwbArh8HvhYPBzwOWwfhgQkHJr4XB8sURwf7jeMGjGGjBlS5SwWi2WsHuW4LBsXCCwenHbsG5mEnBc9tHwaWmhMFVXmHBvdZpwQ==",
          "dtype": "f4"
         },
         "yaxis": "y"
        },
        {
         "hovertemplate": "label=5<br>TSNE1=%{x}<br>TSNE2=%{y}<extra></extra>",
         "legendgroup": "5",
         "marker": {
          "color": "#19d3f3",
          "symbol": "circle"
         },
         "mode": "markers",
         "name": "5",
         "showlegend": true,
         "type": "scattergl",
         "x": {
          "bdata": "QaMvQRmYuUEhJbRBZ2aiQX4DtUEPbapB1TumQZNZokEqqIVB3xmsQXScsEHvK7pBeZaHQcw9v0F9fbZBbL3IQciHt0GzK8RBV3+9QU1nukEG8bxBwJTFQS3zukGdf7pBuQjBQTquvEFSDYxBZbmqQW3plkHZZ5JBfRKKQZDXakEfPpRBXz2BQRUxlEGFGopBrg+lQWSth0Ebyb5BvYGVQQW0nkER9ZtBb0OQQYsVn0HPpIlBP56YQQGKlkFxm51Bg0qbQecbn0ExK7NBEt+ZQfFVkkECAIFBI3iGQQlOmUFiI3tByOeDQX4fh0Gmq41BQi2CQepgeEG6yo5BV9KWQVdWgUGyFp5BMgm1Qedft0HSQ6dBkA28QVH1t0GvFrZBKV+lQTPNpUH3TJJBfMywQZKwvkEJqMtB/IiyQd9vwEF7MsFBmPumQf5Vt0E3D7BBqwmyQSqPqEHSG7NBQguhQXrav0EijqdBDRnAQeiAj0Gq2G9BZKpLQdv7ZEH0GIlBMtpiQf3nYUGr6oVBXLlwQYmUmkG+hGRB2LhgQVZUgUHWwrVBE3moQWi7lUGIn7JBbpm9QfTZtEHlf6JBCZulQfZLvUFRnq1BQN6iQXRSu0GsQadBPmqWQdJWkkFwmcJBxLOgQVFapEFa+rZBVFOiQQ/1uEFbq5hB86nCQYYSu0HZPsxBBNK+QRwXhEGFVapBKvqkQVn3pkFQYadBzsOgQV59pEGpkJxBLgSywY2bsEGYYq1BwnqbQdhznkHvqYZBLgKAQSIiaUF8TYBB+Y6CQRzhgUGLZnhBHDB/QakZikHgD3pBPhdTQTtPhkHvuJlBSLfAQRAewkFppb1BBafHQQWQw0En/8FBb1PHQZAowUEFCa9BPRXEQab9rUGTpMFBBWXBQcYkkEGJDZdBRTWWQcy/oEHSzplBru+eQfHGlUF6kpFBTmqVQfQAikHLdZBB1nWWQaC6jEE=",
          "dtype": "f4"
         },
         "xaxis": "x",
         "y": {
          "bdata": "dzGvQHmOE0GSa5dAu/aDQB1TGkGOoAlBxe0LQTIVgUB2EwVBnmUZQDlUi0DYefxAqWcEQWnqC0F+ORJBDZH5QCE8DkGwix5Bx+zzQI9/GEEPBgJBr8EJQRMN/0ChTM5AJ7oLQeBhDUFp02xASgDgQOROSUAvrFpAOy0uv/datL6Va2BA8G5nQWaDRkB6lN0/CrtfQNLan76jcAZBT+GvQNkYuEB6crRAT5SnQHwTpUAiA8RAn/q2QGqYFkCDrqJAogzrQLtf00C1BapA/hu4QIbv2z+23ANAgb00QDu6fUBtGuo/CvoCQHUwH0CfoCxAjHbsP8pVJ0AQ9CZA2dvZPx52VUAYcX0/D7eGQKXFj0DuQMq/OUujQCDplkBbqaJAbBH1vsGzE7+qTy+/Agm6QLSkl0C5IPlAgofkQKwa5UBqL/pAsF3tQAbgsUDCjNZAghW9QMGp80DR4PdAuNzfQE2r7EBWNslAX7juQAuYP0CDkB1AhgH5PzCLwT9c8SxA+vkkQEueQUB4uDVAgeLvP+mKh0C2GPI/X5H1P3zegUAFwYBAEI2TQEd4E0DH5DNAfWVRQMPTL0AAL1RAyDgLP3wPukC5djlARsiLPutDfEA5kb8+rARCv6s3SL/SBw9BQhYYQB7b2ECMhwBB7XslvzrImUDWZ/W+bbUdQXWA3kA+Zv1AGcEgQTB3Ij8UbiJBCaUjPzCGWUDqVcc/VOpuQMlVB0DdxiO/iDNQPyBU1j976yBAZu6Tv96zaUBqaj5AF/ePP+q2uL6W0Z4/iQ11QJaCiT9rVihAeoIvP2ERxD77tilA3/3kPwkqhT9k/TtAfxukQDWBmUDuc3tA+5NzQAPcJUHZOaNAccQNQUCpo0C5kN8/s5F2QJzN60CymY9AHrJ9QKpOnj8xxWk/0Z0UP2Rt0j8b9gxA/D5bQEEeiD9CONk/CrgTP0kyxz/AnLU+sRr7PhSGoD8=",
          "dtype": "f4"
         },
         "yaxis": "y"
        },
        {
         "hovertemplate": "label=6<br>TSNE1=%{x}<br>TSNE2=%{y}<extra></extra>",
         "legendgroup": "6",
         "marker": {
          "color": "#FF6692",
          "symbol": "circle"
         },
         "mode": "markers",
         "name": "6",
         "showlegend": true,
         "type": "scattergl",
         "x": {
          "bdata": "yd2ZwQYBqMFzrZ7Boe+dwdqLpMFh2arB5ry7wQBjysFyVJ3B6Lmdwew1kMG10JjBCMmQwX/swcG9LaPB9wGmwQcjx8Fj/rzBGP2fwRhDu8FYqr3B227FwbDbocGEdq/BS7XEwTR2w8F627rB2FHJwYGSrcG6aNDB1oK+wXvKucEV6LfB69SnwTNZycGq+K7BTni/wcE4uMHCxY/B6VeLwVPlk8Hs2orBcByuwek3lcEbzI7BKKmWwcFGpcE0bZvBG9WQwUanmcGpiZDBI/KowWlPssE9l7HBBwurwW+CpcHnjq3B09CpwZNMs8HEOK3BmFakwWobqcFF1KnBiqqnwRK7wMFeOcPBQNXDwcSHxMEyDMzBHlHJwf4kvcGVY9HB6nPEweanvMFWAcjB4xmzwb0vscHEaNPB5VzXwR7ElcHawtLBAaCdwQ2Wm8GuWtTB/3rUwVncu8G5SZbBpxaywRb7l8GMhsPB+wHIwWuDzMFJsczB2Di6wdZ6ycEN37bBTc/AwSocw8FfjMXBQsKvwbnMtMHEbMTBFcHFwTigzcERUs3BdKS4wcmQpsG+PKTBx8u+wfGprcFcjrjBfwK8wUFNvMH6abrBp3ubwUJtv8FZec7B4YKswS6ss8FhnrfBKX2vwYHGr8E7cKbB9aGnwVN1rcExca3BSkKywcIJqMGT+LTBs9yywSCZrsHEjbTB6fyzwZA0m8HIa5nBSmeYwSFxoMGkGKTByqK0wezXpMGXwZ/B5BiwwYljx8F7bszBtk7NwRdTtcFuTcvBsBLGwaoyz8Fjm7zBY3bLwYRtxcF2I7fBqpW4we1vr8EUkZnBOdeawQACj8G9X6HBxASfwanFo8FokpXB9CWhwdKwnsHvDp/BtgytwZlhkMFmTpLBbye8wW63vMGU3rjBOpK9wajztcEyxp3Buna+wS/bxsHAEKTB8MafwZ9xrMHIz5fBjci7wQ==",
          "dtype": "f4"
         },
         "xaxis": "x",
         "y": {
          "bdata": "5fmEvzMZrsAXpB2/ZgtMwDBJfL8eWzzATZ7UwMn7xb1lSJ+/+/oFwN4ZsT5jS7c+0EmKvwF0t78Ti4LAzmcSwKXqTr97tDq/iasSwBi0Tr+TL5q/kn/JvVdHPcBFgg/ADbs8wErQGcAdJ0PAaoNNv/sbWsBUvSjAqQRiwPklWMAaKb7AeAZswMWCHMCUmGHAPLYowFxbeMBElkLAEX1fwApMaMDYPXbAV/wTwNK9cMAk3kPAYCh/wPwL0796SYjAMAOOwPMnS8BoHvo/A4ipv+4Cs7+AJKC/lLNXPtD0jD/Rp0M/OkNGv2WE+j2xDkg/b/GOP779l7+/3Yy/05osPwqTkMDfmX3AmrRqwAIbWr8SuuC+20AAwE+7lMD6tKq/Yx11wIRG2MDgxyHA+OmswCCxqMCSsp/Ac7mswMkgasCQIWLAYskgwMx6OcDRe1rAprerwMcUm7+W9JbAfwkvwPxXKcCyCcO/K/u2v3H0jL8W8Pm/ipMawPHxlb9jzBzA+uI3wGj35b/rY/2/0nyVwKp9XMB6eBXAR19EwBzJAcC4SUrAeBtswA+wisDpMdy/rruswGs7oMCXg/DAQQXfwLE208Cx96bAlN0evkCvX8BlDw3A2B4DvmUIo8AQkfTAW3/9wGtClMDyvCrA0n0QwGIvhMCUAKDA5BrFwJbcHsD1BQPBdIcLwco10cACthHBpB8PwQRKZsBHBm/AmziRwMH2XcCFa5jAEawRwaXZosAKfsDAP/UEwaQtL8AhRznAkegewOlvAMDut13AcyUfwEL1nb9k5BHAqGNRwDkzXcDyHjPAw9c0wNRaZsATzsTAiFOYwLsOsL+WaXjA+4qiwHmGfsCyWgjAYyiXwKTnpsBZ437AkgrEwDmJ0b9pHxq/HW2NPXyt97/u9iG+1SrdvkZJqr/oA8g+UvFqvw6+grwnvXS+1MK+vyI4Cb9Xe8S/P0Lhvw==",
          "dtype": "f4"
         },
         "yaxis": "y"
        },
        {
         "hovertemplate": "label=7<br>TSNE1=%{x}<br>TSNE2=%{y}<extra></extra>",
         "legendgroup": "7",
         "marker": {
          "color": "#B6E880",
          "symbol": "circle"
         },
         "mode": "markers",
         "name": "7",
         "showlegend": true,
         "type": "scattergl",
         "x": {
          "bdata": "GcRUQXfJU0H93x5BYS5IQcECb0Emuy1BEIZVQS3ZZ0EBSSJBsjxaQTa0TUH9e2BBtbBWQRNhaUH6YmxBddaEQVZNK0FyDS9BSEBzQWfokEFGYI5BrieKQR74RkGX8oJBY36GQW8l10CXD3VBnBzKQL6CekFTYidBsE0wQShAs0AlVEtBeH1XQW/QfkEkgoJBjlZXQdC7MkHqisFAsb7AQHWXs0CEAbxAbdDhQIYfwkCTnaJAJzimQN7KAUGhbcpA6MmuQBzkxkAnGwBBwweOQe8xbUF2giVBEZpRQZL6YUH62YNBhTIZQQKfeEGW+WpBNhRuQXDtaEGblIpB8UtfQUTuX0EXFRJBh22LQCkEKUDa31ZAn0U2QdHKMUH77ypBa9yKQDFIKkG8+idBnNQjQa3Ma0G4o05BLZlzQZu8dUFwAohBpu5JQd0ai0ERdmhBnh5mQSGBQ0GhC4RB/cVwQVoMZkHZA4FBzakcQfG+PEHVWyVBaJo3Qf1bEUFa6jhBYI4jQYlEQ0HfXyVBbjLbQNCONkF8gzRBbudIQVQtNEGrdk5BHXYtQbD+VUHSSjJB2p8HQd6xgkGZNAlBewBIQU/y90ABcoBBSHz5QGcwgEEb10pBlgEdQen6hkELm3dBBeVxQa4kfEEUJYdB2DSJQWKUeUHRA4ZBMXI7QXlIRkGKH5dBHgBQQVAsXkGBZEFBZrpwQRlrZEF8S4NBChF/QWnliEHGWktBWCONQacYOUG+zW1BdSolQVpxGkGVVx9BAy06QdbFP0HRC+RAHPMoQbqOP0FUnEJBIu43QQRWIEHhMCNBPyQiQcG8mUEDW41BpEh9Qaw8lUFwo5lBALaUQX1WhkEqrpJBkr+ZQSpnaUGQQIRBH6nDQQrsY0H88jlBgmFqQbjmHkG+CyxBjGd3QefZ0kB1+4RBOiKAQfSzWkFOfYJBMAxNQVV+hEE=",
          "dtype": "f4"
         },
         "xaxis": "x",
         "y": {
          "bdata": "m1kmwc1Ca8GcIi3Bxq9KwbkML8GZiELBX2dnwecnRsGwcjHBNbdswVDMVMEYaFzBXnpVwfCcasFV2nLBj8Z4wTfXQcFm1FrBUR1kwYEobcFRxCzBCXVywWH5OcGhLVfB4dtzwQQDb8HAOVHBsyZswU2HVsGS+VbB1YY6wc6OasF4mW7BSwNwwXo/asG2037BkShswZjBTsHpTlLBTjhcwYE4ZMGwCVTBQ3Jmwa4EU8HFrWfBNflZwQKNWcF69vTA8ZdnwSlMV8Fa9FjBvzkuwYFiNsHeqT3BkeNZwZqQNcEBqjPBVM9EwWQ+QcGDNTnBsnVewThXTMFRcknB51M0wf6XP8GUCETByINlwTbHU8H3XxzBJrg0wdiVNcFJnjPBDCRkwX/TLcEpNS7BtI8rwSIKRcF7pWTBnBFYwcp0YcF/72PBssJcwdnlb8G492XBRR5twQWFN8GUVGrBiO1wwQ/OZ8H8O0rBXeZswYqsfcEOwmrBGNl6wQvLYcFXy3vB91ZywVx+Y8GAXnLBdFtuwQJddMF8bG7B17pzwevyccHglH/BtU2BwbgIe8ECVYXB3XKFwYivPsEgkIbBJnOBwW69esGsNGHBU/99wYlONMER9ETBStE8wVbfOsGfeTbBEo9DwWImLcGS9TrBs45DwRAhTcGeczDB2B4xwTczJcGI2z/BtiZTwQxYTMHwqFzBiMhJwaGtVsFLxzjBSe42wQ/RZMERA2DBc2hdwRWpP8Ffkj/BeohdwZQ1VsG5ul/B2SFjwQ5BbMHvJVzBlVhcwR3BV8Ga9WXBRbNgwc4dYcFwJFbB1aJewUbCN8FjsjLBNzBcwfoDSsGR1VDB3dVNwTC4SsGrhl7B+Tk+wYvsVsHc11jBaW0yQWXLPcGCn0vBskc3wRXWecE2ZDjBr2tvwRJRMcGm137BicV/waOyVMGGt0TB0aM6wcMJYME=",
          "dtype": "f4"
         },
         "yaxis": "y"
        },
        {
         "hovertemplate": "label=8<br>TSNE1=%{x}<br>TSNE2=%{y}<extra></extra>",
         "legendgroup": "8",
         "marker": {
          "color": "#FF97FF",
          "symbol": "circle"
         },
         "mode": "markers",
         "name": "8",
         "showlegend": true,
         "type": "scattergl",
         "x": {
          "bdata": "k5wfwDbEg8DQKofAepaewJvrX8Bw06TAW/6jwFhGqMCG76rA7+vJwADXwcDon7vAMpAfwXo8VcDrZCjAiyDIwPFRZ8DAcunAkiZWwId438BMM5fAz9LRwG1kpcDOcqzAlX6YwEo1jsDzn50/D9ucv8b9l78CLADAVQOGv25ZpT//HX0/RUIVwORRXr4PIiNASVpnv5yFrr8A0Zu+s8NKwPkV6j8vGci+VajVvjVwtj/nUJe/oR2DP4mnKkABbiHArzg8wB5SUr8WpUC+PCjIwM7LoMBAmYnAudTBwHZJl8CAj47AH0CXwCbJmcArk8PAY7XCwADemcBNwZfAeXa+wHCgUD7a5A6/OiMKPjCcQ79hye2+SQSHv8Rv0j975CfAaLC4wGJLUD+M/LzA5LnwvQ254L+pkCPAWzinwCiit8ABl9E/YCvCPxqNjD/pGHvA1YwgwOyQOL4D2K89WmcIwEMM6777mTPAzqVDPzBavD8XNaE/wnCFP4mh7r1aKOo/T3XwPpOBvj+oYb4/z27RPwQCRj/F1xK/VnAbwDfRq7/y2Eu/SEpgwBfLG8BktGy/awuJv/9PPL/VDJs+qdIQwHE81L9B6b2/Sxl/QSqVosC/wZXA/Slnv+v8jsDV+yI/d9tmv3gSVsDpTHFB9x2owCllccD63oLAnoNnwBLjksCNi3xBA2WRwDnGmsBtgq7AxAOWwDyjhMDJfWzAhkFuwBoqwcALiKLAgax8wHme2D97jrY/zLnzPw/XrD6W5Oo9vqeYvzNsiD97CjM/qGJYP87pKz9FEsA+avlWP+YL/D6lOijBBn/SwCSvzcC3DKjA70GSwBIrrcAJALbALLy8wJBPucArWTLAB3rYvwlfRMD9kuK/t6S8v1Mmgr9Bek/AbD1gwPssV8CDcM/AyLfkwGiVnMAEyFTA",
          "dtype": "f4"
         },
         "xaxis": "x",
         "y": {
          "bdata": "RBPIQNIIMkFmEPhAtXlCQaDuJ0EHD+lAkiAbQVS5NkEppf5AwJ7yQL9UzECBMT5BvcQSQSxBC0E1JdVAE4rXQM1XDUFhxiBB0PPNQLKkJUHO9IFAZyTeQI+O0UBDyMNAuFeEQJ0C90Cv8K9AaIMSQWtiEUFMXiBB7g7SQLTAmEBixr1A/QwOQfiz5kAEauhA5GHDQEWSEUHIP19ApK4bQdAgF0C3IqFATSCtQLi7TUCqQJtAl6XGQFb1mUDEDf9AX/XuQLryiUBLR6VABfv9PxGpJEDzgStARwoBQNZYCkBD3us/INrvP4b+CUATkAdAa/7UP6Cf5z92su4/pb73P18oz0DjZwNBJTjNQAZW8UCqDepAroACQXWdpkBKp+9ALwMRQWWXqUBDmh1BimnOQE92AUFff4BADe2PwORnB0EG84tA//YvQKrs7z9i7cVAh3KGQJJ1iT+/p58/3l0TQArIkT8OoYJAIdHmQEHy4ED/mfRA8qncQF8NrkAIl9lAUOOzQCLedkAjzfdA9VmXQMLb1kAvTRZB8Ec2QVRNaUGdZ2JB97rjQEjKNkHtaWFBJiRdQXkWI0HEJn1BzTxSQZEtbEGfWGpBTGtoQWvJMEEVbC5By8c1QSLbREHXVCxBd4EzQSR2MUGeE4BBtJsuQcCaPEGUWi5BU/stQaGDC0GOp3RBnEIeQfYJBUGDoPVAGWYTQetS2kCQKSpBnz0iQWr0B0EfyxhBscYsQWgfh0A7w4RAtqiSQGXHZUCDOl9A+WBLwGqVM0BO1SlAmVrbP/Oi7T9jiRpAn9+oP8ezMkCNKGlAaghHQbwlgkD9xIBA5ksWQctkk0DkC4ZAKBeoQDCMnkBVR05BlRhIQYUyTkH+UMtAbkxBQXcoJEG5fQ9Bq6EAQa0EYUElry1B3bDGQG1510Dy32JB",
          "dtype": "f4"
         },
         "yaxis": "y"
        },
        {
         "hovertemplate": "label=9<br>TSNE1=%{x}<br>TSNE2=%{y}<extra></extra>",
         "legendgroup": "9",
         "marker": {
          "color": "#FECB52",
          "symbol": "circle"
         },
         "mode": "markers",
         "name": "9",
         "showlegend": true,
         "type": "scattergl",
         "x": {
          "bdata": "+2QsQQmoSEHbz0VBZddIQZ9IUkHT0hNBPXEUP3jbNUGmURNBA1g3QcoxN0HPBd1A0soFQZdKLkGpwh9B3iksQfb1MkGPayVBqhk0QZX9KEE/KQBBVsnyQJZFLEHjWKxAOkhiQLk46UDH8/dAumMMQTf5LUFuoMtAEMzMQOPf3UD7EvZANJ7vQLdX60AFhgJAeDCzP4y05UCgBQpB4YcjQRmAIUGPv7JAQsuxQI4kAkEu4vlA2wq0QK/80kAVeK1AGZXUQI6EzUDnydhAPRKOQP7jskD0+ppAoSERwFln/EBFzYFAaIy+QLegzED2f4tAFIWHQFg8EkF4KuNAuH4cQQKo2j97pHk/sa2QP6Q9Lz/Hu+s+N+ltPwM4hT/IT4y/ZUWgPT+WmT85jfA/rfvRPzIo2j/+kidBeLR5QIqLIEHZUwdBYWWdQPE96EBSyR1B6m3UQNKdAUG45CFBb/zgQF9c2UC5/gtBJ0w7QaKGGEEOWCpB0P0OQe2XGkE77SdBErk0QVY8OEFYYiVBnKIeQb+VFkF78URBt5cTQXK7V0H5BlFBLzhVQbfWw0CbZ1BBLC3BQENGUUFX39y+nJ5RQUupCkHMd/tAFM9WQVLS40CGlatADL2zwZhnpEAfH+5A20n3QGw04UCt/CNBHT3ZQMSC0UDDYe9AmhHqQJD9DEEnGstA6tUZQYvLBUFqCulAvDsAQc72AUEi7qlAvLUrQcHZBUEbKhFBXePnQP+75kBQQ79ADA0LQaDFB0G27xRBTngTQYOKBkEzbBlBXUUpQYEGH0GjPgVBj6kfQVlk+UBDLvtA3PT9QDUuST/sCTlAJqqgQIhMH0DDhLJAqK7HQRL/CEDNtjBBn7HeQCeqNUF1abNAFcPIQVkY3EB4hQtBcUX9QHKKLEFkyA1B1GYIQY0mBkH4x/dABdoNQZmP5kALIOtApswbQZ8d6UAd82ZA",
          "dtype": "f4"
         },
         "xaxis": "x",
         "y": {
          "bdata": "qXi2QDXjq0DMYa5ApACpQAu9y0CfPnhAjkc6QY9iq0AAuKZAH9tsQMZ6mD/dg7pAyHfbv+eBbUDYTZxAG+aUQOnjlkAjF+I+1AFVQHA0oUDBZZxAJlGTQLlSnkAz9NE//H/MP5bM68Bp6f7AhtDAP7hLOj+0YpNAPIUpP2CnA8GJD/7A+4v3wGfdAcF0yAHB0ZwDwXH2+cDpiLy/kDo6P7rW1D5j4Mk/kCERQHpHMkBNGT1A9r8OQClrEUBKDA1A3Xz8P5cG47+wNAtAt94uQHfA9L4NB4BAyqYSQaJh2b9IK21AkWJov1GXZEBjmFRADZ9mQFOQJkA9ezi/dNQgPEhRNMFxuwXBRQsBweaWBMGOVOzA1NcCwZHMA8EDNu/ACzj3wNp1DsEc/B3BWf8ywUw5BsE1/AVAg4UDv7BIyL4W4PS/+sa/QK//Vb9cGT2+hUsNQJjZ1r8C3NU+ZEfpv5ki5r8nhJm/i38NQNfrHUDQkyJAaYnIP0FLsj/6XxpAjI/QP0fxDkB/e68//w0zQDGHnT/unEFAP382QCDlEEHCm4JAZlJjQBK0qEAog4hADfCfQDYafkA7ISdB8YWTQCa5qkCoa7tASIWfQA67ukB0Ra8/LkYQwQAytz+YCDxA0b+YP/wrUkCXTo5ASuWJQEMsXUCczYdA/cOJQEE5nz/NhZVA5A4IQMShQ0CxTT5AGtO+P/zs5D8/LmFAu0IUP+5zY0DsQTs/+Y5jP8uDRT90I5K/vEkIQH4VDz/xiCNAj7VkQJvndj8SJHhA9Fc6QBelb0Df4Is/bllTQMp4EkALrhu+nV8hPohJ9sAccgfB3vdpwdc0DcFFTAHBmH9sQEse/sC3K88/vvoDwVHBf0CsEUVBRCJ5QNzVBsFQzC1AT0ttQHlmFED+1oJAoOmRQMFMgkDI+TxAHZl2QCOaDUCWo3JAtiKuQD9xyD8lmb0/",
          "dtype": "f4"
         },
         "yaxis": "y"
        }
       ],
       "layout": {
        "legend": {
         "title": {
          "text": "label"
         },
         "tracegroupgap": 0
        },
        "template": {
         "data": {
          "bar": [
           {
            "error_x": {
             "color": "#2a3f5f"
            },
            "error_y": {
             "color": "#2a3f5f"
            },
            "marker": {
             "line": {
              "color": "#E5ECF6",
              "width": 0.5
             },
             "pattern": {
              "fillmode": "overlay",
              "size": 10,
              "solidity": 0.2
             }
            },
            "type": "bar"
           }
          ],
          "barpolar": [
           {
            "marker": {
             "line": {
              "color": "#E5ECF6",
              "width": 0.5
             },
             "pattern": {
              "fillmode": "overlay",
              "size": 10,
              "solidity": 0.2
             }
            },
            "type": "barpolar"
           }
          ],
          "carpet": [
           {
            "aaxis": {
             "endlinecolor": "#2a3f5f",
             "gridcolor": "white",
             "linecolor": "white",
             "minorgridcolor": "white",
             "startlinecolor": "#2a3f5f"
            },
            "baxis": {
             "endlinecolor": "#2a3f5f",
             "gridcolor": "white",
             "linecolor": "white",
             "minorgridcolor": "white",
             "startlinecolor": "#2a3f5f"
            },
            "type": "carpet"
           }
          ],
          "choropleth": [
           {
            "colorbar": {
             "outlinewidth": 0,
             "ticks": ""
            },
            "type": "choropleth"
           }
          ],
          "contour": [
           {
            "colorbar": {
             "outlinewidth": 0,
             "ticks": ""
            },
            "colorscale": [
             [
              0,
              "#0d0887"
             ],
             [
              0.1111111111111111,
              "#46039f"
             ],
             [
              0.2222222222222222,
              "#7201a8"
             ],
             [
              0.3333333333333333,
              "#9c179e"
             ],
             [
              0.4444444444444444,
              "#bd3786"
             ],
             [
              0.5555555555555556,
              "#d8576b"
             ],
             [
              0.6666666666666666,
              "#ed7953"
             ],
             [
              0.7777777777777778,
              "#fb9f3a"
             ],
             [
              0.8888888888888888,
              "#fdca26"
             ],
             [
              1,
              "#f0f921"
             ]
            ],
            "type": "contour"
           }
          ],
          "contourcarpet": [
           {
            "colorbar": {
             "outlinewidth": 0,
             "ticks": ""
            },
            "type": "contourcarpet"
           }
          ],
          "heatmap": [
           {
            "colorbar": {
             "outlinewidth": 0,
             "ticks": ""
            },
            "colorscale": [
             [
              0,
              "#0d0887"
             ],
             [
              0.1111111111111111,
              "#46039f"
             ],
             [
              0.2222222222222222,
              "#7201a8"
             ],
             [
              0.3333333333333333,
              "#9c179e"
             ],
             [
              0.4444444444444444,
              "#bd3786"
             ],
             [
              0.5555555555555556,
              "#d8576b"
             ],
             [
              0.6666666666666666,
              "#ed7953"
             ],
             [
              0.7777777777777778,
              "#fb9f3a"
             ],
             [
              0.8888888888888888,
              "#fdca26"
             ],
             [
              1,
              "#f0f921"
             ]
            ],
            "type": "heatmap"
           }
          ],
          "histogram": [
           {
            "marker": {
             "pattern": {
              "fillmode": "overlay",
              "size": 10,
              "solidity": 0.2
             }
            },
            "type": "histogram"
           }
          ],
          "histogram2d": [
           {
            "colorbar": {
             "outlinewidth": 0,
             "ticks": ""
            },
            "colorscale": [
             [
              0,
              "#0d0887"
             ],
             [
              0.1111111111111111,
              "#46039f"
             ],
             [
              0.2222222222222222,
              "#7201a8"
             ],
             [
              0.3333333333333333,
              "#9c179e"
             ],
             [
              0.4444444444444444,
              "#bd3786"
             ],
             [
              0.5555555555555556,
              "#d8576b"
             ],
             [
              0.6666666666666666,
              "#ed7953"
             ],
             [
              0.7777777777777778,
              "#fb9f3a"
             ],
             [
              0.8888888888888888,
              "#fdca26"
             ],
             [
              1,
              "#f0f921"
             ]
            ],
            "type": "histogram2d"
           }
          ],
          "histogram2dcontour": [
           {
            "colorbar": {
             "outlinewidth": 0,
             "ticks": ""
            },
            "colorscale": [
             [
              0,
              "#0d0887"
             ],
             [
              0.1111111111111111,
              "#46039f"
             ],
             [
              0.2222222222222222,
              "#7201a8"
             ],
             [
              0.3333333333333333,
              "#9c179e"
             ],
             [
              0.4444444444444444,
              "#bd3786"
             ],
             [
              0.5555555555555556,
              "#d8576b"
             ],
             [
              0.6666666666666666,
              "#ed7953"
             ],
             [
              0.7777777777777778,
              "#fb9f3a"
             ],
             [
              0.8888888888888888,
              "#fdca26"
             ],
             [
              1,
              "#f0f921"
             ]
            ],
            "type": "histogram2dcontour"
           }
          ],
          "mesh3d": [
           {
            "colorbar": {
             "outlinewidth": 0,
             "ticks": ""
            },
            "type": "mesh3d"
           }
          ],
          "parcoords": [
           {
            "line": {
             "colorbar": {
              "outlinewidth": 0,
              "ticks": ""
             }
            },
            "type": "parcoords"
           }
          ],
          "pie": [
           {
            "automargin": true,
            "type": "pie"
           }
          ],
          "scatter": [
           {
            "fillpattern": {
             "fillmode": "overlay",
             "size": 10,
             "solidity": 0.2
            },
            "type": "scatter"
           }
          ],
          "scatter3d": [
           {
            "line": {
             "colorbar": {
              "outlinewidth": 0,
              "ticks": ""
             }
            },
            "marker": {
             "colorbar": {
              "outlinewidth": 0,
              "ticks": ""
             }
            },
            "type": "scatter3d"
           }
          ],
          "scattercarpet": [
           {
            "marker": {
             "colorbar": {
              "outlinewidth": 0,
              "ticks": ""
             }
            },
            "type": "scattercarpet"
           }
          ],
          "scattergeo": [
           {
            "marker": {
             "colorbar": {
              "outlinewidth": 0,
              "ticks": ""
             }
            },
            "type": "scattergeo"
           }
          ],
          "scattergl": [
           {
            "marker": {
             "colorbar": {
              "outlinewidth": 0,
              "ticks": ""
             }
            },
            "type": "scattergl"
           }
          ],
          "scattermap": [
           {
            "marker": {
             "colorbar": {
              "outlinewidth": 0,
              "ticks": ""
             }
            },
            "type": "scattermap"
           }
          ],
          "scattermapbox": [
           {
            "marker": {
             "colorbar": {
              "outlinewidth": 0,
              "ticks": ""
             }
            },
            "type": "scattermapbox"
           }
          ],
          "scatterpolar": [
           {
            "marker": {
             "colorbar": {
              "outlinewidth": 0,
              "ticks": ""
             }
            },
            "type": "scatterpolar"
           }
          ],
          "scatterpolargl": [
           {
            "marker": {
             "colorbar": {
              "outlinewidth": 0,
              "ticks": ""
             }
            },
            "type": "scatterpolargl"
           }
          ],
          "scatterternary": [
           {
            "marker": {
             "colorbar": {
              "outlinewidth": 0,
              "ticks": ""
             }
            },
            "type": "scatterternary"
           }
          ],
          "surface": [
           {
            "colorbar": {
             "outlinewidth": 0,
             "ticks": ""
            },
            "colorscale": [
             [
              0,
              "#0d0887"
             ],
             [
              0.1111111111111111,
              "#46039f"
             ],
             [
              0.2222222222222222,
              "#7201a8"
             ],
             [
              0.3333333333333333,
              "#9c179e"
             ],
             [
              0.4444444444444444,
              "#bd3786"
             ],
             [
              0.5555555555555556,
              "#d8576b"
             ],
             [
              0.6666666666666666,
              "#ed7953"
             ],
             [
              0.7777777777777778,
              "#fb9f3a"
             ],
             [
              0.8888888888888888,
              "#fdca26"
             ],
             [
              1,
              "#f0f921"
             ]
            ],
            "type": "surface"
           }
          ],
          "table": [
           {
            "cells": {
             "fill": {
              "color": "#EBF0F8"
             },
             "line": {
              "color": "white"
             }
            },
            "header": {
             "fill": {
              "color": "#C8D4E3"
             },
             "line": {
              "color": "white"
             }
            },
            "type": "table"
           }
          ]
         },
         "layout": {
          "annotationdefaults": {
           "arrowcolor": "#2a3f5f",
           "arrowhead": 0,
           "arrowwidth": 1
          },
          "autotypenumbers": "strict",
          "coloraxis": {
           "colorbar": {
            "outlinewidth": 0,
            "ticks": ""
           }
          },
          "colorscale": {
           "diverging": [
            [
             0,
             "#8e0152"
            ],
            [
             0.1,
             "#c51b7d"
            ],
            [
             0.2,
             "#de77ae"
            ],
            [
             0.3,
             "#f1b6da"
            ],
            [
             0.4,
             "#fde0ef"
            ],
            [
             0.5,
             "#f7f7f7"
            ],
            [
             0.6,
             "#e6f5d0"
            ],
            [
             0.7,
             "#b8e186"
            ],
            [
             0.8,
             "#7fbc41"
            ],
            [
             0.9,
             "#4d9221"
            ],
            [
             1,
             "#276419"
            ]
           ],
           "sequential": [
            [
             0,
             "#0d0887"
            ],
            [
             0.1111111111111111,
             "#46039f"
            ],
            [
             0.2222222222222222,
             "#7201a8"
            ],
            [
             0.3333333333333333,
             "#9c179e"
            ],
            [
             0.4444444444444444,
             "#bd3786"
            ],
            [
             0.5555555555555556,
             "#d8576b"
            ],
            [
             0.6666666666666666,
             "#ed7953"
            ],
            [
             0.7777777777777778,
             "#fb9f3a"
            ],
            [
             0.8888888888888888,
             "#fdca26"
            ],
            [
             1,
             "#f0f921"
            ]
           ],
           "sequentialminus": [
            [
             0,
             "#0d0887"
            ],
            [
             0.1111111111111111,
             "#46039f"
            ],
            [
             0.2222222222222222,
             "#7201a8"
            ],
            [
             0.3333333333333333,
             "#9c179e"
            ],
            [
             0.4444444444444444,
             "#bd3786"
            ],
            [
             0.5555555555555556,
             "#d8576b"
            ],
            [
             0.6666666666666666,
             "#ed7953"
            ],
            [
             0.7777777777777778,
             "#fb9f3a"
            ],
            [
             0.8888888888888888,
             "#fdca26"
            ],
            [
             1,
             "#f0f921"
            ]
           ]
          },
          "colorway": [
           "#636efa",
           "#EF553B",
           "#00cc96",
           "#ab63fa",
           "#FFA15A",
           "#19d3f3",
           "#FF6692",
           "#B6E880",
           "#FF97FF",
           "#FECB52"
          ],
          "font": {
           "color": "#2a3f5f"
          },
          "geo": {
           "bgcolor": "white",
           "lakecolor": "white",
           "landcolor": "#E5ECF6",
           "showlakes": true,
           "showland": true,
           "subunitcolor": "white"
          },
          "hoverlabel": {
           "align": "left"
          },
          "hovermode": "closest",
          "mapbox": {
           "style": "light"
          },
          "paper_bgcolor": "white",
          "plot_bgcolor": "#E5ECF6",
          "polar": {
           "angularaxis": {
            "gridcolor": "white",
            "linecolor": "white",
            "ticks": ""
           },
           "bgcolor": "#E5ECF6",
           "radialaxis": {
            "gridcolor": "white",
            "linecolor": "white",
            "ticks": ""
           }
          },
          "scene": {
           "xaxis": {
            "backgroundcolor": "#E5ECF6",
            "gridcolor": "white",
            "gridwidth": 2,
            "linecolor": "white",
            "showbackground": true,
            "ticks": "",
            "zerolinecolor": "white"
           },
           "yaxis": {
            "backgroundcolor": "#E5ECF6",
            "gridcolor": "white",
            "gridwidth": 2,
            "linecolor": "white",
            "showbackground": true,
            "ticks": "",
            "zerolinecolor": "white"
           },
           "zaxis": {
            "backgroundcolor": "#E5ECF6",
            "gridcolor": "white",
            "gridwidth": 2,
            "linecolor": "white",
            "showbackground": true,
            "ticks": "",
            "zerolinecolor": "white"
           }
          },
          "shapedefaults": {
           "line": {
            "color": "#2a3f5f"
           }
          },
          "ternary": {
           "aaxis": {
            "gridcolor": "white",
            "linecolor": "white",
            "ticks": ""
           },
           "baxis": {
            "gridcolor": "white",
            "linecolor": "white",
            "ticks": ""
           },
           "bgcolor": "#E5ECF6",
           "caxis": {
            "gridcolor": "white",
            "linecolor": "white",
            "ticks": ""
           }
          },
          "title": {
           "x": 0.05
          },
          "xaxis": {
           "automargin": true,
           "gridcolor": "white",
           "linecolor": "white",
           "ticks": "",
           "title": {
            "standoff": 15
           },
           "zerolinecolor": "white",
           "zerolinewidth": 2
          },
          "yaxis": {
           "automargin": true,
           "gridcolor": "white",
           "linecolor": "white",
           "ticks": "",
           "title": {
            "standoff": 15
           },
           "zerolinecolor": "white",
           "zerolinewidth": 2
          }
         }
        },
        "title": {
         "text": "Visualización del Dataset Digits con t-SNE"
        },
        "xaxis": {
         "anchor": "y",
         "domain": [
          0,
          1
         ],
         "title": {
          "text": "TSNE1"
         }
        },
        "yaxis": {
         "anchor": "x",
         "domain": [
          0,
          1
         ],
         "title": {
          "text": "TSNE2"
         }
        }
       }
      }
     },
     "metadata": {},
     "output_type": "display_data"
    }
   ],
   "source": [
    "# Aplicamos t-SNE. Perplexity es un hiperparámetro importante.\n",
    "tsne = TSNE(n_components=2, perplexity=100, random_state=1)\n",
    "X_tsne = tsne.fit_transform(X_scaled)\n",
    "\n",
    "# Creamos el DataFrame para Plotly\n",
    "df_tsne = pd.DataFrame(data=X_tsne, columns=['TSNE1', 'TSNE2'])\n",
    "df_tsne['label'] = y.astype(str)\n",
    "\n",
    "# Visualizamos\n",
    "fig = px.scatter(df_tsne, x='TSNE1', y='TSNE2', color='label',\n",
    "                 title='Visualización del Dataset Digits con t-SNE',\n",
    "                 labels={'color': 'Dígito'})\n",
    "fig.show()"
   ]
  },
  {
   "cell_type": "markdown",
   "metadata": {},
   "source": [
    "**Análisis de t-SNE:** ¡El resultado es drásticamente mejor! t-SNE logra formar clusters muy definidos y separados para cada dígito. Esto demuestra el poder de los métodos no lineales para visualizar estructuras de datos complejas. Recordemos la advertencia: las distancias entre los clusters en t-SNE no son necesariamente significativas."
   ]
  },
  {
   "cell_type": "markdown",
   "metadata": {},
   "source": [
    "## 6. UMAP (Uniform Manifold Approximation and Projection)\n",
    "\n",
    "Finalmente, probaremos UMAP, la alternativa moderna a t-SNE."
   ]
  },
  {
   "cell_type": "code",
   "execution_count": 29,
   "metadata": {},
   "outputs": [
    {
     "data": {
      "application/vnd.plotly.v1+json": {
       "config": {
        "plotlyServerURL": "https://plot.ly"
       },
       "data": [
        {
         "hovertemplate": "label=0<br>UMAP1=%{x}<br>UMAP2=%{y}<extra></extra>",
         "legendgroup": "0",
         "marker": {
          "color": "#636efa",
          "symbol": "circle"
         },
         "mode": "markers",
         "name": "0",
         "showlegend": true,
         "type": "scattergl",
         "x": {
          "bdata": "FUuPQYAKjUFarY9BK8aOQXm0jUGaf5BBSreSQasYj0HiNJBBBiyUQTdYlEFri5BBcAqQQQ9JkEGGao5BRoGSQYF4jUEdKI5BgbKUQRnjjkFJVJBBEEeSQejmjkEqr5BBTiaUQYG5kEHT64xB+GySQZ18jkHs1oxBgOSMQd4xkEG0ho9BHlCPQbpDj0FITI1BCqOOQegokkE7x5JBsX6UQYtmlEF+TZJBsrSNQWo4kkGx+ZNB4oaSQRPFkUHj841BTG+RQcifk0GfP5NBK0CPQWNQjkEiGI9BoxOPQa8UjkEVeZJBwbePQe9tlUF1QY1B6A+PQUuNkEEkOY5B8KuOQV5Zj0FtCY1BbqiMQYB7jUGrzI5BL3STQfZQj0HQoo1B9b6OQVpYjkFXeo1B5vGOQYWHkEHOMo5BCPSNQXZ3lEHvBo1Brb+OQf1tjkF33YxBAIaMQU8sj0HB+Y1B8SiOQewXkUGuk49B/UmOQYEakUGf7ZBBc/aQQUAVkUEl5JBBwdiRQdfbjkFPQ5JBjWSRQWi5kUGLp45BZbiSQYZ9kkFND5JBBIWSQeJrkkEqu5JBajWVQQNzkUFFQJVBJV6VQQTNjkGp+ZJBal6PQSLtjkElBI9BTdOMQduUjUG3h45BM4yNQZIAjUFHwIxBOeCMQQ3ajEFg6o5B+cOMQdwDkkFyKY9BDOGQQXNglUHOO45B4PGPQV5HkEHD6Y9BmjWOQeLtjkEFh5BBly+QQWi2jkFeppFBRlGTQW76jkFs8pJBH6mSQVsnkkHt3pFB42KVQRpNlUH2hpVB75GRQWX9kkEL+ZBBjdqOQcByj0GNY45BymSOQYr/j0H4VY5BFraOQdotkEHY845BXTKVQZq9jkEU+41BtWCTQZzakkFQqpNB9ZiPQUMFjUHSKpNBtquOQe7hjUHoUJNBQt+QQazEk0Fa4I9BwBSNQQ==",
          "dtype": "f4"
         },
         "xaxis": "x",
         "y": {
          "bdata": "aB4QQExTIUBCOE9AEJYIQBw3Q0BdGC1AsLdEQOvNUkCKzk1AkYYxQObAMEBc4k1AJI1NQJH/KkCiIj1ACK5FQPvCPUD3ky9Agg4uQOfbVUDH1FBAU0RHQDvJVUBeKU9AvuMoQJixTUB1Qx5A5mEsQONrH0BbiBxAOQcLQKOfJkDKJSFA3g4dQNirI0CFSiRAeigdQM0QNkB3vDVALxMwQBFUK0AcZ0lAqHw8QHZ0G0B6YzJAKkVHQFSEGUDoFDdA20ESQA8KOUBW6DpAMjknQOsYMkCBQx9A1T4pQMRQLUAzXiZACBcuQOAnJkCtsCdALOQ6QHKmI0AGDjFARBUqQMETKEBBwi5AOHQHQPm0PkD1hyJA0mM6QAF8SUC+dilAtuRTQMVGTkCagDpAxegkQBhjR0Ac3TdA4bwWQHqKHUCWUhxAj48eQLQsIEDeNDFAL8ImQNe6DkBTCUBAR+JPQNLvE0BeaRFANfIcQNZjIEAPNCBAtgUsQKcGF0C2ZhJAOXEaQN5WFUDfbyJAwC4RQGeNG0DSBxdAxmtBQKHqOEDjySVAjG1CQKY7REB64j5AMOkmQOTYIUDdTihAaIcmQKo9GECpGTZAgTAqQLtsEEDe1hFAw1AJQLxjCkDucQlAgl4HQLHnCkB5QwdAxFQHQJd3CUBHliJAg9MGQCliMkBveTpA4WVAQNDJJUBz71BAb1hBQLECSEAs3wpAoxAjQHJAD0DShUBAL4hEQDxoUED06BpAbnNBQEM3IEAJ1TdANU0xQF0ZK0BAuC5AUqAoQHEnJ0DVcSdA2IwkQHVmNUCjJhVA3rxNQHAZUEA/1jtA5m5TQJtlN0AIdFRA5RIYQFTmUkC/gFZAWnkmQH59U0DiKi1AquQ0QFapQ0DJmzRAzqwVQPbQQUBXIx9AAn8VQIJUPEB/0CxAVjAbQKNBMUCH9U9AaAc9QA==",
          "dtype": "f4"
         },
         "yaxis": "y"
        },
        {
         "hovertemplate": "label=1<br>UMAP1=%{x}<br>UMAP2=%{y}<extra></extra>",
         "legendgroup": "1",
         "marker": {
          "color": "#EF553B",
          "symbol": "circle"
         },
         "mode": "markers",
         "name": "1",
         "showlegend": true,
         "type": "scattergl",
         "x": {
          "bdata": "i3aRwNCjrcCvgKjA9gWtwHZEpcAUu6fAHLmhwGuYqMB0TafAS+OswIvSnsClXYXAOfWvwPu6rcCpIa/A91+xwGu3rcB/tbDAGECowOVIsMCXa67AkY+wwAuNsMC2hKjAGyGvwHiBq8D0aoDAKGOvwIhOd8Cmu3LADSt/wCApsMBjqIXAiXyCwBZ3sMC0ooPAkEyOwHwDkMDCcHfAWmmpwGkYocC9U6XAHamnwLfHocD2/63AYw2nwD/wocB6MKHAzJyqwPySo8AOSqPAqpmlwGItr8AnNK7AMyaswFKerMAlVKnAUautwI78qcCsF6rA9WupwJtkqMBG66nAo6hswBH/r8ArWHfAzv9xwGCPd8DljHLAuIZxwBmqg8DG8XLAhHSDwKydcsDgi3LA0XVvwMbUa8CUCHDAWuOQwGYbj8CbsYXA6/ZqwG1+csCSQ63AHeJ0wFYpdMCtE4HAU6yFwOdihMAu14zA6oJ3wC/ErsCu463A9r2twBIqr8Ap8K/AJ8evwBS5r8AsJrHAIx+uwPdOr8AkQK/AmF+vwAmNr8DQJG7AxkxwwKzmjsDEZ3PA522JwLHCdsD6fY/AS9R/wLqajsAUUnXAzdSDwChqhMCJv4PASLCgwElmo8DaNZXAya53wHL3nMCZzpHAy0SBwCb0kMCBqJXAgQuFwOBggsCpo4LAeuGTwMOsqMCSWpbAPH2wwIoykcCunJLAYJSlwNgokMDqZKHABzWQwExIksDDApDAGVGJwApWjMCFLKjA6lmpwE22qMCm0azAAk2swHfaqcCnUarAjgCrwEz2qMA+gqjAP26qwNfYqsA6UqrA5taOwPIAhMCTX4HAWOySwD2ij8Au94TAr2WOwLIkj8ByaJPA/GCTwB7ikcAC7pLAxvSSwJyTcMCtemzASH5ywFyja8D7zHTAO9hxwMRpdsBdNW3Afox4wL6Wc8CuAHPArKFswOnVbMA=",
          "dtype": "f4"
         },
         "xaxis": "x",
         "y": {
          "bdata": "/8lbQNCu3D+ZYtY/BGbfP4yY6T8iD9w/T371P9RB3D+nTu4/HeHhP97XCEBv/lhAS/rYP6xFrj/0sck/pgfAPyRvuD9qRrY/qOfHPyRd2z+tlrw/pQDjP971vD+KJss/h0/ZP/UNyT8jzGVAulbmPxFya0B7aFxA86twQCfN3D9AJVxALj5sQJJG9j+dEm5A+TlnQEPzbUAe6FNAlTajPxF76j8CUdM/4+rKPyMw5z+2fCJBAEbOP4hQ8T8B+PQ/VwfcP2SX3D8a+ts/e5bPP8tRIkEbsyJBHjUhQbhtIUEpTB9BwRwiQU3sH0Hd1R9BnY4fQdkHH0HgzR9BqrlkQIbzIUFVpmRAiF5ZQBnfU0BIZmxAmbJsQCuZckC7M1xAYTNyQJ31WECdxVhAyrVeQArzYUBarmRAXpNsQOykcUDSVHBA6lhrQN4KXkA8+SFB0G5yQLS6VUB2bmNALxtbQDjOW0AY/m1ApopxQNuQIkE2UiJByWUiQcomIkFo5iJBUusiQUFvIkHNhiNBobIiQY+TIkEPjSJB51MiQa3tIkFJHXJAcQ5tQHiwaEBCBWtAVN1fQKRrV0BwAGlAqKZSQM+iakBzjG1Aa7dtQABDV0BnrldARDv6P9t17T9ENR9AAVpyQKuwCUAo4WtAJ+dUQHkvbUBdPR1AM7VYQLXRVUAjbFRAXO0fQAcFpj+j5RtAXkK6P+rRakBrhG5ANGLQP11cbkCo3vY/xw9xQP0dbkDFGmpAfvZbQEi8XkBTxaU/7wCiP0PyuT/VT6g/Q7OhPzilmT8gO50/U6ubP7jmnz862bs/2TShPxIAnD9AJZo/S1hmQGs6T0CDVVJAk55uQAxHZkBXO1NAdvRlQGHpZkCj6m5A/R1uQDtba0AXb25Aj9xuQFPWWkARLmhASO5VQEbUXkDOM25Ay61ZQCP3aECcpWpAl4J0QADGbUCGpWBAi19rQLgnbUA=",
          "dtype": "f4"
         },
         "yaxis": "y"
        },
        {
         "hovertemplate": "label=2<br>UMAP1=%{x}<br>UMAP2=%{y}<extra></extra>",
         "legendgroup": "2",
         "marker": {
          "color": "#00cc96",
          "symbol": "circle"
         },
         "mode": "markers",
         "name": "2",
         "showlegend": true,
         "type": "scattergl",
         "x": {
          "bdata": "81QzwHLIlsAgJpPA2ew0wGQKM8AG4jHAVHI1wAJgNMCVfTLA/pt2wOZCgMB0oTXAsPo1wPBvb8AlxoHAcciPwFEWhcCjs4HAQNl+wNeXhMDCBJHAPn2DwNGSgsDc+HjAH5tuwKEwhcBRSYfALNaFwI6rdMB2p2jAG4WDwI6+hcACIHPANKmFwOVma8DQkYTAFhuGwMCPacB142vAQHqTwHYQl8Ds1oXAdTWiwDIqicDvyIfA/xeVwN/0kcCrP4XAAEODwG6Xg8AVUITAnJo4wOXTpcBuI4jAOrOiwBVmi8AA26TAyVWkwKzOpMArbaXAxGWHwNBcp8AxnqXA/IyGwJuXpcBHU4bAiTuHwI0Ph8B/8YvAhaaIwOYmi8AgEI7ArkaKwIWxhsBm4GPAT36GwITIhsANh4XAYW5zwF1fasDZ0GLAZYGDwF3ZYMD5GWTAbZB8wL8HYsB7+l3A/FqSwKMRY8A2WH8+XvmEwMRodcAnjWLAkSx6wDhBc8DOIKXAiQihwFU8o8AekKXAbQBlwMhrlsD9iKXADRprwKGoesByApbAYX+mwPObpsCPc6TAlfOZwKFTpsAeSKHAJ45wwN2KmcDnnqjAfpNxwJQIosDtz4bAgSuOwKmth8D202LAah+FwJ6jfMC2O5LALIWEwNp3Y8CcuGPApObDPnqqpsD5K6rAfO+hwCISp8AuK6fAWTKqwMAUp8BrwYnANuOlwCNqp8DD26bA22ylwCyepsDvxYLAC8FxwDiaZcDMOmnAC5iCwGGUZMCjlG/A+UhswLQPacBTRGDAAFtrwDLukMCaKXLAAo+XwOfum8ArTprAkYikwGT2d8C7BKbAvwiGwPUIqMAeinLA6aiOwMzcocDcn4XA+baBwLcUgsCyF4DAIDBiwM+sX8B0X3DAVU9nwDiFgcB1q4fAhdFlwMyLhcC+s4PA",
          "dtype": "f4"
         },
         "xaxis": "x",
         "y": {
          "bdata": "iuaiQFkSDkFZAgxBPgSkQE8OokA2Z6FAVKGjQNzcokD3ZKFAX4UKQeQl90AKT6RA12ilQBWsB0GQEvxAHxUBQf7BAEGJFQBB+s0LQTKjCUGxIgBB1z/+QMMO/0BZpwtB/VEKQbU0AEFJKgVBzeUEQWE4BkGGjgVB9rz/QNqMBEHqxQdBHXoEQV0qBUFaMQBBrUMEQSy7BEHAMgpBFmwNQVFTDkGPuw1BjksTQYd1DEE4TwxBvHQNQed7DUGo0gxBha4NQR0oDUGfiQ1B3YSoQBv6D0FtmwRBwFoUQc5nBUFb7xJByLEPQYNvEkF4mxNBuWsFQTvlGEFSPRNBiAIFQaa7EkH4/fxAFwf9QGTH/UDPSv5A2wz9QJUb/EDwO/xA7kn8QO7L/UBtdgRBf0X8QKXE/EACl/xA6DgFQfmkCkGT6gVBQPz+QKPcB0FMZwVBFLsNQUPlBkFpgQlBUUABQZc9B0FrMNc+X4n7QCIzB0Ep2gtBpP0IQXFICkH6KRNBG0oQQduyD0EHIBNBmiINQRkODUE3XRBBuhENQe/4CUFi3ApBy14QQRBHD0H2VQ9BXWcPQYT0DkF4mRBBum8NQfBeDUFkZhVBIEEIQe6fD0HzXf1Aq8UCQRv3+0CLmQVBuZADQYYjBkHqugJBuTQAQdVRBUGI6wRBn5EXQJlWDkG/+xdBgB8LQR+WDkEaqA5BN38XQXnKD0GOCwpBK+INQQ9GEUH8fw9Ba6wPQTxLEEECog1B/j4OQbO1DUF6ZQ1BX6YNQV3VDUEwKA5B2eENQaXeDUHujAxBk0sNQVKwA0FwQA5BY3oMQRyVDkHYsA5BsQgOQfjXCUGEHQ5B70L+QMRbHUFqtgdBE4gMQUdKC0HkEQ1B0Zb5QAX6+UB07wxBwh8NQbdkC0Hv7Q5BdbAOQV5mA0FfLP1ApfMNQWGtDUH02Q1B",
          "dtype": "f4"
         },
         "yaxis": "y"
        },
        {
         "hovertemplate": "label=3<br>UMAP1=%{x}<br>UMAP2=%{y}<extra></extra>",
         "legendgroup": "3",
         "marker": {
          "color": "#ab63fa",
          "symbol": "circle"
         },
         "mode": "markers",
         "name": "3",
         "showlegend": true,
         "type": "scattergl",
         "x": {
          "bdata": "Cvm0P8aiOT8g5Bg/BYaAP1ZpRD9r62c/r2BZP5u0PD8jYkM/x4VRP5xyKz/KbDo/9xz2PvDIOj8rJkE/6Y8vP5wGMD945UE/A/pCP5h1Kz8670k/wt49P6GQXD+GK0k/ccUzP20dwj4D3Mw/V5qUP9mxhT/taYw/fr+2P1k+aj84w5g/yYebP3/ikz+5SGk/1yexP0ufuD/wwoc/gapCP6hrWD9mktw/94fTP0S91D/QeNw/ApbhPwi42j8lguM/Kd/eP2Q23j+hns4/VR7DP/Jk3j/5IEg9e5pWu/kKzL3LmyE9yvlZPC3+Hz/nNVO8wEBnPHY9pcCKAcc6N6LzvM89cjzhGrC8+7d/P7LTdD9boYg/o/QUPzEKZz97tX4/NHpaP6zBiD9oBnI/rzdrP0Cusj82zbo/HVCTP0TftT+C8J0/emGcP3Hqmz+Dq6A/GtCYP4/3DT+W6Bw/5HhlP3eYsj8L1Ik/RlegPxpPTD8+u70/UeDHP3Mqwj+ZRNE/JJHAPzJUzD8PJ8o/l8vSP7UazT9MSL0/xLnPP9Ogyj+vic4/3rNlP+BJYD9VBFM/aFsyP2ru2z5+Jyc/RUN8PyDSUD8muFE/7nhLP7xAjT6qhU4/2qpNP72qhD91nUQ/ZUtFP2shwj73NTU/Q6s+P2EKKT8llDU//ZA3P7uBNj+bv9k+IPR9P6h4PD8MmkM/rOY0Pxkmwj+qO4Y/+QRaPwMSYz8NeGU/lJ6CP4hCjT9YsTA/1eqXP/J6dD+WcmI/DnTaPxuD2D9Pz7k/hDSKP4ahwj8mBa8/5UXNP8lLuz9Zka0/5T2XP90MmD85sJk/EVGdP3+dSD/Vcz8/L2gwP3k32j6cPPM+d026PnQQXT5/oSPAYSo1PzNNSj993Vw/eSFDP8GEVD+hJrg/UJjdPl96qT+A3Kg+WM7APqibpj6Mrs0/5OW1PqvCxj4aByU/pc6XP4JKqT+4GFE/",
          "dtype": "f4"
         },
         "xaxis": "x",
         "y": {
          "bdata": "DEiNP3h0iz7T/BY/pQJKP+9JGT8BMSw/qnwUP4xFMT5RokQ+S7oXP9qWCj6AMDA+/+AcPipXIz6ptTs+KMERPrlK6z443VM+JXw9PuiGHT9EF1g+5uwYPg2P6z50pHE+hDcsPugI7D5i6JE/Y0OKP7PUrD+WypQ/qkZpP5okfD+OfpU//j2KP3eRkT9HVXc/SzFgP91dYT9Qpaw/fA1EPzlVgD/AcZ0/kSHJP6PArT9T7bk/CzmkP792oD/oOKE/sfuaP0LGnD9HBpg/1U1+P4tQnj9htFNAatpVQLIZWUB4KlRAVf5VQMKOhT9+t1ZAwFlVQH0qE0GPJFZAj3xXQHF9VEB2Q1dAhdOiP9NlqT8UT5o/oQaaP+zCqT/3IqY/uni3P1h1ij9FSqs/dcSvP3cDeD+Ia3Y/c3mLP9rDbD8thW8/ORldPxQrdD+wrms/aj9zP1yWQT8dxic/0x14Px2iUD8iBmA/NVd2P7iePD+Uz8A/KXqzP1i+jT8FRrM/GHeyP6xgtD9/X+A/aUfEP56M4D+3gL8/zYPKP5ctuD8kML4/QyDCPzcixj9p1rg/8herP9xWEkDM4JM/kvqxP/aFuz9wYMA/A7DBPzFrsz7jdcM/6YG8P9VOsT8UGJQ/JGDFP+YbfT4mSLI/efk1P711PD/gZK4++01HPogSKz9sghNA3rSdP9rdJz6d4ok+6FGTP3Dqnj86Ia4/X3hCP4JAmD9Y+7I/mHixP/x4oD+rOiM/RbGYPzKZrD+YE7Y/YiqPPyfXoD/WD3A/8uyTP0YMkj+p27c/d4akP1Qwqj+wRZg//NmUP/Mumz/aPLo/4HeMP8vpMD9Tblo/dL0cPzjDeT6cedk+IQtjPg5EVj4IM2tAvIwaP1aBJj/sjDg/db8xP+vJOT9yll8/vFPFPl1tRz9mmqQ+Vm3PPr9IvT7Sp4c/DMu3Pp3/4z71SBw/HU6LP2p+TD8Q0ac+",
          "dtype": "f4"
         },
         "yaxis": "y"
        },
        {
         "hovertemplate": "label=4<br>UMAP1=%{x}<br>UMAP2=%{y}<extra></extra>",
         "legendgroup": "4",
         "marker": {
          "color": "#FFA15A",
          "symbol": "circle"
         },
         "mode": "markers",
         "name": "4",
         "showlegend": true,
         "type": "scattergl",
         "x": {
          "bdata": "3xeVvhC+lL+JGMG9X0WUv/N9Kb8rb6u/CcqUwD92Qr4z7TG+DBmvv6Mnsr95xK+/8W+Xv32nPr0cWv49P9O3PQk1Ez5u6bA9ozsvPvC49j3mqjQ+qdoKPuSf3T2nj+89q6rpPQjotb9rmLK/X4a0v7C9ib9hOLG/fhibv3WctL90pIO/Ehnxv8IoCr+6FJe/E8irv/H5lb8f2eY9P1sGvyYyjD1VjVQ9jPALvgXb2T1O70u9hi05vuQZqj24OSk8HMq4PQmLFL14APk9DM2Pvy7srL8TBzC/xb2Cv3eCmb9OuKq/u5CKv4fifr8AEIO/fpM2v/sWnL/SuI+/WZ2Vvyn3zD1IsYI9k50QPdS/xLzdoX2/c3qrPTZ3nD0HupG/xnaiwBx9K7+8qnPA7Kk1v1C3xr/zoCC/xnH+vuDJ9L7RkRe/uv0vv5gxGb8ICgy/PzPyvqTXwr7zpSS/AEgZv5Ce776z+tq+8yIcv4kV7b7byyu/x/oHwDOzLL8nuie/pu7tvl6uH8BAowjAAYEpv5okFsDQ323A5asawA8TGsBfSy3AnkD1v1ASL8BuJQLAYRsywNZy97+p4fK/Xrq0v9cThL+PuQ3AWmKnv4Sd2r+TvKK/DqMRv1w7i7/6Cxq/ubMWv5bSlb9oLHG/xLV5v7V5Or8Imxy/7ioKwLQiQb+6H7G/0Eq9vrexy76LrcG+mVrSviVBwL5hAh+/UJYkv1kMvr4VPIu/h+cav9FoIL9hAR6/vxwqv9dHi78XdUO/s7Fsv5JVOr/Ue0S/1jFTv7JbK7+ht2y/YtB0vyrROr950a+/h8VJv4a16L6Fl7e/GDO4v5K1ub+g2Ky/WIe9vzVKIMCUTCDApXSnv71Ltb/4A7e/Ov23v8UUIMBT26u/Yq8Yvlojbb++j3+/C7hpwOayEsAqavC+r7T+vtnrFr9ezuK+LQK3vpMe8L61bAu/fK8avw==",
          "dtype": "f4"
         },
         "xaxis": "x",
         "y": {
          "bdata": "z1nWwDxG1MBOsNrA9b/UwDXL18Aym9jAF2UeQNxT2sBNmtnAZkzawNdk2sBtodrA6JjVwI+Q5MBGGOnAgInnwLH158D6kOjAJV/nwDHF6MDCAenA1JrnwJOP6MA5rOXApMfowOza2sCVpdvA4yjgwFIW1sDYV9zAcC/pwOuO28DOjtrATXjKwI1v3MBBKtbAyN7fwO8z1MDOn+jAUxTuwFhA6MBzZOTA0lzqwFQw58Crv9vAYDvrwGEM6MCjAN/A6M7lwJem3MACCOjAV6zwwHJ868AbWe/Axp3vwC7L48B6KevAaY3wwOEn8cDC3/DAkKHuwKIU3cAhZfHAVp3wwHDX6MAPnOjAbszfwLe65MBkydvA0OLowARk6MDa/O/AfcnZwL7v7MBa67TAKyvtwLMR58APH+3ARKrpwGys38CLc97A/o/twA5m7cAdrtfAbnLewCnm28B2dO3AK0rfwLJM4MAM9tvAwm3VwEWQ3cAfAdLA5YLDwASs0cCC3tHAdTvewFwRvMCkq8LAx6XTwLj8vsBwCbHANoW9wD6DvcDFKbnA+sHIwI37uMDQLcbA0k19wO2syMCS9cnAhpPXwBKp1MAinsHA0iLVwGD7z8AOztbAL7LXwP9u7cAw3tTADv7ZwF2508CgKNXAH4vVwEJV2sCn6NjAfqrCwCdr2MBp997AcJDZwC912cBqEdrAX2DYwPH92MAtINnAt0TZwBIr2cB4fdTAqlzZwArh2cCmudnADFbawPcs8cBaR+/ADCvxwDld4MDbeu/AJsbuwGxv7cCUqPDAXS7wwMU+78CLKunAUU7wwCye6sBKC93AEJzbwP995MBJad3AHDvkwNiiTUDG8ktAQqzewC3s28DMytvA0TrowGuUS0C0VN3Avr3VwJja18DbtNXAvMGuwMWcv8AtjdrA0THbwIsC2MAFp9XAeyjVwPQl28ChvtfAFqLZwA==",
          "dtype": "f4"
         },
         "yaxis": "y"
        },
        {
         "hovertemplate": "label=5<br>UMAP1=%{x}<br>UMAP2=%{y}<extra></extra>",
         "legendgroup": "5",
         "marker": {
          "color": "#19d3f3",
          "symbol": "circle"
         },
         "mode": "markers",
         "name": "5",
         "showlegend": true,
         "type": "scattergl",
         "x": {
          "bdata": "EfU0QFFygkAP22ZAPPx3QO7VgUBa9ntAoktzQKlzdkDYv2NAXeZkQAAeZ0BaSH9AWmVoQALOgUCufoFAzC59QNkogUDXq4JAczqAQKL3gUDPooBAcj6BQIwUgEBpfXhAsLGAQOhugUBosIBAeLV2QNgZfUDyb35A28JnQB6DbUAOV39AKmbMPpObf0BaEHVAR4d0QEb5bEDRX39AbuKBQL0+gUAXQ4FAywWCQHuVfkCPIYVAAqGBQDxVgEBXHX9Axw+BQJa3gEDSCGdAodKAQAO7dUCQ8H5AUDKAQCUMe0AH6npAnOp8QDVyfkArwX1A7HN7QE8gf0Anyn1AhoF5QP/dgEBmIW9AWZxiQJJAYkA/O2ZAxLFgQGYYY0AfTmVAtGJjQGdSZUAIZWRAPQ1tQDHxXkBblntA8ql7QK0dfkD5mIBAvft4QOWVZED0JHpAwn1rQEdheED/U3lAAxZ/QPUffkCeKXxAfFx+QKHzf0C9fHlAcUheQGdAdUDiwH1ATBl4QGg8eED21X9AgUl1QNlcfEBy1npAxDd2QDhDgUAl82JA5+NvQCwOfUCnpmRAHLxXQClfZUAtj3VAdRRlQERLaUDynGdAQiBkQLtdXkAK62FAfg9jQMaUZEANB4JAuKNqQBwcgEBp435AtJZhQOFnYkAG4mRAqBWDQB5+eUACvn5AWzCDQLtOdUAqeoFAB0VlQImpdEA1JWRA4Xp3QLAscEBboGBAHEL+QJ/6ZEDD4GVAeapiQO1DeEBwc4BA95p0QCsrbkCfsnZAISuCQEskdUAJHoFA4vhzQLCsckDOCX9AsIFtQIBZdkCXNXZAz1xdQFXhXkDewllAFRRUQGXlgkCbc15A2+KAQPIcXEDDc2NAsVNVQHhveECFs1tA3JFWQBOackCUEWxAPiZvQEFtb0BozHtAFS55QGsdcEBXvnZAI8dtQJEUdkC0fGpAYgttQKtmbkA=",
          "dtype": "f4"
         },
         "xaxis": "x",
         "y": {
          "bdata": "PxElQFor4kB9bNBA9DW4QOSO3EAOrtRA1X/RQF08uEDB0L1AQ02+QE07x0AF/d5ATvPBQMyn4kDYv+BAWXHhQJwJ4EAcjuRAXrrgQDjd4UBeA+BAPwvjQCyz30CsRtpAJnDiQGEi4UAqs6lAcCXRQLJasEBDqq5AYo2lQBebmUA4ua9AQQoYQBF2r0BebKRA/WK4QIRipEChxuBAlHq6QAfnwEA5mb9ALLG1QJhAvEDY8blAAMm9QOuOsUCVvbxAR1nGQLOgxUCH6c5AHti9QEoYqkBLI6FAFQ2iQBVxsUAjqJxAUJ2jQFAmpUDI3apAJeShQFL/nkDcEapAz/SrQOsho0B25LNAtzDMQA8D0ECft7BAXzjQQA/kz0B0OdBAQoWxQGiosUBqs6pA8nfPQCKX0EDAaOFAKcrUQBRC30CAdOFA7PfPQFs60EC/P9NAFyHQQD6C0kB6adZA29PKQM4V3kBWosxAliXfQLZ2q0DeLJpAXXJvQMwGmEDLG6NA3cuWQLfblUA8JKNA5gCZQKM4s0B0y5dApbmVQELCpUBMGcxAEN3GQFlArkDy/cNAZ2rNQFXYxUCxk7hAp1C0QKGk0EC3Cb9A3IKxQNNxzkA2GrVAhHKpQMGoqED2oONA/SmzQAI9zEC/tN1A4RevQK8y0EC9465AbCrlQKUT3EC2JeJAsWTkQLWSnkDJZapALJSxQAizskDu6bZAcCG4QK6Ws0BWWa9Ab8RvQaTov0CjEMBAIbuoQBV/tkDIhqNAe/OdQOADmUBPXZ1ApZKlQBpcnUBnap5ANImeQNL/p0Drn59AZCyKQG1Fo0AoG7RASGzRQB9r0UCdgc5AAw/QQAcj5UAEFdFA8dfjQJjj0EDP475ABoDPQCpU00APj9BAjRfPQOTvpkC/A6tA+8SpQGcQsECdA7BARZS2QAL6qUAfCqhA1XypQLTgpECaAalAgpqqQJJvpkA=",
          "dtype": "f4"
         },
         "yaxis": "y"
        },
        {
         "hovertemplate": "label=6<br>UMAP1=%{x}<br>UMAP2=%{y}<extra></extra>",
         "legendgroup": "6",
         "marker": {
          "color": "#FF6692",
          "symbol": "circle"
         },
         "mode": "markers",
         "name": "6",
         "showlegend": true,
         "type": "scattergl",
         "x": {
          "bdata": "lPznQIVK40DKCe1ANTDjQGrU8ECV7+tAbTvjQAxpBEFC5ehA/NvmQBOgc8CCBe1AJpPlQK9HA0F/zOdAy6XnQMLcBEGX0wJBOvnpQLKzAkFGMgNBVxsFQe/p5ECczPlADeMBQQmdAkGYr/tAp/cEQabA8UANfAJBdPz+QAg6/UCPD+VA6wvjQOL4AkFTXfFA8K4BQW62/EBgVPNAQKHyQKUk70BDt/FA4FD8QEnM70DgmPZANJ/vQPV48kCfHu5A9LjuQPP/7kBmXkTA2UL3QKcX/kBrZP5APXL5QDiI+EBNUftAnaz4QARQ/0C0OftAsKf4QIRS+ED91fRAzD/5QKW69UDxHP5AEtT9QP+tA0Gc7ANBHvMDQWaJ8kCBrARBhmn/QIBv4kDUqQJBqdbkQDfP40Cvwv1Aa9cAQR+I7kDwZwJBmpnqQKcS7kAJ+AJBy1L+QAfLAkEfJe5AE8n7QLrx5EBiQgRBZsQEQb09BUFcSQRBMX4BQeYLBUFJf/5Ao1ACQUVkBEFGeQRB6IvmQLdo/kA3jQJBuNsBQQKYA0Ew7AJBSH79QBY840AnhPBA653rQDzE5EC9VeFABj7iQBip40B4WudAacftQKnh/0BvZQRB49T4QB8T5UDsseBAo2bgQGEe50DBM+5Abp7wQNKU6UBVOOZAO8TjQNeH8EDgbN9A/u3eQMs14kAQet9A6A7fQMml7UCb5+1AhX/rQBiv60C4EONAgIPfQGSZ5EARoeRAZgXgQOIYAkF5VwJBS1QDQZls/kDrZgJBCW8CQcvfBEFPIAJBlhwCQSVTAUE5vftAnZH8QF6D8ECgJuFA2SHiQLff5EA3rOdAoXHhQEGV40BC4ONARG7iQP0L40Dnd+JAHp/iQDSW5ECuOelAruICQfYKAEEFBwJBWjIDQSuaAEHoDvBAtR0DQVA1BUEqK/FAYVfrQNz09kDWrOZAFgcBQQ==",
          "dtype": "f4"
         },
         "xaxis": "x",
         "y": {
          "bdata": "4j9sQWe7dkEwk2tBNG9wQXKna0FlV3BBkpl7QfV6dkGlMW1B1UVuQRpBUEDKuWlBx61sQa6JdUFVCHRBpI1vQVwHdkGuOXNBbIBuQXn2c0GBAnZBXv10QcXpb0GASHRBq4Z7QWCKekH0dXZBdMB2Qa5edUGEcXtBunh5QRupd0FmeXtB8fZxQTIQfEGg3HVBQDV6QXMed0GtrnJBUm9yQQuEckGk1nFBNSFzQcuQckG6+HNBr15yQZoabUEvfXJBD4ZyQWi4cUHJjG1A1PlrQSXicEEvSG5BU11rQZJya0H1g2tBRcBrQQAscEG9WWxBGF1rQeKwa0GMdmxBFbVqQdlde0GKG3tBG3F6Qa1jdkFjdndBEOh6QS4Xe0H5knpBKKp6Qa4ofEHDZHtB3o94QYybeEE+OXxBkbh8QQTFckFjv3xBUG5vQdC/cUGWRntB/dV7QaHqdUFwEnRBd152QR/nbkEtzXdB9g94QSM+eEEx2npB1392QZgLeEFJo3RBVld4QROueEH9gHhBHJ13QbGqdkEZlHpB1Wx6QRI6e0HG83tBuDR3QQrAc0FVgG1BKld7QQ+wd0FMIH1BmEl8QZEqfEGVOHtBiI5qQXGceUFYbHtBCGdrQXBWeEE2J31Bajd9QZtWeEH4SG9BvDttQepSdkH42HdBFAd7Qb7zbkF7BX5Bh0d+QXz8eUG+9X1BylV+Qf0IckGmDXJBimxzQQ48cUHR7XRB2vh9QfcHdUG9Y3NBC5x9QfGnekHRUnxBdOJ7QZJockGOqHtBhNB6QbQBekGQ8ndB0ll7QRMfekFAFHdBT0J3Qa3kdkFqT3NBrSZyQfS6bEF7nnJB+I1yQeIuckHHmm5BvLRzQdW2ckE+aHBBKth4QYY5bUGXqWxBZLlyQamrd0FFfnJB0/5zQYefdEG2wGtBByR0QYvGdUEZP2tBbcVsQc5oa0EqTW1BfJF2QQ==",
          "dtype": "f4"
         },
         "yaxis": "y"
        },
        {
         "hovertemplate": "label=7<br>UMAP1=%{x}<br>UMAP2=%{y}<extra></extra>",
         "legendgroup": "7",
         "marker": {
          "color": "#B6E880",
          "symbol": "circle"
         },
         "mode": "markers",
         "name": "7",
         "showlegend": true,
         "type": "scattergl",
         "x": {
          "bdata": "+G6fwC7RqMCzSJHAKciiwGMipMAGtpLAN/mowOW5pMCAgJLAPyepwN5OpcAORqrAv6GjwEXXrcDDq6/ApTKzwKvWksCHeZvAAHquwHETtMCe6avAdmazwEiulcCEeLHAMSizwIxHgMBEE6zAy998wPiircAD0JXAWnORwHZ3d8DDXKfA+DCpwGorssBCiLPANAGpwPRbl8A2HHrAvz95wEnndsAEq3XAXwWDwFITd8CKOnfA0ERywB1Ui8ByQDXAfPJ3wMwKfcAB/4jANdCswBZKo8DlT5DApDumwBfrosCQA6nAAaeOwBWap8DAsKPAaqaswF9IpcCyVq3AHxqiwG+Oo8AK9YzAj9twwFiMRcAAPljALHyRwLVIkMAV65DAXKtvwP3NkMBNUZDApzKQwE6ZpMAdl6bA4zOswLVTrMC/0bHAHQOlwEyss8CIO63AiBOtwHexl8BFd7LAlTqvwLTIrMBy/6zAVyqXwJN4osB9KZjANL6ewK53lMCiBqDAA9+ZwJ2toMACJJrAtw9/wCuRn8C3J5/A0XagwDpVnsBD2J/A9qWcwBo7p8AfrZ3AyTqbwBsdq8BhMZ3AOPCgwA+OicB1MK7ANCGNwKnKqMAYTZ3AS1SPwBRsrMDNH6fATbOlwLjJpcClu6vA/pyswJ1YqMBbLKrAj7WSwDBXlMAQrq3Aa32kwK/KpMBsZKTAa5CkwOQxpsCPnajAkoupwIX1ssCDpKbAtSywwFjEk8BcSaTAHwOWwEQTlMDyvZTA6zqhwKFKpMBmm4fAgdaWwKhSo8D++6TAsYqhwJxBlsAaX5bAfhWWwGaDrsDcmqzAemKswMeCrsBVUK/ApeGuwFa2rcBTbbLAT32uwAaPqsCIvLDAOCODQMnfosAr0JrAWtmiwAo+mcA0/JDAhamwwAq5ssBgebPAGLmywNyHqMB3UajANmCbwGZcssA=",
          "dtype": "f4"
         },
         "xaxis": "x",
         "y": {
          "bdata": "eUbYwKtXxsCnq8vAe0HJwMXA38CttcrAaK3GwC272cADIMrA7QbHwBXCx8Bous3AprTKwM3Sz8AXO9DA8qnWwGPHy8DPfrrAMTfRwHOI2cB+iOLA2ELXwJlVz8AoH9nAkhTWwFzqtMA9uNfA0bCzwPZL2MCE8bbAKBnLwJuUssCkMsTAKVXGwJeF1sDHmdTAFdTGwL4cxMDDPrDA6kmywPE8ssBudLDAm4mzwGwVsMCVo7LAuMSwwMtltMBpxnzASYCywO8ts8APPbPAg03jwH4Q3sD6+snA9MTHwPIi3MDxZuPAMpzFwNc73cCfPdzAgE7RwOzI2MAQ+eDA/z3bwP0N28AAc8TALYqxwKBjsMBr+qLA203MwLL4ysCcbczAhr2xwMbvy8AGd8vAMonLwP/e2sAi7sTA+kPXwMzF0sAPq9jA3YjFwO7W18Cg2M3Ac+TNwHM8zsB0zdbAzuHPwOYMzsCZ3dzAbtW1wO/MvMC4cLXAu/24wKNntcDJHbrAu220wGivvMBLxrTA/M+zwHKTucBeWrrA3Vm8wMm5uMBwgr3AneS3wONKwsC9NrnAnW23wCOx3cCBR7jAo+q6wNRft8AK0dbAsgS2wF/I48BzpMvAAa3JwLaA48D4LOHAttbbwDJi4cDFoOTAJw/iwLrA2sBl8+XAB3LNwFiMzsCLDefA3pDIwH1OzsAGD8LAzt3ZwPBWzsBR3uPAe+njwJhH2MCU5MTAi5DVwJILzMA+LdvA3wO2wOgltsCQ3bbAEYe9wA8uwMB8XbXASMO2wPapwcAoaMLAHTm+wJMotsBxcbbAle61wE7B5sCZwOPA6eXYwFYV5cCd++XA/fzkwIGh4MDRRdrAzkrnwDn41cBzctnA00bmQM4p28DsYcjAtajcwGVptcA9BMzA3UXUwOBZ0MAeZtbAIqjUwDwf0MDl993AGGXOwMMi18A=",
          "dtype": "f4"
         },
         "yaxis": "y"
        },
        {
         "hovertemplate": "label=8<br>UMAP1=%{x}<br>UMAP2=%{y}<extra></extra>",
         "legendgroup": "8",
         "marker": {
          "color": "#FF97FF",
          "symbol": "circle"
         },
         "mode": "markers",
         "name": "8",
         "showlegend": true,
         "type": "scattergl",
         "x": {
          "bdata": "q6EOwIKEK8BGBCbAtJgrwL9AIMDumS/Ar9AnwK/TLsBS/THAeNA2wCRTNcBjsTrAyY6BwGufF8CR6ALA+UM2wIqMGMAL3kHAtR8YwG16P8AFnSjAFnA7wDbqLMDnSSrAWYUqwOalK8A+y7a/0gcVwCSWD8B1vQPAs4Dkv6w/q78RdMu/2h4NwCJS5788k7y/4XvFv8SbEMBRZKO/4tQbwCZ1h7+Uwdm/on7Pv8zJmb9qqcu/AFnSv3lmsL/Quva/zC3/v9UhuL/XVcK/d3AvwNsUJcBb2SLASK4uwO1sJcC1liTAP6UlwMOMJsCPVCvAEN8twP1OJcBZ0CXA20AswBEy2r9T4QLAfVvYv1J+A8DpOu6/1sgLwPtDrr/ZrBPAZd41wJ2Nw79ngSrAFunjvw3DGsB866G/BE+iwOsbNMAbcqS/9D2Qv5O3h78Pyi7AmzKiv/imiL8EE4y/ap3jPxo5ib9LT6S/cmTRv4MByL8mBdW/VgnMvxpWv785AMK/3tHCvxEdnr/4+NC/cFCfvzelzr/zkRPAh6oiwDIQCMAGJfy//TcawNlzJMC5kgPARloEwI/oFMCPkee/8KwZwP0gEMCqpgrANs/FPva8KsCpfCnAuM4VwNyqKcDuLx/AjWwWwMh5J8B67cc+SosxwHLCIsA/yinAZx8rwONKH8AvSLw+QwQnwIH0KMCdSDLAyCEowMMAHcB3qyvAC9IlwA/gNcCElynASbgnwOo9nr8yeJu/IbOlv/MdnL9ExZy/XAuMv4Kfkr/DXpO/UQeHvyzxhr/VyY2/phGGv1j7jb9NKZPAxuo/wLwlOsBRaCzA3mwnwIdHLsCr/DPADpc0wJZMM8DoIh7A8cwYwInPGMBl+uy/E6cWwN78F8BKQRnAuaI3wJeoE8BauELA/Z9NwLimMMBOCAvA",
          "dtype": "f4"
         },
         "xaxis": "x",
         "y": {
          "bdata": "xPeBQI7EbEB7BntA41drQJI6eUC/F35ArsdfQIGPYUAI5nVAxEN0QChlgUBNsWRA3QVWQAzpfEDLYnlAE0+EQFC8fUBYd2tAhdGDQCIBaUB8kJFAitJ/QGT0g0A0m4VARrqPQPbhe0DjsnBA03heQMnZYUBL53xAugBzQPkEbUDzZXNAxA9yQP0Pb0CvZHBAYSpqQFw/YkAZwGhAtPF0QIHrYEB4gnFAA8t0QL4QaUAsd25ASuV1QAUZb0BHLHRA5HByQC0Db0BeM3JAo0ebQPsGmkDXEZlAaxqdQBZUmkBBe5pA9JmaQEf2mkA+XZpA0DadQG+GmkDVzppA+oycQBhod0BtpGdA6eR4QJebaEBymWtADi9kQBg8bkBc2GlAEqdxQEaGcEBgn19A/79/QMihYEAPFYBAVf7xP7igbkBT53FA1/lkQIHHYEDQdXxAgzd+QMwYYUBQG2NAMruhP8+JYUCqjIBARcZwQFQtdUAJ43RAw79zQMw7c0DN+nJAablwQG6La0ACjnVAeqRrQIq7dEAjNmBArPNjQKz2fkD1YnxAAs2BQFOVZEBnM39AYZV+QNiZXkBkFn5AXbB7QI8ifEDfzn5AYUcXQEg5YEDoqGdA+0NfQGCGakBtoVJAHHVbQIFbakAbkRZA+vliQD/DdEBiQmxAc6drQID+Y0AcahhAay5sQC9TeEDRI3pASMVhQKCMfEAWAW5Auv10QCzQZUDQzF1AJelvQD4na0CEZ2lAYjNvQFL9Z0BkEmhAKA9iQDYiZUCv1mVA6wJhQFHUYEA6cmNAIvhfQOIKY0BEhyJAWwZeQAaOg0AI5I5Af45gQOGHjEDEF4lAApmGQNzShkB5Qn1AQilzQMp1gUAedn1AzQVeQOt1XECO/oFAaed3QAT7f0DA1XdAjzR6QOEffkDYEIBA",
          "dtype": "f4"
         },
         "yaxis": "y"
        },
        {
         "hovertemplate": "label=9<br>UMAP1=%{x}<br>UMAP2=%{y}<extra></extra>",
         "legendgroup": "9",
         "marker": {
          "color": "#FECB52",
          "symbol": "circle"
         },
         "mode": "markers",
         "name": "9",
         "showlegend": true,
         "type": "scattergl",
         "x": {
          "bdata": "hjc8QLzHP0Ar+TtAfKk8QE4rPkAaIF1AB/4fwEurNEAoUEtAAyY4QDyAOkBnPElAHghHQGXPOkBKnThAQnI3QIFNNECfcjpA0eM6QEbaOUDpRFFA0hRQQOikN0BuJlFAVaJBQHufM8CQ/TLAm15bQLEQO0B9YlNAAvRoQG/bNsCzxjLA3/UywCyzNMBXVErAQVFLwJZ5NMBl9UVAo7M8QLnOPUC3AUtAK+VRQI6SXEDBa11ACYlRQHf/U0AtNlBA8tZUQO5ZVUAa4lJAlklqQBm0ZUDYI2hAfOoTwGOvSkDKQWpAwiJhQDlIb0AxN2pA5RloQKyBWEBM31dAeCZAQPnGQsDljUvAnMRKwOwCSsCFOUrAfo5KwNU+SsCvvErAjCpJwBDLTMAYjVHAUHxFwMN3TMCAv0RAbWBHQGKfO0AKHkVAUHV0PQD0UUBeTT5APohNQKg6SEC5HzxAYoBNQBIMVUByUklAyAFPQAKDY0CkOFtAEUFiQKFKWEDB8lBAyX9MQOuDUECQakxAiP5lQGwHXkB1fF9AKxVjQBaJqD+/+U5AiUpTQHCQT0CJq09A88RWQL7IUEAtKhbAAWdKQNTNREAYBUJA1LFLQAz3Q0ByRVpAW5zeQLWSWUAzlGtAe+NgQEjXbkBXmTxADYZWQBLAbUBKy1xAFNpXQIbmW0B7vFRADl9kQPf3akB/lm5A7fxiQDS4SEDXQm9A/Lk5QAh/VED+6VJAPpZmQFyVZkCiuWJArfpiQII5XED5Ol1AMRBeQG+lXkCmtl1AhuhTQDVSX0D6GF5AkUpcQCAwXkClRFxAatBeQBrjScCoD07Aq0p1wEsRTcAGAjfANmNUQOMBScCEAzlAJzg2wOg6NkDTIlg/6M1SQOU+NsAgWmNANX9ZQM/YP0AnSElAf1ZaQEYXXUByg1tAbQ1GQF24WECTJVlAn6Y3QAg2TEDDq0VA",
          "dtype": "f4"
         },
         "xaxis": "x",
         "y": {
          "bdata": "yIslQB6WQUCjQT1Ah/BAQIJSSkCzky9AOa9LQDdGKkCf6xVA1HQ4QO7iOEDyeRZAcVYGQNcQMUCI8SFA55gnQP0iK0A+rjFATLs3QHZqJEAi6BhAIzgYQCb3J0BIyCdAHPcfQD7sesDnAHzAWw0TQLkUNkBRYBlAyEU0QNksfsBTXXrApIJ6wOY3fMB+EpvAxmOcwBQ2fMASAgVAOvcyQATLM0CPZy9AnH8wQEJvLUAcWCxAp2otQL7yK0A/GTBAwpIrQGgeB0BgUihA8AAxQC7bJUDdNjtAG/5wQFbECEAMzjVAzb8OQMo2LEAhMjRAdm04QAmIOEAajRBAMhEzQI9tqMBS05zAJoacwGIZncAoW5vAxCOcwMtxm8C7yJrAKQCbwLwen8Din6TAr5KjwBcpnMByZjpAdykZQKiQN0Da+ARAXEhUQHDFCUAOPTVAV8QjQHJPB0AlADZA/1QHQOAjB0BKEwVACOZFQFEkOkB810RArg0cQO28MED8B0JAfahFQMVpSEDMNDxA8Z0+QDZRIUA7JkNAZJA5QF9Klz9ak1NAf2diQJU+FkCIqlFAhlETQAVCV0DsUVpANOBQQE0ZG0D55CBAtSZTQCHKGkDVbSxAhYB+QT9JKkD1SChA84IWQJTcLEA4GSNAYfEXQDi1K0AuJxZAIKUYQBMoD0Dx9BlAmR02QAP3KUDKCSZA3HcXQNCGJECJiTBA/B0xQJliI0BlOyVA9MMXQPiCGUCupgtAhQEVQE/gC0B7DDlAQPg1QN/JDUDvATZA3EdCQIUnPUC3bhBAtwBAQMvJK0D1cwdATfMLQMxXm8AlBJvAryyywKnpm8BPm3/A+AHQQFsqmcBMpThAcvB9wDbtL0AsPkk/4RvQQCHyfcA3tThA5lkgQE1TOUBIIRZAHPsOQITPDEA8dyxAZuMkQI8BKkBOKx9A29oTQFekGEAknyBA",
          "dtype": "f4"
         },
         "yaxis": "y"
        }
       ],
       "layout": {
        "legend": {
         "title": {
          "text": "label"
         },
         "tracegroupgap": 0
        },
        "template": {
         "data": {
          "bar": [
           {
            "error_x": {
             "color": "#2a3f5f"
            },
            "error_y": {
             "color": "#2a3f5f"
            },
            "marker": {
             "line": {
              "color": "#E5ECF6",
              "width": 0.5
             },
             "pattern": {
              "fillmode": "overlay",
              "size": 10,
              "solidity": 0.2
             }
            },
            "type": "bar"
           }
          ],
          "barpolar": [
           {
            "marker": {
             "line": {
              "color": "#E5ECF6",
              "width": 0.5
             },
             "pattern": {
              "fillmode": "overlay",
              "size": 10,
              "solidity": 0.2
             }
            },
            "type": "barpolar"
           }
          ],
          "carpet": [
           {
            "aaxis": {
             "endlinecolor": "#2a3f5f",
             "gridcolor": "white",
             "linecolor": "white",
             "minorgridcolor": "white",
             "startlinecolor": "#2a3f5f"
            },
            "baxis": {
             "endlinecolor": "#2a3f5f",
             "gridcolor": "white",
             "linecolor": "white",
             "minorgridcolor": "white",
             "startlinecolor": "#2a3f5f"
            },
            "type": "carpet"
           }
          ],
          "choropleth": [
           {
            "colorbar": {
             "outlinewidth": 0,
             "ticks": ""
            },
            "type": "choropleth"
           }
          ],
          "contour": [
           {
            "colorbar": {
             "outlinewidth": 0,
             "ticks": ""
            },
            "colorscale": [
             [
              0,
              "#0d0887"
             ],
             [
              0.1111111111111111,
              "#46039f"
             ],
             [
              0.2222222222222222,
              "#7201a8"
             ],
             [
              0.3333333333333333,
              "#9c179e"
             ],
             [
              0.4444444444444444,
              "#bd3786"
             ],
             [
              0.5555555555555556,
              "#d8576b"
             ],
             [
              0.6666666666666666,
              "#ed7953"
             ],
             [
              0.7777777777777778,
              "#fb9f3a"
             ],
             [
              0.8888888888888888,
              "#fdca26"
             ],
             [
              1,
              "#f0f921"
             ]
            ],
            "type": "contour"
           }
          ],
          "contourcarpet": [
           {
            "colorbar": {
             "outlinewidth": 0,
             "ticks": ""
            },
            "type": "contourcarpet"
           }
          ],
          "heatmap": [
           {
            "colorbar": {
             "outlinewidth": 0,
             "ticks": ""
            },
            "colorscale": [
             [
              0,
              "#0d0887"
             ],
             [
              0.1111111111111111,
              "#46039f"
             ],
             [
              0.2222222222222222,
              "#7201a8"
             ],
             [
              0.3333333333333333,
              "#9c179e"
             ],
             [
              0.4444444444444444,
              "#bd3786"
             ],
             [
              0.5555555555555556,
              "#d8576b"
             ],
             [
              0.6666666666666666,
              "#ed7953"
             ],
             [
              0.7777777777777778,
              "#fb9f3a"
             ],
             [
              0.8888888888888888,
              "#fdca26"
             ],
             [
              1,
              "#f0f921"
             ]
            ],
            "type": "heatmap"
           }
          ],
          "histogram": [
           {
            "marker": {
             "pattern": {
              "fillmode": "overlay",
              "size": 10,
              "solidity": 0.2
             }
            },
            "type": "histogram"
           }
          ],
          "histogram2d": [
           {
            "colorbar": {
             "outlinewidth": 0,
             "ticks": ""
            },
            "colorscale": [
             [
              0,
              "#0d0887"
             ],
             [
              0.1111111111111111,
              "#46039f"
             ],
             [
              0.2222222222222222,
              "#7201a8"
             ],
             [
              0.3333333333333333,
              "#9c179e"
             ],
             [
              0.4444444444444444,
              "#bd3786"
             ],
             [
              0.5555555555555556,
              "#d8576b"
             ],
             [
              0.6666666666666666,
              "#ed7953"
             ],
             [
              0.7777777777777778,
              "#fb9f3a"
             ],
             [
              0.8888888888888888,
              "#fdca26"
             ],
             [
              1,
              "#f0f921"
             ]
            ],
            "type": "histogram2d"
           }
          ],
          "histogram2dcontour": [
           {
            "colorbar": {
             "outlinewidth": 0,
             "ticks": ""
            },
            "colorscale": [
             [
              0,
              "#0d0887"
             ],
             [
              0.1111111111111111,
              "#46039f"
             ],
             [
              0.2222222222222222,
              "#7201a8"
             ],
             [
              0.3333333333333333,
              "#9c179e"
             ],
             [
              0.4444444444444444,
              "#bd3786"
             ],
             [
              0.5555555555555556,
              "#d8576b"
             ],
             [
              0.6666666666666666,
              "#ed7953"
             ],
             [
              0.7777777777777778,
              "#fb9f3a"
             ],
             [
              0.8888888888888888,
              "#fdca26"
             ],
             [
              1,
              "#f0f921"
             ]
            ],
            "type": "histogram2dcontour"
           }
          ],
          "mesh3d": [
           {
            "colorbar": {
             "outlinewidth": 0,
             "ticks": ""
            },
            "type": "mesh3d"
           }
          ],
          "parcoords": [
           {
            "line": {
             "colorbar": {
              "outlinewidth": 0,
              "ticks": ""
             }
            },
            "type": "parcoords"
           }
          ],
          "pie": [
           {
            "automargin": true,
            "type": "pie"
           }
          ],
          "scatter": [
           {
            "fillpattern": {
             "fillmode": "overlay",
             "size": 10,
             "solidity": 0.2
            },
            "type": "scatter"
           }
          ],
          "scatter3d": [
           {
            "line": {
             "colorbar": {
              "outlinewidth": 0,
              "ticks": ""
             }
            },
            "marker": {
             "colorbar": {
              "outlinewidth": 0,
              "ticks": ""
             }
            },
            "type": "scatter3d"
           }
          ],
          "scattercarpet": [
           {
            "marker": {
             "colorbar": {
              "outlinewidth": 0,
              "ticks": ""
             }
            },
            "type": "scattercarpet"
           }
          ],
          "scattergeo": [
           {
            "marker": {
             "colorbar": {
              "outlinewidth": 0,
              "ticks": ""
             }
            },
            "type": "scattergeo"
           }
          ],
          "scattergl": [
           {
            "marker": {
             "colorbar": {
              "outlinewidth": 0,
              "ticks": ""
             }
            },
            "type": "scattergl"
           }
          ],
          "scattermap": [
           {
            "marker": {
             "colorbar": {
              "outlinewidth": 0,
              "ticks": ""
             }
            },
            "type": "scattermap"
           }
          ],
          "scattermapbox": [
           {
            "marker": {
             "colorbar": {
              "outlinewidth": 0,
              "ticks": ""
             }
            },
            "type": "scattermapbox"
           }
          ],
          "scatterpolar": [
           {
            "marker": {
             "colorbar": {
              "outlinewidth": 0,
              "ticks": ""
             }
            },
            "type": "scatterpolar"
           }
          ],
          "scatterpolargl": [
           {
            "marker": {
             "colorbar": {
              "outlinewidth": 0,
              "ticks": ""
             }
            },
            "type": "scatterpolargl"
           }
          ],
          "scatterternary": [
           {
            "marker": {
             "colorbar": {
              "outlinewidth": 0,
              "ticks": ""
             }
            },
            "type": "scatterternary"
           }
          ],
          "surface": [
           {
            "colorbar": {
             "outlinewidth": 0,
             "ticks": ""
            },
            "colorscale": [
             [
              0,
              "#0d0887"
             ],
             [
              0.1111111111111111,
              "#46039f"
             ],
             [
              0.2222222222222222,
              "#7201a8"
             ],
             [
              0.3333333333333333,
              "#9c179e"
             ],
             [
              0.4444444444444444,
              "#bd3786"
             ],
             [
              0.5555555555555556,
              "#d8576b"
             ],
             [
              0.6666666666666666,
              "#ed7953"
             ],
             [
              0.7777777777777778,
              "#fb9f3a"
             ],
             [
              0.8888888888888888,
              "#fdca26"
             ],
             [
              1,
              "#f0f921"
             ]
            ],
            "type": "surface"
           }
          ],
          "table": [
           {
            "cells": {
             "fill": {
              "color": "#EBF0F8"
             },
             "line": {
              "color": "white"
             }
            },
            "header": {
             "fill": {
              "color": "#C8D4E3"
             },
             "line": {
              "color": "white"
             }
            },
            "type": "table"
           }
          ]
         },
         "layout": {
          "annotationdefaults": {
           "arrowcolor": "#2a3f5f",
           "arrowhead": 0,
           "arrowwidth": 1
          },
          "autotypenumbers": "strict",
          "coloraxis": {
           "colorbar": {
            "outlinewidth": 0,
            "ticks": ""
           }
          },
          "colorscale": {
           "diverging": [
            [
             0,
             "#8e0152"
            ],
            [
             0.1,
             "#c51b7d"
            ],
            [
             0.2,
             "#de77ae"
            ],
            [
             0.3,
             "#f1b6da"
            ],
            [
             0.4,
             "#fde0ef"
            ],
            [
             0.5,
             "#f7f7f7"
            ],
            [
             0.6,
             "#e6f5d0"
            ],
            [
             0.7,
             "#b8e186"
            ],
            [
             0.8,
             "#7fbc41"
            ],
            [
             0.9,
             "#4d9221"
            ],
            [
             1,
             "#276419"
            ]
           ],
           "sequential": [
            [
             0,
             "#0d0887"
            ],
            [
             0.1111111111111111,
             "#46039f"
            ],
            [
             0.2222222222222222,
             "#7201a8"
            ],
            [
             0.3333333333333333,
             "#9c179e"
            ],
            [
             0.4444444444444444,
             "#bd3786"
            ],
            [
             0.5555555555555556,
             "#d8576b"
            ],
            [
             0.6666666666666666,
             "#ed7953"
            ],
            [
             0.7777777777777778,
             "#fb9f3a"
            ],
            [
             0.8888888888888888,
             "#fdca26"
            ],
            [
             1,
             "#f0f921"
            ]
           ],
           "sequentialminus": [
            [
             0,
             "#0d0887"
            ],
            [
             0.1111111111111111,
             "#46039f"
            ],
            [
             0.2222222222222222,
             "#7201a8"
            ],
            [
             0.3333333333333333,
             "#9c179e"
            ],
            [
             0.4444444444444444,
             "#bd3786"
            ],
            [
             0.5555555555555556,
             "#d8576b"
            ],
            [
             0.6666666666666666,
             "#ed7953"
            ],
            [
             0.7777777777777778,
             "#fb9f3a"
            ],
            [
             0.8888888888888888,
             "#fdca26"
            ],
            [
             1,
             "#f0f921"
            ]
           ]
          },
          "colorway": [
           "#636efa",
           "#EF553B",
           "#00cc96",
           "#ab63fa",
           "#FFA15A",
           "#19d3f3",
           "#FF6692",
           "#B6E880",
           "#FF97FF",
           "#FECB52"
          ],
          "font": {
           "color": "#2a3f5f"
          },
          "geo": {
           "bgcolor": "white",
           "lakecolor": "white",
           "landcolor": "#E5ECF6",
           "showlakes": true,
           "showland": true,
           "subunitcolor": "white"
          },
          "hoverlabel": {
           "align": "left"
          },
          "hovermode": "closest",
          "mapbox": {
           "style": "light"
          },
          "paper_bgcolor": "white",
          "plot_bgcolor": "#E5ECF6",
          "polar": {
           "angularaxis": {
            "gridcolor": "white",
            "linecolor": "white",
            "ticks": ""
           },
           "bgcolor": "#E5ECF6",
           "radialaxis": {
            "gridcolor": "white",
            "linecolor": "white",
            "ticks": ""
           }
          },
          "scene": {
           "xaxis": {
            "backgroundcolor": "#E5ECF6",
            "gridcolor": "white",
            "gridwidth": 2,
            "linecolor": "white",
            "showbackground": true,
            "ticks": "",
            "zerolinecolor": "white"
           },
           "yaxis": {
            "backgroundcolor": "#E5ECF6",
            "gridcolor": "white",
            "gridwidth": 2,
            "linecolor": "white",
            "showbackground": true,
            "ticks": "",
            "zerolinecolor": "white"
           },
           "zaxis": {
            "backgroundcolor": "#E5ECF6",
            "gridcolor": "white",
            "gridwidth": 2,
            "linecolor": "white",
            "showbackground": true,
            "ticks": "",
            "zerolinecolor": "white"
           }
          },
          "shapedefaults": {
           "line": {
            "color": "#2a3f5f"
           }
          },
          "ternary": {
           "aaxis": {
            "gridcolor": "white",
            "linecolor": "white",
            "ticks": ""
           },
           "baxis": {
            "gridcolor": "white",
            "linecolor": "white",
            "ticks": ""
           },
           "bgcolor": "#E5ECF6",
           "caxis": {
            "gridcolor": "white",
            "linecolor": "white",
            "ticks": ""
           }
          },
          "title": {
           "x": 0.05
          },
          "xaxis": {
           "automargin": true,
           "gridcolor": "white",
           "linecolor": "white",
           "ticks": "",
           "title": {
            "standoff": 15
           },
           "zerolinecolor": "white",
           "zerolinewidth": 2
          },
          "yaxis": {
           "automargin": true,
           "gridcolor": "white",
           "linecolor": "white",
           "ticks": "",
           "title": {
            "standoff": 15
           },
           "zerolinecolor": "white",
           "zerolinewidth": 2
          }
         }
        },
        "title": {
         "text": "Visualización del Dataset Digits con UMAP"
        },
        "xaxis": {
         "anchor": "y",
         "domain": [
          0,
          1
         ],
         "title": {
          "text": "UMAP1"
         }
        },
        "yaxis": {
         "anchor": "x",
         "domain": [
          0,
          1
         ],
         "title": {
          "text": "UMAP2"
         }
        }
       }
      }
     },
     "metadata": {},
     "output_type": "display_data"
    }
   ],
   "source": [
    "# Aplicamos UMAP. n_neighbors y min_dist son hiperparámetros clave.\n",
    "reducer = umap.UMAP(n_neighbors=15, min_dist=0.0, n_components=2)\n",
    "X_umap = reducer.fit_transform(X_scaled)\n",
    "\n",
    "# Creamos el DataFrame para Plotly\n",
    "df_umap = pd.DataFrame(data=X_umap, columns=['UMAP1', 'UMAP2'])\n",
    "df_umap['label'] = y.astype(str)\n",
    "\n",
    "# Visualizamos\n",
    "fig = px.scatter(df_umap, x='UMAP1', y='UMAP2', color='label',\n",
    "                 title='Visualización del Dataset Digits con UMAP',\n",
    "                 labels={'color': 'Dígito'})\n",
    "fig.show()"
   ]
  },
  {
   "cell_type": "markdown",
   "metadata": {},
   "source": [
    "## 7. Conclusiones del Taller\n",
    "\n",
    "- **PCA** es una herramienta rápida y útil para una reducción de dimensionalidad lineal. Es excelente como paso de preprocesamiento, pero puede no ser la mejor para la visualización de estructuras complejas.\n",
    "- **t-SNE** es excepcional para revelar la estructura de clusters locales en los datos, produciendo visualizaciones muy claras y separadas.\n",
    "- **UMAP** ofrece resultados de visualización de alta calidad, a menudo comparables o superiores a los de t-SNE, pero con la ventaja de ser significativamente más rápido y, a menudo, preservar mejor la estructura global de los datos."
   ]
  },
  {
   "cell_type": "markdown",
   "metadata": {},
   "source": [
    "**Análisis de UMAP:** UMAP también produce una excelente separación de los clusters, similar a t-SNE. A menudo, UMAP es mucho más rápido que t-SNE (aunque en este dataset pequeño la diferencia no es tan notable) y puede preservar mejor la estructura global de los datos. Observa cómo algunos clusters (como el '4' y el '7') pueden aparecer más cercanos entre sí, lo que podría reflejar una mayor similitud intrínseca."
   ]
  },
  {
   "cell_type": "markdown",
   "metadata": {},
   "source": [
    "---"
   ]
  },
  {
   "cell_type": "markdown",
   "metadata": {},
   "source": [
    "## ✍️ Ejercicios Propuestos\n",
    "\n",
    "1.  **Varianza en PCA:** ¿Cuántos componentes principales son necesarios para explicar el 95% de la varianza en el dataset `digits`? Vuelve a ejecutar el análisis del Scree Plot y encuentra el número exacto.\n",
    "\n",
    "2.  **Experimenta con t-SNE:** Modifica el hiperparámetro `perplexity` en el modelo t-SNE a valores más bajos (ej. 5) y más altos (ej. 200). ¿Cómo cambia la visualización? ¿Qué parece controlar este parámetro?\n",
    "\n",
    "3.  **Experimenta con UMAP:** Modifica el hiperparámetro `n_neighbors` en el modelo UMAP a valores más bajos (ej. 5) y más altos (ej. 50). ¿Cómo afecta esto a la separación de los clusters y a la estructura global?\n",
    "\n",
    "4.  **Visualización 3D:** Adapta el código de PCA, t-SNE y UMAP para reducir los datos a 3 componentes (`n_components=3`). Utiliza `plotly.express.scatter_3d` para crear visualizaciones tridimensionales. ¿Añade la tercera dimensión una mejor perspectiva?\n",
    "\n",
    "5.  **Impacto en un Clasificador:** Entrena un modelo simple, como `LogisticRegression` de Scikit-learn, sobre los datos originales escalados (`X_scaled`). Luego, entrena el mismo modelo sobre los datos reducidos por PCA (usando suficientes componentes para capturar el 95% de la varianza). Compara el tiempo de entrenamiento y la precisión (accuracy) de ambos modelos. ¿Qué observas?\n",
    "\n",
    "6.  **Interpretando los Componentes Principales:** El objeto `pca_2d` contiene los `components_` (loadings). Cada componente es un vector de 64 elementos. \"Reforma\" (`reshape`) el primer componente principal a una imagen de 8x8 y visualízalo con `plt.imshow`. ¿Qué parece representar este componente? ¿Qué píxeles son los más importantes?\n",
    "\n",
    "7.  **Aplicación a otro Dataset:** Carga el dataset `load_wine` de Scikit-learn. Este dataset tiene 13 características. Aplica PCA, t-SNE y UMAP para visualizar las 3 clases de vinos. ¿Cuál técnica funciona mejor para separar las clases?\n",
    "le? ¿Por qué?\n"
   ]
  },
  {
   "cell_type": "markdown",
   "metadata": {},
   "source": [
    "**Observación sobre el punto 5:**\n",
    "En mi PC observé los siguientes datos de accuracy y tiempo, como para darles una referencia:\n",
    "\n",
    "| Métrica                     | Modelo Original | Modelo con PCA |\n",
    "|-----------------------------|----------------|---------------|\n",
    "| Número de Características   | 64             | 39            |\n",
    "| Tiempo de Entrenamiento     | 0.0340         | 0.0062        |\n",
    "| Precisión (Accuracy)        | 0.9796         | 0.9630        |"
   ]
  },
  {
   "cell_type": "markdown",
   "metadata": {},
   "source": [
    "### Ejercicio 1: Varianza en PCA. Cuanto componentes son necesarios para explicar el 95% de la varianza en digits?"
   ]
  },
  {
   "cell_type": "markdown",
   "metadata": {},
   "source": [
    "#### Parece que aprox 40 componentes. "
   ]
  },
  {
   "cell_type": "code",
   "execution_count": 11,
   "metadata": {},
   "outputs": [
    {
     "data": {
      "application/vnd.plotly.v1+json": {
       "config": {
        "plotlyServerURL": "https://plot.ly"
       },
       "data": [
        {
         "fillpattern": {
          "shape": ""
         },
         "hovertemplate": "Número de Componentes Principales=%{x}<br>Varianza Explicada Acumulada=%{y}<extra></extra>",
         "legendgroup": "",
         "line": {
          "color": "#636efa"
         },
         "marker": {
          "symbol": "circle"
         },
         "mode": "lines",
         "name": "",
         "orientation": "v",
         "showlegend": false,
         "stackgroup": "1",
         "type": "scatter",
         "x": {
          "bdata": "AQIDBAUGBwgJCgsMDQ4PEBESExQVFhcYGRobHB0eHyAhIiMkJSYnKCkqKywtLi8wMTIzNDU2Nzg5Ojs8PT4/QA==",
          "dtype": "i1"
         },
         "xaxis": "x",
         "y": {
          "bdata": "N2fTGIzOvj8SuktsPaTLP5BgpCSnOdM/VEM9IFpi1z9kjtrLo37aP3lSZ8sUMd0/e8Qzu/O23z/i4uFVIvHgP6YKX5a/5uE/R0E1I/DW4j9I/JHT0rrjP4egv5bvjeQ/jiBpKFRI5T9dDpeAx/7lPxt1lqcnsOY/4A9Oo/ZM5z/dUSKPat7nP+0KllybZOg/c7najmPn6D+GdCkpYmHpPx/WqSHPz+k/Gfg1dwE46j/zztPYgpfqP9hExE0n7uo/viRjKQ0+6z+Qjtn/bYvrPwOqDbYg0us/XQssYqoW7D/dkzA5A1jsPxi/2Nwplew/XStcbJrQ7D/v6ZLaSAntP3DeSk/aPu0/A0o6tFhz7T+icIDtyqPtPwDOUBKV0u0/LWr/h3r97T9B+cfE8iTuP4xsgvMdSu4/UPM9Uchs7j/d3g/eC47uP9vC5FaTru4/Usy9i8fL7j/gk/1esufuP0KCi5ONAu8/A17rYwgc7z+9kbtArDPvP4nRKadSSu8/SDoI8o1f7z8EGxVpw3LvP805qpakhO8/RWkkV1KV7z/8o3yIVqXvPy91LwBbtO8/YtN8Fx3C7z8raQF1Us/vP/DP7UNt2+8/TE1g537m7z9wk990vvDvP6jlFR09+e8/AAAAAAAA8D8AAAAAAADwPwAAAAAAAPA/AAAAAAAA8D8=",
          "dtype": "f8"
         },
         "yaxis": "y"
        }
       ],
       "layout": {
        "annotations": [
         {
          "arrowhead": 1,
          "showarrow": true,
          "text": "95% de Varianza Explicada",
          "x": 40,
          "y": 0.95
         }
        ],
        "legend": {
         "tracegroupgap": 0
        },
        "shapes": [
         {
          "line": {
           "color": "red",
           "dash": "dash"
          },
          "type": "line",
          "x0": 0,
          "x1": 1,
          "xref": "x domain",
          "y0": 0.9,
          "y1": 0.9,
          "yref": "y"
         }
        ],
        "template": {
         "data": {
          "bar": [
           {
            "error_x": {
             "color": "#2a3f5f"
            },
            "error_y": {
             "color": "#2a3f5f"
            },
            "marker": {
             "line": {
              "color": "#E5ECF6",
              "width": 0.5
             },
             "pattern": {
              "fillmode": "overlay",
              "size": 10,
              "solidity": 0.2
             }
            },
            "type": "bar"
           }
          ],
          "barpolar": [
           {
            "marker": {
             "line": {
              "color": "#E5ECF6",
              "width": 0.5
             },
             "pattern": {
              "fillmode": "overlay",
              "size": 10,
              "solidity": 0.2
             }
            },
            "type": "barpolar"
           }
          ],
          "carpet": [
           {
            "aaxis": {
             "endlinecolor": "#2a3f5f",
             "gridcolor": "white",
             "linecolor": "white",
             "minorgridcolor": "white",
             "startlinecolor": "#2a3f5f"
            },
            "baxis": {
             "endlinecolor": "#2a3f5f",
             "gridcolor": "white",
             "linecolor": "white",
             "minorgridcolor": "white",
             "startlinecolor": "#2a3f5f"
            },
            "type": "carpet"
           }
          ],
          "choropleth": [
           {
            "colorbar": {
             "outlinewidth": 0,
             "ticks": ""
            },
            "type": "choropleth"
           }
          ],
          "contour": [
           {
            "colorbar": {
             "outlinewidth": 0,
             "ticks": ""
            },
            "colorscale": [
             [
              0,
              "#0d0887"
             ],
             [
              0.1111111111111111,
              "#46039f"
             ],
             [
              0.2222222222222222,
              "#7201a8"
             ],
             [
              0.3333333333333333,
              "#9c179e"
             ],
             [
              0.4444444444444444,
              "#bd3786"
             ],
             [
              0.5555555555555556,
              "#d8576b"
             ],
             [
              0.6666666666666666,
              "#ed7953"
             ],
             [
              0.7777777777777778,
              "#fb9f3a"
             ],
             [
              0.8888888888888888,
              "#fdca26"
             ],
             [
              1,
              "#f0f921"
             ]
            ],
            "type": "contour"
           }
          ],
          "contourcarpet": [
           {
            "colorbar": {
             "outlinewidth": 0,
             "ticks": ""
            },
            "type": "contourcarpet"
           }
          ],
          "heatmap": [
           {
            "colorbar": {
             "outlinewidth": 0,
             "ticks": ""
            },
            "colorscale": [
             [
              0,
              "#0d0887"
             ],
             [
              0.1111111111111111,
              "#46039f"
             ],
             [
              0.2222222222222222,
              "#7201a8"
             ],
             [
              0.3333333333333333,
              "#9c179e"
             ],
             [
              0.4444444444444444,
              "#bd3786"
             ],
             [
              0.5555555555555556,
              "#d8576b"
             ],
             [
              0.6666666666666666,
              "#ed7953"
             ],
             [
              0.7777777777777778,
              "#fb9f3a"
             ],
             [
              0.8888888888888888,
              "#fdca26"
             ],
             [
              1,
              "#f0f921"
             ]
            ],
            "type": "heatmap"
           }
          ],
          "histogram": [
           {
            "marker": {
             "pattern": {
              "fillmode": "overlay",
              "size": 10,
              "solidity": 0.2
             }
            },
            "type": "histogram"
           }
          ],
          "histogram2d": [
           {
            "colorbar": {
             "outlinewidth": 0,
             "ticks": ""
            },
            "colorscale": [
             [
              0,
              "#0d0887"
             ],
             [
              0.1111111111111111,
              "#46039f"
             ],
             [
              0.2222222222222222,
              "#7201a8"
             ],
             [
              0.3333333333333333,
              "#9c179e"
             ],
             [
              0.4444444444444444,
              "#bd3786"
             ],
             [
              0.5555555555555556,
              "#d8576b"
             ],
             [
              0.6666666666666666,
              "#ed7953"
             ],
             [
              0.7777777777777778,
              "#fb9f3a"
             ],
             [
              0.8888888888888888,
              "#fdca26"
             ],
             [
              1,
              "#f0f921"
             ]
            ],
            "type": "histogram2d"
           }
          ],
          "histogram2dcontour": [
           {
            "colorbar": {
             "outlinewidth": 0,
             "ticks": ""
            },
            "colorscale": [
             [
              0,
              "#0d0887"
             ],
             [
              0.1111111111111111,
              "#46039f"
             ],
             [
              0.2222222222222222,
              "#7201a8"
             ],
             [
              0.3333333333333333,
              "#9c179e"
             ],
             [
              0.4444444444444444,
              "#bd3786"
             ],
             [
              0.5555555555555556,
              "#d8576b"
             ],
             [
              0.6666666666666666,
              "#ed7953"
             ],
             [
              0.7777777777777778,
              "#fb9f3a"
             ],
             [
              0.8888888888888888,
              "#fdca26"
             ],
             [
              1,
              "#f0f921"
             ]
            ],
            "type": "histogram2dcontour"
           }
          ],
          "mesh3d": [
           {
            "colorbar": {
             "outlinewidth": 0,
             "ticks": ""
            },
            "type": "mesh3d"
           }
          ],
          "parcoords": [
           {
            "line": {
             "colorbar": {
              "outlinewidth": 0,
              "ticks": ""
             }
            },
            "type": "parcoords"
           }
          ],
          "pie": [
           {
            "automargin": true,
            "type": "pie"
           }
          ],
          "scatter": [
           {
            "fillpattern": {
             "fillmode": "overlay",
             "size": 10,
             "solidity": 0.2
            },
            "type": "scatter"
           }
          ],
          "scatter3d": [
           {
            "line": {
             "colorbar": {
              "outlinewidth": 0,
              "ticks": ""
             }
            },
            "marker": {
             "colorbar": {
              "outlinewidth": 0,
              "ticks": ""
             }
            },
            "type": "scatter3d"
           }
          ],
          "scattercarpet": [
           {
            "marker": {
             "colorbar": {
              "outlinewidth": 0,
              "ticks": ""
             }
            },
            "type": "scattercarpet"
           }
          ],
          "scattergeo": [
           {
            "marker": {
             "colorbar": {
              "outlinewidth": 0,
              "ticks": ""
             }
            },
            "type": "scattergeo"
           }
          ],
          "scattergl": [
           {
            "marker": {
             "colorbar": {
              "outlinewidth": 0,
              "ticks": ""
             }
            },
            "type": "scattergl"
           }
          ],
          "scattermap": [
           {
            "marker": {
             "colorbar": {
              "outlinewidth": 0,
              "ticks": ""
             }
            },
            "type": "scattermap"
           }
          ],
          "scattermapbox": [
           {
            "marker": {
             "colorbar": {
              "outlinewidth": 0,
              "ticks": ""
             }
            },
            "type": "scattermapbox"
           }
          ],
          "scatterpolar": [
           {
            "marker": {
             "colorbar": {
              "outlinewidth": 0,
              "ticks": ""
             }
            },
            "type": "scatterpolar"
           }
          ],
          "scatterpolargl": [
           {
            "marker": {
             "colorbar": {
              "outlinewidth": 0,
              "ticks": ""
             }
            },
            "type": "scatterpolargl"
           }
          ],
          "scatterternary": [
           {
            "marker": {
             "colorbar": {
              "outlinewidth": 0,
              "ticks": ""
             }
            },
            "type": "scatterternary"
           }
          ],
          "surface": [
           {
            "colorbar": {
             "outlinewidth": 0,
             "ticks": ""
            },
            "colorscale": [
             [
              0,
              "#0d0887"
             ],
             [
              0.1111111111111111,
              "#46039f"
             ],
             [
              0.2222222222222222,
              "#7201a8"
             ],
             [
              0.3333333333333333,
              "#9c179e"
             ],
             [
              0.4444444444444444,
              "#bd3786"
             ],
             [
              0.5555555555555556,
              "#d8576b"
             ],
             [
              0.6666666666666666,
              "#ed7953"
             ],
             [
              0.7777777777777778,
              "#fb9f3a"
             ],
             [
              0.8888888888888888,
              "#fdca26"
             ],
             [
              1,
              "#f0f921"
             ]
            ],
            "type": "surface"
           }
          ],
          "table": [
           {
            "cells": {
             "fill": {
              "color": "#EBF0F8"
             },
             "line": {
              "color": "white"
             }
            },
            "header": {
             "fill": {
              "color": "#C8D4E3"
             },
             "line": {
              "color": "white"
             }
            },
            "type": "table"
           }
          ]
         },
         "layout": {
          "annotationdefaults": {
           "arrowcolor": "#2a3f5f",
           "arrowhead": 0,
           "arrowwidth": 1
          },
          "autotypenumbers": "strict",
          "coloraxis": {
           "colorbar": {
            "outlinewidth": 0,
            "ticks": ""
           }
          },
          "colorscale": {
           "diverging": [
            [
             0,
             "#8e0152"
            ],
            [
             0.1,
             "#c51b7d"
            ],
            [
             0.2,
             "#de77ae"
            ],
            [
             0.3,
             "#f1b6da"
            ],
            [
             0.4,
             "#fde0ef"
            ],
            [
             0.5,
             "#f7f7f7"
            ],
            [
             0.6,
             "#e6f5d0"
            ],
            [
             0.7,
             "#b8e186"
            ],
            [
             0.8,
             "#7fbc41"
            ],
            [
             0.9,
             "#4d9221"
            ],
            [
             1,
             "#276419"
            ]
           ],
           "sequential": [
            [
             0,
             "#0d0887"
            ],
            [
             0.1111111111111111,
             "#46039f"
            ],
            [
             0.2222222222222222,
             "#7201a8"
            ],
            [
             0.3333333333333333,
             "#9c179e"
            ],
            [
             0.4444444444444444,
             "#bd3786"
            ],
            [
             0.5555555555555556,
             "#d8576b"
            ],
            [
             0.6666666666666666,
             "#ed7953"
            ],
            [
             0.7777777777777778,
             "#fb9f3a"
            ],
            [
             0.8888888888888888,
             "#fdca26"
            ],
            [
             1,
             "#f0f921"
            ]
           ],
           "sequentialminus": [
            [
             0,
             "#0d0887"
            ],
            [
             0.1111111111111111,
             "#46039f"
            ],
            [
             0.2222222222222222,
             "#7201a8"
            ],
            [
             0.3333333333333333,
             "#9c179e"
            ],
            [
             0.4444444444444444,
             "#bd3786"
            ],
            [
             0.5555555555555556,
             "#d8576b"
            ],
            [
             0.6666666666666666,
             "#ed7953"
            ],
            [
             0.7777777777777778,
             "#fb9f3a"
            ],
            [
             0.8888888888888888,
             "#fdca26"
            ],
            [
             1,
             "#f0f921"
            ]
           ]
          },
          "colorway": [
           "#636efa",
           "#EF553B",
           "#00cc96",
           "#ab63fa",
           "#FFA15A",
           "#19d3f3",
           "#FF6692",
           "#B6E880",
           "#FF97FF",
           "#FECB52"
          ],
          "font": {
           "color": "#2a3f5f"
          },
          "geo": {
           "bgcolor": "white",
           "lakecolor": "white",
           "landcolor": "#E5ECF6",
           "showlakes": true,
           "showland": true,
           "subunitcolor": "white"
          },
          "hoverlabel": {
           "align": "left"
          },
          "hovermode": "closest",
          "mapbox": {
           "style": "light"
          },
          "paper_bgcolor": "white",
          "plot_bgcolor": "#E5ECF6",
          "polar": {
           "angularaxis": {
            "gridcolor": "white",
            "linecolor": "white",
            "ticks": ""
           },
           "bgcolor": "#E5ECF6",
           "radialaxis": {
            "gridcolor": "white",
            "linecolor": "white",
            "ticks": ""
           }
          },
          "scene": {
           "xaxis": {
            "backgroundcolor": "#E5ECF6",
            "gridcolor": "white",
            "gridwidth": 2,
            "linecolor": "white",
            "showbackground": true,
            "ticks": "",
            "zerolinecolor": "white"
           },
           "yaxis": {
            "backgroundcolor": "#E5ECF6",
            "gridcolor": "white",
            "gridwidth": 2,
            "linecolor": "white",
            "showbackground": true,
            "ticks": "",
            "zerolinecolor": "white"
           },
           "zaxis": {
            "backgroundcolor": "#E5ECF6",
            "gridcolor": "white",
            "gridwidth": 2,
            "linecolor": "white",
            "showbackground": true,
            "ticks": "",
            "zerolinecolor": "white"
           }
          },
          "shapedefaults": {
           "line": {
            "color": "#2a3f5f"
           }
          },
          "ternary": {
           "aaxis": {
            "gridcolor": "white",
            "linecolor": "white",
            "ticks": ""
           },
           "baxis": {
            "gridcolor": "white",
            "linecolor": "white",
            "ticks": ""
           },
           "bgcolor": "#E5ECF6",
           "caxis": {
            "gridcolor": "white",
            "linecolor": "white",
            "ticks": ""
           }
          },
          "title": {
           "x": 0.05
          },
          "xaxis": {
           "automargin": true,
           "gridcolor": "white",
           "linecolor": "white",
           "ticks": "",
           "title": {
            "standoff": 15
           },
           "zerolinecolor": "white",
           "zerolinewidth": 2
          },
          "yaxis": {
           "automargin": true,
           "gridcolor": "white",
           "linecolor": "white",
           "ticks": "",
           "title": {
            "standoff": 15
           },
           "zerolinecolor": "white",
           "zerolinewidth": 2
          }
         }
        },
        "title": {
         "text": "Scree Plot: Varianza Explicada por los Componentes Principales"
        },
        "xaxis": {
         "anchor": "y",
         "domain": [
          0,
          1
         ],
         "title": {
          "text": "Número de Componentes Principales"
         }
        },
        "yaxis": {
         "anchor": "x",
         "domain": [
          0,
          1
         ],
         "range": [
          0,
          1.05
         ],
         "title": {
          "text": "Varianza Explicada Acumulada"
         }
        }
       }
      }
     },
     "metadata": {},
     "output_type": "display_data"
    }
   ],
   "source": [
    "# Ajustamos PCA sin especificar n_components para mantenerlos todos\n",
    "pca_full = PCA()\n",
    "pca_full.fit(X_scaled)\n",
    "\n",
    "# Calculamos la varianza explicada acumulada\n",
    "cumulative_variance = np.cumsum(pca_full.explained_variance_ratio_)\n",
    "\n",
    "# Creamos el Scree Plot\n",
    "fig = px.area(x=range(1, cumulative_variance.shape[0] + 1),\n",
    "              y=cumulative_variance,\n",
    "              labels={\"x\": \"Número de Componentes Principales\", \"y\": \"Varianza Explicada Acumulada\"},\n",
    "              title=\"Scree Plot: Varianza Explicada por los Componentes Principales\")\n",
    "fig.update_layout(yaxis_range=[0,1.05])\n",
    "fig.add_hline(y=0.9, line_dash=\"dash\", line_color=\"red\")\n",
    "fig.add_annotation(x=40, y=0.95, text=\"95% de Varianza Explicada\", showarrow=True, arrowhead=1)\n",
    "fig.show()"
   ]
  },
  {
   "cell_type": "markdown",
   "metadata": {},
   "source": [
    "### Ejercicio 2:  **Experimenta con t-SNE:** Modifica el hiperparámetro `perplexity` en el modelo t-SNE a valores más bajos (ej. 5) y más altos (ej. 200). ¿Cómo cambia la visualización? ¿Qué parece controlar este parámetro?"
   ]
  },
  {
   "cell_type": "code",
   "execution_count": 19,
   "metadata": {},
   "outputs": [
    {
     "data": {
      "application/vnd.plotly.v1+json": {
       "config": {
        "plotlyServerURL": "https://plot.ly"
       },
       "data": [
        {
         "hovertemplate": "label=0<br>TSNE1=%{x}<br>TSNE2=%{y}<extra></extra>",
         "legendgroup": "0",
         "marker": {
          "color": "#636efa",
          "symbol": "circle"
         },
         "mode": "markers",
         "name": "0",
         "showlegend": true,
         "type": "scattergl",
         "x": {
          "bdata": "EiVvwiV9UsJMUP3BPtJ6wno41MFhnTvC/tkswhfJ/8GTiwfClUk5wvFwL8L4sAfCj6QFwtYOScLU+BnCGsEgwh1pBcJ4LiPCEjE3wtC698EUxQPCqlEVwmDJA8Ly5gfCHYstwiSAEcKfJ1nC+npWwhVxTMJOpFnC/HGCwvvvO8L/O03CM6lNwo7USMJp/lLCnd5IwvKcUMLMrk3CyHMmwp9ZMcLizBLCbV/3wU+xHcKvKS/CJTEnwkYWYsJxvQvCuR1nwju5LsKqOhjCs+Aqwt8RI8Jp807CV8Imwnm5I8Ibz03Cb40wwktRN8INIkjCAAgmwmkRSsLWECLCRSMnwpehKMIJqwnClUuMwt20CsK0gUfCaJcywu9dBMKgKTvCtLEAwh0SA8L4TgrCDKNIwnzpFsKw5ATCckKDwhCBPsKIn1zC425Own9CTsJ0hwDCrjVYwgJ4dMIF7hzC/jTwwf9rXMIBLW/Cg3F0wv54UsKH4FLCpS1FwnPyXsJtCVzCgp5dwrk5g8LCw0HCW/5iwodOXMInyW7C4eEmwnyEN8IjhkjCjMMjwtYuJsLKryjCg0E9wrluR8I0bj3CnaM3wgyScMIC9UvCxGVBwuDPa8KVUGPCncmHwjV9f8JGooDCHIx/wn+ShsLSVYvCeSKMwhFRh8ILbUPC/NaNwp2LN8LI5CbCSdIpwjpCM8IBX9LBFQ4TwtsAE8KdCXXCzgpBwrThbMJoBxXCgD0owuQR0sE+D1XCftMvwrm6TsLshj/CzORJwjEaTsLAl03CR2Yzwn3FMMKKODLC2+1Owig6QMIQnljC6Y8Rws0IFcJ0KB7CFk7QwVwGLsK1u9LBuahywg9EF8LMkfDBhbc9wvS4/MGih0DCY7E0wmxqKMJmqhrCSc5swiMaBMLv5inCcSVqwhjh9sFtwFjCk05dwidgG8JT+xbCYRcGwg==",
          "dtype": "f4"
         },
         "xaxis": "x",
         "y": {
          "bdata": "ryYuwrNuBsIuBUXCwrBAwk1BKsIyWx7Ck7tPwjPiP8JlbEXCp0BfwrniasL9j0/CxixEwpnD3sFp9wfCvPtPwoaREcK5IgbCYC51wuYcOsLT+UDCE2xOwurePcJp6k7CTXFwwiusSsK91gHCdYBdwlg+/MEQ8ADC59s1wgE/HsKAERLC2FEVwgjt5sE0XAvC4Pj0wUNfYMI5/FrC2J1pwr9tccKow0vCFW4GwsascMIr6mjCZDxRwg9dQsK76QfC3KBEwh9LZMIIsGnCkh8JwqItBcJlvhvCZgn5wazUAMKO0z3C7OUmwutZhMJVfAnCekkewjXNLcLVmf3Bh9jywcnGB8I95hnCp4gOwh19G8LeQfPBiOVxwjMFLsI9qQfC5Ok1wn8UL8LMRgnC9AblwX93KcIMDCvC1Kwxwo3VgcJ7iP/B+yYQwmdnDsKpthbCwpAIwlvaQMKUaBDCBRwtwlNVUsJnbS7Cmm8Wwnt1OMLncTnCkWgwwgkePsJ6r1LCniI7wg3rMcItDlzC9/hBwi84OMLKdhfCNMhXwgjbQMIk/zPCmQ1QwiPmQMIhMEDCr/Z9wh7JMMJ5m3vCRpiEwjhsFsKQZD/CHfouwusoHsJiyR3C6D4OwsViPcK5QELChYM+woDGDsI1DgzCdCwOwuxsDsLE+O/BQcEPwi62QMJbLiHCyrEmwvLgh8LLqi/Cl60mwqg9KcI2a0HCXKMHwpOWIcJPlCPCpbslwucaL8IOoDrC44VRwmKSGsIXFFjC8JZYwhyqVsJnq1bCq9SHwlAMgsLMmYjC8YFTwn1+WcJyjVfCurkrwiX/MsJ+fQrCW/M1wutvJsIA9jPCqmoSwlc/OMK7KTjCDd2BwlS5M8LuCQjCwrlpwlMkUsKegmvC1R8jwu+YFMIc1HLC1BIVwsVKBsK5lV/C+epbwnEQbMLk6DrCdjsQwg==",
          "dtype": "f4"
         },
         "yaxis": "y"
        },
        {
         "hovertemplate": "label=1<br>TSNE1=%{x}<br>TSNE2=%{y}<extra></extra>",
         "legendgroup": "1",
         "marker": {
          "color": "#EF553B",
          "symbol": "circle"
         },
         "mode": "markers",
         "name": "1",
         "showlegend": true,
         "type": "scattergl",
         "x": {
          "bdata": "QUXbwZ/JCMIrUvHBjo3/wd69q8GRwL3Bi5GpwcfF8ME1jffBphr/wfJY28HQfvPBPQEIwj1i78HotwzCQ9MOwtpFBMJkEArCpk39wWCPCsL1YwPChEAQwuoPDsKacwXCzDIJwhzkBcIxEfXBvgAJwthWBsL5fc/BtiK9wVEmD8KTSwHCgtEHwksHCsJY7PfBYSUWwkC1F8J6+MPBzJbHwfm6w8EOkdrBFUX1wRAqwsGBACxCaH/vwQeovcF20rfBBkX5wXSk1MHgjcbBe63ZwVLQOELs6C5C5/VFQpXoUkIUAlBCP7s8Qv7kU0I+5U9C3FJOQmJhR0LEd1VC5LygwYL2NUIA+8TBCr3EwTxxxMFTW8nB1zLJwZQd9sEfZ5vBmZPzwVoFicHYhsLBcBSbwaGzpcFVZMfBTLgXwvXyJsILsvbBBYCmwdnn08FZHC5CigDJwbv308Gti+3BbL0Jwkre+8HwWRPCbLDMwa6jL0I5HTVCRs0qQkJzN0IsCzpC0+w5QoBZNkK/SjpCiKswQrT/OUKvZS9CblkzQj+IOUK71brBL9C6wfOFE8KiBeDBJy79wbxckcHvPRfCu9bwwU+5EsJSONjBGMf2weSiBsL40/rBERyxwWeBscFmbGbBhfDOwSDIdsHPUybCeRz+wXK3FsLnaGTBYRMGwn0gBcIWTwjCQPEwwWPzucEXh3DBdoYRwmTYJMKe2CDCBQa5wbmsIMIxZK7BigsnwqHbG8I5AhbCzIscwhGnHsLLU8DB+gPTwb7p3sFWVevBKDvlwV93z8GDYs3B88bRwRAgv8HK9d7BWTvawRHP48FAo8rB/fkJwk3R7MEsweXBWBguwjifI8LhAObBH+4awrqlIsL6ECrCUv8vwmFrGcKgkyzCelAuwlRwpsFzpJ/By/nEwawSosH8o8bB2D7CwYML3MEpyKXBqOm5wUMA4cHqUcXB6AepwX78rsE=",
          "dtype": "f4"
         },
         "xaxis": "x",
         "y": {
          "bdata": "nb47QTkeg0GS7KJBBuh5QZ0KrEFXj6VBZnCmQb0PmUE6F21Bu+R3QY2jPEHU1yTB5LJxQQet6kE5+b5BlCTHQbSOwUFKWstBpXG3QX5ZeEFuzLtBbqJtQayXyEELrqlBSlCDQehWrkHOrTbAkwUZQbY8AEHcPR7BOm95wAYWcEEAYSbBJLMJQVzaFEGsNNG/No3hwBW6Yb96n17BeTECQpHbgUFzXptBOtOwQRMig0GImYzCyKKkQeMsgUHu8HtBH76UQZvrlEFIloZBiRubQRSTlcIbvYvCAZCIwjChisKNqIbCNy2MwpYyisKhg4bCwnWHwjMfiMIRuIjCxBcyweCbmcJRC87ApdRDwVjGR8GMKoNAv22CQGtxCT8MEG1AkjOKP/85XUCiz2fBtGleQHBQgEByI+w/cooEwKQmVz/1EBk+GKsDwGou5MAkx4fCADiDv2j5I8GhK2rAGnw7wVjpEsEqPgbAznl5P3tQisI0b4rC4GOIwtb0l8K+LZHCFpKPwmMzl8Kj3ZLC1TuKwkvRksKi4ZXCHs6WwlFGjsLsw3O/TLJbwEmcmMAw6onAqjElwVhDZEA/xo7AhnI+wdf6kcBo2YLAodJmv71NXsEg2inBRv2gQZ1VpkFpm5lByRDpvw6tnEFz0g3BULdDwbOHEMCUVZ1BV7RAwYPUQ8FwI2nB26+sQU6Z50FXKJxBQm/JQeDxEsHx3W7AFwqxQQKsZMA9T6pBrZZRPwoE27+8s9zAT1EvwcwIK8G9JO1BOB32QV/3u0GP3e1BbivxQetsAEK3XAJC1o0FQmxQ7EFaCLxBUy/0QW9z8kHN+wVCyuz2wE8RTMGjmWvBJoaHwFT4J8FKdWzBHN8GwZVGHcEQvgLBQO6awDBdksCAN2zAbD6IwHrNPsGIU0RAW2oywWXXNMGxO9zA6CgkwbsgqMAZeTPAAxjvvE3AcMAmeQnB0hsQwDywIsA=",
          "dtype": "f4"
         },
         "yaxis": "y"
        },
        {
         "hovertemplate": "label=2<br>TSNE1=%{x}<br>TSNE2=%{y}<extra></extra>",
         "legendgroup": "2",
         "marker": {
          "color": "#00cc96",
          "symbol": "circle"
         },
         "mode": "markers",
         "name": "2",
         "showlegend": true,
         "type": "scattergl",
         "x": {
          "bdata": "qpoKQHaDPUJT4jRCPQV/QG7gTT+8PBQ/liIHQA0dSz8ZD7q8il99Qo1JLkIufnNAvRaEQMW8ikIT5SVCbtoQQuEzCkLZ0ShCBV18QkcoC0KPiRBCQS8uQiQ0LEJx1H1CUumLQr6xCUKVflJCHkBUQpUfjkJ+bZBCCoUzQgj0U0IM8INCL51TQrG/j0JcgTRCWXZQQrQWkEI8uIZC0DM3QjDFQkJDQmlCEtg5QuDmZEKTwGBC31lEQvvROUJHf2xCbCt3QvRdbUKV6GtCX8GpwkKKE0IM0JhB8pUrQrlxBcG6gCNC6mwdQuyLI0JWATRCX5xVQlqELEKHayFCv25VQhDKH0JyHx5CC5QKQniKI0L/+AdCnF4KQpaVAUI06QFC1ZMJQo1TCkLKXJhC5mEbQlgyGUJmnh5CGReHQiZVh0LqUJdCV88rQl/Wl0JeI5dC2XyEQuDomUIR2JdCAQQGQgD+mUIRRzdCT8sdQu8oikJnwJZCAe6AQtDkf0JGtjhC77caQuMQHULAIDlCFpyQQmIcMkL/ZRZCBI6JQr2dfULgNTBCFz8WQoXsEEJJoBhC9rFCQi3xBUKuJyBCBN6JQjnnMEIzzTtCzEWHQlecHUJoiSlCqO1TQlnCIUJpHJVC7MpTQjLwgkJO/wZCb8w3Qkigl0ISwpNCRe2jwFf2DUIHtj5CmFkOQqFvBELoXgBCh8Y+QhtbAULxKFZCHkD0QXwDF0LRCwxC1FIVQscyEUI7i3FCvnWJQkOgkEI56JJCMg5wQtt6kkIiZIVCoRSPQoCBkEIcI5hCrpSQQsRpVUIRk4VCB6AzQkdRQULwrkFCexPxQY0ZgEI/tPhB2T8eQu91UUI86IZC7u5LQjeYCkLdfmdCjGskQpBDI0KBmHtCRlyTQqLUl0J0rIlCctuUQp9AKkIUiCJC5WSTQghfa0J5a3hC",
          "dtype": "f4"
         },
         "xaxis": "x",
         "y": {
          "bdata": "We4Jwrz2N8Jd/y7CWQcPwnKbEcLP1xLC6CUKwpwmD8I2VBTC8Cv0wWBZHsLhARDCbKwPwvmw08HU0QDCm5EWwhHu8sG3yPbB5t8MwgGU+cGaSRfCVlb4wZX388HfZAvCY7vWweZG8cFX/djBxMTcwbQ4sMEYdbnB+wPjwcc44sG8qPHBMrrpwSqMscHduODBr8LWwZbXr8GOg/HBDbwwwtAJPsKj4h7CofdZwn1UFMJ2XRPCgTM8whKjMcJIpxLCNSAbwoIFEsINNBzCtEWgQX70PcJPBdXByLVjwhpKtUG5/mbCT5w9wsa1ZsIQ4mDCXSLVwQYqhMLevGnCamPnwYIRZsIDF8XB52Hfwfk208EplMzBGvnYwYbSw8HgRsTBXSrQwTdc5MGVaKjBSdPRwTHd0cEWQM7BLyTdwZ5K7sFQv7fBtLf1wWsD5cG737DBjbMZwpLmx8HE9OzBIdQewpqdyMH4OCdCVaDZwVNSzcEeQPfBNEi2wW1Tt8HBTl/CTTdCwtMmSsJ53F/CbwAHwi0HMcJWZ0PCt4EBwqJR9MHxpyLCR0lLwhH3RsIrUEbCeE4/wpK/TMJRCUvCT6YDwr8+JMJK92LCXLrjwTSGP8IHtcPB2Ij8wS+c0ME8M7HBht3zwRP7s8Eb7B7C9nzbwQDSr8HBZq7BZyu/QXcuRcJKCmbC4P8bwpbjS8I37kjClwNmwup3ScKkZwbCaHpCwukTTsI7L1HC77VGwtH4T8IN7RnCQZMXwiXtCcLrDRfCig4awkhzDcK5JBrCiqMNwtDkDcINovjBBqsTwpQhBcIBDBrCQJEqwlIlRML7/kLCrq9CwgMHt8Eli0DCfW6/wW2eg8JYBt7BCA87wj7GHsIkPxXC/akDws6bBcILyw3CXMcKwnHk9cFIYhnCZ6sZwqM0wsGfoevBFNcXwrE7HcJu8hzC",
          "dtype": "f4"
         },
         "yaxis": "y"
        },
        {
         "hovertemplate": "label=3<br>TSNE1=%{x}<br>TSNE2=%{y}<extra></extra>",
         "legendgroup": "3",
         "marker": {
          "color": "#ab63fa",
          "symbol": "circle"
         },
         "mode": "markers",
         "name": "3",
         "showlegend": true,
         "type": "scattergl",
         "x": {
          "bdata": "s7t2QulbhELfgD5ChhB6Qiyaa0LQ3ndC8/F3QtpvgULS1HhCDfN2Qpg6hEKoMIFCZodYQn+7ekKlvItCEr5zQi8FdELGu4tCNMR3QoI8QEJqBnxCWTN4Qud6ekIUynpCdeZzQnpsOkKI5XVCF02WQp3PgEKrspdCtAVlQgBIl0L07JVCAUaVQmL0lkKaZY9CQ9FnQrnOaEKRJ4NCv9hoQmQunkLlanVC0Z+TQpYxgELHPYBCSrNvQn1/cUK24GxCOg1xQvsBbUKJzTFC9/9gQpBgckKpDZdBS2WZQbSJiUEqyJZBk2urQYnSQ0IKDoFBRd2MQekJrUHv14pBf+GIQRj0mkEraZpBppWaQrjJnUJWk5hC2OaUQl4SoUJpgJ1C1C6iQntklEKcyp1CMw6hQqZZT0I0Mk9CPpuaQhQXUkIu3nZCiyt0QsrAakKy3WlCdFtoQo5yTkJD1FBChPiAQlgEZkK7UnVCPB9zQgBfYEJDCoxC2liHQkV8gULH9YRCy3yJQs3ThkLPZY5CrTqQQlX+j0IwiotCF3yTQt+MhkLEJJBCDU6EQnf3hUKqFYhCoWGIQkjX/cBT5olCP2mUQvhxnUJyXZ5CQlmeQj36N0KBX59CPMmdQqx2lUILYopCU+OhQs+JRkKnRKJCULBpQhn6QUJD0IVC0VmEQuLJXkLBWFzADi6BQibohEIlAIZC7biJQgFugkKDwo5CUiFgQpL7oELNVqRCiVOQQiCdjkLHemxC782UQhVOoEJYz5VCo8hzQrT4f0Lo0GRCRbt7QnC7ZEIEoYhCQOqAQswihUJchn1C5/yTQshOekK/lYhCsZt7Qn06ZkLJjpVCk05tQnCJVkKAeFNCHPNWQtB0ecG2NQbACAl0QolHZkKZbHZCHqNgQrtnYkLEKUNC4adQQptWQ0L3YUZCieNLQlN4S0IcL0JCKZtPQmwTUEI+RFNCQHSUQkAyQ0KckX5C",
          "dtype": "f4"
         },
         "xaxis": "x",
         "y": {
          "bdata": "kWGyQUUHTUKqFSlCCDAYQm2HMUJJuBhC4CkcQu6wUUKPn1NC1PsdQq+rW0IdO1JCvJFeQipJV0KUR1RChG1XQhAKPkJDLVRChxNOQgOgKkIEcUdC4NxSQrGuIULIRUlCcPBUQo7xKUJZC69Bg+oGQliWykGppAlCVaW8QebKDkLAa91B8rzkQaycB0Ioo+RBnNnPQYWKzkGS/MxB1Ng+Qg+1EkLhzIFB7aonQXhlR0EQ4UNBITWRQV7tnUFqtYxBWeeMQdemikHITKVBmqbIQX/ae0HUHBTCV4kLwg7uCMKG0xLCC4sewhtwIkJzkgzCO2oPwt1jH8Lw8xPC/s4LwmzrDcKmsg3C0GkHQv6PA0LVswNCvG8WQpQGCUKOe/tBNsUAQuyD6EFabf5BzlT8Qfad0kFWVNJB8LL1Qf/s2EE2BNJB3brVQf5+AkJ1XQNCtVIEQvtTNUL6vjdCGSzyQbcQ1kHtIRJCMGINQmSIHkLbwmVBAW4yQTZihUEOlCtB2OlhQXndM0FCn2BBa8kNQdGRW0G6CGdBtmcnQa9JQUGBkA1BPFLOQW3TzkEWfeRB6gHnQZahtkEmCfxBlPu+QWDPtUESAqtBeHypQRA3LULqSqZB1z64QT+Yt0F/UvdB7SeeQXEVXEIcEp1B0W4+QjlgJUIm+klC93NbQqnGKELFs8JBR1ryQXV3XEJPek9C7Iz/QXw3ikEmM9RBU3khQspgC0J5cv1BC+jJQTrX10FwmzlCXiDMQY66CEIj5LVB0DynQTdGfEHXStZByCrtQZOTu0H+lrBBaWp+QW3NcUGXE8lBIk7jQU2U7UGox7FBA1jMQR5pJUI6khRCjbI4Qu2BW0Ir905CxnVcQt0InkICH/Y/3Sg4Qh6tJULPlTVCN5MjQn3+JELGK/VBMQ1LQj4u/0HG81tCiFJFQpmpRUK+eu1BW3FJQgDpP0JsiTlC30YDQmlY+UEmAEVC",
          "dtype": "f4"
         },
         "yaxis": "y"
        },
        {
         "hovertemplate": "label=4<br>TSNE1=%{x}<br>TSNE2=%{y}<extra></extra>",
         "legendgroup": "4",
         "marker": {
          "color": "#FFA15A",
          "symbol": "circle"
         },
         "mode": "markers",
         "name": "4",
         "showlegend": true,
         "type": "scattergl",
         "x": {
          "bdata": "vpmFwkOVg8I+J4rCcJmCwizNi8ICtmrC6c4/wRRaisJfEIrCRHqKwtf8asKC5mDC4XKCwoSodMKhUYLCDNuDwlbshsICMpLCM3iVwjzGhcLRk4XCZ3mVwhDihsJffYfCsXKCwmX7asIjnGbCkwJ3wvXtfsIFl3DCVkRxwt4gZ8K1NJjC049UwijWmMJymH3CHKlywn6QgsJnNZXCPqaYwhxhlMJafI7CaOeWwhyfkcKoTorCdQuXwvIej8K6JYzCmN6Rwhxhi8IYTZXC9iKRwhuzhsIkh6LC4cGSwlzqk8LeC4fC4quRwgT3lMLORpTC4jWlwmJrf8JuQJHCbduTwk5XgsLdbIDCSqWIwjDhd8JNbXjCNjqCwjhtgcKfx5PCFm0MwcdxqMKwDFbCZBWlwm3RDMHRoaPCW8+fwkySt8JjJJ/C16SYwh+9ocJCEZ3CdqO1wucBssIyzKHCsESfwuSQuML71rjC+jedws+gtsIMpp7C8G1YwmXpnsJbrZ7CPU+zwqnjTsK+BlzCNnKdwuXkVMKXVEvC+A1QwnU5UcLXsVXC5n9ZwjqSVcLbi1XCFsA9wW1SWMIfvlbCCjp9wkxGe8Lke1XCwMh+wmLFV8IrG4HCyRqcwriejMKeH53CPRWXwqmrgMIk2oPCMHeEwuRimMJKP6DC+F1awrX6jMJs9orCFaCywt4KtMJ7OLXC3qmwwuaescIYN6LCLFWjwkPCscKUtYPCxYKSwi/8kcLCdZDCHd2iwgraj8LmDKDC9tiWwhmwlsKuzKDCcxiXwodlncIc6pbCEMeVwoxwncIq0IbCqomewh8ImcK5u2fCjN1qwitef8IIx3rCL7B/wg+rAcGQqQLBYy12wgKhZ8Kgn2jC1DuAwgbi9sBW+3rCQ7SCwimhgMLsZoHCaoM4wnPzWMLBW7nCDVu5wiXhmcKsGIvCJCSFwt4QucJm5pvCcxGfwg==",
          "dtype": "f4"
         },
         "xaxis": "x",
         "y": {
          "bdata": "JT8vwDuJHEGhD7DAORsLQZ7lnECbnTxBezipQRTQe8BAeH7AizSVQaP4SkHgEItBAdUDQcR+HsGRnYXBngFRwRzXhMGcIFHBUH2GwZqBgMGBtXrBnpyFwZmvVcEf8FDBQTCFwfeNVkGmLY5BeC2kQWASlkAOEZpBOu+lQfYbj0FIKBJBs2X3QWp1/UDbGaVAvuecQcjYAUHvHHTBW6oswSrlO8HdNB/BUtE0weM+QsHbpcPA0PQ1wVKgJcHelNrAbGw+wTXxy8DV/XfB6+XaQQl+2kH6CJpBh9OzQauZpkGu7dpB9nbbQfglukGH6sVBjYSgQXLJkkEwK+BBwvrNQWogSMGV4k7B8M71wE8jF8Gv1BLBFlZCwUTFR8FWQctB0Ht8QnOTn0FI3DFCkzulQewgfEJcK35BrjVeQStAhUGxrDJBC3OJQcbsdEEPZYNAheaMQZAAhEAVrnhBAX1AQae/fEFgAnZBr7HDP9knikEwXcy/vYEIQsHXCsAMxtW/BUySQXJcF0JCpRJCoep5P60vE0J4X0xCxksSQtMCEkK26C5CPP3/QXUPLkJpcANCpHUHQnd//kHCQ/dBxFQ8QSaStkCZ0gdCcgY6QWrg70FB8hhB4NxdQN4VmUHI2M4/E8utQHx7OEFevqJA1wnSQJgFD0G40uVAmaALQs5poEBzL5ZBfM0+QFySNkBjVTZAydQIQGn4GEAH5uJAwmXiQF0MD0CCc9xA4aueQIW1n0CmaqBAey3iQEzq3UHrAZtBOQKsQZxahUGOcJ1BiYWPQSOmkkGO169BW3WoQUVPlEHYqdpBiPicQTqYh0HDU3xB+WpYQUrYykHDgJVBNnDLQRLPSEFUykZBZsKWQZ6ifkFu8G1BtcTMQbodT0FFmJVB3FpCwFRcf0B7K4BAU6pFQv+TEkKiFltB2S9bQXIOoEC9GwLAlYcuwMnZbEGaG35Ahwo0QQ==",
          "dtype": "f4"
         },
         "yaxis": "y"
        },
        {
         "hovertemplate": "label=5<br>TSNE1=%{x}<br>TSNE2=%{y}<extra></extra>",
         "legendgroup": "5",
         "marker": {
          "color": "#19d3f3",
          "symbol": "circle"
         },
         "mode": "markers",
         "name": "5",
         "showlegend": true,
         "type": "scattergl",
         "x": {
          "bdata": "zAA9QrrGt0E8zFVBZVMlQcgAvkE924BBXnt9QS9DNUG3RJ5BS5CNQaydoUGK/ZRBFwegQaYdnEFuyadB4qCxQSgCqkFlwodBmISLQa7/rEFuv5ZBwvukQfDUjEExOoJBa56rQaJBq0Em4utBKNSxQfBkf0HM3upBf+O+QL4lp0CN9u5Beb9UwBbQ6kFU2rFBXKsnQd77sUCFhXtB42n3QdUW6UHUF+tBQwz4QXuJ3EFC0ABCtg/yQb257UG4f+FBmOTeQTVM20FtpxlBRp/yQVt9nkG4I4dB7GiDQfhmG0FmAaFB1IygQaf1g0EftoNB6+WhQSjUlUG+RYNBahPaQa0CZUEUvb5ByERKQSTVRUHhPb9B01LdQCBMKUEXFBhBBVG6Qfv7ukFfws9BnTwFQTHygEAwurRBiBDBQaIQgEGnCohBUpetQQQkC0EVd8BByEkcQRNRo0F+s49BVcraQfi2jkH778hBHBaGQfnYikGdi79BPVXgQTVtyUGIBsBBt3K/QavMu0G39b9B0ZjGQWkMNEHW1tJBuQ3SQdkfTUE/GbVAM/PUQHWb6kEkJBlBNF5oQDUyGUGgBSNBBymWQfm74EDppohBd+iRQSjMnkCOppBBBNnMQJ7iz0EJEaFBi0MDQT4ezUEb279BSCO4QS+qJEFde/hA+h14QbBChUFcR7ZB1GOMQWhK2kGJnz1BLh2uQcb6MUHVw6dBVUQxQVF9tUHpwq1B/Bs+waSrhUHPuo1BQSSuQW+AR0Fkh3ZBP4feQU+EpkBIYN1BXelOQdUk5EET4pdBVgDoQdxbgEFNu5dBvjjgQYuThEE0X31BsS2TQKRbZEB5AohACnHNPpXJhEGyTF5AIuekQdvumUCEz4lBs3ckQPt7nkHoT1tAXuNaQD0QrUGEpLZBzMuoQaRuvEH33eZBHCE8QQGVsUGdvqRBgmqpQTWor0HchbxBGeykQcRuuUE=",
          "dtype": "f4"
         },
         "xaxis": "x",
         "y": {
          "bdata": "4ogQQXbMhELr2GxCalMcQj3yhUKHJXJCWnlxQqokHkJwBlNCxjZOQlqJRkJjlIZC/KRUQvsYjUL+LIRC4UyVQpFHhUJei5ZCoR6FQkUThkJ1aotCaCKSQqrlhEJ29oFCC0+MQuogjEJijBBCrE1vQhBdCkLuMBRCLbf+QbAv5kFRSRpCISTIQQ93FUL8pghCMHMIQrRS/EGbzI1CVetEQporS0JdnUpCCmhCQmvqSkIwd0NCaKBLQpbWIELyD0pC3WlsQpxhaUK5u1tClKlNQq/BEEKcUdVBGxXtQR+bGkKtVuRB8ePlQSEC7UFIXwJC2JrtQRPVuUEtcgNCHPgeQhzC5UFL0yhCZA5qQpsfaUJ+xitCacRPQg9UZEKLbVxCo6Y1QiCFNEJzKghCJHJdQn4FSkL5AZZCKdh5Qj+7ikIlyYpC9jBuQpy8WEJ0cnZCcNdYQrSabELI53ZCQx9pQsaNikIlXHRCoNOKQvSJA0KPsb9BX7ieQTCmwkHDvtxBKfq1QcHXsUErrttBjXbEQaquCEL0BLhBVeu3QZhY7EETnzRCQ4wuQnF+HEIeejtCCCA7QuqZO0KlVQlCVCErQnOCT0KeH1JCU+IpQprcNUJzIipC+kMBQi8VCEKkjI9CnrkGQuf0ckL983tCz0k2Qi8OYkLKxQVCfWaPQiPUgkKsWZZCpTCVQhHn5kG26vRBr+9AQitoAkKXEURCqyYiQrxWQ0Ii5T1CWuZ3wg/ESUKFsk1CF+U5QktyHUIFU+tB+K3fQQmU5UHdEeFBxdnsQXl53kErK71BuRjdQXoay0HiP7xBQPGeQaXSz0EJ7wVCoz5PQhhESkJoWTdCj1AyQiMbl0LJlk5CrnCSQgnhTEJ+10pCAnk3QpL8akJvWUhC9u44Qo45EEL5TxZC5u0cQlVwF0Ie8htCP+4dQlHfFkLJKhBC9LwcQhYVCkJsSw9CQL8eQjzQCkI=",
          "dtype": "f4"
         },
         "yaxis": "y"
        },
        {
         "hovertemplate": "label=6<br>TSNE1=%{x}<br>TSNE2=%{y}<extra></extra>",
         "legendgroup": "6",
         "marker": {
          "color": "#FF6692",
          "symbol": "circle"
         },
         "mode": "markers",
         "name": "6",
         "showlegend": true,
         "type": "scattergl",
         "x": {
          "bdata": "IEIJQPnVFUEsnEe/KAANQRRD8r9I3QdB43dXQbZmBT9M93o/pyU9QLImAb3AXyA/j/7WQEgp2sCIA9tAVyRHQHshAMCiJjfArnravxovNMBwQNm/AI+3uRG3A0FOjk2/u14uwWTtLsEZmYa+SYkDwKvtAUG5r0zBT5hcQLF8VUDW/nxBuIX0QPQvGsE3MgdByvLXvrIHekDYZZo/OhbNP6y6l0Ar4A5A6jZKwVofqECfytS9NB6wQNg2IcAO3dpAIDDYQDmVH0Aq5CTBT7m1wO8sOsF4FdXACGzswG6jH8HoyyvBkGfMwA2APMGKQizBYYEgweM4wsBp3bDAHv8VwSSpBkHFlrRA5ua2QO+B0r9J+YQ/OycnwXP3OkFPcr7AXnurQOcCYEEfdRPB3w93QZ9EeEFTrJ/Bbf+fwRM7fUCHBofBiblnQBXeFkD0H4jBWB+gwZL4tL/xDTFAIIZgwZahDEEorSzAVBedwHiIkcCvA0rBGh8iwa/cmcAw2DDBhGYowe8xv8DWqMHAcYNaQf5sDMGQ8x7BsyhbwYdgCcErWW/BV4YZwYutCkFuuCPAhY8KQTg3S0EQlpRB0dtlQVgJY0H5inNBGTxCv6fTHMHMMFXBrh3GwAgbXEEm/5VBkUioQbTNRkE/xRy/UxNLv763HkH4NUFBF1+AQWbJPT+1mJxBk8uuQQ1RhEH0trhBTwyzQdVZj0A8ioJAghNRQOFXrkBOEDVB9hC5QcU8J0GYx1dBhgupQXraYMFD+WPBTR1cwaIdO8H070HBHvEWwZNrmcAsNxHBve5dwXpjXcHFbVzBaupbwbi2CEH6+l1BOhlDQcLW50CgdsNAMpBMQUj9KkGjCRFBZpM6QYAnSkGomB5BhGmCQToVBEGZVAhA/VuzwAJuxb/qornAo0a/wEW4pr8acca/b8m3wJllNr/oT9e/mtuzv4jur8DwNG5A410GwQ==",
          "dtype": "f4"
         },
         "xaxis": "x",
         "y": {
          "bdata": "2/tKwpCxWcJxt03CtsdNwlKSU8LQqozCdnamwrhHrMJ9Dk/CtC5Owsu/QcIPTEPClY9Cwt/8k8J8PHbC2U9RwsV9qMJ5dJbCWT5fwgR4lsJzi6HCepaswmFxVcJTdorC62edwqeLocI1uZ7Cj8GowkXYkMJ8S6DCq8KZwovpmcIm35zCm8pWwoNMpsK/YJDC6wOfwlmxmMJ/NYbC/VKHwk1sg8Ij24fC6Y2Bwor9gsJbPInChNuCwpmzYcIcL3nCVrN+woPqgcKLoFHCCqZjwmZrfcLF723Crc1gwtv/V8LIAGrCjV5lwshee8K4OWrCRAhXwvLeZcLNuWHCwE9bwoAsosI2+KLCr9iiwg5XpMK066vCY8+jwv8mmMIkOqvCxBCjwv2LpcJflaXCPRKOwobpjcIf7pbC7KCYwsMWecKAH57C8NJowroagsKLM57ClMiWwrdZj8JzkXXC+oKPwnyCTMLF76DCBy+gwtREq8IMpqTCi/yEwp9doMJRHILCz2CHwgdLn8IjWZ/Cm+iQwjKKg8Ln4aLC7NOZwrkopsIQfZ7CEdqEwj70VsIK3GTCHC+iwhNRlMJZc6fCzPqmwjIPpMIxWJ3CW0tJwiTwncJi16TCoftbwn/zkMIqdqfCKwSjwnTalMLxkm3CGlNtwjEAksKoY5TCSlybwnX4bsKKfqfCbWKnwirUmcLxKKnCwFmowhocdMJJz3TC1G10wvRWc8JvFHHCHTOpwpFrdMJ8FXHCHlyjwic+nsJvmJ7C90uiwgiXgMJtp5vCQG2iwtZfq8K1q5XCpFmawuMsk8LVupDCjXuRwtqojcJbUmnC+ndmwmerQ8LcX2/Cl21swk10asL4y0jC5/lswmAPbMLZqEnCmuSdwl11RsJ0e0fC2wuPwp1qjMI1hJDCbK2Swu7Yi8JC10fCBEuTwuGMrcJVflHCDn1bwolnW8JEFUzCAu+Uwg==",
          "dtype": "f4"
         },
         "yaxis": "y"
        },
        {
         "hovertemplate": "label=7<br>TSNE1=%{x}<br>TSNE2=%{y}<extra></extra>",
         "legendgroup": "7",
         "marker": {
          "color": "#B6E880",
          "symbol": "circle"
         },
         "mode": "markers",
         "name": "7",
         "showlegend": true,
         "type": "scattergl",
         "x": {
          "bdata": "pngJwNEXtcETp7XB3QafwddCWMAOPrfByt6pwfwh8sDi49vBYf+7wWa3oMHXuLDBzzOUwTOKQ8GNw0PBNOiDwYg9o8GTNe3Bx7M/wcIu0MBU7n1AfX3zwJNmiMEAfVHBjS0AwQO1QMLZgRjBonJBwnhKE8GKRPPBY4uiwTnBRMI1ccjBV0DJwaFxF8ECFIzBvIDHwYQc4sEYSTXCsq46wr4RQ8KN2TjC4R4xwqcXNsKOe0fCymQ9wpusK8KyXSDBFQ9FwnVFOcLP/CvCdFJsQFa30sCC6aLBob6nwSSv6sAlL8O/NbTGwWZzCMH3GOHA4HAhwacTG8Fi/t2/9TbawKJc1sAc+cnBxyxPwgLwPcJRma3BE3iXwf4RmMELCqLBQkNOwlIAo8E+HqTB50mnwTyQGcFTAszBeM01waEtQcF9MebAhfjLwUgZ8cCuBVXBOe9iwUNxmsH7QADBt7JUwfiKXsHPie8/Ppr6wY8kD8LA1QjCwY0Lwn3LCMKRdg3CsmoNwgZR9MENSQ7C3hRAwu9ACcJPHvbBoVz7wduACcIqo6PBSawUwvYkwcG1QhXCURg1wh5X0sBnsjTCbtcGwlKCOMKYDuvAsS44ws0Al78DP5rBpwXDwUTi/D7vur+/tnAVwWAOFsAFD5s+uDrcvxlXJcEI2Ou+EtCPwTuVkcHpkURAocbJweCEmMEYZ8rB3TktwTePmMEPXC0/vJCtvGgO6MAsQbLBm6CuwfP4kcHgDiTBElsAwt0dAcLdaQPCJBnmwXal48GQUwnCW3H0wRyi28HdHc3BrVrjweGC/8FMvPjBYG7/weIKRkB/HkFAitUOweNxhD4GfbbAajJjPXWpPsGqk5W/x2NFQDUdA8GzA1DBOG94QayRtsCDr7jBUzfMwGFPEcJEGZ/BdaN8wfYZlMGmJ4PBUl+DwV4bLsFSxbc/jrOZweVwXsE=",
          "dtype": "f4"
         },
         "xaxis": "x",
         "y": {
          "bdata": "SoqMQutQl0JY12dCYq2TQmKGikLHw21CuImVQl46h0LYZW5CDa+ZQroElELQTJtCmBeBQqMipEIQSaRCgBiwQlNcaUJICnpChZuaQiwzrkL55JxCxFWsQu4kakLUFLBC2UitQr7wZUILHZtC3UtkQu5gnUKQW3VCPlFiQkxMXUKfVJVCkqiXQsXeo0JNha9CJKiXQttbcEIPVE1CcPRSQmXCVkJrn0xCTcheQuxfTUJLhVdCEuRLQpziXkKPsxZC1hNYQoFqUkKxzV5CT0ydQsG7jUL7HmVC+liZQpYDjEKzGJJCe11bQh6Yk0LcYIlCc1WdQlIlk0KK0JtCSAmNQl4SkEKRMFtCJa9MQkmWI0LwP0xCyzlfQgnFW0IIOVtCoHxMQswMVEIDHlNCrnJQQg+YkELpLJFCci2ZQihbn0LF7qVCvXqPQoVRq0KlsJ5C/DCfQmhMdUJP96dCP0ibQr2RnkI3Ep1CL8eFQtIOkULdU3xCskWPQuWBckLVDpBCqkB+QpVUikIvRH9CCydmQiegjELF9IdC9X+LQrRAjEJwf4BC1ZqJQvAUm0LSeIlCNdh9QhqXnEJFmH5CGaWQQiVKd0LZGJ1CEO53QnHvkEJJuX1CxZJbQq49kkIJHI9CWaqTQlSCkkJbDZJCTK+bQtvAlkKi1pNCLC9pQp13bUIcw6VC+ZeNQmhsiULv+otCGquOQvB2iUKQBo5C5AGPQh4YpkK2dZhCHDidQkLFX0Kbg49Cu8R5QhwMdEIh+HdC9xqLQlksjkJPyG1CEYB2QnhGi0IVg5BCE4eLQra3f0It+XRCVI9+Qu8MokI2CZ5CUp2eQl69p0LQC69CYOinQlerr0KOxKhCUuWlQlcEhkJVLLBCvT+ZQj1riEJQ725CvYiIQqtsgEKdL2JCTZKrQpN0rkKN/q9C1IusQkU+k0JBlpxCss98Qjvzr0I=",
          "dtype": "f4"
         },
         "yaxis": "y"
        },
        {
         "hovertemplate": "label=8<br>TSNE1=%{x}<br>TSNE2=%{y}<extra></extra>",
         "legendgroup": "8",
         "marker": {
          "color": "#FF97FF",
          "symbol": "circle"
         },
         "mode": "markers",
         "name": "8",
         "showlegend": true,
         "type": "scattergl",
         "x": {
          "bdata": "rCGwwHAPl8BPXtvAMEPfv6Zgi78648vALHU6wG2kIsEvwerAQ+SNwCpI9sBBPq/AqJ0Awskju0Cr8znAuyImwYsovkB/01rB8FnVwD/JWsE67zLB6G8WwW8w8sCj7+jA/OAwwQQW68AbNUtBZZMBP1eABD467wxBgh76QIp1U0GiCAZBDaOfQFq600BROtFAnhv7QG+CqD54D3RBPvdYwBkwmUEOF6Q9D8MtQYCwgUEhNEpB2YMhvZv8HEFvyhxBABoAvtkVVkEz6TJBoj1bwfpU+cBk3tDA36Jmwf7v4sD/kb/AXejhwKgm68C/eXHBOmRfwTuFAMFcOfDA5WNlwarShr/OH21ADcx3v2EzFUBxYBVAVNolQPWvMEEpYiDAjvxxwDiNEEHU9rW/CEq8v7JKjT6ddolBa2uhwe92/8DaQGtBy/ChQYAqpEFYJdnAjsSLQSCVvUHNz7tBv0hnQuuJwkEKU4hBEXSdQGbNtED4oIhAIai2QOKoJ0GgJcJA98cRQWW8c0H5eYJAkWVZQSLdwkDmY7O/AlyNwKkWFUG+mCJB01HSwFn7jcBI7RxBH1MXQVLPW7+QTjxBzPgSQMbgD0HIiRJBl1BbwDrlHsHWFADBTCUPQBlTn7+hlAjBJNXsP3IfhMBqlOjA07kRwf1QRr9f+tDAwxSTwFU5OcDVC6XA3ot5wFAxu8CavNPANdArwKSHNcDSwYzA0s/dv1hIxcAovuS/vEd9wGD1akFzN11Bm7RlQZyMj0FctnlBhKSpQRYphEHGZoBBeZabQbgwnUED+ZtBZJCbQaFLlUGQP5rBCjB/wYr6Y8EiW0rB8BZ5v0JoNsFWTFXBaRhLwVdMPMF8HCZAwKupQK/NL0BfZgjAsFSmQC+OID/aH7hAxp56wcAVBkFQBYDBgPuBwa90i8CFCgdB",
          "dtype": "f4"
         },
         "xaxis": "x",
         "y": {
          "bdata": "M/OQwQlI6L/NYLDAEDZewGubeT0chOjAfTAWwa6ooT7osCXBRNvPPkJBj8F7yuC/GOZgwdqagcDDaGjBOYl3wUn3gsBLYBLBgD+MwX4VEsHHVaXBrBxzwdQmfcGKZIzBhgOkwbQsOMH0BqnBoGUTQYYyC0HFklpAElZowTLuncEgCpXBIEq/wKepjsG1e7PBOzBowcqEDkEaPVHB/l8iwBxXOcE2wHvBDf8gwZ0zhcHw/CfB0Nyywfdpl8HPwQ3B3zx/wba6ZMFN/x/B8ZXkwUTg6MFRc+vBqlTiwchm8cEhgPbBIkn8weEj8sHYzd7B8RzowTif+MGZA/nBldLiweLdsMFjMljB4uaxwXYgNsFH5jXB/gk+waIAocGNPkrBMVaWwJcNksH8FwnBITa2wYbyJsHb9c/BPiOlQcs2GcFSVrLBwtyOwfF8jsHsEUzBsAjSweYgc8Hz9nLBGO+MQUdBc8FMmtTBPW6cwUoNq8GBnavBCLefwWXOLMFAbazBrNCMwTTxnMFz9KzBuY6mwS0mnMEpJCtBPHGXQF9y4kBGUaZADsV/wcn/l0Bej5FAzhiGQDR7L0ECu1BA+x7TP3Fm/EChsO5AnuXDQb197b34dKs8gFM8QVNjR8A1wiRBsIY3QarkAkCwxbhBTaOcPkoxE7/1gI4/79biP32hLcGoK79BQPCBwIWgt8AkfzLB9CYqwbjfY8Fw6pU/IJHUPgM6MMGC/xfB+xMgwJoMoMGU8aXB53+vwQxnRsFMlFzB7L+QwdB/eMFj2mTBE1JzwY4OasEX8VbB86d2wdRwRcGQcLdA6OdWQF/sn8HaTqLBB2MgwQ/vmMFi5J/BfTiOwafskMEVCRw/RIAfQcDysD43c6fBsS4gQXnBKkFW103ACi+ZwFJdDsCVCFvAHOd5wN8ocMGV9gzA",
          "dtype": "f4"
         },
         "yaxis": "y"
        },
        {
         "hovertemplate": "label=9<br>TSNE1=%{x}<br>TSNE2=%{y}<extra></extra>",
         "legendgroup": "9",
         "marker": {
          "color": "#FECB52",
          "symbol": "circle"
         },
         "mode": "markers",
         "name": "9",
         "showlegend": true,
         "type": "scattergl",
         "x": {
          "bdata": "7jtCQvkQJEI8ECVCdAojQiJ6MUIG5gdC5rsHwbt1NUIkNCtC0dJOQuYuVkJPlNFBN4dMQiehR0ImJjVCwrFBQs4vQUKLKF9CZCFKQk8NQEKtExRCUqcVQtG2P0IJXHJC7KQDQotJGsF9Xz3BXCggQmEMWUI0HbdBusDaQZ6GPsFPCj3BuxcnwdqZQMEjcxTCVMEXwuhRJcFrt01CjYplQn71ZUKP8W5CBmduQij58UFtl/RBrxhuQkUE7kHsNG5CdGntQWkKPEKHNu5BrU+jQQ0UGUJVHbBBmSmYQG8YRkIqRqhB6MIaQkDHwEH2TKZBOsSoQWBEGkKqYDtCiBFqQiJFOcJjFx3ClxgXwnmzHcLSugzCFk4bwgYPGMLXzxfC6xAZwpc2I8IShCXCpJo4wgJbDcIE4EtC5TBEQo8ZakLENE1CTPelQfGyOUKf8GtCEOIFQvEVSEIo9F9C7ztCQpn1QUJAQk9CQwH2QbdG40EIYfBBN5MeQgtCE0IELBVCS7j4QVSX9UGTMRNCU2ToQQaRHkJL0rFBzlzkQfG5l0Jn7w1CG7kHQigRq0G06w9CWReuQQiyC0LKt+c9kaYSQhEU20FpnC1CZ+sVQuqe1EEFGXZCcJ+rQamEdEK4hdBBAqwbQsVvyUEwYDdCZskbQnlPxUEJYBxCursaQmcMKEIfrbZB5pHaQU5j3EFVX9RBG7ATQqgGEkI5wLdBQClaQhWuJkJtyixCY54RQsvREUIKbBxCG3IWQompJ0J16xVCfMcIQm00JEIjZghCVLMTQvzcC0LhhSNCfwcQQl1nAkKQZSRCuRMkQn7pF8ICuQzCklxKwkc0DMIOxE7BHJKYPtFYE8JfvFNCIOBFwb10UEJfi1tCbnh2PnfDSsHDEeZBG2gnQpMwTUK2Ly1CofYnQg4tJkLvMf1BO3ArQuLKAEIFYgBCZ2szQtrMNEKcQwNC",
          "dtype": "f4"
         },
         "xaxis": "x",
         "y": {
          "bdata": "/vEcQYowjkFCoI1BrbyOQf4SpUFgKDVATzIsQRjxC0FkHoi/f7vXQD3IeECU+k1BhTf9wB+2zkBHBu1Ae3XtQDcs00BoFLs/oHvLQPzHCkFVpum+DZLqvirg80AeQmvACqsOwQGSD0KFGgtC5V3bwGQ1NkBCnzFBF5MtQN1XFUJbcA1CzMgPQsUjEkIMYyZCz54jQtUOEULw0PHAxeY1Pt17jz5vwlnAYcfwwJit7b8CI/6/F372wOsdpcDyxfTAoGiywMkqSsCDD6TAkVQivzsPT8GWZR5AYZXJwFP0AMFrIz0/matKwfBLwL/9ntc7yFoRP2Vqx0D6cci/+GCKP8EIIkLTxRxCO8UcQuKeG0LefhxCmX8bQsGWG0JXzgxC5VYVQh6tH0KF5CBCadMhQoD+HELQSV1AMAAawfs3+j/nAg3BHNUbwjAjBsAmFZo/xMj/wAgLB8EacrM/7qONwAspjMBU8ubANpsIQSxjf0BOUN1AqOgSQWbOH0HmX9RAS3YEQUVk/0DTFB9B2l6XQMIbE0EkMEZA+pmHQJ2H5kGvw6FBOeenQSjsNUEPUaBBFbA0QTe9o0FGtzdBThOeQVHmUkFeggNA4IqbQdmuT0Fx7XXABgCpwrhQcsA0I8y/8OWqwIdYyb+dL+JATp9Wvl9cyb8lH4q/rin4vr212cDJeTFByZGaQDbf37/h69q/wOvwwOM198BbuoG/gm4mQPdD+D9O1OjAjuubwAaQm8AdDEbBfRSEQGLJyMBqlItAZhtjQB1M2sAtRlFAAYvMQJbCokA1c9LAWFGwQAqaZMDvNg3BwugDwZ17FEL/nStCrwpYQmOpK0KmghtCiOkxQuNPJ0IePWRA0NYVQr/x4UA7/iFCQxkyQkrJF0LTF1FAkPucP+ZGZUB1w8g+r7OFwIeujcCfOhTAncmKP8ZAR8AanZq/vNrnQDi/rL/rkRHB",
          "dtype": "f4"
         },
         "yaxis": "y"
        }
       ],
       "layout": {
        "legend": {
         "title": {
          "text": "label"
         },
         "tracegroupgap": 0
        },
        "template": {
         "data": {
          "bar": [
           {
            "error_x": {
             "color": "#2a3f5f"
            },
            "error_y": {
             "color": "#2a3f5f"
            },
            "marker": {
             "line": {
              "color": "#E5ECF6",
              "width": 0.5
             },
             "pattern": {
              "fillmode": "overlay",
              "size": 10,
              "solidity": 0.2
             }
            },
            "type": "bar"
           }
          ],
          "barpolar": [
           {
            "marker": {
             "line": {
              "color": "#E5ECF6",
              "width": 0.5
             },
             "pattern": {
              "fillmode": "overlay",
              "size": 10,
              "solidity": 0.2
             }
            },
            "type": "barpolar"
           }
          ],
          "carpet": [
           {
            "aaxis": {
             "endlinecolor": "#2a3f5f",
             "gridcolor": "white",
             "linecolor": "white",
             "minorgridcolor": "white",
             "startlinecolor": "#2a3f5f"
            },
            "baxis": {
             "endlinecolor": "#2a3f5f",
             "gridcolor": "white",
             "linecolor": "white",
             "minorgridcolor": "white",
             "startlinecolor": "#2a3f5f"
            },
            "type": "carpet"
           }
          ],
          "choropleth": [
           {
            "colorbar": {
             "outlinewidth": 0,
             "ticks": ""
            },
            "type": "choropleth"
           }
          ],
          "contour": [
           {
            "colorbar": {
             "outlinewidth": 0,
             "ticks": ""
            },
            "colorscale": [
             [
              0,
              "#0d0887"
             ],
             [
              0.1111111111111111,
              "#46039f"
             ],
             [
              0.2222222222222222,
              "#7201a8"
             ],
             [
              0.3333333333333333,
              "#9c179e"
             ],
             [
              0.4444444444444444,
              "#bd3786"
             ],
             [
              0.5555555555555556,
              "#d8576b"
             ],
             [
              0.6666666666666666,
              "#ed7953"
             ],
             [
              0.7777777777777778,
              "#fb9f3a"
             ],
             [
              0.8888888888888888,
              "#fdca26"
             ],
             [
              1,
              "#f0f921"
             ]
            ],
            "type": "contour"
           }
          ],
          "contourcarpet": [
           {
            "colorbar": {
             "outlinewidth": 0,
             "ticks": ""
            },
            "type": "contourcarpet"
           }
          ],
          "heatmap": [
           {
            "colorbar": {
             "outlinewidth": 0,
             "ticks": ""
            },
            "colorscale": [
             [
              0,
              "#0d0887"
             ],
             [
              0.1111111111111111,
              "#46039f"
             ],
             [
              0.2222222222222222,
              "#7201a8"
             ],
             [
              0.3333333333333333,
              "#9c179e"
             ],
             [
              0.4444444444444444,
              "#bd3786"
             ],
             [
              0.5555555555555556,
              "#d8576b"
             ],
             [
              0.6666666666666666,
              "#ed7953"
             ],
             [
              0.7777777777777778,
              "#fb9f3a"
             ],
             [
              0.8888888888888888,
              "#fdca26"
             ],
             [
              1,
              "#f0f921"
             ]
            ],
            "type": "heatmap"
           }
          ],
          "histogram": [
           {
            "marker": {
             "pattern": {
              "fillmode": "overlay",
              "size": 10,
              "solidity": 0.2
             }
            },
            "type": "histogram"
           }
          ],
          "histogram2d": [
           {
            "colorbar": {
             "outlinewidth": 0,
             "ticks": ""
            },
            "colorscale": [
             [
              0,
              "#0d0887"
             ],
             [
              0.1111111111111111,
              "#46039f"
             ],
             [
              0.2222222222222222,
              "#7201a8"
             ],
             [
              0.3333333333333333,
              "#9c179e"
             ],
             [
              0.4444444444444444,
              "#bd3786"
             ],
             [
              0.5555555555555556,
              "#d8576b"
             ],
             [
              0.6666666666666666,
              "#ed7953"
             ],
             [
              0.7777777777777778,
              "#fb9f3a"
             ],
             [
              0.8888888888888888,
              "#fdca26"
             ],
             [
              1,
              "#f0f921"
             ]
            ],
            "type": "histogram2d"
           }
          ],
          "histogram2dcontour": [
           {
            "colorbar": {
             "outlinewidth": 0,
             "ticks": ""
            },
            "colorscale": [
             [
              0,
              "#0d0887"
             ],
             [
              0.1111111111111111,
              "#46039f"
             ],
             [
              0.2222222222222222,
              "#7201a8"
             ],
             [
              0.3333333333333333,
              "#9c179e"
             ],
             [
              0.4444444444444444,
              "#bd3786"
             ],
             [
              0.5555555555555556,
              "#d8576b"
             ],
             [
              0.6666666666666666,
              "#ed7953"
             ],
             [
              0.7777777777777778,
              "#fb9f3a"
             ],
             [
              0.8888888888888888,
              "#fdca26"
             ],
             [
              1,
              "#f0f921"
             ]
            ],
            "type": "histogram2dcontour"
           }
          ],
          "mesh3d": [
           {
            "colorbar": {
             "outlinewidth": 0,
             "ticks": ""
            },
            "type": "mesh3d"
           }
          ],
          "parcoords": [
           {
            "line": {
             "colorbar": {
              "outlinewidth": 0,
              "ticks": ""
             }
            },
            "type": "parcoords"
           }
          ],
          "pie": [
           {
            "automargin": true,
            "type": "pie"
           }
          ],
          "scatter": [
           {
            "fillpattern": {
             "fillmode": "overlay",
             "size": 10,
             "solidity": 0.2
            },
            "type": "scatter"
           }
          ],
          "scatter3d": [
           {
            "line": {
             "colorbar": {
              "outlinewidth": 0,
              "ticks": ""
             }
            },
            "marker": {
             "colorbar": {
              "outlinewidth": 0,
              "ticks": ""
             }
            },
            "type": "scatter3d"
           }
          ],
          "scattercarpet": [
           {
            "marker": {
             "colorbar": {
              "outlinewidth": 0,
              "ticks": ""
             }
            },
            "type": "scattercarpet"
           }
          ],
          "scattergeo": [
           {
            "marker": {
             "colorbar": {
              "outlinewidth": 0,
              "ticks": ""
             }
            },
            "type": "scattergeo"
           }
          ],
          "scattergl": [
           {
            "marker": {
             "colorbar": {
              "outlinewidth": 0,
              "ticks": ""
             }
            },
            "type": "scattergl"
           }
          ],
          "scattermap": [
           {
            "marker": {
             "colorbar": {
              "outlinewidth": 0,
              "ticks": ""
             }
            },
            "type": "scattermap"
           }
          ],
          "scattermapbox": [
           {
            "marker": {
             "colorbar": {
              "outlinewidth": 0,
              "ticks": ""
             }
            },
            "type": "scattermapbox"
           }
          ],
          "scatterpolar": [
           {
            "marker": {
             "colorbar": {
              "outlinewidth": 0,
              "ticks": ""
             }
            },
            "type": "scatterpolar"
           }
          ],
          "scatterpolargl": [
           {
            "marker": {
             "colorbar": {
              "outlinewidth": 0,
              "ticks": ""
             }
            },
            "type": "scatterpolargl"
           }
          ],
          "scatterternary": [
           {
            "marker": {
             "colorbar": {
              "outlinewidth": 0,
              "ticks": ""
             }
            },
            "type": "scatterternary"
           }
          ],
          "surface": [
           {
            "colorbar": {
             "outlinewidth": 0,
             "ticks": ""
            },
            "colorscale": [
             [
              0,
              "#0d0887"
             ],
             [
              0.1111111111111111,
              "#46039f"
             ],
             [
              0.2222222222222222,
              "#7201a8"
             ],
             [
              0.3333333333333333,
              "#9c179e"
             ],
             [
              0.4444444444444444,
              "#bd3786"
             ],
             [
              0.5555555555555556,
              "#d8576b"
             ],
             [
              0.6666666666666666,
              "#ed7953"
             ],
             [
              0.7777777777777778,
              "#fb9f3a"
             ],
             [
              0.8888888888888888,
              "#fdca26"
             ],
             [
              1,
              "#f0f921"
             ]
            ],
            "type": "surface"
           }
          ],
          "table": [
           {
            "cells": {
             "fill": {
              "color": "#EBF0F8"
             },
             "line": {
              "color": "white"
             }
            },
            "header": {
             "fill": {
              "color": "#C8D4E3"
             },
             "line": {
              "color": "white"
             }
            },
            "type": "table"
           }
          ]
         },
         "layout": {
          "annotationdefaults": {
           "arrowcolor": "#2a3f5f",
           "arrowhead": 0,
           "arrowwidth": 1
          },
          "autotypenumbers": "strict",
          "coloraxis": {
           "colorbar": {
            "outlinewidth": 0,
            "ticks": ""
           }
          },
          "colorscale": {
           "diverging": [
            [
             0,
             "#8e0152"
            ],
            [
             0.1,
             "#c51b7d"
            ],
            [
             0.2,
             "#de77ae"
            ],
            [
             0.3,
             "#f1b6da"
            ],
            [
             0.4,
             "#fde0ef"
            ],
            [
             0.5,
             "#f7f7f7"
            ],
            [
             0.6,
             "#e6f5d0"
            ],
            [
             0.7,
             "#b8e186"
            ],
            [
             0.8,
             "#7fbc41"
            ],
            [
             0.9,
             "#4d9221"
            ],
            [
             1,
             "#276419"
            ]
           ],
           "sequential": [
            [
             0,
             "#0d0887"
            ],
            [
             0.1111111111111111,
             "#46039f"
            ],
            [
             0.2222222222222222,
             "#7201a8"
            ],
            [
             0.3333333333333333,
             "#9c179e"
            ],
            [
             0.4444444444444444,
             "#bd3786"
            ],
            [
             0.5555555555555556,
             "#d8576b"
            ],
            [
             0.6666666666666666,
             "#ed7953"
            ],
            [
             0.7777777777777778,
             "#fb9f3a"
            ],
            [
             0.8888888888888888,
             "#fdca26"
            ],
            [
             1,
             "#f0f921"
            ]
           ],
           "sequentialminus": [
            [
             0,
             "#0d0887"
            ],
            [
             0.1111111111111111,
             "#46039f"
            ],
            [
             0.2222222222222222,
             "#7201a8"
            ],
            [
             0.3333333333333333,
             "#9c179e"
            ],
            [
             0.4444444444444444,
             "#bd3786"
            ],
            [
             0.5555555555555556,
             "#d8576b"
            ],
            [
             0.6666666666666666,
             "#ed7953"
            ],
            [
             0.7777777777777778,
             "#fb9f3a"
            ],
            [
             0.8888888888888888,
             "#fdca26"
            ],
            [
             1,
             "#f0f921"
            ]
           ]
          },
          "colorway": [
           "#636efa",
           "#EF553B",
           "#00cc96",
           "#ab63fa",
           "#FFA15A",
           "#19d3f3",
           "#FF6692",
           "#B6E880",
           "#FF97FF",
           "#FECB52"
          ],
          "font": {
           "color": "#2a3f5f"
          },
          "geo": {
           "bgcolor": "white",
           "lakecolor": "white",
           "landcolor": "#E5ECF6",
           "showlakes": true,
           "showland": true,
           "subunitcolor": "white"
          },
          "hoverlabel": {
           "align": "left"
          },
          "hovermode": "closest",
          "mapbox": {
           "style": "light"
          },
          "paper_bgcolor": "white",
          "plot_bgcolor": "#E5ECF6",
          "polar": {
           "angularaxis": {
            "gridcolor": "white",
            "linecolor": "white",
            "ticks": ""
           },
           "bgcolor": "#E5ECF6",
           "radialaxis": {
            "gridcolor": "white",
            "linecolor": "white",
            "ticks": ""
           }
          },
          "scene": {
           "xaxis": {
            "backgroundcolor": "#E5ECF6",
            "gridcolor": "white",
            "gridwidth": 2,
            "linecolor": "white",
            "showbackground": true,
            "ticks": "",
            "zerolinecolor": "white"
           },
           "yaxis": {
            "backgroundcolor": "#E5ECF6",
            "gridcolor": "white",
            "gridwidth": 2,
            "linecolor": "white",
            "showbackground": true,
            "ticks": "",
            "zerolinecolor": "white"
           },
           "zaxis": {
            "backgroundcolor": "#E5ECF6",
            "gridcolor": "white",
            "gridwidth": 2,
            "linecolor": "white",
            "showbackground": true,
            "ticks": "",
            "zerolinecolor": "white"
           }
          },
          "shapedefaults": {
           "line": {
            "color": "#2a3f5f"
           }
          },
          "ternary": {
           "aaxis": {
            "gridcolor": "white",
            "linecolor": "white",
            "ticks": ""
           },
           "baxis": {
            "gridcolor": "white",
            "linecolor": "white",
            "ticks": ""
           },
           "bgcolor": "#E5ECF6",
           "caxis": {
            "gridcolor": "white",
            "linecolor": "white",
            "ticks": ""
           }
          },
          "title": {
           "x": 0.05
          },
          "xaxis": {
           "automargin": true,
           "gridcolor": "white",
           "linecolor": "white",
           "ticks": "",
           "title": {
            "standoff": 15
           },
           "zerolinecolor": "white",
           "zerolinewidth": 2
          },
          "yaxis": {
           "automargin": true,
           "gridcolor": "white",
           "linecolor": "white",
           "ticks": "",
           "title": {
            "standoff": 15
           },
           "zerolinecolor": "white",
           "zerolinewidth": 2
          }
         }
        },
        "title": {
         "text": "Visualización del Dataset Digits con t-SNE= 5"
        },
        "xaxis": {
         "anchor": "y",
         "domain": [
          0,
          1
         ],
         "title": {
          "text": "TSNE1"
         }
        },
        "yaxis": {
         "anchor": "x",
         "domain": [
          0,
          1
         ],
         "title": {
          "text": "TSNE2"
         }
        }
       }
      }
     },
     "metadata": {},
     "output_type": "display_data"
    },
    {
     "data": {
      "application/vnd.plotly.v1+json": {
       "config": {
        "plotlyServerURL": "https://plot.ly"
       },
       "data": [
        {
         "hovertemplate": "label=0<br>TSNE1=%{x}<br>TSNE2=%{y}<extra></extra>",
         "legendgroup": "0",
         "marker": {
          "color": "#636efa",
          "symbol": "circle"
         },
         "mode": "markers",
         "name": "0",
         "showlegend": true,
         "type": "scattergl",
         "x": {
          "bdata": "nd8bwnzBC8I5g9jBB+8nwtqK4sHwEQXCHhbwweJm2sEmpNzBbSf6wfXmBcK1xtbBEi3ewVXeAsJFnujBp8Tjwcxn+8EjYQ/CYVYKwhFD1MHBNt7B9BLnwWrK3sEi29jBA64GwvWl48FqJw3CtiYDwtrVCMIOYA/CM5cmwlctBsKQRwrCgnUKwsJ1BMJbLAnC8lgGwiB6AMJlhALCl2EAwsurBsKMhebBPdruweBfAMJFfAbCtu7swT+vF8LG1QLCIQYcwupz78H9zPLB2m0Nwp23D8KvWQ7CMJUVwsO1EcJAmxHCWJoBwiR6EMJxTwzCISL5wZxsEsLaIRLCW0wYwkNMD8JR3gLCLOQjwuEIAcJm2QXCCpgGwhaF6cE2VAjCT6LZwUsb6MELUwDCcW0Dwou97cG83u7BeAAlwskZFcI9GxHCklQMwlDPDMLLUAHCmaEJwnsmJMIc/PPBcJ/owT8QG8JWfBzCrYwWwmfVE8K/MRPCcUUOwhtHGcLY/RnCz3oYwkgDJcLYdAjCSw8bwhAuGcJm4RbCZmH2wSUi4cGgSg/CyRvqwevo1sFai9TBGUMUwshaEMKWghXCv04RwpwxF8IsIA/Co7QOwhcLGsK4uB3C5ukfwoZ0J8JtvyvCtacowtlVHsLPayPC85Ejwiv0HsKCIwDCwwgmwqnD4MGz8vjB4P35wWG6DcI7TtbBGPHvwVmD7cH2+CTCJJAKwoBnGMLhrfTBl8n1wUx218HPwxTCiUX3wSC7DMJ2KwDC2AgDwnSEBsKOeAbCdSoOwhpjC8JVpAzCktQIwoG2A8K7DhfCNMLqwckK58F1U/LBuQTMwdBaAMIK7s3B3RkZwmEkz8HEes/BEjwTwod638GpEgvCYGwCwonO8ME+tffBGrAVwrUX/MEdRgTCv08Twjz57cFM+wDCBZUTwgUR+sHZk83BvKr7wQ==",
          "dtype": "f4"
         },
         "xaxis": "x",
         "y": {
          "bdata": "1eb5wUdRycH+RfPBYe31wXCB0cFz/f7BhbsKwg+27sGZVvzBKvcRwnfdFMJebwPCsAv5wU548sGnENzBJ64JwnaOy8FAduLBf1IVwnLo68FwEPXBMy4Ewowk68FgdwPCGW8Wwlrw/8G5gMXBED4NwpoH7MGizsbBPJPowWhJ/8F7TPvB+b32wWkW7MFkZ8fB8trmwWfJBcJgZAbCDuwWwqqyEsKEPgLCnIPLwZNDG8J9pRPChZ4Hwq5GB8JOctfBGkAEwj4gEMLdtRfCV0jwwczU4MEHM/rBb1vawdfT3MGVOA3COUH6wSakGsI00dDBeOPowS6vBMIrE9nBJgfWwULC6cFM0sXBTBnXwceFx8FeoeXB+f0QwvHx6sHwLNrBcrHkwTmn5sGJI9PBA3nuwa8M/sGijOXBBiUEwi9lFsICNMXBOOL2wdUv8cEW47vBiorBwT4c9cE46dnBgCDTwUSAAcJ4VvvBvWLmwQSvCsJteQnCYDoFwiN5CcKITgLCG6AMwq0cBMIvXAvCUZ0HwqCIDsJKmO/BPFwHwjaSEsJPmAnCmqEJwklGD8I0QxHC/7UZwms2BsLvvRvCJBgbwo887MFwYg/CyiwCwgIu8sEM9PDBgpTYwSgN7sGwm/HBErTuweBr2cH98NnBLu3XwXuj2cGsKebB2ovWwQTGEsLxDO/BVaT7wVZNHcKDgNjBZ7D5wS2V98Gxg/jBAZThweKF9sGKXQDCb2D2wUJu2MHmTAjClkkLwnrw+sH4awrCkAkJwh3QBcLIxQXCBgwdwucwGsK1vR3CYVsEwuXmCcK48v/BVkvywZDk9cElE9/BGzvawWHH+MH5GN3BOeXlwc/P/MFHtOnB4E0XwnOq5sEzl+HB9tgQwpJ0CMLXIBjCXyv3wYYNyME54hzCeSzwwT/wyMEJNhLCldL8wbUSGML5Fv/Be/bNwQ==",
          "dtype": "f4"
         },
         "yaxis": "y"
        },
        {
         "hovertemplate": "label=1<br>TSNE1=%{x}<br>TSNE2=%{y}<extra></extra>",
         "legendgroup": "1",
         "marker": {
          "color": "#EF553B",
          "symbol": "circle"
         },
         "mode": "markers",
         "name": "1",
         "showlegend": true,
         "type": "scattergl",
         "x": {
          "bdata": "ho56weAUq8G5S53BeuaowQ2llsH/ZpzBk6OQwe/BnsHqyZ/BrRapwXnge8HZLxPBSoaywUmQqcFFnLPBFs61wYK7qcHuPrHB8vadwUFDssHNmqvBvuy5wfCgtcGi7KTBcjOvwadSqsFvwAXBYiSuwXJoqcE23KDAoYD7wLwHuMHSpwzBWAGrwe8HrsGvwhHBsBcpwYRVPsENYbDAVBOVwaLYg8EZ0Y7BDd+XwWU+hcFHOrhBP4SZwa+whcHD4oTBtSSjwTWaicHJHYbBsveQwQ1Ho0HtpLNBPqOsQTZ1okFsqqBBTTuuQXX+nUEZjqFBqXqjQe/xqEGUpJtBwmk3wPzooEGVOdDA8yudwBNHssCvLuTAzirjwP95I8FGv7jAAxAjwZ6YzsAAh6nAYL2pwApOxMCVgdHAvxI6wb9lR8GzsiTBUINDwICCm8DZeL1Bk8vHwPUxkcD9TvTAGk8IwUA0EsFoESHBhUDqwLftuEGPZbVB+1fAQcYSoUEtO6lBiV2rQajBo0GTqaVBw463QW+OqEELUK1BWeKmQTpqr0EMYsHAKW7LwOIDKcF+7JfAX5UZwdL8zMB8OzHBO13ywPakLcFLtZfACSMUwaKxCsFcoQ7BtvOLwSrdksG0p1jBxSTdwI/pZsEEJkjBDzn9wJgRMcHZZVjBkrIFwd3ZA8EV4e3Aarw1wUeIhMFrTF/Bzh65we9sQMG2MELBihCTwXNmLsHyh5DB7j1OwZs4R8GJETXBotAewWY0KMG+54nBHIqQwaAHmMGZqqPB0AaiwY9wkcH6aZPB2paWwQRMicGDcpjBBrabwWjEn8HK25HBEU9GwdB9AcH0tPnAKldRwZUmNMH8JwnBEQIuwSoQOsF/JlbBNtxXwWxQO8GnmU7BddhTwe+kLcCy86TA0FCPwC6OOsD8zLfA1k5swJj3kMBC4EbAfIkNwfaGqsB5W5TAVyJYwI0CbsA=",
          "dtype": "f4"
         },
         "xaxis": "x",
         "y": {
          "bdata": "Nxs8wCz9+j+6Ky5AN0CWP7JJcj/RG9o/fYshPwPV4j8Qds09L0yVP+ApL8CL30fBxRwRQMbJx0DmDG5Afq6VQBPgoEDCSalAKBxoQHB5vD/SL5NAH/OdP95LmUDooVZAAx3uPz5HgUDuMwjB4VZsvwPdH8BMwjXBo7rTwI5PpT//zCPB+8AIwP1+x7+iu/fA69MmwUl2BcGbWlLBvHO/QNJE+D+930RAukotQDLg5T+qVAnC56ZNQIqomz/0bz0/7YLYP/uCM0Bq8g1AVFxIQJhgBMK+ngXCWngNwj3ADMIGkRHCj6YJwujpDcJ3oRHC7qgQwgF0EcJLiA/CN3wdwenp/8HuMQfBAm43wVtNPcGDAoLAeZeDwJDszcC+ZRzBDEXEwBwyVcHfVVnBEekZwbEDGcFhMQnB2lMRwTxU7cAEqOPAObgBwVPOA8HXPQbCuUyxwGSGRsE+tQPBVpUawdJZIsGndwrBy/+rwIrWBsIaQAjCu74HwuA0AcLiAwXCDo4GwmkrAsK4UgXCFrYGwtnbBMI4JwLCtoMBwpLeBsKSuq3AWKPfwHFgG8F68dbA74QowdFMScEjqRzBlws5wffKEcFu98DAm638wKOxPMFWeS/Bqw8NPzVJbj8wg6C/uU3bwENIS797rSrBdBU1wQniEcEh+3+/0DAqwRYoLcFRI0rBlxiuPtFnrEBCCpC/POOaQKWwLMFFVhnBW1YFQBpEBsGjXl0/ecz5wDNyEcFTLyPB4500wVTKPcFvZ7BAb0PDQNYEh0BNhstAj0HVQPql1UC0r9pAUQ3uQLkrtkDYXopAYvTMQKhi20DBv+pAFME7wVqTUsHr3FzB+qQcwcvQPMHGs1zBeGcvwXjwNMHuzCzBbfEhwWCsIMGo3xbB5EUZwVI6K8FX8hLBdJk2wQ1VIcHe8AXBZWk3wcSF4MAZTPrAZKycwPyizMDm2iTBecX8wEyG8cA=",
          "dtype": "f4"
         },
         "yaxis": "y"
        },
        {
         "hovertemplate": "label=2<br>TSNE1=%{x}<br>TSNE2=%{y}<extra></extra>",
         "legendgroup": "2",
         "marker": {
          "color": "#00cc96",
          "symbol": "circle"
         },
         "mode": "markers",
         "name": "2",
         "showlegend": true,
         "type": "scattergl",
         "x": {
          "bdata": "sKu7QPvywUE/OstBEfvYQLsbnUCabpJARcO4QKImnUDeS4VAAm/pQUSDl0FLotZARojiQGSjAEIk97BBnRurQQwSyUHF/LtB7WbzQX7P10G/kqlB1DK8QXcrwEGbP/hBiAgFQvEkx0EDGtxBu+DcQdoS9EHpzwFC+cTGQWBQ10GE2O5BCR/VQWFK/EE6vspB8jDbQU7a/UHpQPxBfT3OQWpYu0F0GN9BfYCvQSyd10H5itRBmiC/QXQO0kGBsd9BMZ3pQRHw5kFIgeNBykNFwqFdokHBO5ZBERXBQQaV40EfA8FBKB+tQcZiwUGfYbFBKxffQfDNwkENJL1BKyvYQTUZu0HHrsRBRUi3Qf/Dw0FVOalBleuyQVnWoEEaFaFBs1CtQT/UtkHPcwRCRB+8QdI2uUH23r9BGoH5QdU9AUK90QdCDCG+QViTCkJVSgVCVmj1QZB6DELe9QpClhqgQd74DEKAtobBYzm8QTfJ8kGxxwpCmYHxQa4n9UHheapBQsuyQUWOsEEhOKpBfHsGQoL8yUF42KhBZaf/QebL6EGuMcVBvJCpQZJeo0EQNKxBRH25QXYbm0Gbw7ZBRCb7QTnfxEFEcqZBe6v8QcNws0GujMxBM9vIQYAHwkHc9wNCGHbTQbKT7EEHjKFBAbDUQWPcBUKMRQFC8hvZQY14oUELn6NBm/WfQXz/mEFfnZNBXnSiQRrLmUEj28xBLhyOQdzAp0GFrZhBcQWoQaIPoEEBQ+lBjZEBQh4IBkLFggdCZX/oQTuZCEKuVvxB68IBQuW8A0JCyAtChpgBQnN9w0FMzftBOMXGQXLesUH0s7VBqhaMQTbR80FLBpJBofnHQTSYlkFxpvpBFx+7QYn1nkEqAuBBWYSqQXBmp0GUZvJBPMwJQjxmC0ItywBCEswLQslv0EGfF7BBDasIQsAt40FvS+ZB",
          "dtype": "f4"
         },
         "xaxis": "x",
         "y": {
          "bdata": "Om9owY8ewMGJwL3BfupuwcfJbsGWEm3BVDtqwWfScsHjDXLBobKYweBXg8EO4W/BeZxwwTTzhMGfSH7B+06WwSZeh8G1x4DBCvK5wUDUnsHsl5bB1SOGwbIUhcGC0rjBRumHwYuPh8HN2YbBYtGJwTB/csEgR3jB1C5+wXyWiMHWsorBTEaLwee4ccFmYHfBUPqCwSU9bsESKZLBcna8wTyruMFMbLDBsgflwVLlrcEMs6zBC+2zwXTjvMEcS6nB0CazweTupMF4963BV5wUQLe10sGuvi7BsLHjwbv3AMEt4uvBy6/KweLD68GGgerBA5qHwV2B/cG1GO/BrwqOwVHc7sHMp1HByb1OwRhcZsEPnlXBYeFTwdIRR8HPO0jBGPBYwYxJTcGVjl7ByrtjwR+XYMG/c2LBs7aEwfE4ksElVnPBiGuDweaPhMHd/2rBU2OrwfUYd8GEgYvBTAqhwZ/neMEw9axBsqpuweyYf8FgcJPBMIeSwdBElsFaqejBZRrOwX5j08FNt+jBlLCZwd0Vu8Gzo9TBIdCcwd4nmME1C8zBZW/UwWYjzMFlV87Be723wYqzysEyVdXBmpigwe/uysHVv+zB8Z2LwasyzMHgmF3BaLuXwaFnZcEGeHHBh1mQwer1gMGru6LBXzpuwaa7acET/WjB/57MwGSwxcGVmvTB1GyzwdETysHkD8rBbQDxweb3zsFa16XBIkzBwTOX2cEGZNTBv2fPwTHB2MFSKqzBr16rwWj1nMFqUqbBN1WswfZxocGlO6rBG8yjwWnvosGwEJbBuKWdwehoncHp56nBEFLEwTrNtsGE5bjBn3S/wQFrlcF91cPBHF9MwcAEFMIDFYjBTBapwUW8scFOQ6fBnCJ/wagAgcHZ+bnBj32cwSNZk8H3O7HBU9Gpwa2DWcGBD4nBgEmnwfxVrsHccLjB",
          "dtype": "f4"
         },
         "yaxis": "y"
        },
        {
         "hovertemplate": "label=3<br>TSNE1=%{x}<br>TSNE2=%{y}<extra></extra>",
         "legendgroup": "3",
         "marker": {
          "color": "#ab63fa",
          "symbol": "circle"
         },
         "mode": "markers",
         "name": "3",
         "showlegend": true,
         "type": "scattergl",
         "x": {
          "bdata": "zyvfQRtvoUFgNbVBB+m4QfUTo0GahLVBnQ2zQX7RmEFqgpNBONOvQZPFkkE/tZdBLOJ3QQUfjEEKGKBB7zqMQYdmokECS6FBlFmUQUUDtUEstJ1BEJ+TQVBhlEFcw5lB5vGNQQDLgMG/nuFBCJnOQX8V5kFLaM5BXETgQQx8xkFu9OFBaozbQQCJz0Fa/MNBT9nUQb2q1UE9kelBmDysQSIvwUFgMvBBV3cPQqV4AEJwCAJC9j3qQSVy5EGLA+tB+VftQYss60FwAB1CDULlQSyH9kH3wp1BGUaVQdIRjUGM7pxBIGalQR5Cw0Grl45BLiaXQahipkFWbZRBpbuPQSvvmUEgAJlB6LfRQW8+10FGRNRB5RqDQZGD0EEujNlBzr3dQc201EF3BdhB1QveQUEp0UHZytFB63bYQVO8zEHQy9NB3uTPQSRcuEGbNLZB6lm0QcBQuUHBbrRB6IHEQS9d0EGlx7pBUGS4QSjQpkEczANCfVgEQrwM7UGmxwVCqhoBQpGLBEJLXghCRrcLQu8MC0I3GQNCkt0OQlkOBEITKQtCc4HrQUw37kGcJOlB6LTcQTys4kHCc9BBPmL5QcnX6EHg2vFBbD3yQbWFecF9X/NBUJzrQWkV+EG+EdRBQcD4QU3tM0EMdPpBlyGpQb7AuUFgNKxBGf+UQVqCq0EQdtlBcYTFQeholEH1PKJBIQ/LQc5n8EGS+vFBI2SnQUR9y0FgQeJBz4X5QbuT7EGaAaNB6/vrQRaP0UGVKvdBfpjhQSxp8UG/n9FBZcvHQSE55kHrcvhBkjjzQfMT+kEHPd5BguDYQd95xUFJqvZBQI3XQe5/pUGDgYpB2jahQRALbUHmvV5B1xluQc+zWkFJwFy+MPOaQQ52qEHcc5ZBNuSlQe7DqkHEQ8lBeFtRQfybYUGq1jJBUwo9Qa2NOkH39A9CdJxGQdpuP0EQeK5BwYfRQXsiYEHdSaJB",
          "dtype": "f4"
         },
         "xaxis": "x",
         "y": {
          "bdata": "rH8wQLIlVkGTPVZB3v78QKGFEkFMp/xAxfkFQQrbWEF2D1BBswwMQcvYbkEePFtBibptQVu6Y0GB+mtBtUxXQYGrM0G87WlBpQ5GQdGbWkFCx0NBVntRQfHtMEFfDEVBxkhXQQWCqkFvPB9AkZv/QP9MA0GbzgZB+nyEQFn/DUHJBNVATb7YQE+hAEEw6wJBJLpnQMLjXUBrDQdBhWchQa5iHEGiuwBApHelQHCXBED9gOs/MBVGPzEEOT+/nII/XQ6sP3Ieyz/tfMVATjBdQM3hlj+Nmfa/YTyQvwly7L8WrN2/9FlTwGvVW0Hi+TG/AXTqvxn2bcCaZiXA2wbTvzV7mr9emp2/pl8WQQusKUF+qglBqSrlQF54JkEEghVBgwgrQTOf6kBoNR9BQOMiQbxMmj8+4KA/i9v1QMPI4T/OJ6RAbXSUQIWbfEDBPHhAo9RtQLqLP0FUijhB0aHcQL06Y0A/+txAV/OjQKxI00C15cFAhZRaQKYkgkAobwpAzBudQGhCSkA8LtJApPaIQAWc1EAcPb9AtamlQKufN0BhyYZAoJoXQe9CHUHmKSdBcF5CQXQg+cBU9UZB5kMKQfuePEFxUi9BZWMvQfidqEEm8zFBvXdDQbRkEkF6RkVBqnk5QTJndkFd4T1BHF0mQT/bU0GIcWdBwKxtQV8REEEoz6LAzt7WQCzCdUHJhX1BUQ5EQWyAl0CMXfVABuXbQKheJkEcWzdBt4oAQV1i70DKfB9BynLGQOFfIUFr2BZBfCi4P41MTEDQGVtA2Q6xQKCHg0AZx8RAh71pQCvckkBiUqVAmgfTQA2tokBpSNlAk5WkQMWl+kCIKPBAo8YcQbEhZUFfGFpBTRxpQTVnQkHCCAy/vdAUQSwj/0BOrQdBXPPvQD3o8UCKmhdA3k1XQRPEkkHTWnVBMixPQXZGTkG+IBdB42NUQabKWEGVrC9BMGnYQIz0kkGgPEVB",
          "dtype": "f4"
         },
         "yaxis": "y"
        },
        {
         "hovertemplate": "label=4<br>TSNE1=%{x}<br>TSNE2=%{y}<extra></extra>",
         "legendgroup": "4",
         "marker": {
          "color": "#FFA15A",
          "symbol": "circle"
         },
         "mode": "markers",
         "name": "4",
         "showlegend": true,
         "type": "scattergl",
         "x": {
          "bdata": "Y0ATwp/FGMLuiwzCtBQdwva9GMJ5OyHCVNw9wbD/DsIEcg/CWQkpwjmEI8JV/x3CaB8ewgTJ/cEygwPCF9wHwuN7CMLaNBDCPS4SwglCB8IrKQfC5WkSwrqUBsJSjgbCle4DwrmiJMLxCCPClsQrwgb0IcIIZCbCW/oxwi9HI8JQzyXCUKcUwsz7KMJiKCHCp4YqwheEHMLLERPCgX0+wtqFEMI7QgzCLFsVwlGVD8KuYQvCpRcWwm9hDcLP9ArCGPIPwsIvDMI6DxPCrMU7wiMmOMIUyDrCLaA1wjQ+LsLIuDjCtcM8wjaDOcJ90DnCNfI/whXuKcLchz7CjOI6wk3SCMKvIQrC1jYGwpTwAcIOTxHC38UKwoB6CsJDHTrCm/wAwlJXQ8J4T/TBok89wnQOAcKYzTfC5ScvwmOlO8LbcCjCWaswwsiQNcKDhSLCkcU+wmxtK8LIUTbCAagpwtLEOMIz+DfChVcewmWLPcJPsg/CYagMwqCDDsK8cw/CbnpBwsLQAsK3ywbCoA0cwjrhBsJjRtLByt0GwjVzB8JMzfbBcSYSwiVi98HBDBDCaScFwbV/EsJLmRTCN4Edwu8nHMKeDAzCn6scwryLF8KK8R7CQIogwvmXM8JYeh3CHo4kwh5WGcJ9FB3CDm8dwudYJsLTQSfCFF8KwlyJG8IR3inCzUoowi48KML3ayjCWdcmwqyCJsI6ASvC8GAswliiJsLzKh7CrWwfwoUeH8JXAB3CC/YrwtShPsIDUDjC99Q2wiOWK8KiGTrCO9kxwi8hNMK74jfCSEM1wntzNcJiPzbCN6Q3wk8ZL8KRoCXCuE8kwm+mMMLFJynCfPcvwhDhFsB9thbAaygrwqnqJcKibyTCuLEywm20DsCAUijCG14CwjecI8KdeSDC7kbFwZMhB8J4TTbCBlA2wvlzJsKnQhPCxmYUwgY+N8IP5CHCvpYlwg==",
          "dtype": "f4"
         },
         "xaxis": "x",
         "y": {
          "bdata": "wgUkQB6y+kCUghdANpD5QE/bkkCpXEBBR1YpPrynC0DFjBhAjQtKQW1aOEGPbzhBz7H7QJmGD7/OWyHA+Jayv9BmXcBejeu//jFywANqNsB6ERXATvFtwHiImb9JjLK++gocwHpTMUEM2BZBoB8kQUxb10DcXhJB0q8SQdx1FkFlRZhAE0NBQZfrrz74H+xA9W4RQbT0+UB8ojDA3OiwQFgMob/GJ4c+M9aMv2ldgr9Pf/s/q+Kdv6KiK79rV5k/IiDxvmfexj/VMEbAewsEQbJQJUGRQZVAqKX2QLfBAEGV0yBBUroAQYMC5UC2DfxAivFfQPTI6EDJqAdBauUPQaunp78df/G/5hddP4O7j77HowFBEjuTv2hnur/6BQlByiHJQZi7I0D834BBWBNQQJuvyEHjyk5AZzxvQAenr79wYURABn+hQDqRd0B5JBxAPZinv8Bmlb/H939A7QxVQNSApr8EKr+/mCFGQMPfx7/f369A6ME7QdqVs0Aom7BAFL0Kv3EqUEH6py1BqmpTQIGMREH78o5BsIBPQQmJTEGVIntB01szQU1SeUHeJUBBD7yPQWWQOEGqoTtBdGocQbqTvkBN5ENBHoESQa1ROEGV8gpBb2QdQOAoAUEo0kFAejUCP/TYB0GdKalAV8bMQOhnkEDNvQBAoTw3QZUxjEA/3UhBKkixv2V977/hMxDAjZ5Ov/BHl79T2ac/KcinP+IGrb+3vuJAYmBYP0cegz+xgKc/nzypPz/n/0CTeaNA5MfVQH3VpEB10ahAdQHAQNPQm0At49RAENLaQMLpqEATLSNBT8G3QLk+lkBjmSVB/VguQZEDMkHSlQhBfXUyQU6xREFdY0VBi7oIQQDSH0ENxyNBn2UyQQiRQ0GUSwtBY7AVQGaZuUDIV69A7WqGQY8pOkGg6BzAWjccwEIQmD80XG9ACrUnQEi48L+rRgxANKRPQA==",
          "dtype": "f4"
         },
         "yaxis": "y"
        },
        {
         "hovertemplate": "label=5<br>TSNE1=%{x}<br>TSNE2=%{y}<extra></extra>",
         "legendgroup": "5",
         "marker": {
          "color": "#19d3f3",
          "symbol": "circle"
         },
         "mode": "markers",
         "name": "5",
         "showlegend": true,
         "type": "scattergl",
         "x": {
          "bdata": "uZkXQrbqi0BnvvJAdUJrQeCgl0AxD8hAuqrNQKvccUE92DNB3hssQetrBUFDBItA0lcxQY2RS0AwDZ9AvhOKPxPHk0AK7gVAeM91QDuGeEB2e3FA+t/fPy+tiUAefZFAisE8QDSiZkBpXodBXYcCQRgOh0HTPYJBSPybQZKbsEFtdXNB+K3YQS+fgUH6eZlBQHt/QVqUnkE9Qi1AWiVNQaFYM0E3uzpBsCxYQXmdO0GHuv1BfRA+QU71Y0GvAz5BDjkmQUxRJEErAdFAtbQ6QcxlikEvm6xBuxOgQcPqZUEcB61Br7inQRuxn0ELUpRBSvCoQa/VtUHYtpJB+Vx/QePapUGbgWBBbt7yQNIZ6EADlWFBsuagQOZG1UCR8stA7WxoQaoBZ0FzRZRBGQjfQLSamEAvDCU/Yx7bQAyKNkDvBjhAeNAFQQkJvECRu+1AVaPLQJ8Z/0AGBLVAtf0fQfVSUkBnIwlBb189QMW5kEEbu7tB6sjQQT6ZvkEIrppBOJPHQWtIy0GdVJxBeD65QcP7hkE17sJBcGnDQSCZn0HV+LtAGuFSQWQjdkFt4StBtPeeQPW+KkHHK3pBjDpsQanIkEAfFx5BpsdzQVsYrkDkQW5B1kSUQaaOlEHSXRhA9A2MQSOnD0Eaib9Af01vQYS9yUBKuI5BM2/VP5iqiEBX/Ag/k/k4QKc0qUHJ9JZBRAhiQTi+jUHW4k9Bj+x1QVANWEH50X1BjnW7wHJCKkGVqCxB3ECAQRbneEECD6BBT/6tQXOAsUGcCa1BuJ2fQSzvrEELcbVB/jGvQbsNo0GTZrVBc1rPQVxWpEEYBoxBZImCQHgpgEDaF59A4jtUQBq40D+6lHBAKRq7P51liUAZSC5BNKF/QDm09UAbOoJAXRCNQHaYj0HLOoZBVpyHQQ1SfEEMdnFBCrJ2Qdw+h0GmuI1Bk/+IQSKlmEEHtJJBExGGQfWAlkE=",
          "dtype": "f4"
         },
         "xaxis": "x",
         "y": {
          "bdata": "ElJSQeiFFkKUme5BkCgQQsnAGEIvKwlCi38GQri3EkK44stBWTDeQfsx70EKEA5CRjHKQYvkEUKIGhRCQRYNQoddE0JymBlCkLsKQtwNF0KQQA9CJe8QQjGiC0LoSwRCBq4SQhvgEkLN7gNC518KQi9WB0L0mgRCN0jVQdPh00Ew0gNCXfWiwPKjBEIp3vpByqgMQk5f2EGw2Q5CiuoFQrBbBULUzQRCeWcHQrG6B0IAtfNBw9MCQr7iAEJHsQVCr5YRQq8NDkJIV/dBy/4BQujn/EE7ngVCcLwHQk9JDkJAYgFCoLUCQumtBkIL+gVChW4DQjbRB0KEeQZCEQD8QZDGC0K7E/JBM9DoQe9B6UF+6clBapTzQeSQ7EHro/RBCyrUQVUk00HNI91B6ub8QR1w60HJfQxCppgQQjd0CEIXBwxCagcJQsq7+EEnaA5C8CL9QVwxBkIUeApC1ykOQkSDC0I8NA9Cx0MKQjURBkLQcwFCbt/1QVVE+EFquAJCNuwBQpbiA0KpggJCM3L7QXesDkIZE/pBEbn5Qd4wEEKZT+dB/C8QQpIHAUIZYu9Bsn/bQQC670H/nwtCxXvmQe//+UH8E+JBY6/iQeyl40GqjOFBnqrTQdko3UFLGBNCsl7WQXJ5EEI+nBFCE6LTQSSZ7kFXEdVBub4WQjFuBkL4lAxCQtgZQjbn90FUFxRChv3aQaudEULsyNtBhqcQQh444UHNK9VBW6Eews5h2UH0sd9B4uPRQXmaFEKyRQpCpX32QY2p00Hwz/dBaD8PQmrX80EjtAZCcRzwQf9L6kExGgdCMjH2QVmk70EHpghC3uvwQbTA6kEf2OFBDWXYQVOVGkKpxu9BqiASQvPQ7kEEPdpBlTDdQUl6BEJ5nedBSn3gQerT9kFpCvFB1DvsQafL8EEu+v9Bg/ESQosM80GSjftBBBvsQUDc+UGR9+xBDi7pQeDx80E=",
          "dtype": "f4"
         },
         "yaxis": "y"
        },
        {
         "hovertemplate": "label=6<br>TSNE1=%{x}<br>TSNE2=%{y}<extra></extra>",
         "legendgroup": "6",
         "marker": {
          "color": "#FF6692",
          "symbol": "circle"
         },
         "mode": "markers",
         "name": "6",
         "showlegend": true,
         "type": "scattergl",
         "x": {
          "bdata": "FB0hPzx6rkCJMR+/BmRWQEeEkr+ZMwo/sigAQRP+y779Kwk/7VXFPx0/or2CuDq/VMkgQEW2m8DO3R9AjPqgP4jRzb/2jZQ+AEk2Py1Qvz6bWJy/MahEv4AdHEAeqDnAezxVwHkpPcD9KZO/LMHlv02V1j/wBL/ANl0EP/FECz9iiq5AHnsoQMxXg8A1dds/Gc20v7zOfT8wAijABL8NwGTCIr+P7ti/QE2NwNDK176mzSTAU06Uvjj5rr8LwAFAHQEdvJ4iR75jBZjAc3cUwLOppcCV4VDAYE+GwFUensDy0qnAsXNBwObisMC37KrAvpucwHBxK8DJCBPAx/2TwDV+/z/MH3k+d93rPd6es7+IGjy+OopjwEYbPEAPtXnAeG9/vp9z/kD8enPAp/TKQKo9ykCJ1grB2gITwU9MBj9f2eDAkRyKP15zzb5bduPAS3oOwTcXisD+AIQ/NlQUwJ8YX0Dv1vS/0rAowPOYNcCPsYjA5ZCEv1c/L8BkH5K/vPjMv9RPG8ATGzHAAwSfQGPJHb6pJlvA37iDwD63hcDVl7jAbUI1vqHjTkCImHW/R/UhQBoei0AuwwJBj+YEQeRh80A/g5xAmxQhv6rQDcAdWp3AtP9YwL1xpUBJRANBX6vvQKKCgECXEji+jJH1vlzPMEBgYnxAHvuyQJqfhb75pgZBitEKQX8LwUBj0BlBYAkTQZLAjT9xxX4/ZGunP6j/uz+2u3RAMGEaQXKdg0DaNaZA0EP4QLNEn8CwIavAd2elwIZUnMD+gZnAFrxwwOdYU8DQhTDAOBKnwAteaMDgcRnAzvMlwGlTxD/MxLxAFq6XQPZDQUA6MSFAFqyUQMhIbUCQ71hAQnN+QBquk0B7xIZA/5KqQPqMXEADcE8/Zp7GwFqEfMAv/rvA2ZyxwCQNc8DDgcW/9xipwCrVv7/CwsG/lJWdPcXmFcCUpdU/SvN/wA==",
          "dtype": "f4"
         },
         "xaxis": "x",
         "y": {
          "bdata": "lFQMwqBYKMLIgg3CnzMWwjDnEMJc7RjCOQAywmOIT8L0FQ/CQCcTwt0gBcJGuAbCEMkLwkh0NsIqsSPCXbEUwh/LTMJVeUjC340WwpsmSML+vEbCjbRPwgebFsLjPSvChCQ9wmbiP8JNTz3CnnlNwnr+McKeMkTCcsQ8woU+PMKOJTnCCPAYwp5xQsKoXjDCtIA/wkrPOsK+dSXC7bglwhGBJMJqXSbCwf0lwqdaJcLf5yfC3AcmwuI2F8KbySTCWcgowq9VIcLZwAfC2YIYwgYNIcJwShzCffoVwm+JEMIhbxjCGa8Xwgp5IMJQuxjCrsYPwmzEGMIhlxbCW/ASwuNpQcJiLULCve5CwsbdScKR+k3Ceb5EwoacO8JagU3C4kRBwswwM8K8eELC40gtwvO4LML2TzfC1E44whsKI8KlITzCHIsbwlJsIMIodTzCqPs2wmdEMMLvrSbC7gkxwnY2FMIjlEbC0ZNHwjSsTcI9OkfCTP42wm+OSMLprTTCoPE5wgZMRMKQT0TCoQAuwgT8MsKu6kDCnN87wqudRMJBzz3Cl7w2wr6gGsJH9BXCPlRBwohjL8KFTDnCQC0zwpujNcLMwjrCkQgKwndqPMKEFUbC8GMTwm2dL8K9GzrCM/Y/wjBIMMIW2xnC2asYwgHbLcIftC/CltI2wsFVHMJBHD3C/JlAwpRwNcL/9kDCzcZAwhKAIcLEjCLCVP8kwlHKIMKh9iPC499AwrkeJsJ07iLCZ51AwtxKPMIhUD7CxwtCwuxMJMJJpT3CSnc/wo7tTcLrUzjCwcg6whq5OcKtAjTC2MU0whuhLsIeAx/CwfMawqgyDcIicx/CMHEfwnVWHcKUARLCtZwgwoPtH8IZ7hfCHu85wk2CD8KXPwjC9N0uwuDFMMKKgy/CVZQywsUALsJpfQjCldozwi7BUcJ30g3CfAQSwhN4EcIzKQ/CDgc1wg==",
          "dtype": "f4"
         },
         "yaxis": "y"
        },
        {
         "hovertemplate": "label=7<br>TSNE1=%{x}<br>TSNE2=%{y}<extra></extra>",
         "legendgroup": "7",
         "marker": {
          "color": "#B6E880",
          "symbol": "circle"
         },
         "mode": "markers",
         "name": "7",
         "showlegend": true,
         "type": "scattergl",
         "x": {
          "bdata": "1S9hwcOFr8FaT9LBycq/wV9nZ8GkDsrBcOa0wQ/aisFGMNTBh8GiwVBjvMHHCJ/BeCizwZp6q8GRgq7BG7G2wU7EvsFC5qLB5Cmkwam+qsGEVF/Blt2swZwJv8Gwf5TBlNavwfufxsEq+ZHBKa3IwTN+l8FM5KbBuZfHwbsNzsEl56TBFYinwWmOpcHqV7zB2q6mwejjrsGvCrvB93TBwYSWycE3Ub7BCVS6wU2cu8Hcv9DBFr/GwQ66rMHTsCbBdCbNwSKGvcHt1azBsX5iwd+ec8G4k8PBkqOzwaDadsHDyWnBGojBwWEhg8FXPn/BiLadwSG8jcGCLIXBRMBzwUgxfcHTMMLBnSvXwTIz1sHo77bBbcXLwcSZzcE6qM/B1+/VwVwT1MFfodTB1SvYwTNeh8EchaLBSDSXwbehoMEVC6PBThSlwUDBqsFkJaTBK3WnwbfhuMH25qbBmvWrwayTpcGeAYrBLYKUwTgZh8G2+JbBb7aLwZUgpcEVwInBivmQwbMYm8EbiI/BMkjEwfi2kMGrXZfBJ+eTwReWkcGnKITBQ4OAwXDnlcGutnzBM8VjwRW5gME00GLBZQ+LwdbUv8E24ZvBry2/wSs3bMF/v7XBV0XEwUTFc8FBSm/B/hOIwa+GXcHxnXLB/ZKCwfLjjcFfBmXBwTLCwTt8ucFQkYHBF2WnwWVajcGFsqbBuUCKwdfPjsHTIXvBtFpwwaSKo8EvhKzB6UubwUsQycHIS4bBfO+hwSzRp8FGj6LBUNWfwZuJmsFtzL3BttKjwYRnpsHXpKHBlJmhwed9nMH6SKfBS5aewTX4dMGpv2jB/5uYwZzhisG/dZDBlO6MwTrsi8Fj7pnBm06BwbsPlsFRvZTB98tjP9o8dcEo6MfB2jh5wfWTisEoq8jB7UexwVuvwsFkVbjBpMe4wZKhl8EG4YbBFwi4wdTMmcE=",
          "dtype": "f4"
         },
         "xaxis": "x",
         "y": {
          "bdata": "NRoEQn91A0IsW+lB77UBQvA4EkK6lu1BXO0DQv9SDkJfq+VBOsoDQmBdAkLM3gZCwmn2QbRADUIzlw1C1TQbQl5w10H5+9pBZZUQQg9GI0J7zSNCIHMfQgSm4UGHPRxC1JAdQns7qEEgNBJCOvmjQZm/FEKZmtRBQtDZQZjpnUHumABCaK4DQrlsF0KwBhlCfH4DQqWy3UEyQ5NBmq2YQe4smUFlApNBVsCnQQKrk0FBNpdBNQ2RQSYnrUGG5IBBFRaaQcdwmEH1pqxBLJUjQjm6DkKcYtRB18X+QRovDEK4ihpCQbDJQUx4E0LZLQ9CaqEQQjgxDkL5GSBCTUYMQsgUCkLsfcZBOgWQQQI3fEHeLGhBgyTbQWi11EEvptpBcPGOQZ9G2UGstdlBacvaQWJADkI7dftBHBQRQgScEkIcqRtCtk73Qc9ZH0JTdQ1CMXoLQhZ+40EQWRpCOaUQQs6FDEIBcBhCdM3JQQCH3UEdvNNBMZDhQZksw0E4o95BqXXTQU3m50G6iNJBkImoQTwt40H9QuBBY7DqQRUw4kHvkfFB/ljmQcI5/EE/jupBO0bdQWRcF0IDMN1BTBvuQSH3skEUBBdCbECyQcB1GEJgSOtB74TNQaXZHEKH1hRCRpEQQp+7F0KzRxxCqUofQiqvEkJoCBxCaqbaQYQV2EEp/SlCu8D0QcVRA0I5z/BBiGUJQlGnA0JdgxpCfWYXQjsfHELngv5BescjQqD430EPIgxCOWbRQfP5y0HhFc5BbtHnQUpw80EwcKJBrofVQWjf7EHAbfdBeGHoQcJ7zEGGONFBKODNQfMOKkJzbyNCdCQWQjjhJ0JZRCxCB3gnQvAPHUJQ6SVC4ZoqQr+CDEIHsRxCRJ8dQhtQEEISEfJBMAMQQgm2zkGa3NlB1BsVQtjYFUI4EhtCMnUXQhM8CEILChlCP7/qQSAvHUI=",
          "dtype": "f4"
         },
         "yaxis": "y"
        },
        {
         "hovertemplate": "label=8<br>TSNE1=%{x}<br>TSNE2=%{y}<extra></extra>",
         "legendgroup": "8",
         "marker": {
          "color": "#FF97FF",
          "symbol": "circle"
         },
         "mode": "markers",
         "name": "8",
         "showlegend": true,
         "type": "scattergl",
         "x": {
          "bdata": "5LT6QHFuAsBy0R8+Vn8Pv2/YUD6KUYs/wKwbQFRSGcA3IgxA0JO1v09fa0A4bkfAoIXmwGbPsUBsmbNAN68WP8uSsECZ186/zlGQQG4yzr/u2INARlFcPyj8NEBdDHNApRuCQP00KkAr/jdB6kceQFwZK0DoKx9BylTsQFJRNUG22jJB2GhOQKZLI0EkK15B+uDwQL1/IkBE7hNBmAxcP9UM90DF9upAhbIFQapuMkEBxwBBIQgoQY1iTEFE29xAYXbJQPffFEG+7wVB8/SBQFVMvUDFd9hAyS2EQOCi0kCCLexA8DXdQBHmzkAFenZA8RaHQALE00BHFdZAZBmLQNUVIEGQEp5AcrMeQe7Cr0CNZLZAw+2YQE1bR0H7upRAn4WQPxrILkGDH3JAomcaQST7hEBb7IdBAaqSwfIKUUBf5UtBXNEuQfc/KEG7rUNAO7mHQVibBEGw2gdBtofqQccy/EA7qoZBrx05QackR0F6r0VBN6U5QU8ID0HH8ktB81QlQdpCPkFktElBx5M/QUFsMEE0oidAH5a4v9zKO0GtGj9BtNeGQDFowr9H0DhBxvIxQbqP5j+QWlxBAW4OQR7kOkGNYztBRjvZQXBgCcCDeZ2/DqFlPhEqHL/xMn+/B0XJPvpqd78zI+BBqYgAwMw3nz7EM7S/9w6Ev4udPECOINlBltHSPkUQjj7mqu8/zNUoQNVMnUCYfI6/KiBXvpaX0z+3hUJAGXjgvb+hOkGWoDtBEnhKQTGHDUH5WxhBDvRvwT2pKEHSIR5BreIaQRhEE0He/ApBXnEYQe3FBUHxV1XB9CSBwBOW3z/f/05AnLwvQPrfLkAlJSJARdqZPxvhzz/WvPFAzql8v41P5kCTSQlBTaw9v4ztmT/3rr5AR0o+wDwC6EBZcHrAwBiNwLO++j8ADu5A",
          "dtype": "f4"
         },
         "xaxis": "x",
         "y": {
          "bdata": "OcgcwHi8A79vKFrA7P8HQIYbm7/+GW7AFOMvvXSt1D9IFSPAK1YGwIghucC+9Tm+K0YwwZWrYsB+ybm/XGrDwJ3jZcArEZ/AAk6iwM3Vm8DLG//AMkOrwGs5ncD6VLTAEGv8wD/uNsA7xidAXV6SQMf1lkAc/JbA1FBgQFMETkCiP60/I8QeQL8zMz8SUyu+QBJqQCZzkECP34pATXljP+sfzEDUUPs9Nvt2PyuZrEDSqQBAWwmkvxMl4D/ukek+W68yvrKMN0Binak/2aZAwQJXJcHAkyDBVLM6wZNAK8Fgti7BF580wfqnLMGhTTbBNgBDwfymNcGH9TLB6J87wW+lHL+4AEZAxfNHvx8R6D8i1fs/vuUOQDVWBUDgCie/n87/Pwc/4D82Pkc+MQJrv2wssz+iPBHBKWAlvsh80r/YwnJA0IrYQBKd30CH/1zAKHMQwUm1BUEhUQNBtfQKvwQ3B0GFEhHBBFJeu4lNjr5JSIm/2x6ZvZgvgD+1c5c86ZLaP4dnmECAdZu/4BFXQFzy4j1jdrxAUq6EQLoZyMAQMJzAENN7wEilhECVfaLAZnigwKBJw0BXbJrAGqm3wDM128Dv8NDALo+jwJ2W2j/X/pA/drTgQMlvFUCTGllBoVfaQKPetL0q8evAO9xMP1sK3b7dfPa9F5vMvnr/Pr9U58vAReOaP72EEMCsDzvAwyDqvrpk07+UqWe/nMjSv8BVFsAc9z4+/4U3P75chECgRXhAglRlQF+uoUADQJRAItLQQE5ss0C6a7NAE9zhQNWM30BD6tFAfB/qQH6SwUBQbSfAy0zrPwDvEsF9+QfB1IkOP5BP9sA89gvBam/nwJjQ6sDcfbzAcL28QOovt8Au/AHAwCO+QCgZvkB6OojAe7lDwDohhsAor1rA7Hp7wN10ncCl5ITA",
          "dtype": "f4"
         },
         "yaxis": "y"
        },
        {
         "hovertemplate": "label=9<br>TSNE1=%{x}<br>TSNE2=%{y}<extra></extra>",
         "legendgroup": "9",
         "marker": {
          "color": "#FECB52",
          "symbol": "circle"
         },
         "mode": "markers",
         "name": "9",
         "showlegend": true,
         "type": "scattergl",
         "x": {
          "bdata": "nIwTQt3dJ0IIYSdCpiQoQpHsHULQLhxC3RDQv2xKGkJV5QRCjx0lQh2+KUKldf9BtL8HQlT7IELR0BVCSkIcQooGHkId7ChCOfoiQmi9F0KnyQpC310KQqGXGkLrYxhCj2cPQoL5EcGGUhLBb3IPQmBAK0LyJwBCBzEkQtOkKcHI7hXB0aEVwWkkIcHzSKvBwqmxwcnGGsFf6ghC9cAmQsVvJ0KpYR5CluIcQsHrHEK0jBpC0DAcQgltG0KxJB1C0e8bQoAiBEIZBhtCZUrxQS7i+kHaGehB8mM8QJunBEIdz+lBvHUAQm9EF0Kr/exBmK/qQcXqIUKYdwlCBZYqQsFMz8GU5bXB9V2wwXH0tsFLbajB5nezwf60scE0r7HBGC+ywRxsusEBz77BW1DPwZAhqsE9myVCWKH6QeVlLUK3UgdC8lCmQeNRB0IaJCxCJAASQgcrBUIwbilCYAcDQnKUAkJoDApCPSQvQrRjJUJQiylCMdoSQoS4KEJW4CZCDnIuQkVULUIhISlC/volQnMsE0LuS+ZBWbkjQqb8CEJ7tyFCFGTBQR1p+UFC1yJC3V/6QSnkIEKbmbA/l/okQp5bBELpBAdC/R4nQgouAUJtMBhCBncQQUq0F0KmMRhCK1sOQhDBGELeFRhCndkGQh/bF0IVJghCZZoIQtZ/DULUof9BolEpQqh9G0JrWxhCLNwSQpx3FELT1hVCWEsrQoEpEUJUZyJCg1oQQqmOEELXqgFCIRYWQqJ3CkJJBRhCuMIcQtMtDEKH3xxC59EmQo5rIEKrHA1CnO0gQjCEF0IH/AZC15IIQsBBr8E056jByvfTwf/6rMG03zzB1c5LQF0MqcHx+SdCs5IpwbrOJEIMJaBBTShJQLQkMMGsDCJCgAwRQp2oI0L4fBBCQJ0JQstxC0K1ShlC3oISQo9rF0KODhVC0bUTQmXNEEJLkw9C",
          "dtype": "f4"
         },
         "xaxis": "x",
         "y": {
          "bdata": "CnZWQQ4dNkFsuTdBw+o1QVFozkDMJ7JBU/hTQROHSkE7dqdB5ftcQaT8ZkF+vIRB7uzfQRyjaEHOl2lBrDdgQf27WUGyMn9BcDxoQW7JXkEa04tBBV6OQfiqXEEsjIRBZ5GCQawYhkHvWo9Bh1evQVHFdkEf5JVBT+XGQZMXikGKWY5BZ7WJQcX7jEHXE0dB2JFBQWkOiEGQqd9BTK6FQbQ6hkFPGYdBA3yNQbYwpUF+UqZBRPqOQWlEl0EKy41BSoiZQd8Vy0EF8ZlBLrm7QTsJwUHwQ65BxNcqQDo93kHVJbdBf4rCQQmQz0H+jrhBmyO3QVRBo0EyRMpBnF2KQbFyWEHyiDdBNng3QYfyMUG5Qi5B1kczQRJ1NUG6NBJBX5oiQaZfQ0FHuFFBjCNXQfpLOkGjrY5B//LeQRCsiEEZG+RBrzApwC9Ly0H+z4lBNt2KQTHL30HuX4JBhVDRQf7Bz0GtX95B65iiQWXTr0E4FKxBT/i4QT1KmUGnwKJB8EWfQegHpEFelJhBQlmyQUH7uEERWalB6aSxQdOSPEET1w9B4cDqQdL8j0F7uw9BgF6TQS9jEEEMfNBAIMgSQe3AgUEudHJB85USQQmSgkE0b4VBQa5BwuylhEGHecRBkCe6QWEkykFIcm1BUYuVQVF5zUEP65lBWWuVQQh1rEEF+ZVBdxW4QWUTwUF9WMVBwF2sQan2kEFFmtJBh+B4Qcfmn0GgTpdBM7HCQTtkw0FwasFBeL+0QbSurUHpM7RBwCezQYASr0E9DLRBY+6kQYbRu0HE5q5B+qG4QR0wqUHcm7RB/9yzQXxWKEGU+VpB7LyYQdH+WUHeTYhB443WQWWcSEHYs21BfKqLQczpVkHC9tJAmp/XQZldjEH/AKxBczidQfMIe0Gwc5ZBdIGkQTDrpUGQXqFBdaeXQaXgm0GhD6FBBrRqQbIrk0FF9YFB",
          "dtype": "f4"
         },
         "yaxis": "y"
        }
       ],
       "layout": {
        "legend": {
         "title": {
          "text": "label"
         },
         "tracegroupgap": 0
        },
        "template": {
         "data": {
          "bar": [
           {
            "error_x": {
             "color": "#2a3f5f"
            },
            "error_y": {
             "color": "#2a3f5f"
            },
            "marker": {
             "line": {
              "color": "#E5ECF6",
              "width": 0.5
             },
             "pattern": {
              "fillmode": "overlay",
              "size": 10,
              "solidity": 0.2
             }
            },
            "type": "bar"
           }
          ],
          "barpolar": [
           {
            "marker": {
             "line": {
              "color": "#E5ECF6",
              "width": 0.5
             },
             "pattern": {
              "fillmode": "overlay",
              "size": 10,
              "solidity": 0.2
             }
            },
            "type": "barpolar"
           }
          ],
          "carpet": [
           {
            "aaxis": {
             "endlinecolor": "#2a3f5f",
             "gridcolor": "white",
             "linecolor": "white",
             "minorgridcolor": "white",
             "startlinecolor": "#2a3f5f"
            },
            "baxis": {
             "endlinecolor": "#2a3f5f",
             "gridcolor": "white",
             "linecolor": "white",
             "minorgridcolor": "white",
             "startlinecolor": "#2a3f5f"
            },
            "type": "carpet"
           }
          ],
          "choropleth": [
           {
            "colorbar": {
             "outlinewidth": 0,
             "ticks": ""
            },
            "type": "choropleth"
           }
          ],
          "contour": [
           {
            "colorbar": {
             "outlinewidth": 0,
             "ticks": ""
            },
            "colorscale": [
             [
              0,
              "#0d0887"
             ],
             [
              0.1111111111111111,
              "#46039f"
             ],
             [
              0.2222222222222222,
              "#7201a8"
             ],
             [
              0.3333333333333333,
              "#9c179e"
             ],
             [
              0.4444444444444444,
              "#bd3786"
             ],
             [
              0.5555555555555556,
              "#d8576b"
             ],
             [
              0.6666666666666666,
              "#ed7953"
             ],
             [
              0.7777777777777778,
              "#fb9f3a"
             ],
             [
              0.8888888888888888,
              "#fdca26"
             ],
             [
              1,
              "#f0f921"
             ]
            ],
            "type": "contour"
           }
          ],
          "contourcarpet": [
           {
            "colorbar": {
             "outlinewidth": 0,
             "ticks": ""
            },
            "type": "contourcarpet"
           }
          ],
          "heatmap": [
           {
            "colorbar": {
             "outlinewidth": 0,
             "ticks": ""
            },
            "colorscale": [
             [
              0,
              "#0d0887"
             ],
             [
              0.1111111111111111,
              "#46039f"
             ],
             [
              0.2222222222222222,
              "#7201a8"
             ],
             [
              0.3333333333333333,
              "#9c179e"
             ],
             [
              0.4444444444444444,
              "#bd3786"
             ],
             [
              0.5555555555555556,
              "#d8576b"
             ],
             [
              0.6666666666666666,
              "#ed7953"
             ],
             [
              0.7777777777777778,
              "#fb9f3a"
             ],
             [
              0.8888888888888888,
              "#fdca26"
             ],
             [
              1,
              "#f0f921"
             ]
            ],
            "type": "heatmap"
           }
          ],
          "histogram": [
           {
            "marker": {
             "pattern": {
              "fillmode": "overlay",
              "size": 10,
              "solidity": 0.2
             }
            },
            "type": "histogram"
           }
          ],
          "histogram2d": [
           {
            "colorbar": {
             "outlinewidth": 0,
             "ticks": ""
            },
            "colorscale": [
             [
              0,
              "#0d0887"
             ],
             [
              0.1111111111111111,
              "#46039f"
             ],
             [
              0.2222222222222222,
              "#7201a8"
             ],
             [
              0.3333333333333333,
              "#9c179e"
             ],
             [
              0.4444444444444444,
              "#bd3786"
             ],
             [
              0.5555555555555556,
              "#d8576b"
             ],
             [
              0.6666666666666666,
              "#ed7953"
             ],
             [
              0.7777777777777778,
              "#fb9f3a"
             ],
             [
              0.8888888888888888,
              "#fdca26"
             ],
             [
              1,
              "#f0f921"
             ]
            ],
            "type": "histogram2d"
           }
          ],
          "histogram2dcontour": [
           {
            "colorbar": {
             "outlinewidth": 0,
             "ticks": ""
            },
            "colorscale": [
             [
              0,
              "#0d0887"
             ],
             [
              0.1111111111111111,
              "#46039f"
             ],
             [
              0.2222222222222222,
              "#7201a8"
             ],
             [
              0.3333333333333333,
              "#9c179e"
             ],
             [
              0.4444444444444444,
              "#bd3786"
             ],
             [
              0.5555555555555556,
              "#d8576b"
             ],
             [
              0.6666666666666666,
              "#ed7953"
             ],
             [
              0.7777777777777778,
              "#fb9f3a"
             ],
             [
              0.8888888888888888,
              "#fdca26"
             ],
             [
              1,
              "#f0f921"
             ]
            ],
            "type": "histogram2dcontour"
           }
          ],
          "mesh3d": [
           {
            "colorbar": {
             "outlinewidth": 0,
             "ticks": ""
            },
            "type": "mesh3d"
           }
          ],
          "parcoords": [
           {
            "line": {
             "colorbar": {
              "outlinewidth": 0,
              "ticks": ""
             }
            },
            "type": "parcoords"
           }
          ],
          "pie": [
           {
            "automargin": true,
            "type": "pie"
           }
          ],
          "scatter": [
           {
            "fillpattern": {
             "fillmode": "overlay",
             "size": 10,
             "solidity": 0.2
            },
            "type": "scatter"
           }
          ],
          "scatter3d": [
           {
            "line": {
             "colorbar": {
              "outlinewidth": 0,
              "ticks": ""
             }
            },
            "marker": {
             "colorbar": {
              "outlinewidth": 0,
              "ticks": ""
             }
            },
            "type": "scatter3d"
           }
          ],
          "scattercarpet": [
           {
            "marker": {
             "colorbar": {
              "outlinewidth": 0,
              "ticks": ""
             }
            },
            "type": "scattercarpet"
           }
          ],
          "scattergeo": [
           {
            "marker": {
             "colorbar": {
              "outlinewidth": 0,
              "ticks": ""
             }
            },
            "type": "scattergeo"
           }
          ],
          "scattergl": [
           {
            "marker": {
             "colorbar": {
              "outlinewidth": 0,
              "ticks": ""
             }
            },
            "type": "scattergl"
           }
          ],
          "scattermap": [
           {
            "marker": {
             "colorbar": {
              "outlinewidth": 0,
              "ticks": ""
             }
            },
            "type": "scattermap"
           }
          ],
          "scattermapbox": [
           {
            "marker": {
             "colorbar": {
              "outlinewidth": 0,
              "ticks": ""
             }
            },
            "type": "scattermapbox"
           }
          ],
          "scatterpolar": [
           {
            "marker": {
             "colorbar": {
              "outlinewidth": 0,
              "ticks": ""
             }
            },
            "type": "scatterpolar"
           }
          ],
          "scatterpolargl": [
           {
            "marker": {
             "colorbar": {
              "outlinewidth": 0,
              "ticks": ""
             }
            },
            "type": "scatterpolargl"
           }
          ],
          "scatterternary": [
           {
            "marker": {
             "colorbar": {
              "outlinewidth": 0,
              "ticks": ""
             }
            },
            "type": "scatterternary"
           }
          ],
          "surface": [
           {
            "colorbar": {
             "outlinewidth": 0,
             "ticks": ""
            },
            "colorscale": [
             [
              0,
              "#0d0887"
             ],
             [
              0.1111111111111111,
              "#46039f"
             ],
             [
              0.2222222222222222,
              "#7201a8"
             ],
             [
              0.3333333333333333,
              "#9c179e"
             ],
             [
              0.4444444444444444,
              "#bd3786"
             ],
             [
              0.5555555555555556,
              "#d8576b"
             ],
             [
              0.6666666666666666,
              "#ed7953"
             ],
             [
              0.7777777777777778,
              "#fb9f3a"
             ],
             [
              0.8888888888888888,
              "#fdca26"
             ],
             [
              1,
              "#f0f921"
             ]
            ],
            "type": "surface"
           }
          ],
          "table": [
           {
            "cells": {
             "fill": {
              "color": "#EBF0F8"
             },
             "line": {
              "color": "white"
             }
            },
            "header": {
             "fill": {
              "color": "#C8D4E3"
             },
             "line": {
              "color": "white"
             }
            },
            "type": "table"
           }
          ]
         },
         "layout": {
          "annotationdefaults": {
           "arrowcolor": "#2a3f5f",
           "arrowhead": 0,
           "arrowwidth": 1
          },
          "autotypenumbers": "strict",
          "coloraxis": {
           "colorbar": {
            "outlinewidth": 0,
            "ticks": ""
           }
          },
          "colorscale": {
           "diverging": [
            [
             0,
             "#8e0152"
            ],
            [
             0.1,
             "#c51b7d"
            ],
            [
             0.2,
             "#de77ae"
            ],
            [
             0.3,
             "#f1b6da"
            ],
            [
             0.4,
             "#fde0ef"
            ],
            [
             0.5,
             "#f7f7f7"
            ],
            [
             0.6,
             "#e6f5d0"
            ],
            [
             0.7,
             "#b8e186"
            ],
            [
             0.8,
             "#7fbc41"
            ],
            [
             0.9,
             "#4d9221"
            ],
            [
             1,
             "#276419"
            ]
           ],
           "sequential": [
            [
             0,
             "#0d0887"
            ],
            [
             0.1111111111111111,
             "#46039f"
            ],
            [
             0.2222222222222222,
             "#7201a8"
            ],
            [
             0.3333333333333333,
             "#9c179e"
            ],
            [
             0.4444444444444444,
             "#bd3786"
            ],
            [
             0.5555555555555556,
             "#d8576b"
            ],
            [
             0.6666666666666666,
             "#ed7953"
            ],
            [
             0.7777777777777778,
             "#fb9f3a"
            ],
            [
             0.8888888888888888,
             "#fdca26"
            ],
            [
             1,
             "#f0f921"
            ]
           ],
           "sequentialminus": [
            [
             0,
             "#0d0887"
            ],
            [
             0.1111111111111111,
             "#46039f"
            ],
            [
             0.2222222222222222,
             "#7201a8"
            ],
            [
             0.3333333333333333,
             "#9c179e"
            ],
            [
             0.4444444444444444,
             "#bd3786"
            ],
            [
             0.5555555555555556,
             "#d8576b"
            ],
            [
             0.6666666666666666,
             "#ed7953"
            ],
            [
             0.7777777777777778,
             "#fb9f3a"
            ],
            [
             0.8888888888888888,
             "#fdca26"
            ],
            [
             1,
             "#f0f921"
            ]
           ]
          },
          "colorway": [
           "#636efa",
           "#EF553B",
           "#00cc96",
           "#ab63fa",
           "#FFA15A",
           "#19d3f3",
           "#FF6692",
           "#B6E880",
           "#FF97FF",
           "#FECB52"
          ],
          "font": {
           "color": "#2a3f5f"
          },
          "geo": {
           "bgcolor": "white",
           "lakecolor": "white",
           "landcolor": "#E5ECF6",
           "showlakes": true,
           "showland": true,
           "subunitcolor": "white"
          },
          "hoverlabel": {
           "align": "left"
          },
          "hovermode": "closest",
          "mapbox": {
           "style": "light"
          },
          "paper_bgcolor": "white",
          "plot_bgcolor": "#E5ECF6",
          "polar": {
           "angularaxis": {
            "gridcolor": "white",
            "linecolor": "white",
            "ticks": ""
           },
           "bgcolor": "#E5ECF6",
           "radialaxis": {
            "gridcolor": "white",
            "linecolor": "white",
            "ticks": ""
           }
          },
          "scene": {
           "xaxis": {
            "backgroundcolor": "#E5ECF6",
            "gridcolor": "white",
            "gridwidth": 2,
            "linecolor": "white",
            "showbackground": true,
            "ticks": "",
            "zerolinecolor": "white"
           },
           "yaxis": {
            "backgroundcolor": "#E5ECF6",
            "gridcolor": "white",
            "gridwidth": 2,
            "linecolor": "white",
            "showbackground": true,
            "ticks": "",
            "zerolinecolor": "white"
           },
           "zaxis": {
            "backgroundcolor": "#E5ECF6",
            "gridcolor": "white",
            "gridwidth": 2,
            "linecolor": "white",
            "showbackground": true,
            "ticks": "",
            "zerolinecolor": "white"
           }
          },
          "shapedefaults": {
           "line": {
            "color": "#2a3f5f"
           }
          },
          "ternary": {
           "aaxis": {
            "gridcolor": "white",
            "linecolor": "white",
            "ticks": ""
           },
           "baxis": {
            "gridcolor": "white",
            "linecolor": "white",
            "ticks": ""
           },
           "bgcolor": "#E5ECF6",
           "caxis": {
            "gridcolor": "white",
            "linecolor": "white",
            "ticks": ""
           }
          },
          "title": {
           "x": 0.05
          },
          "xaxis": {
           "automargin": true,
           "gridcolor": "white",
           "linecolor": "white",
           "ticks": "",
           "title": {
            "standoff": 15
           },
           "zerolinecolor": "white",
           "zerolinewidth": 2
          },
          "yaxis": {
           "automargin": true,
           "gridcolor": "white",
           "linecolor": "white",
           "ticks": "",
           "title": {
            "standoff": 15
           },
           "zerolinecolor": "white",
           "zerolinewidth": 2
          }
         }
        },
        "title": {
         "text": "Visualización del Dataset Digits con t-SNE= 30"
        },
        "xaxis": {
         "anchor": "y",
         "domain": [
          0,
          1
         ],
         "title": {
          "text": "TSNE1"
         }
        },
        "yaxis": {
         "anchor": "x",
         "domain": [
          0,
          1
         ],
         "title": {
          "text": "TSNE2"
         }
        }
       }
      }
     },
     "metadata": {},
     "output_type": "display_data"
    },
    {
     "data": {
      "application/vnd.plotly.v1+json": {
       "config": {
        "plotlyServerURL": "https://plot.ly"
       },
       "data": [
        {
         "hovertemplate": "label=0<br>TSNE1=%{x}<br>TSNE2=%{y}<extra></extra>",
         "legendgroup": "0",
         "marker": {
          "color": "#636efa",
          "symbol": "circle"
         },
         "mode": "markers",
         "name": "0",
         "showlegend": true,
         "type": "scattergl",
         "x": {
          "bdata": "oxSOwb37ecFQVY7BYRqOwQX8fcF8SprBI3KiwXmdisGYm5XBLLuwwbCHp8EvEJzBdDKTwTQqmMH5MIjBOhyjwbKafsES3IvBvwuowT3/i8GaIJHB0hGbwfgxh8GAqpzBJ1qnwRxWlsFccnzB/3ifwQDEjMExyX7BEVuJwfj1mcG/iJnBxHyUwQCSj8GhFHvBhpqIwR49o8EV86HBfSeuwbOQocEttZjBLuiAwf4prsEnD6TB3tScwbUDn8FGEInBsz6XwXPip8F4r6DBP42UwXQhi8Fl+5XBH2SNwa4UisF9kKLBlUiTwVAJrsHlyIDBZuGRwS1Xm8F6eobBC/uGwS44ksEpO3nBA6F+wcOGfMGD7IXBGsGbwcFmj8G/+YTBphSEweGNiMF/v4LBTuCTwbspl8ED/4rBHx2VwTfKpcHOR4DBm0uVwSGZj8H83mnBf4VvwbgldMFroIXBJeGAwfQAl8FL7JDBDJhqwXSCnsHWFZzB8lSXwatFnMFmXZjBdQKhwTvJlMHsl6/BSvubwdg/o8HClI7BhvKbwcKlrcGXb6LBQ46iwVNxr8G5MbTBItmpwYSAncGcAqrBOWqtwb8RkMH2qaTBr/aRwXO/icGYs4bBurqAwROcicE2Lo7BgLWJwcVbg8EKM3/B4wKAwTB/g8G635PBTL97wao9r8F5RY7BoXiZwZM9sMGvPYLBKC2VwcRXk8HAmZHBvAmHwX07kMF44pvBzOaSwcutgsGl9ZvB3V2gwZ2omMHA9aTBIX+iweewnMGHg53BCJSuweTssMGiL7HBv4iYwTXCpsGot5XBqg6PwSg7ksEWA4nBetaAwejgksGc84TBWOBnwQSsmMFDTovB0uimwaDZicGkYYrBHLykwa2on8GLXavBl7qRwWUOgMEfxbbBZ3yLwdp0eMGUEKnBSnCJwQUnq8HbpZvBsPyAwQ==",
          "dtype": "f4"
         },
         "xaxis": "x",
         "y": {
          "bdata": "Dqq+wREMtMF+R5rB267MwX90osGxdq7BDcagwewymcEhIZfBjpKpwWXdsMHUMJPBmduYwWlBqcFkQ5/BMQaZwf5AqMGCyKzBfc+1wR5Yk8H/J5nB65yewVf5mcFgwZTBs++zwYIjncHmRrfB0omtwdL1s8ExGrvBY13Kwb7KssG6dbfBw0m2wX/rrMH4VLTBfUy0wfvipsHTQqjBu2OswfQGscEJEqDBrDuiwQHbr8E0C7HB/MufwUV8vcFLWKvBoCzBwVXonsHn05rBBJixwQjKrsHM7LfBfHbEwapur8HvcbvBJ7euwbr3vsFztLfBVNOQwenix8E8fa7BOWHSwa4gtMFkpq/B01nJwWOwq8E8QrPBJ32rwV3PocHQMrnBSQmTwTU0osEudqrB+HKpwZlDoMGl66fB2ibMwTsExsFrPb3B4+y2wRdNtcFYG6rBITiywTPSvsHWI6XB+tGdwfZNw8F2+MDB59G2wcrrvcGETbrBOASuwSIJxMH8/L/BrgTFwZe6zMF21LHB/ATEwaChycE/m7vBofGpwV2jnME1S7nBpLSewU6blsF5gZbBwynBwf2YusGqtr7B5LW/wR+avcHbGbfBEjCxwVNTv8GTMcDBIzTIwaYXzMHy3tPBsPHNwYNlxsHJPcnBMQbKwW2DxsH5Y47BkSHNwaJVnMHln6LBdBulwZVyusGcR5XBR0ulwYpYo8GjpsjBoue0wZAEv8FtLKXB3XmhwR2al8Faqr3BMbmmwUqat8FBoKjBnESrwRsWscH4vrHBad65wUxlvMH8+LjByj+0wcXSqMH+uLvB92eiwZ54nMGhmKPBoeSJwW2OqsF2vYvBaVO9waswksFK5Y7Bs+2/wbpSmcGSKrHBcPitwYQ2o8HP26XBCRC5wccqp8GdkbHBKwi7wboIoMHwI63Bfse5walJqMESyJDBYUyowQ==",
          "dtype": "f4"
         },
         "yaxis": "y"
        },
        {
         "hovertemplate": "label=1<br>TSNE1=%{x}<br>TSNE2=%{y}<extra></extra>",
         "legendgroup": "1",
         "marker": {
          "color": "#EF553B",
          "symbol": "circle"
         },
         "mode": "markers",
         "name": "1",
         "showlegend": true,
         "type": "scattergl",
         "x": {
          "bdata": "f80zwT0NicCeTHPAPaaXwGXqksBi2YTAKxOZwEgCi8C8jqvAkouWwABwNsGgYi3BfZ+FwMJQ0b8bjlvAF4ApwAOnI8DD3xzA/9VJwJ+plsAjsi3AqC2fwGVQJsAQsGPA0sWLwFQ/ScCiahjBbBC6wItSB8F8/xHBHZ8cwSCUm8Cjlh7BX+YPwQmT0MBzNR7BWcguwfk/MMF6+xPBfgHsv5dDgcDhoF/Ak3ZmwDiIgsB1k5E/DLtdwI2BkMBBIaLALoGOwLU1Z8ChMnbArTRVwN2X6z6zM5U/34bfPQyZx747L5a/GncdP0uHWr+kLpC/85pkv+X6Wb8RIZe/+Bf8wFrKBT+qdRDBST4NwSEHFcGvNv7AFuz9wEfoH8HDagzBqjwfwSvcFcFeGAvBih0IwR8wCcECqgfBd5IywQvWMcFgzyTBsHflwAcDBcGdwNk/qkH8wMS5DcExUhDB1rsiwZXjH8H24yPBjJwIwVzasD857KA/eUnYP/guCT/NUE0/vqxFP7HDHD9qYy0/Ss2qP3quUj9fTTQ/ST4xP9nyej8TwfTABjwFwcFDK8GwR/XAGhImwURnHMHKMDDB2t8cwZjMK8Ea6+zAjfUcwVhAKsEiQyPBO2uXwMZoksApkDHBfR0TwdGFLsFZE0DBaW0dwS3CK8HvfDHBaoIgwZDuHcEb6yjBQdwIQFJ8CMB3oTDBpgIowDAaPcF1xDfBXCFqwJXnLMHI5ZPAdNw4wd+AOsGKATjBSF4twVavNME+RQ7AcDzivw+PN8Ccvsy/a8u6vxuzob8ujJW/bmZIvxL3+L/u3DLApOPUv/DYnb8Bf2C/0XE6wUtFJsEjBibBYnZAwZUAN8GY+DLBb2wzwQIBOsF/20bBDMlDwVtMNMHk6D3BdWQ/wRlPAcFDXQTB5/0NwTXI/8CgHArBOxECwcrH+MCQgObAtksNwb/Z98DpbgzBItvqwA787cA=",
          "dtype": "f4"
         },
         "xaxis": "x",
         "y": {
          "bdata": "D4qfQLKTxsAZjarAMwHDwJVUmsAKoKvAWEqOwPMcqsC9iKnA/1jDwIb4iEBAzAtB5GjZwJ2208DwruDAGijlwCPEy8A9F+HAPEyzwCfF2cBYBdDAXyznwG4D6MBQSLvAKL7UwMUy08DcBuVApFbHwJY4XEAFxg5BoZWZQF435MC6CfdANUxvQO1jucBiKMpAbuv2QFlUykARISJB9bOjwCdWWcAfxonAOKifwNhFZsCg1dpBGcOgwOM4asBN8XTAu6+0wMr3ccBndWXAtx2PwPt2z0HbrtZBo5HZQZG11UHkIdhB1rvXQcay1EEgmNhByZ7YQXjV20HKwdRBmUMJQT6eykHdpdVA6rkQQfYiE0ETf6RAlmKnQPDutUBbDfJAcf6sQGTRKkGwjSlBz7IBQZeAyEBG075AX2zdQNW6ukChnMNAP9MCQaiWBEEv39tBM8XEQFnUHEG+/utA8dX1QK8F+EB+rd5AqUmuQOn+2UE0OdlBLX3eQbSBy0GpgtFBR9PTQZF0zUGIGdBB22bZQW4M0UHLJ9JBhMnNQZ601UFXPMdAAWjiQIQZ5kAp9PVAmgz3QMHHHkEAvOVATXULQU/11kCDFOJASBXUQCTdCUHPmwNBOjGBwChzk8AaIUJAY/naQAHnHEDtMOtApVkKQeZo4UCK8jFA+m8BQVW5AkHvYx9BXblSwFSEecAZXTtAjZbswNTy70ANqdhAq5yUwBc61EAHgIvAute9QOt61kArnOhADZ0BQVXjBEEV7oTA8wiawLwOpcAYIMPAfF3EwM/mmsCn1aDAXgSrwIluhcAEkqfAuoizwOIxvsBOraDA0K71QAXQFUHuJSFBbzjXQGzm/0DdDhZB8IT4QKRz+UAdDeZArGnYQO+x4kBg8NNAVCXRQCzDFEEUPtdAEosQQdp5C0EH0eZAuegWQVoCAEEc2AFB7sWjQOWf3kC4GgRB0XT6QKaj8EA=",
          "dtype": "f4"
         },
         "yaxis": "y"
        },
        {
         "hovertemplate": "label=2<br>TSNE1=%{x}<br>TSNE2=%{y}<extra></extra>",
         "legendgroup": "2",
         "marker": {
          "color": "#00cc96",
          "symbol": "circle"
         },
         "mode": "markers",
         "name": "2",
         "showlegend": true,
         "type": "scattergl",
         "x": {
          "bdata": "yqXpwE9ToECSv7tAJUbuwKU84cAim93AALbrwODm48BzjN3AACYmQeGLDEF9F+3AgPvvwMV/KUG1dQZBJ+afQP/e4EBSTfRARf4NQUz79EBeB5VAMrnSQOPI50C0XhhBff80QY5j0ECYPfFA0Ej4QESQHEGUtzJB7GHpQCrG8EALqxpBPicAQcm1KEG0dvhAiNX1QBa6LEHTbiFBoIa/QCoop0CdcvVAzsBaQBgN4EB7I+JAzGa3QPp8w0CBm/ZA6rAEQTnbCUFfnwFBDSBAwdMVIkCVZsdAy4B3QLLuakGGA1NAM1VmQBedVUBNHitABkrrQBYxK0BpZTZA4tn9QMAqHkAcXQpBR6LSQO3z60BR5q5ACiXIQOQyDUAEQhRAdse2QGwnzEA9pzRBFzXkQEnD2kBAmu5A/XUdQY3TLUHwokFBWfHjQAz4RkFQajlB/7cVQd2tTkEur0JBzE1/QPgIUEFspTBBJpT2QGJ7FEEOYkBBIIoPQZIiGEFMQRZAZryCQHBAbkBfLxdAjPgzQVittkCdKj5ADpIlQUDWD0EHs5pAyH5DQIl0O0Bw8WJAQyKlQJu6IEAPLIlAMOAYQQeumEAgqOk/73AiQZ6uhUCSZARBo4G5QNaP7EAASzhBz2sGQSyjEkGOuodA1AwJQc3+OkGPFTNBty18QR6nO0D9GKU/7BRQQOWZEkBGoeQ/hUilP8/nB0D4u9tARZjDP3kFLEAASQtAZ0NLQO+hGEBnPAdB/tUmQSKvMkE1WjNBfl8HQWyeOUEfPiFBqhcmQZG6LEFfAUNBHAMkQWVSqUAxuh5BWEamQEk+oUCNsp1AK2+rPw1rFEGDIM0/RLIVQaW+4r+nnh5B5vbQQGZiUEC6wAFBaX8BQZhWAkH/KA5BbcA9QVJjQkELKyJBuSZGQX77EEEKwr1AsME2QTonA0GcM/pA",
          "dtype": "f4"
         },
         "xaxis": "x",
         "y": {
          "bdata": "4t9APxVSwUEGKrdByjORPwiKSD6w9Hk9cFkUPweiEb7dXtm+a/avQTmxjEGVmYk/DImnP/MMrUGqZ5NBkxWeQUZApUGLsp9BLg/GQd2htkFZI5tBU1ygQUOAo0HX/MVBLGCwQaFKpEEJG65B+VOuQWG0pUFdAalBEByhQYuOqkE2cK1B/82pQSFopkH/v59BuMCqQWG0pUFj7rJB5jq8QfofxkGYcr5BDFjHQZ1Yu0Eef71B9QrCQa8dwEFBd7lBZFzBQUAhukHsvr1BR4p3wc3nuUE9qq1BqNXOQbk5g0ERDs5BsWC3QfZ5zUGeZslBI/auQa6X10E8ks1BLcetQaMkzEGIoJlB4z6WQdVdmkFz9JRBnzCVQV8GFkH6JhVBpfOTQTcpl0GjbKFB/pSXQZqXlkF0U5lB/G2pQYFJtEEfzKhBPPGgQayRrkHJxaVBkj6+QWtIqkFCB7JBK2mcQUpjq0EJYxLBqNOWQSgvqkFLcrdBDnuxQSPbtUHBhMVBTIK7QRT1ukEebcVB28e4QYxluEH+k7xBPK65QfHgs0EB+7FBB3y7Qf5gtUH167dBFujGQSMusUG8Br9ByLK7QRvKtUHzV8VBEhixQSROuEH9VZpBpTmnQWDimUEL7KhBNYuqQUPNqUFYj6BBKiCeQY/NpUFWJ6RBp6h0Qbr4sEHdTsdBaQSoQXSVsEE7b7BBV3vEQY05tUGlzrhBi3SsQSXmvkEy7bRB7Fi4QekIvEFnHb1BXdTAQaUku0Fcvr5Bpoy9QYdPvkGcar9B5+O8QeLFvUFav7hBeeu4QShOpUG/C79BqMK4QV5byUERr8hBYWSIvyVwtEFQTa9BRcCcQd0p0EH02a9B68/OQV9EqEFAr7dBON+PQYHkjUG8oMZBSJm7QSYzt0EXQsRBeu7BQQpCoUEIe5xB4na+QSM8vUHoEcVB",
          "dtype": "f4"
         },
         "yaxis": "y"
        },
        {
         "hovertemplate": "label=3<br>TSNE1=%{x}<br>TSNE2=%{y}<extra></extra>",
         "legendgroup": "3",
         "marker": {
          "color": "#ab63fa",
          "symbol": "circle"
         },
         "mode": "markers",
         "name": "3",
         "showlegend": true,
         "type": "scattergl",
         "x": {
          "bdata": "qDoxQe3vFkF/Yp1A7sENQab75ECgGwNB7moCQQ4gFkGXAxJBgvj6QJm5I0E6/RNBhSEiQTFgGkGDzihB330VQfy09UDKJSZBk10ZQZ7VrEDphxRB4ugUQZgbBUFC0A5BzqkTQUyfiEDBvDFB/JkiQTJDCEGwARtBXLM3QXhD9kAB7CBBdy4iQa4pHkE3evlAc6wyQbY5N0FeI/hAlsbiQBZ810CesjxBtUg6QRpOz0B8KsVA4Xk5QVLqMUFMVDtBrZo7QanjO0EE+0hBGIw7QYLG/ECoLJFAuI5yQMXQUED56pFA+iOYQCDPpUC822NA5maBQNjibECc5GBA8PtdQOisjUAGfYhAKQ0hQbVmJEH54CJBeaKPQDadGkHUeBxBqYMQQR/iF0F0WB5BmvYYQcpBSEE3lUZBnpQjQZvVSkHPvhtB1XoeQVka4kCfNeFACXjhQOf3h0DF65dA2aP3QNukKkHVywhBmNYHQVn2wUBAl85ATBvkQGl3MUG5HdFAN6IMQXf63ECgFjhBvjpKQdS9OUGW6spA42U6QdRG1kBIbEtBkxfvQGsH5UB6nudArvzgQNkibUFrHNlAAbgQQeZEA0GDn/5AjHD6QJWVF0HAwvBAKuYBQfDXEEFdYeFATsTzQLaFHEDiofxANG7aQMJUsUDuiihBsqAhQawZ0kD5Un5BdKz5QK77KEFWsDRByx7XQJlmNUFDUAdBWpHHQLweHEEXrAxB0r8RQXd+BUGMWt9AVecWQVijHUF/DQlBpd81Qd7KLEGnti1BjucAQej4NEFkIQ9BfE0rQXfADUEGRhVBH/UZQc4LAkGd0gFBjRcTQTLfxkC9sp5Ak5ffQAyEe0Do4FZAjCpwQJiqdEBOahdAUYPiQABu0kBT+KxAkgzLQM2w2UAEFVVBBE9oQBOmZUH3yxZAmGpVQHnkREA5cHFBPFxZQM9odkDjbbBAopAkQY0YZEFOyRpB",
          "dtype": "f4"
         },
         "xaxis": "x",
         "y": {
          "bdata": "hJYhQUwxU0ET6SpBDTE6QUIARUGLYj9BxN1GQWI0XkF++V9Bba9LQUQHbkGHxmBBRBB7QXZobUF+jmBBoxhsQdGERUH7WltBN7RZQR/qJUFsSkxBXjhhQThhVEE6iFRBvj9qQYk3KEFVEB5B4tkVQQKSHEFcFhRBRaw2QatyLEHzTiVB5W0nQUJdF0HwRi5B5iQ/QUtDQUFoqxdBn9IvQSYJKEFgZhVBC9zYvwwdaUF0am1BergEQTcdA0HHggdBGpMPQYAUE0EKNw5BndY3QVvWd0EZuNJAmo3aQBCmz0A/ot1APUDJQDDuE0ERRrZAr1vQQLT20UFAQNhA6bbJQOmB30BKJttAV90BQYJv6kAp8g1B980JQZd07ECf+AlBX+n4QBNCKkHoEf1A507/QBFgJkF21SRBVd4mQcnQM0GvajVBX5k7QQZ3VkEaRVlB509bQSqGLUHTCjdBxUInQXK5Q0HMhjVBOBk8QaIHO0GRnAJB3RRrQQ0qL0H8MXNBWFsuQVFqbEHIiPq+nu3tQPWoib9wjgNBP67Tv18MakHOLvJAMhoHQXF1/UCQrAtBVIwOQVHRgUGmYRZBa40EQRUSAkHKNgBByOUAQTxNEcEr4/ZAeBkCQWHrC0ExIBlBbGTyQOX1ZUG0FOhAfJEwQVPJKkERB1ZB66NpQc4EOkHnRGhBcNkeQSvmbkFb4l5B1UQaQcQdKUFaAw9BIqdBQXFQ5EBpjeZAEvXmQLDVHUGARDhBr44cQUG47kDChAxBg3kUQYKdG0FuUT9BcmMmQRzMK0HerxtBqaguQbnFKkFacChBQLUnQYwJKkH48hFBPzYuQRnzREFn3CJBz444Qd5hZEFwwV1B4aRnQWYiWkEC8k9BlfxDQejpRkEqw01B6VBBQUofQUFbxS9B8hpRQXDWN0FmFGRBHONDQZnYQ0GR0gnAQvJKQTxPQkG7iDhBEXIdQXlvMkEbAElB",
          "dtype": "f4"
         },
         "yaxis": "y"
        },
        {
         "hovertemplate": "label=4<br>TSNE1=%{x}<br>TSNE2=%{y}<extra></extra>",
         "legendgroup": "4",
         "marker": {
          "color": "#FFA15A",
          "symbol": "circle"
         },
         "mode": "markers",
         "name": "4",
         "showlegend": true,
         "type": "scattergl",
         "x": {
          "bdata": "0ISjwJggX8DTIJnAnFdrwJR0rsCLwwfA3QUFQNaspMCfHaHADa/evxCwGMCY9du/kvBkwBochMBvJfjA3izdwEDwBMFuXePA1OoFwd/B+cBgJPDA+9EFwdjv4sDsVc/A0un1wFLlG8DwxknA+3NAwOtTjMAKPV3AnfeDwMzXP8CcVqTA9Y5Kv66+7MBfMnbAd5ZuwJo8aMDrN/vAWDvJwCpP3MC/yrzAz0viwN4z18BPmaDAsb7pwJxf0cAu5azAKlHKwBPHp8By6QHBcQ+ZwIc1YMAHg83ALhibwNcGhMBpeW7AHw6hwJYAq8Bv6aHAZ1DpwKbslMAFJpzAYV2LwKJ+1sAwDeDArty0wO1nuMCMAiLATmDVwCjT2MA6gpLAhwkEQQQNPMHbe0BAAU7zwGBsAEEzIejAGsvIwN+bI8EoxdDAB8bAwEAby8C1PtPAivMswe/CDcF0ds/AxLTHwOZMHMFMgxzB+KSuwIksKcG5m1vAotzSvt9aR8C6IVfAoA84wSOlpj8yfjW/diKIwBls3z7lUItAUupfP39QMD97KyxA0Umkv71yJ0B27+q+U2m1PjLra7/bHGu/uAoowCuGjsDujfc8x689wEfQpb/JWVfAXj/IwFHOicBdFqDAqqX2wG+9ZsBOmaLApLqUwHfRuMCAd+PAZXfsvvAqucBl+fi/dxsPwf+pFMEhzRjB2eAHwZxQC8FJ7/TADej7wKILD8G6vYXARG3owOIg38DRTsvAYwX5wA2xoMDv6sTAYlCnwLNTrcAIv8TALW+swE3lycCF1KvALxCiwGm5wcDpu1/AJli6wB9SwMCBsCvAUvwmwAQ5LsA9NnrAcWolwNBkoD6ai6Y+6R6LwBbERMD7r0nAU6szwGWGpz7jOWzAt6HHwOvEocD0q5/AdOtrQDElTj0k4RzBU84cwTi48MB5h5rARdahwLaTHMFYsNTA2wbAwA==",
          "dtype": "f4"
         },
         "xaxis": "x",
         "y": {
          "bdata": "NVdFwdMAZcEO6yvBFXtxwcrZWMEGb33B8iBXwNr5OMF1kzjBq/qMwZMLgsGvmoXBh8B0wSqYN8HvTjnBdqg1wVj4MMEs+CfBo0kewXpzOMHWUzbBO3AewSZiK8HOVyLB7n45wYQvhcHv7IHBW3CMwXBYeMG35YTBlQaSweTKg8GcoXnB8mh+wd5KecGAvXjBnfmIwanjbsE+yyPB3hCRwVNNM8FNQTfBkg1OwZBbLcGboSbBBTpPwaolOsEjEijB5uouwYfiLMEAByHBLYuXwQGVmcFv2I7BuD6PwdrxiMF15pjBqFuYwY3zksEye5XBQlqSwSlChMHg2JvBh0mZwUL0OsFQDUPBzkYcwf7ePcHmhGjBi8I3wU2xQcFyyZfBe4QswaSdfMHJS4LBdy+OwdXuLMERfInB5pR6wbqAisFWjG/BOSWCwerKh8EkpWTBOVCKweGrbcFz44fBqhNpwbk/iMFnmobB9+lewV+iisEU8kzB2PxmwWprSMG73UvBqQuGwWonWMHEGlTBUNRXwW70XMFUaWLBYdZewRHKXsH4A4LBN35wwYvRgcGjqHDBEJGEwSxxdMFWQnrBkPJ7wQlHZ8H5AmfBGqR3wYTJgMHvtHrBs2dfwVQRj8Hy+ljBERNpwZwEaMEeWV7BvYhrwbqWecH2nW3BdtVgwcamYcFjtI7BFPdmwY+eZsF80WTBIC5nwQuQY8F5N3fBoaB6wS5GZMFRyHHB74JdwQzIXsGXmFjBpVx6wdmimcFea4zB+rqOwdeXbcFWho/BuaiFwW0uhMGu1o/BAkGNwQyeiMEQGZTBXeWMwbf1eMGHRIfBbd2EwUC8ksGC/YXBwZKRwTBBREHq6ENBV0uHwbArh8HvhYPBzwOWwfhgQkHJr4XB8sURwf7jeMGjGGjBlS5SwWi2WsHuW4LBsXCCwenHbsG5mEnBc9tHwaWmhMFVXmHBvdZpwQ==",
          "dtype": "f4"
         },
         "yaxis": "y"
        },
        {
         "hovertemplate": "label=5<br>TSNE1=%{x}<br>TSNE2=%{y}<extra></extra>",
         "legendgroup": "5",
         "marker": {
          "color": "#19d3f3",
          "symbol": "circle"
         },
         "mode": "markers",
         "name": "5",
         "showlegend": true,
         "type": "scattergl",
         "x": {
          "bdata": "QaMvQRmYuUEhJbRBZ2aiQX4DtUEPbapB1TumQZNZokEqqIVB3xmsQXScsEHvK7pBeZaHQcw9v0F9fbZBbL3IQciHt0GzK8RBV3+9QU1nukEG8bxBwJTFQS3zukGdf7pBuQjBQTquvEFSDYxBZbmqQW3plkHZZ5JBfRKKQZDXakEfPpRBXz2BQRUxlEGFGopBrg+lQWSth0Ebyb5BvYGVQQW0nkER9ZtBb0OQQYsVn0HPpIlBP56YQQGKlkFxm51Bg0qbQecbn0ExK7NBEt+ZQfFVkkECAIFBI3iGQQlOmUFiI3tByOeDQX4fh0Gmq41BQi2CQepgeEG6yo5BV9KWQVdWgUGyFp5BMgm1Qedft0HSQ6dBkA28QVH1t0GvFrZBKV+lQTPNpUH3TJJBfMywQZKwvkEJqMtB/IiyQd9vwEF7MsFBmPumQf5Vt0E3D7BBqwmyQSqPqEHSG7NBQguhQXrav0EijqdBDRnAQeiAj0Gq2G9BZKpLQdv7ZEH0GIlBMtpiQf3nYUGr6oVBXLlwQYmUmkG+hGRB2LhgQVZUgUHWwrVBE3moQWi7lUGIn7JBbpm9QfTZtEHlf6JBCZulQfZLvUFRnq1BQN6iQXRSu0GsQadBPmqWQdJWkkFwmcJBxLOgQVFapEFa+rZBVFOiQQ/1uEFbq5hB86nCQYYSu0HZPsxBBNK+QRwXhEGFVapBKvqkQVn3pkFQYadBzsOgQV59pEGpkJxBLgSywY2bsEGYYq1BwnqbQdhznkHvqYZBLgKAQSIiaUF8TYBB+Y6CQRzhgUGLZnhBHDB/QakZikHgD3pBPhdTQTtPhkHvuJlBSLfAQRAewkFppb1BBafHQQWQw0En/8FBb1PHQZAowUEFCa9BPRXEQab9rUGTpMFBBWXBQcYkkEGJDZdBRTWWQcy/oEHSzplBru+eQfHGlUF6kpFBTmqVQfQAikHLdZBB1nWWQaC6jEE=",
          "dtype": "f4"
         },
         "xaxis": "x",
         "y": {
          "bdata": "dzGvQHmOE0GSa5dAu/aDQB1TGkGOoAlBxe0LQTIVgUB2EwVBnmUZQDlUi0DYefxAqWcEQWnqC0F+ORJBDZH5QCE8DkGwix5Bx+zzQI9/GEEPBgJBr8EJQRMN/0ChTM5AJ7oLQeBhDUFp02xASgDgQOROSUAvrFpAOy0uv/datL6Va2BA8G5nQWaDRkB6lN0/CrtfQNLan76jcAZBT+GvQNkYuEB6crRAT5SnQHwTpUAiA8RAn/q2QGqYFkCDrqJAogzrQLtf00C1BapA/hu4QIbv2z+23ANAgb00QDu6fUBtGuo/CvoCQHUwH0CfoCxAjHbsP8pVJ0AQ9CZA2dvZPx52VUAYcX0/D7eGQKXFj0DuQMq/OUujQCDplkBbqaJAbBH1vsGzE7+qTy+/Agm6QLSkl0C5IPlAgofkQKwa5UBqL/pAsF3tQAbgsUDCjNZAghW9QMGp80DR4PdAuNzfQE2r7EBWNslAX7juQAuYP0CDkB1AhgH5PzCLwT9c8SxA+vkkQEueQUB4uDVAgeLvP+mKh0C2GPI/X5H1P3zegUAFwYBAEI2TQEd4E0DH5DNAfWVRQMPTL0AAL1RAyDgLP3wPukC5djlARsiLPutDfEA5kb8+rARCv6s3SL/SBw9BQhYYQB7b2ECMhwBB7XslvzrImUDWZ/W+bbUdQXWA3kA+Zv1AGcEgQTB3Ij8UbiJBCaUjPzCGWUDqVcc/VOpuQMlVB0DdxiO/iDNQPyBU1j976yBAZu6Tv96zaUBqaj5AF/ePP+q2uL6W0Z4/iQ11QJaCiT9rVihAeoIvP2ERxD77tilA3/3kPwkqhT9k/TtAfxukQDWBmUDuc3tA+5NzQAPcJUHZOaNAccQNQUCpo0C5kN8/s5F2QJzN60CymY9AHrJ9QKpOnj8xxWk/0Z0UP2Rt0j8b9gxA/D5bQEEeiD9CONk/CrgTP0kyxz/AnLU+sRr7PhSGoD8=",
          "dtype": "f4"
         },
         "yaxis": "y"
        },
        {
         "hovertemplate": "label=6<br>TSNE1=%{x}<br>TSNE2=%{y}<extra></extra>",
         "legendgroup": "6",
         "marker": {
          "color": "#FF6692",
          "symbol": "circle"
         },
         "mode": "markers",
         "name": "6",
         "showlegend": true,
         "type": "scattergl",
         "x": {
          "bdata": "yd2ZwQYBqMFzrZ7Boe+dwdqLpMFh2arB5ry7wQBjysFyVJ3B6Lmdwew1kMG10JjBCMmQwX/swcG9LaPB9wGmwQcjx8Fj/rzBGP2fwRhDu8FYqr3B227FwbDbocGEdq/BS7XEwTR2w8F627rB2FHJwYGSrcG6aNDB1oK+wXvKucEV6LfB69SnwTNZycGq+K7BTni/wcE4uMHCxY/B6VeLwVPlk8Hs2orBcByuwek3lcEbzI7BKKmWwcFGpcE0bZvBG9WQwUanmcGpiZDBI/KowWlPssE9l7HBBwurwW+CpcHnjq3B09CpwZNMs8HEOK3BmFakwWobqcFF1KnBiqqnwRK7wMFeOcPBQNXDwcSHxMEyDMzBHlHJwf4kvcGVY9HB6nPEweanvMFWAcjB4xmzwb0vscHEaNPB5VzXwR7ElcHawtLBAaCdwQ2Wm8GuWtTB/3rUwVncu8G5SZbBpxaywRb7l8GMhsPB+wHIwWuDzMFJsczB2Di6wdZ6ycEN37bBTc/AwSocw8FfjMXBQsKvwbnMtMHEbMTBFcHFwTigzcERUs3BdKS4wcmQpsG+PKTBx8u+wfGprcFcjrjBfwK8wUFNvMH6abrBp3ubwUJtv8FZec7B4YKswS6ss8FhnrfBKX2vwYHGr8E7cKbB9aGnwVN1rcExca3BSkKywcIJqMGT+LTBs9yywSCZrsHEjbTB6fyzwZA0m8HIa5nBSmeYwSFxoMGkGKTByqK0wezXpMGXwZ/B5BiwwYljx8F7bszBtk7NwRdTtcFuTcvBsBLGwaoyz8Fjm7zBY3bLwYRtxcF2I7fBqpW4we1vr8EUkZnBOdeawQACj8G9X6HBxASfwanFo8FokpXB9CWhwdKwnsHvDp/BtgytwZlhkMFmTpLBbye8wW63vMGU3rjBOpK9wajztcEyxp3Buna+wS/bxsHAEKTB8MafwZ9xrMHIz5fBjci7wQ==",
          "dtype": "f4"
         },
         "xaxis": "x",
         "y": {
          "bdata": "5fmEvzMZrsAXpB2/ZgtMwDBJfL8eWzzATZ7UwMn7xb1lSJ+/+/oFwN4ZsT5jS7c+0EmKvwF0t78Ti4LAzmcSwKXqTr97tDq/iasSwBi0Tr+TL5q/kn/JvVdHPcBFgg/ADbs8wErQGcAdJ0PAaoNNv/sbWsBUvSjAqQRiwPklWMAaKb7AeAZswMWCHMCUmGHAPLYowFxbeMBElkLAEX1fwApMaMDYPXbAV/wTwNK9cMAk3kPAYCh/wPwL0796SYjAMAOOwPMnS8BoHvo/A4ipv+4Cs7+AJKC/lLNXPtD0jD/Rp0M/OkNGv2WE+j2xDkg/b/GOP779l7+/3Yy/05osPwqTkMDfmX3AmrRqwAIbWr8SuuC+20AAwE+7lMD6tKq/Yx11wIRG2MDgxyHA+OmswCCxqMCSsp/Ac7mswMkgasCQIWLAYskgwMx6OcDRe1rAprerwMcUm7+W9JbAfwkvwPxXKcCyCcO/K/u2v3H0jL8W8Pm/ipMawPHxlb9jzBzA+uI3wGj35b/rY/2/0nyVwKp9XMB6eBXAR19EwBzJAcC4SUrAeBtswA+wisDpMdy/rruswGs7oMCXg/DAQQXfwLE208Cx96bAlN0evkCvX8BlDw3A2B4DvmUIo8AQkfTAW3/9wGtClMDyvCrA0n0QwGIvhMCUAKDA5BrFwJbcHsD1BQPBdIcLwco10cACthHBpB8PwQRKZsBHBm/AmziRwMH2XcCFa5jAEawRwaXZosAKfsDAP/UEwaQtL8AhRznAkegewOlvAMDut13AcyUfwEL1nb9k5BHAqGNRwDkzXcDyHjPAw9c0wNRaZsATzsTAiFOYwLsOsL+WaXjA+4qiwHmGfsCyWgjAYyiXwKTnpsBZ437AkgrEwDmJ0b9pHxq/HW2NPXyt97/u9iG+1SrdvkZJqr/oA8g+UvFqvw6+grwnvXS+1MK+vyI4Cb9Xe8S/P0Lhvw==",
          "dtype": "f4"
         },
         "yaxis": "y"
        },
        {
         "hovertemplate": "label=7<br>TSNE1=%{x}<br>TSNE2=%{y}<extra></extra>",
         "legendgroup": "7",
         "marker": {
          "color": "#B6E880",
          "symbol": "circle"
         },
         "mode": "markers",
         "name": "7",
         "showlegend": true,
         "type": "scattergl",
         "x": {
          "bdata": "GcRUQXfJU0H93x5BYS5IQcECb0Emuy1BEIZVQS3ZZ0EBSSJBsjxaQTa0TUH9e2BBtbBWQRNhaUH6YmxBddaEQVZNK0FyDS9BSEBzQWfokEFGYI5BrieKQR74RkGX8oJBY36GQW8l10CXD3VBnBzKQL6CekFTYidBsE0wQShAs0AlVEtBeH1XQW/QfkEkgoJBjlZXQdC7MkHqisFAsb7AQHWXs0CEAbxAbdDhQIYfwkCTnaJAJzimQN7KAUGhbcpA6MmuQBzkxkAnGwBBwweOQe8xbUF2giVBEZpRQZL6YUH62YNBhTIZQQKfeEGW+WpBNhRuQXDtaEGblIpB8UtfQUTuX0EXFRJBh22LQCkEKUDa31ZAn0U2QdHKMUH77ypBa9yKQDFIKkG8+idBnNQjQa3Ma0G4o05BLZlzQZu8dUFwAohBpu5JQd0ai0ERdmhBnh5mQSGBQ0GhC4RB/cVwQVoMZkHZA4FBzakcQfG+PEHVWyVBaJo3Qf1bEUFa6jhBYI4jQYlEQ0HfXyVBbjLbQNCONkF8gzRBbudIQVQtNEGrdk5BHXYtQbD+VUHSSjJB2p8HQd6xgkGZNAlBewBIQU/y90ABcoBBSHz5QGcwgEEb10pBlgEdQen6hkELm3dBBeVxQa4kfEEUJYdB2DSJQWKUeUHRA4ZBMXI7QXlIRkGKH5dBHgBQQVAsXkGBZEFBZrpwQRlrZEF8S4NBChF/QWnliEHGWktBWCONQacYOUG+zW1BdSolQVpxGkGVVx9BAy06QdbFP0HRC+RAHPMoQbqOP0FUnEJBIu43QQRWIEHhMCNBPyQiQcG8mUEDW41BpEh9Qaw8lUFwo5lBALaUQX1WhkEqrpJBkr+ZQSpnaUGQQIRBH6nDQQrsY0H88jlBgmFqQbjmHkG+CyxBjGd3QefZ0kB1+4RBOiKAQfSzWkFOfYJBMAxNQVV+hEE=",
          "dtype": "f4"
         },
         "xaxis": "x",
         "y": {
          "bdata": "m1kmwc1Ca8GcIi3Bxq9KwbkML8GZiELBX2dnwecnRsGwcjHBNbdswVDMVMEYaFzBXnpVwfCcasFV2nLBj8Z4wTfXQcFm1FrBUR1kwYEobcFRxCzBCXVywWH5OcGhLVfB4dtzwQQDb8HAOVHBsyZswU2HVsGS+VbB1YY6wc6OasF4mW7BSwNwwXo/asG2037BkShswZjBTsHpTlLBTjhcwYE4ZMGwCVTBQ3Jmwa4EU8HFrWfBNflZwQKNWcF69vTA8ZdnwSlMV8Fa9FjBvzkuwYFiNsHeqT3BkeNZwZqQNcEBqjPBVM9EwWQ+QcGDNTnBsnVewThXTMFRcknB51M0wf6XP8GUCETByINlwTbHU8H3XxzBJrg0wdiVNcFJnjPBDCRkwX/TLcEpNS7BtI8rwSIKRcF7pWTBnBFYwcp0YcF/72PBssJcwdnlb8G492XBRR5twQWFN8GUVGrBiO1wwQ/OZ8H8O0rBXeZswYqsfcEOwmrBGNl6wQvLYcFXy3vB91ZywVx+Y8GAXnLBdFtuwQJddMF8bG7B17pzwevyccHglH/BtU2BwbgIe8ECVYXB3XKFwYivPsEgkIbBJnOBwW69esGsNGHBU/99wYlONMER9ETBStE8wVbfOsGfeTbBEo9DwWImLcGS9TrBs45DwRAhTcGeczDB2B4xwTczJcGI2z/BtiZTwQxYTMHwqFzBiMhJwaGtVsFLxzjBSe42wQ/RZMERA2DBc2hdwRWpP8Ffkj/BeohdwZQ1VsG5ul/B2SFjwQ5BbMHvJVzBlVhcwR3BV8Ga9WXBRbNgwc4dYcFwJFbB1aJewUbCN8FjsjLBNzBcwfoDSsGR1VDB3dVNwTC4SsGrhl7B+Tk+wYvsVsHc11jBaW0yQWXLPcGCn0vBskc3wRXWecE2ZDjBr2tvwRJRMcGm137BicV/waOyVMGGt0TB0aM6wcMJYME=",
          "dtype": "f4"
         },
         "yaxis": "y"
        },
        {
         "hovertemplate": "label=8<br>TSNE1=%{x}<br>TSNE2=%{y}<extra></extra>",
         "legendgroup": "8",
         "marker": {
          "color": "#FF97FF",
          "symbol": "circle"
         },
         "mode": "markers",
         "name": "8",
         "showlegend": true,
         "type": "scattergl",
         "x": {
          "bdata": "k5wfwDbEg8DQKofAepaewJvrX8Bw06TAW/6jwFhGqMCG76rA7+vJwADXwcDon7vAMpAfwXo8VcDrZCjAiyDIwPFRZ8DAcunAkiZWwId438BMM5fAz9LRwG1kpcDOcqzAlX6YwEo1jsDzn50/D9ucv8b9l78CLADAVQOGv25ZpT//HX0/RUIVwORRXr4PIiNASVpnv5yFrr8A0Zu+s8NKwPkV6j8vGci+VajVvjVwtj/nUJe/oR2DP4mnKkABbiHArzg8wB5SUr8WpUC+PCjIwM7LoMBAmYnAudTBwHZJl8CAj47AH0CXwCbJmcArk8PAY7XCwADemcBNwZfAeXa+wHCgUD7a5A6/OiMKPjCcQ79hye2+SQSHv8Rv0j975CfAaLC4wGJLUD+M/LzA5LnwvQ254L+pkCPAWzinwCiit8ABl9E/YCvCPxqNjD/pGHvA1YwgwOyQOL4D2K89WmcIwEMM6777mTPAzqVDPzBavD8XNaE/wnCFP4mh7r1aKOo/T3XwPpOBvj+oYb4/z27RPwQCRj/F1xK/VnAbwDfRq7/y2Eu/SEpgwBfLG8BktGy/awuJv/9PPL/VDJs+qdIQwHE81L9B6b2/Sxl/QSqVosC/wZXA/Slnv+v8jsDV+yI/d9tmv3gSVsDpTHFB9x2owCllccD63oLAnoNnwBLjksCNi3xBA2WRwDnGmsBtgq7AxAOWwDyjhMDJfWzAhkFuwBoqwcALiKLAgax8wHme2D97jrY/zLnzPw/XrD6W5Oo9vqeYvzNsiD97CjM/qGJYP87pKz9FEsA+avlWP+YL/D6lOijBBn/SwCSvzcC3DKjA70GSwBIrrcAJALbALLy8wJBPucArWTLAB3rYvwlfRMD9kuK/t6S8v1Mmgr9Bek/AbD1gwPssV8CDcM/AyLfkwGiVnMAEyFTA",
          "dtype": "f4"
         },
         "xaxis": "x",
         "y": {
          "bdata": "RBPIQNIIMkFmEPhAtXlCQaDuJ0EHD+lAkiAbQVS5NkEppf5AwJ7yQL9UzECBMT5BvcQSQSxBC0E1JdVAE4rXQM1XDUFhxiBB0PPNQLKkJUHO9IFAZyTeQI+O0UBDyMNAuFeEQJ0C90Cv8K9AaIMSQWtiEUFMXiBB7g7SQLTAmEBixr1A/QwOQfiz5kAEauhA5GHDQEWSEUHIP19ApK4bQdAgF0C3IqFATSCtQLi7TUCqQJtAl6XGQFb1mUDEDf9AX/XuQLryiUBLR6VABfv9PxGpJEDzgStARwoBQNZYCkBD3us/INrvP4b+CUATkAdAa/7UP6Cf5z92su4/pb73P18oz0DjZwNBJTjNQAZW8UCqDepAroACQXWdpkBKp+9ALwMRQWWXqUBDmh1BimnOQE92AUFff4BADe2PwORnB0EG84tA//YvQKrs7z9i7cVAh3KGQJJ1iT+/p58/3l0TQArIkT8OoYJAIdHmQEHy4ED/mfRA8qncQF8NrkAIl9lAUOOzQCLedkAjzfdA9VmXQMLb1kAvTRZB8Ec2QVRNaUGdZ2JB97rjQEjKNkHtaWFBJiRdQXkWI0HEJn1BzTxSQZEtbEGfWGpBTGtoQWvJMEEVbC5By8c1QSLbREHXVCxBd4EzQSR2MUGeE4BBtJsuQcCaPEGUWi5BU/stQaGDC0GOp3RBnEIeQfYJBUGDoPVAGWYTQetS2kCQKSpBnz0iQWr0B0EfyxhBscYsQWgfh0A7w4RAtqiSQGXHZUCDOl9A+WBLwGqVM0BO1SlAmVrbP/Oi7T9jiRpAn9+oP8ezMkCNKGlAaghHQbwlgkD9xIBA5ksWQctkk0DkC4ZAKBeoQDCMnkBVR05BlRhIQYUyTkH+UMtAbkxBQXcoJEG5fQ9Bq6EAQa0EYUElry1B3bDGQG1510Dy32JB",
          "dtype": "f4"
         },
         "yaxis": "y"
        },
        {
         "hovertemplate": "label=9<br>TSNE1=%{x}<br>TSNE2=%{y}<extra></extra>",
         "legendgroup": "9",
         "marker": {
          "color": "#FECB52",
          "symbol": "circle"
         },
         "mode": "markers",
         "name": "9",
         "showlegend": true,
         "type": "scattergl",
         "x": {
          "bdata": "+2QsQQmoSEHbz0VBZddIQZ9IUkHT0hNBPXEUP3jbNUGmURNBA1g3QcoxN0HPBd1A0soFQZdKLkGpwh9B3iksQfb1MkGPayVBqhk0QZX9KEE/KQBBVsnyQJZFLEHjWKxAOkhiQLk46UDH8/dAumMMQTf5LUFuoMtAEMzMQOPf3UD7EvZANJ7vQLdX60AFhgJAeDCzP4y05UCgBQpB4YcjQRmAIUGPv7JAQsuxQI4kAkEu4vlA2wq0QK/80kAVeK1AGZXUQI6EzUDnydhAPRKOQP7jskD0+ppAoSERwFln/EBFzYFAaIy+QLegzED2f4tAFIWHQFg8EkF4KuNAuH4cQQKo2j97pHk/sa2QP6Q9Lz/Hu+s+N+ltPwM4hT/IT4y/ZUWgPT+WmT85jfA/rfvRPzIo2j/+kidBeLR5QIqLIEHZUwdBYWWdQPE96EBSyR1B6m3UQNKdAUG45CFBb/zgQF9c2UC5/gtBJ0w7QaKGGEEOWCpB0P0OQe2XGkE77SdBErk0QVY8OEFYYiVBnKIeQb+VFkF78URBt5cTQXK7V0H5BlFBLzhVQbfWw0CbZ1BBLC3BQENGUUFX39y+nJ5RQUupCkHMd/tAFM9WQVLS40CGlatADL2zwZhnpEAfH+5A20n3QGw04UCt/CNBHT3ZQMSC0UDDYe9AmhHqQJD9DEEnGstA6tUZQYvLBUFqCulAvDsAQc72AUEi7qlAvLUrQcHZBUEbKhFBXePnQP+75kBQQ79ADA0LQaDFB0G27xRBTngTQYOKBkEzbBlBXUUpQYEGH0GjPgVBj6kfQVlk+UBDLvtA3PT9QDUuST/sCTlAJqqgQIhMH0DDhLJAqK7HQRL/CEDNtjBBn7HeQCeqNUF1abNAFcPIQVkY3EB4hQtBcUX9QHKKLEFkyA1B1GYIQY0mBkH4x/dABdoNQZmP5kALIOtApswbQZ8d6UAd82ZA",
          "dtype": "f4"
         },
         "xaxis": "x",
         "y": {
          "bdata": "qXi2QDXjq0DMYa5ApACpQAu9y0CfPnhAjkc6QY9iq0AAuKZAH9tsQMZ6mD/dg7pAyHfbv+eBbUDYTZxAG+aUQOnjlkAjF+I+1AFVQHA0oUDBZZxAJlGTQLlSnkAz9NE//H/MP5bM68Bp6f7AhtDAP7hLOj+0YpNAPIUpP2CnA8GJD/7A+4v3wGfdAcF0yAHB0ZwDwXH2+cDpiLy/kDo6P7rW1D5j4Mk/kCERQHpHMkBNGT1A9r8OQClrEUBKDA1A3Xz8P5cG47+wNAtAt94uQHfA9L4NB4BAyqYSQaJh2b9IK21AkWJov1GXZEBjmFRADZ9mQFOQJkA9ezi/dNQgPEhRNMFxuwXBRQsBweaWBMGOVOzA1NcCwZHMA8EDNu/ACzj3wNp1DsEc/B3BWf8ywUw5BsE1/AVAg4UDv7BIyL4W4PS/+sa/QK//Vb9cGT2+hUsNQJjZ1r8C3NU+ZEfpv5ki5r8nhJm/i38NQNfrHUDQkyJAaYnIP0FLsj/6XxpAjI/QP0fxDkB/e68//w0zQDGHnT/unEFAP382QCDlEEHCm4JAZlJjQBK0qEAog4hADfCfQDYafkA7ISdB8YWTQCa5qkCoa7tASIWfQA67ukB0Ra8/LkYQwQAytz+YCDxA0b+YP/wrUkCXTo5ASuWJQEMsXUCczYdA/cOJQEE5nz/NhZVA5A4IQMShQ0CxTT5AGtO+P/zs5D8/LmFAu0IUP+5zY0DsQTs/+Y5jP8uDRT90I5K/vEkIQH4VDz/xiCNAj7VkQJvndj8SJHhA9Fc6QBelb0Df4Is/bllTQMp4EkALrhu+nV8hPohJ9sAccgfB3vdpwdc0DcFFTAHBmH9sQEse/sC3K88/vvoDwVHBf0CsEUVBRCJ5QNzVBsFQzC1AT0ttQHlmFED+1oJAoOmRQMFMgkDI+TxAHZl2QCOaDUCWo3JAtiKuQD9xyD8lmb0/",
          "dtype": "f4"
         },
         "yaxis": "y"
        }
       ],
       "layout": {
        "legend": {
         "title": {
          "text": "label"
         },
         "tracegroupgap": 0
        },
        "template": {
         "data": {
          "bar": [
           {
            "error_x": {
             "color": "#2a3f5f"
            },
            "error_y": {
             "color": "#2a3f5f"
            },
            "marker": {
             "line": {
              "color": "#E5ECF6",
              "width": 0.5
             },
             "pattern": {
              "fillmode": "overlay",
              "size": 10,
              "solidity": 0.2
             }
            },
            "type": "bar"
           }
          ],
          "barpolar": [
           {
            "marker": {
             "line": {
              "color": "#E5ECF6",
              "width": 0.5
             },
             "pattern": {
              "fillmode": "overlay",
              "size": 10,
              "solidity": 0.2
             }
            },
            "type": "barpolar"
           }
          ],
          "carpet": [
           {
            "aaxis": {
             "endlinecolor": "#2a3f5f",
             "gridcolor": "white",
             "linecolor": "white",
             "minorgridcolor": "white",
             "startlinecolor": "#2a3f5f"
            },
            "baxis": {
             "endlinecolor": "#2a3f5f",
             "gridcolor": "white",
             "linecolor": "white",
             "minorgridcolor": "white",
             "startlinecolor": "#2a3f5f"
            },
            "type": "carpet"
           }
          ],
          "choropleth": [
           {
            "colorbar": {
             "outlinewidth": 0,
             "ticks": ""
            },
            "type": "choropleth"
           }
          ],
          "contour": [
           {
            "colorbar": {
             "outlinewidth": 0,
             "ticks": ""
            },
            "colorscale": [
             [
              0,
              "#0d0887"
             ],
             [
              0.1111111111111111,
              "#46039f"
             ],
             [
              0.2222222222222222,
              "#7201a8"
             ],
             [
              0.3333333333333333,
              "#9c179e"
             ],
             [
              0.4444444444444444,
              "#bd3786"
             ],
             [
              0.5555555555555556,
              "#d8576b"
             ],
             [
              0.6666666666666666,
              "#ed7953"
             ],
             [
              0.7777777777777778,
              "#fb9f3a"
             ],
             [
              0.8888888888888888,
              "#fdca26"
             ],
             [
              1,
              "#f0f921"
             ]
            ],
            "type": "contour"
           }
          ],
          "contourcarpet": [
           {
            "colorbar": {
             "outlinewidth": 0,
             "ticks": ""
            },
            "type": "contourcarpet"
           }
          ],
          "heatmap": [
           {
            "colorbar": {
             "outlinewidth": 0,
             "ticks": ""
            },
            "colorscale": [
             [
              0,
              "#0d0887"
             ],
             [
              0.1111111111111111,
              "#46039f"
             ],
             [
              0.2222222222222222,
              "#7201a8"
             ],
             [
              0.3333333333333333,
              "#9c179e"
             ],
             [
              0.4444444444444444,
              "#bd3786"
             ],
             [
              0.5555555555555556,
              "#d8576b"
             ],
             [
              0.6666666666666666,
              "#ed7953"
             ],
             [
              0.7777777777777778,
              "#fb9f3a"
             ],
             [
              0.8888888888888888,
              "#fdca26"
             ],
             [
              1,
              "#f0f921"
             ]
            ],
            "type": "heatmap"
           }
          ],
          "histogram": [
           {
            "marker": {
             "pattern": {
              "fillmode": "overlay",
              "size": 10,
              "solidity": 0.2
             }
            },
            "type": "histogram"
           }
          ],
          "histogram2d": [
           {
            "colorbar": {
             "outlinewidth": 0,
             "ticks": ""
            },
            "colorscale": [
             [
              0,
              "#0d0887"
             ],
             [
              0.1111111111111111,
              "#46039f"
             ],
             [
              0.2222222222222222,
              "#7201a8"
             ],
             [
              0.3333333333333333,
              "#9c179e"
             ],
             [
              0.4444444444444444,
              "#bd3786"
             ],
             [
              0.5555555555555556,
              "#d8576b"
             ],
             [
              0.6666666666666666,
              "#ed7953"
             ],
             [
              0.7777777777777778,
              "#fb9f3a"
             ],
             [
              0.8888888888888888,
              "#fdca26"
             ],
             [
              1,
              "#f0f921"
             ]
            ],
            "type": "histogram2d"
           }
          ],
          "histogram2dcontour": [
           {
            "colorbar": {
             "outlinewidth": 0,
             "ticks": ""
            },
            "colorscale": [
             [
              0,
              "#0d0887"
             ],
             [
              0.1111111111111111,
              "#46039f"
             ],
             [
              0.2222222222222222,
              "#7201a8"
             ],
             [
              0.3333333333333333,
              "#9c179e"
             ],
             [
              0.4444444444444444,
              "#bd3786"
             ],
             [
              0.5555555555555556,
              "#d8576b"
             ],
             [
              0.6666666666666666,
              "#ed7953"
             ],
             [
              0.7777777777777778,
              "#fb9f3a"
             ],
             [
              0.8888888888888888,
              "#fdca26"
             ],
             [
              1,
              "#f0f921"
             ]
            ],
            "type": "histogram2dcontour"
           }
          ],
          "mesh3d": [
           {
            "colorbar": {
             "outlinewidth": 0,
             "ticks": ""
            },
            "type": "mesh3d"
           }
          ],
          "parcoords": [
           {
            "line": {
             "colorbar": {
              "outlinewidth": 0,
              "ticks": ""
             }
            },
            "type": "parcoords"
           }
          ],
          "pie": [
           {
            "automargin": true,
            "type": "pie"
           }
          ],
          "scatter": [
           {
            "fillpattern": {
             "fillmode": "overlay",
             "size": 10,
             "solidity": 0.2
            },
            "type": "scatter"
           }
          ],
          "scatter3d": [
           {
            "line": {
             "colorbar": {
              "outlinewidth": 0,
              "ticks": ""
             }
            },
            "marker": {
             "colorbar": {
              "outlinewidth": 0,
              "ticks": ""
             }
            },
            "type": "scatter3d"
           }
          ],
          "scattercarpet": [
           {
            "marker": {
             "colorbar": {
              "outlinewidth": 0,
              "ticks": ""
             }
            },
            "type": "scattercarpet"
           }
          ],
          "scattergeo": [
           {
            "marker": {
             "colorbar": {
              "outlinewidth": 0,
              "ticks": ""
             }
            },
            "type": "scattergeo"
           }
          ],
          "scattergl": [
           {
            "marker": {
             "colorbar": {
              "outlinewidth": 0,
              "ticks": ""
             }
            },
            "type": "scattergl"
           }
          ],
          "scattermap": [
           {
            "marker": {
             "colorbar": {
              "outlinewidth": 0,
              "ticks": ""
             }
            },
            "type": "scattermap"
           }
          ],
          "scattermapbox": [
           {
            "marker": {
             "colorbar": {
              "outlinewidth": 0,
              "ticks": ""
             }
            },
            "type": "scattermapbox"
           }
          ],
          "scatterpolar": [
           {
            "marker": {
             "colorbar": {
              "outlinewidth": 0,
              "ticks": ""
             }
            },
            "type": "scatterpolar"
           }
          ],
          "scatterpolargl": [
           {
            "marker": {
             "colorbar": {
              "outlinewidth": 0,
              "ticks": ""
             }
            },
            "type": "scatterpolargl"
           }
          ],
          "scatterternary": [
           {
            "marker": {
             "colorbar": {
              "outlinewidth": 0,
              "ticks": ""
             }
            },
            "type": "scatterternary"
           }
          ],
          "surface": [
           {
            "colorbar": {
             "outlinewidth": 0,
             "ticks": ""
            },
            "colorscale": [
             [
              0,
              "#0d0887"
             ],
             [
              0.1111111111111111,
              "#46039f"
             ],
             [
              0.2222222222222222,
              "#7201a8"
             ],
             [
              0.3333333333333333,
              "#9c179e"
             ],
             [
              0.4444444444444444,
              "#bd3786"
             ],
             [
              0.5555555555555556,
              "#d8576b"
             ],
             [
              0.6666666666666666,
              "#ed7953"
             ],
             [
              0.7777777777777778,
              "#fb9f3a"
             ],
             [
              0.8888888888888888,
              "#fdca26"
             ],
             [
              1,
              "#f0f921"
             ]
            ],
            "type": "surface"
           }
          ],
          "table": [
           {
            "cells": {
             "fill": {
              "color": "#EBF0F8"
             },
             "line": {
              "color": "white"
             }
            },
            "header": {
             "fill": {
              "color": "#C8D4E3"
             },
             "line": {
              "color": "white"
             }
            },
            "type": "table"
           }
          ]
         },
         "layout": {
          "annotationdefaults": {
           "arrowcolor": "#2a3f5f",
           "arrowhead": 0,
           "arrowwidth": 1
          },
          "autotypenumbers": "strict",
          "coloraxis": {
           "colorbar": {
            "outlinewidth": 0,
            "ticks": ""
           }
          },
          "colorscale": {
           "diverging": [
            [
             0,
             "#8e0152"
            ],
            [
             0.1,
             "#c51b7d"
            ],
            [
             0.2,
             "#de77ae"
            ],
            [
             0.3,
             "#f1b6da"
            ],
            [
             0.4,
             "#fde0ef"
            ],
            [
             0.5,
             "#f7f7f7"
            ],
            [
             0.6,
             "#e6f5d0"
            ],
            [
             0.7,
             "#b8e186"
            ],
            [
             0.8,
             "#7fbc41"
            ],
            [
             0.9,
             "#4d9221"
            ],
            [
             1,
             "#276419"
            ]
           ],
           "sequential": [
            [
             0,
             "#0d0887"
            ],
            [
             0.1111111111111111,
             "#46039f"
            ],
            [
             0.2222222222222222,
             "#7201a8"
            ],
            [
             0.3333333333333333,
             "#9c179e"
            ],
            [
             0.4444444444444444,
             "#bd3786"
            ],
            [
             0.5555555555555556,
             "#d8576b"
            ],
            [
             0.6666666666666666,
             "#ed7953"
            ],
            [
             0.7777777777777778,
             "#fb9f3a"
            ],
            [
             0.8888888888888888,
             "#fdca26"
            ],
            [
             1,
             "#f0f921"
            ]
           ],
           "sequentialminus": [
            [
             0,
             "#0d0887"
            ],
            [
             0.1111111111111111,
             "#46039f"
            ],
            [
             0.2222222222222222,
             "#7201a8"
            ],
            [
             0.3333333333333333,
             "#9c179e"
            ],
            [
             0.4444444444444444,
             "#bd3786"
            ],
            [
             0.5555555555555556,
             "#d8576b"
            ],
            [
             0.6666666666666666,
             "#ed7953"
            ],
            [
             0.7777777777777778,
             "#fb9f3a"
            ],
            [
             0.8888888888888888,
             "#fdca26"
            ],
            [
             1,
             "#f0f921"
            ]
           ]
          },
          "colorway": [
           "#636efa",
           "#EF553B",
           "#00cc96",
           "#ab63fa",
           "#FFA15A",
           "#19d3f3",
           "#FF6692",
           "#B6E880",
           "#FF97FF",
           "#FECB52"
          ],
          "font": {
           "color": "#2a3f5f"
          },
          "geo": {
           "bgcolor": "white",
           "lakecolor": "white",
           "landcolor": "#E5ECF6",
           "showlakes": true,
           "showland": true,
           "subunitcolor": "white"
          },
          "hoverlabel": {
           "align": "left"
          },
          "hovermode": "closest",
          "mapbox": {
           "style": "light"
          },
          "paper_bgcolor": "white",
          "plot_bgcolor": "#E5ECF6",
          "polar": {
           "angularaxis": {
            "gridcolor": "white",
            "linecolor": "white",
            "ticks": ""
           },
           "bgcolor": "#E5ECF6",
           "radialaxis": {
            "gridcolor": "white",
            "linecolor": "white",
            "ticks": ""
           }
          },
          "scene": {
           "xaxis": {
            "backgroundcolor": "#E5ECF6",
            "gridcolor": "white",
            "gridwidth": 2,
            "linecolor": "white",
            "showbackground": true,
            "ticks": "",
            "zerolinecolor": "white"
           },
           "yaxis": {
            "backgroundcolor": "#E5ECF6",
            "gridcolor": "white",
            "gridwidth": 2,
            "linecolor": "white",
            "showbackground": true,
            "ticks": "",
            "zerolinecolor": "white"
           },
           "zaxis": {
            "backgroundcolor": "#E5ECF6",
            "gridcolor": "white",
            "gridwidth": 2,
            "linecolor": "white",
            "showbackground": true,
            "ticks": "",
            "zerolinecolor": "white"
           }
          },
          "shapedefaults": {
           "line": {
            "color": "#2a3f5f"
           }
          },
          "ternary": {
           "aaxis": {
            "gridcolor": "white",
            "linecolor": "white",
            "ticks": ""
           },
           "baxis": {
            "gridcolor": "white",
            "linecolor": "white",
            "ticks": ""
           },
           "bgcolor": "#E5ECF6",
           "caxis": {
            "gridcolor": "white",
            "linecolor": "white",
            "ticks": ""
           }
          },
          "title": {
           "x": 0.05
          },
          "xaxis": {
           "automargin": true,
           "gridcolor": "white",
           "linecolor": "white",
           "ticks": "",
           "title": {
            "standoff": 15
           },
           "zerolinecolor": "white",
           "zerolinewidth": 2
          },
          "yaxis": {
           "automargin": true,
           "gridcolor": "white",
           "linecolor": "white",
           "ticks": "",
           "title": {
            "standoff": 15
           },
           "zerolinecolor": "white",
           "zerolinewidth": 2
          }
         }
        },
        "title": {
         "text": "Visualización del Dataset Digits con t-SNE= 100"
        },
        "xaxis": {
         "anchor": "y",
         "domain": [
          0,
          1
         ],
         "title": {
          "text": "TSNE1"
         }
        },
        "yaxis": {
         "anchor": "x",
         "domain": [
          0,
          1
         ],
         "title": {
          "text": "TSNE2"
         }
        }
       }
      }
     },
     "metadata": {},
     "output_type": "display_data"
    },
    {
     "data": {
      "application/vnd.plotly.v1+json": {
       "config": {
        "plotlyServerURL": "https://plot.ly"
       },
       "data": [
        {
         "hovertemplate": "label=0<br>TSNE1=%{x}<br>TSNE2=%{y}<extra></extra>",
         "legendgroup": "0",
         "marker": {
          "color": "#636efa",
          "symbol": "circle"
         },
         "mode": "markers",
         "name": "0",
         "showlegend": true,
         "type": "scattergl",
         "x": {
          "bdata": "/9MCwVF59sB57xrBG5IFwf8mKsFXlAHBYJIIwaOkJMES4yDBwF0pwRP2F8GZBBjBHWgcwUTrBMHJDiPB9EgTwTnoIcFxZA7Bl3YZwT77IcHigCPBSDAbwXJvKcFYDiHBgDAYwa/sGMGCBgHBheITwacyAcEhr/LAzr/vwEvq+cAGpgPBZTYHwQG1BMHaHgjBF6QIwSduCcFZ7ArBN7IjwcU8FsE03RTBqagmwV8JIMGcxRDBhpMQwaUzBsFQcA/BEcYNwYWdDcFjCCTBv1MEwePH98Awc+HAtjfgwFRa5sC/beHA3l3iwM3zHMFWounADuMWwVpOy8BpDMfA+aW/wEZ9+MDzQRHBnBDawGphGsFzigHBTAIVwcDJF8Gw8PDAM9cuweR1HMGrvBrB9pgMwU1kD8HgVRHBcWrtwCRgD8HEkPHAWf39wIhoA8FLgTLBw5swwdw9B8FPyh7Bz1EtwQdMDMFFbwPB1oDewG1N3MDj8+fAsWr3wDJG2sAIfgbBzrzOwNbR6sBswxbBl2AFwXaPvsAt0PLAmdQIwQxA98Bn2OfAmCwIwd2S88DFEN/AgPQVwUpq6MD0lxnBjHUcwWX24sATbvLA8uDrwMtw98BG7gTBai/OwO8DBMFG0ATBXKP7wJJR08COn9rAtK/WwMTj1cBkjQvBsFHVwETd7cC6ZwrBMKkEwZq6IME6iCrB2hATwVklFcGu6w3BplXmwAuJ/sBRBPvA6JgQwZM5KcEiSuPAYLkIwSpJ8MAikAHBBzALwWNlCsG8aATB4uweweh3HsEEyCHBo9IAwYSY/8AmfAnBQwQZwR19FMGY5RrBq3wrwcwNAcErgCfBIv29wLkWEsFEjyPBLxQTwSmdIcEPivnAohUTwVQED8GSUSjBxssHwYonIcGM8CrB1rfwwAPrLMFkjx7BWQURwX/VI8EqlBXB+VAgwQ==",
          "dtype": "f4"
         },
         "xaxis": "x",
         "y": {
          "bdata": "9P8pwWypKcEaZAHBJQQ/wdIYEMFsCwrBkzQAwaLCBMENtgDBXPwpwdX1IMGJG+PAJlQAwZQYC8ESnBDBU77vwKwzH8EdFh3BJNokwXtz7cCKHwbB0r4PwTE+B8E+su3AKmwnwekkB8GytDLBp88cwd+0G8H4ZDLBrPs7wTujDsFD1h/B9psgwfxoE8GCMy7BaxcewcAABsHY9grBLd4mwep5IMEYkgrBlU4XwZAgKMGvwRjBb8AFwdZMJMGmyRrBs0IswacG9cA75Q/BidgWwbaWHMEnshLBQw8nwRSJHMF2uwzBJdAKwRcAOsHzoynBYkfuwPrGFcHpYxLBewcrwRCHG8EEwzHBwYI3wdzwJMGPOBjBeB8awY+2DMFXvinBm6HwwE1nDcELix3BTf8QwZyQA8GNExLBC1g3wa94PMGJkDPBd9gawQJfH8EeSCLBwfonwTzNPMF35w/BLIELwctVLsEfWyzBOzQHwdhWEsFDWxPBCB0NwWKZIMEsOynB+1UbwTfKOME/8C7BVu8wwSkNGcGYjiHBiacOwbHb7MBwOgjBYPv4wLpK38BTW9zAzKo2wSp1EsFYMDDBIb86wYSvHsHFCQfB8VcSwdJhKsHNZzHB8bYxwf4DQMH70knBNqZAwWtWLcFWvjjBMM43wWs9LsHWWerArqM/wX2m7cBErPrAxyICwa5/NcF/nfbALMESwabcDsHq4znBOFIdwej/JsESPgHBcOUEwTEAAMGI9RjB9aoMwVyiFcELKQbBIdUQwcl1GMHcqBPBi0czwWciOMHYtjXBHi8Xwaq+BMElIyTBeecPwR9S/cCdswjBHg/GwM2xCsErANDAJhQjwUjV3sD+lN3AIjQxwUQqAMEX2BnBI2Ubwf/2CcGHWhrBHRAiwSzfGMGhlC7B4f4gwW/NF8FMfSHB100kwZ6rHMHJO9/AayQcwQ==",
          "dtype": "f4"
         },
         "yaxis": "y"
        },
        {
         "hovertemplate": "label=1<br>TSNE1=%{x}<br>TSNE2=%{y}<extra></extra>",
         "legendgroup": "1",
         "marker": {
          "color": "#EF553B",
          "symbol": "circle"
         },
         "mode": "markers",
         "name": "1",
         "showlegend": true,
         "type": "scattergl",
         "x": {
          "bdata": "FsdrvnNTi8BlWHDA5qCMwGM5WsDh6HPAIdZMwHXkbsAt8mjA3NOKwFv1nL/hXQlAeTmWwD+chMB+c5fAJZuTwEYWicCuY5bAqYF1wBJGmsAH34nAJi+fwLGAlsCWx4HAn0aWwBhWlMCQoZg/ComLwHNJ47/TOhRADDQ5v9BsnsBdgNE/TZysv+SOZsCDJCM/O8vEP6xQXz+b51NAoKtTwI8MHMCHIEvADsVkwD7wJ8DKbnRB6A5hwAicJMAlmkTA0G6AwDxkKsBdDSjADnRNwGnVaEHLU3BBCrhxQTcfa0EW82dBvBhxQSM+aUH8F2hBo0FpQVhVtMCDZmdBOIxEPwgfZEHDKl0/0BgRQDInGEDgVa++A9WOviwxhT6AJAo/COpUvb4VckD+vWhA89/PP4E9PbuORmU+8bO3P/wcAj8meiA/sBZdP3Hb/D+tQXVBNKkoP5S7RkAZIMs/WFTxP4g6zD8USKc/Qgf3vS5sc0GVL3JBdfR4QWtTZEHQAmtBL3NtQX0iZ0H/WmlBjSpzQSIVakGlxGtBblxnQXwMb0HRFdg+lGhZPyTFoj/V8uU/dBrEP2NDP0BU3KY/L6ATQHdyhj9mC+E/N4NcP5V0DUB1+/c/f44owDd2UsAAtaK+pFWcP9wl2b+Zbrw/NeMTQGJJsD9ppFlAqmf8Px0S8j+NlkhAOM2owJRBKMDe2mO/EdKZwCl6wj+VfJI/ouRTwJ2rij9N3D7AMagFPxScqz9LI6k/OP77P3VHAUAo1DPAhAxNwH1HY8CIFXrA0kB/wHqPRsAXwkvAVIJTwFRbMcApAmbABZFqwJuZcsC79kHAqIuKP2jFNEDXl0tANi6HP0826T++6ylA1fPHPzwA1D+5oag/6lloP+vdlj+Haoo/a9JrP/U8tj4Gr0k+b+oGQPon9j4Xr38/3loXQA6rAEA0mnE/rbqavjuTqz8ys4s/ZPJvP7cNhz8=",
          "dtype": "f4"
         },
         "xaxis": "x",
         "y": {
          "bdata": "4lPOQGej9ED/RvlASqbtQHTZ6kDAkvdAMknlQA+o70Bl6NhAWIHuQHgF2ECceMFAKS38QGkOHEFJdQdByu0QQU7YD0H4ehJB+rcFQfDH70BtSw5BCCvnQCphEkEiuv5A7Ev2QFnICUExM6dAQ+HPQBm0pUBQMaFAzburQL3x60A3GK9A23SwQDTrskBxJbNAqQTAQNbBykDVBKhAXz8SQUk64kDMdvhAtyf9QDDw50BI5tnAgu3+QEMX4EBAudVArjnvQK6A8EBaKupAoYH/QEyg88AqId/AamDswNeVBMFiow7BKSjpwO0vCsElXw7BTTMLwbdHAcCDaA3Bzq9yQNA+88A7cKRAfduaQE/PpECgapVAaD6TQK+nukDNwplARV3BQJass0CQNaFAyiGTQKPnmUBlNJxALwjOQMsJzUAfsb1Anp5iQC2QkEBrT83A4siUQFJdnkCJmpxAS7O5QCvSr0AmWbhAcNunQILi1sBMCtrAmu7KwLk39cBz1uzA7DzrwJ298cCXS/DAOBDZwNJ67MCtFOrAlarvwNJ85MBEToVALlySQKorv0C7kIZAy2i2QHz1sUDjasZAKRWuQBbiv0DVqoJAka6vQNM/vkADXLRAhUDjQG7n6kDEpONA7oGhQHtM40BDMttA9k+tQPHBwkBd0edAlCezQJIqr0Af2r9Anax1QMBPCUE4zd9AissRQUZ91kCZgdJASI79QGryxEALxupA4WzSQJYE2kCRI89AVynDQObGy0DzpAhBIaAQQUXWBkGAJhlBm/EZQWitFUEpxhdBVzAdQVx/DEFr9AdBD/UUQa6jG0HpYhtBMtfPQB+XvkAGZsJAkwLcQAH7z0DZi9BA5bDIQOlo0kCJj+NAR1vdQJOUy0A07tpAfBTbQOypYUDgxZBAOCiYQEe9c0CsgJhA8kaOQLLdikChxWhAR++uQP4ZjECyfpRA44R1QNHxfEA=",
          "dtype": "f4"
         },
         "yaxis": "y"
        },
        {
         "hovertemplate": "label=2<br>TSNE1=%{x}<br>TSNE2=%{y}<extra></extra>",
         "legendgroup": "2",
         "marker": {
          "color": "#00cc96",
          "symbol": "circle"
         },
         "mode": "markers",
         "name": "2",
         "showlegend": true,
         "type": "scattergl",
         "x": {
          "bdata": "sg4kwIb5SUHDgkBB9CYQwMA5OsAt5ULAcYoswCIhScAxqVPAtyRHQZQRF0E2jg/AnZj5v7HUQ0EqjiFBLyUbQY7IJ0H+OCZBA0FKQdcIMUEvIBFBJlIaQeMWKEHY+U9BAxdLQTIfEkFgEzdB+Ys4QYA+OEFAFkNBhUQhQbwGMUEkq0FBR98yQS7yPEGLzCJBwX0xQRcbPkG2/UpBQMtHQZFiOkECV0tBaNRVQV2LRUHhBEtBdZs3QeMWTEE55UNB4HBMQRACSkGkfExBleeRwN/wRUGguC5BeGlaQWgQF0H57lpBOaxGQTbkWUEaQFdBkV04QRFca0HG81xBegY4QW8ZXEFfdR9B650SQWExHUF96w1BI2MPQfKhhUBFuIRAYMsLQRYmD0EGrDhBipMVQQPrEkEkzxpBuP47QfPFUEEDk0dBDnEjQf5iT0FfO0BB8WhPQYfTTUFN/lFBPtcTQckFUEFf+iU+oqwaQSdqPEGkfFlBVs9DQYdIWEELEVVBynBKQejHRUGoZVVBweZaQZTAQ0FnKUpBKERYQZeQRUFT8zpBqjtIQdBSQEGQ20JBphk3QdniOEHi509BIzZZQbnmP0Hm31VBvF1IQcNNSEGHmh1Bp5MpQYRpG0HpE0ZBE7s1QfSPOkEqhBxBVl8iQZheQUFglj1BqpgRQYzbOUHTP1tBrfspQZW6N0EuRDZB7bJVQZ2RPkHOJEVByb0sQe1NTUFciD1BmRlDQU8GSUHI/klBKutaQRsuXEHyAV9BhMRLQUhVYEGAj1hBCG1YQZI+XUFOP1tBOQdXQfVtJEETH1dBdRtCQTWYLUGW7TVBBhIqQVtWWEHKwTRBWxEuQWMoVkFU0EVBZ1YrQRjpK0GFp0RB6GEYQS28GUGVF09B84BeQYDvWEFiZ19BX59kQezRM0GobBxB1E9cQbA3TUHA5lFB",
          "dtype": "f4"
         },
         "xaxis": "x",
         "y": {
          "bdata": "GMGBQPZsmsDtvHPAe8t2QJOsh0C/aIlAEJaIQJ3YkUCeDpRANOeOv58AaT79rnpAqUJtQK88QL9uw8C+wu1AwPbn5b96X7a/mRjrvzvr7L8DUUDAskWBv5WHob+nHI6/XPbhviK6ab/mXCzAJ8AiwBcgk79kygi+o27Hv3iZH8CPT6W/uMcLwNKeB790rOm/sHMiwIxTlb4kY5S/WjB/wI8Hn8CiuUDAOW/ZwKf7VsBte1vAvOaRwBu+gMBb/i/A0TgiwPZKDMCMZy7AAc5HQCQBy8DdAlrAC7e2wIlyJ8EoJLjA5JiywOLvtMDdZtjAPmA9wDpat8ApacHArycqwEhlycDONcC/fmPcv5w4EsAmHyjAIJ76v4IHo7+FM76/klgUwNe4s7+Z/Ra8Z4TZv9o03L/L2dm/QRiLv1W1Nb8n3tU+3VvUv74S9z6fsw0+O6/gvwoRdT9Tj+Y9EN1kwNG+fD/sBj9BPwWov541zr/2mDq+wQIQwFCgCsAHGtvA+o6kwLi/sMBR1NjA2ocwv0BAg8DQ2MLAeRSuvxj577+Z24vAtEDCwK5IxcDEPbXAvRShwClmz8CU7pjA85kOwFWtmMAceOLAMzCRvzvgocAvSRLA17ZJwDw7/r9C2Qw95DcMwFrD3r/46m3A0VMXwPS+/T1tSIY8FPYXwdICx8CSgenAi0y3wEeh1cAcmuDAdKXuwCsr2MCuQlvA7NXkwOqTyMDpbNbApnG+wAEyz8B7whfACbefv60nTb/ItG+/y3AbwKVj+77hFMa/gparv0Cujr/Gj8m8HobAvzDPXMCKiNG/FCmPwA2ptMDmU6nAMh7owIxRHMCVAuHAoad7v3+sDsGrVZ6/cX6MwH9jvMCbOibABZhYvo9sx71aUwTAfKyLvtLaBLwdvNm/MnW8PlXyqb9PISjA1Dwiv4G3KcBB1EPA",
          "dtype": "f4"
         },
         "yaxis": "y"
        },
        {
         "hovertemplate": "label=3<br>TSNE1=%{x}<br>TSNE2=%{y}<extra></extra>",
         "legendgroup": "3",
         "marker": {
          "color": "#ab63fa",
          "symbol": "circle"
         },
         "mode": "markers",
         "name": "3",
         "showlegend": true,
         "type": "scattergl",
         "x": {
          "bdata": "iTS3QIJV1UD4LcNAwTapQAATvEBOzbVAKZm7QE/w5UDZveJA5ibDQCLq+UA62uRAGc0nQag87kAtvfpAJnnrQG8PxUC0ePBA45nrQMHxx0DTAdFAeTPnQHGZ0UCradZAqKrmQCACij6QH7hArm+SQM1pmEBV0I5AUp3eQE7VlED7fptA4FmrQE+wlkBvpKNALO3eQP6f5UC3pY1A5DuuQA3ajkDD1b5A1DIxQEvHv0DdA81AP1CYQLKmSkADM6JAraCyQPIAukCGg9pAe8zdQNNkukCQTw9AfQUgQF8SDECcMx9AZuWtQLKYY0CuKUXAw1EJQFy6RkF+ZAzAxUj+P0qXLEDudyFAuoFrQNNpN0DQ+oJA5WlDQALLV0DalIZAfmVfQB4GpEBygl9AhndeQO90z0DPEstAXPmvQJGI3UB9c79AnYfFQD9WykDKpddAmRHeQMXfqUD/369ATz6hQPWY3kCbx61A9djEQFPTkkAUI4pAuKHBQG5mwUCKhNJA/huqQC+bxkA4CyRAsYacQLPXIkAGsYlAO687QJpUzkAqPqVAB45pQCL2YUDo4nVAODxwQClqFUFMKIFAB7GFQHXgdEBugW9AsyNvQJjCOj9JIFhA8gJ6QCFPkkBxDIpAi3ZkQIDj30DyI19AMSqwQPrktUBrOedA6ODwQJ3pr0BblApBuoWZQOUz/0DptPxAZTSDQKsEokDJHoNA+megQEkXXUCGYD9AD7FrQCNvmUC6XbBA8t+bQE9kVkAWiYtAZDm6QLC2rkBwlNhAvQiqQIJSx0COx6FAuCa8QGDCokBKraxAyqGnQESqt0BaCoZA0820QGcGp0BgVptAwemmQNHF3kCo09RARmbMQHCmiEAYxpxABM+0QEy5rEAE4Y1A9j+lQKn2pEAhftBAGofKQFx550Bt5ttAmga4QKSoukBCg5DAU2e/QCNcuUDh/LBAZCaqQH8K10A7HNJA",
          "dtype": "f4"
         },
         "xaxis": "x",
         "y": {
          "bdata": "fWjfwM/CjsAI20jA+I/KwCd1icDd/aTAplmXwKv1gsBHY4DABKSGwOkYdMA5j4DAJ+sCQLzUZcCJA5XArm5mwB6xiMBxJJvAp12TwIXxVsAe/ZzAySOBwG8NfsCQk4rAtJxgwGO8PUGcluHAnE+qwHA80cDbqLHA1rjdwFuVn8B5b97AQnXLwNr7tsDwPqbAixbPwK6p0MAnps7A5MuewNSRlsCYwf3AvuQ/waVwCcEmBRbBpGoFwcespMB+2gTBIOcAwauR+cBlx/7AKjTvwFNhDcHqH5nArNJ/wMYPYsDuD5bAyAkvwfPngMDlhs7ABG6GwDt//8C9FHQ/IN9kwN2Sk8CIfo/A9L2qwMxtx8A/wKLAO9xkwBlUxMAvS73AfTHSwFytsMAzH7nAtF3LwKoQ0MDdWtXAHfO0wA8qzsCpZcLAlU3FwBnisMAroK7AZlyrwH+MKMA3tUHAcxyswBjGw8AOoLTA07O9wEfrf8BxkAfBNqsNwU8U8MCpexXBXzf/wH6PEMGADDvB24gXwQYQRsEb6AfBwfpCwaIKEcH1xRXBc0HewFyx7cAtiMnAoQG3wLtqJsHahrPAyFnxwLx52cCvN+jAY5fkwK+HN0FhYOrA2q7ZwBCq58C5u67AXB/rwOfa9UD5du3AY/6UwNDxXcDW1ZzApap1wAx8hcBQ1hPB8mPDwH2Fd8Bs/qrAEk+3wKyqAMGjNfDA/4N+wJevusBVf9rAXNIAwa9lx8DLRY7AfR7swHvXzMBrf93AR1zkwJ1F78D/xNnAwGa6wND07MCWQ+/AzP7zwOxV58AxVdrAzLbGwPEkvcDT+OLAYZ7MwNJKdMDUJU/AAcKOwPXAFsBQPbk/Nab3QNdPBEGstBZAewKDwHjOgMAhwU/AlACBwLQmi8CLgMvAmdzcvwwCtb/Mqv1At4/bv3Zirb+pAhHAilPav49pC8Az1WPAxBnHwJrQqr+ETqLA",
          "dtype": "f4"
         },
         "yaxis": "y"
        },
        {
         "hovertemplate": "label=4<br>TSNE1=%{x}<br>TSNE2=%{y}<extra></extra>",
         "legendgroup": "4",
         "marker": {
          "color": "#FFA15A",
          "symbol": "circle"
         },
         "mode": "markers",
         "name": "4",
         "showlegend": true,
         "type": "scattergl",
         "x": {
          "bdata": "HTYCwTwND8FmJdnAFEEXwZTlDsEqIhTBXMWmwKOm9MARM/LAIKgrwYRlHsEF9RrBjSoZwWns6MCXN/XAVV7vwIsD8cD20uPA2ijgwE58+8Do7fTAPK3gwKsN5MBMrtbA38f1wFwVJMEfliLBVS8wwZK6HsGmICjBINw8wcvAJMFfOSPBw7gYwaQqKsFegRzBBZMuwewEFcFYw+jAgqY6wYk+98CGN+/AGlwMwQ2S6sBzxtHAZwsNwQqI+MDyltTACRzuwMqo38Chr+PAf+9EwdpHRMEtTz7B/y84wU8ILsEGTkPBlltGwU8FQMHQtkLB0phJwZKrK8HUMkvBxdFFwUDz9sBJpATBMyzMwF1D8sCJmAzBnc3zwAsCA8Fbh0TBR8uuQCxwTsHP1rbAEFxBwY1/Lb+OpTvB2s8hwUdjTMHK6h7BRSsqwevyMsHqmxrBoWRSwQV4JsE/2TPBRbkVwVL9RcHZ2kPBa1EVwdJWT8GzBfzAA9EGwfy78cC+NvnAgAhXwSDD58Cqa/XAbEMLwQCW+MAMFRfAXcr1wO7M98D4pbzAMk4QwbTvvcDVuQ3BeTF7PouZEcELbhXBd1QdwWGHFcHeZATBDlEbweqQG8HPlx3BYCUXweNUNsHBtw/BeEoiwTDrEsHHCw/BrTsXwTaDJcGtTSDB7XYEwV8rFsFO2TDBupIiwQcTJMH4qCPB+CchwcOWHsEHMCnBUYMswRikIMFLHRrBB60Wwb+3F8EZnBDBvIEswcXhR8G8fTrB4dA5wbhFGcFk4j7BPnQswbVDLsHc7zvBMl43wZlQNMGA2DvBqnQ5wTEFHcEyZyfBoMwkwTotOMGZFSvBp6I1wU8CrkBFCqxALtouwV6FKMHEUyTBqmo9wcHWskB6vCnBYqPHwCfWIsENcBXBlGY3wFDU+cDAhD/B0pY/wbTqJMFgtgLBYuoBwTHHQcHQEBjBvcUawQ==",
          "dtype": "f4"
         },
         "xaxis": "x",
         "y": {
          "bdata": "aMP9QAOiFEEniAJBiZ0TQbW5/UASuSFBgGKBQLjr/0CF9P9AzqctQRYCIUF5+ShBoksVQS8SC0HzStRAwo7gQD0TvEBTYtNAIBOyQCQezkBvydNAhO+xQOzE1kCTF+BAIUvVQOeuJEGNfx1BoG4iQc/yDEE4ixtB9qgWQdb5IEHUJQVBg/Q1QfJ61kBBJhNBznsZQZmtE0H2W8BAWnz+QIB+20BpnvZAA/reQBiH3EBcIP5AMWnYQNUi5kCuFflAknfmQJDe/ECo87dA4gsSQWL9IEFkPPxAhRAOQVvUFEHctx1BAlIPQd+7CkETmg5BsBrqQMLMDUEAPRJBzFsXQQdN5UCBzt1AExPxQGt5BUG7dR5B3uTjQAzz40B6VRRBWShYQX9r10DiMGdBC03kQNEUTkFa4N9A+T7zQMJso0DHsuhAPjL7QNq1+kD48t9A/gOhQBPHtUDXbvZA16fqQK24qUC/TKhALbz3QKpFoEBlYxZBOOg6QVsYGkGuGBdBX8WrQLOySUE5aDZByUYLQY9UREHqrnVBKUpHQTDpRUGuSmVBdDkvQS/OZEHqnzpBRicdQYNCNEG+YTRBPDoiQbwrCkH3WkBBf1EdQVCyLkF4jxhBivzkQDg9FEEluv9A4Q3MQN/oE0GibgFBQEIIQTV/+UCq99tAoGU7QfwN9UBVMStBPQOyQPi1qUCzV6NAfn28QKCMtkBootVAqELRQP4BsECCMw5BiKvNQCCW1kBY9eVA/nXTQIJzEEFYWv9AxS4LQSJtAUG03QBBK0UGQQBl9UBkpglBGV4MQRcj/UAzKB9BbF0DQfh6+UD4XSNBwsMhQefCJ0GschZBnTQpQRzX4EDnS+FAuM4QQQOaHkGBURtBe7YnQYp/3kB54BhBe8jXQJ+OBEHNmwNBY0hmQeUGQUGBIKhAslaoQHta00CscARBKgYAQWI/qEAthd5An7PyQA==",
          "dtype": "f4"
         },
         "yaxis": "y"
        },
        {
         "hovertemplate": "label=5<br>TSNE1=%{x}<br>TSNE2=%{y}<extra></extra>",
         "legendgroup": "5",
         "marker": {
          "color": "#19d3f3",
          "symbol": "circle"
         },
         "mode": "markers",
         "name": "5",
         "showlegend": true,
         "type": "scattergl",
         "x": {
          "bdata": "pxMWQO6gMEG7/hBBbJ8LQdrDMEFHuhdBx0sSQZ2zDUHEg6RAZKHnQI7xCUHA4yRBV86jQOiBMkGqWC5BALwyQccyK0GK0kFBGOkmQRzBNEHDtSlBJU83QYaHJ0FnwxdBLLQzQWl3MEHi34O+uoXwQPMsOb+Iqzm/LrSjvXpELT+a6We/UFgCQfkvdr+1Jq+/2noIQfTWXz08oi9BFHrZQD4M5UAGdt5ALViIQLtj50CjtoNAcBnTQNjVTcBCweJAmvUNQVIU80CFmwVBrELTQO1yLsAG4MS/67abvwj4u77DnIe/j+PYvy+Knb+WEHe/9PEJwHospr+UJY6/96pNwBXXtb9spDbAdvITQVPpFEGxswvB6F4MQX3/EUGLpQlBN1ozwOF0OsDy2qy/zeEEQVYwEUFaVzZBjhgZQW/cJUG7fCxB6HjcQDECCUEnYwlBUt4DQaUa10CTMxpBiO/1QCA4JkF/iwBBFy0oQbvqRr96lJq+zrkiQDJ3lz7f+Di/kX+BPmZOj0DIF/q+0teVvtrED0Fyzx2+7rOuvTpw8T2oywRBRw8FQbjV+78oZvFA5IkAQTxJ7UDE5/9AW88awMj1F0GRbvFAol4fwHayBkFkMSDAuqfav0W9wL9vXTdBjx5uv07YDkHtuiRBcA86wFz3EEF7tYq/WkRAQYx0H0GcQTlBXQg/QX9awr+I5CdBjhcEwFatFEGu69O/+uwFQRKvp78hswzA2Lq8wAnf7rxXOupAXlJGwAevBUEe7aG/CpBFv0kIQj/EUle/u1JAvr5Fir8TxFS/7Xtav33F0b8PgW2/bUkIQLauy7/trX2/ZEgRQbcCD0EaZwZBPWUCQUWyRUEUbgtB+6I7QYe6D0G5o0Y+Dp4HQTXB20Ay9w1BUOcGQVsaD8A+ox7ArBVAwGphE8A3HQDAdpkDQQn/IsAgZCDAfh9CwGfK6b+J7hPAGLoswDhzB8A=",
          "dtype": "f4"
         },
         "xaxis": "x",
         "y": {
          "bdata": "yXkowfm/a0CiQJ9A3Y0/QGUPT0DMtV5AXNF3QFkjPkDo64y/K04kQGRtkEBeaolAD7FZv3RvhUDsBFdAxHSnQKCJa0COuYBAcySVQA3UYkBLWohADNyTQDSbjEAuH59ActSLQNOigUB5kIjAc3SVQCF6Y8C75mrAfiZlwIs8osDRSFXAqohOP1tVaMA/Io/AmDk6QCnJhMD474ZAkM5nQFYNgECEN3pAYGUZwHauXkD2lRrAvAN/QHt+jsAw/mtAl+D8P5/raEDmZJxAPz1/QIDbjsD57q3AwjqmwLG0SsAR5rPAGritwFcpo8AUVYjAVU62wJDJvcB0H4TAvbKNwI1KssDsxinAwx2qQD83rkBEkI5AzKKzQEEXr0Bm5qZAlN3mv0sk2r+yVSbA8fOWQFxpvUAxVK1AXRuBQK3HoUD+LpdAZkCYQEu8qkAVs41AgOKcQHBVnECDbYpA9ux8QNM2m0DtwH1A+QGaQM1zesDnWrXAAHQTwRY0tsBCuZHAOeq6wL1UIsGEd5jAAwatwEEnH0B8e7nAohnCwBsknMAQT6NAgEB5QEMBb8A9RaVA/OC/QNuBrUART0NAjQzQvyweokD6tSFA0OgBwKe2sUDIt8K/2ckewBt5L8C3q4lAmtolwNWzWkB9IHpARYABwMRwskCGHRnAcCpyQDRonkCm6apAUaNnQFWik8BG9RxAHRv+v8NbIUCKCvO/Y/YrQEztEMB7HxHAuMiNvvn10z818zlAP2UewNg1FUC5KpzAobmZwLiYp8Bvip3AF9GcwPKikcBA0bfAVHiOwFl+S8DXUbTAKGASwaq6kcAjQ2nAggS/QGRgx0BsLrpAAc/RQLRHbkCJEsZAwYWUQDv1vkA1sPo/CFvNQHkLokAfmchARGDHQEKmicCfOmHAyNZfwKMtRcDoKkLAEMQrQNJIbcDZFpDAg/9mwBLulsDKZXfAf1pUwPhWjsA=",
          "dtype": "f4"
         },
         "yaxis": "y"
        },
        {
         "hovertemplate": "label=6<br>TSNE1=%{x}<br>TSNE2=%{y}<extra></extra>",
         "legendgroup": "6",
         "marker": {
          "color": "#FF6692",
          "symbol": "circle"
         },
         "mode": "markers",
         "name": "6",
         "showlegend": true,
         "type": "scattergl",
         "x": {
          "bdata": "QHcIwQAxAcEnPxTBfqP/wLCVHcHBFBfB+J4OwSYhScE4kgzBitwHwVt+2MBv9w7BKsvywHTpN8Gs1wfBiFcWwTNOQcHLBTTB3wkMwcH2MMH6mTPB55tCwTjnBcFOehzBLREzwb7INMGptiTBNBdEwa/+FsGLrDzBuecqwclcJMGTDxbBbO0MweS6OsFjGRfBASQuwboaIMGqexXBqJfbwH8f+sDzHdXA5VAZwRxBAcG4XRPBvsECwV1MFsGXQP/Ay/vowJWSBsHULKTAPZkawX4rI8Ea1SfBNHMkwUllIsGNaCnBq0wfwbtBJsGf4iXB6ZghwSCIG8GCvB/B/eciwexdJsGHwCzBv+cvwVM3QMH7l0fBuLA9wSCGH8GCs0nBlaYuwVI3D8EMCznBTDgOwdGxDMGA3zLBIWs2wcTb88Ch3D/Bx5UJwZ2uCsG9KkPB+hkwwWlENsHSbvLA1ckdwUm0+sC6ATjBmHI+wSmFRcEkpEHBf1cqwSKwQsEKTiXBfw4xwYeNNcEbCjjB0dYQwUu4HsHs7DXBP4MywXX2QMHxsTrBeIciwSmvB8FTJRXBCxUdwVPQDcH3BgbBL7kMwUjgEcEChR3BnrERwbpLKcGQekHB2/8qwXSQE8GStwPBkcP1wM0hE8G0WxLBLiIWwXJaEsFhfg3B0asLwbEmFMEuKfbAiYvowPKLAsFuM+PAK6nlwFGwAsFkU/3Aadv0wAEeCME7tgTBPErjwOIWAcE0yvDAignuwH7cNcEYczzBjf0/wYwQJcHfITjB0Ck3wQx+SMHjPizByJ44wYLiLcHKZCTB78AkwXkZF8G2GdfAd2XuwAOT7cBbLwjBX9v3wMnQCsFcr/nAYdMBwXIZ98ChLPnAbosIwTW47MA/HfDAmWo3wXmlLsFr6DPB1X83wTltKMG7DzbBX3g1wdo0RsFZWibBaW0PwaOSKcGH1ALBj+UuwQ==",
          "dtype": "f4"
         },
         "xaxis": "x",
         "y": {
          "bdata": "J+ClPxjjzr+dgrQ/K/HJPqZ2PD96SAS/AqRDwO2Tub5OapM/v/YyP+rnEkCQUf4/XLztPyN+IL+JIjm/1QaCvODaCb86Uie941f2PprKYb2M6yK+sgg4vOzGpz6M6DK+V8nMv3r1m79CSZa/h5wgv6kOU7/zG/q/1DXTvzNynb/twyjAORkxv1fYvr+dOXi/R3+Mv/X4vb9dVCw/08hYPjdix7q5vbi9EpFtvprWzL2P73Q/l+emvv6hAD8DgRy/6evmvrHTLT5LlSBAVP36PhRXpb7DwZU96YSZP3Ns/T+TBbo/Pc1TP64Oe76wEMQ/XKsAQGbCFT86Kg0/dt/MP1mqC8DoF/u/zprcv+9klb5Y6zS/NAiivxjCB8CqK5u/MpwBwNgUU8A1k7y/R+gGwOCw6b9r1V7AJDCQwHUfHr2MnhnAr3XePv7QST670xfAPxqFwJ3nPz2FNVe/5eQ+v+PtOz9ljCa/sNhRv+jZXb88pLS/idBbv1aZJr/jXUC/m2ziv1BRVL+Ix4+/W83Nv6EDpb9ojZq/NsbLv0wvu7/eZQLASeLFv7e6db9A9ww/+AMmwG+Y3b9YbF/A2PxVwJgpTsBIEBrApnTbP/DZ379oOtW/lTKFPwgTBsC9yGDAzlRSwCN7zr+Khkq+h0N6vQlrob8Z/d+/gjAewBVZ7r0Pu2zA9JF3wARWHsCgS4LAGgGAwLPcP77t9XG+/psrv5jWrr7MY4m//tWBwGiUp7+Iwtu/XzhqwNa2s78TyOq/xy7Wv2xCD7/POxDALYOjv9nvjL9+91O/n835v9rH77/hG4C/Ja6IvxnvhL8DkZW/DgG7PmNu/D8naQq/5cNov/aTCb8st40/hWlmvyNRib9YgdI+Yo8NwPmYyD+Fu8g/I7AJP3w4I79oeSA/+LQ0PgvDDj4e9a0/I/osvjqeA77T4YY/WeVkP8alLz+jvK0/Tb/8vg==",
          "dtype": "f4"
         },
         "yaxis": "y"
        },
        {
         "hovertemplate": "label=7<br>TSNE1=%{x}<br>TSNE2=%{y}<extra></extra>",
         "legendgroup": "7",
         "marker": {
          "color": "#B6E880",
          "symbol": "circle"
         },
         "mode": "markers",
         "name": "7",
         "showlegend": true,
         "type": "scattergl",
         "x": {
          "bdata": "9bGMQD9dQECKq5Y+wpcOQLzOs0B4Z6w/149GQEbnm0ALDHs/SM1uQLfqN0ApsoVA7rF+QCJDg0BWGYJA/dukQKX6sz8u0hRAsgWUQLGBy0CkAOlAKtauQKQ/cUARh65AetekQCZ3sL5MzqJA/HVFv4B0qEBPzvs/75eyP0Wlt79Vf0ZAuXZnQFQmoEDfo5ZAuEVjQChV+T+2qpS/7xeSv3gxt785paa/B3TEvQcdkb+EDey/88Djv611Tz8bj12904/Fv0+wgr/5HCM/nMTnQCtxrkCbNoA/s3dXQAWnokCXYdBAvllvP7ZwtEC186pAQYeRQN8Gl0BMVNFAKhOgQP5ImUBEngg/C0gYwJgQXcAfD8u/rTaxP+X9nD/DV3s/PFMYwJrBKz/TiRM/Sd+hPjtsoUCN4F9AEWubQMnOm0CwZr5AGSxMQAaVt0BRB4dAw0l4QMKiUkDmq6pAYAGLQF6af0Ds5bhA5lkJQK6dSUCWuhhAwhJOQPXYwD9itktAYd0cQAhXTUDAlyFAvvB+vseyR0DQYjZA8QF1QGsnP0CZ74FAjpNWQLLYa0C6LnpANUwGQGLeyEBVhQ9Aco1pQBztjj8dka9APQScP5qsx0AH+m9A37MwP4JU1ECLbLpAcGOqQNrOw0BNbtNA0MvRQIjNrECVRNpAUxGiPwqabEBmPftAUutoQNLPkED4xDNAvN2kQFckj0CKssxAtb3FQAW1vkBHhUBAMwDCQDBW+j93mqhAa8QDQCSosz81dvs/chA2QKzdIUB9XaC+VZQNQAN8JUClMzpAz2InQDCbAEA0AuU/xvf6P5enA0G6f91A/m6qQFdA8UAQLfRA3FrtQN2kxkC2HdpATRcEQadudUB+patAwHdNQZ+OnEDc/ANAU2KsQLYAH0DiHI0/sACQQNyIZ0ATlp9A9OqJQPXLe0CqeMJAmzeGQOzxrEA=",
          "dtype": "f4"
         },
         "xaxis": "x",
         "y": {
          "bdata": "3pllQbJPMkGO8EVBJtwyQaj7T0FuNUdB9/AxQfbPQkHKbkJB00s5QbnAMkHM4DpBK39HQXxlMUHZ/ilB3xsgQW7qVUHZZFBBPmovQbxaHkE3ZTlBjHQdQeFNVEF70TBBZKIfQcU1ekEXszpBQNZ5QXsnOEEqKFRB2LdIQcFyekG6ITxBOUY4QQq/K0FHGRxB8Ek5QTQjRkERO2pBqwJxQQ3adkGc4mpB7Id1QaeaakE+f3lByrBvQT9HakHPxSVB9B15QeG/bEEd9GlBm9s4QXlYS0E2/FFBpfY+QSQMUEH8L0NBWjFcQS1MQkHKQEpBeo43Qb81QEFflTNBRdNQQUGnS0Hmc2BBoB94QeZCY0HSHk1B3vtIQfrnTUH8HUdB5cd2QdpJSkHPaUtB9hZMQaaTQ0GF/kJBEkg1QV2sNEFzFilB9WpBQVbcHUFW+TRBzuYuQdRGY0HiRydBfEEqQRRbMkFqSTdBis1gQUE8TEEmYVxBRXNWQdRZZkFAoFRB/nthQYOkSEFgI15B/qd5QfPBVUFIfFBBKnxLQWB1VUHx8k5BApBhQYdfPEGvAWRB7BSAQTPxSUFPToBBFrlSQRsRfEGcBDJBYHl+QRqBRkE0aFJBAOBUQYcIQUEfX0hBLJ5DQdHvSUGBhj5BXQY5QchbOUGoR0JBbP5OQVn8bUFmaSpB7dxCQQb+S0GZoUFB8HZAQfasQUEE6EFBKcpEQQLsJkFkyTtB/94nQY/IREHRkUdBwyVWQSYuXEEysFxBm6RKQYfrN0FzZ2xBSyRWQYCMQEGJCUNBZldJQccYV0EGa1ZBC5RWQf3oIUG5fDRB0941Qdo4KEFFlCdBFRUmQXwbN0ESTR9Bl+AlQeeFKUENcytBWhpVQCvVSUGKn0BBo7JLQXSbaEGxzktB1R4sQc+vFkGoqRpBtUAcQbNsP0GZyztBpclYQXZyKkE=",
          "dtype": "f4"
         },
         "yaxis": "y"
        },
        {
         "hovertemplate": "label=8<br>TSNE1=%{x}<br>TSNE2=%{y}<extra></extra>",
         "legendgroup": "8",
         "marker": {
          "color": "#FF97FF",
          "symbol": "circle"
         },
         "mode": "markers",
         "name": "8",
         "showlegend": true,
         "type": "scattergl",
         "x": {
          "bdata": "Fh4gQEcskkB7vytA25+jQEU6hEACzBVA6Ch0QDzXl0AASA9AS8suQMS5lz/o6o5A56U9QKttPEAh6/Q/SWoYQGy6OUDZLS5AeLIHQIdPYUCGjYq/qmfLP2zOqj+r/mc/FJR5vxvLGUDXdek/9MF0QKuVbUDLk3dA/x4YQDR7vD99TghAF0RZQOfJN0Bp5SpAh/7PPzzVbEDdf4M/Jrl3QGnAib3/vOU/jloHQNavLj+eh+E/5D0HQO45IMA3tCtAW+4TQHwATEDK/PQ/u2kZwF/+CMBoafa/sdgcwFd1HcCIki7A+RcswJEMHsAZExXAn00rwEHNLsCxsivABAIiwKoJHkAtdV1AW9sZQMf3OkAx8ipA31ZNQNCTwz/9ixtAiJMNQE6B5D8xYlxAp7YYQGyeQ0BatcC/3cZdwKXr2T/z36A/EUMmP3vkFT74J7s/ZyWIv5RHVrvA5B89N3RzwO4A1LwojL+/jmk3QBXlOUALQE5A980vQH11A0CbxCVAKyAKQKC/ej+Iu09ArQzGP7vDKEBKUoZAjaWnQMUV0EBvT8ZAJa8PQPRmrED3FMVAxem7QL/qnkDS7+5AhQinQNLr1UAHudNA+g8LQaAylkC8cZdAcFLEQFnmrkDgr9dAOP7DQDzJnEDvrxRBsBiKQLmKm0Bh+I1AhDiOQHnWPUAC+hFBM8JoQCzjNkACgQlAto5dQDYqxz819IpAcFV4QIZvKkAMFGNAwN2QQD0/vj8Icpk/qiK8P85GjT/CvoM/z+McwFEpBD/OAwk/HI86PuF6gj7P5zQ/Tg4dPtaNRj9BSHO//xChQPDQd7/KF4O/BfVaQDXZH78mnEK/IpUsQFP/DEChVKFAvBG+QOCVl0CmRCdA3A+5QFGUmECN+nNAKANCQLjQkEDiOmxAeX7JP6IUlz+Fko5A",
          "dtype": "f4"
         },
         "xaxis": "x",
         "y": {
          "bdata": "BbfFPm8jXEAylBlAOE2EQOssEED7GEFAZodOQGf3gEANaUFAh+mFQOGuT0Dvj5lAptCrQPbMwz+xjW0/de57QP+88D/olY1A3iKDP0m2gEDQFwlAY/51QGpeLEB4ni5AipUPQL7jEUDlfdS/s3/fP4Cy4j+Ayb48clYmvaqX77+dWsq/AG2ZP14dKL/hhWDAGjckv2568D9cYCK8kakGQJerbb+GgCK+WVCnvrqRu7+Z6cM+9PULwDaB2cD5ao0/b7fEPzQhG79yxvW+e6pTQNy2D0C9tdg/Ok9AQP/FAECPyeE/IjH7PzS5BUCuDz5AHcdLQNrKBkACJARA2FA8QOpeg79pbJc+s7OBv+pOMLsa8cq+lq1oP0YgyL/Dfc0/Dho8QMDro79em2JAcDlQv/uDtD9TnQ89jK3cQLAhMUA6zQfA6JKmv1g7IL/4zb4/f2+FPjfo1j7dNOM9qXcrv7deCj/8xPU+EDXGv7YbB8Ao1vS/+jTpv/ZnPr+liSjAD+ylv1Sr77/afgzAKP0BwHnnzr+gVbg/NykJQCseIT5A8z29FFC4P7LhF0ARsJS9OmnzPQFxvT9Nkry+tjEXvlfo/j69Iao+8c8TwZQAcUBH319A/xf9P9JaX0Bzp8lAEtYRQCMuOkBnmCPBEX6CQClDI0ArvktA+EkyQC0pJEDrmBjBpKFGQMY1P0B/hlBAxW86QGSbDkA350BA8I8nQPnFdEDOSk9AOBBBQL2SFMCphuG/UDgXwBguHb9QhyO/S8IMQbrJir9TeDW/mgDdvumTi75RZQi+rJO5PXIVo74rJM1AdTWuQMfJY0D6PiRAxbs1QKkINkDH6DRA591sQGrVCEGiZa+8DZSaP/A5rz57bwi+kNW6P0s/1z8o5y8/r30JQJpfOT7bSn1AxqFwQEVJI0AiW0K9",
          "dtype": "f4"
         },
         "yaxis": "y"
        },
        {
         "hovertemplate": "label=9<br>TSNE1=%{x}<br>TSNE2=%{y}<extra></extra>",
         "legendgroup": "9",
         "marker": {
          "color": "#FECB52",
          "symbol": "circle"
         },
         "mode": "markers",
         "name": "9",
         "showlegend": true,
         "type": "scattergl",
         "x": {
          "bdata": "2FrqvxpbWEBS7FFAnRdRQKGxhkCy+/s/CBu3QN7SMECwYAdAMBj5P43B4j85+uo/1cZZv9SO3D+Nyo0/un7hP2w6CEC+KGU/eaUDQFZLtD9MrVy+wMa3vT1z+T8Y05C/hG/8v055Wj8ol5E/T+t7P3iInT9nV88+Bi9Pv/+WKD82UqI/IBOAP4Faiz/HiRzAUUpDwPIBQj8Drwu/9/aBP07KLj94omy/VIl0v+7PnT9NCmU/K4KEv4Zaib6YXKK/5msYv+RiCcCd54i+MT8CwLxTJsCIakNAkexvQFa6ir9nEwHA8EwhwBy6gz89rO+/0azzv7N2xT+0z9S/aVe4Prizg8BswVDAg3NJwL7zWcAGlkjA4bVPwNycTMBpW4PARydnwAJ3UcBB+E3AIaOFwC6DLMDUddg/Mm03wL+b1z6T21y/XZ2UQEshi79GFOQ+Qe0Uv6q3Yb+rFDM/Fk/jvygnAsD4zNW+nSQ/QEi2/D8hYipA1kB9P7vgrz9rjgpAym0cQJk3NEAVkOk/RsAZQG9Xbj/uVmVA8Cj+P+qeI0CoZVZAYumDP+XBnT8/3VtAhmR1P9OQlj8eJqlAYBBpQJdJ0j9hJgVA0cScwFHy5D9t/4G/G1bjwL2nqb9TnEQ/Di5VPogynz9PKos/Q9HXvjH7dj81awE++9aeu22+Jz/vEfI9JIZBPwh0vz+UYGE/kkiMPqVvwD7vDJK/j4GNP0OmmT92XG8+rfczPtPHmT5AvjHA3UipP1gLmD00x9s/P+r2P8DXqT4dMBlAMacdQLZhKkC70po+mU4iQGYZyj7Yx62/ow9uv/zAT8DZqfS/Nxnyv6MKIMCjiES/3lb6QJdmGMC93dg/nvw4P/Xl4z/FfIpAmSQDQUIJJj/ok9c/zP9RP0da1D/bSTk/+pZjPONtRz/fDB8/lCulPyyvHb7uVtA++IxlP175jL3nOAPA",
          "dtype": "f4"
         },
         "xaxis": "x",
         "y": {
          "bdata": "fZ4LwfV4LcF+tizBIVcvwY5/JMGZrfXA3trdQMbQJsE68ubA7sQrwbenLsHg9rDAvB0xwW8rIcHxNBjBXvwgwdW4LMElTSfBH5EhweKJG8HRCfLAkofqwNj6JMGUewXBTywAwUl4G0HC9iBBWqgMwexrKsG3FNHA54XwwBhlJ0HRCyFBq38gQWwwI0HwjjhBVPc3QbnzIUHNei7BUDkjwV22JcGMCw/BEBIIwbxAAsEO5vnABfMGwUvaCMEpwwnBQ8AMwQXIKMHH6gfB4snvwGwlEsH2UQzBbuyIP632LMEIm+HA99sbwfJX2MD5GOvAbB3jwDLpCMGN5B/ByFEmwZ4qTUFBAjdBea01QcTmM0Fe5SpBgZA0Qdd0NkHvdg5BvG0rQeszPUGbpklB1D9LQbHuOUGOZhjBOKUGwbDlL8HSzTPBQ8guwYbCIMHeHSrBwq0IwWhtLMEz7SXBxTIswSPwKcGm6SzB2gUewYDOCMEbpQ3BpBUHwcdtDcFgtQ/Bx4gcwW9mFsENgBXByboFwUm8EcEwoBvBw3sCwTAhw8DXZRPBkgzBwD+ShsBCThfBRueFwOY6wsCdRKM/Dc0hwXHE0cDj87/AgWBnwDRsuMAKaALBbA2DwNNDA8FoQfHASSb8wP2r58Ad4hvBZOfvwMnN3sAgf+7AShrtwNsAFMH819TAaZM7wXB3+MAa8+vAzEUMwcVOFcFAr+DAklspwWsi9cBiBBzBD9X5wN1e8MAEKyDBTWYDwWpxGsESGAbBhe/+wDLCEsFiRP7A/DkNweNV/8Aw6RHBZ/4CwcLNBcGa6B7ByVQbwT4XMEEFM0FBRiF7QdPtQkEGJilBfubNQKy6NUHA5yPB6B8kQa9fLsFkbmLAbJjTQAiCJkGCcAPBXTL0wHoWGMHSjw3BriYTwdGFA8FLmwHB9c4IwZOgCcFtH+rAI/EZwT4fEsFhewLB",
          "dtype": "f4"
         },
         "yaxis": "y"
        }
       ],
       "layout": {
        "legend": {
         "title": {
          "text": "label"
         },
         "tracegroupgap": 0
        },
        "template": {
         "data": {
          "bar": [
           {
            "error_x": {
             "color": "#2a3f5f"
            },
            "error_y": {
             "color": "#2a3f5f"
            },
            "marker": {
             "line": {
              "color": "#E5ECF6",
              "width": 0.5
             },
             "pattern": {
              "fillmode": "overlay",
              "size": 10,
              "solidity": 0.2
             }
            },
            "type": "bar"
           }
          ],
          "barpolar": [
           {
            "marker": {
             "line": {
              "color": "#E5ECF6",
              "width": 0.5
             },
             "pattern": {
              "fillmode": "overlay",
              "size": 10,
              "solidity": 0.2
             }
            },
            "type": "barpolar"
           }
          ],
          "carpet": [
           {
            "aaxis": {
             "endlinecolor": "#2a3f5f",
             "gridcolor": "white",
             "linecolor": "white",
             "minorgridcolor": "white",
             "startlinecolor": "#2a3f5f"
            },
            "baxis": {
             "endlinecolor": "#2a3f5f",
             "gridcolor": "white",
             "linecolor": "white",
             "minorgridcolor": "white",
             "startlinecolor": "#2a3f5f"
            },
            "type": "carpet"
           }
          ],
          "choropleth": [
           {
            "colorbar": {
             "outlinewidth": 0,
             "ticks": ""
            },
            "type": "choropleth"
           }
          ],
          "contour": [
           {
            "colorbar": {
             "outlinewidth": 0,
             "ticks": ""
            },
            "colorscale": [
             [
              0,
              "#0d0887"
             ],
             [
              0.1111111111111111,
              "#46039f"
             ],
             [
              0.2222222222222222,
              "#7201a8"
             ],
             [
              0.3333333333333333,
              "#9c179e"
             ],
             [
              0.4444444444444444,
              "#bd3786"
             ],
             [
              0.5555555555555556,
              "#d8576b"
             ],
             [
              0.6666666666666666,
              "#ed7953"
             ],
             [
              0.7777777777777778,
              "#fb9f3a"
             ],
             [
              0.8888888888888888,
              "#fdca26"
             ],
             [
              1,
              "#f0f921"
             ]
            ],
            "type": "contour"
           }
          ],
          "contourcarpet": [
           {
            "colorbar": {
             "outlinewidth": 0,
             "ticks": ""
            },
            "type": "contourcarpet"
           }
          ],
          "heatmap": [
           {
            "colorbar": {
             "outlinewidth": 0,
             "ticks": ""
            },
            "colorscale": [
             [
              0,
              "#0d0887"
             ],
             [
              0.1111111111111111,
              "#46039f"
             ],
             [
              0.2222222222222222,
              "#7201a8"
             ],
             [
              0.3333333333333333,
              "#9c179e"
             ],
             [
              0.4444444444444444,
              "#bd3786"
             ],
             [
              0.5555555555555556,
              "#d8576b"
             ],
             [
              0.6666666666666666,
              "#ed7953"
             ],
             [
              0.7777777777777778,
              "#fb9f3a"
             ],
             [
              0.8888888888888888,
              "#fdca26"
             ],
             [
              1,
              "#f0f921"
             ]
            ],
            "type": "heatmap"
           }
          ],
          "histogram": [
           {
            "marker": {
             "pattern": {
              "fillmode": "overlay",
              "size": 10,
              "solidity": 0.2
             }
            },
            "type": "histogram"
           }
          ],
          "histogram2d": [
           {
            "colorbar": {
             "outlinewidth": 0,
             "ticks": ""
            },
            "colorscale": [
             [
              0,
              "#0d0887"
             ],
             [
              0.1111111111111111,
              "#46039f"
             ],
             [
              0.2222222222222222,
              "#7201a8"
             ],
             [
              0.3333333333333333,
              "#9c179e"
             ],
             [
              0.4444444444444444,
              "#bd3786"
             ],
             [
              0.5555555555555556,
              "#d8576b"
             ],
             [
              0.6666666666666666,
              "#ed7953"
             ],
             [
              0.7777777777777778,
              "#fb9f3a"
             ],
             [
              0.8888888888888888,
              "#fdca26"
             ],
             [
              1,
              "#f0f921"
             ]
            ],
            "type": "histogram2d"
           }
          ],
          "histogram2dcontour": [
           {
            "colorbar": {
             "outlinewidth": 0,
             "ticks": ""
            },
            "colorscale": [
             [
              0,
              "#0d0887"
             ],
             [
              0.1111111111111111,
              "#46039f"
             ],
             [
              0.2222222222222222,
              "#7201a8"
             ],
             [
              0.3333333333333333,
              "#9c179e"
             ],
             [
              0.4444444444444444,
              "#bd3786"
             ],
             [
              0.5555555555555556,
              "#d8576b"
             ],
             [
              0.6666666666666666,
              "#ed7953"
             ],
             [
              0.7777777777777778,
              "#fb9f3a"
             ],
             [
              0.8888888888888888,
              "#fdca26"
             ],
             [
              1,
              "#f0f921"
             ]
            ],
            "type": "histogram2dcontour"
           }
          ],
          "mesh3d": [
           {
            "colorbar": {
             "outlinewidth": 0,
             "ticks": ""
            },
            "type": "mesh3d"
           }
          ],
          "parcoords": [
           {
            "line": {
             "colorbar": {
              "outlinewidth": 0,
              "ticks": ""
             }
            },
            "type": "parcoords"
           }
          ],
          "pie": [
           {
            "automargin": true,
            "type": "pie"
           }
          ],
          "scatter": [
           {
            "fillpattern": {
             "fillmode": "overlay",
             "size": 10,
             "solidity": 0.2
            },
            "type": "scatter"
           }
          ],
          "scatter3d": [
           {
            "line": {
             "colorbar": {
              "outlinewidth": 0,
              "ticks": ""
             }
            },
            "marker": {
             "colorbar": {
              "outlinewidth": 0,
              "ticks": ""
             }
            },
            "type": "scatter3d"
           }
          ],
          "scattercarpet": [
           {
            "marker": {
             "colorbar": {
              "outlinewidth": 0,
              "ticks": ""
             }
            },
            "type": "scattercarpet"
           }
          ],
          "scattergeo": [
           {
            "marker": {
             "colorbar": {
              "outlinewidth": 0,
              "ticks": ""
             }
            },
            "type": "scattergeo"
           }
          ],
          "scattergl": [
           {
            "marker": {
             "colorbar": {
              "outlinewidth": 0,
              "ticks": ""
             }
            },
            "type": "scattergl"
           }
          ],
          "scattermap": [
           {
            "marker": {
             "colorbar": {
              "outlinewidth": 0,
              "ticks": ""
             }
            },
            "type": "scattermap"
           }
          ],
          "scattermapbox": [
           {
            "marker": {
             "colorbar": {
              "outlinewidth": 0,
              "ticks": ""
             }
            },
            "type": "scattermapbox"
           }
          ],
          "scatterpolar": [
           {
            "marker": {
             "colorbar": {
              "outlinewidth": 0,
              "ticks": ""
             }
            },
            "type": "scatterpolar"
           }
          ],
          "scatterpolargl": [
           {
            "marker": {
             "colorbar": {
              "outlinewidth": 0,
              "ticks": ""
             }
            },
            "type": "scatterpolargl"
           }
          ],
          "scatterternary": [
           {
            "marker": {
             "colorbar": {
              "outlinewidth": 0,
              "ticks": ""
             }
            },
            "type": "scatterternary"
           }
          ],
          "surface": [
           {
            "colorbar": {
             "outlinewidth": 0,
             "ticks": ""
            },
            "colorscale": [
             [
              0,
              "#0d0887"
             ],
             [
              0.1111111111111111,
              "#46039f"
             ],
             [
              0.2222222222222222,
              "#7201a8"
             ],
             [
              0.3333333333333333,
              "#9c179e"
             ],
             [
              0.4444444444444444,
              "#bd3786"
             ],
             [
              0.5555555555555556,
              "#d8576b"
             ],
             [
              0.6666666666666666,
              "#ed7953"
             ],
             [
              0.7777777777777778,
              "#fb9f3a"
             ],
             [
              0.8888888888888888,
              "#fdca26"
             ],
             [
              1,
              "#f0f921"
             ]
            ],
            "type": "surface"
           }
          ],
          "table": [
           {
            "cells": {
             "fill": {
              "color": "#EBF0F8"
             },
             "line": {
              "color": "white"
             }
            },
            "header": {
             "fill": {
              "color": "#C8D4E3"
             },
             "line": {
              "color": "white"
             }
            },
            "type": "table"
           }
          ]
         },
         "layout": {
          "annotationdefaults": {
           "arrowcolor": "#2a3f5f",
           "arrowhead": 0,
           "arrowwidth": 1
          },
          "autotypenumbers": "strict",
          "coloraxis": {
           "colorbar": {
            "outlinewidth": 0,
            "ticks": ""
           }
          },
          "colorscale": {
           "diverging": [
            [
             0,
             "#8e0152"
            ],
            [
             0.1,
             "#c51b7d"
            ],
            [
             0.2,
             "#de77ae"
            ],
            [
             0.3,
             "#f1b6da"
            ],
            [
             0.4,
             "#fde0ef"
            ],
            [
             0.5,
             "#f7f7f7"
            ],
            [
             0.6,
             "#e6f5d0"
            ],
            [
             0.7,
             "#b8e186"
            ],
            [
             0.8,
             "#7fbc41"
            ],
            [
             0.9,
             "#4d9221"
            ],
            [
             1,
             "#276419"
            ]
           ],
           "sequential": [
            [
             0,
             "#0d0887"
            ],
            [
             0.1111111111111111,
             "#46039f"
            ],
            [
             0.2222222222222222,
             "#7201a8"
            ],
            [
             0.3333333333333333,
             "#9c179e"
            ],
            [
             0.4444444444444444,
             "#bd3786"
            ],
            [
             0.5555555555555556,
             "#d8576b"
            ],
            [
             0.6666666666666666,
             "#ed7953"
            ],
            [
             0.7777777777777778,
             "#fb9f3a"
            ],
            [
             0.8888888888888888,
             "#fdca26"
            ],
            [
             1,
             "#f0f921"
            ]
           ],
           "sequentialminus": [
            [
             0,
             "#0d0887"
            ],
            [
             0.1111111111111111,
             "#46039f"
            ],
            [
             0.2222222222222222,
             "#7201a8"
            ],
            [
             0.3333333333333333,
             "#9c179e"
            ],
            [
             0.4444444444444444,
             "#bd3786"
            ],
            [
             0.5555555555555556,
             "#d8576b"
            ],
            [
             0.6666666666666666,
             "#ed7953"
            ],
            [
             0.7777777777777778,
             "#fb9f3a"
            ],
            [
             0.8888888888888888,
             "#fdca26"
            ],
            [
             1,
             "#f0f921"
            ]
           ]
          },
          "colorway": [
           "#636efa",
           "#EF553B",
           "#00cc96",
           "#ab63fa",
           "#FFA15A",
           "#19d3f3",
           "#FF6692",
           "#B6E880",
           "#FF97FF",
           "#FECB52"
          ],
          "font": {
           "color": "#2a3f5f"
          },
          "geo": {
           "bgcolor": "white",
           "lakecolor": "white",
           "landcolor": "#E5ECF6",
           "showlakes": true,
           "showland": true,
           "subunitcolor": "white"
          },
          "hoverlabel": {
           "align": "left"
          },
          "hovermode": "closest",
          "mapbox": {
           "style": "light"
          },
          "paper_bgcolor": "white",
          "plot_bgcolor": "#E5ECF6",
          "polar": {
           "angularaxis": {
            "gridcolor": "white",
            "linecolor": "white",
            "ticks": ""
           },
           "bgcolor": "#E5ECF6",
           "radialaxis": {
            "gridcolor": "white",
            "linecolor": "white",
            "ticks": ""
           }
          },
          "scene": {
           "xaxis": {
            "backgroundcolor": "#E5ECF6",
            "gridcolor": "white",
            "gridwidth": 2,
            "linecolor": "white",
            "showbackground": true,
            "ticks": "",
            "zerolinecolor": "white"
           },
           "yaxis": {
            "backgroundcolor": "#E5ECF6",
            "gridcolor": "white",
            "gridwidth": 2,
            "linecolor": "white",
            "showbackground": true,
            "ticks": "",
            "zerolinecolor": "white"
           },
           "zaxis": {
            "backgroundcolor": "#E5ECF6",
            "gridcolor": "white",
            "gridwidth": 2,
            "linecolor": "white",
            "showbackground": true,
            "ticks": "",
            "zerolinecolor": "white"
           }
          },
          "shapedefaults": {
           "line": {
            "color": "#2a3f5f"
           }
          },
          "ternary": {
           "aaxis": {
            "gridcolor": "white",
            "linecolor": "white",
            "ticks": ""
           },
           "baxis": {
            "gridcolor": "white",
            "linecolor": "white",
            "ticks": ""
           },
           "bgcolor": "#E5ECF6",
           "caxis": {
            "gridcolor": "white",
            "linecolor": "white",
            "ticks": ""
           }
          },
          "title": {
           "x": 0.05
          },
          "xaxis": {
           "automargin": true,
           "gridcolor": "white",
           "linecolor": "white",
           "ticks": "",
           "title": {
            "standoff": 15
           },
           "zerolinecolor": "white",
           "zerolinewidth": 2
          },
          "yaxis": {
           "automargin": true,
           "gridcolor": "white",
           "linecolor": "white",
           "ticks": "",
           "title": {
            "standoff": 15
           },
           "zerolinecolor": "white",
           "zerolinewidth": 2
          }
         }
        },
        "title": {
         "text": "Visualización del Dataset Digits con t-SNE= 200"
        },
        "xaxis": {
         "anchor": "y",
         "domain": [
          0,
          1
         ],
         "title": {
          "text": "TSNE1"
         }
        },
        "yaxis": {
         "anchor": "x",
         "domain": [
          0,
          1
         ],
         "title": {
          "text": "TSNE2"
         }
        }
       }
      }
     },
     "metadata": {},
     "output_type": "display_data"
    }
   ],
   "source": [
    "perplexities = [5, 30, 100, 200]\n",
    "for perp in perplexities:\n",
    "    # Aplicamos t-SNE. Perplexity es un hiperparámetro importante.\n",
    "    tsne = TSNE(n_components=2, perplexity=perp, random_state=1)\n",
    "    X_tsne = tsne.fit_transform(X_scaled)\n",
    "\n",
    "    # Creamos el DataFrame para Plotly\n",
    "    df_tsne = pd.DataFrame(data=X_tsne, columns=['TSNE1', 'TSNE2'])\n",
    "    df_tsne['label'] = y.astype(str)\n",
    "\n",
    "    # Visualizamos\n",
    "    fig = px.scatter(df_tsne, x='TSNE1', y='TSNE2', color='label',\n",
    "                    title='Visualización del Dataset Digits con t-SNE= '+str(perp),\n",
    "                    labels={'color': 'Dígito'})\n",
    "    fig.show()"
   ]
  },
  {
   "cell_type": "markdown",
   "metadata": {},
   "source": [
    "#### Parece controlar la cantidad de clusters que se van generando, como si la cantidad de centros bajo los que se agrupa variaria. Asi a mayor preplexity se van definiendo mejor los grupos, pero un numero grande tambien hacen que los que son vecinos no se agrupen tan bien."
   ]
  }
 ],
 "metadata": {
  "kernelspec": {
   "display_name": "islp",
   "language": "python",
   "name": "python3"
  },
  "language_info": {
   "codemirror_mode": {
    "name": "ipython",
    "version": 3
   },
   "file_extension": ".py",
   "mimetype": "text/x-python",
   "name": "python",
   "nbconvert_exporter": "python",
   "pygments_lexer": "ipython3",
   "version": "3.12.11"
  }
 },
 "nbformat": 4,
 "nbformat_minor": 4
}
