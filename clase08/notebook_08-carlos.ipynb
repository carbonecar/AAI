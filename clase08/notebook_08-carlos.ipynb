{
 "cells": [
  {
   "cell_type": "markdown",
   "metadata": {},
   "source": [
    "# Clase 8 - Taller Práctico: Clustering\n",
    "\n",
    "**Objetivo:** En este taller, aplicaremos los tres algoritmos de clustering que vimos en la clase teórica para entender sus diferencias, fortalezas y debilidades en la práctica.\n",
    "\n",
    "1.  **K-Means:** Ideal para clusters de forma esférica y cuando tenemos una idea del número de grupos.\n",
    "2.  **Clustering Jerárquico:** Útil para explorar la estructura anidada de los datos sin pre-especificar el número de clusters.\n",
    "3.  **DBSCAN:** Potente para descubrir clusters de formas arbitrarias y para identificar outliers (ruido).\n",
    "\n",
    "Usaremos datasets sintéticos para tener un control total sobre la estructura de los datos y así evaluar visualmente el rendimiento de cada algoritmo."
   ]
  },
  {
   "cell_type": "code",
   "execution_count": 2,
   "metadata": {},
   "outputs": [],
   "source": [
    "# --- 1. Importación de Librerías ---\n",
    "import numpy as np\n",
    "import pandas as pd\n",
    "import plotly.express as px\n",
    "import plotly.graph_objects as go\n",
    "from plotly.subplots import make_subplots\n",
    "import matplotlib.pyplot as plt\n",
    "\n",
    "# Funciones de Scikit-learn\n",
    "from sklearn.datasets import make_blobs, make_moons\n",
    "from sklearn.preprocessing import StandardScaler\n",
    "from sklearn.cluster import KMeans, AgglomerativeClustering, DBSCAN\n",
    "from sklearn.metrics import silhouette_score\n",
    "\n",
    "# Funciones de SciPy para el dendrograma\n",
    "from scipy.cluster.hierarchy import dendrogram, linkage\n",
    "\n",
    "# Configuramos Plotly para que use un tema agradable\n",
    "px.defaults.template = \"plotly_dark\""
   ]
  },
  {
   "cell_type": "markdown",
   "metadata": {},
   "source": [
    "## Sección 1: K-Means Clustering\n",
    "\n",
    "Empezamos con K-Means, el algoritmo de clustering más popular. Para mostrar su funcionamiento, creamos un conjunto de datos con `make_blobs` que contiene grupos bien definidos y de forma esférica."
   ]
  },
  {
   "cell_type": "code",
   "execution_count": 19,
   "metadata": {},
   "outputs": [
    {
     "data": {
      "application/vnd.plotly.v1+json": {
       "config": {
        "plotlyServerURL": "https://plot.ly"
       },
       "data": [
        {
         "hovertemplate": "x=%{x}<br>y=%{y}<extra></extra>",
         "legendgroup": "",
         "marker": {
          "color": "cyan",
          "symbol": "circle"
         },
         "mode": "markers",
         "name": "",
         "orientation": "v",
         "showlegend": false,
         "type": "scatter",
         "x": {
          "bdata": "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",
          "dtype": "f8"
         },
         "xaxis": "x",
         "y": {
          "bdata": "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",
          "dtype": "f8"
         },
         "yaxis": "y"
        }
       ],
       "layout": {
        "legend": {
         "tracegroupgap": 0
        },
        "template": {
         "data": {
          "bar": [
           {
            "error_x": {
             "color": "#f2f5fa"
            },
            "error_y": {
             "color": "#f2f5fa"
            },
            "marker": {
             "line": {
              "color": "rgb(17,17,17)",
              "width": 0.5
             },
             "pattern": {
              "fillmode": "overlay",
              "size": 10,
              "solidity": 0.2
             }
            },
            "type": "bar"
           }
          ],
          "barpolar": [
           {
            "marker": {
             "line": {
              "color": "rgb(17,17,17)",
              "width": 0.5
             },
             "pattern": {
              "fillmode": "overlay",
              "size": 10,
              "solidity": 0.2
             }
            },
            "type": "barpolar"
           }
          ],
          "carpet": [
           {
            "aaxis": {
             "endlinecolor": "#A2B1C6",
             "gridcolor": "#506784",
             "linecolor": "#506784",
             "minorgridcolor": "#506784",
             "startlinecolor": "#A2B1C6"
            },
            "baxis": {
             "endlinecolor": "#A2B1C6",
             "gridcolor": "#506784",
             "linecolor": "#506784",
             "minorgridcolor": "#506784",
             "startlinecolor": "#A2B1C6"
            },
            "type": "carpet"
           }
          ],
          "choropleth": [
           {
            "colorbar": {
             "outlinewidth": 0,
             "ticks": ""
            },
            "type": "choropleth"
           }
          ],
          "contour": [
           {
            "colorbar": {
             "outlinewidth": 0,
             "ticks": ""
            },
            "colorscale": [
             [
              0,
              "#0d0887"
             ],
             [
              0.1111111111111111,
              "#46039f"
             ],
             [
              0.2222222222222222,
              "#7201a8"
             ],
             [
              0.3333333333333333,
              "#9c179e"
             ],
             [
              0.4444444444444444,
              "#bd3786"
             ],
             [
              0.5555555555555556,
              "#d8576b"
             ],
             [
              0.6666666666666666,
              "#ed7953"
             ],
             [
              0.7777777777777778,
              "#fb9f3a"
             ],
             [
              0.8888888888888888,
              "#fdca26"
             ],
             [
              1,
              "#f0f921"
             ]
            ],
            "type": "contour"
           }
          ],
          "contourcarpet": [
           {
            "colorbar": {
             "outlinewidth": 0,
             "ticks": ""
            },
            "type": "contourcarpet"
           }
          ],
          "heatmap": [
           {
            "colorbar": {
             "outlinewidth": 0,
             "ticks": ""
            },
            "colorscale": [
             [
              0,
              "#0d0887"
             ],
             [
              0.1111111111111111,
              "#46039f"
             ],
             [
              0.2222222222222222,
              "#7201a8"
             ],
             [
              0.3333333333333333,
              "#9c179e"
             ],
             [
              0.4444444444444444,
              "#bd3786"
             ],
             [
              0.5555555555555556,
              "#d8576b"
             ],
             [
              0.6666666666666666,
              "#ed7953"
             ],
             [
              0.7777777777777778,
              "#fb9f3a"
             ],
             [
              0.8888888888888888,
              "#fdca26"
             ],
             [
              1,
              "#f0f921"
             ]
            ],
            "type": "heatmap"
           }
          ],
          "histogram": [
           {
            "marker": {
             "pattern": {
              "fillmode": "overlay",
              "size": 10,
              "solidity": 0.2
             }
            },
            "type": "histogram"
           }
          ],
          "histogram2d": [
           {
            "colorbar": {
             "outlinewidth": 0,
             "ticks": ""
            },
            "colorscale": [
             [
              0,
              "#0d0887"
             ],
             [
              0.1111111111111111,
              "#46039f"
             ],
             [
              0.2222222222222222,
              "#7201a8"
             ],
             [
              0.3333333333333333,
              "#9c179e"
             ],
             [
              0.4444444444444444,
              "#bd3786"
             ],
             [
              0.5555555555555556,
              "#d8576b"
             ],
             [
              0.6666666666666666,
              "#ed7953"
             ],
             [
              0.7777777777777778,
              "#fb9f3a"
             ],
             [
              0.8888888888888888,
              "#fdca26"
             ],
             [
              1,
              "#f0f921"
             ]
            ],
            "type": "histogram2d"
           }
          ],
          "histogram2dcontour": [
           {
            "colorbar": {
             "outlinewidth": 0,
             "ticks": ""
            },
            "colorscale": [
             [
              0,
              "#0d0887"
             ],
             [
              0.1111111111111111,
              "#46039f"
             ],
             [
              0.2222222222222222,
              "#7201a8"
             ],
             [
              0.3333333333333333,
              "#9c179e"
             ],
             [
              0.4444444444444444,
              "#bd3786"
             ],
             [
              0.5555555555555556,
              "#d8576b"
             ],
             [
              0.6666666666666666,
              "#ed7953"
             ],
             [
              0.7777777777777778,
              "#fb9f3a"
             ],
             [
              0.8888888888888888,
              "#fdca26"
             ],
             [
              1,
              "#f0f921"
             ]
            ],
            "type": "histogram2dcontour"
           }
          ],
          "mesh3d": [
           {
            "colorbar": {
             "outlinewidth": 0,
             "ticks": ""
            },
            "type": "mesh3d"
           }
          ],
          "parcoords": [
           {
            "line": {
             "colorbar": {
              "outlinewidth": 0,
              "ticks": ""
             }
            },
            "type": "parcoords"
           }
          ],
          "pie": [
           {
            "automargin": true,
            "type": "pie"
           }
          ],
          "scatter": [
           {
            "marker": {
             "line": {
              "color": "#283442"
             }
            },
            "type": "scatter"
           }
          ],
          "scatter3d": [
           {
            "line": {
             "colorbar": {
              "outlinewidth": 0,
              "ticks": ""
             }
            },
            "marker": {
             "colorbar": {
              "outlinewidth": 0,
              "ticks": ""
             }
            },
            "type": "scatter3d"
           }
          ],
          "scattercarpet": [
           {
            "marker": {
             "colorbar": {
              "outlinewidth": 0,
              "ticks": ""
             }
            },
            "type": "scattercarpet"
           }
          ],
          "scattergeo": [
           {
            "marker": {
             "colorbar": {
              "outlinewidth": 0,
              "ticks": ""
             }
            },
            "type": "scattergeo"
           }
          ],
          "scattergl": [
           {
            "marker": {
             "line": {
              "color": "#283442"
             }
            },
            "type": "scattergl"
           }
          ],
          "scattermap": [
           {
            "marker": {
             "colorbar": {
              "outlinewidth": 0,
              "ticks": ""
             }
            },
            "type": "scattermap"
           }
          ],
          "scattermapbox": [
           {
            "marker": {
             "colorbar": {
              "outlinewidth": 0,
              "ticks": ""
             }
            },
            "type": "scattermapbox"
           }
          ],
          "scatterpolar": [
           {
            "marker": {
             "colorbar": {
              "outlinewidth": 0,
              "ticks": ""
             }
            },
            "type": "scatterpolar"
           }
          ],
          "scatterpolargl": [
           {
            "marker": {
             "colorbar": {
              "outlinewidth": 0,
              "ticks": ""
             }
            },
            "type": "scatterpolargl"
           }
          ],
          "scatterternary": [
           {
            "marker": {
             "colorbar": {
              "outlinewidth": 0,
              "ticks": ""
             }
            },
            "type": "scatterternary"
           }
          ],
          "surface": [
           {
            "colorbar": {
             "outlinewidth": 0,
             "ticks": ""
            },
            "colorscale": [
             [
              0,
              "#0d0887"
             ],
             [
              0.1111111111111111,
              "#46039f"
             ],
             [
              0.2222222222222222,
              "#7201a8"
             ],
             [
              0.3333333333333333,
              "#9c179e"
             ],
             [
              0.4444444444444444,
              "#bd3786"
             ],
             [
              0.5555555555555556,
              "#d8576b"
             ],
             [
              0.6666666666666666,
              "#ed7953"
             ],
             [
              0.7777777777777778,
              "#fb9f3a"
             ],
             [
              0.8888888888888888,
              "#fdca26"
             ],
             [
              1,
              "#f0f921"
             ]
            ],
            "type": "surface"
           }
          ],
          "table": [
           {
            "cells": {
             "fill": {
              "color": "#506784"
             },
             "line": {
              "color": "rgb(17,17,17)"
             }
            },
            "header": {
             "fill": {
              "color": "#2a3f5f"
             },
             "line": {
              "color": "rgb(17,17,17)"
             }
            },
            "type": "table"
           }
          ]
         },
         "layout": {
          "annotationdefaults": {
           "arrowcolor": "#f2f5fa",
           "arrowhead": 0,
           "arrowwidth": 1
          },
          "autotypenumbers": "strict",
          "coloraxis": {
           "colorbar": {
            "outlinewidth": 0,
            "ticks": ""
           }
          },
          "colorscale": {
           "diverging": [
            [
             0,
             "#8e0152"
            ],
            [
             0.1,
             "#c51b7d"
            ],
            [
             0.2,
             "#de77ae"
            ],
            [
             0.3,
             "#f1b6da"
            ],
            [
             0.4,
             "#fde0ef"
            ],
            [
             0.5,
             "#f7f7f7"
            ],
            [
             0.6,
             "#e6f5d0"
            ],
            [
             0.7,
             "#b8e186"
            ],
            [
             0.8,
             "#7fbc41"
            ],
            [
             0.9,
             "#4d9221"
            ],
            [
             1,
             "#276419"
            ]
           ],
           "sequential": [
            [
             0,
             "#0d0887"
            ],
            [
             0.1111111111111111,
             "#46039f"
            ],
            [
             0.2222222222222222,
             "#7201a8"
            ],
            [
             0.3333333333333333,
             "#9c179e"
            ],
            [
             0.4444444444444444,
             "#bd3786"
            ],
            [
             0.5555555555555556,
             "#d8576b"
            ],
            [
             0.6666666666666666,
             "#ed7953"
            ],
            [
             0.7777777777777778,
             "#fb9f3a"
            ],
            [
             0.8888888888888888,
             "#fdca26"
            ],
            [
             1,
             "#f0f921"
            ]
           ],
           "sequentialminus": [
            [
             0,
             "#0d0887"
            ],
            [
             0.1111111111111111,
             "#46039f"
            ],
            [
             0.2222222222222222,
             "#7201a8"
            ],
            [
             0.3333333333333333,
             "#9c179e"
            ],
            [
             0.4444444444444444,
             "#bd3786"
            ],
            [
             0.5555555555555556,
             "#d8576b"
            ],
            [
             0.6666666666666666,
             "#ed7953"
            ],
            [
             0.7777777777777778,
             "#fb9f3a"
            ],
            [
             0.8888888888888888,
             "#fdca26"
            ],
            [
             1,
             "#f0f921"
            ]
           ]
          },
          "colorway": [
           "#636efa",
           "#EF553B",
           "#00cc96",
           "#ab63fa",
           "#FFA15A",
           "#19d3f3",
           "#FF6692",
           "#B6E880",
           "#FF97FF",
           "#FECB52"
          ],
          "font": {
           "color": "#f2f5fa"
          },
          "geo": {
           "bgcolor": "rgb(17,17,17)",
           "lakecolor": "rgb(17,17,17)",
           "landcolor": "rgb(17,17,17)",
           "showlakes": true,
           "showland": true,
           "subunitcolor": "#506784"
          },
          "hoverlabel": {
           "align": "left"
          },
          "hovermode": "closest",
          "mapbox": {
           "style": "dark"
          },
          "paper_bgcolor": "rgb(17,17,17)",
          "plot_bgcolor": "rgb(17,17,17)",
          "polar": {
           "angularaxis": {
            "gridcolor": "#506784",
            "linecolor": "#506784",
            "ticks": ""
           },
           "bgcolor": "rgb(17,17,17)",
           "radialaxis": {
            "gridcolor": "#506784",
            "linecolor": "#506784",
            "ticks": ""
           }
          },
          "scene": {
           "xaxis": {
            "backgroundcolor": "rgb(17,17,17)",
            "gridcolor": "#506784",
            "gridwidth": 2,
            "linecolor": "#506784",
            "showbackground": true,
            "ticks": "",
            "zerolinecolor": "#C8D4E3"
           },
           "yaxis": {
            "backgroundcolor": "rgb(17,17,17)",
            "gridcolor": "#506784",
            "gridwidth": 2,
            "linecolor": "#506784",
            "showbackground": true,
            "ticks": "",
            "zerolinecolor": "#C8D4E3"
           },
           "zaxis": {
            "backgroundcolor": "rgb(17,17,17)",
            "gridcolor": "#506784",
            "gridwidth": 2,
            "linecolor": "#506784",
            "showbackground": true,
            "ticks": "",
            "zerolinecolor": "#C8D4E3"
           }
          },
          "shapedefaults": {
           "line": {
            "color": "#f2f5fa"
           }
          },
          "sliderdefaults": {
           "bgcolor": "#C8D4E3",
           "bordercolor": "rgb(17,17,17)",
           "borderwidth": 1,
           "tickwidth": 0
          },
          "ternary": {
           "aaxis": {
            "gridcolor": "#506784",
            "linecolor": "#506784",
            "ticks": ""
           },
           "baxis": {
            "gridcolor": "#506784",
            "linecolor": "#506784",
            "ticks": ""
           },
           "bgcolor": "rgb(17,17,17)",
           "caxis": {
            "gridcolor": "#506784",
            "linecolor": "#506784",
            "ticks": ""
           }
          },
          "title": {
           "x": 0.05
          },
          "updatemenudefaults": {
           "bgcolor": "#506784",
           "borderwidth": 0
          },
          "xaxis": {
           "automargin": true,
           "gridcolor": "#283442",
           "linecolor": "#506784",
           "ticks": "",
           "title": {
            "standoff": 15
           },
           "zerolinecolor": "#283442",
           "zerolinewidth": 2
          },
          "yaxis": {
           "automargin": true,
           "gridcolor": "#283442",
           "linecolor": "#506784",
           "ticks": "",
           "title": {
            "standoff": 15
           },
           "zerolinecolor": "#283442",
           "zerolinewidth": 2
          }
         }
        },
        "title": {
         "text": "Dataset Sintético (sin etiquetar)"
        },
        "xaxis": {
         "anchor": "y",
         "domain": [
          0,
          1
         ],
         "title": {
          "text": "x"
         }
        },
        "yaxis": {
         "anchor": "x",
         "domain": [
          0,
          1
         ],
         "title": {
          "text": "y"
         }
        }
       }
      }
     },
     "metadata": {},
     "output_type": "display_data"
    }
   ],
   "source": [
    "# --- 2. Generación y Visualización de Datos ---\n",
    "# Creamos un dataset con 300 muestras, 4 centros (clusters) y una desviación estándar de 0.8\n",
    "X_blobs, y_blobs = make_blobs(n_samples=300,\n",
    "                              centers=4,\n",
    "                              cluster_std=0.8,\n",
    "                              random_state=42,\n",
    "                              # centers=[[0, 0], [6, 6], [1, 7], [7, 0]],\n",
    "                              # cluster_std=1.0,\n",
    "                              )\n",
    "\n",
    "# Visualizamos los datos sin etiquetas para simular un problema no supervisado\n",
    "fig = px.scatter(x=X_blobs[:, 0], y=X_blobs[:, 1], title=\"Dataset Sintético (sin etiquetar)\")\n",
    "fig.update_traces(marker=dict(color='cyan'))\n",
    "fig.show()"
   ]
  },
  {
   "cell_type": "markdown",
   "metadata": {},
   "source": [
    "### 1.1 Determinando K: El Método del Codo\n",
    "\n",
    "Antes de aplicar K-Means, debemos decidir el valor de `K`. El método del codo nos ayuda a encontrar un buen candidato para `K` al graficar la inercia (WCSS) para un rango de valores de `K`."
   ]
  },
  {
   "cell_type": "code",
   "execution_count": 5,
   "metadata": {},
   "outputs": [
    {
     "data": {
      "application/vnd.plotly.v1+json": {
       "config": {
        "plotlyServerURL": "https://plot.ly"
       },
       "data": [
        {
         "hovertemplate": "Número de Clusters (K)=%{x}<br>Inercia (WCSS)=%{y}<extra></extra>",
         "legendgroup": "",
         "line": {
          "color": "#636efa",
          "dash": "solid"
         },
         "marker": {
          "symbol": "circle"
         },
         "mode": "lines+markers",
         "name": "",
         "orientation": "v",
         "showlegend": false,
         "type": "scatter",
         "x": {
          "bdata": "AQIDBAUGBwgJCg==",
          "dtype": "i1"
         },
         "xaxis": "x",
         "y": {
          "bdata": "8xyCCBBR00DxlgD0mv3BQL6Ga5Z1/Z1AlCUEHI+ndkBUQLN0S5R0QPIZJr6waXJABsDwugVZcEBMeGpOXwBtQJZALZZJI2pA+73es+SWZ0A=",
          "dtype": "f8"
         },
         "yaxis": "y"
        }
       ],
       "layout": {
        "annotations": [
         {
          "showarrow": false,
          "text": "Codo en K=4",
          "x": 4,
          "xanchor": "left",
          "xref": "x",
          "y": 1,
          "yanchor": "top",
          "yref": "y domain"
         }
        ],
        "legend": {
         "tracegroupgap": 0
        },
        "shapes": [
         {
          "line": {
           "color": "red",
           "dash": "dash",
           "width": 3
          },
          "type": "line",
          "x0": 4,
          "x1": 4,
          "xref": "x",
          "y0": 0,
          "y1": 1,
          "yref": "y domain"
         }
        ],
        "template": {
         "data": {
          "bar": [
           {
            "error_x": {
             "color": "#f2f5fa"
            },
            "error_y": {
             "color": "#f2f5fa"
            },
            "marker": {
             "line": {
              "color": "rgb(17,17,17)",
              "width": 0.5
             },
             "pattern": {
              "fillmode": "overlay",
              "size": 10,
              "solidity": 0.2
             }
            },
            "type": "bar"
           }
          ],
          "barpolar": [
           {
            "marker": {
             "line": {
              "color": "rgb(17,17,17)",
              "width": 0.5
             },
             "pattern": {
              "fillmode": "overlay",
              "size": 10,
              "solidity": 0.2
             }
            },
            "type": "barpolar"
           }
          ],
          "carpet": [
           {
            "aaxis": {
             "endlinecolor": "#A2B1C6",
             "gridcolor": "#506784",
             "linecolor": "#506784",
             "minorgridcolor": "#506784",
             "startlinecolor": "#A2B1C6"
            },
            "baxis": {
             "endlinecolor": "#A2B1C6",
             "gridcolor": "#506784",
             "linecolor": "#506784",
             "minorgridcolor": "#506784",
             "startlinecolor": "#A2B1C6"
            },
            "type": "carpet"
           }
          ],
          "choropleth": [
           {
            "colorbar": {
             "outlinewidth": 0,
             "ticks": ""
            },
            "type": "choropleth"
           }
          ],
          "contour": [
           {
            "colorbar": {
             "outlinewidth": 0,
             "ticks": ""
            },
            "colorscale": [
             [
              0,
              "#0d0887"
             ],
             [
              0.1111111111111111,
              "#46039f"
             ],
             [
              0.2222222222222222,
              "#7201a8"
             ],
             [
              0.3333333333333333,
              "#9c179e"
             ],
             [
              0.4444444444444444,
              "#bd3786"
             ],
             [
              0.5555555555555556,
              "#d8576b"
             ],
             [
              0.6666666666666666,
              "#ed7953"
             ],
             [
              0.7777777777777778,
              "#fb9f3a"
             ],
             [
              0.8888888888888888,
              "#fdca26"
             ],
             [
              1,
              "#f0f921"
             ]
            ],
            "type": "contour"
           }
          ],
          "contourcarpet": [
           {
            "colorbar": {
             "outlinewidth": 0,
             "ticks": ""
            },
            "type": "contourcarpet"
           }
          ],
          "heatmap": [
           {
            "colorbar": {
             "outlinewidth": 0,
             "ticks": ""
            },
            "colorscale": [
             [
              0,
              "#0d0887"
             ],
             [
              0.1111111111111111,
              "#46039f"
             ],
             [
              0.2222222222222222,
              "#7201a8"
             ],
             [
              0.3333333333333333,
              "#9c179e"
             ],
             [
              0.4444444444444444,
              "#bd3786"
             ],
             [
              0.5555555555555556,
              "#d8576b"
             ],
             [
              0.6666666666666666,
              "#ed7953"
             ],
             [
              0.7777777777777778,
              "#fb9f3a"
             ],
             [
              0.8888888888888888,
              "#fdca26"
             ],
             [
              1,
              "#f0f921"
             ]
            ],
            "type": "heatmap"
           }
          ],
          "histogram": [
           {
            "marker": {
             "pattern": {
              "fillmode": "overlay",
              "size": 10,
              "solidity": 0.2
             }
            },
            "type": "histogram"
           }
          ],
          "histogram2d": [
           {
            "colorbar": {
             "outlinewidth": 0,
             "ticks": ""
            },
            "colorscale": [
             [
              0,
              "#0d0887"
             ],
             [
              0.1111111111111111,
              "#46039f"
             ],
             [
              0.2222222222222222,
              "#7201a8"
             ],
             [
              0.3333333333333333,
              "#9c179e"
             ],
             [
              0.4444444444444444,
              "#bd3786"
             ],
             [
              0.5555555555555556,
              "#d8576b"
             ],
             [
              0.6666666666666666,
              "#ed7953"
             ],
             [
              0.7777777777777778,
              "#fb9f3a"
             ],
             [
              0.8888888888888888,
              "#fdca26"
             ],
             [
              1,
              "#f0f921"
             ]
            ],
            "type": "histogram2d"
           }
          ],
          "histogram2dcontour": [
           {
            "colorbar": {
             "outlinewidth": 0,
             "ticks": ""
            },
            "colorscale": [
             [
              0,
              "#0d0887"
             ],
             [
              0.1111111111111111,
              "#46039f"
             ],
             [
              0.2222222222222222,
              "#7201a8"
             ],
             [
              0.3333333333333333,
              "#9c179e"
             ],
             [
              0.4444444444444444,
              "#bd3786"
             ],
             [
              0.5555555555555556,
              "#d8576b"
             ],
             [
              0.6666666666666666,
              "#ed7953"
             ],
             [
              0.7777777777777778,
              "#fb9f3a"
             ],
             [
              0.8888888888888888,
              "#fdca26"
             ],
             [
              1,
              "#f0f921"
             ]
            ],
            "type": "histogram2dcontour"
           }
          ],
          "mesh3d": [
           {
            "colorbar": {
             "outlinewidth": 0,
             "ticks": ""
            },
            "type": "mesh3d"
           }
          ],
          "parcoords": [
           {
            "line": {
             "colorbar": {
              "outlinewidth": 0,
              "ticks": ""
             }
            },
            "type": "parcoords"
           }
          ],
          "pie": [
           {
            "automargin": true,
            "type": "pie"
           }
          ],
          "scatter": [
           {
            "marker": {
             "line": {
              "color": "#283442"
             }
            },
            "type": "scatter"
           }
          ],
          "scatter3d": [
           {
            "line": {
             "colorbar": {
              "outlinewidth": 0,
              "ticks": ""
             }
            },
            "marker": {
             "colorbar": {
              "outlinewidth": 0,
              "ticks": ""
             }
            },
            "type": "scatter3d"
           }
          ],
          "scattercarpet": [
           {
            "marker": {
             "colorbar": {
              "outlinewidth": 0,
              "ticks": ""
             }
            },
            "type": "scattercarpet"
           }
          ],
          "scattergeo": [
           {
            "marker": {
             "colorbar": {
              "outlinewidth": 0,
              "ticks": ""
             }
            },
            "type": "scattergeo"
           }
          ],
          "scattergl": [
           {
            "marker": {
             "line": {
              "color": "#283442"
             }
            },
            "type": "scattergl"
           }
          ],
          "scattermap": [
           {
            "marker": {
             "colorbar": {
              "outlinewidth": 0,
              "ticks": ""
             }
            },
            "type": "scattermap"
           }
          ],
          "scattermapbox": [
           {
            "marker": {
             "colorbar": {
              "outlinewidth": 0,
              "ticks": ""
             }
            },
            "type": "scattermapbox"
           }
          ],
          "scatterpolar": [
           {
            "marker": {
             "colorbar": {
              "outlinewidth": 0,
              "ticks": ""
             }
            },
            "type": "scatterpolar"
           }
          ],
          "scatterpolargl": [
           {
            "marker": {
             "colorbar": {
              "outlinewidth": 0,
              "ticks": ""
             }
            },
            "type": "scatterpolargl"
           }
          ],
          "scatterternary": [
           {
            "marker": {
             "colorbar": {
              "outlinewidth": 0,
              "ticks": ""
             }
            },
            "type": "scatterternary"
           }
          ],
          "surface": [
           {
            "colorbar": {
             "outlinewidth": 0,
             "ticks": ""
            },
            "colorscale": [
             [
              0,
              "#0d0887"
             ],
             [
              0.1111111111111111,
              "#46039f"
             ],
             [
              0.2222222222222222,
              "#7201a8"
             ],
             [
              0.3333333333333333,
              "#9c179e"
             ],
             [
              0.4444444444444444,
              "#bd3786"
             ],
             [
              0.5555555555555556,
              "#d8576b"
             ],
             [
              0.6666666666666666,
              "#ed7953"
             ],
             [
              0.7777777777777778,
              "#fb9f3a"
             ],
             [
              0.8888888888888888,
              "#fdca26"
             ],
             [
              1,
              "#f0f921"
             ]
            ],
            "type": "surface"
           }
          ],
          "table": [
           {
            "cells": {
             "fill": {
              "color": "#506784"
             },
             "line": {
              "color": "rgb(17,17,17)"
             }
            },
            "header": {
             "fill": {
              "color": "#2a3f5f"
             },
             "line": {
              "color": "rgb(17,17,17)"
             }
            },
            "type": "table"
           }
          ]
         },
         "layout": {
          "annotationdefaults": {
           "arrowcolor": "#f2f5fa",
           "arrowhead": 0,
           "arrowwidth": 1
          },
          "autotypenumbers": "strict",
          "coloraxis": {
           "colorbar": {
            "outlinewidth": 0,
            "ticks": ""
           }
          },
          "colorscale": {
           "diverging": [
            [
             0,
             "#8e0152"
            ],
            [
             0.1,
             "#c51b7d"
            ],
            [
             0.2,
             "#de77ae"
            ],
            [
             0.3,
             "#f1b6da"
            ],
            [
             0.4,
             "#fde0ef"
            ],
            [
             0.5,
             "#f7f7f7"
            ],
            [
             0.6,
             "#e6f5d0"
            ],
            [
             0.7,
             "#b8e186"
            ],
            [
             0.8,
             "#7fbc41"
            ],
            [
             0.9,
             "#4d9221"
            ],
            [
             1,
             "#276419"
            ]
           ],
           "sequential": [
            [
             0,
             "#0d0887"
            ],
            [
             0.1111111111111111,
             "#46039f"
            ],
            [
             0.2222222222222222,
             "#7201a8"
            ],
            [
             0.3333333333333333,
             "#9c179e"
            ],
            [
             0.4444444444444444,
             "#bd3786"
            ],
            [
             0.5555555555555556,
             "#d8576b"
            ],
            [
             0.6666666666666666,
             "#ed7953"
            ],
            [
             0.7777777777777778,
             "#fb9f3a"
            ],
            [
             0.8888888888888888,
             "#fdca26"
            ],
            [
             1,
             "#f0f921"
            ]
           ],
           "sequentialminus": [
            [
             0,
             "#0d0887"
            ],
            [
             0.1111111111111111,
             "#46039f"
            ],
            [
             0.2222222222222222,
             "#7201a8"
            ],
            [
             0.3333333333333333,
             "#9c179e"
            ],
            [
             0.4444444444444444,
             "#bd3786"
            ],
            [
             0.5555555555555556,
             "#d8576b"
            ],
            [
             0.6666666666666666,
             "#ed7953"
            ],
            [
             0.7777777777777778,
             "#fb9f3a"
            ],
            [
             0.8888888888888888,
             "#fdca26"
            ],
            [
             1,
             "#f0f921"
            ]
           ]
          },
          "colorway": [
           "#636efa",
           "#EF553B",
           "#00cc96",
           "#ab63fa",
           "#FFA15A",
           "#19d3f3",
           "#FF6692",
           "#B6E880",
           "#FF97FF",
           "#FECB52"
          ],
          "font": {
           "color": "#f2f5fa"
          },
          "geo": {
           "bgcolor": "rgb(17,17,17)",
           "lakecolor": "rgb(17,17,17)",
           "landcolor": "rgb(17,17,17)",
           "showlakes": true,
           "showland": true,
           "subunitcolor": "#506784"
          },
          "hoverlabel": {
           "align": "left"
          },
          "hovermode": "closest",
          "mapbox": {
           "style": "dark"
          },
          "paper_bgcolor": "rgb(17,17,17)",
          "plot_bgcolor": "rgb(17,17,17)",
          "polar": {
           "angularaxis": {
            "gridcolor": "#506784",
            "linecolor": "#506784",
            "ticks": ""
           },
           "bgcolor": "rgb(17,17,17)",
           "radialaxis": {
            "gridcolor": "#506784",
            "linecolor": "#506784",
            "ticks": ""
           }
          },
          "scene": {
           "xaxis": {
            "backgroundcolor": "rgb(17,17,17)",
            "gridcolor": "#506784",
            "gridwidth": 2,
            "linecolor": "#506784",
            "showbackground": true,
            "ticks": "",
            "zerolinecolor": "#C8D4E3"
           },
           "yaxis": {
            "backgroundcolor": "rgb(17,17,17)",
            "gridcolor": "#506784",
            "gridwidth": 2,
            "linecolor": "#506784",
            "showbackground": true,
            "ticks": "",
            "zerolinecolor": "#C8D4E3"
           },
           "zaxis": {
            "backgroundcolor": "rgb(17,17,17)",
            "gridcolor": "#506784",
            "gridwidth": 2,
            "linecolor": "#506784",
            "showbackground": true,
            "ticks": "",
            "zerolinecolor": "#C8D4E3"
           }
          },
          "shapedefaults": {
           "line": {
            "color": "#f2f5fa"
           }
          },
          "sliderdefaults": {
           "bgcolor": "#C8D4E3",
           "bordercolor": "rgb(17,17,17)",
           "borderwidth": 1,
           "tickwidth": 0
          },
          "ternary": {
           "aaxis": {
            "gridcolor": "#506784",
            "linecolor": "#506784",
            "ticks": ""
           },
           "baxis": {
            "gridcolor": "#506784",
            "linecolor": "#506784",
            "ticks": ""
           },
           "bgcolor": "rgb(17,17,17)",
           "caxis": {
            "gridcolor": "#506784",
            "linecolor": "#506784",
            "ticks": ""
           }
          },
          "title": {
           "x": 0.05
          },
          "updatemenudefaults": {
           "bgcolor": "#506784",
           "borderwidth": 0
          },
          "xaxis": {
           "automargin": true,
           "gridcolor": "#283442",
           "linecolor": "#506784",
           "ticks": "",
           "title": {
            "standoff": 15
           },
           "zerolinecolor": "#283442",
           "zerolinewidth": 2
          },
          "yaxis": {
           "automargin": true,
           "gridcolor": "#283442",
           "linecolor": "#506784",
           "ticks": "",
           "title": {
            "standoff": 15
           },
           "zerolinecolor": "#283442",
           "zerolinewidth": 2
          }
         }
        },
        "title": {
         "text": "Método del Codo para Encontrar K Óptimo"
        },
        "xaxis": {
         "anchor": "y",
         "domain": [
          0,
          1
         ],
         "title": {
          "text": "Número de Clusters (K)"
         }
        },
        "yaxis": {
         "anchor": "x",
         "domain": [
          0,
          1
         ],
         "title": {
          "text": "Inercia (WCSS)"
         }
        }
       }
      }
     },
     "metadata": {},
     "output_type": "display_data"
    }
   ],
   "source": [
    "# --- 3. Implementación del Método del Codo ---\n",
    "inertia_values = []\n",
    "k_range = range(1, 11)\n",
    "\n",
    "for k in k_range:\n",
    "    kmeans = KMeans(n_clusters=k, n_init=10, random_state=42)\n",
    "    kmeans.fit(X_blobs)\n",
    "    inertia_values.append(kmeans.inertia_)\n",
    "\n",
    "# Graficamos los resultados\n",
    "fig = px.line(x=k_range, y=inertia_values, title='Método del Codo para Encontrar K Óptimo',\n",
    "              labels={'x': 'Número de Clusters (K)', 'y': 'Inercia (WCSS)'},\n",
    "              markers=True)\n",
    "fig.add_vline(x=4, line_width=3, line_dash=\"dash\", line_color=\"red\", annotation_text=\"Codo en K=4\")\n",
    "fig.show()"
   ]
  },
  {
   "cell_type": "markdown",
   "metadata": {},
   "source": [
    "El gráfico muestra un \"codo\" claro en K=4, que es donde la tasa de disminución de la inercia se aplana. Esto sugiere que 4 es un buen número de clusters para nuestros datos, lo cual coincide con cómo los generamos.\n",
    "\n",
    "### 1.2 Aplicando K-Means y Evaluando con el Coeficiente de Silueta"
   ]
  },
  {
   "cell_type": "code",
   "execution_count": 6,
   "metadata": {},
   "outputs": [
    {
     "name": "stdout",
     "output_type": "stream",
     "text": [
      "Para K=4, el coeficiente de silueta promedio es: 0.8335\n"
     ]
    }
   ],
   "source": [
    "# --- 4. Aplicar K-Means con K=4 ---\n",
    "optimal_k = 4\n",
    "kmeans_final = KMeans(n_clusters=optimal_k, n_init=10, random_state=42)\n",
    "kmeans_final.fit(X_blobs)\n",
    "\n",
    "# Obtenemos las etiquetas de los clusters y los centroides\n",
    "labels_kmeans = kmeans_final.labels_\n",
    "centroids = kmeans_final.cluster_centers_\n",
    "\n",
    "# Calculamos el coeficiente de silueta\n",
    "silhouette_avg = silhouette_score(X_blobs, labels_kmeans)\n",
    "print(f\"Para K={optimal_k}, el coeficiente de silueta promedio es: {silhouette_avg:.4f}\")"
   ]
  },
  {
   "cell_type": "markdown",
   "metadata": {},
   "source": [
    "Un coeficiente de silueta cercano a 1 indica que los clusters son densos y están bien separados. Nuestro valor es muy bueno."
   ]
  },
  {
   "cell_type": "code",
   "execution_count": 7,
   "metadata": {},
   "outputs": [
    {
     "data": {
      "application/vnd.plotly.v1+json": {
       "config": {
        "plotlyServerURL": "https://plot.ly"
       },
       "data": [
        {
         "hovertemplate": "cluster_kmeans=3<br>X1=%{x}<br>X2=%{y}<extra></extra>",
         "legendgroup": "3",
         "marker": {
          "color": "#636efa",
          "symbol": "circle"
         },
         "mode": "markers",
         "name": "3",
         "orientation": "v",
         "showlegend": true,
         "type": "scatter",
         "x": {
          "bdata": "jRn1xmBpIsAPDxwtpg0jwBgvmiQK8CTAH2ItHbq3IsCf21l93UckwBPq07472yHA30UYTTfUIMCsdTcneJkiwHtaWUYeWSDAphgTmNgZJMBQEEFJKXcgwHdBDT4Q2SHALU+dg/J0IsAXyyYI6Y8hwJ7pPxfxIiHADxyqSX2wIcCU/6H9pwshwHOzkVG3TCHAWmmmfDqAGcA7+EjV1MsiwDZvkddxPiHA8/9VUgzgIMA7z2Kg7FYgwHKIXPHMnR/AGg9+IANZJMAT7OieCOkgwEEIFKL/jyLAU1Gt0drlIsCtxAaB4QMhwLVwJbwT6iPA7lUlcBRWI8ANpfELgKskwEYxk+oQwSDApllnbZ7hIcBtmOI/qbEgwIfz5Vg/BCDA5enVu8MbIsCigQPe8RAdwGJTc1+EhiLAELDqBainIMBzeDeG4BMjwH+ABMZpgh/An/8AQGlIIMBblMuywYkhwOLrym6ivCLAA8eMAZyhJcAya8FmOT8kwEzOlzy7YiHAPthnYA+2IsD+4itvWZkhwOB5004JqiDAoUi+5drAIMC8hXqO4h0iwKITKtF/WSDAvqRsawbjIsA7IxfSNGMiwEz7k1hX9B3AkQ95itwxIMCvvfxDN7giwDZwwNvjFh7AcL/KQ0rIIcDBcR4ziDYhwDKHKVK0eh7Ax6ziatdCIcDLFIfUMxUhwIOwBU3enyLALZbWeVAnIcCuEARN2gokwHlpAqSIjSHAKPRujImEIcB768rYCxEgwIIo9F+TIiHAsu9+0BgPIsBoIxr9raUhwOSKiIEISSDA",
          "dtype": "f8"
         },
         "xaxis": "x",
         "y": {
          "bdata": "dvYqTxiTGkC4NsNyQhAcQKwZoJF2ERpADd5u/ju8G0DW+0C8rXIdQI5lS+hElhxAOjasOBz0IECAPPicGrYfQGuS5sz7jRpAhmpl84PVIEDf+nmB2VcaQEj4W4o3+xlAoFN1kO/oG0C8JG6Q/cMbQA38F7vg+RtARXOlL9QDIUDgGh+/avIbQCLgTb3Hwh9AZjPbuzhwIEAP1FFulPodQHqVX+UhIh1AHq3BZXkqGkB/3Wbk1K0ZQLLFWoK1Gx5AwzKKe2gIH0Arrzabn1weQBHUq2P8dRlA87lkYbqEF0DfE6UZYaYhQPIPF8x4GB9AQjBerVyvHEAogNzeUyscQOQjxXpDSh5AFKqOPII8GkCc4dl41rcfQBwUa2Z7qRtABPJ29nspGkD7Kd7kLGgdQF3d78CTcxtAOjI5lCv6F0CryBF4f94YQFm3kfv9/BtAaHQ7gDVAHEC0H2e1wcscQKewGM64Hh9AdW0Ui3i+GkAqnRwC9/EdQCxtlzihFh5ACaUHiUjVGUDYmKe4kqIaQMrL8DK4RyJAjMkt4/OkHEDUqdS7je0VQHjKWOjsNxZApmq4Xi2+GEBAJlE9X4AeQHrer2zDDiBAEI9TpL2zIUCQdiDQHXIdQDLzxPJGfxxAtf4sFjlrGUClL6VXuvchQD1AADjDBB9APCA2pnhmGkAO0Ii3gFwbQCreFpiBhxpALNRD4cyXHECQiHsZIHogQKcK3zO5iRpASCZb5NKyH0DU6uyYsnIbQDSvOmcV9xtAz0U+ss9jGkBiLBv9T1QhQK00Wbrp0CBA",
          "dtype": "f8"
         },
         "yaxis": "y"
        },
        {
         "hovertemplate": "cluster_kmeans=0<br>X1=%{x}<br>X2=%{y}<extra></extra>",
         "legendgroup": "0",
         "marker": {
          "color": "#EF553B",
          "symbol": "circle"
         },
         "mode": "markers",
         "name": "0",
         "orientation": "v",
         "showlegend": true,
         "type": "scatter",
         "x": {
          "bdata": "tCBKuVue/b9uvRVy6iMHwCAZmj+s7AfAgodSdqK8AsDOKEq4xyENwH2OBp0UkQjAhBiU7chzA8BWy29/VFEAwPz4fVUWGwXAis/xqxkKB8CuFx5Au2kKwJTwj5cqngLAb0Bwvd1sAsBs/fVftUsEwNebZ+a5wgHAnrCuBuk69b97kXsbjAUHwKp8yqxQ3wrAgpBsSESVBsCPJVFU7OoHwC86hl1CjgrAGJT/b9GIBMDxkfY/GPQBwOkpuruITQTAkDA6dBVu/L8wEtG8y3YHwNFShHULaQLAEJgBt54F/r/cHXuLz3EJwIbz/N5nhgLAPkYrP9rfAcDp8hDjbXgCwF8j8nEeFgnADsqn/3g/CcANRU3SMqQDwGhAilnzKATAbcm2P/8w9r91i2be52cIwMgjQ5dGLRDAJFa28X58A8A62wou8RwPwM788UU/iQ3AgcnXdnUKBMBzqWoIBhQHwHFoSQQ4hAPAmXePPv1sCMBkGscai+IJwJVhbVusLQLAjMxbeINrEsB9XIXSJ7ADwLRQMwuwuwDAHrT4s/C7/b9ODXcl34T5v4Ktf6049QnAbRgH3sCOB8CWKKQbCWP1vxj0n73dsf6/oSfWm1DQBMC33WtYML/9v8WijQ9VwgHAecI3ZJFvA8Aim1HvdP0LwJrrExdXRAbAzAolz++SDMAuYN2yqjICwCCcklJL8/q/Vk4olnH/DcBXYGM9AE4FwMQ8Vq7o7vO/eBJduXQnC8BO/iT+BAHwv8aQ04jb/wHAbwVsRb96BcChe2Tmn3ALwHwTGoqJXA7A",
          "dtype": "f8"
         },
         "xaxis": "x",
         "y": {
          "bdata": "f4y6xkETIEBVB7bBRLshQFex0/QB/iRAdvQraUTJHUC/mwOnBFshQNfBJKUagSFAhgjkTBKUI0CXtGRuhoglQJxMhFDQrCJAHDkKNY1IIUCsSf3jWx8hQJcmDF24HiRAXyOVStLoIUBT/bi8nyggQFKin1VLfSRA5giu8AczIUDy+JnPT7gjQAm87EZMySJAAGdXsbdfH0A+gHE01o8hQKn1hLsHiCJAv9gFkFyiI0DonQXV5ZYjQG1hPUoxiCRACwRSkPiNIkDotqmAjNkiQIOs05SMRyNANWtOU9SSIEDc6mc+qYghQKom2RJF7x1AWmA5tFhqHkB4Ejo9OJUiQDbA6+llgyFAYGzWeMs5IUCJKQaseX8fQHs3XXsTViBA/jb6izuSH0CO5ERr2wEjQMwVflR0/CFAcPg/nGmyHUCwVfxjACEhQGaQFWB34CBAuleBRDqnIUD7GjAOjOUiQJBfeFHXjCFA5K+gE3JmIkBC+jd4q4kfQFUiBSQ+ciJA8qlFPPdXI0ANNOMqQvglQL0diZz1gCJAAPaCCCcPIECseJFnTjsjQOKWy+kqgiRAWBqDlr80IkD/6X8m1qohQHsMMMeBTSJAHGEigPuLIUAb+veV1DIkQMbxXc0S/yBAScc8Qxc5IUA12Dgz6dQfQKL8dKSzviBAPKZ66PJXIkCujg1Wt+IgQLbTQk/EhCNAiAJC3GUjIkAebcAK1IIiQE5wEOCnQSNA6UzbJ1kdIEBnjGVS0k4iQLq+KbWVaSFAWs+DepaZIkB08c1NM6EiQMZnUcbwUiJA",
          "dtype": "f8"
         },
         "yaxis": "y"
        },
        {
         "hovertemplate": "cluster_kmeans=1<br>X1=%{x}<br>X2=%{y}<extra></extra>",
         "legendgroup": "1",
         "marker": {
          "color": "#00cc96",
          "symbol": "circle"
         },
         "mode": "markers",
         "name": "1",
         "orientation": "v",
         "showlegend": true,
         "type": "scatter",
         "x": {
          "bdata": "LOAmDBA3HMBT3CG7JMYYwHKJ5fx2MhrAxpV7j+tlGMCK8ftNBiMewGEEJ1PFjhvAmMnlxg+8GsCDTk2RxWwawJfnqLyR4hvATANQn6NGG8CV2BHEa1gawLWlEXKovhfAwJF8jrBQHMCwEfAzuGQewL1c+KlJ0R3AObSuiMg9GcA7tvQWE3wgwM8mwz1KVxfAXH6WSa0hGMB+AQ+DMREhwCC0+aWe8h3Ali83eIq+F8CsJ0OqJnoYwKKi5jhV7x7A0zOT5tmgFMCAFZ+rEYAgwNp2cyDevB7AIAHeIUrbGcBNkghkKc0awM2c37CBdBrAcKKoEiA3HcCW7pixsikdwG4hwtOS7BTALynCPRNuF8Ai9XcGvjYgwMtL9nnnkxvA7Xv31wiOFsDcmwPinAYdwNhbqmyjNB7ALraU1ahwG8BWYPYXIroYwGD9AJR1hRnAxvsCYS57GsAxDPS/FbgbwGiDN46TThbAm8rUTPwoHsCu2yH2Rb4fwLz7bfpQlBvApqrnGk0mHsC+b7byCoYawFyDsLk+rB7AJbVSdkc1G8Bw8F4bNJsewPhfUx723xbAUIh44QG2FsBP+X4aUSghwJ04lRJcsR/AHG45SRBOH8Bmei0WFVYZwE3IwgBefBrAMdR0iQPQF8DY6FVack8gwH8XHk5fTxnAZIKOTnGAG8DXI4tajsQZwFMBjaXV3RvAbIjBB9qCFMANT7yijuAYwM2x/SoxIhvATkru07g0G8A5GNWyb2EcwC8Q0ySBEyDAWPgT2At0GcCR+MGgHEoawDARjo9u9RzA",
          "dtype": "f8"
         },
         "xaxis": "x",
         "y": {
          "bdata": "KW3wPR0BGMDX3XH9QAgcwPxyeg4JUx3AfnYNnrP9G8D3OoEIJtMUwEyVRVRDZB7An1d9I4UkHcClaQzoRYQVwG8+xY02jxfArzeQjfavHcDMS86GLocewNKPIczrTRvAmcS/QFJpGMD0mJOFQPIZwIpZs48WNBzACVeN/YkeH8AkemClvLIbwD/G1p8GdBvA1Dka7f6SIMBgd7BGPc4bwLfdEZYHChvArAsGt5QFHcDH5yzq1F0dwPzIZZfe+RvAmFOX5df5HcDQEWDVIzAXwBL7yUHlZx/A+iwxzZydFsCajKGh6nobwCJJ83Nk6h3A4VAO78AOHsC/PvOf8OgewOLbGstB5xXAIp8a9thpHcAXWfAyj24XwKJyrI2zcRzAfQRcuHgmG8BQstkMI8cawJ/tnjJBcB3AMhpSo0XtGcBYcwTYCe8awFXaVth9ghnAaHUHbdjvG8DWaSGWx3YYwK1J2rPP7x/Ak9D98YKMHMAtczW15qgVwCMkbhiBuh7ATt5ziZq9GsD6dzrTnswWwIiqwDtR6BnA9U5/+a2dGcBJDbMHOFMZwB+6rMZlcxjAeDPEpYhIG8A4T8xE7jMdwC4NzO+iYBnAwOtzt+IFIcBcZqgaZ4McwH02HFrmKh7AiPS/v7P8GMA3RIWAPXAdwD3REHvpzRzAJQOU575eG8CkFl9S3iocwPnKI2UmPBrAfk7D4mMbHsDD7voczuoYwKU5Zs7N3xnARbzDWXv+HcDwNXnuazkZwA0Jgv8cAyDA2nbAmwwkF8DCRewIBKAbwJ3e4Fn+hhnA",
          "dtype": "f8"
         },
         "yaxis": "y"
        },
        {
         "hovertemplate": "cluster_kmeans=2<br>X1=%{x}<br>X2=%{y}<extra></extra>",
         "legendgroup": "2",
         "marker": {
          "color": "#ab63fa",
          "symbol": "circle"
         },
         "mode": "markers",
         "name": "2",
         "orientation": "v",
         "showlegend": true,
         "type": "scatter",
         "x": {
          "bdata": "7gn1ERsdE0CdZ5fko34NQDtxwPizsxNAY6gbbnooCECEnU+AW0QWQKrS+mYXbQ9AYhwt7etDDkAe0ykcnz4TQHqhNOwWnRZA0Ey9SKABEUCQAkA7gKIXQLFq57kpNRRAYlXoA2+kFUDsO921OuwSQJleHeudYhlAVFFaKjBwFUBZgU6F6RIUQN2nIqythxhA7LOa/H41GEDrhpdhTE0MQPnEjyUpChFAyi9x2FW0E0C/rI//veQRQD93OZdrwRRA89DTPU4yE0Bk3am0eAYWQND75efrLBRAwDlrBFXAEUALOKLHNsYRQCyEvNciZQtA2XlSVkJFEEDsCIHwISkVQKqI+anmcRNA0ZLTqWx1E0DcoD/+528NQDoIBh5cdg9AGqCSpuu+EkD81tdscyERQNhEqzpe1g5AqxBB1m22EUCbKRbPtFkZQObUWNyByBdAdq+10OhiFEDGmgO9+l8AQLa7TmHAJhFABprUaes4EEC58aUPjmsZQB0kJ6yN4Q5AXz1Xpm2sEEApVOW7owwNQGVLjRfjmRJAFoGiwAAGEEAyexul94wRQDS7Sv8SUBJAYROU6KowFUAjbVKBkbQSQN35AwQdfhJA9NnBWciPFECe3lx7Z/cZQJ8EEfrJLw9AI3/c2izYEUDsCYK3GXEQQM0gs/RqyBJAcXS6OWvzFEATl60coQwRQFekKB8nNRRAumt0xBWzD0AougU0IxYQQD6B6RPQ+hNA/KVPUO0rF0B9Xwvl5MMSQPaAehHBnBVAOJOOweQSEkB/SD2EGUgWQBIXFRY/0A9A",
          "dtype": "f8"
         },
         "xaxis": "x",
         "y": {
          "bdata": "EsaMAltAAkAMp926v/wDQL1pVq2Ts/Y/llKKy4n6AEAi2vwl5BD1P9vOMBvbIPU/LeYNyYjfAkD29VrkIUDvP3BAUDM2g/Y/sZu2sDFPAEAcWCfzDnTvP1Rb4PKuOBRAySR6DlptAkAAc8Hr4gUEQBwN7MMBVto/7De+8ofAAUAYhfgNdaP+PyADah5h0QJA2tMJ1JJgAkDqbxW2CZHzPw+1gBdGNfc/UFf1Q9dfA0CLp083o0L5P4BMTH8c2+U/KJL69k/j9z+Via/NmYcGQIzPETyBUwVAUx/Y87sy7z+ybRanQuz1Pyqoi2RdX/k/fvmWJIEiBECX0w2qotADQO1J//xOFAVA9hQ7KKSZ9z8MHnRmAkr7P/STgCvqxABAkGBmZdHw8D9FLEngLEQFQJ+Tq24pvgJAcDkYauOYEEBTJCWBpGQGQEpcDKuhh+o/0ugc8I8NB0A45Pm8Y3XyP/KTh8JBnwBAok4EgLIrAUCKjKoYqtcDQIFUvmWc0gRAYE94Igo5BUBz3g5k4KgFQHTzD5GFFglA7p6veCIa/j+eSHTzi6QEQCqdTrL+9wFA1Kuh08HsC0C9+Lhi8Dr3P3r8yttHiQBAFPVBgF6Z9D9Qx3c0y63eP3Hf/uIMz/4/piw5s95aBEBKrk+krT0FQLlCA+eBo/o/eTEmCBWxA0CM2vUrMMEGQFhFWKLWEgNAMNzm1oBc6D8th1KHGIr8PwdLFUI2vgRAPPeozSNi6j+/ViSHjMbxPw3u93pK9ANAjKL5TvOMA0A5r/58orP/Pznvf3WAZvg/",
          "dtype": "f8"
         },
         "yaxis": "y"
        },
        {
         "marker": {
          "color": "white",
          "size": 15,
          "symbol": "x"
         },
         "mode": "markers",
         "name": "Centroides",
         "type": "scatter",
         "x": {
          "bdata": "ANOI5+YYBcCooNCsAl4bwEClD5BmzxJA7EBIFKeqIcA=",
          "dtype": "f8"
         },
         "y": {
          "bdata": "dc0/vaX4IUAasaCljlwbwI+ownd9OQBAGCQ8vSHfHEA=",
          "dtype": "f8"
         }
        }
       ],
       "layout": {
        "legend": {
         "title": {
          "text": "cluster_kmeans"
         },
         "tracegroupgap": 0
        },
        "template": {
         "data": {
          "bar": [
           {
            "error_x": {
             "color": "#f2f5fa"
            },
            "error_y": {
             "color": "#f2f5fa"
            },
            "marker": {
             "line": {
              "color": "rgb(17,17,17)",
              "width": 0.5
             },
             "pattern": {
              "fillmode": "overlay",
              "size": 10,
              "solidity": 0.2
             }
            },
            "type": "bar"
           }
          ],
          "barpolar": [
           {
            "marker": {
             "line": {
              "color": "rgb(17,17,17)",
              "width": 0.5
             },
             "pattern": {
              "fillmode": "overlay",
              "size": 10,
              "solidity": 0.2
             }
            },
            "type": "barpolar"
           }
          ],
          "carpet": [
           {
            "aaxis": {
             "endlinecolor": "#A2B1C6",
             "gridcolor": "#506784",
             "linecolor": "#506784",
             "minorgridcolor": "#506784",
             "startlinecolor": "#A2B1C6"
            },
            "baxis": {
             "endlinecolor": "#A2B1C6",
             "gridcolor": "#506784",
             "linecolor": "#506784",
             "minorgridcolor": "#506784",
             "startlinecolor": "#A2B1C6"
            },
            "type": "carpet"
           }
          ],
          "choropleth": [
           {
            "colorbar": {
             "outlinewidth": 0,
             "ticks": ""
            },
            "type": "choropleth"
           }
          ],
          "contour": [
           {
            "colorbar": {
             "outlinewidth": 0,
             "ticks": ""
            },
            "colorscale": [
             [
              0,
              "#0d0887"
             ],
             [
              0.1111111111111111,
              "#46039f"
             ],
             [
              0.2222222222222222,
              "#7201a8"
             ],
             [
              0.3333333333333333,
              "#9c179e"
             ],
             [
              0.4444444444444444,
              "#bd3786"
             ],
             [
              0.5555555555555556,
              "#d8576b"
             ],
             [
              0.6666666666666666,
              "#ed7953"
             ],
             [
              0.7777777777777778,
              "#fb9f3a"
             ],
             [
              0.8888888888888888,
              "#fdca26"
             ],
             [
              1,
              "#f0f921"
             ]
            ],
            "type": "contour"
           }
          ],
          "contourcarpet": [
           {
            "colorbar": {
             "outlinewidth": 0,
             "ticks": ""
            },
            "type": "contourcarpet"
           }
          ],
          "heatmap": [
           {
            "colorbar": {
             "outlinewidth": 0,
             "ticks": ""
            },
            "colorscale": [
             [
              0,
              "#0d0887"
             ],
             [
              0.1111111111111111,
              "#46039f"
             ],
             [
              0.2222222222222222,
              "#7201a8"
             ],
             [
              0.3333333333333333,
              "#9c179e"
             ],
             [
              0.4444444444444444,
              "#bd3786"
             ],
             [
              0.5555555555555556,
              "#d8576b"
             ],
             [
              0.6666666666666666,
              "#ed7953"
             ],
             [
              0.7777777777777778,
              "#fb9f3a"
             ],
             [
              0.8888888888888888,
              "#fdca26"
             ],
             [
              1,
              "#f0f921"
             ]
            ],
            "type": "heatmap"
           }
          ],
          "histogram": [
           {
            "marker": {
             "pattern": {
              "fillmode": "overlay",
              "size": 10,
              "solidity": 0.2
             }
            },
            "type": "histogram"
           }
          ],
          "histogram2d": [
           {
            "colorbar": {
             "outlinewidth": 0,
             "ticks": ""
            },
            "colorscale": [
             [
              0,
              "#0d0887"
             ],
             [
              0.1111111111111111,
              "#46039f"
             ],
             [
              0.2222222222222222,
              "#7201a8"
             ],
             [
              0.3333333333333333,
              "#9c179e"
             ],
             [
              0.4444444444444444,
              "#bd3786"
             ],
             [
              0.5555555555555556,
              "#d8576b"
             ],
             [
              0.6666666666666666,
              "#ed7953"
             ],
             [
              0.7777777777777778,
              "#fb9f3a"
             ],
             [
              0.8888888888888888,
              "#fdca26"
             ],
             [
              1,
              "#f0f921"
             ]
            ],
            "type": "histogram2d"
           }
          ],
          "histogram2dcontour": [
           {
            "colorbar": {
             "outlinewidth": 0,
             "ticks": ""
            },
            "colorscale": [
             [
              0,
              "#0d0887"
             ],
             [
              0.1111111111111111,
              "#46039f"
             ],
             [
              0.2222222222222222,
              "#7201a8"
             ],
             [
              0.3333333333333333,
              "#9c179e"
             ],
             [
              0.4444444444444444,
              "#bd3786"
             ],
             [
              0.5555555555555556,
              "#d8576b"
             ],
             [
              0.6666666666666666,
              "#ed7953"
             ],
             [
              0.7777777777777778,
              "#fb9f3a"
             ],
             [
              0.8888888888888888,
              "#fdca26"
             ],
             [
              1,
              "#f0f921"
             ]
            ],
            "type": "histogram2dcontour"
           }
          ],
          "mesh3d": [
           {
            "colorbar": {
             "outlinewidth": 0,
             "ticks": ""
            },
            "type": "mesh3d"
           }
          ],
          "parcoords": [
           {
            "line": {
             "colorbar": {
              "outlinewidth": 0,
              "ticks": ""
             }
            },
            "type": "parcoords"
           }
          ],
          "pie": [
           {
            "automargin": true,
            "type": "pie"
           }
          ],
          "scatter": [
           {
            "marker": {
             "line": {
              "color": "#283442"
             }
            },
            "type": "scatter"
           }
          ],
          "scatter3d": [
           {
            "line": {
             "colorbar": {
              "outlinewidth": 0,
              "ticks": ""
             }
            },
            "marker": {
             "colorbar": {
              "outlinewidth": 0,
              "ticks": ""
             }
            },
            "type": "scatter3d"
           }
          ],
          "scattercarpet": [
           {
            "marker": {
             "colorbar": {
              "outlinewidth": 0,
              "ticks": ""
             }
            },
            "type": "scattercarpet"
           }
          ],
          "scattergeo": [
           {
            "marker": {
             "colorbar": {
              "outlinewidth": 0,
              "ticks": ""
             }
            },
            "type": "scattergeo"
           }
          ],
          "scattergl": [
           {
            "marker": {
             "line": {
              "color": "#283442"
             }
            },
            "type": "scattergl"
           }
          ],
          "scattermap": [
           {
            "marker": {
             "colorbar": {
              "outlinewidth": 0,
              "ticks": ""
             }
            },
            "type": "scattermap"
           }
          ],
          "scattermapbox": [
           {
            "marker": {
             "colorbar": {
              "outlinewidth": 0,
              "ticks": ""
             }
            },
            "type": "scattermapbox"
           }
          ],
          "scatterpolar": [
           {
            "marker": {
             "colorbar": {
              "outlinewidth": 0,
              "ticks": ""
             }
            },
            "type": "scatterpolar"
           }
          ],
          "scatterpolargl": [
           {
            "marker": {
             "colorbar": {
              "outlinewidth": 0,
              "ticks": ""
             }
            },
            "type": "scatterpolargl"
           }
          ],
          "scatterternary": [
           {
            "marker": {
             "colorbar": {
              "outlinewidth": 0,
              "ticks": ""
             }
            },
            "type": "scatterternary"
           }
          ],
          "surface": [
           {
            "colorbar": {
             "outlinewidth": 0,
             "ticks": ""
            },
            "colorscale": [
             [
              0,
              "#0d0887"
             ],
             [
              0.1111111111111111,
              "#46039f"
             ],
             [
              0.2222222222222222,
              "#7201a8"
             ],
             [
              0.3333333333333333,
              "#9c179e"
             ],
             [
              0.4444444444444444,
              "#bd3786"
             ],
             [
              0.5555555555555556,
              "#d8576b"
             ],
             [
              0.6666666666666666,
              "#ed7953"
             ],
             [
              0.7777777777777778,
              "#fb9f3a"
             ],
             [
              0.8888888888888888,
              "#fdca26"
             ],
             [
              1,
              "#f0f921"
             ]
            ],
            "type": "surface"
           }
          ],
          "table": [
           {
            "cells": {
             "fill": {
              "color": "#506784"
             },
             "line": {
              "color": "rgb(17,17,17)"
             }
            },
            "header": {
             "fill": {
              "color": "#2a3f5f"
             },
             "line": {
              "color": "rgb(17,17,17)"
             }
            },
            "type": "table"
           }
          ]
         },
         "layout": {
          "annotationdefaults": {
           "arrowcolor": "#f2f5fa",
           "arrowhead": 0,
           "arrowwidth": 1
          },
          "autotypenumbers": "strict",
          "coloraxis": {
           "colorbar": {
            "outlinewidth": 0,
            "ticks": ""
           }
          },
          "colorscale": {
           "diverging": [
            [
             0,
             "#8e0152"
            ],
            [
             0.1,
             "#c51b7d"
            ],
            [
             0.2,
             "#de77ae"
            ],
            [
             0.3,
             "#f1b6da"
            ],
            [
             0.4,
             "#fde0ef"
            ],
            [
             0.5,
             "#f7f7f7"
            ],
            [
             0.6,
             "#e6f5d0"
            ],
            [
             0.7,
             "#b8e186"
            ],
            [
             0.8,
             "#7fbc41"
            ],
            [
             0.9,
             "#4d9221"
            ],
            [
             1,
             "#276419"
            ]
           ],
           "sequential": [
            [
             0,
             "#0d0887"
            ],
            [
             0.1111111111111111,
             "#46039f"
            ],
            [
             0.2222222222222222,
             "#7201a8"
            ],
            [
             0.3333333333333333,
             "#9c179e"
            ],
            [
             0.4444444444444444,
             "#bd3786"
            ],
            [
             0.5555555555555556,
             "#d8576b"
            ],
            [
             0.6666666666666666,
             "#ed7953"
            ],
            [
             0.7777777777777778,
             "#fb9f3a"
            ],
            [
             0.8888888888888888,
             "#fdca26"
            ],
            [
             1,
             "#f0f921"
            ]
           ],
           "sequentialminus": [
            [
             0,
             "#0d0887"
            ],
            [
             0.1111111111111111,
             "#46039f"
            ],
            [
             0.2222222222222222,
             "#7201a8"
            ],
            [
             0.3333333333333333,
             "#9c179e"
            ],
            [
             0.4444444444444444,
             "#bd3786"
            ],
            [
             0.5555555555555556,
             "#d8576b"
            ],
            [
             0.6666666666666666,
             "#ed7953"
            ],
            [
             0.7777777777777778,
             "#fb9f3a"
            ],
            [
             0.8888888888888888,
             "#fdca26"
            ],
            [
             1,
             "#f0f921"
            ]
           ]
          },
          "colorway": [
           "#636efa",
           "#EF553B",
           "#00cc96",
           "#ab63fa",
           "#FFA15A",
           "#19d3f3",
           "#FF6692",
           "#B6E880",
           "#FF97FF",
           "#FECB52"
          ],
          "font": {
           "color": "#f2f5fa"
          },
          "geo": {
           "bgcolor": "rgb(17,17,17)",
           "lakecolor": "rgb(17,17,17)",
           "landcolor": "rgb(17,17,17)",
           "showlakes": true,
           "showland": true,
           "subunitcolor": "#506784"
          },
          "hoverlabel": {
           "align": "left"
          },
          "hovermode": "closest",
          "mapbox": {
           "style": "dark"
          },
          "paper_bgcolor": "rgb(17,17,17)",
          "plot_bgcolor": "rgb(17,17,17)",
          "polar": {
           "angularaxis": {
            "gridcolor": "#506784",
            "linecolor": "#506784",
            "ticks": ""
           },
           "bgcolor": "rgb(17,17,17)",
           "radialaxis": {
            "gridcolor": "#506784",
            "linecolor": "#506784",
            "ticks": ""
           }
          },
          "scene": {
           "xaxis": {
            "backgroundcolor": "rgb(17,17,17)",
            "gridcolor": "#506784",
            "gridwidth": 2,
            "linecolor": "#506784",
            "showbackground": true,
            "ticks": "",
            "zerolinecolor": "#C8D4E3"
           },
           "yaxis": {
            "backgroundcolor": "rgb(17,17,17)",
            "gridcolor": "#506784",
            "gridwidth": 2,
            "linecolor": "#506784",
            "showbackground": true,
            "ticks": "",
            "zerolinecolor": "#C8D4E3"
           },
           "zaxis": {
            "backgroundcolor": "rgb(17,17,17)",
            "gridcolor": "#506784",
            "gridwidth": 2,
            "linecolor": "#506784",
            "showbackground": true,
            "ticks": "",
            "zerolinecolor": "#C8D4E3"
           }
          },
          "shapedefaults": {
           "line": {
            "color": "#f2f5fa"
           }
          },
          "sliderdefaults": {
           "bgcolor": "#C8D4E3",
           "bordercolor": "rgb(17,17,17)",
           "borderwidth": 1,
           "tickwidth": 0
          },
          "ternary": {
           "aaxis": {
            "gridcolor": "#506784",
            "linecolor": "#506784",
            "ticks": ""
           },
           "baxis": {
            "gridcolor": "#506784",
            "linecolor": "#506784",
            "ticks": ""
           },
           "bgcolor": "rgb(17,17,17)",
           "caxis": {
            "gridcolor": "#506784",
            "linecolor": "#506784",
            "ticks": ""
           }
          },
          "title": {
           "x": 0.05
          },
          "updatemenudefaults": {
           "bgcolor": "#506784",
           "borderwidth": 0
          },
          "xaxis": {
           "automargin": true,
           "gridcolor": "#283442",
           "linecolor": "#506784",
           "ticks": "",
           "title": {
            "standoff": 15
           },
           "zerolinecolor": "#283442",
           "zerolinewidth": 2
          },
          "yaxis": {
           "automargin": true,
           "gridcolor": "#283442",
           "linecolor": "#506784",
           "ticks": "",
           "title": {
            "standoff": 15
           },
           "zerolinecolor": "#283442",
           "zerolinewidth": 2
          }
         }
        },
        "title": {
         "text": "Resultados de K-Means Clustering (K=4)"
        },
        "xaxis": {
         "anchor": "y",
         "domain": [
          0,
          1
         ],
         "title": {
          "text": "X1"
         }
        },
        "yaxis": {
         "anchor": "x",
         "domain": [
          0,
          1
         ],
         "title": {
          "text": "X2"
         }
        }
       }
      }
     },
     "metadata": {},
     "output_type": "display_data"
    }
   ],
   "source": [
    "# --- 5. Visualización de los Resultados de K-Means ---\n",
    "df_blobs = pd.DataFrame(X_blobs, columns=['X1', 'X2'])\n",
    "df_blobs['cluster_kmeans'] = labels_kmeans.astype(str) # Convertir a string para colores discretos\n",
    "\n",
    "fig = px.scatter(df_blobs, x='X1', y='X2', color='cluster_kmeans', \n",
    "                 title='Resultados de K-Means Clustering (K=4)')\n",
    "\n",
    "# Añadimos los centroides al gráfico\n",
    "fig.add_trace(go.Scatter(x=centroids[:, 0], y=centroids[:, 1],\n",
    "                          mode='markers', \n",
    "                          marker=dict(color='white', size=15, symbol='x'),\n",
    "                          name='Centroides'))\n",
    "fig.show()"
   ]
  },
  {
   "cell_type": "markdown",
   "metadata": {},
   "source": [
    "## Sección 2: Clustering Jerárquico\n",
    "\n",
    "Usemos el mismo dataset para aplicar clustering jerárquico. La principal ventaja aquí es el **dendrograma**, que nos permite visualizar la estructura anidada de los clusters."
   ]
  },
  {
   "cell_type": "code",
   "execution_count": 8,
   "metadata": {},
   "outputs": [
    {
     "data": {
      "image/png": "[encoded data removed]",
      "text/plain": [
       "<Figure size 1500x700 with 1 Axes>"
      ]
     },
     "metadata": {},
     "output_type": "display_data"
    }
   ],
   "source": [
    "# --- 6. Creación del Dendrograma ---\n",
    "\n",
    "# Usamos 'average' como método de enlace\n",
    "linkage_matrix = linkage(X_blobs, method='average')\n",
    "\n",
    "plt.figure(figsize=(15, 7))\n",
    "dendrogram(linkage_matrix)\n",
    "plt.title('Dendrograma del Clustering Jerárquico')\n",
    "plt.xlabel('Índice de la Muestra', fontsize=20)\n",
    "plt.ylabel('Distancia (Disimilitud)', fontsize=20)\n",
    "plt.axhline(y=4, color='r', linestyle='--') # Linea de corte para K=4\n",
    "plt.show()"
   ]
  },
  {
   "cell_type": "markdown",
   "metadata": {},
   "source": [
    "El dendrograma muestra que un corte horizontal en la región marcada (línea roja) resultaría en 4 clusters.\n",
    "\n",
    "### 2.1 Aplicando Clustering Jerárquico Aglomerativo"
   ]
  },
  {
   "cell_type": "code",
   "execution_count": 9,
   "metadata": {},
   "outputs": [
    {
     "data": {
      "application/vnd.plotly.v1+json": {
       "config": {
        "plotlyServerURL": "https://plot.ly"
       },
       "data": [
        {
         "hovertemplate": "cluster_agg=3<br>X1=%{x}<br>X2=%{y}<extra></extra>",
         "legendgroup": "3",
         "marker": {
          "color": "#636efa",
          "symbol": "circle"
         },
         "mode": "markers",
         "name": "3",
         "orientation": "v",
         "showlegend": true,
         "type": "scatter",
         "x": {
          "bdata": "jRn1xmBpIsAPDxwtpg0jwBgvmiQK8CTAH2ItHbq3IsCf21l93UckwBPq07472yHA30UYTTfUIMCsdTcneJkiwHtaWUYeWSDAphgTmNgZJMBQEEFJKXcgwHdBDT4Q2SHALU+dg/J0IsAXyyYI6Y8hwJ7pPxfxIiHADxyqSX2wIcCU/6H9pwshwHOzkVG3TCHAWmmmfDqAGcA7+EjV1MsiwDZvkddxPiHA8/9VUgzgIMA7z2Kg7FYgwHKIXPHMnR/AGg9+IANZJMAT7OieCOkgwEEIFKL/jyLAU1Gt0drlIsCtxAaB4QMhwLVwJbwT6iPA7lUlcBRWI8ANpfELgKskwEYxk+oQwSDApllnbZ7hIcBtmOI/qbEgwIfz5Vg/BCDA5enVu8MbIsCigQPe8RAdwGJTc1+EhiLAELDqBainIMBzeDeG4BMjwH+ABMZpgh/An/8AQGlIIMBblMuywYkhwOLrym6ivCLAA8eMAZyhJcAya8FmOT8kwEzOlzy7YiHAPthnYA+2IsD+4itvWZkhwOB5004JqiDAoUi+5drAIMC8hXqO4h0iwKITKtF/WSDAvqRsawbjIsA7IxfSNGMiwEz7k1hX9B3AkQ95itwxIMCvvfxDN7giwDZwwNvjFh7AcL/KQ0rIIcDBcR4ziDYhwDKHKVK0eh7Ax6ziatdCIcDLFIfUMxUhwIOwBU3enyLALZbWeVAnIcCuEARN2gokwHlpAqSIjSHAKPRujImEIcB768rYCxEgwIIo9F+TIiHAsu9+0BgPIsBoIxr9raUhwOSKiIEISSDA",
          "dtype": "f8"
         },
         "xaxis": "x",
         "y": {
          "bdata": "dvYqTxiTGkC4NsNyQhAcQKwZoJF2ERpADd5u/ju8G0DW+0C8rXIdQI5lS+hElhxAOjasOBz0IECAPPicGrYfQGuS5sz7jRpAhmpl84PVIEDf+nmB2VcaQEj4W4o3+xlAoFN1kO/oG0C8JG6Q/cMbQA38F7vg+RtARXOlL9QDIUDgGh+/avIbQCLgTb3Hwh9AZjPbuzhwIEAP1FFulPodQHqVX+UhIh1AHq3BZXkqGkB/3Wbk1K0ZQLLFWoK1Gx5AwzKKe2gIH0Arrzabn1weQBHUq2P8dRlA87lkYbqEF0DfE6UZYaYhQPIPF8x4GB9AQjBerVyvHEAogNzeUyscQOQjxXpDSh5AFKqOPII8GkCc4dl41rcfQBwUa2Z7qRtABPJ29nspGkD7Kd7kLGgdQF3d78CTcxtAOjI5lCv6F0CryBF4f94YQFm3kfv9/BtAaHQ7gDVAHEC0H2e1wcscQKewGM64Hh9AdW0Ui3i+GkAqnRwC9/EdQCxtlzihFh5ACaUHiUjVGUDYmKe4kqIaQMrL8DK4RyJAjMkt4/OkHEDUqdS7je0VQHjKWOjsNxZApmq4Xi2+GEBAJlE9X4AeQHrer2zDDiBAEI9TpL2zIUCQdiDQHXIdQDLzxPJGfxxAtf4sFjlrGUClL6VXuvchQD1AADjDBB9APCA2pnhmGkAO0Ii3gFwbQCreFpiBhxpALNRD4cyXHECQiHsZIHogQKcK3zO5iRpASCZb5NKyH0DU6uyYsnIbQDSvOmcV9xtAz0U+ss9jGkBiLBv9T1QhQK00Wbrp0CBA",
          "dtype": "f8"
         },
         "yaxis": "y"
        },
        {
         "hovertemplate": "cluster_agg=2<br>X1=%{x}<br>X2=%{y}<extra></extra>",
         "legendgroup": "2",
         "marker": {
          "color": "#EF553B",
          "symbol": "circle"
         },
         "mode": "markers",
         "name": "2",
         "orientation": "v",
         "showlegend": true,
         "type": "scatter",
         "x": {
          "bdata": "tCBKuVue/b9uvRVy6iMHwCAZmj+s7AfAgodSdqK8AsDOKEq4xyENwH2OBp0UkQjAhBiU7chzA8BWy29/VFEAwPz4fVUWGwXAis/xqxkKB8CuFx5Au2kKwJTwj5cqngLAb0Bwvd1sAsBs/fVftUsEwNebZ+a5wgHAnrCuBuk69b97kXsbjAUHwKp8yqxQ3wrAgpBsSESVBsCPJVFU7OoHwC86hl1CjgrAGJT/b9GIBMDxkfY/GPQBwOkpuruITQTAkDA6dBVu/L8wEtG8y3YHwNFShHULaQLAEJgBt54F/r/cHXuLz3EJwIbz/N5nhgLAPkYrP9rfAcDp8hDjbXgCwF8j8nEeFgnADsqn/3g/CcANRU3SMqQDwGhAilnzKATAbcm2P/8w9r91i2be52cIwMgjQ5dGLRDAJFa28X58A8A62wou8RwPwM788UU/iQ3AgcnXdnUKBMBzqWoIBhQHwHFoSQQ4hAPAmXePPv1sCMBkGscai+IJwJVhbVusLQLAjMxbeINrEsB9XIXSJ7ADwLRQMwuwuwDAHrT4s/C7/b9ODXcl34T5v4Ktf6049QnAbRgH3sCOB8CWKKQbCWP1vxj0n73dsf6/oSfWm1DQBMC33WtYML/9v8WijQ9VwgHAecI3ZJFvA8Aim1HvdP0LwJrrExdXRAbAzAolz++SDMAuYN2yqjICwCCcklJL8/q/Vk4olnH/DcBXYGM9AE4FwMQ8Vq7o7vO/eBJduXQnC8BO/iT+BAHwv8aQ04jb/wHAbwVsRb96BcChe2Tmn3ALwHwTGoqJXA7A",
          "dtype": "f8"
         },
         "xaxis": "x",
         "y": {
          "bdata": "f4y6xkETIEBVB7bBRLshQFex0/QB/iRAdvQraUTJHUC/mwOnBFshQNfBJKUagSFAhgjkTBKUI0CXtGRuhoglQJxMhFDQrCJAHDkKNY1IIUCsSf3jWx8hQJcmDF24HiRAXyOVStLoIUBT/bi8nyggQFKin1VLfSRA5giu8AczIUDy+JnPT7gjQAm87EZMySJAAGdXsbdfH0A+gHE01o8hQKn1hLsHiCJAv9gFkFyiI0DonQXV5ZYjQG1hPUoxiCRACwRSkPiNIkDotqmAjNkiQIOs05SMRyNANWtOU9SSIEDc6mc+qYghQKom2RJF7x1AWmA5tFhqHkB4Ejo9OJUiQDbA6+llgyFAYGzWeMs5IUCJKQaseX8fQHs3XXsTViBA/jb6izuSH0CO5ERr2wEjQMwVflR0/CFAcPg/nGmyHUCwVfxjACEhQGaQFWB34CBAuleBRDqnIUD7GjAOjOUiQJBfeFHXjCFA5K+gE3JmIkBC+jd4q4kfQFUiBSQ+ciJA8qlFPPdXI0ANNOMqQvglQL0diZz1gCJAAPaCCCcPIECseJFnTjsjQOKWy+kqgiRAWBqDlr80IkD/6X8m1qohQHsMMMeBTSJAHGEigPuLIUAb+veV1DIkQMbxXc0S/yBAScc8Qxc5IUA12Dgz6dQfQKL8dKSzviBAPKZ66PJXIkCujg1Wt+IgQLbTQk/EhCNAiAJC3GUjIkAebcAK1IIiQE5wEOCnQSNA6UzbJ1kdIEBnjGVS0k4iQLq+KbWVaSFAWs+DepaZIkB08c1NM6EiQMZnUcbwUiJA",
          "dtype": "f8"
         },
         "yaxis": "y"
        },
        {
         "hovertemplate": "cluster_agg=1<br>X1=%{x}<br>X2=%{y}<extra></extra>",
         "legendgroup": "1",
         "marker": {
          "color": "#00cc96",
          "symbol": "circle"
         },
         "mode": "markers",
         "name": "1",
         "orientation": "v",
         "showlegend": true,
         "type": "scatter",
         "x": {
          "bdata": "LOAmDBA3HMBT3CG7JMYYwHKJ5fx2MhrAxpV7j+tlGMCK8ftNBiMewGEEJ1PFjhvAmMnlxg+8GsCDTk2RxWwawJfnqLyR4hvATANQn6NGG8CV2BHEa1gawLWlEXKovhfAwJF8jrBQHMCwEfAzuGQewL1c+KlJ0R3AObSuiMg9GcA7tvQWE3wgwM8mwz1KVxfAXH6WSa0hGMB+AQ+DMREhwCC0+aWe8h3Ali83eIq+F8CsJ0OqJnoYwKKi5jhV7x7A0zOT5tmgFMCAFZ+rEYAgwNp2cyDevB7AIAHeIUrbGcBNkghkKc0awM2c37CBdBrAcKKoEiA3HcCW7pixsikdwG4hwtOS7BTALynCPRNuF8Ai9XcGvjYgwMtL9nnnkxvA7Xv31wiOFsDcmwPinAYdwNhbqmyjNB7ALraU1ahwG8BWYPYXIroYwGD9AJR1hRnAxvsCYS57GsAxDPS/FbgbwGiDN46TThbAm8rUTPwoHsCu2yH2Rb4fwLz7bfpQlBvApqrnGk0mHsC+b7byCoYawFyDsLk+rB7AJbVSdkc1G8Bw8F4bNJsewPhfUx723xbAUIh44QG2FsBP+X4aUSghwJ04lRJcsR/AHG45SRBOH8Bmei0WFVYZwE3IwgBefBrAMdR0iQPQF8DY6FVack8gwH8XHk5fTxnAZIKOTnGAG8DXI4tajsQZwFMBjaXV3RvAbIjBB9qCFMANT7yijuAYwM2x/SoxIhvATkru07g0G8A5GNWyb2EcwC8Q0ySBEyDAWPgT2At0GcCR+MGgHEoawDARjo9u9RzA",
          "dtype": "f8"
         },
         "xaxis": "x",
         "y": {
          "bdata": "KW3wPR0BGMDX3XH9QAgcwPxyeg4JUx3AfnYNnrP9G8D3OoEIJtMUwEyVRVRDZB7An1d9I4UkHcClaQzoRYQVwG8+xY02jxfArzeQjfavHcDMS86GLocewNKPIczrTRvAmcS/QFJpGMD0mJOFQPIZwIpZs48WNBzACVeN/YkeH8AkemClvLIbwD/G1p8GdBvA1Dka7f6SIMBgd7BGPc4bwLfdEZYHChvArAsGt5QFHcDH5yzq1F0dwPzIZZfe+RvAmFOX5df5HcDQEWDVIzAXwBL7yUHlZx/A+iwxzZydFsCajKGh6nobwCJJ83Nk6h3A4VAO78AOHsC/PvOf8OgewOLbGstB5xXAIp8a9thpHcAXWfAyj24XwKJyrI2zcRzAfQRcuHgmG8BQstkMI8cawJ/tnjJBcB3AMhpSo0XtGcBYcwTYCe8awFXaVth9ghnAaHUHbdjvG8DWaSGWx3YYwK1J2rPP7x/Ak9D98YKMHMAtczW15qgVwCMkbhiBuh7ATt5ziZq9GsD6dzrTnswWwIiqwDtR6BnA9U5/+a2dGcBJDbMHOFMZwB+6rMZlcxjAeDPEpYhIG8A4T8xE7jMdwC4NzO+iYBnAwOtzt+IFIcBcZqgaZ4McwH02HFrmKh7AiPS/v7P8GMA3RIWAPXAdwD3REHvpzRzAJQOU575eG8CkFl9S3iocwPnKI2UmPBrAfk7D4mMbHsDD7voczuoYwKU5Zs7N3xnARbzDWXv+HcDwNXnuazkZwA0Jgv8cAyDA2nbAmwwkF8DCRewIBKAbwJ3e4Fn+hhnA",
          "dtype": "f8"
         },
         "yaxis": "y"
        },
        {
         "hovertemplate": "cluster_agg=0<br>X1=%{x}<br>X2=%{y}<extra></extra>",
         "legendgroup": "0",
         "marker": {
          "color": "#ab63fa",
          "symbol": "circle"
         },
         "mode": "markers",
         "name": "0",
         "orientation": "v",
         "showlegend": true,
         "type": "scatter",
         "x": {
          "bdata": "7gn1ERsdE0CdZ5fko34NQDtxwPizsxNAY6gbbnooCECEnU+AW0QWQKrS+mYXbQ9AYhwt7etDDkAe0ykcnz4TQHqhNOwWnRZA0Ey9SKABEUCQAkA7gKIXQLFq57kpNRRAYlXoA2+kFUDsO921OuwSQJleHeudYhlAVFFaKjBwFUBZgU6F6RIUQN2nIqythxhA7LOa/H41GEDrhpdhTE0MQPnEjyUpChFAyi9x2FW0E0C/rI//veQRQD93OZdrwRRA89DTPU4yE0Bk3am0eAYWQND75efrLBRAwDlrBFXAEUALOKLHNsYRQCyEvNciZQtA2XlSVkJFEEDsCIHwISkVQKqI+anmcRNA0ZLTqWx1E0DcoD/+528NQDoIBh5cdg9AGqCSpuu+EkD81tdscyERQNhEqzpe1g5AqxBB1m22EUCbKRbPtFkZQObUWNyByBdAdq+10OhiFEDGmgO9+l8AQLa7TmHAJhFABprUaes4EEC58aUPjmsZQB0kJ6yN4Q5AXz1Xpm2sEEApVOW7owwNQGVLjRfjmRJAFoGiwAAGEEAyexul94wRQDS7Sv8SUBJAYROU6KowFUAjbVKBkbQSQN35AwQdfhJA9NnBWciPFECe3lx7Z/cZQJ8EEfrJLw9AI3/c2izYEUDsCYK3GXEQQM0gs/RqyBJAcXS6OWvzFEATl60coQwRQFekKB8nNRRAumt0xBWzD0AougU0IxYQQD6B6RPQ+hNA/KVPUO0rF0B9Xwvl5MMSQPaAehHBnBVAOJOOweQSEkB/SD2EGUgWQBIXFRY/0A9A",
          "dtype": "f8"
         },
         "xaxis": "x",
         "y": {
          "bdata": "EsaMAltAAkAMp926v/wDQL1pVq2Ts/Y/llKKy4n6AEAi2vwl5BD1P9vOMBvbIPU/LeYNyYjfAkD29VrkIUDvP3BAUDM2g/Y/sZu2sDFPAEAcWCfzDnTvP1Rb4PKuOBRAySR6DlptAkAAc8Hr4gUEQBwN7MMBVto/7De+8ofAAUAYhfgNdaP+PyADah5h0QJA2tMJ1JJgAkDqbxW2CZHzPw+1gBdGNfc/UFf1Q9dfA0CLp083o0L5P4BMTH8c2+U/KJL69k/j9z+Via/NmYcGQIzPETyBUwVAUx/Y87sy7z+ybRanQuz1Pyqoi2RdX/k/fvmWJIEiBECX0w2qotADQO1J//xOFAVA9hQ7KKSZ9z8MHnRmAkr7P/STgCvqxABAkGBmZdHw8D9FLEngLEQFQJ+Tq24pvgJAcDkYauOYEEBTJCWBpGQGQEpcDKuhh+o/0ugc8I8NB0A45Pm8Y3XyP/KTh8JBnwBAok4EgLIrAUCKjKoYqtcDQIFUvmWc0gRAYE94Igo5BUBz3g5k4KgFQHTzD5GFFglA7p6veCIa/j+eSHTzi6QEQCqdTrL+9wFA1Kuh08HsC0C9+Lhi8Dr3P3r8yttHiQBAFPVBgF6Z9D9Qx3c0y63eP3Hf/uIMz/4/piw5s95aBEBKrk+krT0FQLlCA+eBo/o/eTEmCBWxA0CM2vUrMMEGQFhFWKLWEgNAMNzm1oBc6D8th1KHGIr8PwdLFUI2vgRAPPeozSNi6j+/ViSHjMbxPw3u93pK9ANAjKL5TvOMA0A5r/58orP/Pznvf3WAZvg/",
          "dtype": "f8"
         },
         "yaxis": "y"
        }
       ],
       "layout": {
        "legend": {
         "title": {
          "text": "cluster_agg"
         },
         "tracegroupgap": 0
        },
        "template": {
         "data": {
          "bar": [
           {
            "error_x": {
             "color": "#f2f5fa"
            },
            "error_y": {
             "color": "#f2f5fa"
            },
            "marker": {
             "line": {
              "color": "rgb(17,17,17)",
              "width": 0.5
             },
             "pattern": {
              "fillmode": "overlay",
              "size": 10,
              "solidity": 0.2
             }
            },
            "type": "bar"
           }
          ],
          "barpolar": [
           {
            "marker": {
             "line": {
              "color": "rgb(17,17,17)",
              "width": 0.5
             },
             "pattern": {
              "fillmode": "overlay",
              "size": 10,
              "solidity": 0.2
             }
            },
            "type": "barpolar"
           }
          ],
          "carpet": [
           {
            "aaxis": {
             "endlinecolor": "#A2B1C6",
             "gridcolor": "#506784",
             "linecolor": "#506784",
             "minorgridcolor": "#506784",
             "startlinecolor": "#A2B1C6"
            },
            "baxis": {
             "endlinecolor": "#A2B1C6",
             "gridcolor": "#506784",
             "linecolor": "#506784",
             "minorgridcolor": "#506784",
             "startlinecolor": "#A2B1C6"
            },
            "type": "carpet"
           }
          ],
          "choropleth": [
           {
            "colorbar": {
             "outlinewidth": 0,
             "ticks": ""
            },
            "type": "choropleth"
           }
          ],
          "contour": [
           {
            "colorbar": {
             "outlinewidth": 0,
             "ticks": ""
            },
            "colorscale": [
             [
              0,
              "#0d0887"
             ],
             [
              0.1111111111111111,
              "#46039f"
             ],
             [
              0.2222222222222222,
              "#7201a8"
             ],
             [
              0.3333333333333333,
              "#9c179e"
             ],
             [
              0.4444444444444444,
              "#bd3786"
             ],
             [
              0.5555555555555556,
              "#d8576b"
             ],
             [
              0.6666666666666666,
              "#ed7953"
             ],
             [
              0.7777777777777778,
              "#fb9f3a"
             ],
             [
              0.8888888888888888,
              "#fdca26"
             ],
             [
              1,
              "#f0f921"
             ]
            ],
            "type": "contour"
           }
          ],
          "contourcarpet": [
           {
            "colorbar": {
             "outlinewidth": 0,
             "ticks": ""
            },
            "type": "contourcarpet"
           }
          ],
          "heatmap": [
           {
            "colorbar": {
             "outlinewidth": 0,
             "ticks": ""
            },
            "colorscale": [
             [
              0,
              "#0d0887"
             ],
             [
              0.1111111111111111,
              "#46039f"
             ],
             [
              0.2222222222222222,
              "#7201a8"
             ],
             [
              0.3333333333333333,
              "#9c179e"
             ],
             [
              0.4444444444444444,
              "#bd3786"
             ],
             [
              0.5555555555555556,
              "#d8576b"
             ],
             [
              0.6666666666666666,
              "#ed7953"
             ],
             [
              0.7777777777777778,
              "#fb9f3a"
             ],
             [
              0.8888888888888888,
              "#fdca26"
             ],
             [
              1,
              "#f0f921"
             ]
            ],
            "type": "heatmap"
           }
          ],
          "histogram": [
           {
            "marker": {
             "pattern": {
              "fillmode": "overlay",
              "size": 10,
              "solidity": 0.2
             }
            },
            "type": "histogram"
           }
          ],
          "histogram2d": [
           {
            "colorbar": {
             "outlinewidth": 0,
             "ticks": ""
            },
            "colorscale": [
             [
              0,
              "#0d0887"
             ],
             [
              0.1111111111111111,
              "#46039f"
             ],
             [
              0.2222222222222222,
              "#7201a8"
             ],
             [
              0.3333333333333333,
              "#9c179e"
             ],
             [
              0.4444444444444444,
              "#bd3786"
             ],
             [
              0.5555555555555556,
              "#d8576b"
             ],
             [
              0.6666666666666666,
              "#ed7953"
             ],
             [
              0.7777777777777778,
              "#fb9f3a"
             ],
             [
              0.8888888888888888,
              "#fdca26"
             ],
             [
              1,
              "#f0f921"
             ]
            ],
            "type": "histogram2d"
           }
          ],
          "histogram2dcontour": [
           {
            "colorbar": {
             "outlinewidth": 0,
             "ticks": ""
            },
            "colorscale": [
             [
              0,
              "#0d0887"
             ],
             [
              0.1111111111111111,
              "#46039f"
             ],
             [
              0.2222222222222222,
              "#7201a8"
             ],
             [
              0.3333333333333333,
              "#9c179e"
             ],
             [
              0.4444444444444444,
              "#bd3786"
             ],
             [
              0.5555555555555556,
              "#d8576b"
             ],
             [
              0.6666666666666666,
              "#ed7953"
             ],
             [
              0.7777777777777778,
              "#fb9f3a"
             ],
             [
              0.8888888888888888,
              "#fdca26"
             ],
             [
              1,
              "#f0f921"
             ]
            ],
            "type": "histogram2dcontour"
           }
          ],
          "mesh3d": [
           {
            "colorbar": {
             "outlinewidth": 0,
             "ticks": ""
            },
            "type": "mesh3d"
           }
          ],
          "parcoords": [
           {
            "line": {
             "colorbar": {
              "outlinewidth": 0,
              "ticks": ""
             }
            },
            "type": "parcoords"
           }
          ],
          "pie": [
           {
            "automargin": true,
            "type": "pie"
           }
          ],
          "scatter": [
           {
            "marker": {
             "line": {
              "color": "#283442"
             }
            },
            "type": "scatter"
           }
          ],
          "scatter3d": [
           {
            "line": {
             "colorbar": {
              "outlinewidth": 0,
              "ticks": ""
             }
            },
            "marker": {
             "colorbar": {
              "outlinewidth": 0,
              "ticks": ""
             }
            },
            "type": "scatter3d"
           }
          ],
          "scattercarpet": [
           {
            "marker": {
             "colorbar": {
              "outlinewidth": 0,
              "ticks": ""
             }
            },
            "type": "scattercarpet"
           }
          ],
          "scattergeo": [
           {
            "marker": {
             "colorbar": {
              "outlinewidth": 0,
              "ticks": ""
             }
            },
            "type": "scattergeo"
           }
          ],
          "scattergl": [
           {
            "marker": {
             "line": {
              "color": "#283442"
             }
            },
            "type": "scattergl"
           }
          ],
          "scattermap": [
           {
            "marker": {
             "colorbar": {
              "outlinewidth": 0,
              "ticks": ""
             }
            },
            "type": "scattermap"
           }
          ],
          "scattermapbox": [
           {
            "marker": {
             "colorbar": {
              "outlinewidth": 0,
              "ticks": ""
             }
            },
            "type": "scattermapbox"
           }
          ],
          "scatterpolar": [
           {
            "marker": {
             "colorbar": {
              "outlinewidth": 0,
              "ticks": ""
             }
            },
            "type": "scatterpolar"
           }
          ],
          "scatterpolargl": [
           {
            "marker": {
             "colorbar": {
              "outlinewidth": 0,
              "ticks": ""
             }
            },
            "type": "scatterpolargl"
           }
          ],
          "scatterternary": [
           {
            "marker": {
             "colorbar": {
              "outlinewidth": 0,
              "ticks": ""
             }
            },
            "type": "scatterternary"
           }
          ],
          "surface": [
           {
            "colorbar": {
             "outlinewidth": 0,
             "ticks": ""
            },
            "colorscale": [
             [
              0,
              "#0d0887"
             ],
             [
              0.1111111111111111,
              "#46039f"
             ],
             [
              0.2222222222222222,
              "#7201a8"
             ],
             [
              0.3333333333333333,
              "#9c179e"
             ],
             [
              0.4444444444444444,
              "#bd3786"
             ],
             [
              0.5555555555555556,
              "#d8576b"
             ],
             [
              0.6666666666666666,
              "#ed7953"
             ],
             [
              0.7777777777777778,
              "#fb9f3a"
             ],
             [
              0.8888888888888888,
              "#fdca26"
             ],
             [
              1,
              "#f0f921"
             ]
            ],
            "type": "surface"
           }
          ],
          "table": [
           {
            "cells": {
             "fill": {
              "color": "#506784"
             },
             "line": {
              "color": "rgb(17,17,17)"
             }
            },
            "header": {
             "fill": {
              "color": "#2a3f5f"
             },
             "line": {
              "color": "rgb(17,17,17)"
             }
            },
            "type": "table"
           }
          ]
         },
         "layout": {
          "annotationdefaults": {
           "arrowcolor": "#f2f5fa",
           "arrowhead": 0,
           "arrowwidth": 1
          },
          "autotypenumbers": "strict",
          "coloraxis": {
           "colorbar": {
            "outlinewidth": 0,
            "ticks": ""
           }
          },
          "colorscale": {
           "diverging": [
            [
             0,
             "#8e0152"
            ],
            [
             0.1,
             "#c51b7d"
            ],
            [
             0.2,
             "#de77ae"
            ],
            [
             0.3,
             "#f1b6da"
            ],
            [
             0.4,
             "#fde0ef"
            ],
            [
             0.5,
             "#f7f7f7"
            ],
            [
             0.6,
             "#e6f5d0"
            ],
            [
             0.7,
             "#b8e186"
            ],
            [
             0.8,
             "#7fbc41"
            ],
            [
             0.9,
             "#4d9221"
            ],
            [
             1,
             "#276419"
            ]
           ],
           "sequential": [
            [
             0,
             "#0d0887"
            ],
            [
             0.1111111111111111,
             "#46039f"
            ],
            [
             0.2222222222222222,
             "#7201a8"
            ],
            [
             0.3333333333333333,
             "#9c179e"
            ],
            [
             0.4444444444444444,
             "#bd3786"
            ],
            [
             0.5555555555555556,
             "#d8576b"
            ],
            [
             0.6666666666666666,
             "#ed7953"
            ],
            [
             0.7777777777777778,
             "#fb9f3a"
            ],
            [
             0.8888888888888888,
             "#fdca26"
            ],
            [
             1,
             "#f0f921"
            ]
           ],
           "sequentialminus": [
            [
             0,
             "#0d0887"
            ],
            [
             0.1111111111111111,
             "#46039f"
            ],
            [
             0.2222222222222222,
             "#7201a8"
            ],
            [
             0.3333333333333333,
             "#9c179e"
            ],
            [
             0.4444444444444444,
             "#bd3786"
            ],
            [
             0.5555555555555556,
             "#d8576b"
            ],
            [
             0.6666666666666666,
             "#ed7953"
            ],
            [
             0.7777777777777778,
             "#fb9f3a"
            ],
            [
             0.8888888888888888,
             "#fdca26"
            ],
            [
             1,
             "#f0f921"
            ]
           ]
          },
          "colorway": [
           "#636efa",
           "#EF553B",
           "#00cc96",
           "#ab63fa",
           "#FFA15A",
           "#19d3f3",
           "#FF6692",
           "#B6E880",
           "#FF97FF",
           "#FECB52"
          ],
          "font": {
           "color": "#f2f5fa"
          },
          "geo": {
           "bgcolor": "rgb(17,17,17)",
           "lakecolor": "rgb(17,17,17)",
           "landcolor": "rgb(17,17,17)",
           "showlakes": true,
           "showland": true,
           "subunitcolor": "#506784"
          },
          "hoverlabel": {
           "align": "left"
          },
          "hovermode": "closest",
          "mapbox": {
           "style": "dark"
          },
          "paper_bgcolor": "rgb(17,17,17)",
          "plot_bgcolor": "rgb(17,17,17)",
          "polar": {
           "angularaxis": {
            "gridcolor": "#506784",
            "linecolor": "#506784",
            "ticks": ""
           },
           "bgcolor": "rgb(17,17,17)",
           "radialaxis": {
            "gridcolor": "#506784",
            "linecolor": "#506784",
            "ticks": ""
           }
          },
          "scene": {
           "xaxis": {
            "backgroundcolor": "rgb(17,17,17)",
            "gridcolor": "#506784",
            "gridwidth": 2,
            "linecolor": "#506784",
            "showbackground": true,
            "ticks": "",
            "zerolinecolor": "#C8D4E3"
           },
           "yaxis": {
            "backgroundcolor": "rgb(17,17,17)",
            "gridcolor": "#506784",
            "gridwidth": 2,
            "linecolor": "#506784",
            "showbackground": true,
            "ticks": "",
            "zerolinecolor": "#C8D4E3"
           },
           "zaxis": {
            "backgroundcolor": "rgb(17,17,17)",
            "gridcolor": "#506784",
            "gridwidth": 2,
            "linecolor": "#506784",
            "showbackground": true,
            "ticks": "",
            "zerolinecolor": "#C8D4E3"
           }
          },
          "shapedefaults": {
           "line": {
            "color": "#f2f5fa"
           }
          },
          "sliderdefaults": {
           "bgcolor": "#C8D4E3",
           "bordercolor": "rgb(17,17,17)",
           "borderwidth": 1,
           "tickwidth": 0
          },
          "ternary": {
           "aaxis": {
            "gridcolor": "#506784",
            "linecolor": "#506784",
            "ticks": ""
           },
           "baxis": {
            "gridcolor": "#506784",
            "linecolor": "#506784",
            "ticks": ""
           },
           "bgcolor": "rgb(17,17,17)",
           "caxis": {
            "gridcolor": "#506784",
            "linecolor": "#506784",
            "ticks": ""
           }
          },
          "title": {
           "x": 0.05
          },
          "updatemenudefaults": {
           "bgcolor": "#506784",
           "borderwidth": 0
          },
          "xaxis": {
           "automargin": true,
           "gridcolor": "#283442",
           "linecolor": "#506784",
           "ticks": "",
           "title": {
            "standoff": 15
           },
           "zerolinecolor": "#283442",
           "zerolinewidth": 2
          },
          "yaxis": {
           "automargin": true,
           "gridcolor": "#283442",
           "linecolor": "#506784",
           "ticks": "",
           "title": {
            "standoff": 15
           },
           "zerolinecolor": "#283442",
           "zerolinewidth": 2
          }
         }
        },
        "title": {
         "text": "Resultados de Clustering Jerárquico (K=4)"
        },
        "xaxis": {
         "anchor": "y",
         "domain": [
          0,
          1
         ],
         "title": {
          "text": "X1"
         }
        },
        "yaxis": {
         "anchor": "x",
         "domain": [
          0,
          1
         ],
         "title": {
          "text": "X2"
         }
        }
       }
      }
     },
     "metadata": {},
     "output_type": "display_data"
    }
   ],
   "source": [
    "# --- 7. Aplicar AgglomerativeClustering con 4 clusters ---\n",
    "agg_cluster = AgglomerativeClustering(n_clusters=4, linkage='average')\n",
    "labels_agg = agg_cluster.fit_predict(X_blobs)\n",
    "\n",
    "# Visualizamos los resultados\n",
    "df_blobs['cluster_agg'] = labels_agg.astype(str)\n",
    "\n",
    "fig = px.scatter(df_blobs, x='X1', y='X2', color='cluster_agg', \n",
    "                 title='Resultados de Clustering Jerárquico (K=4)')\n",
    "fig.show()"
   ]
  },
  {
   "cell_type": "markdown",
   "metadata": {},
   "source": [
    "Para este tipo de datos, los resultados de K-Means y Clustering Jerárquico son muy similares, lo cual es de esperar."
   ]
  },
  {
   "cell_type": "markdown",
   "metadata": {},
   "source": [
    "## Sección 3: DBSCAN para Formas Complejas\n",
    "\n",
    "¿Qué pasa cuando los clusters no son esféricos? Aquí es donde K-Means y otros métodos similares fallan. Usaremos el dataset `make_moons` para demostrar la superioridad de DBSCAN en estos escenarios."
   ]
  },
  {
   "cell_type": "code",
   "execution_count": 10,
   "metadata": {},
   "outputs": [
    {
     "data": {
      "application/vnd.plotly.v1+json": {
       "config": {
        "plotlyServerURL": "https://plot.ly"
       },
       "data": [
        {
         "hovertemplate": "x=%{x}<br>y=%{y}<extra></extra>",
         "legendgroup": "",
         "marker": {
          "color": "lime",
          "symbol": "circle"
         },
         "mode": "markers",
         "name": "",
         "orientation": "v",
         "showlegend": false,
         "type": "scatter",
         "x": {
          "bdata": "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",
          "dtype": "f8"
         },
         "xaxis": "x",
         "y": {
          "bdata": "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",
          "dtype": "f8"
         },
         "yaxis": "y"
        }
       ],
       "layout": {
        "legend": {
         "tracegroupgap": 0
        },
        "template": {
         "data": {
          "bar": [
           {
            "error_x": {
             "color": "#f2f5fa"
            },
            "error_y": {
             "color": "#f2f5fa"
            },
            "marker": {
             "line": {
              "color": "rgb(17,17,17)",
              "width": 0.5
             },
             "pattern": {
              "fillmode": "overlay",
              "size": 10,
              "solidity": 0.2
             }
            },
            "type": "bar"
           }
          ],
          "barpolar": [
           {
            "marker": {
             "line": {
              "color": "rgb(17,17,17)",
              "width": 0.5
             },
             "pattern": {
              "fillmode": "overlay",
              "size": 10,
              "solidity": 0.2
             }
            },
            "type": "barpolar"
           }
          ],
          "carpet": [
           {
            "aaxis": {
             "endlinecolor": "#A2B1C6",
             "gridcolor": "#506784",
             "linecolor": "#506784",
             "minorgridcolor": "#506784",
             "startlinecolor": "#A2B1C6"
            },
            "baxis": {
             "endlinecolor": "#A2B1C6",
             "gridcolor": "#506784",
             "linecolor": "#506784",
             "minorgridcolor": "#506784",
             "startlinecolor": "#A2B1C6"
            },
            "type": "carpet"
           }
          ],
          "choropleth": [
           {
            "colorbar": {
             "outlinewidth": 0,
             "ticks": ""
            },
            "type": "choropleth"
           }
          ],
          "contour": [
           {
            "colorbar": {
             "outlinewidth": 0,
             "ticks": ""
            },
            "colorscale": [
             [
              0,
              "#0d0887"
             ],
             [
              0.1111111111111111,
              "#46039f"
             ],
             [
              0.2222222222222222,
              "#7201a8"
             ],
             [
              0.3333333333333333,
              "#9c179e"
             ],
             [
              0.4444444444444444,
              "#bd3786"
             ],
             [
              0.5555555555555556,
              "#d8576b"
             ],
             [
              0.6666666666666666,
              "#ed7953"
             ],
             [
              0.7777777777777778,
              "#fb9f3a"
             ],
             [
              0.8888888888888888,
              "#fdca26"
             ],
             [
              1,
              "#f0f921"
             ]
            ],
            "type": "contour"
           }
          ],
          "contourcarpet": [
           {
            "colorbar": {
             "outlinewidth": 0,
             "ticks": ""
            },
            "type": "contourcarpet"
           }
          ],
          "heatmap": [
           {
            "colorbar": {
             "outlinewidth": 0,
             "ticks": ""
            },
            "colorscale": [
             [
              0,
              "#0d0887"
             ],
             [
              0.1111111111111111,
              "#46039f"
             ],
             [
              0.2222222222222222,
              "#7201a8"
             ],
             [
              0.3333333333333333,
              "#9c179e"
             ],
             [
              0.4444444444444444,
              "#bd3786"
             ],
             [
              0.5555555555555556,
              "#d8576b"
             ],
             [
              0.6666666666666666,
              "#ed7953"
             ],
             [
              0.7777777777777778,
              "#fb9f3a"
             ],
             [
              0.8888888888888888,
              "#fdca26"
             ],
             [
              1,
              "#f0f921"
             ]
            ],
            "type": "heatmap"
           }
          ],
          "histogram": [
           {
            "marker": {
             "pattern": {
              "fillmode": "overlay",
              "size": 10,
              "solidity": 0.2
             }
            },
            "type": "histogram"
           }
          ],
          "histogram2d": [
           {
            "colorbar": {
             "outlinewidth": 0,
             "ticks": ""
            },
            "colorscale": [
             [
              0,
              "#0d0887"
             ],
             [
              0.1111111111111111,
              "#46039f"
             ],
             [
              0.2222222222222222,
              "#7201a8"
             ],
             [
              0.3333333333333333,
              "#9c179e"
             ],
             [
              0.4444444444444444,
              "#bd3786"
             ],
             [
              0.5555555555555556,
              "#d8576b"
             ],
             [
              0.6666666666666666,
              "#ed7953"
             ],
             [
              0.7777777777777778,
              "#fb9f3a"
             ],
             [
              0.8888888888888888,
              "#fdca26"
             ],
             [
              1,
              "#f0f921"
             ]
            ],
            "type": "histogram2d"
           }
          ],
          "histogram2dcontour": [
           {
            "colorbar": {
             "outlinewidth": 0,
             "ticks": ""
            },
            "colorscale": [
             [
              0,
              "#0d0887"
             ],
             [
              0.1111111111111111,
              "#46039f"
             ],
             [
              0.2222222222222222,
              "#7201a8"
             ],
             [
              0.3333333333333333,
              "#9c179e"
             ],
             [
              0.4444444444444444,
              "#bd3786"
             ],
             [
              0.5555555555555556,
              "#d8576b"
             ],
             [
              0.6666666666666666,
              "#ed7953"
             ],
             [
              0.7777777777777778,
              "#fb9f3a"
             ],
             [
              0.8888888888888888,
              "#fdca26"
             ],
             [
              1,
              "#f0f921"
             ]
            ],
            "type": "histogram2dcontour"
           }
          ],
          "mesh3d": [
           {
            "colorbar": {
             "outlinewidth": 0,
             "ticks": ""
            },
            "type": "mesh3d"
           }
          ],
          "parcoords": [
           {
            "line": {
             "colorbar": {
              "outlinewidth": 0,
              "ticks": ""
             }
            },
            "type": "parcoords"
           }
          ],
          "pie": [
           {
            "automargin": true,
            "type": "pie"
           }
          ],
          "scatter": [
           {
            "marker": {
             "line": {
              "color": "#283442"
             }
            },
            "type": "scatter"
           }
          ],
          "scatter3d": [
           {
            "line": {
             "colorbar": {
              "outlinewidth": 0,
              "ticks": ""
             }
            },
            "marker": {
             "colorbar": {
              "outlinewidth": 0,
              "ticks": ""
             }
            },
            "type": "scatter3d"
           }
          ],
          "scattercarpet": [
           {
            "marker": {
             "colorbar": {
              "outlinewidth": 0,
              "ticks": ""
             }
            },
            "type": "scattercarpet"
           }
          ],
          "scattergeo": [
           {
            "marker": {
             "colorbar": {
              "outlinewidth": 0,
              "ticks": ""
             }
            },
            "type": "scattergeo"
           }
          ],
          "scattergl": [
           {
            "marker": {
             "line": {
              "color": "#283442"
             }
            },
            "type": "scattergl"
           }
          ],
          "scattermap": [
           {
            "marker": {
             "colorbar": {
              "outlinewidth": 0,
              "ticks": ""
             }
            },
            "type": "scattermap"
           }
          ],
          "scattermapbox": [
           {
            "marker": {
             "colorbar": {
              "outlinewidth": 0,
              "ticks": ""
             }
            },
            "type": "scattermapbox"
           }
          ],
          "scatterpolar": [
           {
            "marker": {
             "colorbar": {
              "outlinewidth": 0,
              "ticks": ""
             }
            },
            "type": "scatterpolar"
           }
          ],
          "scatterpolargl": [
           {
            "marker": {
             "colorbar": {
              "outlinewidth": 0,
              "ticks": ""
             }
            },
            "type": "scatterpolargl"
           }
          ],
          "scatterternary": [
           {
            "marker": {
             "colorbar": {
              "outlinewidth": 0,
              "ticks": ""
             }
            },
            "type": "scatterternary"
           }
          ],
          "surface": [
           {
            "colorbar": {
             "outlinewidth": 0,
             "ticks": ""
            },
            "colorscale": [
             [
              0,
              "#0d0887"
             ],
             [
              0.1111111111111111,
              "#46039f"
             ],
             [
              0.2222222222222222,
              "#7201a8"
             ],
             [
              0.3333333333333333,
              "#9c179e"
             ],
             [
              0.4444444444444444,
              "#bd3786"
             ],
             [
              0.5555555555555556,
              "#d8576b"
             ],
             [
              0.6666666666666666,
              "#ed7953"
             ],
             [
              0.7777777777777778,
              "#fb9f3a"
             ],
             [
              0.8888888888888888,
              "#fdca26"
             ],
             [
              1,
              "#f0f921"
             ]
            ],
            "type": "surface"
           }
          ],
          "table": [
           {
            "cells": {
             "fill": {
              "color": "#506784"
             },
             "line": {
              "color": "rgb(17,17,17)"
             }
            },
            "header": {
             "fill": {
              "color": "#2a3f5f"
             },
             "line": {
              "color": "rgb(17,17,17)"
             }
            },
            "type": "table"
           }
          ]
         },
         "layout": {
          "annotationdefaults": {
           "arrowcolor": "#f2f5fa",
           "arrowhead": 0,
           "arrowwidth": 1
          },
          "autotypenumbers": "strict",
          "coloraxis": {
           "colorbar": {
            "outlinewidth": 0,
            "ticks": ""
           }
          },
          "colorscale": {
           "diverging": [
            [
             0,
             "#8e0152"
            ],
            [
             0.1,
             "#c51b7d"
            ],
            [
             0.2,
             "#de77ae"
            ],
            [
             0.3,
             "#f1b6da"
            ],
            [
             0.4,
             "#fde0ef"
            ],
            [
             0.5,
             "#f7f7f7"
            ],
            [
             0.6,
             "#e6f5d0"
            ],
            [
             0.7,
             "#b8e186"
            ],
            [
             0.8,
             "#7fbc41"
            ],
            [
             0.9,
             "#4d9221"
            ],
            [
             1,
             "#276419"
            ]
           ],
           "sequential": [
            [
             0,
             "#0d0887"
            ],
            [
             0.1111111111111111,
             "#46039f"
            ],
            [
             0.2222222222222222,
             "#7201a8"
            ],
            [
             0.3333333333333333,
             "#9c179e"
            ],
            [
             0.4444444444444444,
             "#bd3786"
            ],
            [
             0.5555555555555556,
             "#d8576b"
            ],
            [
             0.6666666666666666,
             "#ed7953"
            ],
            [
             0.7777777777777778,
             "#fb9f3a"
            ],
            [
             0.8888888888888888,
             "#fdca26"
            ],
            [
             1,
             "#f0f921"
            ]
           ],
           "sequentialminus": [
            [
             0,
             "#0d0887"
            ],
            [
             0.1111111111111111,
             "#46039f"
            ],
            [
             0.2222222222222222,
             "#7201a8"
            ],
            [
             0.3333333333333333,
             "#9c179e"
            ],
            [
             0.4444444444444444,
             "#bd3786"
            ],
            [
             0.5555555555555556,
             "#d8576b"
            ],
            [
             0.6666666666666666,
             "#ed7953"
            ],
            [
             0.7777777777777778,
             "#fb9f3a"
            ],
            [
             0.8888888888888888,
             "#fdca26"
            ],
            [
             1,
             "#f0f921"
            ]
           ]
          },
          "colorway": [
           "#636efa",
           "#EF553B",
           "#00cc96",
           "#ab63fa",
           "#FFA15A",
           "#19d3f3",
           "#FF6692",
           "#B6E880",
           "#FF97FF",
           "#FECB52"
          ],
          "font": {
           "color": "#f2f5fa"
          },
          "geo": {
           "bgcolor": "rgb(17,17,17)",
           "lakecolor": "rgb(17,17,17)",
           "landcolor": "rgb(17,17,17)",
           "showlakes": true,
           "showland": true,
           "subunitcolor": "#506784"
          },
          "hoverlabel": {
           "align": "left"
          },
          "hovermode": "closest",
          "mapbox": {
           "style": "dark"
          },
          "paper_bgcolor": "rgb(17,17,17)",
          "plot_bgcolor": "rgb(17,17,17)",
          "polar": {
           "angularaxis": {
            "gridcolor": "#506784",
            "linecolor": "#506784",
            "ticks": ""
           },
           "bgcolor": "rgb(17,17,17)",
           "radialaxis": {
            "gridcolor": "#506784",
            "linecolor": "#506784",
            "ticks": ""
           }
          },
          "scene": {
           "xaxis": {
            "backgroundcolor": "rgb(17,17,17)",
            "gridcolor": "#506784",
            "gridwidth": 2,
            "linecolor": "#506784",
            "showbackground": true,
            "ticks": "",
            "zerolinecolor": "#C8D4E3"
           },
           "yaxis": {
            "backgroundcolor": "rgb(17,17,17)",
            "gridcolor": "#506784",
            "gridwidth": 2,
            "linecolor": "#506784",
            "showbackground": true,
            "ticks": "",
            "zerolinecolor": "#C8D4E3"
           },
           "zaxis": {
            "backgroundcolor": "rgb(17,17,17)",
            "gridcolor": "#506784",
            "gridwidth": 2,
            "linecolor": "#506784",
            "showbackground": true,
            "ticks": "",
            "zerolinecolor": "#C8D4E3"
           }
          },
          "shapedefaults": {
           "line": {
            "color": "#f2f5fa"
           }
          },
          "sliderdefaults": {
           "bgcolor": "#C8D4E3",
           "bordercolor": "rgb(17,17,17)",
           "borderwidth": 1,
           "tickwidth": 0
          },
          "ternary": {
           "aaxis": {
            "gridcolor": "#506784",
            "linecolor": "#506784",
            "ticks": ""
           },
           "baxis": {
            "gridcolor": "#506784",
            "linecolor": "#506784",
            "ticks": ""
           },
           "bgcolor": "rgb(17,17,17)",
           "caxis": {
            "gridcolor": "#506784",
            "linecolor": "#506784",
            "ticks": ""
           }
          },
          "title": {
           "x": 0.05
          },
          "updatemenudefaults": {
           "bgcolor": "#506784",
           "borderwidth": 0
          },
          "xaxis": {
           "automargin": true,
           "gridcolor": "#283442",
           "linecolor": "#506784",
           "ticks": "",
           "title": {
            "standoff": 15
           },
           "zerolinecolor": "#283442",
           "zerolinewidth": 2
          },
          "yaxis": {
           "automargin": true,
           "gridcolor": "#283442",
           "linecolor": "#506784",
           "ticks": "",
           "title": {
            "standoff": 15
           },
           "zerolinecolor": "#283442",
           "zerolinewidth": 2
          }
         }
        },
        "title": {
         "text": "Dataset de las Dos Lunas"
        },
        "xaxis": {
         "anchor": "y",
         "domain": [
          0,
          1
         ],
         "title": {
          "text": "x"
         }
        },
        "yaxis": {
         "anchor": "x",
         "domain": [
          0,
          1
         ],
         "title": {
          "text": "y"
         }
        }
       }
      }
     },
     "metadata": {},
     "output_type": "display_data"
    }
   ],
   "source": [
    "# --- 8. Generar y escalar datos no esféricos ---\n",
    "X_moons, y_moons = make_moons(n_samples=250, noise=0.1, random_state=42)\n",
    "\n",
    "# DBSCAN es sensible a la escala, por lo que es crucial estandarizar los datos\n",
    "scaler = StandardScaler()\n",
    "X_moons_scaled = scaler.fit_transform(X_moons)\n",
    "\n",
    "# Visualizamos los datos\n",
    "fig = px.scatter(x=X_moons_scaled[:, 0], y=X_moons_scaled[:, 1], title='Dataset de las Dos Lunas')\n",
    "fig.update_traces(marker=dict(color='lime'))\n",
    "fig.show()"
   ]
  },
  {
   "cell_type": "markdown",
   "metadata": {},
   "source": [
    "### 3.1 El Fracaso de K-Means"
   ]
  },
  {
   "cell_type": "code",
   "execution_count": 11,
   "metadata": {},
   "outputs": [
    {
     "data": {
      "application/vnd.plotly.v1+json": {
       "config": {
        "plotlyServerURL": "https://plot.ly"
       },
       "data": [
        {
         "hovertemplate": "cluster_kmeans=0<br>X1=%{x}<br>X2=%{y}<extra></extra>",
         "legendgroup": "0",
         "marker": {
          "color": "#636efa",
          "symbol": "circle"
         },
         "mode": "markers",
         "name": "0",
         "orientation": "v",
         "showlegend": true,
         "type": "scatter",
         "x": {
          "bdata": "HFgzurA337+RPkhRFyr1v2Q8x4gEo9+/gmRdJbRp/L8UXhkiGp35v5bFwJCT1eu/6WrK8bCn4T/18Cmm7ybZP3o6OwcLGMs/+6GI2ohR+L8/jUp8ikTpv26CuQlmLrq/vPRrqlqT07+iJOSJ+FLSP/khOZs3rvu/vRj9Ba+3s7+BMjlYs/PWv1K+MhBwlcg/EuIC/vZD/L8j0l6O8LnfPzPd7eArePu/m2kLzafe9r8LT3OFqnj2v8X2yJUWCM8/ZOev8DSz3r9hquNWO/7ovwtA6xoX0NA/o7lzYf454r//1tR2xnr7v/0Yn3oGWOK/np8gFReB5r++3hPa2Pf7v8n/hLG1lPO/opcKaYNm4r/UtA08b/P3v8xfsU/XyOq/qcGDQ70f/L8jQn96lxLwv1Kv6OZyk++/GIAjo0tv3D8QAGcYd+Xmv4d+yBCYfeq/DJ37SsSf8r9pnTTPs2/Zv6G5Bc6ZX+G/1NYAz9Bj5b8GJXLRdEz5v64VpvqyL9u/60tP1mHiqj/7S21y3rC+P+ltfMgCSsg/E7H/fzmOUL+IpwWFsAjjP68ViJ055PW/VobbED1M+b/vsskcLVDcvwgW0V4Hw/S/+0o/kxSx37/vVoSasjXqv7NsHAVH8dC/1LFEl6uH/L8BuFDjIGrxv7hhz/8ZYtk/qbYatrcP6r9V9YxFos3wv215c4NYJse/qHq0jGzA+b8oq7tI0wbhv7qhrgtlPfe/lErAnK6U9L/alB2ir7/4v94/u55Lmaq/S7vOF7ru4b+G5FbaJZ/kvwdX43136ts/XaQZmUPG+r8hR2VJv+DYP57BM6Y/nuC/MTPGgp6J47+h2dmeKTLhvz9YeH/K4+2/xkcxy0gv5L9FFl/unIvlv2r43+U0DeS/2otAFNoDkz81CR9ywDjKv9dilxrm2fu/PX24Yyd51j9bkcX9lO/wv2hSBKsx4Lo/D2k6b9PynT8a+NDowlv1v/jzn2NDKsq/MbLjjGxW37/MxRlVcOL3v+1WeX2oGte/QJ7TjYnv478PWXsS+/G9v625nzdD8eu/Bad+RZzmyj9dsQ29WMb5v4jq8QJZOfi/ywSHAjMP878GzW9+kfXzvw5cn2SVpt2/RUFsecsu4L8aGASUKv7kv2DIe1I/0Oe/dh/Camo62b8G26EtSbvXv1E9l/VjVPi/Inwv9gBHwb/cJUnhYD/Zv/Sh2bF3E7i/1LwcBfgh9b+1qhJTHZ/dvyPRzXKict+/gwwYKiDaxL8/rjSMxjXOv8kO9INPZeO/XyetC8/61b+1WmVAy5r5v0hdmHbc7vu/Mw63lG/n9r+9iE0A+GHsv0bH36rnc+i/aj3m6+Vg/r8PkowKhdDsvyhFlzdXqfq/PiGfN1T497/QIYVnmxb2vw==",
          "dtype": "f8"
         },
         "xaxis": "x",
         "y": {
          "bdata": "rD5xMKAAzL+vhqyLfbLtP2cD+F+1KPM/c1DXHqSGzj96E7cZkZDlP2w09DQjePc//m8Xc90A6z9VPf4xfaHkPxEy1dKTvs8/IUOPmKIWzT//Z+eVZAv5PxXXsMT0f/U/5zsK6iMx9j+PoA9IGhbsPzfGGlTBjtm/kLBGEyJw7T9ipOfRmzPXvwPyrpjbxuA/+shYi7HkuL+vpcgav0DnP5kcEMEL2dW/JPs1Em3A5j/vDJucRZrCP4NEKWkTXdc/pXkGG7Fr179ou3fRzPX4P4Ef4oHQdO8/PgsF2kCBpT9qGb5ULGjavz0Yo6MUGpu/jwFlZK5L+j92z4t0IE7iv2dzCICoa/M/10adH06H5D+HuN3bnrjVP/GNw+4uM/o/a6T2DzJEzb8NwHRA/gvyP0wmtuRrWu8/a7TbOO1Q5D8LrLdUyKbRP0ziHRKIw/Q/inpqhwSA8T88UdI/CwT5P8b/lRyxcfg/Pv4dl4qZxr8lYcb9iXTVv/YrpZzAp6U/Oi5CnwWL5z9eQAUvXBb3P9gUTSPqRek/XKpRApQ68T9guzWrfSLkPzcNIPngcu0/xjCyKAmD1D+mCoc2oNP2P6nLtv7KF+w/7Xu19xXy0r9V8QLkPcbyP+OwOJYLRvI/CFJCLLalyj+RXeDjn3XwP8REagVxR+o/YFm9UMslvz/40i/D4zj2P7AkvBv9cfM/yN0F1ET97T/4yRGdcJ7bPy0ky7zILfU/EPd6qgJ/7z+BaqM9/EnZP1tyWJBuTPM/Yif+e6Td+T9zL6mSI/7Ev7pSbE0zu+U/mYUpghJ5179OMKl/RfHwP/8071M/wMS/yv/DAZ/R1b+hGFHalfv2P1p+2wVhBLC/Fwo/dnmO4D8n2JXXCdT4PwsXDlMUiPg/auivTPYX+z+gmb8N9zv5P7Ola4hbWNa/m+1FgTD56z9FQzKYY5vvPxpkpR8t6+c/hvHIunHv8j+4NMP2UvHlP5v9RZ/HyfU/yMRT5OEv0b9rbDqhpgXXP4mfyzEeXvQ/11zgt5XPoT/AyrAIkU/2P1zcDnK6WfU/mNt3/us16z+sv87b5Diyv7kXDuXPO/A/NVPPjUpS6T/dJ57nyuH1P+DoEMKSZPo/0ojyBUA1wz+z4318ooz2P8WpnW1S+uE//T54+9qk+D+i9X/nLJj3P/gmEY3lBNU/12RE2G338D8TWtzQhjr5P8royZPk2vc/GKj8WPWX8j/JlhtngX35P6XYpHs7uca/A4MDgO0v9j+EcALZhtb7PxvicbfGtsM/yRzrVVs3179DUZWeL9XhP4r8pSRU4ek/YW9uX+eg0r/+5/g2uDLyP1wEGR21uPw/p4e1y1pv3r8ZsC60LiL7PwuK1XrGetE/0T32OLkI5z9ZHBzWakvaPw==",
          "dtype": "f8"
         },
         "yaxis": "y"
        },
        {
         "hovertemplate": "cluster_kmeans=1<br>X1=%{x}<br>X2=%{y}<extra></extra>",
         "legendgroup": "1",
         "marker": {
          "color": "#EF553B",
          "symbol": "circle"
         },
         "mode": "markers",
         "name": "1",
         "orientation": "v",
         "showlegend": true,
         "type": "scatter",
         "x": {
          "bdata": "sEXmpVMQ5j9Xc6zrJOLIP/QCbhvpsO4/3OEWtlr+2T8NFMHnCPjjP/bTyUX0ZvA/fADl7KUv9j9Ht9W75ej5P9MVEp0v8/o/NUkn9PQP+j9H9daK393kP401hQy5J8A/n9QzKjHH/D/0+hw+GxDiP8SUd+pl/OI/FeRFHUBa7D8/Q/vqiUz3PxWVFABOvOc/LDP4S9TV2z/OF2MqNxLUvwbdCYQ4kNk/j1FiBalO9j8BXhVXcCq/PwuAIhfAyPo/evDVaBcd+T/4ODGKwOn0PzT5faZ5FtC/N4Sp32z/q79gx1MzL7b2P20RpTKJDvk/kqCEc2XgxL8xMwXaqFLNP5kyENPRFfw/3eyQt166zD9zmCjTKkP6P11ovHFGacK/MTTHdHWD+j+D630DCFPhPzQVzjpzH+c/YVaJBII3/D/ms6WeNeCmP4Gaj7sO9fI/eUKq2Xmz4T/X9WJXbzTzP1dxJUZdQvM/H3KcB3aA7T+GMP87PbnZvy9sYI4BgMy/JGm9NjFN/D87HKwsphbAv0+3sY7NZfk/rSQEvcEY1j9Y9HlKE0nhPxcbXF7gE92/WPrhCLBY+T8AvYkIx/CxP6+YGREZduc/bMkNFZ6Il7//tI8iyqDlP3W7DzK4nvs/aOWskzh38D+4oJCXWNrVv21cqkVaAOM/W91LDZAmzD9NFW/6mR/3P7Z4VX2ug/M/oFFbL1Vi5z8Y1cZhpsqHv+49LZnYrbW/KsxonhUx9D+C9KrpLXXRP4FcLS+O1/Y/Qh2M0uZT6D/SOV8eeNq0v31trGuO/Ng/fxSg5Z705z8GhC1NOPf7PyMdYmCh/eI/f7FXsXjP+T99OjHR2fJMv6eoJDF6PvI/Z46Xb9Y92j+otEUp37PCPzVflRv1yPk/VZvYwbBP/T9nZsVGo5PmP773VcPW59Q/XiHzwTLK9D+tg1QsSr/bP0VFb1SbNrM/8ogQVKp89z84mWZxuI3vPwOIz0bTPvo/lmr89fg0+T9W19y47+PaP6xC3/2cVPM/bkBz2Kt47D+LK5az4rT6PxC7eTPPnPI/N6uRMk0B+D93boSp83PBP9q5EVdNlt4/LODNu98+8z89gchD1KGmPzKikBPzUPs/mFmZozX50j83L26QUrbdP8jQXpzEe7W/zKOXIZJp+D+cYmzfkuLhP8yv9fMmu9C/4AsHORAT5j/GHWU2IsP1P41JvK8d1fA/CiDYugaI/D983d9ZuYfgP5Rgv+rZXN8/ULL5nesz4T+xh8LMRSnZPw==",
          "dtype": "f8"
         },
         "xaxis": "x",
         "y": {
          "bdata": "r+9sh8h6yL8mAw8ThE73vxwbpYmkjPa/aXRZmNSp+r+sUVb6h7qjPxCVbEPpofC/Ba+i+/9Y8L9hIykzsUfhv4XGOYZm36I/H/RtAZXA6r8n6UxKQgf0v6GReQe5vPS/HhU2ONiQ2D/zLm9iNuz2v1KgjXY7Otm/cs6Ge++p+L9PsDmLqZPxv6N6h2BcoPy/8WBOa6Ei/L8bNSRYLY7tv+xsTO8Ud/m/1qegGxHS5L890n/dqav0v/XcsFHWhOe/LcBveTkpxr8YRPRRNtrvv3qZJnbyf9m/BIoUDd+U7L8BoSWjEJvbv04NnoZsU92/9lVVCgaX6b83129cfLnyv02+PYGHY9Q/vjSmwYwB8L8QeWhPTWTTvzrcqVSX4Oi/+rNVLTOSyL+1YwxKb7zWvwc0PgtaBv6/p0zUUPMO0r88A4OYTuP2vzYOyGwXqfW/0bASgaPasD9oKHsxELPrvxuS16CqLey/DFipwHT08792UgGFtkvyvyVHIeu9FN6/Yp1iZsou1D+HnaZCw1H3vxirztLlAsc/jUmggAHC2L9TakCD0kzWv6tcRbFDkOe/dSrlm13o1T+yvs0hOQ35vzmsD7waj/e/vSinzhti8b+HP5KimQmovwqdE2T+N84/UXm1Rlz8+L9DzOpQOI/rv72KGQPCnbM/HgssmMdM+b/l+e532qi5v8xUaYyhCfa/hIqa09M89b/hD5m1RKz0v6LSj425aOi/ssJPUiJ38L82Xxz3+gr0vzKlJaabvfa/mpuZz4S2+L8UdOeUn1Txv10XOXAkC/i/ioB1LJa7vj/+Q2rSCU/jv/XrooGqjfe/19sErMdr1b9Prjf7QtP0v2qH95TfWfK/gqHhfPoP37/PJmt/KQf3vxLdOYVJs++/U30HTkim5L+9XLHHr6LSP6ec0IQtfLa/QeZXWFWV9b+CODuS92HAvwmhU1Y6LvO/MHlepEHE5b9jaHSM9I/zv3M3fqg+CuO/F4AMhJTg27+nmg/jTgLwv6eGIH3y3/a/ZB3PBRnx+b9lNziNHMHXP9WPAsOt/fG/cFsZGKPI6r8CPTX+sWX1v3LWHreCuc8/knfoEyXW8r/8aTfdlyXyv6+rFBFFLdM/qvnOWdo787/AT3VOrLX0v0MguYF4FfK/JDiJcL9+ub+TfpEBf23Pv4rxm5V5JuC/Hth0ZAgC97+SpV70i7/nv1IXd7eR9fS/Rvd7TcsP4T+l2Sm/wpTRP0jmXD4kZPe/rsUFAv/Puz9Smyslf7z7vw==",
          "dtype": "f8"
         },
         "yaxis": "y"
        }
       ],
       "layout": {
        "legend": {
         "title": {
          "text": "cluster_kmeans"
         },
         "tracegroupgap": 0
        },
        "template": {
         "data": {
          "bar": [
           {
            "error_x": {
             "color": "#f2f5fa"
            },
            "error_y": {
             "color": "#f2f5fa"
            },
            "marker": {
             "line": {
              "color": "rgb(17,17,17)",
              "width": 0.5
             },
             "pattern": {
              "fillmode": "overlay",
              "size": 10,
              "solidity": 0.2
             }
            },
            "type": "bar"
           }
          ],
          "barpolar": [
           {
            "marker": {
             "line": {
              "color": "rgb(17,17,17)",
              "width": 0.5
             },
             "pattern": {
              "fillmode": "overlay",
              "size": 10,
              "solidity": 0.2
             }
            },
            "type": "barpolar"
           }
          ],
          "carpet": [
           {
            "aaxis": {
             "endlinecolor": "#A2B1C6",
             "gridcolor": "#506784",
             "linecolor": "#506784",
             "minorgridcolor": "#506784",
             "startlinecolor": "#A2B1C6"
            },
            "baxis": {
             "endlinecolor": "#A2B1C6",
             "gridcolor": "#506784",
             "linecolor": "#506784",
             "minorgridcolor": "#506784",
             "startlinecolor": "#A2B1C6"
            },
            "type": "carpet"
           }
          ],
          "choropleth": [
           {
            "colorbar": {
             "outlinewidth": 0,
             "ticks": ""
            },
            "type": "choropleth"
           }
          ],
          "contour": [
           {
            "colorbar": {
             "outlinewidth": 0,
             "ticks": ""
            },
            "colorscale": [
             [
              0,
              "#0d0887"
             ],
             [
              0.1111111111111111,
              "#46039f"
             ],
             [
              0.2222222222222222,
              "#7201a8"
             ],
             [
              0.3333333333333333,
              "#9c179e"
             ],
             [
              0.4444444444444444,
              "#bd3786"
             ],
             [
              0.5555555555555556,
              "#d8576b"
             ],
             [
              0.6666666666666666,
              "#ed7953"
             ],
             [
              0.7777777777777778,
              "#fb9f3a"
             ],
             [
              0.8888888888888888,
              "#fdca26"
             ],
             [
              1,
              "#f0f921"
             ]
            ],
            "type": "contour"
           }
          ],
          "contourcarpet": [
           {
            "colorbar": {
             "outlinewidth": 0,
             "ticks": ""
            },
            "type": "contourcarpet"
           }
          ],
          "heatmap": [
           {
            "colorbar": {
             "outlinewidth": 0,
             "ticks": ""
            },
            "colorscale": [
             [
              0,
              "#0d0887"
             ],
             [
              0.1111111111111111,
              "#46039f"
             ],
             [
              0.2222222222222222,
              "#7201a8"
             ],
             [
              0.3333333333333333,
              "#9c179e"
             ],
             [
              0.4444444444444444,
              "#bd3786"
             ],
             [
              0.5555555555555556,
              "#d8576b"
             ],
             [
              0.6666666666666666,
              "#ed7953"
             ],
             [
              0.7777777777777778,
              "#fb9f3a"
             ],
             [
              0.8888888888888888,
              "#fdca26"
             ],
             [
              1,
              "#f0f921"
             ]
            ],
            "type": "heatmap"
           }
          ],
          "histogram": [
           {
            "marker": {
             "pattern": {
              "fillmode": "overlay",
              "size": 10,
              "solidity": 0.2
             }
            },
            "type": "histogram"
           }
          ],
          "histogram2d": [
           {
            "colorbar": {
             "outlinewidth": 0,
             "ticks": ""
            },
            "colorscale": [
             [
              0,
              "#0d0887"
             ],
             [
              0.1111111111111111,
              "#46039f"
             ],
             [
              0.2222222222222222,
              "#7201a8"
             ],
             [
              0.3333333333333333,
              "#9c179e"
             ],
             [
              0.4444444444444444,
              "#bd3786"
             ],
             [
              0.5555555555555556,
              "#d8576b"
             ],
             [
              0.6666666666666666,
              "#ed7953"
             ],
             [
              0.7777777777777778,
              "#fb9f3a"
             ],
             [
              0.8888888888888888,
              "#fdca26"
             ],
             [
              1,
              "#f0f921"
             ]
            ],
            "type": "histogram2d"
           }
          ],
          "histogram2dcontour": [
           {
            "colorbar": {
             "outlinewidth": 0,
             "ticks": ""
            },
            "colorscale": [
             [
              0,
              "#0d0887"
             ],
             [
              0.1111111111111111,
              "#46039f"
             ],
             [
              0.2222222222222222,
              "#7201a8"
             ],
             [
              0.3333333333333333,
              "#9c179e"
             ],
             [
              0.4444444444444444,
              "#bd3786"
             ],
             [
              0.5555555555555556,
              "#d8576b"
             ],
             [
              0.6666666666666666,
              "#ed7953"
             ],
             [
              0.7777777777777778,
              "#fb9f3a"
             ],
             [
              0.8888888888888888,
              "#fdca26"
             ],
             [
              1,
              "#f0f921"
             ]
            ],
            "type": "histogram2dcontour"
           }
          ],
          "mesh3d": [
           {
            "colorbar": {
             "outlinewidth": 0,
             "ticks": ""
            },
            "type": "mesh3d"
           }
          ],
          "parcoords": [
           {
            "line": {
             "colorbar": {
              "outlinewidth": 0,
              "ticks": ""
             }
            },
            "type": "parcoords"
           }
          ],
          "pie": [
           {
            "automargin": true,
            "type": "pie"
           }
          ],
          "scatter": [
           {
            "marker": {
             "line": {
              "color": "#283442"
             }
            },
            "type": "scatter"
           }
          ],
          "scatter3d": [
           {
            "line": {
             "colorbar": {
              "outlinewidth": 0,
              "ticks": ""
             }
            },
            "marker": {
             "colorbar": {
              "outlinewidth": 0,
              "ticks": ""
             }
            },
            "type": "scatter3d"
           }
          ],
          "scattercarpet": [
           {
            "marker": {
             "colorbar": {
              "outlinewidth": 0,
              "ticks": ""
             }
            },
            "type": "scattercarpet"
           }
          ],
          "scattergeo": [
           {
            "marker": {
             "colorbar": {
              "outlinewidth": 0,
              "ticks": ""
             }
            },
            "type": "scattergeo"
           }
          ],
          "scattergl": [
           {
            "marker": {
             "line": {
              "color": "#283442"
             }
            },
            "type": "scattergl"
           }
          ],
          "scattermap": [
           {
            "marker": {
             "colorbar": {
              "outlinewidth": 0,
              "ticks": ""
             }
            },
            "type": "scattermap"
           }
          ],
          "scattermapbox": [
           {
            "marker": {
             "colorbar": {
              "outlinewidth": 0,
              "ticks": ""
             }
            },
            "type": "scattermapbox"
           }
          ],
          "scatterpolar": [
           {
            "marker": {
             "colorbar": {
              "outlinewidth": 0,
              "ticks": ""
             }
            },
            "type": "scatterpolar"
           }
          ],
          "scatterpolargl": [
           {
            "marker": {
             "colorbar": {
              "outlinewidth": 0,
              "ticks": ""
             }
            },
            "type": "scatterpolargl"
           }
          ],
          "scatterternary": [
           {
            "marker": {
             "colorbar": {
              "outlinewidth": 0,
              "ticks": ""
             }
            },
            "type": "scatterternary"
           }
          ],
          "surface": [
           {
            "colorbar": {
             "outlinewidth": 0,
             "ticks": ""
            },
            "colorscale": [
             [
              0,
              "#0d0887"
             ],
             [
              0.1111111111111111,
              "#46039f"
             ],
             [
              0.2222222222222222,
              "#7201a8"
             ],
             [
              0.3333333333333333,
              "#9c179e"
             ],
             [
              0.4444444444444444,
              "#bd3786"
             ],
             [
              0.5555555555555556,
              "#d8576b"
             ],
             [
              0.6666666666666666,
              "#ed7953"
             ],
             [
              0.7777777777777778,
              "#fb9f3a"
             ],
             [
              0.8888888888888888,
              "#fdca26"
             ],
             [
              1,
              "#f0f921"
             ]
            ],
            "type": "surface"
           }
          ],
          "table": [
           {
            "cells": {
             "fill": {
              "color": "#506784"
             },
             "line": {
              "color": "rgb(17,17,17)"
             }
            },
            "header": {
             "fill": {
              "color": "#2a3f5f"
             },
             "line": {
              "color": "rgb(17,17,17)"
             }
            },
            "type": "table"
           }
          ]
         },
         "layout": {
          "annotationdefaults": {
           "arrowcolor": "#f2f5fa",
           "arrowhead": 0,
           "arrowwidth": 1
          },
          "autotypenumbers": "strict",
          "coloraxis": {
           "colorbar": {
            "outlinewidth": 0,
            "ticks": ""
           }
          },
          "colorscale": {
           "diverging": [
            [
             0,
             "#8e0152"
            ],
            [
             0.1,
             "#c51b7d"
            ],
            [
             0.2,
             "#de77ae"
            ],
            [
             0.3,
             "#f1b6da"
            ],
            [
             0.4,
             "#fde0ef"
            ],
            [
             0.5,
             "#f7f7f7"
            ],
            [
             0.6,
             "#e6f5d0"
            ],
            [
             0.7,
             "#b8e186"
            ],
            [
             0.8,
             "#7fbc41"
            ],
            [
             0.9,
             "#4d9221"
            ],
            [
             1,
             "#276419"
            ]
           ],
           "sequential": [
            [
             0,
             "#0d0887"
            ],
            [
             0.1111111111111111,
             "#46039f"
            ],
            [
             0.2222222222222222,
             "#7201a8"
            ],
            [
             0.3333333333333333,
             "#9c179e"
            ],
            [
             0.4444444444444444,
             "#bd3786"
            ],
            [
             0.5555555555555556,
             "#d8576b"
            ],
            [
             0.6666666666666666,
             "#ed7953"
            ],
            [
             0.7777777777777778,
             "#fb9f3a"
            ],
            [
             0.8888888888888888,
             "#fdca26"
            ],
            [
             1,
             "#f0f921"
            ]
           ],
           "sequentialminus": [
            [
             0,
             "#0d0887"
            ],
            [
             0.1111111111111111,
             "#46039f"
            ],
            [
             0.2222222222222222,
             "#7201a8"
            ],
            [
             0.3333333333333333,
             "#9c179e"
            ],
            [
             0.4444444444444444,
             "#bd3786"
            ],
            [
             0.5555555555555556,
             "#d8576b"
            ],
            [
             0.6666666666666666,
             "#ed7953"
            ],
            [
             0.7777777777777778,
             "#fb9f3a"
            ],
            [
             0.8888888888888888,
             "#fdca26"
            ],
            [
             1,
             "#f0f921"
            ]
           ]
          },
          "colorway": [
           "#636efa",
           "#EF553B",
           "#00cc96",
           "#ab63fa",
           "#FFA15A",
           "#19d3f3",
           "#FF6692",
           "#B6E880",
           "#FF97FF",
           "#FECB52"
          ],
          "font": {
           "color": "#f2f5fa"
          },
          "geo": {
           "bgcolor": "rgb(17,17,17)",
           "lakecolor": "rgb(17,17,17)",
           "landcolor": "rgb(17,17,17)",
           "showlakes": true,
           "showland": true,
           "subunitcolor": "#506784"
          },
          "hoverlabel": {
           "align": "left"
          },
          "hovermode": "closest",
          "mapbox": {
           "style": "dark"
          },
          "paper_bgcolor": "rgb(17,17,17)",
          "plot_bgcolor": "rgb(17,17,17)",
          "polar": {
           "angularaxis": {
            "gridcolor": "#506784",
            "linecolor": "#506784",
            "ticks": ""
           },
           "bgcolor": "rgb(17,17,17)",
           "radialaxis": {
            "gridcolor": "#506784",
            "linecolor": "#506784",
            "ticks": ""
           }
          },
          "scene": {
           "xaxis": {
            "backgroundcolor": "rgb(17,17,17)",
            "gridcolor": "#506784",
            "gridwidth": 2,
            "linecolor": "#506784",
            "showbackground": true,
            "ticks": "",
            "zerolinecolor": "#C8D4E3"
           },
           "yaxis": {
            "backgroundcolor": "rgb(17,17,17)",
            "gridcolor": "#506784",
            "gridwidth": 2,
            "linecolor": "#506784",
            "showbackground": true,
            "ticks": "",
            "zerolinecolor": "#C8D4E3"
           },
           "zaxis": {
            "backgroundcolor": "rgb(17,17,17)",
            "gridcolor": "#506784",
            "gridwidth": 2,
            "linecolor": "#506784",
            "showbackground": true,
            "ticks": "",
            "zerolinecolor": "#C8D4E3"
           }
          },
          "shapedefaults": {
           "line": {
            "color": "#f2f5fa"
           }
          },
          "sliderdefaults": {
           "bgcolor": "#C8D4E3",
           "bordercolor": "rgb(17,17,17)",
           "borderwidth": 1,
           "tickwidth": 0
          },
          "ternary": {
           "aaxis": {
            "gridcolor": "#506784",
            "linecolor": "#506784",
            "ticks": ""
           },
           "baxis": {
            "gridcolor": "#506784",
            "linecolor": "#506784",
            "ticks": ""
           },
           "bgcolor": "rgb(17,17,17)",
           "caxis": {
            "gridcolor": "#506784",
            "linecolor": "#506784",
            "ticks": ""
           }
          },
          "title": {
           "x": 0.05
          },
          "updatemenudefaults": {
           "bgcolor": "#506784",
           "borderwidth": 0
          },
          "xaxis": {
           "automargin": true,
           "gridcolor": "#283442",
           "linecolor": "#506784",
           "ticks": "",
           "title": {
            "standoff": 15
           },
           "zerolinecolor": "#283442",
           "zerolinewidth": 2
          },
          "yaxis": {
           "automargin": true,
           "gridcolor": "#283442",
           "linecolor": "#506784",
           "ticks": "",
           "title": {
            "standoff": 15
           },
           "zerolinecolor": "#283442",
           "zerolinewidth": 2
          }
         }
        },
        "title": {
         "text": "Resultado de K-Means en el Dataset de Lunas"
        },
        "xaxis": {
         "anchor": "y",
         "domain": [
          0,
          1
         ],
         "title": {
          "text": "X1"
         }
        },
        "yaxis": {
         "anchor": "x",
         "domain": [
          0,
          1
         ],
         "title": {
          "text": "X2"
         }
        }
       }
      }
     },
     "metadata": {},
     "output_type": "display_data"
    }
   ],
   "source": [
    "# --- 9. Aplicar K-Means a los datos de las lunas ---\n",
    "kmeans_moons = KMeans(n_clusters=2, n_init=10, random_state=42)\n",
    "labels_kmeans_moons = kmeans_moons.fit_predict(X_moons_scaled)\n",
    "\n",
    "df_moons = pd.DataFrame(X_moons_scaled, columns=['X1', 'X2'])\n",
    "df_moons['cluster_kmeans'] = labels_kmeans_moons.astype(str)\n",
    "\n",
    "fig = px.scatter(df_moons, x='X1', y='X2', color='cluster_kmeans',\n",
    "                 title='Resultado de K-Means en el Dataset de Lunas')\n",
    "fig.show()"
   ]
  },
  {
   "cell_type": "markdown",
   "metadata": {},
   "source": [
    "Como podemos ver, K-Means falla. Simplemente divide los datos por la mitad, ya que su suposición de clusters esféricos no se cumple.\n",
    "\n",
    "### 3.2 El Éxito de DBSCAN"
   ]
  },
  {
   "cell_type": "code",
   "execution_count": 12,
   "metadata": {},
   "outputs": [
    {
     "data": {
      "application/vnd.plotly.v1+json": {
       "config": {
        "plotlyServerURL": "https://plot.ly"
       },
       "data": [
        {
         "hovertemplate": "cluster_dbscan=0<br>X1=%{x}<br>X2=%{y}<extra></extra>",
         "legendgroup": "0",
         "marker": {
          "color": "cyan",
          "symbol": "circle"
         },
         "mode": "markers",
         "name": "0",
         "orientation": "v",
         "showlegend": true,
         "type": "scatter",
         "x": {
          "bdata": "HFgzurA3379Xc6zrJOLIP/QCbhvpsO4/3OEWtlr+2T/208lF9GbwP3wA5eylL/Y/R7fVu+Xo+T/TFRKdL/P6PzVJJ/T0D/o/R/XWit/d5D+NNYUMuSfAP5/UMyoxx/w/9PocPhsQ4j8V5EUdQFrsP4EyOViz89a/P0P76olM9z8VlRQATrznPywz+EvU1ds/zhdjKjcS1L8G3QmEOJDZP49RYgWpTvY/ZOev8DSz3r8BXhVXcCq/P6O5c2H+OeK/C4AiF8DI+j968NVoFx35P/0Yn3oGWOK/+DgxisDp9D80+X2meRbQvzeEqd9s/6u/YMdTMy+29j9tEaUyiQ75P5KghHNl4MS/opcKaYNm4r8xMwXaqFLNP5kyENPRFfw/3eyQt166zD9zmCjTKkP6P11ovHFGacK/MTTHdHWD+j8QAGcYd+XmvzQVzjpzH+c/YVaJBII3/D/ms6WeNeCmP9TWAM/QY+W/gZqPuw718j+uFab6si/bv9f1YldvNPM/V3ElRl1C8z/7Sj+TFLHfvx9ynAd2gO0/hjD/Oz252b8vbGCOAYDMvyRpvTYxTfw/OxysLKYWwL9Pt7GOzWX5P6m2Gra3D+q/KKu7SNMG4b8XG1xe4BPdv1j64QiwWPk/AL2JCMfwsT+vmBkRGXbnP2zJDRWeiJe/huRW2iWf5L91uw8yuJ77P2jlrJM4d/A/uKCQl1ja1b+ewTOmP57gv1vdSw2QJsw/MTPGgp6J478/WHh/yuPtv8ZHMctIL+S/TRVv+pkf9z+2eFV9roPzP6BRWy9VYuc/GNXGYabKh7/uPS2Z2K21vyrMaJ4VMfQ/gvSq6S110T+BXC0vjtf2P0IdjNLmU+g/0jlfHnjatL8xsuOMbFbfv31trGuO/Ng/QJ7TjYnv478GhC1NOPf7PyMdYmCh/eI/f7FXsXjP+T99OjHR2fJMv6eoJDF6PvI/qLRFKd+zwj81X5Ub9cj5P1Wb2MGwT/0/XiHzwTLK9D9FQWx5yy7gv0VFb1SbNrM/8ogQVKp89z9gyHtSP9DnvziZZnG4je8/A4jPRtM++j+Wavz1+DT5P1bX3Ljv49o/rELf/ZxU8z9uQHPYq3jsP4srlrPitPo/ELt5M8+c8j83q5EyTQH4P3duhKnzc8E/LODNu98+8z89gchD1KGmPzKikBPzUPs/mFmZozX50j83L26QUrbdPyPRzXKict+/yNBenMR7tb/Mo5chkmn4P8yv9fMmu9C/yQ70g09l479fJ60Lz/rVv+ALBzkQE+Y/xh1lNiLD9T+NSbyvHdXwPwog2LoGiPw/lGC/6tlc3z+xh8LMRSnZPw==",
          "dtype": "f8"
         },
         "xaxis": "x",
         "y": {
          "bdata": "rD5xMKAAzL8mAw8ThE73vxwbpYmkjPa/aXRZmNSp+r8QlWxD6aHwvwWvovv/WPC/YSMpM7FH4b+FxjmGZt+iPx/0bQGVwOq/J+lMSkIH9L+hkXkHubz0vx4VNjjYkNg/8y5vYjbs9r9yzoZ776n4v2Kk59GbM9e/T7A5i6mT8b+jeodgXKD8v/FgTmuhIvy/GzUkWC2O7b/sbEzvFHf5v9anoBsR0uS/pXkGG7Fr17890n/dqav0vz4LBdpAgaU/9dywUdaE578twG95OSnGvz0Yo6MUGpu/GET0UTba7796mSZ28n/ZvwSKFA3flOy/AaEloxCb279ODZ6GbFPdv/ZVVQoGl+m/10adH06H5D83129cfLnyv02+PYGHY9Q/vjSmwYwB8L8QeWhPTWTTvzrcqVSX4Oi/+rNVLTOSyL8LrLdUyKbRPwc0PgtaBv6/p0zUUPMO0r88A4OYTuP2vz7+HZeKmca/Ng7IbBep9b/2K6WcwKelP2goezEQs+u/G5LXoKot7L/te7X3FfLSvwxYqcB09PO/dlIBhbZL8r8lRyHrvRTev2KdYmbKLtQ/h52mQsNR978Yq87S5QLHP2BZvVDLJb8/+MkRnXCe2z+rXEWxQ5Dnv3Uq5Ztd6NU/sr7NITkN+b85rA+8Go/3v70op84bYvG/cy+pkiP+xL8KnRNk/jfOP1F5tUZc/Pi/Q8zqUDiP67//NO9TP8DEvx4LLJjHTPm/yv/DAZ/R1b9aftsFYQSwvxcKP3Z5juA/5fnud9qoub/MVGmMoQn2v4SKmtPTPPW/4Q+ZtUSs9L+i0o+NuWjov7LCT1Iid/C/Nl8c9/oK9L8ypSWmm732v5qbmc+Etvi/FHTnlJ9U8b/IxFPk4S/Rv10XOXAkC/i/11zgt5XPoT/+Q2rSCU/jv/XrooGqjfe/19sErMdr1b9Prjf7QtP0v2qH95TfWfK/zyZrfykH978S3TmFSbPvv1N9B05IpuS/QeZXWFWV9b/SiPIFQDXDPwmhU1Y6LvO/MHlepEHE5b/FqZ1tUvrhP2NodIz0j/O/czd+qD4K478XgAyElODbv6eaD+NOAvC/p4YgffLf9r9kHc8FGfH5v2U3OI0cwdc/1Y8Cw6398b9wWxkYo8jqvwI9Nf6xZfW/knfoEyXW8r/8aTfdlyXyv6+rFBFFLdM/qvnOWdo787/AT3VOrLX0v6XYpHs7uca/QyC5gXgV8r8kOIlwv365v4rxm5V5JuC/G+Jxt8a2wz/JHOtVWzfXvx7YdGQIAve/kqVe9Iu/579SF3e3kfX0v0b3e03LD+E/SOZcPiRk979Smyslf7z7vw==",
          "dtype": "f8"
         },
         "yaxis": "y"
        },
        {
         "hovertemplate": "cluster_dbscan=1<br>X1=%{x}<br>X2=%{y}<extra></extra>",
         "legendgroup": "1",
         "marker": {
          "color": "magenta",
          "symbol": "circle"
         },
         "mode": "markers",
         "name": "1",
         "orientation": "v",
         "showlegend": true,
         "type": "scatter",
         "x": {
          "bdata": "sEXmpVMQ5j+RPkhRFyr1v2Q8x4gEo9+/gmRdJbRp/L8NFMHnCPjjPxReGSIanfm/lsXAkJPV67/pasrxsKfhP/XwKabvJtk/ejo7BwsYyz/7oYjaiFH4vz+NSnyKROm/boK5CWYuur+89GuqWpPTv8SUd+pl/OI/oiTkifhS0j/5ITmbN677v70Y/QWvt7O/Ur4yEHCVyD8S4gL+9kP8vyPSXo7wud8/M93t4Ct4+7+baQvNp972vwtPc4WqePa/xfbIlRYIzz9hquNWO/7ovwtA6xoX0NA//9bUdsZ6+7+enyAVF4Hmv77eE9rY9/u/yf+EsbWU87/UtA08b/P3v8xfsU/XyOq/qcGDQ70f/L8jQn96lxLwv1Kv6OZyk++/GIAjo0tv3D+HfsgQmH3qvwyd+0rEn/K/g+t9AwhT4T9pnTTPs2/Zv6G5Bc6ZX+G/BiVy0XRM+b/rS0/WYeKqP3lCqtl5s+E/+0ttct6wvj/pbXzIAkrIPxOx/385jlC/iKcFhbAI4z+vFYidOeT1v1aG2xA9TPm/77LJHC1Q3L8IFtFeB8P0v+9WhJqyNeq/s2wcBUfx0L/UsUSXq4f8vwG4UOMgavG/uGHP/xli2T+tJAS9wRjWP1j0eUoTSeE/VfWMRaLN8L9teXODWCbHv6h6tIxswPm/uqGuC2U997+USsCcrpT0v9qUHaKvv/i/3j+7nkuZqr9Lu84Xuu7hv/+0jyLKoOU/B1fjfXfq2z9tXKpFWgDjP12kGZlDxvq/IUdlSb/g2D+h2dmeKTLhv0UWX+6ci+W/avjf5TQN5L/ai0AU2gOTPzUJH3LAOMq/12KXGubZ+789fbhjJ3nWP1uRxf2U7/C/aFIEqzHguj8PaTpv0/KdPxr40OjCW/W/+POfY0Mqyr9/FKDlnvTnP8zFGVVw4ve/7VZ5faga178PWXsS+/G9v625nzdD8eu/Bad+RZzmyj9njpdv1j3aP12xDb1Yxvm/iOrxAlk5+L/LBIcCMw/zvwbNb36R9fO/Z2bFRqOT5j++91XD1ufUPw5cn2SVpt2/rYNULEq/2z8aGASUKv7kv3YfwmpqOtm/BtuhLUm7179RPZf1Y1T4vyJ8L/YAR8G/3CVJ4WA/2b/0odmxdxO4v9S8HAX4IfW/2rkRV02W3j+1qhJTHZ/dv4MMGCog2sS/nGJs35Li4T8/rjSMxjXOv7VaZUDLmvm/SF2Ydtzu+78zDreUb+f2v72ITQD4Yey/Rsffqudz6L9qPebr5WD+v3zd31m5h+A/D5KMCoXQ7L8oRZc3V6n6v1Cy+Z3rM+E/PiGfN1T497/QIYVnmxb2vw==",
          "dtype": "f8"
         },
         "xaxis": "x",
         "y": {
          "bdata": "r+9sh8h6yL+vhqyLfbLtP2cD+F+1KPM/c1DXHqSGzj+sUVb6h7qjP3oTtxmRkOU/bDT0NCN49z/+bxdz3QDrP1U9/jF9oeQ/ETLV0pO+zz8hQ4+YohbNP/9n55VkC/k/FdewxPR/9T/nOwrqIzH2P1KgjXY7Otm/j6APSBoW7D83xhpUwY7Zv5CwRhMicO0/A/KumNvG4D/6yFiLseS4v6+lyBq/QOc/mRwQwQvZ1b8k+zUSbcDmP+8Mm5xFmsI/g0QpaRNd1z9ou3fRzPX4P4Ef4oHQdO8/ahm+VCxo2r+PAWVkrkv6P3bPi3QgTuK/Z3MIgKhr8z+HuN3bnrjVP/GNw+4uM/o/a6T2DzJEzb8NwHRA/gvyP0wmtuRrWu8/a7TbOO1Q5D9M4h0SiMP0P4p6aocEgPE/tWMMSm+81r88UdI/CwT5P8b/lRyxcfg/JWHG/Yl01b86LkKfBYvnP9GwEoGj2rA/XkAFL1wW9z/YFE0j6kXpP1yqUQKUOvE/YLs1q30i5D83DSD54HLtP8YwsigJg9Q/pgqHNqDT9j+py7b+yhfsP1XxAuQ9xvI/47A4lgtG8j8IUkIstqXKP5Fd4OOfdfA/xERqBXFH6j+NSaCAAcLYv1NqQIPSTNa/+NIvw+M49j+wJLwb/XHzP8jdBdRE/e0/LSTLvMgt9T8Q93qqAn/vP4Fqoz38Sdk/W3JYkG5M8z9iJ/57pN35P4c/kqKZCai/ulJsTTO75T+9ihkDwp2zP5mFKYISede/TjCpf0Xx8D+hGFHalfv2PyfYldcJ1Pg/CxcOUxSI+D9q6K9M9hf7P6CZvw33O/k/s6VriFtY1r+b7UWBMPnrP0VDMphjm+8/GmSlHy3r5z+G8ci6ce/yP7g0w/ZS8eU/m/1Fn8fJ9T+KgHUslru+P2tsOqGmBdc/iZ/LMR5e9D/AyrAIkU/2P1zcDnK6WfU/mNt3/us16z+CoeF8+g/fv6y/ztvkOLK/uRcO5c878D81U8+NSlLpP90nnufK4fU/vVyxx6+i0j+nnNCELXy2v+DoEMKSZPo/gjg7kvdhwL+z4318ooz2P/0+ePvapPg/ovV/5yyY9z/4JhGN5QTVP9dkRNht9/A/E1rc0IY6+T/K6MmT5Nr3Pxio/Fj1l/I/ctYet4K5zz/JlhtngX35PwODA4DtL/Y/k36RAX9tz7+EcALZhtb7P0NRlZ4v1eE/ivylJFTh6T9hb25f56DSv/7n+Da4MvI/XAQZHbW4/D+nh7XLWm/ev6XZKb/ClNE/GbAutC4i+z8LitV6xnrRP67FBQL/z7s/0T32OLkI5z9ZHBzWakvaPw==",
          "dtype": "f8"
         },
         "yaxis": "y"
        }
       ],
       "layout": {
        "legend": {
         "title": {
          "text": "cluster_dbscan"
         },
         "tracegroupgap": 0
        },
        "template": {
         "data": {
          "bar": [
           {
            "error_x": {
             "color": "#f2f5fa"
            },
            "error_y": {
             "color": "#f2f5fa"
            },
            "marker": {
             "line": {
              "color": "rgb(17,17,17)",
              "width": 0.5
             },
             "pattern": {
              "fillmode": "overlay",
              "size": 10,
              "solidity": 0.2
             }
            },
            "type": "bar"
           }
          ],
          "barpolar": [
           {
            "marker": {
             "line": {
              "color": "rgb(17,17,17)",
              "width": 0.5
             },
             "pattern": {
              "fillmode": "overlay",
              "size": 10,
              "solidity": 0.2
             }
            },
            "type": "barpolar"
           }
          ],
          "carpet": [
           {
            "aaxis": {
             "endlinecolor": "#A2B1C6",
             "gridcolor": "#506784",
             "linecolor": "#506784",
             "minorgridcolor": "#506784",
             "startlinecolor": "#A2B1C6"
            },
            "baxis": {
             "endlinecolor": "#A2B1C6",
             "gridcolor": "#506784",
             "linecolor": "#506784",
             "minorgridcolor": "#506784",
             "startlinecolor": "#A2B1C6"
            },
            "type": "carpet"
           }
          ],
          "choropleth": [
           {
            "colorbar": {
             "outlinewidth": 0,
             "ticks": ""
            },
            "type": "choropleth"
           }
          ],
          "contour": [
           {
            "colorbar": {
             "outlinewidth": 0,
             "ticks": ""
            },
            "colorscale": [
             [
              0,
              "#0d0887"
             ],
             [
              0.1111111111111111,
              "#46039f"
             ],
             [
              0.2222222222222222,
              "#7201a8"
             ],
             [
              0.3333333333333333,
              "#9c179e"
             ],
             [
              0.4444444444444444,
              "#bd3786"
             ],
             [
              0.5555555555555556,
              "#d8576b"
             ],
             [
              0.6666666666666666,
              "#ed7953"
             ],
             [
              0.7777777777777778,
              "#fb9f3a"
             ],
             [
              0.8888888888888888,
              "#fdca26"
             ],
             [
              1,
              "#f0f921"
             ]
            ],
            "type": "contour"
           }
          ],
          "contourcarpet": [
           {
            "colorbar": {
             "outlinewidth": 0,
             "ticks": ""
            },
            "type": "contourcarpet"
           }
          ],
          "heatmap": [
           {
            "colorbar": {
             "outlinewidth": 0,
             "ticks": ""
            },
            "colorscale": [
             [
              0,
              "#0d0887"
             ],
             [
              0.1111111111111111,
              "#46039f"
             ],
             [
              0.2222222222222222,
              "#7201a8"
             ],
             [
              0.3333333333333333,
              "#9c179e"
             ],
             [
              0.4444444444444444,
              "#bd3786"
             ],
             [
              0.5555555555555556,
              "#d8576b"
             ],
             [
              0.6666666666666666,
              "#ed7953"
             ],
             [
              0.7777777777777778,
              "#fb9f3a"
             ],
             [
              0.8888888888888888,
              "#fdca26"
             ],
             [
              1,
              "#f0f921"
             ]
            ],
            "type": "heatmap"
           }
          ],
          "histogram": [
           {
            "marker": {
             "pattern": {
              "fillmode": "overlay",
              "size": 10,
              "solidity": 0.2
             }
            },
            "type": "histogram"
           }
          ],
          "histogram2d": [
           {
            "colorbar": {
             "outlinewidth": 0,
             "ticks": ""
            },
            "colorscale": [
             [
              0,
              "#0d0887"
             ],
             [
              0.1111111111111111,
              "#46039f"
             ],
             [
              0.2222222222222222,
              "#7201a8"
             ],
             [
              0.3333333333333333,
              "#9c179e"
             ],
             [
              0.4444444444444444,
              "#bd3786"
             ],
             [
              0.5555555555555556,
              "#d8576b"
             ],
             [
              0.6666666666666666,
              "#ed7953"
             ],
             [
              0.7777777777777778,
              "#fb9f3a"
             ],
             [
              0.8888888888888888,
              "#fdca26"
             ],
             [
              1,
              "#f0f921"
             ]
            ],
            "type": "histogram2d"
           }
          ],
          "histogram2dcontour": [
           {
            "colorbar": {
             "outlinewidth": 0,
             "ticks": ""
            },
            "colorscale": [
             [
              0,
              "#0d0887"
             ],
             [
              0.1111111111111111,
              "#46039f"
             ],
             [
              0.2222222222222222,
              "#7201a8"
             ],
             [
              0.3333333333333333,
              "#9c179e"
             ],
             [
              0.4444444444444444,
              "#bd3786"
             ],
             [
              0.5555555555555556,
              "#d8576b"
             ],
             [
              0.6666666666666666,
              "#ed7953"
             ],
             [
              0.7777777777777778,
              "#fb9f3a"
             ],
             [
              0.8888888888888888,
              "#fdca26"
             ],
             [
              1,
              "#f0f921"
             ]
            ],
            "type": "histogram2dcontour"
           }
          ],
          "mesh3d": [
           {
            "colorbar": {
             "outlinewidth": 0,
             "ticks": ""
            },
            "type": "mesh3d"
           }
          ],
          "parcoords": [
           {
            "line": {
             "colorbar": {
              "outlinewidth": 0,
              "ticks": ""
             }
            },
            "type": "parcoords"
           }
          ],
          "pie": [
           {
            "automargin": true,
            "type": "pie"
           }
          ],
          "scatter": [
           {
            "marker": {
             "line": {
              "color": "#283442"
             }
            },
            "type": "scatter"
           }
          ],
          "scatter3d": [
           {
            "line": {
             "colorbar": {
              "outlinewidth": 0,
              "ticks": ""
             }
            },
            "marker": {
             "colorbar": {
              "outlinewidth": 0,
              "ticks": ""
             }
            },
            "type": "scatter3d"
           }
          ],
          "scattercarpet": [
           {
            "marker": {
             "colorbar": {
              "outlinewidth": 0,
              "ticks": ""
             }
            },
            "type": "scattercarpet"
           }
          ],
          "scattergeo": [
           {
            "marker": {
             "colorbar": {
              "outlinewidth": 0,
              "ticks": ""
             }
            },
            "type": "scattergeo"
           }
          ],
          "scattergl": [
           {
            "marker": {
             "line": {
              "color": "#283442"
             }
            },
            "type": "scattergl"
           }
          ],
          "scattermap": [
           {
            "marker": {
             "colorbar": {
              "outlinewidth": 0,
              "ticks": ""
             }
            },
            "type": "scattermap"
           }
          ],
          "scattermapbox": [
           {
            "marker": {
             "colorbar": {
              "outlinewidth": 0,
              "ticks": ""
             }
            },
            "type": "scattermapbox"
           }
          ],
          "scatterpolar": [
           {
            "marker": {
             "colorbar": {
              "outlinewidth": 0,
              "ticks": ""
             }
            },
            "type": "scatterpolar"
           }
          ],
          "scatterpolargl": [
           {
            "marker": {
             "colorbar": {
              "outlinewidth": 0,
              "ticks": ""
             }
            },
            "type": "scatterpolargl"
           }
          ],
          "scatterternary": [
           {
            "marker": {
             "colorbar": {
              "outlinewidth": 0,
              "ticks": ""
             }
            },
            "type": "scatterternary"
           }
          ],
          "surface": [
           {
            "colorbar": {
             "outlinewidth": 0,
             "ticks": ""
            },
            "colorscale": [
             [
              0,
              "#0d0887"
             ],
             [
              0.1111111111111111,
              "#46039f"
             ],
             [
              0.2222222222222222,
              "#7201a8"
             ],
             [
              0.3333333333333333,
              "#9c179e"
             ],
             [
              0.4444444444444444,
              "#bd3786"
             ],
             [
              0.5555555555555556,
              "#d8576b"
             ],
             [
              0.6666666666666666,
              "#ed7953"
             ],
             [
              0.7777777777777778,
              "#fb9f3a"
             ],
             [
              0.8888888888888888,
              "#fdca26"
             ],
             [
              1,
              "#f0f921"
             ]
            ],
            "type": "surface"
           }
          ],
          "table": [
           {
            "cells": {
             "fill": {
              "color": "#506784"
             },
             "line": {
              "color": "rgb(17,17,17)"
             }
            },
            "header": {
             "fill": {
              "color": "#2a3f5f"
             },
             "line": {
              "color": "rgb(17,17,17)"
             }
            },
            "type": "table"
           }
          ]
         },
         "layout": {
          "annotationdefaults": {
           "arrowcolor": "#f2f5fa",
           "arrowhead": 0,
           "arrowwidth": 1
          },
          "autotypenumbers": "strict",
          "coloraxis": {
           "colorbar": {
            "outlinewidth": 0,
            "ticks": ""
           }
          },
          "colorscale": {
           "diverging": [
            [
             0,
             "#8e0152"
            ],
            [
             0.1,
             "#c51b7d"
            ],
            [
             0.2,
             "#de77ae"
            ],
            [
             0.3,
             "#f1b6da"
            ],
            [
             0.4,
             "#fde0ef"
            ],
            [
             0.5,
             "#f7f7f7"
            ],
            [
             0.6,
             "#e6f5d0"
            ],
            [
             0.7,
             "#b8e186"
            ],
            [
             0.8,
             "#7fbc41"
            ],
            [
             0.9,
             "#4d9221"
            ],
            [
             1,
             "#276419"
            ]
           ],
           "sequential": [
            [
             0,
             "#0d0887"
            ],
            [
             0.1111111111111111,
             "#46039f"
            ],
            [
             0.2222222222222222,
             "#7201a8"
            ],
            [
             0.3333333333333333,
             "#9c179e"
            ],
            [
             0.4444444444444444,
             "#bd3786"
            ],
            [
             0.5555555555555556,
             "#d8576b"
            ],
            [
             0.6666666666666666,
             "#ed7953"
            ],
            [
             0.7777777777777778,
             "#fb9f3a"
            ],
            [
             0.8888888888888888,
             "#fdca26"
            ],
            [
             1,
             "#f0f921"
            ]
           ],
           "sequentialminus": [
            [
             0,
             "#0d0887"
            ],
            [
             0.1111111111111111,
             "#46039f"
            ],
            [
             0.2222222222222222,
             "#7201a8"
            ],
            [
             0.3333333333333333,
             "#9c179e"
            ],
            [
             0.4444444444444444,
             "#bd3786"
            ],
            [
             0.5555555555555556,
             "#d8576b"
            ],
            [
             0.6666666666666666,
             "#ed7953"
            ],
            [
             0.7777777777777778,
             "#fb9f3a"
            ],
            [
             0.8888888888888888,
             "#fdca26"
            ],
            [
             1,
             "#f0f921"
            ]
           ]
          },
          "colorway": [
           "#636efa",
           "#EF553B",
           "#00cc96",
           "#ab63fa",
           "#FFA15A",
           "#19d3f3",
           "#FF6692",
           "#B6E880",
           "#FF97FF",
           "#FECB52"
          ],
          "font": {
           "color": "#f2f5fa"
          },
          "geo": {
           "bgcolor": "rgb(17,17,17)",
           "lakecolor": "rgb(17,17,17)",
           "landcolor": "rgb(17,17,17)",
           "showlakes": true,
           "showland": true,
           "subunitcolor": "#506784"
          },
          "hoverlabel": {
           "align": "left"
          },
          "hovermode": "closest",
          "mapbox": {
           "style": "dark"
          },
          "paper_bgcolor": "rgb(17,17,17)",
          "plot_bgcolor": "rgb(17,17,17)",
          "polar": {
           "angularaxis": {
            "gridcolor": "#506784",
            "linecolor": "#506784",
            "ticks": ""
           },
           "bgcolor": "rgb(17,17,17)",
           "radialaxis": {
            "gridcolor": "#506784",
            "linecolor": "#506784",
            "ticks": ""
           }
          },
          "scene": {
           "xaxis": {
            "backgroundcolor": "rgb(17,17,17)",
            "gridcolor": "#506784",
            "gridwidth": 2,
            "linecolor": "#506784",
            "showbackground": true,
            "ticks": "",
            "zerolinecolor": "#C8D4E3"
           },
           "yaxis": {
            "backgroundcolor": "rgb(17,17,17)",
            "gridcolor": "#506784",
            "gridwidth": 2,
            "linecolor": "#506784",
            "showbackground": true,
            "ticks": "",
            "zerolinecolor": "#C8D4E3"
           },
           "zaxis": {
            "backgroundcolor": "rgb(17,17,17)",
            "gridcolor": "#506784",
            "gridwidth": 2,
            "linecolor": "#506784",
            "showbackground": true,
            "ticks": "",
            "zerolinecolor": "#C8D4E3"
           }
          },
          "shapedefaults": {
           "line": {
            "color": "#f2f5fa"
           }
          },
          "sliderdefaults": {
           "bgcolor": "#C8D4E3",
           "bordercolor": "rgb(17,17,17)",
           "borderwidth": 1,
           "tickwidth": 0
          },
          "ternary": {
           "aaxis": {
            "gridcolor": "#506784",
            "linecolor": "#506784",
            "ticks": ""
           },
           "baxis": {
            "gridcolor": "#506784",
            "linecolor": "#506784",
            "ticks": ""
           },
           "bgcolor": "rgb(17,17,17)",
           "caxis": {
            "gridcolor": "#506784",
            "linecolor": "#506784",
            "ticks": ""
           }
          },
          "title": {
           "x": 0.05
          },
          "updatemenudefaults": {
           "bgcolor": "#506784",
           "borderwidth": 0
          },
          "xaxis": {
           "automargin": true,
           "gridcolor": "#283442",
           "linecolor": "#506784",
           "ticks": "",
           "title": {
            "standoff": 15
           },
           "zerolinecolor": "#283442",
           "zerolinewidth": 2
          },
          "yaxis": {
           "automargin": true,
           "gridcolor": "#283442",
           "linecolor": "#506784",
           "ticks": "",
           "title": {
            "standoff": 15
           },
           "zerolinecolor": "#283442",
           "zerolinewidth": 2
          }
         }
        },
        "title": {
         "text": "Resultado de DBSCAN en el Dataset de Lunas"
        },
        "xaxis": {
         "anchor": "y",
         "domain": [
          0,
          1
         ],
         "title": {
          "text": "X1"
         }
        },
        "yaxis": {
         "anchor": "x",
         "domain": [
          0,
          1
         ],
         "title": {
          "text": "X2"
         }
        }
       }
      }
     },
     "metadata": {},
     "output_type": "display_data"
    }
   ],
   "source": [
    "# --- 10. Aplicar DBSCAN a los datos de las lunas ---\n",
    "# La elección de `eps` y `min_samples` es crucial.\n",
    "dbscan = DBSCAN(eps=0.3, min_samples=5)\n",
    "labels_dbscan = dbscan.fit_predict(X_moons_scaled)\n",
    "\n",
    "# Los labels -1 corresponden a ruido/outliers\n",
    "df_moons['cluster_dbscan'] = labels_dbscan.astype(str)\n",
    "\n",
    "fig = px.scatter(df_moons, x='X1', y='X2', color='cluster_dbscan',\n",
    "                 title='Resultado de DBSCAN en el Dataset de Lunas',\n",
    "                 color_discrete_map={'-1': 'red', '0': 'cyan', '1': 'magenta'})\n",
    "fig.show()"
   ]
  },
  {
   "cell_type": "markdown",
   "metadata": {},
   "source": [
    "¡Éxito! DBSCAN identifica correctamente las dos lunas como clusters separados. También identifica algunos puntos como ruido (en rojo), lo cual es una de sus grandes ventajas."
   ]
  },
  {
   "cell_type": "markdown",
   "metadata": {},
   "source": [
    "## Sección 4: Desafíos y Ejercicios\n",
    "\n",
    "Hora de experimentar. Utilizá este notebook como base para resolver los siguientes ejercicios."
   ]
  },
  {
   "cell_type": "markdown",
   "metadata": {},
   "source": [
    "1.  **K-Means - Variando Datos:** Volvé a generar los datos de `make_blobs`, pero esta vez con `cluster_std=1.5`. ¿Cómo afecta una mayor desviación estándar a los resultados de K-Means? ¿El coeficiente de silueta empeora? ¿Por qué?\n",
    "\n",
    "2.  **K-Means - Importancia de `n_init`:** Ejecutá K-Means en los datos originales de `make_blobs` con `n_init=1` múltiples veces. ¿Obtienes siempre la misma inercia? Compara estos resultados con `n_init=10` o `n_init=20`.\n",
    "\n",
    "3.  **K-Means - Silueta para K:** En lugar del método del codo, utilizá el coeficiente de silueta para encontrar el `K` óptimo. Itera a través de un rango de `K` (por ejemplo, de 2 a 10), calcula el `silhouette_score` para cada `K` y grafica los resultados. ¿El `K` que maximiza la silueta coincide con el del método del codo?\n",
    "\n",
    "4.  **Jerárquico - Linkage:** Cambiá el método de enlace a `'single'` y `'complete'`. ¿Cómo cambian los dendrogramas? ¿Cuál te parece más interpretable para estos datos y por qué?\n",
    "\n",
    "5.  **Jerárquico - Cortes del Dendrograma:** Utilizando el dendrograma original, modificá la altura del corte (`y` en `plt.axhline`) para obtener 2, 3 y 5 clusters. Describí qué grupos se fusionan o se dividen en cada paso.\n",
    "\n",
    "6.  **Aplicación General - Dataset Iris:** Importá el famoso dataset Iris de `sklearn.datasets`. Contiene 3 clases de flores. Aplica K-Means (con K=3), Clustering Jerárquico (cortando para obtener 3 clusters) y DBSCAN. ¿Cuál funciona mejor y por qué?\n",
    "\n",
    "7.  **DBSCAN - Hiperparámetros:** Experimentá con diferentes valores de `eps` (ej. 0.1, 0.5, 1.0) y `min_samples` (ej. 2, 10, 20). ¿Cómo afectan los resultados? ¿Qué pasa si `eps` es muy grande o muy pequeño?"
   ]
  },
  {
   "cell_type": "markdown",
   "metadata": {},
   "source": [
    "### 1 Variando datos"
   ]
  },
  {
   "cell_type": "code",
   "execution_count": 16,
   "metadata": {},
   "outputs": [
    {
     "data": {
      "application/vnd.plotly.v1+json": {
       "config": {
        "plotlyServerURL": "https://plot.ly"
       },
       "data": [
        {
         "hovertemplate": "x=%{x}<br>y=%{y}<extra></extra>",
         "legendgroup": "",
         "marker": {
          "color": "cyan",
          "symbol": "circle"
         },
         "mode": "markers",
         "name": "",
         "orientation": "v",
         "showlegend": false,
         "type": "scatter",
         "x": {
          "bdata": "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",
          "dtype": "f8"
         },
         "xaxis": "x",
         "y": {
          "bdata": "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",
          "dtype": "f8"
         },
         "yaxis": "y"
        }
       ],
       "layout": {
        "legend": {
         "tracegroupgap": 0
        },
        "template": {
         "data": {
          "bar": [
           {
            "error_x": {
             "color": "#f2f5fa"
            },
            "error_y": {
             "color": "#f2f5fa"
            },
            "marker": {
             "line": {
              "color": "rgb(17,17,17)",
              "width": 0.5
             },
             "pattern": {
              "fillmode": "overlay",
              "size": 10,
              "solidity": 0.2
             }
            },
            "type": "bar"
           }
          ],
          "barpolar": [
           {
            "marker": {
             "line": {
              "color": "rgb(17,17,17)",
              "width": 0.5
             },
             "pattern": {
              "fillmode": "overlay",
              "size": 10,
              "solidity": 0.2
             }
            },
            "type": "barpolar"
           }
          ],
          "carpet": [
           {
            "aaxis": {
             "endlinecolor": "#A2B1C6",
             "gridcolor": "#506784",
             "linecolor": "#506784",
             "minorgridcolor": "#506784",
             "startlinecolor": "#A2B1C6"
            },
            "baxis": {
             "endlinecolor": "#A2B1C6",
             "gridcolor": "#506784",
             "linecolor": "#506784",
             "minorgridcolor": "#506784",
             "startlinecolor": "#A2B1C6"
            },
            "type": "carpet"
           }
          ],
          "choropleth": [
           {
            "colorbar": {
             "outlinewidth": 0,
             "ticks": ""
            },
            "type": "choropleth"
           }
          ],
          "contour": [
           {
            "colorbar": {
             "outlinewidth": 0,
             "ticks": ""
            },
            "colorscale": [
             [
              0,
              "#0d0887"
             ],
             [
              0.1111111111111111,
              "#46039f"
             ],
             [
              0.2222222222222222,
              "#7201a8"
             ],
             [
              0.3333333333333333,
              "#9c179e"
             ],
             [
              0.4444444444444444,
              "#bd3786"
             ],
             [
              0.5555555555555556,
              "#d8576b"
             ],
             [
              0.6666666666666666,
              "#ed7953"
             ],
             [
              0.7777777777777778,
              "#fb9f3a"
             ],
             [
              0.8888888888888888,
              "#fdca26"
             ],
             [
              1,
              "#f0f921"
             ]
            ],
            "type": "contour"
           }
          ],
          "contourcarpet": [
           {
            "colorbar": {
             "outlinewidth": 0,
             "ticks": ""
            },
            "type": "contourcarpet"
           }
          ],
          "heatmap": [
           {
            "colorbar": {
             "outlinewidth": 0,
             "ticks": ""
            },
            "colorscale": [
             [
              0,
              "#0d0887"
             ],
             [
              0.1111111111111111,
              "#46039f"
             ],
             [
              0.2222222222222222,
              "#7201a8"
             ],
             [
              0.3333333333333333,
              "#9c179e"
             ],
             [
              0.4444444444444444,
              "#bd3786"
             ],
             [
              0.5555555555555556,
              "#d8576b"
             ],
             [
              0.6666666666666666,
              "#ed7953"
             ],
             [
              0.7777777777777778,
              "#fb9f3a"
             ],
             [
              0.8888888888888888,
              "#fdca26"
             ],
             [
              1,
              "#f0f921"
             ]
            ],
            "type": "heatmap"
           }
          ],
          "histogram": [
           {
            "marker": {
             "pattern": {
              "fillmode": "overlay",
              "size": 10,
              "solidity": 0.2
             }
            },
            "type": "histogram"
           }
          ],
          "histogram2d": [
           {
            "colorbar": {
             "outlinewidth": 0,
             "ticks": ""
            },
            "colorscale": [
             [
              0,
              "#0d0887"
             ],
             [
              0.1111111111111111,
              "#46039f"
             ],
             [
              0.2222222222222222,
              "#7201a8"
             ],
             [
              0.3333333333333333,
              "#9c179e"
             ],
             [
              0.4444444444444444,
              "#bd3786"
             ],
             [
              0.5555555555555556,
              "#d8576b"
             ],
             [
              0.6666666666666666,
              "#ed7953"
             ],
             [
              0.7777777777777778,
              "#fb9f3a"
             ],
             [
              0.8888888888888888,
              "#fdca26"
             ],
             [
              1,
              "#f0f921"
             ]
            ],
            "type": "histogram2d"
           }
          ],
          "histogram2dcontour": [
           {
            "colorbar": {
             "outlinewidth": 0,
             "ticks": ""
            },
            "colorscale": [
             [
              0,
              "#0d0887"
             ],
             [
              0.1111111111111111,
              "#46039f"
             ],
             [
              0.2222222222222222,
              "#7201a8"
             ],
             [
              0.3333333333333333,
              "#9c179e"
             ],
             [
              0.4444444444444444,
              "#bd3786"
             ],
             [
              0.5555555555555556,
              "#d8576b"
             ],
             [
              0.6666666666666666,
              "#ed7953"
             ],
             [
              0.7777777777777778,
              "#fb9f3a"
             ],
             [
              0.8888888888888888,
              "#fdca26"
             ],
             [
              1,
              "#f0f921"
             ]
            ],
            "type": "histogram2dcontour"
           }
          ],
          "mesh3d": [
           {
            "colorbar": {
             "outlinewidth": 0,
             "ticks": ""
            },
            "type": "mesh3d"
           }
          ],
          "parcoords": [
           {
            "line": {
             "colorbar": {
              "outlinewidth": 0,
              "ticks": ""
             }
            },
            "type": "parcoords"
           }
          ],
          "pie": [
           {
            "automargin": true,
            "type": "pie"
           }
          ],
          "scatter": [
           {
            "marker": {
             "line": {
              "color": "#283442"
             }
            },
            "type": "scatter"
           }
          ],
          "scatter3d": [
           {
            "line": {
             "colorbar": {
              "outlinewidth": 0,
              "ticks": ""
             }
            },
            "marker": {
             "colorbar": {
              "outlinewidth": 0,
              "ticks": ""
             }
            },
            "type": "scatter3d"
           }
          ],
          "scattercarpet": [
           {
            "marker": {
             "colorbar": {
              "outlinewidth": 0,
              "ticks": ""
             }
            },
            "type": "scattercarpet"
           }
          ],
          "scattergeo": [
           {
            "marker": {
             "colorbar": {
              "outlinewidth": 0,
              "ticks": ""
             }
            },
            "type": "scattergeo"
           }
          ],
          "scattergl": [
           {
            "marker": {
             "line": {
              "color": "#283442"
             }
            },
            "type": "scattergl"
           }
          ],
          "scattermap": [
           {
            "marker": {
             "colorbar": {
              "outlinewidth": 0,
              "ticks": ""
             }
            },
            "type": "scattermap"
           }
          ],
          "scattermapbox": [
           {
            "marker": {
             "colorbar": {
              "outlinewidth": 0,
              "ticks": ""
             }
            },
            "type": "scattermapbox"
           }
          ],
          "scatterpolar": [
           {
            "marker": {
             "colorbar": {
              "outlinewidth": 0,
              "ticks": ""
             }
            },
            "type": "scatterpolar"
           }
          ],
          "scatterpolargl": [
           {
            "marker": {
             "colorbar": {
              "outlinewidth": 0,
              "ticks": ""
             }
            },
            "type": "scatterpolargl"
           }
          ],
          "scatterternary": [
           {
            "marker": {
             "colorbar": {
              "outlinewidth": 0,
              "ticks": ""
             }
            },
            "type": "scatterternary"
           }
          ],
          "surface": [
           {
            "colorbar": {
             "outlinewidth": 0,
             "ticks": ""
            },
            "colorscale": [
             [
              0,
              "#0d0887"
             ],
             [
              0.1111111111111111,
              "#46039f"
             ],
             [
              0.2222222222222222,
              "#7201a8"
             ],
             [
              0.3333333333333333,
              "#9c179e"
             ],
             [
              0.4444444444444444,
              "#bd3786"
             ],
             [
              0.5555555555555556,
              "#d8576b"
             ],
             [
              0.6666666666666666,
              "#ed7953"
             ],
             [
              0.7777777777777778,
              "#fb9f3a"
             ],
             [
              0.8888888888888888,
              "#fdca26"
             ],
             [
              1,
              "#f0f921"
             ]
            ],
            "type": "surface"
           }
          ],
          "table": [
           {
            "cells": {
             "fill": {
              "color": "#506784"
             },
             "line": {
              "color": "rgb(17,17,17)"
             }
            },
            "header": {
             "fill": {
              "color": "#2a3f5f"
             },
             "line": {
              "color": "rgb(17,17,17)"
             }
            },
            "type": "table"
           }
          ]
         },
         "layout": {
          "annotationdefaults": {
           "arrowcolor": "#f2f5fa",
           "arrowhead": 0,
           "arrowwidth": 1
          },
          "autotypenumbers": "strict",
          "coloraxis": {
           "colorbar": {
            "outlinewidth": 0,
            "ticks": ""
           }
          },
          "colorscale": {
           "diverging": [
            [
             0,
             "#8e0152"
            ],
            [
             0.1,
             "#c51b7d"
            ],
            [
             0.2,
             "#de77ae"
            ],
            [
             0.3,
             "#f1b6da"
            ],
            [
             0.4,
             "#fde0ef"
            ],
            [
             0.5,
             "#f7f7f7"
            ],
            [
             0.6,
             "#e6f5d0"
            ],
            [
             0.7,
             "#b8e186"
            ],
            [
             0.8,
             "#7fbc41"
            ],
            [
             0.9,
             "#4d9221"
            ],
            [
             1,
             "#276419"
            ]
           ],
           "sequential": [
            [
             0,
             "#0d0887"
            ],
            [
             0.1111111111111111,
             "#46039f"
            ],
            [
             0.2222222222222222,
             "#7201a8"
            ],
            [
             0.3333333333333333,
             "#9c179e"
            ],
            [
             0.4444444444444444,
             "#bd3786"
            ],
            [
             0.5555555555555556,
             "#d8576b"
            ],
            [
             0.6666666666666666,
             "#ed7953"
            ],
            [
             0.7777777777777778,
             "#fb9f3a"
            ],
            [
             0.8888888888888888,
             "#fdca26"
            ],
            [
             1,
             "#f0f921"
            ]
           ],
           "sequentialminus": [
            [
             0,
             "#0d0887"
            ],
            [
             0.1111111111111111,
             "#46039f"
            ],
            [
             0.2222222222222222,
             "#7201a8"
            ],
            [
             0.3333333333333333,
             "#9c179e"
            ],
            [
             0.4444444444444444,
             "#bd3786"
            ],
            [
             0.5555555555555556,
             "#d8576b"
            ],
            [
             0.6666666666666666,
             "#ed7953"
            ],
            [
             0.7777777777777778,
             "#fb9f3a"
            ],
            [
             0.8888888888888888,
             "#fdca26"
            ],
            [
             1,
             "#f0f921"
            ]
           ]
          },
          "colorway": [
           "#636efa",
           "#EF553B",
           "#00cc96",
           "#ab63fa",
           "#FFA15A",
           "#19d3f3",
           "#FF6692",
           "#B6E880",
           "#FF97FF",
           "#FECB52"
          ],
          "font": {
           "color": "#f2f5fa"
          },
          "geo": {
           "bgcolor": "rgb(17,17,17)",
           "lakecolor": "rgb(17,17,17)",
           "landcolor": "rgb(17,17,17)",
           "showlakes": true,
           "showland": true,
           "subunitcolor": "#506784"
          },
          "hoverlabel": {
           "align": "left"
          },
          "hovermode": "closest",
          "mapbox": {
           "style": "dark"
          },
          "paper_bgcolor": "rgb(17,17,17)",
          "plot_bgcolor": "rgb(17,17,17)",
          "polar": {
           "angularaxis": {
            "gridcolor": "#506784",
            "linecolor": "#506784",
            "ticks": ""
           },
           "bgcolor": "rgb(17,17,17)",
           "radialaxis": {
            "gridcolor": "#506784",
            "linecolor": "#506784",
            "ticks": ""
           }
          },
          "scene": {
           "xaxis": {
            "backgroundcolor": "rgb(17,17,17)",
            "gridcolor": "#506784",
            "gridwidth": 2,
            "linecolor": "#506784",
            "showbackground": true,
            "ticks": "",
            "zerolinecolor": "#C8D4E3"
           },
           "yaxis": {
            "backgroundcolor": "rgb(17,17,17)",
            "gridcolor": "#506784",
            "gridwidth": 2,
            "linecolor": "#506784",
            "showbackground": true,
            "ticks": "",
            "zerolinecolor": "#C8D4E3"
           },
           "zaxis": {
            "backgroundcolor": "rgb(17,17,17)",
            "gridcolor": "#506784",
            "gridwidth": 2,
            "linecolor": "#506784",
            "showbackground": true,
            "ticks": "",
            "zerolinecolor": "#C8D4E3"
           }
          },
          "shapedefaults": {
           "line": {
            "color": "#f2f5fa"
           }
          },
          "sliderdefaults": {
           "bgcolor": "#C8D4E3",
           "bordercolor": "rgb(17,17,17)",
           "borderwidth": 1,
           "tickwidth": 0
          },
          "ternary": {
           "aaxis": {
            "gridcolor": "#506784",
            "linecolor": "#506784",
            "ticks": ""
           },
           "baxis": {
            "gridcolor": "#506784",
            "linecolor": "#506784",
            "ticks": ""
           },
           "bgcolor": "rgb(17,17,17)",
           "caxis": {
            "gridcolor": "#506784",
            "linecolor": "#506784",
            "ticks": ""
           }
          },
          "title": {
           "x": 0.05
          },
          "updatemenudefaults": {
           "bgcolor": "#506784",
           "borderwidth": 0
          },
          "xaxis": {
           "automargin": true,
           "gridcolor": "#283442",
           "linecolor": "#506784",
           "ticks": "",
           "title": {
            "standoff": 15
           },
           "zerolinecolor": "#283442",
           "zerolinewidth": 2
          },
          "yaxis": {
           "automargin": true,
           "gridcolor": "#283442",
           "linecolor": "#506784",
           "ticks": "",
           "title": {
            "standoff": 15
           },
           "zerolinecolor": "#283442",
           "zerolinewidth": 2
          }
         }
        },
        "title": {
         "text": "Dataset Sintético (sin etiquetar)"
        },
        "xaxis": {
         "anchor": "y",
         "domain": [
          0,
          1
         ],
         "title": {
          "text": "x"
         }
        },
        "yaxis": {
         "anchor": "x",
         "domain": [
          0,
          1
         ],
         "title": {
          "text": "y"
         }
        }
       }
      }
     },
     "metadata": {},
     "output_type": "display_data"
    }
   ],
   "source": [
    "# --- 2. Generación y Visualización de Datos ---\n",
    "# Creamos un dataset con 300 muestras, 4 centros (clusters) y una desviación estándar de 0.8\n",
    "X_blobs_nuevo, y_blobs_nuevo = make_blobs(n_samples=300,\n",
    "                              centers=4,\n",
    "                              cluster_std=1.5,\n",
    "                              random_state=42,\n",
    "                              # centers=[[0, 0], [6, 6], [1, 7], [7, 0]],\n",
    "                              # cluster_std=1.0,\n",
    "                              )\n",
    "\n",
    "# Visualizamos los datos sin etiquetas para simular un problema no supervisado\n",
    "fig = px.scatter(x=X_blobs_nuevo[:, 0], y=X_blobs_nuevo[:, 1], title=\"Dataset Sintético (sin etiquetar)\")\n",
    "fig.update_traces(marker=dict(color='cyan'))\n",
    "fig.show()"
   ]
  },
  {
   "cell_type": "markdown",
   "metadata": {},
   "source": [
    "### Al tener una mayor std los clusteres no se ven tan cohesionados, es de esperarse tambien que el coeficiente de silueta este mas alejado de 1 todavía."
   ]
  },
  {
   "cell_type": "code",
   "execution_count": 17,
   "metadata": {},
   "outputs": [
    {
     "data": {
      "application/vnd.plotly.v1+json": {
       "config": {
        "plotlyServerURL": "https://plot.ly"
       },
       "data": [
        {
         "hovertemplate": "Número de Clusters (K)=%{x}<br>Inercia (WCSS)=%{y}<extra></extra>",
         "legendgroup": "",
         "line": {
          "color": "#636efa",
          "dash": "solid"
         },
         "marker": {
          "symbol": "circle"
         },
         "mode": "lines+markers",
         "name": "",
         "orientation": "v",
         "showlegend": false,
         "type": "scatter",
         "x": {
          "bdata": "AQIDBAUGBwgJCg==",
          "dtype": "i1"
         },
         "xaxis": "x",
         "y": {
          "bdata": "aoUb+9Ua1EDVuDmXIcjDQMr6MnB8xaVAzQnOF2mNk0D/TBge5aGRQPryDw8CmI9A9T42u20TjEDw9XQ2s7WJQHRQrkm2XoZAk7UsZfUshEA=",
          "dtype": "f8"
         },
         "yaxis": "y"
        }
       ],
       "layout": {
        "annotations": [
         {
          "showarrow": false,
          "text": "Codo en K=4",
          "x": 4,
          "xanchor": "left",
          "xref": "x",
          "y": 1,
          "yanchor": "top",
          "yref": "y domain"
         }
        ],
        "legend": {
         "tracegroupgap": 0
        },
        "shapes": [
         {
          "line": {
           "color": "red",
           "dash": "dash",
           "width": 3
          },
          "type": "line",
          "x0": 4,
          "x1": 4,
          "xref": "x",
          "y0": 0,
          "y1": 1,
          "yref": "y domain"
         }
        ],
        "template": {
         "data": {
          "bar": [
           {
            "error_x": {
             "color": "#f2f5fa"
            },
            "error_y": {
             "color": "#f2f5fa"
            },
            "marker": {
             "line": {
              "color": "rgb(17,17,17)",
              "width": 0.5
             },
             "pattern": {
              "fillmode": "overlay",
              "size": 10,
              "solidity": 0.2
             }
            },
            "type": "bar"
           }
          ],
          "barpolar": [
           {
            "marker": {
             "line": {
              "color": "rgb(17,17,17)",
              "width": 0.5
             },
             "pattern": {
              "fillmode": "overlay",
              "size": 10,
              "solidity": 0.2
             }
            },
            "type": "barpolar"
           }
          ],
          "carpet": [
           {
            "aaxis": {
             "endlinecolor": "#A2B1C6",
             "gridcolor": "#506784",
             "linecolor": "#506784",
             "minorgridcolor": "#506784",
             "startlinecolor": "#A2B1C6"
            },
            "baxis": {
             "endlinecolor": "#A2B1C6",
             "gridcolor": "#506784",
             "linecolor": "#506784",
             "minorgridcolor": "#506784",
             "startlinecolor": "#A2B1C6"
            },
            "type": "carpet"
           }
          ],
          "choropleth": [
           {
            "colorbar": {
             "outlinewidth": 0,
             "ticks": ""
            },
            "type": "choropleth"
           }
          ],
          "contour": [
           {
            "colorbar": {
             "outlinewidth": 0,
             "ticks": ""
            },
            "colorscale": [
             [
              0,
              "#0d0887"
             ],
             [
              0.1111111111111111,
              "#46039f"
             ],
             [
              0.2222222222222222,
              "#7201a8"
             ],
             [
              0.3333333333333333,
              "#9c179e"
             ],
             [
              0.4444444444444444,
              "#bd3786"
             ],
             [
              0.5555555555555556,
              "#d8576b"
             ],
             [
              0.6666666666666666,
              "#ed7953"
             ],
             [
              0.7777777777777778,
              "#fb9f3a"
             ],
             [
              0.8888888888888888,
              "#fdca26"
             ],
             [
              1,
              "#f0f921"
             ]
            ],
            "type": "contour"
           }
          ],
          "contourcarpet": [
           {
            "colorbar": {
             "outlinewidth": 0,
             "ticks": ""
            },
            "type": "contourcarpet"
           }
          ],
          "heatmap": [
           {
            "colorbar": {
             "outlinewidth": 0,
             "ticks": ""
            },
            "colorscale": [
             [
              0,
              "#0d0887"
             ],
             [
              0.1111111111111111,
              "#46039f"
             ],
             [
              0.2222222222222222,
              "#7201a8"
             ],
             [
              0.3333333333333333,
              "#9c179e"
             ],
             [
              0.4444444444444444,
              "#bd3786"
             ],
             [
              0.5555555555555556,
              "#d8576b"
             ],
             [
              0.6666666666666666,
              "#ed7953"
             ],
             [
              0.7777777777777778,
              "#fb9f3a"
             ],
             [
              0.8888888888888888,
              "#fdca26"
             ],
             [
              1,
              "#f0f921"
             ]
            ],
            "type": "heatmap"
           }
          ],
          "histogram": [
           {
            "marker": {
             "pattern": {
              "fillmode": "overlay",
              "size": 10,
              "solidity": 0.2
             }
            },
            "type": "histogram"
           }
          ],
          "histogram2d": [
           {
            "colorbar": {
             "outlinewidth": 0,
             "ticks": ""
            },
            "colorscale": [
             [
              0,
              "#0d0887"
             ],
             [
              0.1111111111111111,
              "#46039f"
             ],
             [
              0.2222222222222222,
              "#7201a8"
             ],
             [
              0.3333333333333333,
              "#9c179e"
             ],
             [
              0.4444444444444444,
              "#bd3786"
             ],
             [
              0.5555555555555556,
              "#d8576b"
             ],
             [
              0.6666666666666666,
              "#ed7953"
             ],
             [
              0.7777777777777778,
              "#fb9f3a"
             ],
             [
              0.8888888888888888,
              "#fdca26"
             ],
             [
              1,
              "#f0f921"
             ]
            ],
            "type": "histogram2d"
           }
          ],
          "histogram2dcontour": [
           {
            "colorbar": {
             "outlinewidth": 0,
             "ticks": ""
            },
            "colorscale": [
             [
              0,
              "#0d0887"
             ],
             [
              0.1111111111111111,
              "#46039f"
             ],
             [
              0.2222222222222222,
              "#7201a8"
             ],
             [
              0.3333333333333333,
              "#9c179e"
             ],
             [
              0.4444444444444444,
              "#bd3786"
             ],
             [
              0.5555555555555556,
              "#d8576b"
             ],
             [
              0.6666666666666666,
              "#ed7953"
             ],
             [
              0.7777777777777778,
              "#fb9f3a"
             ],
             [
              0.8888888888888888,
              "#fdca26"
             ],
             [
              1,
              "#f0f921"
             ]
            ],
            "type": "histogram2dcontour"
           }
          ],
          "mesh3d": [
           {
            "colorbar": {
             "outlinewidth": 0,
             "ticks": ""
            },
            "type": "mesh3d"
           }
          ],
          "parcoords": [
           {
            "line": {
             "colorbar": {
              "outlinewidth": 0,
              "ticks": ""
             }
            },
            "type": "parcoords"
           }
          ],
          "pie": [
           {
            "automargin": true,
            "type": "pie"
           }
          ],
          "scatter": [
           {
            "marker": {
             "line": {
              "color": "#283442"
             }
            },
            "type": "scatter"
           }
          ],
          "scatter3d": [
           {
            "line": {
             "colorbar": {
              "outlinewidth": 0,
              "ticks": ""
             }
            },
            "marker": {
             "colorbar": {
              "outlinewidth": 0,
              "ticks": ""
             }
            },
            "type": "scatter3d"
           }
          ],
          "scattercarpet": [
           {
            "marker": {
             "colorbar": {
              "outlinewidth": 0,
              "ticks": ""
             }
            },
            "type": "scattercarpet"
           }
          ],
          "scattergeo": [
           {
            "marker": {
             "colorbar": {
              "outlinewidth": 0,
              "ticks": ""
             }
            },
            "type": "scattergeo"
           }
          ],
          "scattergl": [
           {
            "marker": {
             "line": {
              "color": "#283442"
             }
            },
            "type": "scattergl"
           }
          ],
          "scattermap": [
           {
            "marker": {
             "colorbar": {
              "outlinewidth": 0,
              "ticks": ""
             }
            },
            "type": "scattermap"
           }
          ],
          "scattermapbox": [
           {
            "marker": {
             "colorbar": {
              "outlinewidth": 0,
              "ticks": ""
             }
            },
            "type": "scattermapbox"
           }
          ],
          "scatterpolar": [
           {
            "marker": {
             "colorbar": {
              "outlinewidth": 0,
              "ticks": ""
             }
            },
            "type": "scatterpolar"
           }
          ],
          "scatterpolargl": [
           {
            "marker": {
             "colorbar": {
              "outlinewidth": 0,
              "ticks": ""
             }
            },
            "type": "scatterpolargl"
           }
          ],
          "scatterternary": [
           {
            "marker": {
             "colorbar": {
              "outlinewidth": 0,
              "ticks": ""
             }
            },
            "type": "scatterternary"
           }
          ],
          "surface": [
           {
            "colorbar": {
             "outlinewidth": 0,
             "ticks": ""
            },
            "colorscale": [
             [
              0,
              "#0d0887"
             ],
             [
              0.1111111111111111,
              "#46039f"
             ],
             [
              0.2222222222222222,
              "#7201a8"
             ],
             [
              0.3333333333333333,
              "#9c179e"
             ],
             [
              0.4444444444444444,
              "#bd3786"
             ],
             [
              0.5555555555555556,
              "#d8576b"
             ],
             [
              0.6666666666666666,
              "#ed7953"
             ],
             [
              0.7777777777777778,
              "#fb9f3a"
             ],
             [
              0.8888888888888888,
              "#fdca26"
             ],
             [
              1,
              "#f0f921"
             ]
            ],
            "type": "surface"
           }
          ],
          "table": [
           {
            "cells": {
             "fill": {
              "color": "#506784"
             },
             "line": {
              "color": "rgb(17,17,17)"
             }
            },
            "header": {
             "fill": {
              "color": "#2a3f5f"
             },
             "line": {
              "color": "rgb(17,17,17)"
             }
            },
            "type": "table"
           }
          ]
         },
         "layout": {
          "annotationdefaults": {
           "arrowcolor": "#f2f5fa",
           "arrowhead": 0,
           "arrowwidth": 1
          },
          "autotypenumbers": "strict",
          "coloraxis": {
           "colorbar": {
            "outlinewidth": 0,
            "ticks": ""
           }
          },
          "colorscale": {
           "diverging": [
            [
             0,
             "#8e0152"
            ],
            [
             0.1,
             "#c51b7d"
            ],
            [
             0.2,
             "#de77ae"
            ],
            [
             0.3,
             "#f1b6da"
            ],
            [
             0.4,
             "#fde0ef"
            ],
            [
             0.5,
             "#f7f7f7"
            ],
            [
             0.6,
             "#e6f5d0"
            ],
            [
             0.7,
             "#b8e186"
            ],
            [
             0.8,
             "#7fbc41"
            ],
            [
             0.9,
             "#4d9221"
            ],
            [
             1,
             "#276419"
            ]
           ],
           "sequential": [
            [
             0,
             "#0d0887"
            ],
            [
             0.1111111111111111,
             "#46039f"
            ],
            [
             0.2222222222222222,
             "#7201a8"
            ],
            [
             0.3333333333333333,
             "#9c179e"
            ],
            [
             0.4444444444444444,
             "#bd3786"
            ],
            [
             0.5555555555555556,
             "#d8576b"
            ],
            [
             0.6666666666666666,
             "#ed7953"
            ],
            [
             0.7777777777777778,
             "#fb9f3a"
            ],
            [
             0.8888888888888888,
             "#fdca26"
            ],
            [
             1,
             "#f0f921"
            ]
           ],
           "sequentialminus": [
            [
             0,
             "#0d0887"
            ],
            [
             0.1111111111111111,
             "#46039f"
            ],
            [
             0.2222222222222222,
             "#7201a8"
            ],
            [
             0.3333333333333333,
             "#9c179e"
            ],
            [
             0.4444444444444444,
             "#bd3786"
            ],
            [
             0.5555555555555556,
             "#d8576b"
            ],
            [
             0.6666666666666666,
             "#ed7953"
            ],
            [
             0.7777777777777778,
             "#fb9f3a"
            ],
            [
             0.8888888888888888,
             "#fdca26"
            ],
            [
             1,
             "#f0f921"
            ]
           ]
          },
          "colorway": [
           "#636efa",
           "#EF553B",
           "#00cc96",
           "#ab63fa",
           "#FFA15A",
           "#19d3f3",
           "#FF6692",
           "#B6E880",
           "#FF97FF",
           "#FECB52"
          ],
          "font": {
           "color": "#f2f5fa"
          },
          "geo": {
           "bgcolor": "rgb(17,17,17)",
           "lakecolor": "rgb(17,17,17)",
           "landcolor": "rgb(17,17,17)",
           "showlakes": true,
           "showland": true,
           "subunitcolor": "#506784"
          },
          "hoverlabel": {
           "align": "left"
          },
          "hovermode": "closest",
          "mapbox": {
           "style": "dark"
          },
          "paper_bgcolor": "rgb(17,17,17)",
          "plot_bgcolor": "rgb(17,17,17)",
          "polar": {
           "angularaxis": {
            "gridcolor": "#506784",
            "linecolor": "#506784",
            "ticks": ""
           },
           "bgcolor": "rgb(17,17,17)",
           "radialaxis": {
            "gridcolor": "#506784",
            "linecolor": "#506784",
            "ticks": ""
           }
          },
          "scene": {
           "xaxis": {
            "backgroundcolor": "rgb(17,17,17)",
            "gridcolor": "#506784",
            "gridwidth": 2,
            "linecolor": "#506784",
            "showbackground": true,
            "ticks": "",
            "zerolinecolor": "#C8D4E3"
           },
           "yaxis": {
            "backgroundcolor": "rgb(17,17,17)",
            "gridcolor": "#506784",
            "gridwidth": 2,
            "linecolor": "#506784",
            "showbackground": true,
            "ticks": "",
            "zerolinecolor": "#C8D4E3"
           },
           "zaxis": {
            "backgroundcolor": "rgb(17,17,17)",
            "gridcolor": "#506784",
            "gridwidth": 2,
            "linecolor": "#506784",
            "showbackground": true,
            "ticks": "",
            "zerolinecolor": "#C8D4E3"
           }
          },
          "shapedefaults": {
           "line": {
            "color": "#f2f5fa"
           }
          },
          "sliderdefaults": {
           "bgcolor": "#C8D4E3",
           "bordercolor": "rgb(17,17,17)",
           "borderwidth": 1,
           "tickwidth": 0
          },
          "ternary": {
           "aaxis": {
            "gridcolor": "#506784",
            "linecolor": "#506784",
            "ticks": ""
           },
           "baxis": {
            "gridcolor": "#506784",
            "linecolor": "#506784",
            "ticks": ""
           },
           "bgcolor": "rgb(17,17,17)",
           "caxis": {
            "gridcolor": "#506784",
            "linecolor": "#506784",
            "ticks": ""
           }
          },
          "title": {
           "x": 0.05
          },
          "updatemenudefaults": {
           "bgcolor": "#506784",
           "borderwidth": 0
          },
          "xaxis": {
           "automargin": true,
           "gridcolor": "#283442",
           "linecolor": "#506784",
           "ticks": "",
           "title": {
            "standoff": 15
           },
           "zerolinecolor": "#283442",
           "zerolinewidth": 2
          },
          "yaxis": {
           "automargin": true,
           "gridcolor": "#283442",
           "linecolor": "#506784",
           "ticks": "",
           "title": {
            "standoff": 15
           },
           "zerolinecolor": "#283442",
           "zerolinewidth": 2
          }
         }
        },
        "title": {
         "text": "Método del Codo para Encontrar K Óptimo"
        },
        "xaxis": {
         "anchor": "y",
         "domain": [
          0,
          1
         ],
         "title": {
          "text": "Número de Clusters (K)"
         }
        },
        "yaxis": {
         "anchor": "x",
         "domain": [
          0,
          1
         ],
         "title": {
          "text": "Inercia (WCSS)"
         }
        }
       }
      }
     },
     "metadata": {},
     "output_type": "display_data"
    }
   ],
   "source": [
    "# --- 3. Implementación del Método del Codo ---\n",
    "inertia_values = []\n",
    "k_range = range(1, 11)\n",
    "\n",
    "for k in k_range:\n",
    "    kmeans = KMeans(n_clusters=k, n_init=10, random_state=42)\n",
    "    kmeans.fit(X_blobs_nuevo)\n",
    "    inertia_values.append(kmeans.inertia_)\n",
    "\n",
    "# Graficamos los resultados\n",
    "fig = px.line(x=k_range, y=inertia_values, title='Método del Codo para Encontrar K Óptimo',\n",
    "              labels={'x': 'Número de Clusters (K)', 'y': 'Inercia (WCSS)'},\n",
    "              markers=True)\n",
    "fig.add_vline(x=4, line_width=3, line_dash=\"dash\", line_color=\"red\", annotation_text=\"Codo en K=4\")\n",
    "fig.show()"
   ]
  },
  {
   "cell_type": "code",
   "execution_count": 18,
   "metadata": {},
   "outputs": [
    {
     "name": "stdout",
     "output_type": "stream",
     "text": [
      "Para K=4, el coeficiente de silueta promedio es: 0.6912\n"
     ]
    }
   ],
   "source": [
    "# --- 4. Aplicar K-Means con K=4 ---\n",
    "optimal_k = 4\n",
    "kmeans_final = KMeans(n_clusters=optimal_k, n_init=10, random_state=42)\n",
    "kmeans_final.fit(X_blobs_nuevo)\n",
    "\n",
    "# Obtenemos las etiquetas de los clusters y los centroides\n",
    "labels_kmeans = kmeans_final.labels_\n",
    "centroids = kmeans_final.cluster_centers_\n",
    "\n",
    "# Calculamos el coeficiente de silueta\n",
    "silhouette_avg = silhouette_score(X_blobs_nuevo, labels_kmeans)\n",
    "print(f\"Para K={optimal_k}, el coeficiente de silueta promedio es: {silhouette_avg:.4f}\")"
   ]
  },
  {
   "cell_type": "markdown",
   "metadata": {},
   "source": [
    "### Efectivamete el coeficiente de silueta original era 0.8 y este 0,7"
   ]
  },
  {
   "cell_type": "markdown",
   "metadata": {},
   "source": [
    "### 2 Importancia del n_init"
   ]
  },
  {
   "cell_type": "code",
   "execution_count": 54,
   "metadata": {},
   "outputs": [
    {
     "name": "stdout",
     "output_type": "stream",
     "text": [
      "[19780.250519302626, 9211.21057135935, 1919.3648316193571, 362.47243882770385, 329.26842184085876, 294.2571493628481, 261.50545010174505, 231.0146762587969, 209.1027327426752, 188.71541779999083]\n"
     ]
    },
    {
     "data": {
      "application/vnd.plotly.v1+json": {
       "config": {
        "plotlyServerURL": "https://plot.ly"
       },
       "data": [
        {
         "hovertemplate": "Número de Clusters (K)=%{x}<br>Inercia (WCSS)=%{y}<extra></extra>",
         "legendgroup": "",
         "line": {
          "color": "#636efa",
          "dash": "solid"
         },
         "marker": {
          "symbol": "circle"
         },
         "mode": "lines+markers",
         "name": "",
         "orientation": "v",
         "showlegend": false,
         "type": "scatter",
         "x": {
          "bdata": "AQIDBAUGBwgJCg==",
          "dtype": "i1"
         },
         "xaxis": "x",
         "y": {
          "bdata": "8xyCCBBR00DxlgD0mv3BQL6Ga5Z1/Z1AlCUEHI+ndkBUQLN0S5R0QOt5pkgdZHJAFIzYUhZYcEDucVg6eOBsQJZALZZJI2pA+73es+SWZ0A=",
          "dtype": "f8"
         },
         "yaxis": "y"
        }
       ],
       "layout": {
        "annotations": [
         {
          "showarrow": false,
          "text": "Codo en K=4",
          "x": 4,
          "xanchor": "left",
          "xref": "x",
          "y": 1,
          "yanchor": "top",
          "yref": "y domain"
         }
        ],
        "legend": {
         "tracegroupgap": 0
        },
        "shapes": [
         {
          "line": {
           "color": "red",
           "dash": "dash",
           "width": 3
          },
          "type": "line",
          "x0": 4,
          "x1": 4,
          "xref": "x",
          "y0": 0,
          "y1": 1,
          "yref": "y domain"
         }
        ],
        "template": {
         "data": {
          "bar": [
           {
            "error_x": {
             "color": "#f2f5fa"
            },
            "error_y": {
             "color": "#f2f5fa"
            },
            "marker": {
             "line": {
              "color": "rgb(17,17,17)",
              "width": 0.5
             },
             "pattern": {
              "fillmode": "overlay",
              "size": 10,
              "solidity": 0.2
             }
            },
            "type": "bar"
           }
          ],
          "barpolar": [
           {
            "marker": {
             "line": {
              "color": "rgb(17,17,17)",
              "width": 0.5
             },
             "pattern": {
              "fillmode": "overlay",
              "size": 10,
              "solidity": 0.2
             }
            },
            "type": "barpolar"
           }
          ],
          "carpet": [
           {
            "aaxis": {
             "endlinecolor": "#A2B1C6",
             "gridcolor": "#506784",
             "linecolor": "#506784",
             "minorgridcolor": "#506784",
             "startlinecolor": "#A2B1C6"
            },
            "baxis": {
             "endlinecolor": "#A2B1C6",
             "gridcolor": "#506784",
             "linecolor": "#506784",
             "minorgridcolor": "#506784",
             "startlinecolor": "#A2B1C6"
            },
            "type": "carpet"
           }
          ],
          "choropleth": [
           {
            "colorbar": {
             "outlinewidth": 0,
             "ticks": ""
            },
            "type": "choropleth"
           }
          ],
          "contour": [
           {
            "colorbar": {
             "outlinewidth": 0,
             "ticks": ""
            },
            "colorscale": [
             [
              0,
              "#0d0887"
             ],
             [
              0.1111111111111111,
              "#46039f"
             ],
             [
              0.2222222222222222,
              "#7201a8"
             ],
             [
              0.3333333333333333,
              "#9c179e"
             ],
             [
              0.4444444444444444,
              "#bd3786"
             ],
             [
              0.5555555555555556,
              "#d8576b"
             ],
             [
              0.6666666666666666,
              "#ed7953"
             ],
             [
              0.7777777777777778,
              "#fb9f3a"
             ],
             [
              0.8888888888888888,
              "#fdca26"
             ],
             [
              1,
              "#f0f921"
             ]
            ],
            "type": "contour"
           }
          ],
          "contourcarpet": [
           {
            "colorbar": {
             "outlinewidth": 0,
             "ticks": ""
            },
            "type": "contourcarpet"
           }
          ],
          "heatmap": [
           {
            "colorbar": {
             "outlinewidth": 0,
             "ticks": ""
            },
            "colorscale": [
             [
              0,
              "#0d0887"
             ],
             [
              0.1111111111111111,
              "#46039f"
             ],
             [
              0.2222222222222222,
              "#7201a8"
             ],
             [
              0.3333333333333333,
              "#9c179e"
             ],
             [
              0.4444444444444444,
              "#bd3786"
             ],
             [
              0.5555555555555556,
              "#d8576b"
             ],
             [
              0.6666666666666666,
              "#ed7953"
             ],
             [
              0.7777777777777778,
              "#fb9f3a"
             ],
             [
              0.8888888888888888,
              "#fdca26"
             ],
             [
              1,
              "#f0f921"
             ]
            ],
            "type": "heatmap"
           }
          ],
          "histogram": [
           {
            "marker": {
             "pattern": {
              "fillmode": "overlay",
              "size": 10,
              "solidity": 0.2
             }
            },
            "type": "histogram"
           }
          ],
          "histogram2d": [
           {
            "colorbar": {
             "outlinewidth": 0,
             "ticks": ""
            },
            "colorscale": [
             [
              0,
              "#0d0887"
             ],
             [
              0.1111111111111111,
              "#46039f"
             ],
             [
              0.2222222222222222,
              "#7201a8"
             ],
             [
              0.3333333333333333,
              "#9c179e"
             ],
             [
              0.4444444444444444,
              "#bd3786"
             ],
             [
              0.5555555555555556,
              "#d8576b"
             ],
             [
              0.6666666666666666,
              "#ed7953"
             ],
             [
              0.7777777777777778,
              "#fb9f3a"
             ],
             [
              0.8888888888888888,
              "#fdca26"
             ],
             [
              1,
              "#f0f921"
             ]
            ],
            "type": "histogram2d"
           }
          ],
          "histogram2dcontour": [
           {
            "colorbar": {
             "outlinewidth": 0,
             "ticks": ""
            },
            "colorscale": [
             [
              0,
              "#0d0887"
             ],
             [
              0.1111111111111111,
              "#46039f"
             ],
             [
              0.2222222222222222,
              "#7201a8"
             ],
             [
              0.3333333333333333,
              "#9c179e"
             ],
             [
              0.4444444444444444,
              "#bd3786"
             ],
             [
              0.5555555555555556,
              "#d8576b"
             ],
             [
              0.6666666666666666,
              "#ed7953"
             ],
             [
              0.7777777777777778,
              "#fb9f3a"
             ],
             [
              0.8888888888888888,
              "#fdca26"
             ],
             [
              1,
              "#f0f921"
             ]
            ],
            "type": "histogram2dcontour"
           }
          ],
          "mesh3d": [
           {
            "colorbar": {
             "outlinewidth": 0,
             "ticks": ""
            },
            "type": "mesh3d"
           }
          ],
          "parcoords": [
           {
            "line": {
             "colorbar": {
              "outlinewidth": 0,
              "ticks": ""
             }
            },
            "type": "parcoords"
           }
          ],
          "pie": [
           {
            "automargin": true,
            "type": "pie"
           }
          ],
          "scatter": [
           {
            "marker": {
             "line": {
              "color": "#283442"
             }
            },
            "type": "scatter"
           }
          ],
          "scatter3d": [
           {
            "line": {
             "colorbar": {
              "outlinewidth": 0,
              "ticks": ""
             }
            },
            "marker": {
             "colorbar": {
              "outlinewidth": 0,
              "ticks": ""
             }
            },
            "type": "scatter3d"
           }
          ],
          "scattercarpet": [
           {
            "marker": {
             "colorbar": {
              "outlinewidth": 0,
              "ticks": ""
             }
            },
            "type": "scattercarpet"
           }
          ],
          "scattergeo": [
           {
            "marker": {
             "colorbar": {
              "outlinewidth": 0,
              "ticks": ""
             }
            },
            "type": "scattergeo"
           }
          ],
          "scattergl": [
           {
            "marker": {
             "line": {
              "color": "#283442"
             }
            },
            "type": "scattergl"
           }
          ],
          "scattermap": [
           {
            "marker": {
             "colorbar": {
              "outlinewidth": 0,
              "ticks": ""
             }
            },
            "type": "scattermap"
           }
          ],
          "scattermapbox": [
           {
            "marker": {
             "colorbar": {
              "outlinewidth": 0,
              "ticks": ""
             }
            },
            "type": "scattermapbox"
           }
          ],
          "scatterpolar": [
           {
            "marker": {
             "colorbar": {
              "outlinewidth": 0,
              "ticks": ""
             }
            },
            "type": "scatterpolar"
           }
          ],
          "scatterpolargl": [
           {
            "marker": {
             "colorbar": {
              "outlinewidth": 0,
              "ticks": ""
             }
            },
            "type": "scatterpolargl"
           }
          ],
          "scatterternary": [
           {
            "marker": {
             "colorbar": {
              "outlinewidth": 0,
              "ticks": ""
             }
            },
            "type": "scatterternary"
           }
          ],
          "surface": [
           {
            "colorbar": {
             "outlinewidth": 0,
             "ticks": ""
            },
            "colorscale": [
             [
              0,
              "#0d0887"
             ],
             [
              0.1111111111111111,
              "#46039f"
             ],
             [
              0.2222222222222222,
              "#7201a8"
             ],
             [
              0.3333333333333333,
              "#9c179e"
             ],
             [
              0.4444444444444444,
              "#bd3786"
             ],
             [
              0.5555555555555556,
              "#d8576b"
             ],
             [
              0.6666666666666666,
              "#ed7953"
             ],
             [
              0.7777777777777778,
              "#fb9f3a"
             ],
             [
              0.8888888888888888,
              "#fdca26"
             ],
             [
              1,
              "#f0f921"
             ]
            ],
            "type": "surface"
           }
          ],
          "table": [
           {
            "cells": {
             "fill": {
              "color": "#506784"
             },
             "line": {
              "color": "rgb(17,17,17)"
             }
            },
            "header": {
             "fill": {
              "color": "#2a3f5f"
             },
             "line": {
              "color": "rgb(17,17,17)"
             }
            },
            "type": "table"
           }
          ]
         },
         "layout": {
          "annotationdefaults": {
           "arrowcolor": "#f2f5fa",
           "arrowhead": 0,
           "arrowwidth": 1
          },
          "autotypenumbers": "strict",
          "coloraxis": {
           "colorbar": {
            "outlinewidth": 0,
            "ticks": ""
           }
          },
          "colorscale": {
           "diverging": [
            [
             0,
             "#8e0152"
            ],
            [
             0.1,
             "#c51b7d"
            ],
            [
             0.2,
             "#de77ae"
            ],
            [
             0.3,
             "#f1b6da"
            ],
            [
             0.4,
             "#fde0ef"
            ],
            [
             0.5,
             "#f7f7f7"
            ],
            [
             0.6,
             "#e6f5d0"
            ],
            [
             0.7,
             "#b8e186"
            ],
            [
             0.8,
             "#7fbc41"
            ],
            [
             0.9,
             "#4d9221"
            ],
            [
             1,
             "#276419"
            ]
           ],
           "sequential": [
            [
             0,
             "#0d0887"
            ],
            [
             0.1111111111111111,
             "#46039f"
            ],
            [
             0.2222222222222222,
             "#7201a8"
            ],
            [
             0.3333333333333333,
             "#9c179e"
            ],
            [
             0.4444444444444444,
             "#bd3786"
            ],
            [
             0.5555555555555556,
             "#d8576b"
            ],
            [
             0.6666666666666666,
             "#ed7953"
            ],
            [
             0.7777777777777778,
             "#fb9f3a"
            ],
            [
             0.8888888888888888,
             "#fdca26"
            ],
            [
             1,
             "#f0f921"
            ]
           ],
           "sequentialminus": [
            [
             0,
             "#0d0887"
            ],
            [
             0.1111111111111111,
             "#46039f"
            ],
            [
             0.2222222222222222,
             "#7201a8"
            ],
            [
             0.3333333333333333,
             "#9c179e"
            ],
            [
             0.4444444444444444,
             "#bd3786"
            ],
            [
             0.5555555555555556,
             "#d8576b"
            ],
            [
             0.6666666666666666,
             "#ed7953"
            ],
            [
             0.7777777777777778,
             "#fb9f3a"
            ],
            [
             0.8888888888888888,
             "#fdca26"
            ],
            [
             1,
             "#f0f921"
            ]
           ]
          },
          "colorway": [
           "#636efa",
           "#EF553B",
           "#00cc96",
           "#ab63fa",
           "#FFA15A",
           "#19d3f3",
           "#FF6692",
           "#B6E880",
           "#FF97FF",
           "#FECB52"
          ],
          "font": {
           "color": "#f2f5fa"
          },
          "geo": {
           "bgcolor": "rgb(17,17,17)",
           "lakecolor": "rgb(17,17,17)",
           "landcolor": "rgb(17,17,17)",
           "showlakes": true,
           "showland": true,
           "subunitcolor": "#506784"
          },
          "hoverlabel": {
           "align": "left"
          },
          "hovermode": "closest",
          "mapbox": {
           "style": "dark"
          },
          "paper_bgcolor": "rgb(17,17,17)",
          "plot_bgcolor": "rgb(17,17,17)",
          "polar": {
           "angularaxis": {
            "gridcolor": "#506784",
            "linecolor": "#506784",
            "ticks": ""
           },
           "bgcolor": "rgb(17,17,17)",
           "radialaxis": {
            "gridcolor": "#506784",
            "linecolor": "#506784",
            "ticks": ""
           }
          },
          "scene": {
           "xaxis": {
            "backgroundcolor": "rgb(17,17,17)",
            "gridcolor": "#506784",
            "gridwidth": 2,
            "linecolor": "#506784",
            "showbackground": true,
            "ticks": "",
            "zerolinecolor": "#C8D4E3"
           },
           "yaxis": {
            "backgroundcolor": "rgb(17,17,17)",
            "gridcolor": "#506784",
            "gridwidth": 2,
            "linecolor": "#506784",
            "showbackground": true,
            "ticks": "",
            "zerolinecolor": "#C8D4E3"
           },
           "zaxis": {
            "backgroundcolor": "rgb(17,17,17)",
            "gridcolor": "#506784",
            "gridwidth": 2,
            "linecolor": "#506784",
            "showbackground": true,
            "ticks": "",
            "zerolinecolor": "#C8D4E3"
           }
          },
          "shapedefaults": {
           "line": {
            "color": "#f2f5fa"
           }
          },
          "sliderdefaults": {
           "bgcolor": "#C8D4E3",
           "bordercolor": "rgb(17,17,17)",
           "borderwidth": 1,
           "tickwidth": 0
          },
          "ternary": {
           "aaxis": {
            "gridcolor": "#506784",
            "linecolor": "#506784",
            "ticks": ""
           },
           "baxis": {
            "gridcolor": "#506784",
            "linecolor": "#506784",
            "ticks": ""
           },
           "bgcolor": "rgb(17,17,17)",
           "caxis": {
            "gridcolor": "#506784",
            "linecolor": "#506784",
            "ticks": ""
           }
          },
          "title": {
           "x": 0.05
          },
          "updatemenudefaults": {
           "bgcolor": "#506784",
           "borderwidth": 0
          },
          "xaxis": {
           "automargin": true,
           "gridcolor": "#283442",
           "linecolor": "#506784",
           "ticks": "",
           "title": {
            "standoff": 15
           },
           "zerolinecolor": "#283442",
           "zerolinewidth": 2
          },
          "yaxis": {
           "automargin": true,
           "gridcolor": "#283442",
           "linecolor": "#506784",
           "ticks": "",
           "title": {
            "standoff": 15
           },
           "zerolinecolor": "#283442",
           "zerolinewidth": 2
          }
         }
        },
        "title": {
         "text": "Método del Codo para Encontrar K Óptimo"
        },
        "xaxis": {
         "anchor": "y",
         "domain": [
          0,
          1
         ],
         "title": {
          "text": "Número de Clusters (K)"
         }
        },
        "yaxis": {
         "anchor": "x",
         "domain": [
          0,
          1
         ],
         "title": {
          "text": "Inercia (WCSS)"
         }
        }
       }
      }
     },
     "metadata": {},
     "output_type": "display_data"
    },
    {
     "name": "stdout",
     "output_type": "stream",
     "text": [
      "Para K=4, el coeficiente de silueta promedio es: 0.8335\n"
     ]
    },
    {
     "data": {
      "application/vnd.plotly.v1+json": {
       "config": {
        "plotlyServerURL": "https://plot.ly"
       },
       "data": [
        {
         "hovertemplate": "cluster_kmeans=3<br>X1=%{x}<br>X2=%{y}<extra></extra>",
         "legendgroup": "3",
         "marker": {
          "color": "#636efa",
          "symbol": "circle"
         },
         "mode": "markers",
         "name": "3",
         "orientation": "v",
         "showlegend": true,
         "type": "scatter",
         "x": {
          "bdata": "jRn1xmBpIsAPDxwtpg0jwBgvmiQK8CTAH2ItHbq3IsCf21l93UckwBPq07472yHA30UYTTfUIMCsdTcneJkiwHtaWUYeWSDAphgTmNgZJMBQEEFJKXcgwHdBDT4Q2SHALU+dg/J0IsAXyyYI6Y8hwJ7pPxfxIiHADxyqSX2wIcCU/6H9pwshwHOzkVG3TCHAWmmmfDqAGcA7+EjV1MsiwDZvkddxPiHA8/9VUgzgIMA7z2Kg7FYgwHKIXPHMnR/AGg9+IANZJMAT7OieCOkgwEEIFKL/jyLAU1Gt0drlIsCtxAaB4QMhwLVwJbwT6iPA7lUlcBRWI8ANpfELgKskwEYxk+oQwSDApllnbZ7hIcBtmOI/qbEgwIfz5Vg/BCDA5enVu8MbIsCigQPe8RAdwGJTc1+EhiLAELDqBainIMBzeDeG4BMjwH+ABMZpgh/An/8AQGlIIMBblMuywYkhwOLrym6ivCLAA8eMAZyhJcAya8FmOT8kwEzOlzy7YiHAPthnYA+2IsD+4itvWZkhwOB5004JqiDAoUi+5drAIMC8hXqO4h0iwKITKtF/WSDAvqRsawbjIsA7IxfSNGMiwEz7k1hX9B3AkQ95itwxIMCvvfxDN7giwDZwwNvjFh7AcL/KQ0rIIcDBcR4ziDYhwDKHKVK0eh7Ax6ziatdCIcDLFIfUMxUhwIOwBU3enyLALZbWeVAnIcCuEARN2gokwHlpAqSIjSHAKPRujImEIcB768rYCxEgwIIo9F+TIiHAsu9+0BgPIsBoIxr9raUhwOSKiIEISSDA",
          "dtype": "f8"
         },
         "xaxis": "x",
         "y": {
          "bdata": "dvYqTxiTGkC4NsNyQhAcQKwZoJF2ERpADd5u/ju8G0DW+0C8rXIdQI5lS+hElhxAOjasOBz0IECAPPicGrYfQGuS5sz7jRpAhmpl84PVIEDf+nmB2VcaQEj4W4o3+xlAoFN1kO/oG0C8JG6Q/cMbQA38F7vg+RtARXOlL9QDIUDgGh+/avIbQCLgTb3Hwh9AZjPbuzhwIEAP1FFulPodQHqVX+UhIh1AHq3BZXkqGkB/3Wbk1K0ZQLLFWoK1Gx5AwzKKe2gIH0Arrzabn1weQBHUq2P8dRlA87lkYbqEF0DfE6UZYaYhQPIPF8x4GB9AQjBerVyvHEAogNzeUyscQOQjxXpDSh5AFKqOPII8GkCc4dl41rcfQBwUa2Z7qRtABPJ29nspGkD7Kd7kLGgdQF3d78CTcxtAOjI5lCv6F0CryBF4f94YQFm3kfv9/BtAaHQ7gDVAHEC0H2e1wcscQKewGM64Hh9AdW0Ui3i+GkAqnRwC9/EdQCxtlzihFh5ACaUHiUjVGUDYmKe4kqIaQMrL8DK4RyJAjMkt4/OkHEDUqdS7je0VQHjKWOjsNxZApmq4Xi2+GEBAJlE9X4AeQHrer2zDDiBAEI9TpL2zIUCQdiDQHXIdQDLzxPJGfxxAtf4sFjlrGUClL6VXuvchQD1AADjDBB9APCA2pnhmGkAO0Ii3gFwbQCreFpiBhxpALNRD4cyXHECQiHsZIHogQKcK3zO5iRpASCZb5NKyH0DU6uyYsnIbQDSvOmcV9xtAz0U+ss9jGkBiLBv9T1QhQK00Wbrp0CBA",
          "dtype": "f8"
         },
         "yaxis": "y"
        },
        {
         "hovertemplate": "cluster_kmeans=0<br>X1=%{x}<br>X2=%{y}<extra></extra>",
         "legendgroup": "0",
         "marker": {
          "color": "#EF553B",
          "symbol": "circle"
         },
         "mode": "markers",
         "name": "0",
         "orientation": "v",
         "showlegend": true,
         "type": "scatter",
         "x": {
          "bdata": "tCBKuVue/b9uvRVy6iMHwCAZmj+s7AfAgodSdqK8AsDOKEq4xyENwH2OBp0UkQjAhBiU7chzA8BWy29/VFEAwPz4fVUWGwXAis/xqxkKB8CuFx5Au2kKwJTwj5cqngLAb0Bwvd1sAsBs/fVftUsEwNebZ+a5wgHAnrCuBuk69b97kXsbjAUHwKp8yqxQ3wrAgpBsSESVBsCPJVFU7OoHwC86hl1CjgrAGJT/b9GIBMDxkfY/GPQBwOkpuruITQTAkDA6dBVu/L8wEtG8y3YHwNFShHULaQLAEJgBt54F/r/cHXuLz3EJwIbz/N5nhgLAPkYrP9rfAcDp8hDjbXgCwF8j8nEeFgnADsqn/3g/CcANRU3SMqQDwGhAilnzKATAbcm2P/8w9r91i2be52cIwMgjQ5dGLRDAJFa28X58A8A62wou8RwPwM788UU/iQ3AgcnXdnUKBMBzqWoIBhQHwHFoSQQ4hAPAmXePPv1sCMBkGscai+IJwJVhbVusLQLAjMxbeINrEsB9XIXSJ7ADwLRQMwuwuwDAHrT4s/C7/b9ODXcl34T5v4Ktf6049QnAbRgH3sCOB8CWKKQbCWP1vxj0n73dsf6/oSfWm1DQBMC33WtYML/9v8WijQ9VwgHAecI3ZJFvA8Aim1HvdP0LwJrrExdXRAbAzAolz++SDMAuYN2yqjICwCCcklJL8/q/Vk4olnH/DcBXYGM9AE4FwMQ8Vq7o7vO/eBJduXQnC8BO/iT+BAHwv8aQ04jb/wHAbwVsRb96BcChe2Tmn3ALwHwTGoqJXA7A",
          "dtype": "f8"
         },
         "xaxis": "x",
         "y": {
          "bdata": "f4y6xkETIEBVB7bBRLshQFex0/QB/iRAdvQraUTJHUC/mwOnBFshQNfBJKUagSFAhgjkTBKUI0CXtGRuhoglQJxMhFDQrCJAHDkKNY1IIUCsSf3jWx8hQJcmDF24HiRAXyOVStLoIUBT/bi8nyggQFKin1VLfSRA5giu8AczIUDy+JnPT7gjQAm87EZMySJAAGdXsbdfH0A+gHE01o8hQKn1hLsHiCJAv9gFkFyiI0DonQXV5ZYjQG1hPUoxiCRACwRSkPiNIkDotqmAjNkiQIOs05SMRyNANWtOU9SSIEDc6mc+qYghQKom2RJF7x1AWmA5tFhqHkB4Ejo9OJUiQDbA6+llgyFAYGzWeMs5IUCJKQaseX8fQHs3XXsTViBA/jb6izuSH0CO5ERr2wEjQMwVflR0/CFAcPg/nGmyHUCwVfxjACEhQGaQFWB34CBAuleBRDqnIUD7GjAOjOUiQJBfeFHXjCFA5K+gE3JmIkBC+jd4q4kfQFUiBSQ+ciJA8qlFPPdXI0ANNOMqQvglQL0diZz1gCJAAPaCCCcPIECseJFnTjsjQOKWy+kqgiRAWBqDlr80IkD/6X8m1qohQHsMMMeBTSJAHGEigPuLIUAb+veV1DIkQMbxXc0S/yBAScc8Qxc5IUA12Dgz6dQfQKL8dKSzviBAPKZ66PJXIkCujg1Wt+IgQLbTQk/EhCNAiAJC3GUjIkAebcAK1IIiQE5wEOCnQSNA6UzbJ1kdIEBnjGVS0k4iQLq+KbWVaSFAWs+DepaZIkB08c1NM6EiQMZnUcbwUiJA",
          "dtype": "f8"
         },
         "yaxis": "y"
        },
        {
         "hovertemplate": "cluster_kmeans=1<br>X1=%{x}<br>X2=%{y}<extra></extra>",
         "legendgroup": "1",
         "marker": {
          "color": "#00cc96",
          "symbol": "circle"
         },
         "mode": "markers",
         "name": "1",
         "orientation": "v",
         "showlegend": true,
         "type": "scatter",
         "x": {
          "bdata": "LOAmDBA3HMBT3CG7JMYYwHKJ5fx2MhrAxpV7j+tlGMCK8ftNBiMewGEEJ1PFjhvAmMnlxg+8GsCDTk2RxWwawJfnqLyR4hvATANQn6NGG8CV2BHEa1gawLWlEXKovhfAwJF8jrBQHMCwEfAzuGQewL1c+KlJ0R3AObSuiMg9GcA7tvQWE3wgwM8mwz1KVxfAXH6WSa0hGMB+AQ+DMREhwCC0+aWe8h3Ali83eIq+F8CsJ0OqJnoYwKKi5jhV7x7A0zOT5tmgFMCAFZ+rEYAgwNp2cyDevB7AIAHeIUrbGcBNkghkKc0awM2c37CBdBrAcKKoEiA3HcCW7pixsikdwG4hwtOS7BTALynCPRNuF8Ai9XcGvjYgwMtL9nnnkxvA7Xv31wiOFsDcmwPinAYdwNhbqmyjNB7ALraU1ahwG8BWYPYXIroYwGD9AJR1hRnAxvsCYS57GsAxDPS/FbgbwGiDN46TThbAm8rUTPwoHsCu2yH2Rb4fwLz7bfpQlBvApqrnGk0mHsC+b7byCoYawFyDsLk+rB7AJbVSdkc1G8Bw8F4bNJsewPhfUx723xbAUIh44QG2FsBP+X4aUSghwJ04lRJcsR/AHG45SRBOH8Bmei0WFVYZwE3IwgBefBrAMdR0iQPQF8DY6FVack8gwH8XHk5fTxnAZIKOTnGAG8DXI4tajsQZwFMBjaXV3RvAbIjBB9qCFMANT7yijuAYwM2x/SoxIhvATkru07g0G8A5GNWyb2EcwC8Q0ySBEyDAWPgT2At0GcCR+MGgHEoawDARjo9u9RzA",
          "dtype": "f8"
         },
         "xaxis": "x",
         "y": {
          "bdata": "KW3wPR0BGMDX3XH9QAgcwPxyeg4JUx3AfnYNnrP9G8D3OoEIJtMUwEyVRVRDZB7An1d9I4UkHcClaQzoRYQVwG8+xY02jxfArzeQjfavHcDMS86GLocewNKPIczrTRvAmcS/QFJpGMD0mJOFQPIZwIpZs48WNBzACVeN/YkeH8AkemClvLIbwD/G1p8GdBvA1Dka7f6SIMBgd7BGPc4bwLfdEZYHChvArAsGt5QFHcDH5yzq1F0dwPzIZZfe+RvAmFOX5df5HcDQEWDVIzAXwBL7yUHlZx/A+iwxzZydFsCajKGh6nobwCJJ83Nk6h3A4VAO78AOHsC/PvOf8OgewOLbGstB5xXAIp8a9thpHcAXWfAyj24XwKJyrI2zcRzAfQRcuHgmG8BQstkMI8cawJ/tnjJBcB3AMhpSo0XtGcBYcwTYCe8awFXaVth9ghnAaHUHbdjvG8DWaSGWx3YYwK1J2rPP7x/Ak9D98YKMHMAtczW15qgVwCMkbhiBuh7ATt5ziZq9GsD6dzrTnswWwIiqwDtR6BnA9U5/+a2dGcBJDbMHOFMZwB+6rMZlcxjAeDPEpYhIG8A4T8xE7jMdwC4NzO+iYBnAwOtzt+IFIcBcZqgaZ4McwH02HFrmKh7AiPS/v7P8GMA3RIWAPXAdwD3REHvpzRzAJQOU575eG8CkFl9S3iocwPnKI2UmPBrAfk7D4mMbHsDD7voczuoYwKU5Zs7N3xnARbzDWXv+HcDwNXnuazkZwA0Jgv8cAyDA2nbAmwwkF8DCRewIBKAbwJ3e4Fn+hhnA",
          "dtype": "f8"
         },
         "yaxis": "y"
        },
        {
         "hovertemplate": "cluster_kmeans=2<br>X1=%{x}<br>X2=%{y}<extra></extra>",
         "legendgroup": "2",
         "marker": {
          "color": "#ab63fa",
          "symbol": "circle"
         },
         "mode": "markers",
         "name": "2",
         "orientation": "v",
         "showlegend": true,
         "type": "scatter",
         "x": {
          "bdata": "7gn1ERsdE0CdZ5fko34NQDtxwPizsxNAY6gbbnooCECEnU+AW0QWQKrS+mYXbQ9AYhwt7etDDkAe0ykcnz4TQHqhNOwWnRZA0Ey9SKABEUCQAkA7gKIXQLFq57kpNRRAYlXoA2+kFUDsO921OuwSQJleHeudYhlAVFFaKjBwFUBZgU6F6RIUQN2nIqythxhA7LOa/H41GEDrhpdhTE0MQPnEjyUpChFAyi9x2FW0E0C/rI//veQRQD93OZdrwRRA89DTPU4yE0Bk3am0eAYWQND75efrLBRAwDlrBFXAEUALOKLHNsYRQCyEvNciZQtA2XlSVkJFEEDsCIHwISkVQKqI+anmcRNA0ZLTqWx1E0DcoD/+528NQDoIBh5cdg9AGqCSpuu+EkD81tdscyERQNhEqzpe1g5AqxBB1m22EUCbKRbPtFkZQObUWNyByBdAdq+10OhiFEDGmgO9+l8AQLa7TmHAJhFABprUaes4EEC58aUPjmsZQB0kJ6yN4Q5AXz1Xpm2sEEApVOW7owwNQGVLjRfjmRJAFoGiwAAGEEAyexul94wRQDS7Sv8SUBJAYROU6KowFUAjbVKBkbQSQN35AwQdfhJA9NnBWciPFECe3lx7Z/cZQJ8EEfrJLw9AI3/c2izYEUDsCYK3GXEQQM0gs/RqyBJAcXS6OWvzFEATl60coQwRQFekKB8nNRRAumt0xBWzD0AougU0IxYQQD6B6RPQ+hNA/KVPUO0rF0B9Xwvl5MMSQPaAehHBnBVAOJOOweQSEkB/SD2EGUgWQBIXFRY/0A9A",
          "dtype": "f8"
         },
         "xaxis": "x",
         "y": {
          "bdata": "EsaMAltAAkAMp926v/wDQL1pVq2Ts/Y/llKKy4n6AEAi2vwl5BD1P9vOMBvbIPU/LeYNyYjfAkD29VrkIUDvP3BAUDM2g/Y/sZu2sDFPAEAcWCfzDnTvP1Rb4PKuOBRAySR6DlptAkAAc8Hr4gUEQBwN7MMBVto/7De+8ofAAUAYhfgNdaP+PyADah5h0QJA2tMJ1JJgAkDqbxW2CZHzPw+1gBdGNfc/UFf1Q9dfA0CLp083o0L5P4BMTH8c2+U/KJL69k/j9z+Via/NmYcGQIzPETyBUwVAUx/Y87sy7z+ybRanQuz1Pyqoi2RdX/k/fvmWJIEiBECX0w2qotADQO1J//xOFAVA9hQ7KKSZ9z8MHnRmAkr7P/STgCvqxABAkGBmZdHw8D9FLEngLEQFQJ+Tq24pvgJAcDkYauOYEEBTJCWBpGQGQEpcDKuhh+o/0ugc8I8NB0A45Pm8Y3XyP/KTh8JBnwBAok4EgLIrAUCKjKoYqtcDQIFUvmWc0gRAYE94Igo5BUBz3g5k4KgFQHTzD5GFFglA7p6veCIa/j+eSHTzi6QEQCqdTrL+9wFA1Kuh08HsC0C9+Lhi8Dr3P3r8yttHiQBAFPVBgF6Z9D9Qx3c0y63eP3Hf/uIMz/4/piw5s95aBEBKrk+krT0FQLlCA+eBo/o/eTEmCBWxA0CM2vUrMMEGQFhFWKLWEgNAMNzm1oBc6D8th1KHGIr8PwdLFUI2vgRAPPeozSNi6j+/ViSHjMbxPw3u93pK9ANAjKL5TvOMA0A5r/58orP/Pznvf3WAZvg/",
          "dtype": "f8"
         },
         "yaxis": "y"
        },
        {
         "marker": {
          "color": "white",
          "size": 15,
          "symbol": "x"
         },
         "mode": "markers",
         "name": "Centroides",
         "type": "scatter",
         "x": {
          "bdata": "ANOI5+YYBcCooNCsAl4bwEClD5BmzxJA7EBIFKeqIcA=",
          "dtype": "f8"
         },
         "y": {
          "bdata": "dc0/vaX4IUAasaCljlwbwI+ownd9OQBAGCQ8vSHfHEA=",
          "dtype": "f8"
         }
        }
       ],
       "layout": {
        "legend": {
         "title": {
          "text": "cluster_kmeans"
         },
         "tracegroupgap": 0
        },
        "template": {
         "data": {
          "bar": [
           {
            "error_x": {
             "color": "#f2f5fa"
            },
            "error_y": {
             "color": "#f2f5fa"
            },
            "marker": {
             "line": {
              "color": "rgb(17,17,17)",
              "width": 0.5
             },
             "pattern": {
              "fillmode": "overlay",
              "size": 10,
              "solidity": 0.2
             }
            },
            "type": "bar"
           }
          ],
          "barpolar": [
           {
            "marker": {
             "line": {
              "color": "rgb(17,17,17)",
              "width": 0.5
             },
             "pattern": {
              "fillmode": "overlay",
              "size": 10,
              "solidity": 0.2
             }
            },
            "type": "barpolar"
           }
          ],
          "carpet": [
           {
            "aaxis": {
             "endlinecolor": "#A2B1C6",
             "gridcolor": "#506784",
             "linecolor": "#506784",
             "minorgridcolor": "#506784",
             "startlinecolor": "#A2B1C6"
            },
            "baxis": {
             "endlinecolor": "#A2B1C6",
             "gridcolor": "#506784",
             "linecolor": "#506784",
             "minorgridcolor": "#506784",
             "startlinecolor": "#A2B1C6"
            },
            "type": "carpet"
           }
          ],
          "choropleth": [
           {
            "colorbar": {
             "outlinewidth": 0,
             "ticks": ""
            },
            "type": "choropleth"
           }
          ],
          "contour": [
           {
            "colorbar": {
             "outlinewidth": 0,
             "ticks": ""
            },
            "colorscale": [
             [
              0,
              "#0d0887"
             ],
             [
              0.1111111111111111,
              "#46039f"
             ],
             [
              0.2222222222222222,
              "#7201a8"
             ],
             [
              0.3333333333333333,
              "#9c179e"
             ],
             [
              0.4444444444444444,
              "#bd3786"
             ],
             [
              0.5555555555555556,
              "#d8576b"
             ],
             [
              0.6666666666666666,
              "#ed7953"
             ],
             [
              0.7777777777777778,
              "#fb9f3a"
             ],
             [
              0.8888888888888888,
              "#fdca26"
             ],
             [
              1,
              "#f0f921"
             ]
            ],
            "type": "contour"
           }
          ],
          "contourcarpet": [
           {
            "colorbar": {
             "outlinewidth": 0,
             "ticks": ""
            },
            "type": "contourcarpet"
           }
          ],
          "heatmap": [
           {
            "colorbar": {
             "outlinewidth": 0,
             "ticks": ""
            },
            "colorscale": [
             [
              0,
              "#0d0887"
             ],
             [
              0.1111111111111111,
              "#46039f"
             ],
             [
              0.2222222222222222,
              "#7201a8"
             ],
             [
              0.3333333333333333,
              "#9c179e"
             ],
             [
              0.4444444444444444,
              "#bd3786"
             ],
             [
              0.5555555555555556,
              "#d8576b"
             ],
             [
              0.6666666666666666,
              "#ed7953"
             ],
             [
              0.7777777777777778,
              "#fb9f3a"
             ],
             [
              0.8888888888888888,
              "#fdca26"
             ],
             [
              1,
              "#f0f921"
             ]
            ],
            "type": "heatmap"
           }
          ],
          "histogram": [
           {
            "marker": {
             "pattern": {
              "fillmode": "overlay",
              "size": 10,
              "solidity": 0.2
             }
            },
            "type": "histogram"
           }
          ],
          "histogram2d": [
           {
            "colorbar": {
             "outlinewidth": 0,
             "ticks": ""
            },
            "colorscale": [
             [
              0,
              "#0d0887"
             ],
             [
              0.1111111111111111,
              "#46039f"
             ],
             [
              0.2222222222222222,
              "#7201a8"
             ],
             [
              0.3333333333333333,
              "#9c179e"
             ],
             [
              0.4444444444444444,
              "#bd3786"
             ],
             [
              0.5555555555555556,
              "#d8576b"
             ],
             [
              0.6666666666666666,
              "#ed7953"
             ],
             [
              0.7777777777777778,
              "#fb9f3a"
             ],
             [
              0.8888888888888888,
              "#fdca26"
             ],
             [
              1,
              "#f0f921"
             ]
            ],
            "type": "histogram2d"
           }
          ],
          "histogram2dcontour": [
           {
            "colorbar": {
             "outlinewidth": 0,
             "ticks": ""
            },
            "colorscale": [
             [
              0,
              "#0d0887"
             ],
             [
              0.1111111111111111,
              "#46039f"
             ],
             [
              0.2222222222222222,
              "#7201a8"
             ],
             [
              0.3333333333333333,
              "#9c179e"
             ],
             [
              0.4444444444444444,
              "#bd3786"
             ],
             [
              0.5555555555555556,
              "#d8576b"
             ],
             [
              0.6666666666666666,
              "#ed7953"
             ],
             [
              0.7777777777777778,
              "#fb9f3a"
             ],
             [
              0.8888888888888888,
              "#fdca26"
             ],
             [
              1,
              "#f0f921"
             ]
            ],
            "type": "histogram2dcontour"
           }
          ],
          "mesh3d": [
           {
            "colorbar": {
             "outlinewidth": 0,
             "ticks": ""
            },
            "type": "mesh3d"
           }
          ],
          "parcoords": [
           {
            "line": {
             "colorbar": {
              "outlinewidth": 0,
              "ticks": ""
             }
            },
            "type": "parcoords"
           }
          ],
          "pie": [
           {
            "automargin": true,
            "type": "pie"
           }
          ],
          "scatter": [
           {
            "marker": {
             "line": {
              "color": "#283442"
             }
            },
            "type": "scatter"
           }
          ],
          "scatter3d": [
           {
            "line": {
             "colorbar": {
              "outlinewidth": 0,
              "ticks": ""
             }
            },
            "marker": {
             "colorbar": {
              "outlinewidth": 0,
              "ticks": ""
             }
            },
            "type": "scatter3d"
           }
          ],
          "scattercarpet": [
           {
            "marker": {
             "colorbar": {
              "outlinewidth": 0,
              "ticks": ""
             }
            },
            "type": "scattercarpet"
           }
          ],
          "scattergeo": [
           {
            "marker": {
             "colorbar": {
              "outlinewidth": 0,
              "ticks": ""
             }
            },
            "type": "scattergeo"
           }
          ],
          "scattergl": [
           {
            "marker": {
             "line": {
              "color": "#283442"
             }
            },
            "type": "scattergl"
           }
          ],
          "scattermap": [
           {
            "marker": {
             "colorbar": {
              "outlinewidth": 0,
              "ticks": ""
             }
            },
            "type": "scattermap"
           }
          ],
          "scattermapbox": [
           {
            "marker": {
             "colorbar": {
              "outlinewidth": 0,
              "ticks": ""
             }
            },
            "type": "scattermapbox"
           }
          ],
          "scatterpolar": [
           {
            "marker": {
             "colorbar": {
              "outlinewidth": 0,
              "ticks": ""
             }
            },
            "type": "scatterpolar"
           }
          ],
          "scatterpolargl": [
           {
            "marker": {
             "colorbar": {
              "outlinewidth": 0,
              "ticks": ""
             }
            },
            "type": "scatterpolargl"
           }
          ],
          "scatterternary": [
           {
            "marker": {
             "colorbar": {
              "outlinewidth": 0,
              "ticks": ""
             }
            },
            "type": "scatterternary"
           }
          ],
          "surface": [
           {
            "colorbar": {
             "outlinewidth": 0,
             "ticks": ""
            },
            "colorscale": [
             [
              0,
              "#0d0887"
             ],
             [
              0.1111111111111111,
              "#46039f"
             ],
             [
              0.2222222222222222,
              "#7201a8"
             ],
             [
              0.3333333333333333,
              "#9c179e"
             ],
             [
              0.4444444444444444,
              "#bd3786"
             ],
             [
              0.5555555555555556,
              "#d8576b"
             ],
             [
              0.6666666666666666,
              "#ed7953"
             ],
             [
              0.7777777777777778,
              "#fb9f3a"
             ],
             [
              0.8888888888888888,
              "#fdca26"
             ],
             [
              1,
              "#f0f921"
             ]
            ],
            "type": "surface"
           }
          ],
          "table": [
           {
            "cells": {
             "fill": {
              "color": "#506784"
             },
             "line": {
              "color": "rgb(17,17,17)"
             }
            },
            "header": {
             "fill": {
              "color": "#2a3f5f"
             },
             "line": {
              "color": "rgb(17,17,17)"
             }
            },
            "type": "table"
           }
          ]
         },
         "layout": {
          "annotationdefaults": {
           "arrowcolor": "#f2f5fa",
           "arrowhead": 0,
           "arrowwidth": 1
          },
          "autotypenumbers": "strict",
          "coloraxis": {
           "colorbar": {
            "outlinewidth": 0,
            "ticks": ""
           }
          },
          "colorscale": {
           "diverging": [
            [
             0,
             "#8e0152"
            ],
            [
             0.1,
             "#c51b7d"
            ],
            [
             0.2,
             "#de77ae"
            ],
            [
             0.3,
             "#f1b6da"
            ],
            [
             0.4,
             "#fde0ef"
            ],
            [
             0.5,
             "#f7f7f7"
            ],
            [
             0.6,
             "#e6f5d0"
            ],
            [
             0.7,
             "#b8e186"
            ],
            [
             0.8,
             "#7fbc41"
            ],
            [
             0.9,
             "#4d9221"
            ],
            [
             1,
             "#276419"
            ]
           ],
           "sequential": [
            [
             0,
             "#0d0887"
            ],
            [
             0.1111111111111111,
             "#46039f"
            ],
            [
             0.2222222222222222,
             "#7201a8"
            ],
            [
             0.3333333333333333,
             "#9c179e"
            ],
            [
             0.4444444444444444,
             "#bd3786"
            ],
            [
             0.5555555555555556,
             "#d8576b"
            ],
            [
             0.6666666666666666,
             "#ed7953"
            ],
            [
             0.7777777777777778,
             "#fb9f3a"
            ],
            [
             0.8888888888888888,
             "#fdca26"
            ],
            [
             1,
             "#f0f921"
            ]
           ],
           "sequentialminus": [
            [
             0,
             "#0d0887"
            ],
            [
             0.1111111111111111,
             "#46039f"
            ],
            [
             0.2222222222222222,
             "#7201a8"
            ],
            [
             0.3333333333333333,
             "#9c179e"
            ],
            [
             0.4444444444444444,
             "#bd3786"
            ],
            [
             0.5555555555555556,
             "#d8576b"
            ],
            [
             0.6666666666666666,
             "#ed7953"
            ],
            [
             0.7777777777777778,
             "#fb9f3a"
            ],
            [
             0.8888888888888888,
             "#fdca26"
            ],
            [
             1,
             "#f0f921"
            ]
           ]
          },
          "colorway": [
           "#636efa",
           "#EF553B",
           "#00cc96",
           "#ab63fa",
           "#FFA15A",
           "#19d3f3",
           "#FF6692",
           "#B6E880",
           "#FF97FF",
           "#FECB52"
          ],
          "font": {
           "color": "#f2f5fa"
          },
          "geo": {
           "bgcolor": "rgb(17,17,17)",
           "lakecolor": "rgb(17,17,17)",
           "landcolor": "rgb(17,17,17)",
           "showlakes": true,
           "showland": true,
           "subunitcolor": "#506784"
          },
          "hoverlabel": {
           "align": "left"
          },
          "hovermode": "closest",
          "mapbox": {
           "style": "dark"
          },
          "paper_bgcolor": "rgb(17,17,17)",
          "plot_bgcolor": "rgb(17,17,17)",
          "polar": {
           "angularaxis": {
            "gridcolor": "#506784",
            "linecolor": "#506784",
            "ticks": ""
           },
           "bgcolor": "rgb(17,17,17)",
           "radialaxis": {
            "gridcolor": "#506784",
            "linecolor": "#506784",
            "ticks": ""
           }
          },
          "scene": {
           "xaxis": {
            "backgroundcolor": "rgb(17,17,17)",
            "gridcolor": "#506784",
            "gridwidth": 2,
            "linecolor": "#506784",
            "showbackground": true,
            "ticks": "",
            "zerolinecolor": "#C8D4E3"
           },
           "yaxis": {
            "backgroundcolor": "rgb(17,17,17)",
            "gridcolor": "#506784",
            "gridwidth": 2,
            "linecolor": "#506784",
            "showbackground": true,
            "ticks": "",
            "zerolinecolor": "#C8D4E3"
           },
           "zaxis": {
            "backgroundcolor": "rgb(17,17,17)",
            "gridcolor": "#506784",
            "gridwidth": 2,
            "linecolor": "#506784",
            "showbackground": true,
            "ticks": "",
            "zerolinecolor": "#C8D4E3"
           }
          },
          "shapedefaults": {
           "line": {
            "color": "#f2f5fa"
           }
          },
          "sliderdefaults": {
           "bgcolor": "#C8D4E3",
           "bordercolor": "rgb(17,17,17)",
           "borderwidth": 1,
           "tickwidth": 0
          },
          "ternary": {
           "aaxis": {
            "gridcolor": "#506784",
            "linecolor": "#506784",
            "ticks": ""
           },
           "baxis": {
            "gridcolor": "#506784",
            "linecolor": "#506784",
            "ticks": ""
           },
           "bgcolor": "rgb(17,17,17)",
           "caxis": {
            "gridcolor": "#506784",
            "linecolor": "#506784",
            "ticks": ""
           }
          },
          "title": {
           "x": 0.05
          },
          "updatemenudefaults": {
           "bgcolor": "#506784",
           "borderwidth": 0
          },
          "xaxis": {
           "automargin": true,
           "gridcolor": "#283442",
           "linecolor": "#506784",
           "ticks": "",
           "title": {
            "standoff": 15
           },
           "zerolinecolor": "#283442",
           "zerolinewidth": 2
          },
          "yaxis": {
           "automargin": true,
           "gridcolor": "#283442",
           "linecolor": "#506784",
           "ticks": "",
           "title": {
            "standoff": 15
           },
           "zerolinecolor": "#283442",
           "zerolinewidth": 2
          }
         }
        },
        "title": {
         "text": "Resultados de K-Means Clustering (K=4)"
        },
        "xaxis": {
         "anchor": "y",
         "domain": [
          0,
          1
         ],
         "title": {
          "text": "X1"
         }
        },
        "yaxis": {
         "anchor": "x",
         "domain": [
          0,
          1
         ],
         "title": {
          "text": "X2"
         }
        }
       }
      }
     },
     "metadata": {},
     "output_type": "display_data"
    }
   ],
   "source": [
    "# --- 3. Implementación del Método del Codo ---\n",
    "inertia_values = []\n",
    "k_range = range(1, 11)\n",
    "n_init_value = 20  # Cambiamos n_init a 1 para ver el efecto\n",
    "for k in k_range:\n",
    "    kmeans = KMeans(n_clusters=k, n_init=n_init_value, random_state=42)\n",
    "    kmeans.fit(X_blobs)\n",
    "    inertia_values.append(kmeans.inertia_)\n",
    "\n",
    "print(inertia_values)\n",
    "# Graficamos los resultados\n",
    "fig = px.line(x=k_range, y=inertia_values, title='Método del Codo para Encontrar K Óptimo',\n",
    "              labels={'x': 'Número de Clusters (K)', 'y': 'Inercia (WCSS)'},\n",
    "              markers=True)\n",
    "fig.add_vline(x=4, line_width=3, line_dash=\"dash\", line_color=\"red\", annotation_text=\"Codo en K=4\")\n",
    "fig.show()\n",
    "\n",
    "# --- 4. Aplicar K-Means con K=4 ---\n",
    "optimal_k = 4\n",
    "kmeans_final = KMeans(n_clusters=optimal_k, n_init=n_init_value, random_state=42)\n",
    "kmeans_final.fit(X_blobs)\n",
    "\n",
    "# Obtenemos las etiquetas de los clusters y los centroides\n",
    "labels_kmeans = kmeans_final.labels_\n",
    "centroids = kmeans_final.cluster_centers_\n",
    "\n",
    "# Calculamos el coeficiente de silueta\n",
    "silhouette_avg = silhouette_score(X_blobs, labels_kmeans)\n",
    "print(f\"Para K={optimal_k}, el coeficiente de silueta promedio es: {silhouette_avg:.4f}\")\n",
    "\n",
    "# --- 5. Visualización de los Resultados de K-Means ---\n",
    "df_blobs = pd.DataFrame(X_blobs, columns=['X1', 'X2'])\n",
    "df_blobs['cluster_kmeans'] = labels_kmeans.astype(str) # Convertir a string para colores discretos\n",
    "\n",
    "fig = px.scatter(df_blobs, x='X1', y='X2', color='cluster_kmeans', \n",
    "                 title='Resultados de K-Means Clustering (K=4)')\n",
    "\n",
    "# Añadimos los centroides al gráfico\n",
    "fig.add_trace(go.Scatter(x=centroids[:, 0], y=centroids[:, 1],\n",
    "                          mode='markers', \n",
    "                          marker=dict(color='white', size=15, symbol='x'),\n",
    "                          name='Centroides'))\n",
    "fig.show()"
   ]
  },
  {
   "cell_type": "markdown",
   "metadata": {},
   "source": [
    "### No parece modificar en nada el n_init REVISAR ESTE PUNTO, debería verse alguna diferencia"
   ]
  },
  {
   "cell_type": "markdown",
   "metadata": {},
   "source": [
    "### 3 Silueta para K"
   ]
  },
  {
   "cell_type": "code",
   "execution_count": 65,
   "metadata": {},
   "outputs": [
    {
     "name": "stdout",
     "output_type": "stream",
     "text": [
      "Para K=2, el coeficiente de silueta promedio es: 0.6030\n",
      "Para K=3, el coeficiente de silueta promedio es: 0.7783\n",
      "Para K=4, el coeficiente de silueta promedio es: 0.8335\n",
      "Para K=5, el coeficiente de silueta promedio es: 0.6976\n",
      "Para K=6, el coeficiente de silueta promedio es: 0.5882\n",
      "Para K=7, el coeficiente de silueta promedio es: 0.4487\n",
      "Para K=8, el coeficiente de silueta promedio es: 0.3322\n",
      "Para K=9, el coeficiente de silueta promedio es: 0.3439\n",
      "Para K=10, el coeficiente de silueta promedio es: 0.3588\n"
     ]
    },
    {
     "data": {
      "application/vnd.plotly.v1+json": {
       "config": {
        "plotlyServerURL": "https://plot.ly"
       },
       "data": [
        {
         "hovertemplate": "Número de Clusters (K)=%{x}<br>Inercia (WCSS)=%{y}<extra></extra>",
         "legendgroup": "",
         "line": {
          "color": "#636efa",
          "dash": "solid"
         },
         "marker": {
          "symbol": "circle"
         },
         "mode": "lines+markers",
         "name": "",
         "orientation": "v",
         "showlegend": false,
         "type": "scatter",
         "x": {
          "bdata": "AgMEBQYHCAkK",
          "dtype": "i1"
         },
         "xaxis": "x",
         "y": {
          "bdata": "zyik4JpL4z9KcAG9fOfoP3n8t3oLrOo/Q6fwtR9T5j/l8u1xU9LiP0S1ZWEjuNw/JOo+78BC1T+oldSjHQLWP/1EfFxW9tY/",
          "dtype": "f8"
         },
         "yaxis": "y"
        }
       ],
       "layout": {
        "annotations": [
         {
          "showarrow": false,
          "text": "Silueta en K=4",
          "x": 4,
          "xanchor": "left",
          "xref": "x",
          "y": 1,
          "yanchor": "top",
          "yref": "y domain"
         }
        ],
        "legend": {
         "tracegroupgap": 0
        },
        "shapes": [
         {
          "line": {
           "color": "red",
           "dash": "dash",
           "width": 3
          },
          "type": "line",
          "x0": 4,
          "x1": 4,
          "xref": "x",
          "y0": 0,
          "y1": 1,
          "yref": "y domain"
         }
        ],
        "template": {
         "data": {
          "bar": [
           {
            "error_x": {
             "color": "#f2f5fa"
            },
            "error_y": {
             "color": "#f2f5fa"
            },
            "marker": {
             "line": {
              "color": "rgb(17,17,17)",
              "width": 0.5
             },
             "pattern": {
              "fillmode": "overlay",
              "size": 10,
              "solidity": 0.2
             }
            },
            "type": "bar"
           }
          ],
          "barpolar": [
           {
            "marker": {
             "line": {
              "color": "rgb(17,17,17)",
              "width": 0.5
             },
             "pattern": {
              "fillmode": "overlay",
              "size": 10,
              "solidity": 0.2
             }
            },
            "type": "barpolar"
           }
          ],
          "carpet": [
           {
            "aaxis": {
             "endlinecolor": "#A2B1C6",
             "gridcolor": "#506784",
             "linecolor": "#506784",
             "minorgridcolor": "#506784",
             "startlinecolor": "#A2B1C6"
            },
            "baxis": {
             "endlinecolor": "#A2B1C6",
             "gridcolor": "#506784",
             "linecolor": "#506784",
             "minorgridcolor": "#506784",
             "startlinecolor": "#A2B1C6"
            },
            "type": "carpet"
           }
          ],
          "choropleth": [
           {
            "colorbar": {
             "outlinewidth": 0,
             "ticks": ""
            },
            "type": "choropleth"
           }
          ],
          "contour": [
           {
            "colorbar": {
             "outlinewidth": 0,
             "ticks": ""
            },
            "colorscale": [
             [
              0,
              "#0d0887"
             ],
             [
              0.1111111111111111,
              "#46039f"
             ],
             [
              0.2222222222222222,
              "#7201a8"
             ],
             [
              0.3333333333333333,
              "#9c179e"
             ],
             [
              0.4444444444444444,
              "#bd3786"
             ],
             [
              0.5555555555555556,
              "#d8576b"
             ],
             [
              0.6666666666666666,
              "#ed7953"
             ],
             [
              0.7777777777777778,
              "#fb9f3a"
             ],
             [
              0.8888888888888888,
              "#fdca26"
             ],
             [
              1,
              "#f0f921"
             ]
            ],
            "type": "contour"
           }
          ],
          "contourcarpet": [
           {
            "colorbar": {
             "outlinewidth": 0,
             "ticks": ""
            },
            "type": "contourcarpet"
           }
          ],
          "heatmap": [
           {
            "colorbar": {
             "outlinewidth": 0,
             "ticks": ""
            },
            "colorscale": [
             [
              0,
              "#0d0887"
             ],
             [
              0.1111111111111111,
              "#46039f"
             ],
             [
              0.2222222222222222,
              "#7201a8"
             ],
             [
              0.3333333333333333,
              "#9c179e"
             ],
             [
              0.4444444444444444,
              "#bd3786"
             ],
             [
              0.5555555555555556,
              "#d8576b"
             ],
             [
              0.6666666666666666,
              "#ed7953"
             ],
             [
              0.7777777777777778,
              "#fb9f3a"
             ],
             [
              0.8888888888888888,
              "#fdca26"
             ],
             [
              1,
              "#f0f921"
             ]
            ],
            "type": "heatmap"
           }
          ],
          "histogram": [
           {
            "marker": {
             "pattern": {
              "fillmode": "overlay",
              "size": 10,
              "solidity": 0.2
             }
            },
            "type": "histogram"
           }
          ],
          "histogram2d": [
           {
            "colorbar": {
             "outlinewidth": 0,
             "ticks": ""
            },
            "colorscale": [
             [
              0,
              "#0d0887"
             ],
             [
              0.1111111111111111,
              "#46039f"
             ],
             [
              0.2222222222222222,
              "#7201a8"
             ],
             [
              0.3333333333333333,
              "#9c179e"
             ],
             [
              0.4444444444444444,
              "#bd3786"
             ],
             [
              0.5555555555555556,
              "#d8576b"
             ],
             [
              0.6666666666666666,
              "#ed7953"
             ],
             [
              0.7777777777777778,
              "#fb9f3a"
             ],
             [
              0.8888888888888888,
              "#fdca26"
             ],
             [
              1,
              "#f0f921"
             ]
            ],
            "type": "histogram2d"
           }
          ],
          "histogram2dcontour": [
           {
            "colorbar": {
             "outlinewidth": 0,
             "ticks": ""
            },
            "colorscale": [
             [
              0,
              "#0d0887"
             ],
             [
              0.1111111111111111,
              "#46039f"
             ],
             [
              0.2222222222222222,
              "#7201a8"
             ],
             [
              0.3333333333333333,
              "#9c179e"
             ],
             [
              0.4444444444444444,
              "#bd3786"
             ],
             [
              0.5555555555555556,
              "#d8576b"
             ],
             [
              0.6666666666666666,
              "#ed7953"
             ],
             [
              0.7777777777777778,
              "#fb9f3a"
             ],
             [
              0.8888888888888888,
              "#fdca26"
             ],
             [
              1,
              "#f0f921"
             ]
            ],
            "type": "histogram2dcontour"
           }
          ],
          "mesh3d": [
           {
            "colorbar": {
             "outlinewidth": 0,
             "ticks": ""
            },
            "type": "mesh3d"
           }
          ],
          "parcoords": [
           {
            "line": {
             "colorbar": {
              "outlinewidth": 0,
              "ticks": ""
             }
            },
            "type": "parcoords"
           }
          ],
          "pie": [
           {
            "automargin": true,
            "type": "pie"
           }
          ],
          "scatter": [
           {
            "marker": {
             "line": {
              "color": "#283442"
             }
            },
            "type": "scatter"
           }
          ],
          "scatter3d": [
           {
            "line": {
             "colorbar": {
              "outlinewidth": 0,
              "ticks": ""
             }
            },
            "marker": {
             "colorbar": {
              "outlinewidth": 0,
              "ticks": ""
             }
            },
            "type": "scatter3d"
           }
          ],
          "scattercarpet": [
           {
            "marker": {
             "colorbar": {
              "outlinewidth": 0,
              "ticks": ""
             }
            },
            "type": "scattercarpet"
           }
          ],
          "scattergeo": [
           {
            "marker": {
             "colorbar": {
              "outlinewidth": 0,
              "ticks": ""
             }
            },
            "type": "scattergeo"
           }
          ],
          "scattergl": [
           {
            "marker": {
             "line": {
              "color": "#283442"
             }
            },
            "type": "scattergl"
           }
          ],
          "scattermap": [
           {
            "marker": {
             "colorbar": {
              "outlinewidth": 0,
              "ticks": ""
             }
            },
            "type": "scattermap"
           }
          ],
          "scattermapbox": [
           {
            "marker": {
             "colorbar": {
              "outlinewidth": 0,
              "ticks": ""
             }
            },
            "type": "scattermapbox"
           }
          ],
          "scatterpolar": [
           {
            "marker": {
             "colorbar": {
              "outlinewidth": 0,
              "ticks": ""
             }
            },
            "type": "scatterpolar"
           }
          ],
          "scatterpolargl": [
           {
            "marker": {
             "colorbar": {
              "outlinewidth": 0,
              "ticks": ""
             }
            },
            "type": "scatterpolargl"
           }
          ],
          "scatterternary": [
           {
            "marker": {
             "colorbar": {
              "outlinewidth": 0,
              "ticks": ""
             }
            },
            "type": "scatterternary"
           }
          ],
          "surface": [
           {
            "colorbar": {
             "outlinewidth": 0,
             "ticks": ""
            },
            "colorscale": [
             [
              0,
              "#0d0887"
             ],
             [
              0.1111111111111111,
              "#46039f"
             ],
             [
              0.2222222222222222,
              "#7201a8"
             ],
             [
              0.3333333333333333,
              "#9c179e"
             ],
             [
              0.4444444444444444,
              "#bd3786"
             ],
             [
              0.5555555555555556,
              "#d8576b"
             ],
             [
              0.6666666666666666,
              "#ed7953"
             ],
             [
              0.7777777777777778,
              "#fb9f3a"
             ],
             [
              0.8888888888888888,
              "#fdca26"
             ],
             [
              1,
              "#f0f921"
             ]
            ],
            "type": "surface"
           }
          ],
          "table": [
           {
            "cells": {
             "fill": {
              "color": "#506784"
             },
             "line": {
              "color": "rgb(17,17,17)"
             }
            },
            "header": {
             "fill": {
              "color": "#2a3f5f"
             },
             "line": {
              "color": "rgb(17,17,17)"
             }
            },
            "type": "table"
           }
          ]
         },
         "layout": {
          "annotationdefaults": {
           "arrowcolor": "#f2f5fa",
           "arrowhead": 0,
           "arrowwidth": 1
          },
          "autotypenumbers": "strict",
          "coloraxis": {
           "colorbar": {
            "outlinewidth": 0,
            "ticks": ""
           }
          },
          "colorscale": {
           "diverging": [
            [
             0,
             "#8e0152"
            ],
            [
             0.1,
             "#c51b7d"
            ],
            [
             0.2,
             "#de77ae"
            ],
            [
             0.3,
             "#f1b6da"
            ],
            [
             0.4,
             "#fde0ef"
            ],
            [
             0.5,
             "#f7f7f7"
            ],
            [
             0.6,
             "#e6f5d0"
            ],
            [
             0.7,
             "#b8e186"
            ],
            [
             0.8,
             "#7fbc41"
            ],
            [
             0.9,
             "#4d9221"
            ],
            [
             1,
             "#276419"
            ]
           ],
           "sequential": [
            [
             0,
             "#0d0887"
            ],
            [
             0.1111111111111111,
             "#46039f"
            ],
            [
             0.2222222222222222,
             "#7201a8"
            ],
            [
             0.3333333333333333,
             "#9c179e"
            ],
            [
             0.4444444444444444,
             "#bd3786"
            ],
            [
             0.5555555555555556,
             "#d8576b"
            ],
            [
             0.6666666666666666,
             "#ed7953"
            ],
            [
             0.7777777777777778,
             "#fb9f3a"
            ],
            [
             0.8888888888888888,
             "#fdca26"
            ],
            [
             1,
             "#f0f921"
            ]
           ],
           "sequentialminus": [
            [
             0,
             "#0d0887"
            ],
            [
             0.1111111111111111,
             "#46039f"
            ],
            [
             0.2222222222222222,
             "#7201a8"
            ],
            [
             0.3333333333333333,
             "#9c179e"
            ],
            [
             0.4444444444444444,
             "#bd3786"
            ],
            [
             0.5555555555555556,
             "#d8576b"
            ],
            [
             0.6666666666666666,
             "#ed7953"
            ],
            [
             0.7777777777777778,
             "#fb9f3a"
            ],
            [
             0.8888888888888888,
             "#fdca26"
            ],
            [
             1,
             "#f0f921"
            ]
           ]
          },
          "colorway": [
           "#636efa",
           "#EF553B",
           "#00cc96",
           "#ab63fa",
           "#FFA15A",
           "#19d3f3",
           "#FF6692",
           "#B6E880",
           "#FF97FF",
           "#FECB52"
          ],
          "font": {
           "color": "#f2f5fa"
          },
          "geo": {
           "bgcolor": "rgb(17,17,17)",
           "lakecolor": "rgb(17,17,17)",
           "landcolor": "rgb(17,17,17)",
           "showlakes": true,
           "showland": true,
           "subunitcolor": "#506784"
          },
          "hoverlabel": {
           "align": "left"
          },
          "hovermode": "closest",
          "mapbox": {
           "style": "dark"
          },
          "paper_bgcolor": "rgb(17,17,17)",
          "plot_bgcolor": "rgb(17,17,17)",
          "polar": {
           "angularaxis": {
            "gridcolor": "#506784",
            "linecolor": "#506784",
            "ticks": ""
           },
           "bgcolor": "rgb(17,17,17)",
           "radialaxis": {
            "gridcolor": "#506784",
            "linecolor": "#506784",
            "ticks": ""
           }
          },
          "scene": {
           "xaxis": {
            "backgroundcolor": "rgb(17,17,17)",
            "gridcolor": "#506784",
            "gridwidth": 2,
            "linecolor": "#506784",
            "showbackground": true,
            "ticks": "",
            "zerolinecolor": "#C8D4E3"
           },
           "yaxis": {
            "backgroundcolor": "rgb(17,17,17)",
            "gridcolor": "#506784",
            "gridwidth": 2,
            "linecolor": "#506784",
            "showbackground": true,
            "ticks": "",
            "zerolinecolor": "#C8D4E3"
           },
           "zaxis": {
            "backgroundcolor": "rgb(17,17,17)",
            "gridcolor": "#506784",
            "gridwidth": 2,
            "linecolor": "#506784",
            "showbackground": true,
            "ticks": "",
            "zerolinecolor": "#C8D4E3"
           }
          },
          "shapedefaults": {
           "line": {
            "color": "#f2f5fa"
           }
          },
          "sliderdefaults": {
           "bgcolor": "#C8D4E3",
           "bordercolor": "rgb(17,17,17)",
           "borderwidth": 1,
           "tickwidth": 0
          },
          "ternary": {
           "aaxis": {
            "gridcolor": "#506784",
            "linecolor": "#506784",
            "ticks": ""
           },
           "baxis": {
            "gridcolor": "#506784",
            "linecolor": "#506784",
            "ticks": ""
           },
           "bgcolor": "rgb(17,17,17)",
           "caxis": {
            "gridcolor": "#506784",
            "linecolor": "#506784",
            "ticks": ""
           }
          },
          "title": {
           "x": 0.05
          },
          "updatemenudefaults": {
           "bgcolor": "#506784",
           "borderwidth": 0
          },
          "xaxis": {
           "automargin": true,
           "gridcolor": "#283442",
           "linecolor": "#506784",
           "ticks": "",
           "title": {
            "standoff": 15
           },
           "zerolinecolor": "#283442",
           "zerolinewidth": 2
          },
          "yaxis": {
           "automargin": true,
           "gridcolor": "#283442",
           "linecolor": "#506784",
           "ticks": "",
           "title": {
            "standoff": 15
           },
           "zerolinecolor": "#283442",
           "zerolinewidth": 2
          }
         }
        },
        "title": {
         "text": "Método de la silueta K Óptimo"
        },
        "xaxis": {
         "anchor": "y",
         "domain": [
          0,
          1
         ],
         "title": {
          "text": "Número de Clusters (K)"
         }
        },
        "yaxis": {
         "anchor": "x",
         "domain": [
          0,
          1
         ],
         "title": {
          "text": "Inercia (WCSS)"
         }
        }
       }
      }
     },
     "metadata": {},
     "output_type": "display_data"
    }
   ],
   "source": [
    "\n",
    "inertia_values = []\n",
    "silhouette_avg_values= []\n",
    "k_range = range(2, 11)\n",
    "\n",
    "for k in k_range:\n",
    "    kmeans_silueta = KMeans(n_clusters=k, n_init=10, random_state=42)\n",
    "    kmeans_silueta.fit(X_blobs)\n",
    "    inertia_values.append(kmeans_silueta.inertia_)\n",
    "    labels_kmeans = kmeans_silueta.labels_\n",
    "    silhouette_avg = silhouette_score(X_blobs, labels_kmeans)\n",
    "    silhouette_avg_values.append(silhouette_avg)\n",
    "    print(f\"Para K={k}, el coeficiente de silueta promedio es: {silhouette_avg:.4f}\")\n",
    "\n",
    "\n",
    "\n",
    "# Graficamos los resultados\n",
    "fig = px.line(x=k_range, y=silhouette_avg_values, title='Método de la silueta K Óptimo',\n",
    "              labels={'x': 'Número de Clusters (K)', 'y': 'Inercia (WCSS)'},\n",
    "              markers=True)\n",
    "fig.add_vline(x=4, line_width=3, line_dash=\"dash\", line_color=\"red\", annotation_text=\"Silueta en K=4\")\n",
    "fig.show()"
   ]
  },
  {
   "cell_type": "markdown",
   "metadata": {},
   "source": [
    "### El valor de k que maximiza coincide con el método del codo k=4"
   ]
  },
  {
   "cell_type": "markdown",
   "metadata": {},
   "source": [
    "### 4 Jerárquico"
   ]
  },
  {
   "cell_type": "code",
   "execution_count": 68,
   "metadata": {},
   "outputs": [
    {
     "data": {
      "image/png": "[encoded data removed]",
      "text/plain": [
       "<Figure size 1500x700 with 1 Axes>"
      ]
     },
     "metadata": {},
     "output_type": "display_data"
    }
   ],
   "source": [
    "# --- 6. Creación del Dendrograma ---\n",
    "\n",
    "# Usamos 'average' como método de enlace\n",
    "linkage_matrix = linkage(X_blobs, method='complete')\n",
    "\n",
    "plt.figure(figsize=(15, 7))\n",
    "dendrogram(linkage_matrix)\n",
    "plt.title('Dendrograma del Clustering Jerárquico')\n",
    "plt.xlabel('Índice de la Muestra', fontsize=20)\n",
    "plt.ylabel('Distancia (Disimilitud)', fontsize=20)\n",
    "plt.axhline(y=4, color='r', linestyle='--') # Linea de corte para K=4\n",
    "plt.show()"
   ]
  },
  {
   "cell_type": "markdown",
   "metadata": {},
   "source": [
    "### El método original que usaba no era simgle sino average. Complete lo que hace es tomar el punto mas lejano. Mide la distancia entre cada cluster como el maximo de las distancias entre todos los puntos del cluster. \n",
    "\n",
    "### Average mide la distncia de un cluster a otro como un promedio de las distancias de todos los puntos. \n",
    "\n",
    "### Desde mi punto de vista es mas fácil interpretar el segundo. \n",
    "### Con este método los cluster son 6 en lugar de 4."
   ]
  },
  {
   "cell_type": "markdown",
   "metadata": {},
   "source": [
    "### 5. Cortes del dendograma"
   ]
  },
  {
   "cell_type": "code",
   "execution_count": 81,
   "metadata": {},
   "outputs": [
    {
     "data": {
      "image/png": "[encoded data removed]",
      "text/plain": [
       "<Figure size 1500x700 with 1 Axes>"
      ]
     },
     "metadata": {},
     "output_type": "display_data"
    }
   ],
   "source": [
    "\n",
    "plt.figure(figsize=(15, 7))\n",
    "dendrogram(linkage_matrix)\n",
    "plt.title('Dendrograma del Clustering Jerárquico')\n",
    "plt.xlabel('Índice de la Muestra', fontsize=20)\n",
    "plt.ylabel('Distancia (Disimilitud)', fontsize=20)\n",
    "plt.axhline(y=16, color='r', linestyle='--', label='Corte para 2 clusters') # Linea de corte para K=2\n",
    "plt.axhline(y=8, color='r', linestyle='--',label='Corte para 3 clusters') # Linea de corte para K=3\n",
    "plt.axhline(y=3, color='r', linestyle='--',label='Corte para 5 clusters') # Linea de corte para K=5\n",
    "\n",
    "plt.legend()\n",
    "plt.show()"
   ]
  },
  {
   "cell_type": "markdown",
   "metadata": {},
   "source": [
    "### 6. Dataset iris"
   ]
  },
  {
   "cell_type": "code",
   "execution_count": 87,
   "metadata": {},
   "outputs": [],
   "source": [
    "from sklearn.datasets import load_iris\n",
    "iris_raw = load_iris()\n",
    "\n",
    "iris_df = pd.DataFrame(data=iris_raw.data, columns=iris_raw.feature_names)\n"
   ]
  }
 ],
 "metadata": {
  "kernelspec": {
   "display_name": "islp",
   "language": "python",
   "name": "python3"
  },
  "language_info": {
   "codemirror_mode": {
    "name": "ipython",
    "version": 3
   },
   "file_extension": ".py",
   "mimetype": "text/x-python",
   "name": "python",
   "nbconvert_exporter": "python",
   "pygments_lexer": "ipython3",
   "version": "3.12.11"
  }
 },
 "nbformat": 4,
 "nbformat_minor": 4
}
