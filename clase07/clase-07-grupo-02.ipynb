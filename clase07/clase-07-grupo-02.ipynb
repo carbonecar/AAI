{
 "cells": [
  {
   "cell_type": "markdown",
   "metadata": {},
   "source": [
    "# Clase 7: Taller Práctico - Otros Métodos Supervisados\n",
    "\n",
    "**Objetivos:**\n",
    "\n",
    "En este taller, aplicaremos y compararemos los tres métodos de clasificación que hemos estudiado en la clase teórica:\n",
    "\n",
    "1.  **k-Nearest Neighbors (k-NN)**: Un clasificador basado en instancia y distancia.\n",
    "2.  **Naive Bayes**: Un clasificador probabilístico basado en el teorema de Bayes.\n",
    "3.  **Perceptrón Multicapa (MLP)**: Nuestro primer vistazo a una red neuronal simple.\n",
    "\n",
    "Utilizaremos el conjunto de datos \"Wine\" de Scikit-learn, un dataset clásico para problemas de clasificación multiclase. El objetivo es clasificar vinos en una de tres categorías basándonos en sus atributos químicos."
   ]
  },
  {
   "cell_type": "markdown",
   "metadata": {},
   "source": [
    "## 1. Configuración Inicial e Importación de Librerías"
   ]
  },
  {
   "cell_type": "code",
   "execution_count": 1,
   "metadata": {},
   "outputs": [],
   "source": [
    "# Librerías para manipulación de datos\n",
    "import pandas as pd\n",
    "import numpy as np\n",
    "\n",
    "import time\n",
    "\n",
    "# Librerías de Scikit-learn para el modelado\n",
    "from sklearn.datasets import load_wine\n",
    "from sklearn.model_selection import train_test_split\n",
    "from sklearn.preprocessing import StandardScaler\n",
    "from sklearn.neighbors import KNeighborsClassifier\n",
    "from sklearn.naive_bayes import GaussianNB\n",
    "from sklearn.neural_network import MLPClassifier\n",
    "from sklearn.metrics import accuracy_score, confusion_matrix, classification_report\n",
    "from sklearn.decomposition import PCA\n",
    "\n",
    "# Librerías para visualización\n",
    "import plotly.express as px\n",
    "import plotly.graph_objects as go"
   ]
  },
  {
   "cell_type": "markdown",
   "metadata": {},
   "source": [
    "## 2. Carga y Exploración del Dataset (EDA)\n",
    "\n",
    "El dataset \"Wine\" contiene los resultados de un análisis químico de vinos cultivados en la misma región en Italia pero derivados de tres cultivares diferentes. El análisis determinó las cantidades de 13 constituyentes encontrados en cada uno de los tres tipos de vinos."
   ]
  },
  {
   "cell_type": "code",
   "execution_count": 2,
   "metadata": {},
   "outputs": [
    {
     "name": "stdout",
     "output_type": "stream",
     "text": [
      "Primeras 5 filas del dataset:\n"
     ]
    },
    {
     "data": {
      "text/html": [
       "<div>\n",
       "<style scoped>\n",
       "    .dataframe tbody tr th:only-of-type {\n",
       "        vertical-align: middle;\n",
       "    }\n",
       "\n",
       "    .dataframe tbody tr th {\n",
       "        vertical-align: top;\n",
       "    }\n",
       "\n",
       "    .dataframe thead th {\n",
       "        text-align: right;\n",
       "    }\n",
       "</style>\n",
       "<table border=\"1\" class=\"dataframe\">\n",
       "  <thead>\n",
       "    <tr style=\"text-align: right;\">\n",
       "      <th></th>\n",
       "      <th>alcohol</th>\n",
       "      <th>malic_acid</th>\n",
       "      <th>ash</th>\n",
       "      <th>alcalinity_of_ash</th>\n",
       "      <th>magnesium</th>\n",
       "      <th>total_phenols</th>\n",
       "      <th>flavanoids</th>\n",
       "      <th>nonflavanoid_phenols</th>\n",
       "      <th>proanthocyanins</th>\n",
       "      <th>color_intensity</th>\n",
       "      <th>hue</th>\n",
       "      <th>od280/od315_of_diluted_wines</th>\n",
       "      <th>proline</th>\n",
       "      <th>target</th>\n",
       "      <th>target_name</th>\n",
       "    </tr>\n",
       "  </thead>\n",
       "  <tbody>\n",
       "    <tr>\n",
       "      <th>0</th>\n",
       "      <td>14.23</td>\n",
       "      <td>1.71</td>\n",
       "      <td>2.43</td>\n",
       "      <td>15.6</td>\n",
       "      <td>127.0</td>\n",
       "      <td>2.80</td>\n",
       "      <td>3.06</td>\n",
       "      <td>0.28</td>\n",
       "      <td>2.29</td>\n",
       "      <td>5.64</td>\n",
       "      <td>1.04</td>\n",
       "      <td>3.92</td>\n",
       "      <td>1065.0</td>\n",
       "      <td>0</td>\n",
       "      <td>Class_0</td>\n",
       "    </tr>\n",
       "    <tr>\n",
       "      <th>1</th>\n",
       "      <td>13.20</td>\n",
       "      <td>1.78</td>\n",
       "      <td>2.14</td>\n",
       "      <td>11.2</td>\n",
       "      <td>100.0</td>\n",
       "      <td>2.65</td>\n",
       "      <td>2.76</td>\n",
       "      <td>0.26</td>\n",
       "      <td>1.28</td>\n",
       "      <td>4.38</td>\n",
       "      <td>1.05</td>\n",
       "      <td>3.40</td>\n",
       "      <td>1050.0</td>\n",
       "      <td>0</td>\n",
       "      <td>Class_0</td>\n",
       "    </tr>\n",
       "    <tr>\n",
       "      <th>2</th>\n",
       "      <td>13.16</td>\n",
       "      <td>2.36</td>\n",
       "      <td>2.67</td>\n",
       "      <td>18.6</td>\n",
       "      <td>101.0</td>\n",
       "      <td>2.80</td>\n",
       "      <td>3.24</td>\n",
       "      <td>0.30</td>\n",
       "      <td>2.81</td>\n",
       "      <td>5.68</td>\n",
       "      <td>1.03</td>\n",
       "      <td>3.17</td>\n",
       "      <td>1185.0</td>\n",
       "      <td>0</td>\n",
       "      <td>Class_0</td>\n",
       "    </tr>\n",
       "    <tr>\n",
       "      <th>3</th>\n",
       "      <td>14.37</td>\n",
       "      <td>1.95</td>\n",
       "      <td>2.50</td>\n",
       "      <td>16.8</td>\n",
       "      <td>113.0</td>\n",
       "      <td>3.85</td>\n",
       "      <td>3.49</td>\n",
       "      <td>0.24</td>\n",
       "      <td>2.18</td>\n",
       "      <td>7.80</td>\n",
       "      <td>0.86</td>\n",
       "      <td>3.45</td>\n",
       "      <td>1480.0</td>\n",
       "      <td>0</td>\n",
       "      <td>Class_0</td>\n",
       "    </tr>\n",
       "    <tr>\n",
       "      <th>4</th>\n",
       "      <td>13.24</td>\n",
       "      <td>2.59</td>\n",
       "      <td>2.87</td>\n",
       "      <td>21.0</td>\n",
       "      <td>118.0</td>\n",
       "      <td>2.80</td>\n",
       "      <td>2.69</td>\n",
       "      <td>0.39</td>\n",
       "      <td>1.82</td>\n",
       "      <td>4.32</td>\n",
       "      <td>1.04</td>\n",
       "      <td>2.93</td>\n",
       "      <td>735.0</td>\n",
       "      <td>0</td>\n",
       "      <td>Class_0</td>\n",
       "    </tr>\n",
       "  </tbody>\n",
       "</table>\n",
       "</div>"
      ],
      "text/plain": [
       "   alcohol  malic_acid   ash  alcalinity_of_ash  magnesium  total_phenols  \\\n",
       "0    14.23        1.71  2.43               15.6      127.0           2.80   \n",
       "1    13.20        1.78  2.14               11.2      100.0           2.65   \n",
       "2    13.16        2.36  2.67               18.6      101.0           2.80   \n",
       "3    14.37        1.95  2.50               16.8      113.0           3.85   \n",
       "4    13.24        2.59  2.87               21.0      118.0           2.80   \n",
       "\n",
       "   flavanoids  nonflavanoid_phenols  proanthocyanins  color_intensity   hue  \\\n",
       "0        3.06                  0.28             2.29             5.64  1.04   \n",
       "1        2.76                  0.26             1.28             4.38  1.05   \n",
       "2        3.24                  0.30             2.81             5.68  1.03   \n",
       "3        3.49                  0.24             2.18             7.80  0.86   \n",
       "4        2.69                  0.39             1.82             4.32  1.04   \n",
       "\n",
       "   od280/od315_of_diluted_wines  proline  target target_name  \n",
       "0                          3.92   1065.0       0     Class_0  \n",
       "1                          3.40   1050.0       0     Class_0  \n",
       "2                          3.17   1185.0       0     Class_0  \n",
       "3                          3.45   1480.0       0     Class_0  \n",
       "4                          2.93    735.0       0     Class_0  "
      ]
     },
     "metadata": {},
     "output_type": "display_data"
    },
    {
     "name": "stdout",
     "output_type": "stream",
     "text": [
      "\n",
      "Descripción estadística de las características:\n"
     ]
    },
    {
     "data": {
      "text/html": [
       "<div>\n",
       "<style scoped>\n",
       "    .dataframe tbody tr th:only-of-type {\n",
       "        vertical-align: middle;\n",
       "    }\n",
       "\n",
       "    .dataframe tbody tr th {\n",
       "        vertical-align: top;\n",
       "    }\n",
       "\n",
       "    .dataframe thead th {\n",
       "        text-align: right;\n",
       "    }\n",
       "</style>\n",
       "<table border=\"1\" class=\"dataframe\">\n",
       "  <thead>\n",
       "    <tr style=\"text-align: right;\">\n",
       "      <th></th>\n",
       "      <th>alcohol</th>\n",
       "      <th>malic_acid</th>\n",
       "      <th>ash</th>\n",
       "      <th>alcalinity_of_ash</th>\n",
       "      <th>magnesium</th>\n",
       "      <th>total_phenols</th>\n",
       "      <th>flavanoids</th>\n",
       "      <th>nonflavanoid_phenols</th>\n",
       "      <th>proanthocyanins</th>\n",
       "      <th>color_intensity</th>\n",
       "      <th>hue</th>\n",
       "      <th>od280/od315_of_diluted_wines</th>\n",
       "      <th>proline</th>\n",
       "      <th>target</th>\n",
       "    </tr>\n",
       "  </thead>\n",
       "  <tbody>\n",
       "    <tr>\n",
       "      <th>count</th>\n",
       "      <td>178.000000</td>\n",
       "      <td>178.000000</td>\n",
       "      <td>178.000000</td>\n",
       "      <td>178.000000</td>\n",
       "      <td>178.000000</td>\n",
       "      <td>178.000000</td>\n",
       "      <td>178.000000</td>\n",
       "      <td>178.000000</td>\n",
       "      <td>178.000000</td>\n",
       "      <td>178.000000</td>\n",
       "      <td>178.000000</td>\n",
       "      <td>178.000000</td>\n",
       "      <td>178.000000</td>\n",
       "      <td>178.000000</td>\n",
       "    </tr>\n",
       "    <tr>\n",
       "      <th>mean</th>\n",
       "      <td>13.000618</td>\n",
       "      <td>2.336348</td>\n",
       "      <td>2.366517</td>\n",
       "      <td>19.494944</td>\n",
       "      <td>99.741573</td>\n",
       "      <td>2.295112</td>\n",
       "      <td>2.029270</td>\n",
       "      <td>0.361854</td>\n",
       "      <td>1.590899</td>\n",
       "      <td>5.058090</td>\n",
       "      <td>0.957449</td>\n",
       "      <td>2.611685</td>\n",
       "      <td>746.893258</td>\n",
       "      <td>0.938202</td>\n",
       "    </tr>\n",
       "    <tr>\n",
       "      <th>std</th>\n",
       "      <td>0.811827</td>\n",
       "      <td>1.117146</td>\n",
       "      <td>0.274344</td>\n",
       "      <td>3.339564</td>\n",
       "      <td>14.282484</td>\n",
       "      <td>0.625851</td>\n",
       "      <td>0.998859</td>\n",
       "      <td>0.124453</td>\n",
       "      <td>0.572359</td>\n",
       "      <td>2.318286</td>\n",
       "      <td>0.228572</td>\n",
       "      <td>0.709990</td>\n",
       "      <td>314.907474</td>\n",
       "      <td>0.775035</td>\n",
       "    </tr>\n",
       "    <tr>\n",
       "      <th>min</th>\n",
       "      <td>11.030000</td>\n",
       "      <td>0.740000</td>\n",
       "      <td>1.360000</td>\n",
       "      <td>10.600000</td>\n",
       "      <td>70.000000</td>\n",
       "      <td>0.980000</td>\n",
       "      <td>0.340000</td>\n",
       "      <td>0.130000</td>\n",
       "      <td>0.410000</td>\n",
       "      <td>1.280000</td>\n",
       "      <td>0.480000</td>\n",
       "      <td>1.270000</td>\n",
       "      <td>278.000000</td>\n",
       "      <td>0.000000</td>\n",
       "    </tr>\n",
       "    <tr>\n",
       "      <th>25%</th>\n",
       "      <td>12.362500</td>\n",
       "      <td>1.602500</td>\n",
       "      <td>2.210000</td>\n",
       "      <td>17.200000</td>\n",
       "      <td>88.000000</td>\n",
       "      <td>1.742500</td>\n",
       "      <td>1.205000</td>\n",
       "      <td>0.270000</td>\n",
       "      <td>1.250000</td>\n",
       "      <td>3.220000</td>\n",
       "      <td>0.782500</td>\n",
       "      <td>1.937500</td>\n",
       "      <td>500.500000</td>\n",
       "      <td>0.000000</td>\n",
       "    </tr>\n",
       "    <tr>\n",
       "      <th>50%</th>\n",
       "      <td>13.050000</td>\n",
       "      <td>1.865000</td>\n",
       "      <td>2.360000</td>\n",
       "      <td>19.500000</td>\n",
       "      <td>98.000000</td>\n",
       "      <td>2.355000</td>\n",
       "      <td>2.135000</td>\n",
       "      <td>0.340000</td>\n",
       "      <td>1.555000</td>\n",
       "      <td>4.690000</td>\n",
       "      <td>0.965000</td>\n",
       "      <td>2.780000</td>\n",
       "      <td>673.500000</td>\n",
       "      <td>1.000000</td>\n",
       "    </tr>\n",
       "    <tr>\n",
       "      <th>75%</th>\n",
       "      <td>13.677500</td>\n",
       "      <td>3.082500</td>\n",
       "      <td>2.557500</td>\n",
       "      <td>21.500000</td>\n",
       "      <td>107.000000</td>\n",
       "      <td>2.800000</td>\n",
       "      <td>2.875000</td>\n",
       "      <td>0.437500</td>\n",
       "      <td>1.950000</td>\n",
       "      <td>6.200000</td>\n",
       "      <td>1.120000</td>\n",
       "      <td>3.170000</td>\n",
       "      <td>985.000000</td>\n",
       "      <td>2.000000</td>\n",
       "    </tr>\n",
       "    <tr>\n",
       "      <th>max</th>\n",
       "      <td>14.830000</td>\n",
       "      <td>5.800000</td>\n",
       "      <td>3.230000</td>\n",
       "      <td>30.000000</td>\n",
       "      <td>162.000000</td>\n",
       "      <td>3.880000</td>\n",
       "      <td>5.080000</td>\n",
       "      <td>0.660000</td>\n",
       "      <td>3.580000</td>\n",
       "      <td>13.000000</td>\n",
       "      <td>1.710000</td>\n",
       "      <td>4.000000</td>\n",
       "      <td>1680.000000</td>\n",
       "      <td>2.000000</td>\n",
       "    </tr>\n",
       "  </tbody>\n",
       "</table>\n",
       "</div>"
      ],
      "text/plain": [
       "          alcohol  malic_acid         ash  alcalinity_of_ash   magnesium  \\\n",
       "count  178.000000  178.000000  178.000000         178.000000  178.000000   \n",
       "mean    13.000618    2.336348    2.366517          19.494944   99.741573   \n",
       "std      0.811827    1.117146    0.274344           3.339564   14.282484   \n",
       "min     11.030000    0.740000    1.360000          10.600000   70.000000   \n",
       "25%     12.362500    1.602500    2.210000          17.200000   88.000000   \n",
       "50%     13.050000    1.865000    2.360000          19.500000   98.000000   \n",
       "75%     13.677500    3.082500    2.557500          21.500000  107.000000   \n",
       "max     14.830000    5.800000    3.230000          30.000000  162.000000   \n",
       "\n",
       "       total_phenols  flavanoids  nonflavanoid_phenols  proanthocyanins  \\\n",
       "count     178.000000  178.000000            178.000000       178.000000   \n",
       "mean        2.295112    2.029270              0.361854         1.590899   \n",
       "std         0.625851    0.998859              0.124453         0.572359   \n",
       "min         0.980000    0.340000              0.130000         0.410000   \n",
       "25%         1.742500    1.205000              0.270000         1.250000   \n",
       "50%         2.355000    2.135000              0.340000         1.555000   \n",
       "75%         2.800000    2.875000              0.437500         1.950000   \n",
       "max         3.880000    5.080000              0.660000         3.580000   \n",
       "\n",
       "       color_intensity         hue  od280/od315_of_diluted_wines      proline  \\\n",
       "count       178.000000  178.000000                    178.000000   178.000000   \n",
       "mean          5.058090    0.957449                      2.611685   746.893258   \n",
       "std           2.318286    0.228572                      0.709990   314.907474   \n",
       "min           1.280000    0.480000                      1.270000   278.000000   \n",
       "25%           3.220000    0.782500                      1.937500   500.500000   \n",
       "50%           4.690000    0.965000                      2.780000   673.500000   \n",
       "75%           6.200000    1.120000                      3.170000   985.000000   \n",
       "max          13.000000    1.710000                      4.000000  1680.000000   \n",
       "\n",
       "           target  \n",
       "count  178.000000  \n",
       "mean     0.938202  \n",
       "std      0.775035  \n",
       "min      0.000000  \n",
       "25%      0.000000  \n",
       "50%      1.000000  \n",
       "75%      2.000000  \n",
       "max      2.000000  "
      ]
     },
     "metadata": {},
     "output_type": "display_data"
    }
   ],
   "source": [
    "# Cargar el dataset\n",
    "wine_data = load_wine()\n",
    "X = pd.DataFrame(wine_data.data, columns=wine_data.feature_names)\n",
    "y = pd.Series(wine_data.target, name='target')\n",
    "\n",
    "# Unir características y objetivo en un solo DataFrame para exploración\n",
    "df = pd.concat([X, y], axis=1)\n",
    "\n",
    "# Mapear los números del objetivo a nombres de clases para mayor claridad\n",
    "df['target_name'] = df['target'].map({0: 'Class_0', 1: 'Class_1', 2: 'Class_2'})\n",
    "\n",
    "print(\"Primeras 5 filas del dataset:\")\n",
    "display(df.head())\n",
    "\n",
    "print(\"\\nDescripción estadística de las características:\")\n",
    "display(df.describe())"
   ]
  },
  {
   "cell_type": "markdown",
   "metadata": {},
   "source": [
    "### Visualización con PCA\n",
    "\n",
    "Dado que tenemos 13 características, no podemos visualizarlas todas a la vez. Usaremos el Análisis de Componentes Principales (PCA) para reducir la dimensionalidad a 2 componentes y visualizar la separación de las clases."
   ]
  },
  {
   "cell_type": "code",
   "execution_count": 3,
   "metadata": {},
   "outputs": [
    {
     "data": {
      "application/vnd.plotly.v1+json": {
       "config": {
        "plotlyServerURL": "https://plot.ly"
       },
       "data": [
        {
         "hovertemplate": "target_name=Class_0<br>Primer Componente Principal=%{x}<br>Segundo Componente Principal=%{y}<extra></extra>",
         "legendgroup": "Class_0",
         "marker": {
          "color": "#636efa",
          "symbol": "circle"
         },
         "mode": "markers",
         "name": "Class_0",
         "orientation": "v",
         "showlegend": true,
         "type": "scatter",
         "x": {
          "bdata": "JY1bprSICkBEmz7x+6wBQFvGcahIIgRAyDcXangODkDJJZg7fSTwP0lASofrZghAGxkfU7yXA0DsBNgJunkAQK2QfUNFFgRA6dkZN24HBkA9LZgvgNYLQCzxOcd3E/w/A9mH8V7oAEDH7FsfTqoLQMYXqWxKQBFAKHPtggZxAkCawSgWKmABQK4jtpkvYv4/zu9ORvxVDED00Uj6Ga0AQDipoMHG/ghAmcrES5di8T/HvvmPI0gEQO3Tf0vfUfo/8xuNLmov/D+Qnjteuq7vP/gToYOJZ/w/1H0260vE8z+0pCYu24EBQG6alt2CDAJAGY9cW3MABEDvxLV7VmsFQF9PwPmoDvo/1V87+Wtx/j8sGEaP85D2P/msyH4Sdv4/FM9OTGUo9j/ayfLBj/TxP9Mtxhn9CPg/4vnoWgg9BEBhxudfa7QEQJVzpFk0ZOU/oy5hQQORCECvymKi1ZTdP8Vg2JmRzwBAbiL3lbwt8j+AooAqFNAFQNibTFMakgZABg3UriwUAEB8OnAz8agFQJ3wK6cmuAlA/6BiVCbfBkBFPutLegsMQJJ3XmxfzAFAru+48wctAUA6rv/QL8EDQCfCufGg7gVA8y6sR9JjAUBZiU5Xcx0JQA==",
          "dtype": "f8"
         },
         "xaxis": "x",
         "y": {
          "bdata": "QE12RmwY9z9+pq4eT1bVv5Sea4CYf/A/7QDItwwNBkBVRWFyp9XrP0/Igm+t+gBAMizSpi/M8j9CffEOUL75P9D9JFjWYO0/nw/ryxJD6T/XCF9gW9b0P41+60RRleM/aiiK5mKf5T9bsWBaDxfyP7FxqteOxABAJ2HD18+Z+j/N/JVCUp4CQCG710AWGvo/5RWeXZElBECZxS/Va/rwPw7OwtZCLuk/RCl/43Pxzj8SxnDu3YK3v68VCGRbheC/as51CStM1L98Nr5j8hnuP5GkIo4l9eU/AS+YIZj9tr9Y0SFP9BDmP5WzrSLTgcg/NnFKlHTa8z9LuV1hy4z3PyY6JucT/Ko/dKh7+gMh+j+nxV5delXmP7xn5uV2nsY/uiPq4pMT5T8iKaEYTDa9PzW9A98vn+i/ZfGcmRjZ/D9B7T3knfLoP1qmx7RHwcU/UHQ34KR+8j9gNUsM4SrVP6HSOAGkLbK/uxllKQhv/D/UvUj3tA/zPwxRgoMmruQ/gzjsKdXz8z8Gv9n5Dgj8P+s9mmL+X8U/ZDEx71LZ5z9aKA0Ews35PyQQCimwAP4/1DqtQp1E8D8yo+U3nkP1P6m3xJMa/PY/DjcAqStl8z+0/ZlNjLT7Pw==",
          "dtype": "f8"
         },
         "yaxis": "y"
        },
        {
         "hovertemplate": "target_name=Class_1<br>Primer Componente Principal=%{x}<br>Segundo Componente Principal=%{y}<extra></extra>",
         "legendgroup": "Class_1",
         "marker": {
          "color": "#EF553B",
          "symbol": "circle"
         },
         "mode": "markers",
         "name": "Class_1",
         "orientation": "v",
         "showlegend": true,
         "type": "scatter",
         "x": {
          "bdata": "3ZaFiPG27b9m8i+n/634v1ENlm5HYf2/+Nq+3WVXnz8BR8aO72YAQGI8t12BguO/NEXGnKrO7D9HZopW8fwBQMkinLYgecc/mAxQsH8C6r8dWno9JJz/P1CS2DHMJ/m/SM9BXN2F+j+lEIEnQDbnv5GDzfVwfwRABytRXzJS/T/8TIwNmcbrvzKuX+VQrtc/CAKdl2pR978jGIv69jT0P9h9dQLZEtg/Gpwz19Ni6D+tL2KgoY3wP1+lTI4PrN+/VrqyN9NPBMA5EkVQ8brqP9rxN72DNuk/FnZnq5HR6b+IrvM0fNvhv309B61+1/G/aw+JPnvI4b+FHhEqrJb1v1alq+keCPm/tdCVbr/r/r/iEzz5r+TnP1dTXW55o+4/lY9c/dVZBEBHymtCD2jhv/505wUuf/A/lnFNFukDAkCjtyKrPpD2P+Ohn6jrhuk/I11Cj8OV4b8LyQZTV6HEv8Q3E0gKHeW/zSrmqVUc2T/GdED+J1z8v47YWqTscNe/s1caXUbu+b8chNqqECG1P1ryW1ydQPk/P7jR0aa69j/Mhg4TRNbRv/m7P4mu2fS/JpW5WqpA3b/b58ysvaDfvzqxDaBO2t4/qbrC1FQv0L/lH0Y9RXO7vx+stU/PdgPA44d9h4ai4b/kW1Ob+6rnP8pz3+WSYfU/nuWWLFnV8r/8Ys+S5Zbdv7ZBWt+oT+8/CT12sIXIuL8Bu1VSlrSjP3VukxL2jfm/Z7S4CzGx3r9hfN0mcq/8vw==",
          "dtype": "f8"
         },
         "xaxis": "x",
         "y": {
          "bdata": "Adfc6X+WCMBolAiCZBr2v14nF906j+q/xK1zPl809L9RSwv97sz+v734aqtoh/6/eSiGefZx6L8n4vZySif+v1sfCpXLagPAOSUHZc05zL/hrnsc2XP2v6YI0SfIUey/3q745WKd7r8MLSkKsQTxv1PMYdIXp9A/ka1QKyab9L8peiHshI0DwItnh5QzOwHAkr3wdjUi9r/ceSuizKrov9HFTxDFbvC/zERANhwAC8Ad9BtqGzb3v3A4+mfJDAPAkJngF7Bitr8thXWSJ5T3v+B1WfeHNgDAUOLLd+LeAcD2V9bI3/sCwPAsuCYB1vy/jZCeWaRCBcCK2CzBqvEAwJqMwrGrov2/HD4agrHz+L8u4AdX4oACwIn7pEbJyQHASF7+a8WqxT8S1koWfpzXv7BxAzlJhgTAdPXDOYLs9r8/e7JZXFQBwAgG7Lv9AwPALBaC1FNYAsBOZ21DuaHyv7f/gn2PcAXAN8+h2TPKAMCES1x5A3r7vxQs3ebVWgHAbCjpNHiw9b/LQ5oeK3MCwNH2YBF+ZPe/k7Z5cfmw9r9+pzhdm+P+v5PuC1joa+i/egm9XsMnAsA1RBAaVAb/v5S4cM9p+Q7AxQ0amGqSBsDevBVc3dz+vxkgduw/HfS/Jx2YovzGAcD1EX0lFov2vwspjxqsNtA/X3DSYjc/5b88iMxKBMnjv6EeDYgOIfe/piG5oEbhAMBVUmpYqET0vwQSPFuOVPO/fMLIyH0F/78j6Nh/lGfyvw==",
          "dtype": "f8"
         },
         "yaxis": "y"
        },
        {
         "hovertemplate": "target_name=Class_2<br>Primer Componente Principal=%{x}<br>Segundo Componente Principal=%{y}<extra></extra>",
         "legendgroup": "Class_2",
         "marker": {
          "color": "#00cc96",
          "symbol": "circle"
         },
         "mode": "markers",
         "name": "Class_2",
         "orientation": "v",
         "showlegend": true,
         "type": "scatter",
         "x": {
          "bdata": "rYc58s479b++EHQsdRMDwLU+yHPafgfA8m3TUKssAcDubWEifvUCwPA7Tl6/ggjAv9hBuHZTD8DxNaiE4H0PwKGpVNYTwQjAk44c++r+AsCeQ15IAjsGwAkDkqTgSgLA0IBTz5PiB8DrJPQTZgADwOHvB/rNrQHAbcTWlUUBBcC45qLFXx8RwKJUMOE/qQzAhk/c0t10BsD0B6eXgDIHwJEsR4zekALA21GFxA1mBMCLwlBKKwD9vxNYyrbGFAbA3cpkKa/lBcAWuzl9xdYMwFqenRddHgfAKn+nuSIjC8DB7nNhWsXwv1wrxGEzwvm/lK4p2SElCcCtF/tg1+sBwKPhUDAJyAbAChpuiazHBMDd0Q1FKpgHwE1cjo6BPQzAiFQP4rY/A8B7Tiz5w24HwBKdAIuIcwHA8RQf3iMMA8Bv+85dZLEJwP5tf6ZgbA3AGGB4UXW5A8CNcfhc1fYKwDQrtTrO0ATAf89iGDdsBcDLULBqnBgDwDEHgGaJqwnA",
          "dtype": "f8"
         },
         "xaxis": "x",
         "y": {
          "bdata": "WN2eeVDPxT/7QRhSKfnXPxecs7oc49A/XFC8N32R1z9nEXAeqGrdvyzzkd5QntY/HIzEKFzJwz/0raJmKBzlPx7AoZRwU9Y/m5VBW86v0j8qMVfTAlvSP8JQmyQr19c/wvI9oVhP3z99ylQ9jt7eP+//7zaTj/I/AqEVuWkF4j8/kPTCGsrkP4C6+Y79XPQ/+a1JCegg+T9G8FKyFVQAQLlb/3TW2QJA2uyXYb1cAEDOdTHgPHH4PyjaC5CIHAFAbBEhoJM72j9TmFXVkNb8P4y5UAiyzf4/ETiOGHL99D8oXRJY5x4MQEJr5YHLQANABVL96AOf5z8d3KCwtM7yP8tVE7ccy+E/rGqA0rtV5j/KZwyni+L4P6VO8dWoPew/QiD7OyW9BEDKyZt7ImT0P9ZQ8+HLngBARqpTRZe1BECpD6ofdxTQv2cWPBbAIOs/hLcBIOaMAUDrd/HM9boBQMtvIIacHfw/nMawSFIWBkCmhsdL92ACQEhuK02/JgZA",
          "dtype": "f8"
         },
         "yaxis": "y"
        }
       ],
       "layout": {
        "legend": {
         "title": {
          "text": "target_name"
         },
         "tracegroupgap": 0
        },
        "template": {
         "data": {
          "bar": [
           {
            "error_x": {
             "color": "#2a3f5f"
            },
            "error_y": {
             "color": "#2a3f5f"
            },
            "marker": {
             "line": {
              "color": "white",
              "width": 0.5
             },
             "pattern": {
              "fillmode": "overlay",
              "size": 10,
              "solidity": 0.2
             }
            },
            "type": "bar"
           }
          ],
          "barpolar": [
           {
            "marker": {
             "line": {
              "color": "white",
              "width": 0.5
             },
             "pattern": {
              "fillmode": "overlay",
              "size": 10,
              "solidity": 0.2
             }
            },
            "type": "barpolar"
           }
          ],
          "carpet": [
           {
            "aaxis": {
             "endlinecolor": "#2a3f5f",
             "gridcolor": "#C8D4E3",
             "linecolor": "#C8D4E3",
             "minorgridcolor": "#C8D4E3",
             "startlinecolor": "#2a3f5f"
            },
            "baxis": {
             "endlinecolor": "#2a3f5f",
             "gridcolor": "#C8D4E3",
             "linecolor": "#C8D4E3",
             "minorgridcolor": "#C8D4E3",
             "startlinecolor": "#2a3f5f"
            },
            "type": "carpet"
           }
          ],
          "choropleth": [
           {
            "colorbar": {
             "outlinewidth": 0,
             "ticks": ""
            },
            "type": "choropleth"
           }
          ],
          "contour": [
           {
            "colorbar": {
             "outlinewidth": 0,
             "ticks": ""
            },
            "colorscale": [
             [
              0,
              "#0d0887"
             ],
             [
              0.1111111111111111,
              "#46039f"
             ],
             [
              0.2222222222222222,
              "#7201a8"
             ],
             [
              0.3333333333333333,
              "#9c179e"
             ],
             [
              0.4444444444444444,
              "#bd3786"
             ],
             [
              0.5555555555555556,
              "#d8576b"
             ],
             [
              0.6666666666666666,
              "#ed7953"
             ],
             [
              0.7777777777777778,
              "#fb9f3a"
             ],
             [
              0.8888888888888888,
              "#fdca26"
             ],
             [
              1,
              "#f0f921"
             ]
            ],
            "type": "contour"
           }
          ],
          "contourcarpet": [
           {
            "colorbar": {
             "outlinewidth": 0,
             "ticks": ""
            },
            "type": "contourcarpet"
           }
          ],
          "heatmap": [
           {
            "colorbar": {
             "outlinewidth": 0,
             "ticks": ""
            },
            "colorscale": [
             [
              0,
              "#0d0887"
             ],
             [
              0.1111111111111111,
              "#46039f"
             ],
             [
              0.2222222222222222,
              "#7201a8"
             ],
             [
              0.3333333333333333,
              "#9c179e"
             ],
             [
              0.4444444444444444,
              "#bd3786"
             ],
             [
              0.5555555555555556,
              "#d8576b"
             ],
             [
              0.6666666666666666,
              "#ed7953"
             ],
             [
              0.7777777777777778,
              "#fb9f3a"
             ],
             [
              0.8888888888888888,
              "#fdca26"
             ],
             [
              1,
              "#f0f921"
             ]
            ],
            "type": "heatmap"
           }
          ],
          "histogram": [
           {
            "marker": {
             "pattern": {
              "fillmode": "overlay",
              "size": 10,
              "solidity": 0.2
             }
            },
            "type": "histogram"
           }
          ],
          "histogram2d": [
           {
            "colorbar": {
             "outlinewidth": 0,
             "ticks": ""
            },
            "colorscale": [
             [
              0,
              "#0d0887"
             ],
             [
              0.1111111111111111,
              "#46039f"
             ],
             [
              0.2222222222222222,
              "#7201a8"
             ],
             [
              0.3333333333333333,
              "#9c179e"
             ],
             [
              0.4444444444444444,
              "#bd3786"
             ],
             [
              0.5555555555555556,
              "#d8576b"
             ],
             [
              0.6666666666666666,
              "#ed7953"
             ],
             [
              0.7777777777777778,
              "#fb9f3a"
             ],
             [
              0.8888888888888888,
              "#fdca26"
             ],
             [
              1,
              "#f0f921"
             ]
            ],
            "type": "histogram2d"
           }
          ],
          "histogram2dcontour": [
           {
            "colorbar": {
             "outlinewidth": 0,
             "ticks": ""
            },
            "colorscale": [
             [
              0,
              "#0d0887"
             ],
             [
              0.1111111111111111,
              "#46039f"
             ],
             [
              0.2222222222222222,
              "#7201a8"
             ],
             [
              0.3333333333333333,
              "#9c179e"
             ],
             [
              0.4444444444444444,
              "#bd3786"
             ],
             [
              0.5555555555555556,
              "#d8576b"
             ],
             [
              0.6666666666666666,
              "#ed7953"
             ],
             [
              0.7777777777777778,
              "#fb9f3a"
             ],
             [
              0.8888888888888888,
              "#fdca26"
             ],
             [
              1,
              "#f0f921"
             ]
            ],
            "type": "histogram2dcontour"
           }
          ],
          "mesh3d": [
           {
            "colorbar": {
             "outlinewidth": 0,
             "ticks": ""
            },
            "type": "mesh3d"
           }
          ],
          "parcoords": [
           {
            "line": {
             "colorbar": {
              "outlinewidth": 0,
              "ticks": ""
             }
            },
            "type": "parcoords"
           }
          ],
          "pie": [
           {
            "automargin": true,
            "type": "pie"
           }
          ],
          "scatter": [
           {
            "fillpattern": {
             "fillmode": "overlay",
             "size": 10,
             "solidity": 0.2
            },
            "type": "scatter"
           }
          ],
          "scatter3d": [
           {
            "line": {
             "colorbar": {
              "outlinewidth": 0,
              "ticks": ""
             }
            },
            "marker": {
             "colorbar": {
              "outlinewidth": 0,
              "ticks": ""
             }
            },
            "type": "scatter3d"
           }
          ],
          "scattercarpet": [
           {
            "marker": {
             "colorbar": {
              "outlinewidth": 0,
              "ticks": ""
             }
            },
            "type": "scattercarpet"
           }
          ],
          "scattergeo": [
           {
            "marker": {
             "colorbar": {
              "outlinewidth": 0,
              "ticks": ""
             }
            },
            "type": "scattergeo"
           }
          ],
          "scattergl": [
           {
            "marker": {
             "colorbar": {
              "outlinewidth": 0,
              "ticks": ""
             }
            },
            "type": "scattergl"
           }
          ],
          "scattermap": [
           {
            "marker": {
             "colorbar": {
              "outlinewidth": 0,
              "ticks": ""
             }
            },
            "type": "scattermap"
           }
          ],
          "scattermapbox": [
           {
            "marker": {
             "colorbar": {
              "outlinewidth": 0,
              "ticks": ""
             }
            },
            "type": "scattermapbox"
           }
          ],
          "scatterpolar": [
           {
            "marker": {
             "colorbar": {
              "outlinewidth": 0,
              "ticks": ""
             }
            },
            "type": "scatterpolar"
           }
          ],
          "scatterpolargl": [
           {
            "marker": {
             "colorbar": {
              "outlinewidth": 0,
              "ticks": ""
             }
            },
            "type": "scatterpolargl"
           }
          ],
          "scatterternary": [
           {
            "marker": {
             "colorbar": {
              "outlinewidth": 0,
              "ticks": ""
             }
            },
            "type": "scatterternary"
           }
          ],
          "surface": [
           {
            "colorbar": {
             "outlinewidth": 0,
             "ticks": ""
            },
            "colorscale": [
             [
              0,
              "#0d0887"
             ],
             [
              0.1111111111111111,
              "#46039f"
             ],
             [
              0.2222222222222222,
              "#7201a8"
             ],
             [
              0.3333333333333333,
              "#9c179e"
             ],
             [
              0.4444444444444444,
              "#bd3786"
             ],
             [
              0.5555555555555556,
              "#d8576b"
             ],
             [
              0.6666666666666666,
              "#ed7953"
             ],
             [
              0.7777777777777778,
              "#fb9f3a"
             ],
             [
              0.8888888888888888,
              "#fdca26"
             ],
             [
              1,
              "#f0f921"
             ]
            ],
            "type": "surface"
           }
          ],
          "table": [
           {
            "cells": {
             "fill": {
              "color": "#EBF0F8"
             },
             "line": {
              "color": "white"
             }
            },
            "header": {
             "fill": {
              "color": "#C8D4E3"
             },
             "line": {
              "color": "white"
             }
            },
            "type": "table"
           }
          ]
         },
         "layout": {
          "annotationdefaults": {
           "arrowcolor": "#2a3f5f",
           "arrowhead": 0,
           "arrowwidth": 1
          },
          "autotypenumbers": "strict",
          "coloraxis": {
           "colorbar": {
            "outlinewidth": 0,
            "ticks": ""
           }
          },
          "colorscale": {
           "diverging": [
            [
             0,
             "#8e0152"
            ],
            [
             0.1,
             "#c51b7d"
            ],
            [
             0.2,
             "#de77ae"
            ],
            [
             0.3,
             "#f1b6da"
            ],
            [
             0.4,
             "#fde0ef"
            ],
            [
             0.5,
             "#f7f7f7"
            ],
            [
             0.6,
             "#e6f5d0"
            ],
            [
             0.7,
             "#b8e186"
            ],
            [
             0.8,
             "#7fbc41"
            ],
            [
             0.9,
             "#4d9221"
            ],
            [
             1,
             "#276419"
            ]
           ],
           "sequential": [
            [
             0,
             "#0d0887"
            ],
            [
             0.1111111111111111,
             "#46039f"
            ],
            [
             0.2222222222222222,
             "#7201a8"
            ],
            [
             0.3333333333333333,
             "#9c179e"
            ],
            [
             0.4444444444444444,
             "#bd3786"
            ],
            [
             0.5555555555555556,
             "#d8576b"
            ],
            [
             0.6666666666666666,
             "#ed7953"
            ],
            [
             0.7777777777777778,
             "#fb9f3a"
            ],
            [
             0.8888888888888888,
             "#fdca26"
            ],
            [
             1,
             "#f0f921"
            ]
           ],
           "sequentialminus": [
            [
             0,
             "#0d0887"
            ],
            [
             0.1111111111111111,
             "#46039f"
            ],
            [
             0.2222222222222222,
             "#7201a8"
            ],
            [
             0.3333333333333333,
             "#9c179e"
            ],
            [
             0.4444444444444444,
             "#bd3786"
            ],
            [
             0.5555555555555556,
             "#d8576b"
            ],
            [
             0.6666666666666666,
             "#ed7953"
            ],
            [
             0.7777777777777778,
             "#fb9f3a"
            ],
            [
             0.8888888888888888,
             "#fdca26"
            ],
            [
             1,
             "#f0f921"
            ]
           ]
          },
          "colorway": [
           "#636efa",
           "#EF553B",
           "#00cc96",
           "#ab63fa",
           "#FFA15A",
           "#19d3f3",
           "#FF6692",
           "#B6E880",
           "#FF97FF",
           "#FECB52"
          ],
          "font": {
           "color": "#2a3f5f"
          },
          "geo": {
           "bgcolor": "white",
           "lakecolor": "white",
           "landcolor": "white",
           "showlakes": true,
           "showland": true,
           "subunitcolor": "#C8D4E3"
          },
          "hoverlabel": {
           "align": "left"
          },
          "hovermode": "closest",
          "mapbox": {
           "style": "light"
          },
          "paper_bgcolor": "white",
          "plot_bgcolor": "white",
          "polar": {
           "angularaxis": {
            "gridcolor": "#EBF0F8",
            "linecolor": "#EBF0F8",
            "ticks": ""
           },
           "bgcolor": "white",
           "radialaxis": {
            "gridcolor": "#EBF0F8",
            "linecolor": "#EBF0F8",
            "ticks": ""
           }
          },
          "scene": {
           "xaxis": {
            "backgroundcolor": "white",
            "gridcolor": "#DFE8F3",
            "gridwidth": 2,
            "linecolor": "#EBF0F8",
            "showbackground": true,
            "ticks": "",
            "zerolinecolor": "#EBF0F8"
           },
           "yaxis": {
            "backgroundcolor": "white",
            "gridcolor": "#DFE8F3",
            "gridwidth": 2,
            "linecolor": "#EBF0F8",
            "showbackground": true,
            "ticks": "",
            "zerolinecolor": "#EBF0F8"
           },
           "zaxis": {
            "backgroundcolor": "white",
            "gridcolor": "#DFE8F3",
            "gridwidth": 2,
            "linecolor": "#EBF0F8",
            "showbackground": true,
            "ticks": "",
            "zerolinecolor": "#EBF0F8"
           }
          },
          "shapedefaults": {
           "line": {
            "color": "#2a3f5f"
           }
          },
          "ternary": {
           "aaxis": {
            "gridcolor": "#DFE8F3",
            "linecolor": "#A2B1C6",
            "ticks": ""
           },
           "baxis": {
            "gridcolor": "#DFE8F3",
            "linecolor": "#A2B1C6",
            "ticks": ""
           },
           "bgcolor": "white",
           "caxis": {
            "gridcolor": "#DFE8F3",
            "linecolor": "#A2B1C6",
            "ticks": ""
           }
          },
          "title": {
           "x": 0.05
          },
          "xaxis": {
           "automargin": true,
           "gridcolor": "#EBF0F8",
           "linecolor": "#EBF0F8",
           "ticks": "",
           "title": {
            "standoff": 15
           },
           "zerolinecolor": "#EBF0F8",
           "zerolinewidth": 2
          },
          "yaxis": {
           "automargin": true,
           "gridcolor": "#EBF0F8",
           "linecolor": "#EBF0F8",
           "ticks": "",
           "title": {
            "standoff": 15
           },
           "zerolinecolor": "#EBF0F8",
           "zerolinewidth": 2
          }
         }
        },
        "title": {
         "text": "Visualización del Dataset Wine con PCA (2 Componentes)"
        },
        "xaxis": {
         "anchor": "y",
         "domain": [
          0,
          1
         ],
         "title": {
          "text": "Primer Componente Principal"
         }
        },
        "yaxis": {
         "anchor": "x",
         "domain": [
          0,
          1
         ],
         "title": {
          "text": "Segundo Componente Principal"
         }
        }
       }
      }
     },
     "metadata": {},
     "output_type": "display_data"
    }
   ],
   "source": [
    "# Primero, escalamos los datos para que PCA funcione correctamente\n",
    "scaler_pca = StandardScaler()\n",
    "X_scaled_pca = scaler_pca.fit_transform(X)\n",
    "\n",
    "# Aplicamos PCA para reducir a 2 dimensiones\n",
    "pca = PCA(n_components=2)\n",
    "X_pca = pca.fit_transform(X_scaled_pca)\n",
    "\n",
    "# Creamos un DataFrame para la visualización\n",
    "df_pca = pd.DataFrame(data=X_pca, columns=['PC1', 'PC2'])\n",
    "df_pca['target_name'] = df['target_name']\n",
    "\n",
    "# Gráfico interactivo con Plotly\n",
    "fig = px.scatter(df_pca, \n",
    "                 x='PC1', \n",
    "                 y='PC2', \n",
    "                 color='target_name', \n",
    "                 title='Visualización del Dataset Wine con PCA (2 Componentes)',\n",
    "                 labels={'PC1': 'Primer Componente Principal', 'PC2': 'Segundo Componente Principal'},\n",
    "                 template='plotly_white')\n",
    "\n",
    "fig.show()"
   ]
  },
  {
   "cell_type": "markdown",
   "metadata": {},
   "source": [
    "La visualización PCA nos muestra que las clases están razonablemente bien separadas, aunque con algo de superposición. Esto sugiere que los algoritmos de clasificación deberían poder encontrar patrones útiles."
   ]
  },
  {
   "cell_type": "markdown",
   "metadata": {},
   "source": [
    "## 3. Preparación de los Datos para el Modelado\n",
    "\n",
    "Ahora, dividiremos los datos en conjuntos de entrenamiento y prueba, y aplicaremos el escalado de características. El escalado es fundamental para k-NN y MLP, ya que son sensibles a las diferentes escalas de las variables."
   ]
  },
  {
   "cell_type": "code",
   "execution_count": null,
   "metadata": {},
   "outputs": [
    {
     "name": "stdout",
     "output_type": "stream",
     "text": [
      "Tamaño del set de entrenamiento: 124 muestras\n",
      "Tamaño del set de prueba: 54 muestras\n"
     ]
    }
   ],
   "source": [
    "# Separar los datos originales (sin PCA) en entrenamiento y prueba\n",
    "X_train, X_test, y_train, y_test = train_test_split(X, y, test_size=0.3, random_state=42, stratify=y)\n",
    "# Estratificar en y nos permite mantener las mismas proporciones en las clases de la salida\n",
    "\n",
    "# Inicializar el escalador\n",
    "scaler = StandardScaler()\n",
    "\n",
    "# Ajustar el escalador SÓLO con los datos de entrenamiento\n",
    "X_train_scaled = scaler.fit_transform(X_train)\n",
    "\n",
    "# Aplicar la misma transformación a los datos de prueba\n",
    "X_test_scaled = scaler.transform(X_test)\n",
    "\n",
    "print(f\"Tamaño del set de entrenamiento: {X_train_scaled.shape[0]} muestras\")\n",
    "print(f\"Tamaño del set de prueba: {X_test_scaled.shape[0]} muestras\")"
   ]
  },
  {
   "cell_type": "markdown",
   "metadata": {},
   "source": [
    "## 4. Implementación y Evaluación de Modelos"
   ]
  },
  {
   "cell_type": "markdown",
   "metadata": {},
   "source": [
    "### Modelo 1: k-Nearest Neighbors (k-NN)\n",
    "\n",
    "Implementaremos k-NN con un valor de `k` inicial (ej. k=5) y evaluaremos su rendimiento."
   ]
  },
  {
   "cell_type": "code",
   "execution_count": 6,
   "metadata": {},
   "outputs": [
    {
     "name": "stdout",
     "output_type": "stream",
     "text": [
      "------ Resultados de k-NN (k=5) ------\n",
      "Accuracy: 0.9444\n",
      "\n",
      "Matriz de Confusión:\n",
      "[[18  0  0]\n",
      " [ 0 18  3]\n",
      " [ 0  0 15]]\n",
      "\n",
      "Reporte de Clasificación:\n",
      "              precision    recall  f1-score   support\n",
      "\n",
      "           0       1.00      1.00      1.00        18\n",
      "           1       1.00      0.86      0.92        21\n",
      "           2       0.83      1.00      0.91        15\n",
      "\n",
      "    accuracy                           0.94        54\n",
      "   macro avg       0.94      0.95      0.94        54\n",
      "weighted avg       0.95      0.94      0.94        54\n",
      "\n",
      "0.015 segundos para entrenar el modelo k-NN\n"
     ]
    }
   ],
   "source": [
    "start = time.time()\n",
    "# Inicializar y entrenar el clasificador k-NN\n",
    "knn = KNeighborsClassifier(n_neighbors=5)\n",
    "knn.fit(X_train_scaled, y_train)\n",
    "\n",
    "# Realizar predicciones\n",
    "y_pred_knn = knn.predict(X_test_scaled)\n",
    "\n",
    "# Evaluar el modelo\n",
    "print(\"------ Resultados de k-NN (k=5) ------\")\n",
    "print(f\"Accuracy: {accuracy_score(y_test, y_pred_knn):.4f}\")\n",
    "print(\"\\nMatriz de Confusión:\")\n",
    "print(confusion_matrix(y_test, y_pred_knn))\n",
    "print(\"\\nReporte de Clasificación:\")\n",
    "print(classification_report(y_test, y_pred_knn))\n",
    "end = time.time()\n",
    "print(f\"{end - start:.3f} segundos para entrenar el modelo k-NN\")"
   ]
  },
  {
   "cell_type": "markdown",
   "metadata": {},
   "source": [
    "#### Desafío: Encontrar el `k` Óptimo\n",
    "\n",
    "El rendimiento de k-NN depende fuertemente del valor de `k`. Un `k` muy pequeño puede llevar a sobreajuste, mientras que un `k` muy grande puede simplificar demasiado el modelo. \n",
    "\n",
    "**Tu tarea:** Escribe un bucle que entrene y evalúe el modelo k-NN para un rango de valores de `k` (por ejemplo, de 1 a 30). Almacena la precisión (accuracy) para cada `k` y luego crea un gráfico para visualizar cómo cambia la precisión en función de `k`. ¿Cuál es el valor de `k` que da el mejor resultado en el conjunto de prueba?"
   ]
  },
  {
   "cell_type": "code",
   "execution_count": 7,
   "metadata": {},
   "outputs": [
    {
     "data": {
      "application/vnd.plotly.v1+json": {
       "config": {
        "plotlyServerURL": "https://plot.ly"
       },
       "data": [
        {
         "mode": "lines+markers",
         "type": "scatter",
         "x": [
          1,
          2,
          3,
          4,
          5,
          6,
          7,
          8,
          9,
          10,
          11,
          12,
          13,
          14,
          15,
          16,
          17,
          18,
          19,
          20,
          21,
          22,
          23,
          24,
          25,
          26,
          27,
          28,
          29,
          30
         ],
         "y": [
          0.9629629629629629,
          0.9259259259259259,
          0.9444444444444444,
          0.9444444444444444,
          0.9444444444444444,
          0.9444444444444444,
          0.9444444444444444,
          0.9629629629629629,
          0.9629629629629629,
          0.9629629629629629,
          0.9629629629629629,
          0.9629629629629629,
          0.9814814814814815,
          0.9629629629629629,
          0.9814814814814815,
          0.9629629629629629,
          0.9814814814814815,
          0.9814814814814815,
          0.9814814814814815,
          0.9814814814814815,
          1,
          1,
          0.9814814814814815,
          0.9629629629629629,
          0.9814814814814815,
          0.9814814814814815,
          0.9814814814814815,
          0.9814814814814815,
          0.9814814814814815,
          0.9814814814814815
         ]
        }
       ],
       "layout": {
        "template": {
         "data": {
          "bar": [
           {
            "error_x": {
             "color": "#2a3f5f"
            },
            "error_y": {
             "color": "#2a3f5f"
            },
            "marker": {
             "line": {
              "color": "white",
              "width": 0.5
             },
             "pattern": {
              "fillmode": "overlay",
              "size": 10,
              "solidity": 0.2
             }
            },
            "type": "bar"
           }
          ],
          "barpolar": [
           {
            "marker": {
             "line": {
              "color": "white",
              "width": 0.5
             },
             "pattern": {
              "fillmode": "overlay",
              "size": 10,
              "solidity": 0.2
             }
            },
            "type": "barpolar"
           }
          ],
          "carpet": [
           {
            "aaxis": {
             "endlinecolor": "#2a3f5f",
             "gridcolor": "#C8D4E3",
             "linecolor": "#C8D4E3",
             "minorgridcolor": "#C8D4E3",
             "startlinecolor": "#2a3f5f"
            },
            "baxis": {
             "endlinecolor": "#2a3f5f",
             "gridcolor": "#C8D4E3",
             "linecolor": "#C8D4E3",
             "minorgridcolor": "#C8D4E3",
             "startlinecolor": "#2a3f5f"
            },
            "type": "carpet"
           }
          ],
          "choropleth": [
           {
            "colorbar": {
             "outlinewidth": 0,
             "ticks": ""
            },
            "type": "choropleth"
           }
          ],
          "contour": [
           {
            "colorbar": {
             "outlinewidth": 0,
             "ticks": ""
            },
            "colorscale": [
             [
              0,
              "#0d0887"
             ],
             [
              0.1111111111111111,
              "#46039f"
             ],
             [
              0.2222222222222222,
              "#7201a8"
             ],
             [
              0.3333333333333333,
              "#9c179e"
             ],
             [
              0.4444444444444444,
              "#bd3786"
             ],
             [
              0.5555555555555556,
              "#d8576b"
             ],
             [
              0.6666666666666666,
              "#ed7953"
             ],
             [
              0.7777777777777778,
              "#fb9f3a"
             ],
             [
              0.8888888888888888,
              "#fdca26"
             ],
             [
              1,
              "#f0f921"
             ]
            ],
            "type": "contour"
           }
          ],
          "contourcarpet": [
           {
            "colorbar": {
             "outlinewidth": 0,
             "ticks": ""
            },
            "type": "contourcarpet"
           }
          ],
          "heatmap": [
           {
            "colorbar": {
             "outlinewidth": 0,
             "ticks": ""
            },
            "colorscale": [
             [
              0,
              "#0d0887"
             ],
             [
              0.1111111111111111,
              "#46039f"
             ],
             [
              0.2222222222222222,
              "#7201a8"
             ],
             [
              0.3333333333333333,
              "#9c179e"
             ],
             [
              0.4444444444444444,
              "#bd3786"
             ],
             [
              0.5555555555555556,
              "#d8576b"
             ],
             [
              0.6666666666666666,
              "#ed7953"
             ],
             [
              0.7777777777777778,
              "#fb9f3a"
             ],
             [
              0.8888888888888888,
              "#fdca26"
             ],
             [
              1,
              "#f0f921"
             ]
            ],
            "type": "heatmap"
           }
          ],
          "histogram": [
           {
            "marker": {
             "pattern": {
              "fillmode": "overlay",
              "size": 10,
              "solidity": 0.2
             }
            },
            "type": "histogram"
           }
          ],
          "histogram2d": [
           {
            "colorbar": {
             "outlinewidth": 0,
             "ticks": ""
            },
            "colorscale": [
             [
              0,
              "#0d0887"
             ],
             [
              0.1111111111111111,
              "#46039f"
             ],
             [
              0.2222222222222222,
              "#7201a8"
             ],
             [
              0.3333333333333333,
              "#9c179e"
             ],
             [
              0.4444444444444444,
              "#bd3786"
             ],
             [
              0.5555555555555556,
              "#d8576b"
             ],
             [
              0.6666666666666666,
              "#ed7953"
             ],
             [
              0.7777777777777778,
              "#fb9f3a"
             ],
             [
              0.8888888888888888,
              "#fdca26"
             ],
             [
              1,
              "#f0f921"
             ]
            ],
            "type": "histogram2d"
           }
          ],
          "histogram2dcontour": [
           {
            "colorbar": {
             "outlinewidth": 0,
             "ticks": ""
            },
            "colorscale": [
             [
              0,
              "#0d0887"
             ],
             [
              0.1111111111111111,
              "#46039f"
             ],
             [
              0.2222222222222222,
              "#7201a8"
             ],
             [
              0.3333333333333333,
              "#9c179e"
             ],
             [
              0.4444444444444444,
              "#bd3786"
             ],
             [
              0.5555555555555556,
              "#d8576b"
             ],
             [
              0.6666666666666666,
              "#ed7953"
             ],
             [
              0.7777777777777778,
              "#fb9f3a"
             ],
             [
              0.8888888888888888,
              "#fdca26"
             ],
             [
              1,
              "#f0f921"
             ]
            ],
            "type": "histogram2dcontour"
           }
          ],
          "mesh3d": [
           {
            "colorbar": {
             "outlinewidth": 0,
             "ticks": ""
            },
            "type": "mesh3d"
           }
          ],
          "parcoords": [
           {
            "line": {
             "colorbar": {
              "outlinewidth": 0,
              "ticks": ""
             }
            },
            "type": "parcoords"
           }
          ],
          "pie": [
           {
            "automargin": true,
            "type": "pie"
           }
          ],
          "scatter": [
           {
            "fillpattern": {
             "fillmode": "overlay",
             "size": 10,
             "solidity": 0.2
            },
            "type": "scatter"
           }
          ],
          "scatter3d": [
           {
            "line": {
             "colorbar": {
              "outlinewidth": 0,
              "ticks": ""
             }
            },
            "marker": {
             "colorbar": {
              "outlinewidth": 0,
              "ticks": ""
             }
            },
            "type": "scatter3d"
           }
          ],
          "scattercarpet": [
           {
            "marker": {
             "colorbar": {
              "outlinewidth": 0,
              "ticks": ""
             }
            },
            "type": "scattercarpet"
           }
          ],
          "scattergeo": [
           {
            "marker": {
             "colorbar": {
              "outlinewidth": 0,
              "ticks": ""
             }
            },
            "type": "scattergeo"
           }
          ],
          "scattergl": [
           {
            "marker": {
             "colorbar": {
              "outlinewidth": 0,
              "ticks": ""
             }
            },
            "type": "scattergl"
           }
          ],
          "scattermap": [
           {
            "marker": {
             "colorbar": {
              "outlinewidth": 0,
              "ticks": ""
             }
            },
            "type": "scattermap"
           }
          ],
          "scattermapbox": [
           {
            "marker": {
             "colorbar": {
              "outlinewidth": 0,
              "ticks": ""
             }
            },
            "type": "scattermapbox"
           }
          ],
          "scatterpolar": [
           {
            "marker": {
             "colorbar": {
              "outlinewidth": 0,
              "ticks": ""
             }
            },
            "type": "scatterpolar"
           }
          ],
          "scatterpolargl": [
           {
            "marker": {
             "colorbar": {
              "outlinewidth": 0,
              "ticks": ""
             }
            },
            "type": "scatterpolargl"
           }
          ],
          "scatterternary": [
           {
            "marker": {
             "colorbar": {
              "outlinewidth": 0,
              "ticks": ""
             }
            },
            "type": "scatterternary"
           }
          ],
          "surface": [
           {
            "colorbar": {
             "outlinewidth": 0,
             "ticks": ""
            },
            "colorscale": [
             [
              0,
              "#0d0887"
             ],
             [
              0.1111111111111111,
              "#46039f"
             ],
             [
              0.2222222222222222,
              "#7201a8"
             ],
             [
              0.3333333333333333,
              "#9c179e"
             ],
             [
              0.4444444444444444,
              "#bd3786"
             ],
             [
              0.5555555555555556,
              "#d8576b"
             ],
             [
              0.6666666666666666,
              "#ed7953"
             ],
             [
              0.7777777777777778,
              "#fb9f3a"
             ],
             [
              0.8888888888888888,
              "#fdca26"
             ],
             [
              1,
              "#f0f921"
             ]
            ],
            "type": "surface"
           }
          ],
          "table": [
           {
            "cells": {
             "fill": {
              "color": "#EBF0F8"
             },
             "line": {
              "color": "white"
             }
            },
            "header": {
             "fill": {
              "color": "#C8D4E3"
             },
             "line": {
              "color": "white"
             }
            },
            "type": "table"
           }
          ]
         },
         "layout": {
          "annotationdefaults": {
           "arrowcolor": "#2a3f5f",
           "arrowhead": 0,
           "arrowwidth": 1
          },
          "autotypenumbers": "strict",
          "coloraxis": {
           "colorbar": {
            "outlinewidth": 0,
            "ticks": ""
           }
          },
          "colorscale": {
           "diverging": [
            [
             0,
             "#8e0152"
            ],
            [
             0.1,
             "#c51b7d"
            ],
            [
             0.2,
             "#de77ae"
            ],
            [
             0.3,
             "#f1b6da"
            ],
            [
             0.4,
             "#fde0ef"
            ],
            [
             0.5,
             "#f7f7f7"
            ],
            [
             0.6,
             "#e6f5d0"
            ],
            [
             0.7,
             "#b8e186"
            ],
            [
             0.8,
             "#7fbc41"
            ],
            [
             0.9,
             "#4d9221"
            ],
            [
             1,
             "#276419"
            ]
           ],
           "sequential": [
            [
             0,
             "#0d0887"
            ],
            [
             0.1111111111111111,
             "#46039f"
            ],
            [
             0.2222222222222222,
             "#7201a8"
            ],
            [
             0.3333333333333333,
             "#9c179e"
            ],
            [
             0.4444444444444444,
             "#bd3786"
            ],
            [
             0.5555555555555556,
             "#d8576b"
            ],
            [
             0.6666666666666666,
             "#ed7953"
            ],
            [
             0.7777777777777778,
             "#fb9f3a"
            ],
            [
             0.8888888888888888,
             "#fdca26"
            ],
            [
             1,
             "#f0f921"
            ]
           ],
           "sequentialminus": [
            [
             0,
             "#0d0887"
            ],
            [
             0.1111111111111111,
             "#46039f"
            ],
            [
             0.2222222222222222,
             "#7201a8"
            ],
            [
             0.3333333333333333,
             "#9c179e"
            ],
            [
             0.4444444444444444,
             "#bd3786"
            ],
            [
             0.5555555555555556,
             "#d8576b"
            ],
            [
             0.6666666666666666,
             "#ed7953"
            ],
            [
             0.7777777777777778,
             "#fb9f3a"
            ],
            [
             0.8888888888888888,
             "#fdca26"
            ],
            [
             1,
             "#f0f921"
            ]
           ]
          },
          "colorway": [
           "#636efa",
           "#EF553B",
           "#00cc96",
           "#ab63fa",
           "#FFA15A",
           "#19d3f3",
           "#FF6692",
           "#B6E880",
           "#FF97FF",
           "#FECB52"
          ],
          "font": {
           "color": "#2a3f5f"
          },
          "geo": {
           "bgcolor": "white",
           "lakecolor": "white",
           "landcolor": "white",
           "showlakes": true,
           "showland": true,
           "subunitcolor": "#C8D4E3"
          },
          "hoverlabel": {
           "align": "left"
          },
          "hovermode": "closest",
          "mapbox": {
           "style": "light"
          },
          "paper_bgcolor": "white",
          "plot_bgcolor": "white",
          "polar": {
           "angularaxis": {
            "gridcolor": "#EBF0F8",
            "linecolor": "#EBF0F8",
            "ticks": ""
           },
           "bgcolor": "white",
           "radialaxis": {
            "gridcolor": "#EBF0F8",
            "linecolor": "#EBF0F8",
            "ticks": ""
           }
          },
          "scene": {
           "xaxis": {
            "backgroundcolor": "white",
            "gridcolor": "#DFE8F3",
            "gridwidth": 2,
            "linecolor": "#EBF0F8",
            "showbackground": true,
            "ticks": "",
            "zerolinecolor": "#EBF0F8"
           },
           "yaxis": {
            "backgroundcolor": "white",
            "gridcolor": "#DFE8F3",
            "gridwidth": 2,
            "linecolor": "#EBF0F8",
            "showbackground": true,
            "ticks": "",
            "zerolinecolor": "#EBF0F8"
           },
           "zaxis": {
            "backgroundcolor": "white",
            "gridcolor": "#DFE8F3",
            "gridwidth": 2,
            "linecolor": "#EBF0F8",
            "showbackground": true,
            "ticks": "",
            "zerolinecolor": "#EBF0F8"
           }
          },
          "shapedefaults": {
           "line": {
            "color": "#2a3f5f"
           }
          },
          "ternary": {
           "aaxis": {
            "gridcolor": "#DFE8F3",
            "linecolor": "#A2B1C6",
            "ticks": ""
           },
           "baxis": {
            "gridcolor": "#DFE8F3",
            "linecolor": "#A2B1C6",
            "ticks": ""
           },
           "bgcolor": "white",
           "caxis": {
            "gridcolor": "#DFE8F3",
            "linecolor": "#A2B1C6",
            "ticks": ""
           }
          },
          "title": {
           "x": 0.05
          },
          "xaxis": {
           "automargin": true,
           "gridcolor": "#EBF0F8",
           "linecolor": "#EBF0F8",
           "ticks": "",
           "title": {
            "standoff": 15
           },
           "zerolinecolor": "#EBF0F8",
           "zerolinewidth": 2
          },
          "yaxis": {
           "automargin": true,
           "gridcolor": "#EBF0F8",
           "linecolor": "#EBF0F8",
           "ticks": "",
           "title": {
            "standoff": 15
           },
           "zerolinecolor": "#EBF0F8",
           "zerolinewidth": 2
          }
         }
        },
        "title": {
         "text": "Accuracy de k-NN en función del número de vecinos (k)"
        },
        "xaxis": {
         "title": {
          "text": "Valor de k"
         }
        },
        "yaxis": {
         "title": {
          "text": "Accuracy en el conjunto de prueba"
         }
        }
       }
      }
     },
     "metadata": {},
     "output_type": "display_data"
    },
    {
     "name": "stdout",
     "output_type": "stream",
     "text": [
      "\n",
      "El valor óptimo de k es: 21 con una precisión de 1.0000\n"
     ]
    }
   ],
   "source": [
    "# Espacio para tu solución al desafío\n",
    "k_values = range(1, 31)\n",
    "accuracies = []\n",
    "\n",
    "for k in k_values:\n",
    "    knn_loop = KNeighborsClassifier(n_neighbors=k)\n",
    "    knn_loop.fit(X_train_scaled, y_train)\n",
    "    y_pred_loop = knn_loop.predict(X_test_scaled)\n",
    "    accuracies.append(accuracy_score(y_test, y_pred_loop))\n",
    "\n",
    "# Gráfico de k vs. Accuracy\n",
    "fig = go.Figure(data=go.Scatter(x=list(k_values), y=accuracies, mode='lines+markers'))\n",
    "fig.update_layout(\n",
    "    title='Accuracy de k-NN en función del número de vecinos (k)',\n",
    "    xaxis_title='Valor de k',\n",
    "    yaxis_title='Accuracy en el conjunto de prueba',\n",
    "    template='plotly_white'\n",
    ")\n",
    "fig.show()\n",
    "\n",
    "best_k = k_values[np.argmax(accuracies)]\n",
    "print(f\"\\nEl valor óptimo de k es: {best_k} con una precisión de {max(accuracies):.4f}\")"
   ]
  },
  {
   "cell_type": "markdown",
   "metadata": {},
   "source": [
    "### Modelo 2: Naive Bayes\n",
    "\n",
    "Ahora, aplicaremos el clasificador Naive Bayes Gaussiano. Esta variante es adecuada porque nuestras características son continuas y podemos asumir (ingenuamente) que siguen una distribución normal dentro de cada clase."
   ]
  },
  {
   "cell_type": "code",
   "execution_count": 8,
   "metadata": {},
   "outputs": [
    {
     "name": "stdout",
     "output_type": "stream",
     "text": [
      "------ Resultados de Naive Bayes Gaussiano ------\n",
      "Accuracy: 1.0000\n",
      "\n",
      "Matriz de Confusión:\n",
      "[[18  0  0]\n",
      " [ 0 21  0]\n",
      " [ 0  0 15]]\n",
      "\n",
      "Reporte de Clasificación:\n",
      "              precision    recall  f1-score   support\n",
      "\n",
      "           0       1.00      1.00      1.00        18\n",
      "           1       1.00      1.00      1.00        21\n",
      "           2       1.00      1.00      1.00        15\n",
      "\n",
      "    accuracy                           1.00        54\n",
      "   macro avg       1.00      1.00      1.00        54\n",
      "weighted avg       1.00      1.00      1.00        54\n",
      "\n",
      "0.008 segundos para entrenar el modelo Naive Bayes\n"
     ]
    }
   ],
   "source": [
    "start = time.time()\n",
    "# Inicializar y entrenar el clasificador Naive Bayes Gaussiano\n",
    "# Nota: Naive Bayes no es tan sensible al escalado, pero es buena práctica usar los datos escalados por consistencia.\n",
    "gnb = GaussianNB()\n",
    "gnb.fit(X_train_scaled, y_train)\n",
    "\n",
    "# Realizar predicciones\n",
    "y_pred_gnb = gnb.predict(X_test_scaled)\n",
    "\n",
    "# Evaluar el modelo\n",
    "print(\"------ Resultados de Naive Bayes Gaussiano ------\")\n",
    "print(f\"Accuracy: {accuracy_score(y_test, y_pred_gnb):.4f}\")\n",
    "print(\"\\nMatriz de Confusión:\")\n",
    "print(confusion_matrix(y_test, y_pred_gnb))\n",
    "print(\"\\nReporte de Clasificación:\")\n",
    "print(classification_report(y_test, y_pred_gnb))\n",
    "end = time.time()\n",
    "print(f\"{end - start:.3f} segundos para entrenar el modelo Naive Bayes\")"
   ]
  },
  {
   "cell_type": "markdown",
   "metadata": {},
   "source": [
    "### Modelo 3: Perceptrón Multicapa (MLP)\n",
    "\n",
    "Finalmente, implementaremos una red neuronal simple. Usaremos `MLPClassifier` de Scikit-learn, que es una implementación eficiente y fácil de usar. Definiremos una arquitectura simple con una capa oculta."
   ]
  },
  {
   "cell_type": "code",
   "execution_count": 9,
   "metadata": {},
   "outputs": [
    {
     "name": "stdout",
     "output_type": "stream",
     "text": [
      "------ Resultados del Perceptrón Multicapa (MLP) ------\n",
      "Accuracy: 1.0000\n",
      "\n",
      "Matriz de Confusión:\n",
      "[[18  0  0]\n",
      " [ 0 21  0]\n",
      " [ 0  0 15]]\n",
      "\n",
      "Reporte de Clasificación:\n",
      "              precision    recall  f1-score   support\n",
      "\n",
      "           0       1.00      1.00      1.00        18\n",
      "           1       1.00      1.00      1.00        21\n",
      "           2       1.00      1.00      1.00        15\n",
      "\n",
      "    accuracy                           1.00        54\n",
      "   macro avg       1.00      1.00      1.00        54\n",
      "weighted avg       1.00      1.00      1.00        54\n",
      "\n",
      "0.055 segundos para entrenar el modelo MLP\n"
     ]
    }
   ],
   "source": [
    "start = time.time()\n",
    "# Inicializar y entrenar el clasificador MLP\n",
    "# hidden_layer_sizes=(100,) significa una capa oculta con 100 neuronas.\n",
    "# max_iter=1000 para asegurar la convergencia.\n",
    "mlp = MLPClassifier(hidden_layer_sizes=(100,), max_iter=1000, random_state=42)\n",
    "mlp.fit(X_train_scaled, y_train)\n",
    "\n",
    "# Realizar predicciones\n",
    "y_pred_mlp = mlp.predict(X_test_scaled)\n",
    "\n",
    "# Evaluar el modelo\n",
    "print(\"------ Resultados del Perceptrón Multicapa (MLP) ------\")\n",
    "print(f\"Accuracy: {accuracy_score(y_test, y_pred_mlp):.4f}\")\n",
    "print(\"\\nMatriz de Confusión:\")\n",
    "print(confusion_matrix(y_test, y_pred_mlp))\n",
    "print(\"\\nReporte de Clasificación:\")\n",
    "print(classification_report(y_test, y_pred_mlp))\n",
    "end = time.time()\n",
    "print(f\"{end - start:.3f} segundos para entrenar el modelo MLP\")"
   ]
  },
  {
   "cell_type": "markdown",
   "metadata": {},
   "source": [
    "## 5. Comparación y Conclusiones\n",
    "\n",
    "En este caso particular, los tres modelos han obtenido una precisión muy alta, a menudo perfecta o casi perfecta en el conjunto de prueba. Esto se debe a que el dataset Wine es un problema relativamente \"fácil\" con clases bien separadas.\n",
    "\n",
    "* **k-NN** demostró ser muy efectivo, especialmente después de encontrar un buen valor para `k`.\n",
    "* **Naive Bayes** también funcionó excepcionalmente bien, lo que sugiere que, para este problema, el supuesto de independencia condicional no fue una limitación grave.\n",
    "* El **MLP** igualó el rendimiento de los otros modelos, mostrando su capacidad para resolver problemas de clasificación, aunque su entrenamiento es computacionalmente más costoso.\n",
    "\n",
    "En problemas del mundo real más complejos y con mayor superposición entre clases, las diferencias en el rendimiento de estos algoritmos suelen ser más pronunciadas. La elección del modelo dependerá de las características específicas del problema, la cantidad de datos disponibles y los recursos computacionales."
   ]
  },
  {
   "cell_type": "markdown",
   "metadata": {},
   "source": [
    "## 6. Ejercicios Adicionales\n",
    "\n",
    "Para solidificar tu comprensión, aquí tienes 10 ejercicios para explorar por tu cuenta.\n",
    "\n",
    "1.  **Cambiar el Dataset:** Carga el dataset `load_breast_cancer` de `sklearn.datasets`. Es un problema de clasificación binaria. Repite el análisis completo (EDA, preprocesamiento, modelado y comparación) para este nuevo dataset. ¿Qué modelo funciona mejor aquí?\n",
    "\n",
    "2. **Arquitectura del MLP:** Experimenta con diferentes arquitecturas para el `MLPClassifier`. Prueba con más capas ocultas (ej. `hidden_layer_sizes=(100, 50,)`) o con diferente número de neuronas por capa. ¿Puedes mejorar la precisión obtenida?\n",
    "\n",
    "3. **Métricas de Distancia en k-NN:** El `KNeighborsClassifier` tiene un parámetro `metric`. Por defecto es `'minkowski'` (que con p=2 es la distancia Euclidiana). Prueba a cambiarlo a `'manhattan'` (Distancia de Manhattan). ¿Cambia el rendimiento del modelo?\n",
    "\n",
    "4. **Robustez del `train_test_split`:** Cambia el valor de `random_state` en la función `train_test_split`. Repite el entrenamiento y evaluación de los tres modelos. ¿Son los resultados de precisión exactamente los mismos? ¿Qué nos dice esto sobre la evaluación de modelos?\n",
    "\n",
    "5. **Comparar con Regresión Logística:** Como un modelo de base adicional, importa `LogisticRegression` de `sklearn.linear_model`. Entrénalo y evalúalo en el dataset Wine. ¿Cómo se compara su rendimiento con los tres modelos de esta clase?"
   ]
  },
  {
   "cell_type": "markdown",
   "metadata": {},
   "source": [
    "### 1 Usamos el dataset de cancer, Repetimos el ananlisis con los mismos modelos"
   ]
  },
  {
   "cell_type": "code",
   "execution_count": 11,
   "metadata": {},
   "outputs": [
    {
     "name": "stdout",
     "output_type": "stream",
     "text": [
      "Primeras 5 filas del dataset:\n"
     ]
    },
    {
     "data": {
      "text/html": [
       "<div>\n",
       "<style scoped>\n",
       "    .dataframe tbody tr th:only-of-type {\n",
       "        vertical-align: middle;\n",
       "    }\n",
       "\n",
       "    .dataframe tbody tr th {\n",
       "        vertical-align: top;\n",
       "    }\n",
       "\n",
       "    .dataframe thead th {\n",
       "        text-align: right;\n",
       "    }\n",
       "</style>\n",
       "<table border=\"1\" class=\"dataframe\">\n",
       "  <thead>\n",
       "    <tr style=\"text-align: right;\">\n",
       "      <th></th>\n",
       "      <th>mean radius</th>\n",
       "      <th>mean texture</th>\n",
       "      <th>mean perimeter</th>\n",
       "      <th>mean area</th>\n",
       "      <th>mean smoothness</th>\n",
       "      <th>mean compactness</th>\n",
       "      <th>mean concavity</th>\n",
       "      <th>mean concave points</th>\n",
       "      <th>mean symmetry</th>\n",
       "      <th>mean fractal dimension</th>\n",
       "      <th>...</th>\n",
       "      <th>worst perimeter</th>\n",
       "      <th>worst area</th>\n",
       "      <th>worst smoothness</th>\n",
       "      <th>worst compactness</th>\n",
       "      <th>worst concavity</th>\n",
       "      <th>worst concave points</th>\n",
       "      <th>worst symmetry</th>\n",
       "      <th>worst fractal dimension</th>\n",
       "      <th>target</th>\n",
       "      <th>target_name</th>\n",
       "    </tr>\n",
       "  </thead>\n",
       "  <tbody>\n",
       "    <tr>\n",
       "      <th>0</th>\n",
       "      <td>17.99</td>\n",
       "      <td>10.38</td>\n",
       "      <td>122.80</td>\n",
       "      <td>1001.0</td>\n",
       "      <td>0.11840</td>\n",
       "      <td>0.27760</td>\n",
       "      <td>0.3001</td>\n",
       "      <td>0.14710</td>\n",
       "      <td>0.2419</td>\n",
       "      <td>0.07871</td>\n",
       "      <td>...</td>\n",
       "      <td>184.60</td>\n",
       "      <td>2019.0</td>\n",
       "      <td>0.1622</td>\n",
       "      <td>0.6656</td>\n",
       "      <td>0.7119</td>\n",
       "      <td>0.2654</td>\n",
       "      <td>0.4601</td>\n",
       "      <td>0.11890</td>\n",
       "      <td>0</td>\n",
       "      <td>No</td>\n",
       "    </tr>\n",
       "    <tr>\n",
       "      <th>1</th>\n",
       "      <td>20.57</td>\n",
       "      <td>17.77</td>\n",
       "      <td>132.90</td>\n",
       "      <td>1326.0</td>\n",
       "      <td>0.08474</td>\n",
       "      <td>0.07864</td>\n",
       "      <td>0.0869</td>\n",
       "      <td>0.07017</td>\n",
       "      <td>0.1812</td>\n",
       "      <td>0.05667</td>\n",
       "      <td>...</td>\n",
       "      <td>158.80</td>\n",
       "      <td>1956.0</td>\n",
       "      <td>0.1238</td>\n",
       "      <td>0.1866</td>\n",
       "      <td>0.2416</td>\n",
       "      <td>0.1860</td>\n",
       "      <td>0.2750</td>\n",
       "      <td>0.08902</td>\n",
       "      <td>0</td>\n",
       "      <td>No</td>\n",
       "    </tr>\n",
       "    <tr>\n",
       "      <th>2</th>\n",
       "      <td>19.69</td>\n",
       "      <td>21.25</td>\n",
       "      <td>130.00</td>\n",
       "      <td>1203.0</td>\n",
       "      <td>0.10960</td>\n",
       "      <td>0.15990</td>\n",
       "      <td>0.1974</td>\n",
       "      <td>0.12790</td>\n",
       "      <td>0.2069</td>\n",
       "      <td>0.05999</td>\n",
       "      <td>...</td>\n",
       "      <td>152.50</td>\n",
       "      <td>1709.0</td>\n",
       "      <td>0.1444</td>\n",
       "      <td>0.4245</td>\n",
       "      <td>0.4504</td>\n",
       "      <td>0.2430</td>\n",
       "      <td>0.3613</td>\n",
       "      <td>0.08758</td>\n",
       "      <td>0</td>\n",
       "      <td>No</td>\n",
       "    </tr>\n",
       "    <tr>\n",
       "      <th>3</th>\n",
       "      <td>11.42</td>\n",
       "      <td>20.38</td>\n",
       "      <td>77.58</td>\n",
       "      <td>386.1</td>\n",
       "      <td>0.14250</td>\n",
       "      <td>0.28390</td>\n",
       "      <td>0.2414</td>\n",
       "      <td>0.10520</td>\n",
       "      <td>0.2597</td>\n",
       "      <td>0.09744</td>\n",
       "      <td>...</td>\n",
       "      <td>98.87</td>\n",
       "      <td>567.7</td>\n",
       "      <td>0.2098</td>\n",
       "      <td>0.8663</td>\n",
       "      <td>0.6869</td>\n",
       "      <td>0.2575</td>\n",
       "      <td>0.6638</td>\n",
       "      <td>0.17300</td>\n",
       "      <td>0</td>\n",
       "      <td>No</td>\n",
       "    </tr>\n",
       "    <tr>\n",
       "      <th>4</th>\n",
       "      <td>20.29</td>\n",
       "      <td>14.34</td>\n",
       "      <td>135.10</td>\n",
       "      <td>1297.0</td>\n",
       "      <td>0.10030</td>\n",
       "      <td>0.13280</td>\n",
       "      <td>0.1980</td>\n",
       "      <td>0.10430</td>\n",
       "      <td>0.1809</td>\n",
       "      <td>0.05883</td>\n",
       "      <td>...</td>\n",
       "      <td>152.20</td>\n",
       "      <td>1575.0</td>\n",
       "      <td>0.1374</td>\n",
       "      <td>0.2050</td>\n",
       "      <td>0.4000</td>\n",
       "      <td>0.1625</td>\n",
       "      <td>0.2364</td>\n",
       "      <td>0.07678</td>\n",
       "      <td>0</td>\n",
       "      <td>No</td>\n",
       "    </tr>\n",
       "  </tbody>\n",
       "</table>\n",
       "<p>5 rows × 32 columns</p>\n",
       "</div>"
      ],
      "text/plain": [
       "   mean radius  mean texture  mean perimeter  mean area  mean smoothness  \\\n",
       "0        17.99         10.38          122.80     1001.0          0.11840   \n",
       "1        20.57         17.77          132.90     1326.0          0.08474   \n",
       "2        19.69         21.25          130.00     1203.0          0.10960   \n",
       "3        11.42         20.38           77.58      386.1          0.14250   \n",
       "4        20.29         14.34          135.10     1297.0          0.10030   \n",
       "\n",
       "   mean compactness  mean concavity  mean concave points  mean symmetry  \\\n",
       "0           0.27760          0.3001              0.14710         0.2419   \n",
       "1           0.07864          0.0869              0.07017         0.1812   \n",
       "2           0.15990          0.1974              0.12790         0.2069   \n",
       "3           0.28390          0.2414              0.10520         0.2597   \n",
       "4           0.13280          0.1980              0.10430         0.1809   \n",
       "\n",
       "   mean fractal dimension  ...  worst perimeter  worst area  worst smoothness  \\\n",
       "0                 0.07871  ...           184.60      2019.0            0.1622   \n",
       "1                 0.05667  ...           158.80      1956.0            0.1238   \n",
       "2                 0.05999  ...           152.50      1709.0            0.1444   \n",
       "3                 0.09744  ...            98.87       567.7            0.2098   \n",
       "4                 0.05883  ...           152.20      1575.0            0.1374   \n",
       "\n",
       "   worst compactness  worst concavity  worst concave points  worst symmetry  \\\n",
       "0             0.6656           0.7119                0.2654          0.4601   \n",
       "1             0.1866           0.2416                0.1860          0.2750   \n",
       "2             0.4245           0.4504                0.2430          0.3613   \n",
       "3             0.8663           0.6869                0.2575          0.6638   \n",
       "4             0.2050           0.4000                0.1625          0.2364   \n",
       "\n",
       "   worst fractal dimension  target  target_name  \n",
       "0                  0.11890       0           No  \n",
       "1                  0.08902       0           No  \n",
       "2                  0.08758       0           No  \n",
       "3                  0.17300       0           No  \n",
       "4                  0.07678       0           No  \n",
       "\n",
       "[5 rows x 32 columns]"
      ]
     },
     "metadata": {},
     "output_type": "display_data"
    },
    {
     "name": "stdout",
     "output_type": "stream",
     "text": [
      "\n",
      "Descripción estadística de las características:\n"
     ]
    },
    {
     "data": {
      "text/html": [
       "<div>\n",
       "<style scoped>\n",
       "    .dataframe tbody tr th:only-of-type {\n",
       "        vertical-align: middle;\n",
       "    }\n",
       "\n",
       "    .dataframe tbody tr th {\n",
       "        vertical-align: top;\n",
       "    }\n",
       "\n",
       "    .dataframe thead th {\n",
       "        text-align: right;\n",
       "    }\n",
       "</style>\n",
       "<table border=\"1\" class=\"dataframe\">\n",
       "  <thead>\n",
       "    <tr style=\"text-align: right;\">\n",
       "      <th></th>\n",
       "      <th>mean radius</th>\n",
       "      <th>mean texture</th>\n",
       "      <th>mean perimeter</th>\n",
       "      <th>mean area</th>\n",
       "      <th>mean smoothness</th>\n",
       "      <th>mean compactness</th>\n",
       "      <th>mean concavity</th>\n",
       "      <th>mean concave points</th>\n",
       "      <th>mean symmetry</th>\n",
       "      <th>mean fractal dimension</th>\n",
       "      <th>...</th>\n",
       "      <th>worst texture</th>\n",
       "      <th>worst perimeter</th>\n",
       "      <th>worst area</th>\n",
       "      <th>worst smoothness</th>\n",
       "      <th>worst compactness</th>\n",
       "      <th>worst concavity</th>\n",
       "      <th>worst concave points</th>\n",
       "      <th>worst symmetry</th>\n",
       "      <th>worst fractal dimension</th>\n",
       "      <th>target</th>\n",
       "    </tr>\n",
       "  </thead>\n",
       "  <tbody>\n",
       "    <tr>\n",
       "      <th>count</th>\n",
       "      <td>569.000000</td>\n",
       "      <td>569.000000</td>\n",
       "      <td>569.000000</td>\n",
       "      <td>569.000000</td>\n",
       "      <td>569.000000</td>\n",
       "      <td>569.000000</td>\n",
       "      <td>569.000000</td>\n",
       "      <td>569.000000</td>\n",
       "      <td>569.000000</td>\n",
       "      <td>569.000000</td>\n",
       "      <td>...</td>\n",
       "      <td>569.000000</td>\n",
       "      <td>569.000000</td>\n",
       "      <td>569.000000</td>\n",
       "      <td>569.000000</td>\n",
       "      <td>569.000000</td>\n",
       "      <td>569.000000</td>\n",
       "      <td>569.000000</td>\n",
       "      <td>569.000000</td>\n",
       "      <td>569.000000</td>\n",
       "      <td>569.000000</td>\n",
       "    </tr>\n",
       "    <tr>\n",
       "      <th>mean</th>\n",
       "      <td>14.127292</td>\n",
       "      <td>19.289649</td>\n",
       "      <td>91.969033</td>\n",
       "      <td>654.889104</td>\n",
       "      <td>0.096360</td>\n",
       "      <td>0.104341</td>\n",
       "      <td>0.088799</td>\n",
       "      <td>0.048919</td>\n",
       "      <td>0.181162</td>\n",
       "      <td>0.062798</td>\n",
       "      <td>...</td>\n",
       "      <td>25.677223</td>\n",
       "      <td>107.261213</td>\n",
       "      <td>880.583128</td>\n",
       "      <td>0.132369</td>\n",
       "      <td>0.254265</td>\n",
       "      <td>0.272188</td>\n",
       "      <td>0.114606</td>\n",
       "      <td>0.290076</td>\n",
       "      <td>0.083946</td>\n",
       "      <td>0.627417</td>\n",
       "    </tr>\n",
       "    <tr>\n",
       "      <th>std</th>\n",
       "      <td>3.524049</td>\n",
       "      <td>4.301036</td>\n",
       "      <td>24.298981</td>\n",
       "      <td>351.914129</td>\n",
       "      <td>0.014064</td>\n",
       "      <td>0.052813</td>\n",
       "      <td>0.079720</td>\n",
       "      <td>0.038803</td>\n",
       "      <td>0.027414</td>\n",
       "      <td>0.007060</td>\n",
       "      <td>...</td>\n",
       "      <td>6.146258</td>\n",
       "      <td>33.602542</td>\n",
       "      <td>569.356993</td>\n",
       "      <td>0.022832</td>\n",
       "      <td>0.157336</td>\n",
       "      <td>0.208624</td>\n",
       "      <td>0.065732</td>\n",
       "      <td>0.061867</td>\n",
       "      <td>0.018061</td>\n",
       "      <td>0.483918</td>\n",
       "    </tr>\n",
       "    <tr>\n",
       "      <th>min</th>\n",
       "      <td>6.981000</td>\n",
       "      <td>9.710000</td>\n",
       "      <td>43.790000</td>\n",
       "      <td>143.500000</td>\n",
       "      <td>0.052630</td>\n",
       "      <td>0.019380</td>\n",
       "      <td>0.000000</td>\n",
       "      <td>0.000000</td>\n",
       "      <td>0.106000</td>\n",
       "      <td>0.049960</td>\n",
       "      <td>...</td>\n",
       "      <td>12.020000</td>\n",
       "      <td>50.410000</td>\n",
       "      <td>185.200000</td>\n",
       "      <td>0.071170</td>\n",
       "      <td>0.027290</td>\n",
       "      <td>0.000000</td>\n",
       "      <td>0.000000</td>\n",
       "      <td>0.156500</td>\n",
       "      <td>0.055040</td>\n",
       "      <td>0.000000</td>\n",
       "    </tr>\n",
       "    <tr>\n",
       "      <th>25%</th>\n",
       "      <td>11.700000</td>\n",
       "      <td>16.170000</td>\n",
       "      <td>75.170000</td>\n",
       "      <td>420.300000</td>\n",
       "      <td>0.086370</td>\n",
       "      <td>0.064920</td>\n",
       "      <td>0.029560</td>\n",
       "      <td>0.020310</td>\n",
       "      <td>0.161900</td>\n",
       "      <td>0.057700</td>\n",
       "      <td>...</td>\n",
       "      <td>21.080000</td>\n",
       "      <td>84.110000</td>\n",
       "      <td>515.300000</td>\n",
       "      <td>0.116600</td>\n",
       "      <td>0.147200</td>\n",
       "      <td>0.114500</td>\n",
       "      <td>0.064930</td>\n",
       "      <td>0.250400</td>\n",
       "      <td>0.071460</td>\n",
       "      <td>0.000000</td>\n",
       "    </tr>\n",
       "    <tr>\n",
       "      <th>50%</th>\n",
       "      <td>13.370000</td>\n",
       "      <td>18.840000</td>\n",
       "      <td>86.240000</td>\n",
       "      <td>551.100000</td>\n",
       "      <td>0.095870</td>\n",
       "      <td>0.092630</td>\n",
       "      <td>0.061540</td>\n",
       "      <td>0.033500</td>\n",
       "      <td>0.179200</td>\n",
       "      <td>0.061540</td>\n",
       "      <td>...</td>\n",
       "      <td>25.410000</td>\n",
       "      <td>97.660000</td>\n",
       "      <td>686.500000</td>\n",
       "      <td>0.131300</td>\n",
       "      <td>0.211900</td>\n",
       "      <td>0.226700</td>\n",
       "      <td>0.099930</td>\n",
       "      <td>0.282200</td>\n",
       "      <td>0.080040</td>\n",
       "      <td>1.000000</td>\n",
       "    </tr>\n",
       "    <tr>\n",
       "      <th>75%</th>\n",
       "      <td>15.780000</td>\n",
       "      <td>21.800000</td>\n",
       "      <td>104.100000</td>\n",
       "      <td>782.700000</td>\n",
       "      <td>0.105300</td>\n",
       "      <td>0.130400</td>\n",
       "      <td>0.130700</td>\n",
       "      <td>0.074000</td>\n",
       "      <td>0.195700</td>\n",
       "      <td>0.066120</td>\n",
       "      <td>...</td>\n",
       "      <td>29.720000</td>\n",
       "      <td>125.400000</td>\n",
       "      <td>1084.000000</td>\n",
       "      <td>0.146000</td>\n",
       "      <td>0.339100</td>\n",
       "      <td>0.382900</td>\n",
       "      <td>0.161400</td>\n",
       "      <td>0.317900</td>\n",
       "      <td>0.092080</td>\n",
       "      <td>1.000000</td>\n",
       "    </tr>\n",
       "    <tr>\n",
       "      <th>max</th>\n",
       "      <td>28.110000</td>\n",
       "      <td>39.280000</td>\n",
       "      <td>188.500000</td>\n",
       "      <td>2501.000000</td>\n",
       "      <td>0.163400</td>\n",
       "      <td>0.345400</td>\n",
       "      <td>0.426800</td>\n",
       "      <td>0.201200</td>\n",
       "      <td>0.304000</td>\n",
       "      <td>0.097440</td>\n",
       "      <td>...</td>\n",
       "      <td>49.540000</td>\n",
       "      <td>251.200000</td>\n",
       "      <td>4254.000000</td>\n",
       "      <td>0.222600</td>\n",
       "      <td>1.058000</td>\n",
       "      <td>1.252000</td>\n",
       "      <td>0.291000</td>\n",
       "      <td>0.663800</td>\n",
       "      <td>0.207500</td>\n",
       "      <td>1.000000</td>\n",
       "    </tr>\n",
       "  </tbody>\n",
       "</table>\n",
       "<p>8 rows × 31 columns</p>\n",
       "</div>"
      ],
      "text/plain": [
       "       mean radius  mean texture  mean perimeter    mean area  \\\n",
       "count   569.000000    569.000000      569.000000   569.000000   \n",
       "mean     14.127292     19.289649       91.969033   654.889104   \n",
       "std       3.524049      4.301036       24.298981   351.914129   \n",
       "min       6.981000      9.710000       43.790000   143.500000   \n",
       "25%      11.700000     16.170000       75.170000   420.300000   \n",
       "50%      13.370000     18.840000       86.240000   551.100000   \n",
       "75%      15.780000     21.800000      104.100000   782.700000   \n",
       "max      28.110000     39.280000      188.500000  2501.000000   \n",
       "\n",
       "       mean smoothness  mean compactness  mean concavity  mean concave points  \\\n",
       "count       569.000000        569.000000      569.000000           569.000000   \n",
       "mean          0.096360          0.104341        0.088799             0.048919   \n",
       "std           0.014064          0.052813        0.079720             0.038803   \n",
       "min           0.052630          0.019380        0.000000             0.000000   \n",
       "25%           0.086370          0.064920        0.029560             0.020310   \n",
       "50%           0.095870          0.092630        0.061540             0.033500   \n",
       "75%           0.105300          0.130400        0.130700             0.074000   \n",
       "max           0.163400          0.345400        0.426800             0.201200   \n",
       "\n",
       "       mean symmetry  mean fractal dimension  ...  worst texture  \\\n",
       "count     569.000000              569.000000  ...     569.000000   \n",
       "mean        0.181162                0.062798  ...      25.677223   \n",
       "std         0.027414                0.007060  ...       6.146258   \n",
       "min         0.106000                0.049960  ...      12.020000   \n",
       "25%         0.161900                0.057700  ...      21.080000   \n",
       "50%         0.179200                0.061540  ...      25.410000   \n",
       "75%         0.195700                0.066120  ...      29.720000   \n",
       "max         0.304000                0.097440  ...      49.540000   \n",
       "\n",
       "       worst perimeter   worst area  worst smoothness  worst compactness  \\\n",
       "count       569.000000   569.000000        569.000000         569.000000   \n",
       "mean        107.261213   880.583128          0.132369           0.254265   \n",
       "std          33.602542   569.356993          0.022832           0.157336   \n",
       "min          50.410000   185.200000          0.071170           0.027290   \n",
       "25%          84.110000   515.300000          0.116600           0.147200   \n",
       "50%          97.660000   686.500000          0.131300           0.211900   \n",
       "75%         125.400000  1084.000000          0.146000           0.339100   \n",
       "max         251.200000  4254.000000          0.222600           1.058000   \n",
       "\n",
       "       worst concavity  worst concave points  worst symmetry  \\\n",
       "count       569.000000            569.000000      569.000000   \n",
       "mean          0.272188              0.114606        0.290076   \n",
       "std           0.208624              0.065732        0.061867   \n",
       "min           0.000000              0.000000        0.156500   \n",
       "25%           0.114500              0.064930        0.250400   \n",
       "50%           0.226700              0.099930        0.282200   \n",
       "75%           0.382900              0.161400        0.317900   \n",
       "max           1.252000              0.291000        0.663800   \n",
       "\n",
       "       worst fractal dimension      target  \n",
       "count               569.000000  569.000000  \n",
       "mean                  0.083946    0.627417  \n",
       "std                   0.018061    0.483918  \n",
       "min                   0.055040    0.000000  \n",
       "25%                   0.071460    0.000000  \n",
       "50%                   0.080040    1.000000  \n",
       "75%                   0.092080    1.000000  \n",
       "max                   0.207500    1.000000  \n",
       "\n",
       "[8 rows x 31 columns]"
      ]
     },
     "metadata": {},
     "output_type": "display_data"
    }
   ],
   "source": [
    "from sklearn.datasets import load_breast_cancer\n",
    "\n",
    "# Cargar el dataset\n",
    "cancer_data = load_breast_cancer()\n",
    "X_cancer = pd.DataFrame(cancer_data.data, columns=cancer_data.feature_names)\n",
    "y_cancer = pd.Series(cancer_data.target, name='target')\n",
    "\n",
    "# Unir características y objetivo en un solo DataFrame para exploración\n",
    "df_cancer = pd.concat([X_cancer, y_cancer], axis=1)\n",
    "\n",
    "# Mapear los números del objetivo a nombres de clases para mayor claridad\n",
    "df_cancer['target_name'] = df_cancer['target'].map({0: 'No', 1: 'Si'})\n",
    "\n",
    "print(\"Primeras 5 filas del dataset:\")\n",
    "display(df_cancer.head())\n",
    "\n",
    "print(\"\\nDescripción estadística de las características:\")\n",
    "display(df_cancer.describe())"
   ]
  },
  {
   "cell_type": "markdown",
   "metadata": {},
   "source": [
    "### Visualización con PCA"
   ]
  },
  {
   "cell_type": "code",
   "execution_count": 12,
   "metadata": {},
   "outputs": [
    {
     "data": {
      "application/vnd.plotly.v1+json": {
       "config": {
        "plotlyServerURL": "https://plot.ly"
       },
       "data": [
        {
         "hovertemplate": "target_name=No<br>Primer Componente Principal=%{x}<br>Segundo Componente Principal=%{y}<extra></extra>",
         "legendgroup": "No",
         "marker": {
          "color": "#636efa",
          "symbol": "circle"
         },
         "mode": "markers",
         "name": "No",
         "orientation": "v",
         "showlegend": true,
         "type": "scatter",
         "x": {
          "bdata": "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",
          "dtype": "f8"
         },
         "xaxis": "x",
         "y": {
          "bdata": "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",
          "dtype": "f8"
         },
         "yaxis": "y"
        },
        {
         "hovertemplate": "target_name=Si<br>Primer Componente Principal=%{x}<br>Segundo Componente Principal=%{y}<extra></extra>",
         "legendgroup": "Si",
         "marker": {
          "color": "#EF553B",
          "symbol": "circle"
         },
         "mode": "markers",
         "name": "Si",
         "orientation": "v",
         "showlegend": true,
         "type": "scatter",
         "x": {
          "bdata": "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",
          "dtype": "f8"
         },
         "xaxis": "x",
         "y": {
          "bdata": "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",
          "dtype": "f8"
         },
         "yaxis": "y"
        }
       ],
       "layout": {
        "legend": {
         "title": {
          "text": "target_name"
         },
         "tracegroupgap": 0
        },
        "template": {
         "data": {
          "bar": [
           {
            "error_x": {
             "color": "#2a3f5f"
            },
            "error_y": {
             "color": "#2a3f5f"
            },
            "marker": {
             "line": {
              "color": "white",
              "width": 0.5
             },
             "pattern": {
              "fillmode": "overlay",
              "size": 10,
              "solidity": 0.2
             }
            },
            "type": "bar"
           }
          ],
          "barpolar": [
           {
            "marker": {
             "line": {
              "color": "white",
              "width": 0.5
             },
             "pattern": {
              "fillmode": "overlay",
              "size": 10,
              "solidity": 0.2
             }
            },
            "type": "barpolar"
           }
          ],
          "carpet": [
           {
            "aaxis": {
             "endlinecolor": "#2a3f5f",
             "gridcolor": "#C8D4E3",
             "linecolor": "#C8D4E3",
             "minorgridcolor": "#C8D4E3",
             "startlinecolor": "#2a3f5f"
            },
            "baxis": {
             "endlinecolor": "#2a3f5f",
             "gridcolor": "#C8D4E3",
             "linecolor": "#C8D4E3",
             "minorgridcolor": "#C8D4E3",
             "startlinecolor": "#2a3f5f"
            },
            "type": "carpet"
           }
          ],
          "choropleth": [
           {
            "colorbar": {
             "outlinewidth": 0,
             "ticks": ""
            },
            "type": "choropleth"
           }
          ],
          "contour": [
           {
            "colorbar": {
             "outlinewidth": 0,
             "ticks": ""
            },
            "colorscale": [
             [
              0,
              "#0d0887"
             ],
             [
              0.1111111111111111,
              "#46039f"
             ],
             [
              0.2222222222222222,
              "#7201a8"
             ],
             [
              0.3333333333333333,
              "#9c179e"
             ],
             [
              0.4444444444444444,
              "#bd3786"
             ],
             [
              0.5555555555555556,
              "#d8576b"
             ],
             [
              0.6666666666666666,
              "#ed7953"
             ],
             [
              0.7777777777777778,
              "#fb9f3a"
             ],
             [
              0.8888888888888888,
              "#fdca26"
             ],
             [
              1,
              "#f0f921"
             ]
            ],
            "type": "contour"
           }
          ],
          "contourcarpet": [
           {
            "colorbar": {
             "outlinewidth": 0,
             "ticks": ""
            },
            "type": "contourcarpet"
           }
          ],
          "heatmap": [
           {
            "colorbar": {
             "outlinewidth": 0,
             "ticks": ""
            },
            "colorscale": [
             [
              0,
              "#0d0887"
             ],
             [
              0.1111111111111111,
              "#46039f"
             ],
             [
              0.2222222222222222,
              "#7201a8"
             ],
             [
              0.3333333333333333,
              "#9c179e"
             ],
             [
              0.4444444444444444,
              "#bd3786"
             ],
             [
              0.5555555555555556,
              "#d8576b"
             ],
             [
              0.6666666666666666,
              "#ed7953"
             ],
             [
              0.7777777777777778,
              "#fb9f3a"
             ],
             [
              0.8888888888888888,
              "#fdca26"
             ],
             [
              1,
              "#f0f921"
             ]
            ],
            "type": "heatmap"
           }
          ],
          "histogram": [
           {
            "marker": {
             "pattern": {
              "fillmode": "overlay",
              "size": 10,
              "solidity": 0.2
             }
            },
            "type": "histogram"
           }
          ],
          "histogram2d": [
           {
            "colorbar": {
             "outlinewidth": 0,
             "ticks": ""
            },
            "colorscale": [
             [
              0,
              "#0d0887"
             ],
             [
              0.1111111111111111,
              "#46039f"
             ],
             [
              0.2222222222222222,
              "#7201a8"
             ],
             [
              0.3333333333333333,
              "#9c179e"
             ],
             [
              0.4444444444444444,
              "#bd3786"
             ],
             [
              0.5555555555555556,
              "#d8576b"
             ],
             [
              0.6666666666666666,
              "#ed7953"
             ],
             [
              0.7777777777777778,
              "#fb9f3a"
             ],
             [
              0.8888888888888888,
              "#fdca26"
             ],
             [
              1,
              "#f0f921"
             ]
            ],
            "type": "histogram2d"
           }
          ],
          "histogram2dcontour": [
           {
            "colorbar": {
             "outlinewidth": 0,
             "ticks": ""
            },
            "colorscale": [
             [
              0,
              "#0d0887"
             ],
             [
              0.1111111111111111,
              "#46039f"
             ],
             [
              0.2222222222222222,
              "#7201a8"
             ],
             [
              0.3333333333333333,
              "#9c179e"
             ],
             [
              0.4444444444444444,
              "#bd3786"
             ],
             [
              0.5555555555555556,
              "#d8576b"
             ],
             [
              0.6666666666666666,
              "#ed7953"
             ],
             [
              0.7777777777777778,
              "#fb9f3a"
             ],
             [
              0.8888888888888888,
              "#fdca26"
             ],
             [
              1,
              "#f0f921"
             ]
            ],
            "type": "histogram2dcontour"
           }
          ],
          "mesh3d": [
           {
            "colorbar": {
             "outlinewidth": 0,
             "ticks": ""
            },
            "type": "mesh3d"
           }
          ],
          "parcoords": [
           {
            "line": {
             "colorbar": {
              "outlinewidth": 0,
              "ticks": ""
             }
            },
            "type": "parcoords"
           }
          ],
          "pie": [
           {
            "automargin": true,
            "type": "pie"
           }
          ],
          "scatter": [
           {
            "fillpattern": {
             "fillmode": "overlay",
             "size": 10,
             "solidity": 0.2
            },
            "type": "scatter"
           }
          ],
          "scatter3d": [
           {
            "line": {
             "colorbar": {
              "outlinewidth": 0,
              "ticks": ""
             }
            },
            "marker": {
             "colorbar": {
              "outlinewidth": 0,
              "ticks": ""
             }
            },
            "type": "scatter3d"
           }
          ],
          "scattercarpet": [
           {
            "marker": {
             "colorbar": {
              "outlinewidth": 0,
              "ticks": ""
             }
            },
            "type": "scattercarpet"
           }
          ],
          "scattergeo": [
           {
            "marker": {
             "colorbar": {
              "outlinewidth": 0,
              "ticks": ""
             }
            },
            "type": "scattergeo"
           }
          ],
          "scattergl": [
           {
            "marker": {
             "colorbar": {
              "outlinewidth": 0,
              "ticks": ""
             }
            },
            "type": "scattergl"
           }
          ],
          "scattermap": [
           {
            "marker": {
             "colorbar": {
              "outlinewidth": 0,
              "ticks": ""
             }
            },
            "type": "scattermap"
           }
          ],
          "scattermapbox": [
           {
            "marker": {
             "colorbar": {
              "outlinewidth": 0,
              "ticks": ""
             }
            },
            "type": "scattermapbox"
           }
          ],
          "scatterpolar": [
           {
            "marker": {
             "colorbar": {
              "outlinewidth": 0,
              "ticks": ""
             }
            },
            "type": "scatterpolar"
           }
          ],
          "scatterpolargl": [
           {
            "marker": {
             "colorbar": {
              "outlinewidth": 0,
              "ticks": ""
             }
            },
            "type": "scatterpolargl"
           }
          ],
          "scatterternary": [
           {
            "marker": {
             "colorbar": {
              "outlinewidth": 0,
              "ticks": ""
             }
            },
            "type": "scatterternary"
           }
          ],
          "surface": [
           {
            "colorbar": {
             "outlinewidth": 0,
             "ticks": ""
            },
            "colorscale": [
             [
              0,
              "#0d0887"
             ],
             [
              0.1111111111111111,
              "#46039f"
             ],
             [
              0.2222222222222222,
              "#7201a8"
             ],
             [
              0.3333333333333333,
              "#9c179e"
             ],
             [
              0.4444444444444444,
              "#bd3786"
             ],
             [
              0.5555555555555556,
              "#d8576b"
             ],
             [
              0.6666666666666666,
              "#ed7953"
             ],
             [
              0.7777777777777778,
              "#fb9f3a"
             ],
             [
              0.8888888888888888,
              "#fdca26"
             ],
             [
              1,
              "#f0f921"
             ]
            ],
            "type": "surface"
           }
          ],
          "table": [
           {
            "cells": {
             "fill": {
              "color": "#EBF0F8"
             },
             "line": {
              "color": "white"
             }
            },
            "header": {
             "fill": {
              "color": "#C8D4E3"
             },
             "line": {
              "color": "white"
             }
            },
            "type": "table"
           }
          ]
         },
         "layout": {
          "annotationdefaults": {
           "arrowcolor": "#2a3f5f",
           "arrowhead": 0,
           "arrowwidth": 1
          },
          "autotypenumbers": "strict",
          "coloraxis": {
           "colorbar": {
            "outlinewidth": 0,
            "ticks": ""
           }
          },
          "colorscale": {
           "diverging": [
            [
             0,
             "#8e0152"
            ],
            [
             0.1,
             "#c51b7d"
            ],
            [
             0.2,
             "#de77ae"
            ],
            [
             0.3,
             "#f1b6da"
            ],
            [
             0.4,
             "#fde0ef"
            ],
            [
             0.5,
             "#f7f7f7"
            ],
            [
             0.6,
             "#e6f5d0"
            ],
            [
             0.7,
             "#b8e186"
            ],
            [
             0.8,
             "#7fbc41"
            ],
            [
             0.9,
             "#4d9221"
            ],
            [
             1,
             "#276419"
            ]
           ],
           "sequential": [
            [
             0,
             "#0d0887"
            ],
            [
             0.1111111111111111,
             "#46039f"
            ],
            [
             0.2222222222222222,
             "#7201a8"
            ],
            [
             0.3333333333333333,
             "#9c179e"
            ],
            [
             0.4444444444444444,
             "#bd3786"
            ],
            [
             0.5555555555555556,
             "#d8576b"
            ],
            [
             0.6666666666666666,
             "#ed7953"
            ],
            [
             0.7777777777777778,
             "#fb9f3a"
            ],
            [
             0.8888888888888888,
             "#fdca26"
            ],
            [
             1,
             "#f0f921"
            ]
           ],
           "sequentialminus": [
            [
             0,
             "#0d0887"
            ],
            [
             0.1111111111111111,
             "#46039f"
            ],
            [
             0.2222222222222222,
             "#7201a8"
            ],
            [
             0.3333333333333333,
             "#9c179e"
            ],
            [
             0.4444444444444444,
             "#bd3786"
            ],
            [
             0.5555555555555556,
             "#d8576b"
            ],
            [
             0.6666666666666666,
             "#ed7953"
            ],
            [
             0.7777777777777778,
             "#fb9f3a"
            ],
            [
             0.8888888888888888,
             "#fdca26"
            ],
            [
             1,
             "#f0f921"
            ]
           ]
          },
          "colorway": [
           "#636efa",
           "#EF553B",
           "#00cc96",
           "#ab63fa",
           "#FFA15A",
           "#19d3f3",
           "#FF6692",
           "#B6E880",
           "#FF97FF",
           "#FECB52"
          ],
          "font": {
           "color": "#2a3f5f"
          },
          "geo": {
           "bgcolor": "white",
           "lakecolor": "white",
           "landcolor": "white",
           "showlakes": true,
           "showland": true,
           "subunitcolor": "#C8D4E3"
          },
          "hoverlabel": {
           "align": "left"
          },
          "hovermode": "closest",
          "mapbox": {
           "style": "light"
          },
          "paper_bgcolor": "white",
          "plot_bgcolor": "white",
          "polar": {
           "angularaxis": {
            "gridcolor": "#EBF0F8",
            "linecolor": "#EBF0F8",
            "ticks": ""
           },
           "bgcolor": "white",
           "radialaxis": {
            "gridcolor": "#EBF0F8",
            "linecolor": "#EBF0F8",
            "ticks": ""
           }
          },
          "scene": {
           "xaxis": {
            "backgroundcolor": "white",
            "gridcolor": "#DFE8F3",
            "gridwidth": 2,
            "linecolor": "#EBF0F8",
            "showbackground": true,
            "ticks": "",
            "zerolinecolor": "#EBF0F8"
           },
           "yaxis": {
            "backgroundcolor": "white",
            "gridcolor": "#DFE8F3",
            "gridwidth": 2,
            "linecolor": "#EBF0F8",
            "showbackground": true,
            "ticks": "",
            "zerolinecolor": "#EBF0F8"
           },
           "zaxis": {
            "backgroundcolor": "white",
            "gridcolor": "#DFE8F3",
            "gridwidth": 2,
            "linecolor": "#EBF0F8",
            "showbackground": true,
            "ticks": "",
            "zerolinecolor": "#EBF0F8"
           }
          },
          "shapedefaults": {
           "line": {
            "color": "#2a3f5f"
           }
          },
          "ternary": {
           "aaxis": {
            "gridcolor": "#DFE8F3",
            "linecolor": "#A2B1C6",
            "ticks": ""
           },
           "baxis": {
            "gridcolor": "#DFE8F3",
            "linecolor": "#A2B1C6",
            "ticks": ""
           },
           "bgcolor": "white",
           "caxis": {
            "gridcolor": "#DFE8F3",
            "linecolor": "#A2B1C6",
            "ticks": ""
           }
          },
          "title": {
           "x": 0.05
          },
          "xaxis": {
           "automargin": true,
           "gridcolor": "#EBF0F8",
           "linecolor": "#EBF0F8",
           "ticks": "",
           "title": {
            "standoff": 15
           },
           "zerolinecolor": "#EBF0F8",
           "zerolinewidth": 2
          },
          "yaxis": {
           "automargin": true,
           "gridcolor": "#EBF0F8",
           "linecolor": "#EBF0F8",
           "ticks": "",
           "title": {
            "standoff": 15
           },
           "zerolinecolor": "#EBF0F8",
           "zerolinewidth": 2
          }
         }
        },
        "title": {
         "text": "Visualización del Dataset Wine con PCA (2 Componentes)"
        },
        "xaxis": {
         "anchor": "y",
         "domain": [
          0,
          1
         ],
         "title": {
          "text": "Primer Componente Principal"
         }
        },
        "yaxis": {
         "anchor": "x",
         "domain": [
          0,
          1
         ],
         "title": {
          "text": "Segundo Componente Principal"
         }
        }
       }
      }
     },
     "metadata": {},
     "output_type": "display_data"
    }
   ],
   "source": [
    "# Primero, escalamos los datos para que PCA funcione correctamente\n",
    "scaler_pca = StandardScaler()\n",
    "X_cancer_scaled_pca = scaler_pca.fit_transform(X_cancer)\n",
    "\n",
    "# Aplicamos PCA para reducir a 2 dimensiones\n",
    "pca = PCA(n_components=2)\n",
    "X_cancer_pca = pca.fit_transform(X_cancer_scaled_pca)\n",
    "\n",
    "# Creamos un DataFrame para la visualización\n",
    "df_cancer_pca = pd.DataFrame(data=X_cancer_pca, columns=['PC1', 'PC2'])\n",
    "df_cancer_pca['target_name'] = df_cancer['target_name']\n",
    "\n",
    "# Gráfico interactivo con Plotly\n",
    "fig = px.scatter(df_cancer_pca, \n",
    "                 x='PC1', \n",
    "                 y='PC2', \n",
    "                 color='target_name', \n",
    "                 title='Visualización del Dataset Wine con PCA (2 Componentes)',\n",
    "                 labels={'PC1': 'Primer Componente Principal', 'PC2': 'Segundo Componente Principal'},\n",
    "                 template='plotly_white')\n",
    "\n",
    "fig.show()"
   ]
  },
  {
   "cell_type": "markdown",
   "metadata": {},
   "source": [
    "### 1.3 Preparación de los Datos para el Modelado"
   ]
  },
  {
   "cell_type": "code",
   "execution_count": 16,
   "metadata": {},
   "outputs": [
    {
     "name": "stdout",
     "output_type": "stream",
     "text": [
      "Tamaño del set de entrenamiento: 398 muestras\n",
      "Tamaño del set de prueba: 171 muestras\n"
     ]
    }
   ],
   "source": [
    "# Separar los datos originales (sin PCA) en entrenamiento y prueba\n",
    "X_cancer_train, X_cancer_test, y_cancer_train, y_cancer_test = train_test_split(X_cancer, y_cancer, test_size=0.3, random_state=42)\n",
    "# Estratificar en y nos permite mantener las mismas proporciones en las clases de la salida\n",
    "\n",
    "# Inicializar el escalador\n",
    "scaler = StandardScaler()\n",
    "\n",
    "# Ajustar el escalador SÓLO con los datos de entrenamiento\n",
    "X_cancer_train_scaled = scaler.fit_transform(X_cancer_train)\n",
    "\n",
    "# Aplicar la misma transformación a los datos de prueba\n",
    "X_cancer_test_scaled = scaler.transform(X_cancer_test)\n",
    "\n",
    "print(f\"Tamaño del set de entrenamiento: {X_cancer_train_scaled.shape[0]} muestras\")\n",
    "print(f\"Tamaño del set de prueba: {X_cancer_test_scaled.shape[0]} muestras\")"
   ]
  },
  {
   "cell_type": "markdown",
   "metadata": {},
   "source": [
    "### 1.4 Implementación y Evaluación de Modelos"
   ]
  },
  {
   "cell_type": "code",
   "execution_count": 17,
   "metadata": {},
   "outputs": [
    {
     "name": "stdout",
     "output_type": "stream",
     "text": [
      "------ Resultados de k-NN (k=5) ------\n",
      "Accuracy: 0.9591\n",
      "\n",
      "Matriz de Confusión:\n",
      "[[ 59   4]\n",
      " [  3 105]]\n",
      "\n",
      "Reporte de Clasificación:\n",
      "              precision    recall  f1-score   support\n",
      "\n",
      "           0       0.95      0.94      0.94        63\n",
      "           1       0.96      0.97      0.97       108\n",
      "\n",
      "    accuracy                           0.96       171\n",
      "   macro avg       0.96      0.95      0.96       171\n",
      "weighted avg       0.96      0.96      0.96       171\n",
      "\n",
      "0.044 segundos para entrenar el modelo k-NN\n"
     ]
    }
   ],
   "source": [
    "start = time.time()\n",
    "# Inicializar y entrenar el clasificador k-NN\n",
    "knn = KNeighborsClassifier(n_neighbors=5)\n",
    "knn.fit(X_cancer_train_scaled, y_cancer_train)\n",
    "\n",
    "# Realizar predicciones\n",
    "y_cancer_pred_knn = knn.predict(X_cancer_test_scaled)\n",
    "\n",
    "# Evaluar el modelo\n",
    "print(\"------ Resultados de k-NN (k=5) ------\")\n",
    "print(f\"Accuracy: {accuracy_score(y_cancer_test, y_cancer_pred_knn):.4f}\")\n",
    "print(\"\\nMatriz de Confusión:\")\n",
    "print(confusion_matrix(y_cancer_test, y_cancer_pred_knn))\n",
    "print(\"\\nReporte de Clasificación:\")\n",
    "print(classification_report(y_cancer_test, y_cancer_pred_knn))\n",
    "end = time.time()\n",
    "print(f\"{end - start:.3f} segundos para entrenar el modelo k-NN\")"
   ]
  },
  {
   "cell_type": "markdown",
   "metadata": {},
   "source": [
    "### Encontrar el `k` Óptimo"
   ]
  },
  {
   "cell_type": "code",
   "execution_count": 18,
   "metadata": {},
   "outputs": [
    {
     "data": {
      "application/vnd.plotly.v1+json": {
       "config": {
        "plotlyServerURL": "https://plot.ly"
       },
       "data": [
        {
         "mode": "lines+markers",
         "type": "scatter",
         "x": [
          1,
          2,
          3,
          4,
          5,
          6,
          7,
          8,
          9,
          10,
          11,
          12,
          13,
          14,
          15,
          16,
          17,
          18,
          19,
          20,
          21,
          22,
          23,
          24,
          25,
          26,
          27,
          28,
          29,
          30
         ],
         "y": [
          0.9532163742690059,
          0.9532163742690059,
          0.9590643274853801,
          0.9649122807017544,
          0.9590643274853801,
          0.9590643274853801,
          0.9590643274853801,
          0.9649122807017544,
          0.9707602339181286,
          0.9707602339181286,
          0.9707602339181286,
          0.9707602339181286,
          0.9649122807017544,
          0.9649122807017544,
          0.9532163742690059,
          0.9649122807017544,
          0.9532163742690059,
          0.9590643274853801,
          0.9473684210526315,
          0.9532163742690059,
          0.9532163742690059,
          0.9473684210526315,
          0.9532163742690059,
          0.9473684210526315,
          0.9473684210526315,
          0.9473684210526315,
          0.9532163742690059,
          0.9473684210526315,
          0.9532163742690059,
          0.9532163742690059
         ]
        }
       ],
       "layout": {
        "template": {
         "data": {
          "bar": [
           {
            "error_x": {
             "color": "#2a3f5f"
            },
            "error_y": {
             "color": "#2a3f5f"
            },
            "marker": {
             "line": {
              "color": "white",
              "width": 0.5
             },
             "pattern": {
              "fillmode": "overlay",
              "size": 10,
              "solidity": 0.2
             }
            },
            "type": "bar"
           }
          ],
          "barpolar": [
           {
            "marker": {
             "line": {
              "color": "white",
              "width": 0.5
             },
             "pattern": {
              "fillmode": "overlay",
              "size": 10,
              "solidity": 0.2
             }
            },
            "type": "barpolar"
           }
          ],
          "carpet": [
           {
            "aaxis": {
             "endlinecolor": "#2a3f5f",
             "gridcolor": "#C8D4E3",
             "linecolor": "#C8D4E3",
             "minorgridcolor": "#C8D4E3",
             "startlinecolor": "#2a3f5f"
            },
            "baxis": {
             "endlinecolor": "#2a3f5f",
             "gridcolor": "#C8D4E3",
             "linecolor": "#C8D4E3",
             "minorgridcolor": "#C8D4E3",
             "startlinecolor": "#2a3f5f"
            },
            "type": "carpet"
           }
          ],
          "choropleth": [
           {
            "colorbar": {
             "outlinewidth": 0,
             "ticks": ""
            },
            "type": "choropleth"
           }
          ],
          "contour": [
           {
            "colorbar": {
             "outlinewidth": 0,
             "ticks": ""
            },
            "colorscale": [
             [
              0,
              "#0d0887"
             ],
             [
              0.1111111111111111,
              "#46039f"
             ],
             [
              0.2222222222222222,
              "#7201a8"
             ],
             [
              0.3333333333333333,
              "#9c179e"
             ],
             [
              0.4444444444444444,
              "#bd3786"
             ],
             [
              0.5555555555555556,
              "#d8576b"
             ],
             [
              0.6666666666666666,
              "#ed7953"
             ],
             [
              0.7777777777777778,
              "#fb9f3a"
             ],
             [
              0.8888888888888888,
              "#fdca26"
             ],
             [
              1,
              "#f0f921"
             ]
            ],
            "type": "contour"
           }
          ],
          "contourcarpet": [
           {
            "colorbar": {
             "outlinewidth": 0,
             "ticks": ""
            },
            "type": "contourcarpet"
           }
          ],
          "heatmap": [
           {
            "colorbar": {
             "outlinewidth": 0,
             "ticks": ""
            },
            "colorscale": [
             [
              0,
              "#0d0887"
             ],
             [
              0.1111111111111111,
              "#46039f"
             ],
             [
              0.2222222222222222,
              "#7201a8"
             ],
             [
              0.3333333333333333,
              "#9c179e"
             ],
             [
              0.4444444444444444,
              "#bd3786"
             ],
             [
              0.5555555555555556,
              "#d8576b"
             ],
             [
              0.6666666666666666,
              "#ed7953"
             ],
             [
              0.7777777777777778,
              "#fb9f3a"
             ],
             [
              0.8888888888888888,
              "#fdca26"
             ],
             [
              1,
              "#f0f921"
             ]
            ],
            "type": "heatmap"
           }
          ],
          "histogram": [
           {
            "marker": {
             "pattern": {
              "fillmode": "overlay",
              "size": 10,
              "solidity": 0.2
             }
            },
            "type": "histogram"
           }
          ],
          "histogram2d": [
           {
            "colorbar": {
             "outlinewidth": 0,
             "ticks": ""
            },
            "colorscale": [
             [
              0,
              "#0d0887"
             ],
             [
              0.1111111111111111,
              "#46039f"
             ],
             [
              0.2222222222222222,
              "#7201a8"
             ],
             [
              0.3333333333333333,
              "#9c179e"
             ],
             [
              0.4444444444444444,
              "#bd3786"
             ],
             [
              0.5555555555555556,
              "#d8576b"
             ],
             [
              0.6666666666666666,
              "#ed7953"
             ],
             [
              0.7777777777777778,
              "#fb9f3a"
             ],
             [
              0.8888888888888888,
              "#fdca26"
             ],
             [
              1,
              "#f0f921"
             ]
            ],
            "type": "histogram2d"
           }
          ],
          "histogram2dcontour": [
           {
            "colorbar": {
             "outlinewidth": 0,
             "ticks": ""
            },
            "colorscale": [
             [
              0,
              "#0d0887"
             ],
             [
              0.1111111111111111,
              "#46039f"
             ],
             [
              0.2222222222222222,
              "#7201a8"
             ],
             [
              0.3333333333333333,
              "#9c179e"
             ],
             [
              0.4444444444444444,
              "#bd3786"
             ],
             [
              0.5555555555555556,
              "#d8576b"
             ],
             [
              0.6666666666666666,
              "#ed7953"
             ],
             [
              0.7777777777777778,
              "#fb9f3a"
             ],
             [
              0.8888888888888888,
              "#fdca26"
             ],
             [
              1,
              "#f0f921"
             ]
            ],
            "type": "histogram2dcontour"
           }
          ],
          "mesh3d": [
           {
            "colorbar": {
             "outlinewidth": 0,
             "ticks": ""
            },
            "type": "mesh3d"
           }
          ],
          "parcoords": [
           {
            "line": {
             "colorbar": {
              "outlinewidth": 0,
              "ticks": ""
             }
            },
            "type": "parcoords"
           }
          ],
          "pie": [
           {
            "automargin": true,
            "type": "pie"
           }
          ],
          "scatter": [
           {
            "fillpattern": {
             "fillmode": "overlay",
             "size": 10,
             "solidity": 0.2
            },
            "type": "scatter"
           }
          ],
          "scatter3d": [
           {
            "line": {
             "colorbar": {
              "outlinewidth": 0,
              "ticks": ""
             }
            },
            "marker": {
             "colorbar": {
              "outlinewidth": 0,
              "ticks": ""
             }
            },
            "type": "scatter3d"
           }
          ],
          "scattercarpet": [
           {
            "marker": {
             "colorbar": {
              "outlinewidth": 0,
              "ticks": ""
             }
            },
            "type": "scattercarpet"
           }
          ],
          "scattergeo": [
           {
            "marker": {
             "colorbar": {
              "outlinewidth": 0,
              "ticks": ""
             }
            },
            "type": "scattergeo"
           }
          ],
          "scattergl": [
           {
            "marker": {
             "colorbar": {
              "outlinewidth": 0,
              "ticks": ""
             }
            },
            "type": "scattergl"
           }
          ],
          "scattermap": [
           {
            "marker": {
             "colorbar": {
              "outlinewidth": 0,
              "ticks": ""
             }
            },
            "type": "scattermap"
           }
          ],
          "scattermapbox": [
           {
            "marker": {
             "colorbar": {
              "outlinewidth": 0,
              "ticks": ""
             }
            },
            "type": "scattermapbox"
           }
          ],
          "scatterpolar": [
           {
            "marker": {
             "colorbar": {
              "outlinewidth": 0,
              "ticks": ""
             }
            },
            "type": "scatterpolar"
           }
          ],
          "scatterpolargl": [
           {
            "marker": {
             "colorbar": {
              "outlinewidth": 0,
              "ticks": ""
             }
            },
            "type": "scatterpolargl"
           }
          ],
          "scatterternary": [
           {
            "marker": {
             "colorbar": {
              "outlinewidth": 0,
              "ticks": ""
             }
            },
            "type": "scatterternary"
           }
          ],
          "surface": [
           {
            "colorbar": {
             "outlinewidth": 0,
             "ticks": ""
            },
            "colorscale": [
             [
              0,
              "#0d0887"
             ],
             [
              0.1111111111111111,
              "#46039f"
             ],
             [
              0.2222222222222222,
              "#7201a8"
             ],
             [
              0.3333333333333333,
              "#9c179e"
             ],
             [
              0.4444444444444444,
              "#bd3786"
             ],
             [
              0.5555555555555556,
              "#d8576b"
             ],
             [
              0.6666666666666666,
              "#ed7953"
             ],
             [
              0.7777777777777778,
              "#fb9f3a"
             ],
             [
              0.8888888888888888,
              "#fdca26"
             ],
             [
              1,
              "#f0f921"
             ]
            ],
            "type": "surface"
           }
          ],
          "table": [
           {
            "cells": {
             "fill": {
              "color": "#EBF0F8"
             },
             "line": {
              "color": "white"
             }
            },
            "header": {
             "fill": {
              "color": "#C8D4E3"
             },
             "line": {
              "color": "white"
             }
            },
            "type": "table"
           }
          ]
         },
         "layout": {
          "annotationdefaults": {
           "arrowcolor": "#2a3f5f",
           "arrowhead": 0,
           "arrowwidth": 1
          },
          "autotypenumbers": "strict",
          "coloraxis": {
           "colorbar": {
            "outlinewidth": 0,
            "ticks": ""
           }
          },
          "colorscale": {
           "diverging": [
            [
             0,
             "#8e0152"
            ],
            [
             0.1,
             "#c51b7d"
            ],
            [
             0.2,
             "#de77ae"
            ],
            [
             0.3,
             "#f1b6da"
            ],
            [
             0.4,
             "#fde0ef"
            ],
            [
             0.5,
             "#f7f7f7"
            ],
            [
             0.6,
             "#e6f5d0"
            ],
            [
             0.7,
             "#b8e186"
            ],
            [
             0.8,
             "#7fbc41"
            ],
            [
             0.9,
             "#4d9221"
            ],
            [
             1,
             "#276419"
            ]
           ],
           "sequential": [
            [
             0,
             "#0d0887"
            ],
            [
             0.1111111111111111,
             "#46039f"
            ],
            [
             0.2222222222222222,
             "#7201a8"
            ],
            [
             0.3333333333333333,
             "#9c179e"
            ],
            [
             0.4444444444444444,
             "#bd3786"
            ],
            [
             0.5555555555555556,
             "#d8576b"
            ],
            [
             0.6666666666666666,
             "#ed7953"
            ],
            [
             0.7777777777777778,
             "#fb9f3a"
            ],
            [
             0.8888888888888888,
             "#fdca26"
            ],
            [
             1,
             "#f0f921"
            ]
           ],
           "sequentialminus": [
            [
             0,
             "#0d0887"
            ],
            [
             0.1111111111111111,
             "#46039f"
            ],
            [
             0.2222222222222222,
             "#7201a8"
            ],
            [
             0.3333333333333333,
             "#9c179e"
            ],
            [
             0.4444444444444444,
             "#bd3786"
            ],
            [
             0.5555555555555556,
             "#d8576b"
            ],
            [
             0.6666666666666666,
             "#ed7953"
            ],
            [
             0.7777777777777778,
             "#fb9f3a"
            ],
            [
             0.8888888888888888,
             "#fdca26"
            ],
            [
             1,
             "#f0f921"
            ]
           ]
          },
          "colorway": [
           "#636efa",
           "#EF553B",
           "#00cc96",
           "#ab63fa",
           "#FFA15A",
           "#19d3f3",
           "#FF6692",
           "#B6E880",
           "#FF97FF",
           "#FECB52"
          ],
          "font": {
           "color": "#2a3f5f"
          },
          "geo": {
           "bgcolor": "white",
           "lakecolor": "white",
           "landcolor": "white",
           "showlakes": true,
           "showland": true,
           "subunitcolor": "#C8D4E3"
          },
          "hoverlabel": {
           "align": "left"
          },
          "hovermode": "closest",
          "mapbox": {
           "style": "light"
          },
          "paper_bgcolor": "white",
          "plot_bgcolor": "white",
          "polar": {
           "angularaxis": {
            "gridcolor": "#EBF0F8",
            "linecolor": "#EBF0F8",
            "ticks": ""
           },
           "bgcolor": "white",
           "radialaxis": {
            "gridcolor": "#EBF0F8",
            "linecolor": "#EBF0F8",
            "ticks": ""
           }
          },
          "scene": {
           "xaxis": {
            "backgroundcolor": "white",
            "gridcolor": "#DFE8F3",
            "gridwidth": 2,
            "linecolor": "#EBF0F8",
            "showbackground": true,
            "ticks": "",
            "zerolinecolor": "#EBF0F8"
           },
           "yaxis": {
            "backgroundcolor": "white",
            "gridcolor": "#DFE8F3",
            "gridwidth": 2,
            "linecolor": "#EBF0F8",
            "showbackground": true,
            "ticks": "",
            "zerolinecolor": "#EBF0F8"
           },
           "zaxis": {
            "backgroundcolor": "white",
            "gridcolor": "#DFE8F3",
            "gridwidth": 2,
            "linecolor": "#EBF0F8",
            "showbackground": true,
            "ticks": "",
            "zerolinecolor": "#EBF0F8"
           }
          },
          "shapedefaults": {
           "line": {
            "color": "#2a3f5f"
           }
          },
          "ternary": {
           "aaxis": {
            "gridcolor": "#DFE8F3",
            "linecolor": "#A2B1C6",
            "ticks": ""
           },
           "baxis": {
            "gridcolor": "#DFE8F3",
            "linecolor": "#A2B1C6",
            "ticks": ""
           },
           "bgcolor": "white",
           "caxis": {
            "gridcolor": "#DFE8F3",
            "linecolor": "#A2B1C6",
            "ticks": ""
           }
          },
          "title": {
           "x": 0.05
          },
          "xaxis": {
           "automargin": true,
           "gridcolor": "#EBF0F8",
           "linecolor": "#EBF0F8",
           "ticks": "",
           "title": {
            "standoff": 15
           },
           "zerolinecolor": "#EBF0F8",
           "zerolinewidth": 2
          },
          "yaxis": {
           "automargin": true,
           "gridcolor": "#EBF0F8",
           "linecolor": "#EBF0F8",
           "ticks": "",
           "title": {
            "standoff": 15
           },
           "zerolinecolor": "#EBF0F8",
           "zerolinewidth": 2
          }
         }
        },
        "title": {
         "text": "Accuracy de k-NN en función del número de vecinos (k)"
        },
        "xaxis": {
         "title": {
          "text": "Valor de k"
         }
        },
        "yaxis": {
         "title": {
          "text": "Accuracy en el conjunto de prueba"
         }
        }
       }
      }
     },
     "metadata": {},
     "output_type": "display_data"
    },
    {
     "name": "stdout",
     "output_type": "stream",
     "text": [
      "\n",
      "El valor óptimo de k es: 9 con una precisión de 0.9708\n"
     ]
    }
   ],
   "source": [
    "# Espacio para tu solución al desafío\n",
    "k_values = range(1, 31)\n",
    "accuracies = []\n",
    "\n",
    "for k in k_values:\n",
    "    knn_loop = KNeighborsClassifier(n_neighbors=k)\n",
    "    knn_loop.fit(X_cancer_train_scaled, y_cancer_train)\n",
    "    y_cancer_pred_loop = knn_loop.predict(X_cancer_test_scaled)\n",
    "    accuracies.append(accuracy_score(y_cancer_test, y_cancer_pred_loop))\n",
    "\n",
    "# Gráfico de k vs. Accuracy\n",
    "fig = go.Figure(data=go.Scatter(x=list(k_values), y=accuracies, mode='lines+markers'))\n",
    "fig.update_layout(\n",
    "    title='Accuracy de k-NN en función del número de vecinos (k)',\n",
    "    xaxis_title='Valor de k',\n",
    "    yaxis_title='Accuracy en el conjunto de prueba',\n",
    "    template='plotly_white'\n",
    ")\n",
    "fig.show()\n",
    "\n",
    "best_k = k_values[np.argmax(accuracies)]\n",
    "print(f\"\\nEl valor óptimo de k es: {best_k} con una precisión de {max(accuracies):.4f}\")"
   ]
  },
  {
   "cell_type": "code",
   "execution_count": 47,
   "metadata": {},
   "outputs": [
    {
     "name": "stdout",
     "output_type": "stream",
     "text": [
      "------ Resultados de k-NN (k=9) ------\n",
      "Accuracy: 0.9708\n",
      "\n",
      "Matriz de Confusión:\n",
      "[[ 60   3]\n",
      " [  2 106]]\n",
      "\n",
      "Reporte de Clasificación:\n",
      "              precision    recall  f1-score   support\n",
      "\n",
      "           0       0.97      0.95      0.96        63\n",
      "           1       0.97      0.98      0.98       108\n",
      "\n",
      "    accuracy                           0.97       171\n",
      "   macro avg       0.97      0.97      0.97       171\n",
      "weighted avg       0.97      0.97      0.97       171\n",
      "\n",
      "0.009 segundos para entrenar el modelo k-NN\n"
     ]
    }
   ],
   "source": [
    "start = time.time()\n",
    "# Inicializar y entrenar el clasificador k-NN\n",
    "knn = KNeighborsClassifier(n_neighbors=9)\n",
    "knn.fit(X_cancer_train_scaled, y_cancer_train)\n",
    "\n",
    "# Realizar predicciones\n",
    "y_cancer_pred_knn = knn.predict(X_cancer_test_scaled)\n",
    "\n",
    "# Evaluar el modelo\n",
    "print(\"------ Resultados de k-NN (k=9) ------\")\n",
    "print(f\"Accuracy: {accuracy_score(y_cancer_test, y_cancer_pred_knn):.4f}\")\n",
    "print(\"\\nMatriz de Confusión:\")\n",
    "print(confusion_matrix(y_cancer_test, y_cancer_pred_knn))\n",
    "print(\"\\nReporte de Clasificación:\")\n",
    "print(classification_report(y_cancer_test, y_cancer_pred_knn))\n",
    "end = time.time()\n",
    "print(f\"{end - start:.3f} segundos para entrenar el modelo k-NN\")"
   ]
  },
  {
   "cell_type": "markdown",
   "metadata": {},
   "source": [
    "### 1.5 Naive Bayes"
   ]
  },
  {
   "cell_type": "code",
   "execution_count": 19,
   "metadata": {},
   "outputs": [
    {
     "name": "stdout",
     "output_type": "stream",
     "text": [
      "------ Resultados de Naive Bayes Gaussiano ------\n",
      "Accuracy: 0.9357\n",
      "\n",
      "Matriz de Confusión:\n",
      "[[ 57   6]\n",
      " [  5 103]]\n",
      "\n",
      "Reporte de Clasificación:\n",
      "              precision    recall  f1-score   support\n",
      "\n",
      "           0       0.92      0.90      0.91        63\n",
      "           1       0.94      0.95      0.95       108\n",
      "\n",
      "    accuracy                           0.94       171\n",
      "   macro avg       0.93      0.93      0.93       171\n",
      "weighted avg       0.94      0.94      0.94       171\n",
      "\n",
      "0.008 segundos para entrenar el modelo Naive Bayes\n"
     ]
    }
   ],
   "source": [
    "start = time.time()\n",
    "# Inicializar y entrenar el clasificador Naive Bayes Gaussiano\n",
    "# Nota: Naive Bayes no es tan sensible al escalado, pero es buena práctica usar los datos escalados por consistencia.\n",
    "gnb = GaussianNB()\n",
    "gnb.fit(X_cancer_train_scaled, y_cancer_train)\n",
    "\n",
    "# Realizar predicciones\n",
    "y_cancer_pred_gnb = gnb.predict(X_cancer_test_scaled)\n",
    "\n",
    "# Evaluar el modelo\n",
    "print(\"------ Resultados de Naive Bayes Gaussiano ------\")\n",
    "print(f\"Accuracy: {accuracy_score(y_cancer_test, y_cancer_pred_gnb):.4f}\")\n",
    "print(\"\\nMatriz de Confusión:\")\n",
    "print(confusion_matrix(y_cancer_test, y_cancer_pred_gnb))\n",
    "print(\"\\nReporte de Clasificación:\")\n",
    "print(classification_report(y_cancer_test, y_cancer_pred_gnb))\n",
    "end = time.time()\n",
    "print(f\"{end - start:.3f} segundos para entrenar el modelo Naive Bayes\")"
   ]
  },
  {
   "cell_type": "markdown",
   "metadata": {},
   "source": [
    "### Modelo 3: Perceptrón Multicapa (MLP)\n",
    "\n",
    "```python"
   ]
  },
  {
   "cell_type": "code",
   "execution_count": 20,
   "metadata": {},
   "outputs": [
    {
     "name": "stdout",
     "output_type": "stream",
     "text": [
      "------ Resultados del Perceptrón Multicapa (MLP) ------\n",
      "Accuracy: 0.9825\n",
      "\n",
      "Matriz de Confusión:\n",
      "[[ 61   2]\n",
      " [  1 107]]\n",
      "\n",
      "Reporte de Clasificación:\n",
      "              precision    recall  f1-score   support\n",
      "\n",
      "           0       0.98      0.97      0.98        63\n",
      "           1       0.98      0.99      0.99       108\n",
      "\n",
      "    accuracy                           0.98       171\n",
      "   macro avg       0.98      0.98      0.98       171\n",
      "weighted avg       0.98      0.98      0.98       171\n",
      "\n",
      "0.228 segundos para entrenar el modelo MLP\n"
     ]
    }
   ],
   "source": [
    "start = time.time()\n",
    "# Inicializar y entrenar el clasificador MLP\n",
    "# hidden_layer_sizes=(100,) significa una capa oculta con 100 neuronas.\n",
    "# max_iter=1000 para asegurar la convergencia.\n",
    "mlp = MLPClassifier(hidden_layer_sizes=(100,), max_iter=1000, random_state=42)\n",
    "mlp.fit(X_cancer_train_scaled, y_cancer_train)\n",
    "\n",
    "# Realizar predicciones\n",
    "y_cancer_pred_mlp = mlp.predict(X_cancer_test_scaled)\n",
    "\n",
    "# Evaluar el modelo\n",
    "print(\"------ Resultados del Perceptrón Multicapa (MLP) ------\")\n",
    "print(f\"Accuracy: {accuracy_score(y_cancer_test, y_cancer_pred_mlp):.4f}\")\n",
    "print(\"\\nMatriz de Confusión:\")\n",
    "print(confusion_matrix(y_cancer_test, y_cancer_pred_mlp))\n",
    "print(\"\\nReporte de Clasificación:\")\n",
    "print(classification_report(y_cancer_test, y_cancer_pred_mlp))\n",
    "end = time.time()\n",
    "print(f\"{end - start:.3f} segundos para entrenar el modelo MLP\")"
   ]
  },
  {
   "cell_type": "markdown",
   "metadata": {},
   "source": [
    "### Conclusiónes\n",
    "El modelo de redes neuranolas funcino mejor solo predijo 2 falso positivos y 1 falso negativo, contra el segundo mejor que fue K-nn con 3 falsos positivos y 2 falsos negativos.\n",
    "```"
   ]
  },
  {
   "cell_type": "markdown",
   "metadata": {},
   "source": [
    "### 2 Diferentes arquitecturas para el `MLPClassifier`\n",
    "\n",
    "```python"
   ]
  },
  {
   "cell_type": "markdown",
   "metadata": {},
   "source": [
    "Se probaron diferentes combianciones y no se obtuvo una mejora, ese se debe seguramente a que ya se esta en el límite de la precisión del modelo.\n",
    "``"
   ]
  },
  {
   "cell_type": "markdown",
   "metadata": {},
   "source": [
    "### 3. **Métricas de Distancia en k-NN:** El `KNeighborsClassifier` tiene un parámetro `metric`. Por defecto es `'minkowski'` (que con p=2 es la distancia Euclidiana). Prueba a cambiarlo a `'manhattan'` (Distancia de Manhattan). ¿Cambia el rendimiento del modelo?\n"
   ]
  },
  {
   "cell_type": "code",
   "execution_count": 48,
   "metadata": {},
   "outputs": [
    {
     "name": "stdout",
     "output_type": "stream",
     "text": [
      "------ Resultados de k-NN (k=9) ------\n",
      "Accuracy: 0.9649\n",
      "\n",
      "Matriz de Confusión:\n",
      "[[ 59   4]\n",
      " [  2 106]]\n",
      "\n",
      "Reporte de Clasificación:\n",
      "              precision    recall  f1-score   support\n",
      "\n",
      "           0       0.97      0.94      0.95        63\n",
      "           1       0.96      0.98      0.97       108\n",
      "\n",
      "    accuracy                           0.96       171\n",
      "   macro avg       0.97      0.96      0.96       171\n",
      "weighted avg       0.96      0.96      0.96       171\n",
      "\n",
      "0.011 segundos para entrenar el modelo k-NN\n"
     ]
    }
   ],
   "source": [
    "start = time.time()\n",
    "# Inicializar y entrenar el clasificador k-NN\n",
    "knn = KNeighborsClassifier(n_neighbors=9,metric='manhattan')\n",
    "knn.fit(X_cancer_train_scaled, y_cancer_train)\n",
    "\n",
    "# Realizar predicciones\n",
    "y_cancer_pred_knn = knn.predict(X_cancer_test_scaled)\n",
    "\n",
    "# Evaluar el modelo\n",
    "print(\"------ Resultados de k-NN (k=9) ------\")\n",
    "print(f\"Accuracy: {accuracy_score(y_cancer_test, y_cancer_pred_knn):.4f}\")\n",
    "print(\"\\nMatriz de Confusión:\")\n",
    "print(confusion_matrix(y_cancer_test, y_cancer_pred_knn))\n",
    "print(\"\\nReporte de Clasificación:\")\n",
    "print(classification_report(y_cancer_test, y_cancer_pred_knn))\n",
    "end = time.time()\n",
    "print(f\"{end - start:.3f} segundos para entrenar el modelo k-NN\")"
   ]
  },
  {
   "cell_type": "markdown",
   "metadata": {},
   "source": [
    "Cambio, si, pero empeora un poco de .97 a .965"
   ]
  },
  {
   "cell_type": "markdown",
   "metadata": {},
   "source": [
    "### 4. **Robustez del `train_test_split`:** Cambia el valor de `random_state` en la función `train_test_split`. Repite el entrenamiento y evaluación de los tres modelos. ¿Son los resultados de precisión exactamente los mismos? ¿Qué nos dice esto sobre la evaluación de modelos?\n"
   ]
  },
  {
   "cell_type": "code",
   "execution_count": null,
   "metadata": {},
   "outputs": [
    {
     "name": "stdout",
     "output_type": "stream",
     "text": [
      "------ Resultados de k-NN (k=9) ------\n",
      "Accuracy: 0.9591\n",
      "\n",
      "Matriz de Confusión:\n",
      "[[ 62   7]\n",
      " [  0 102]]\n",
      "\n",
      "Reporte de Clasificación:\n",
      "              precision    recall  f1-score   support\n",
      "\n",
      "           0       1.00      0.90      0.95        69\n",
      "           1       0.94      1.00      0.97       102\n",
      "\n",
      "    accuracy                           0.96       171\n",
      "   macro avg       0.97      0.95      0.96       171\n",
      "weighted avg       0.96      0.96      0.96       171\n",
      "\n",
      "0.008 segundos para entrenar el modelo k-NN\n",
      "------ Resultados de Naive Bayes Gaussiano ------\n",
      "Accuracy: 0.9357\n",
      "\n",
      "Matriz de Confusión:\n",
      "[[ 60   9]\n",
      " [  2 100]]\n",
      "\n",
      "Reporte de Clasificación:\n",
      "              precision    recall  f1-score   support\n",
      "\n",
      "           0       0.97      0.87      0.92        69\n",
      "           1       0.92      0.98      0.95       102\n",
      "\n",
      "    accuracy                           0.94       171\n",
      "   macro avg       0.94      0.92      0.93       171\n",
      "weighted avg       0.94      0.94      0.94       171\n",
      "\n",
      "0.004 segundos para entrenar el modelo Naive Bayes\n",
      "------ Resultados del Perceptrón Multicapa (MLP) ------\n",
      "Accuracy: 0.9708\n",
      "\n",
      "Matriz de Confusión:\n",
      "[[ 64   5]\n",
      " [  0 102]]\n",
      "\n",
      "Reporte de Clasificación:\n",
      "              precision    recall  f1-score   support\n",
      "\n",
      "           0       1.00      0.93      0.96        69\n",
      "           1       0.95      1.00      0.98       102\n",
      "\n",
      "    accuracy                           0.97       171\n",
      "   macro avg       0.98      0.96      0.97       171\n",
      "weighted avg       0.97      0.97      0.97       171\n",
      "\n",
      "0.339 segundos para entrenar el modelo MLP\n"
     ]
    }
   ],
   "source": [
    "# Separar los datos originales (sin PCA) en entrenamiento y prueba\n",
    "X_cancer_train, X_cancer_test, y_cancer_train, y_cancer_test = train_test_split(X_cancer, y_cancer, test_size=0.3, random_state=100)\n",
    "# Estratificar en y nos permite mantener las mismas proporciones en las clases de la salida\n",
    "\n",
    "# Inicializar el escalador\n",
    "scaler = StandardScaler()\n",
    "\n",
    "# Ajustar el escalador SÓLO con los datos de entrenamiento\n",
    "X_cancer_train_scaled = scaler.fit_transform(X_cancer_train)\n",
    "\n",
    "# Aplicar la misma transformación a los datos de prueba\n",
    "X_cancer_test_scaled = scaler.transform(X_cancer_test)\n",
    "\n",
    "\n",
    "\n",
    "start = time.time()\n",
    "# Inicializar y entrenar el clasificador k-NN\n",
    "knn = KNeighborsClassifier(n_neighbors=9)\n",
    "knn.fit(X_cancer_train_scaled, y_cancer_train)\n",
    "\n",
    "# Realizar predicciones\n",
    "y_cancer_pred_knn = knn.predict(X_cancer_test_scaled)\n",
    "\n",
    "# Evaluar el modelo\n",
    "print(\"------ Resultados de k-NN (k=9) ------\")\n",
    "print(f\"Accuracy: {accuracy_score(y_cancer_test, y_cancer_pred_knn):.4f}\")\n",
    "print(\"\\nMatriz de Confusión:\")\n",
    "print(confusion_matrix(y_cancer_test, y_cancer_pred_knn))\n",
    "print(\"\\nReporte de Clasificación:\")\n",
    "print(classification_report(y_cancer_test, y_cancer_pred_knn))\n",
    "end = time.time()\n",
    "print(f\"{end - start:.3f} segundos para entrenar el modelo k-NN\")\n",
    "\n",
    "\n",
    "\n",
    "start = time.time()\n",
    "# Inicializar y entrenar el clasificador Naive Bayes Gaussiano\n",
    "# Nota: Naive Bayes no es tan sensible al escalado, pero es buena práctica usar los datos escalados por consistencia.\n",
    "gnb = GaussianNB()\n",
    "gnb.fit(X_cancer_train_scaled, y_cancer_train)\n",
    "\n",
    "# Realizar predicciones\n",
    "y_cancer_pred_gnb = gnb.predict(X_cancer_test_scaled)\n",
    "\n",
    "# Evaluar el modelo\n",
    "print(\"------ Resultados de Naive Bayes Gaussiano ------\")\n",
    "print(f\"Accuracy: {accuracy_score(y_cancer_test, y_cancer_pred_gnb):.4f}\")\n",
    "print(\"\\nMatriz de Confusión:\")\n",
    "print(confusion_matrix(y_cancer_test, y_cancer_pred_gnb))\n",
    "print(\"\\nReporte de Clasificación:\")\n",
    "print(classification_report(y_cancer_test, y_cancer_pred_gnb))\n",
    "end = time.time()\n",
    "print(f\"{end - start:.3f} segundos para entrenar el modelo Naive Bayes\")\n",
    "\n",
    "\n",
    "\n",
    "start = time.time()\n",
    "# Inicializar y entrenar el clasificador MLP\n",
    "# hidden_layer_sizes=(100,) significa una capa oculta con 100 neuronas.\n",
    "# max_iter=1000 para asegurar la convergencia.\n",
    "mlp = MLPClassifier(hidden_layer_sizes=(100,), max_iter=1000, random_state=42)\n",
    "mlp.fit(X_cancer_train_scaled, y_cancer_train)\n",
    "\n",
    "# Realizar predicciones\n",
    "y_cancer_pred_mlp = mlp.predict(X_cancer_test_scaled)\n",
    "\n",
    "# Evaluar el modelo\n",
    "print(\"------ Resultados del Perceptrón Multicapa (MLP) ------\")\n",
    "print(f\"Accuracy: {accuracy_score(y_cancer_test, y_cancer_pred_mlp):.4f}\")\n",
    "print(\"\\nMatriz de Confusión:\")\n",
    "print(confusion_matrix(y_cancer_test, y_cancer_pred_mlp))\n",
    "print(\"\\nReporte de Clasificación:\")\n",
    "print(classification_report(y_cancer_test, y_cancer_pred_mlp))\n",
    "end = time.time()\n",
    "print(f\"{end - start:.3f} segundos para entrenar el modelo MLP\")"
   ]
  },
  {
   "cell_type": "markdown",
   "metadata": {},
   "source": [
    "Si, empeoraron para todos, sin embargo el MLP sigue siendo el mejor con .9708, apenas un poco menos que el .98 con random state=42"
   ]
  },
  {
   "cell_type": "markdown",
   "metadata": {},
   "source": [
    "### 5. **Comparar con Regresión Logística:** Como un modelo de base adicional, importa `LogisticRegression` de `sklearn.linear_model`. Entrénalo y evalúalo en el dataset Wine. ¿Cómo se compara su rendimiento con los tres modelos de esta clase?"
   ]
  },
  {
   "cell_type": "code",
   "execution_count": 51,
   "metadata": {},
   "outputs": [
    {
     "name": "stdout",
     "output_type": "stream",
     "text": [
      "------ Resultados de Regresión Logística ------\n",
      "Accuracy: 0.9815\n",
      "\n",
      "Matriz de Confusión:\n",
      "[[18  0  0]\n",
      " [ 1 20  0]\n",
      " [ 0  0 15]]\n",
      "\n",
      "Reporte de Clasificación:\n",
      "              precision    recall  f1-score   support\n",
      "\n",
      "           0       0.95      1.00      0.97        18\n",
      "           1       1.00      0.95      0.98        21\n",
      "           2       1.00      1.00      1.00        15\n",
      "\n",
      "    accuracy                           0.98        54\n",
      "   macro avg       0.98      0.98      0.98        54\n",
      "weighted avg       0.98      0.98      0.98        54\n",
      "\n"
     ]
    }
   ],
   "source": [
    "# comparamos el modelo de wine para regresion logistica\n",
    "from sklearn.linear_model import LogisticRegression\n",
    "# Importar el modelo de regresión logística\n",
    "logistic_model = LogisticRegression(max_iter=1000, random_state=42)\n",
    "# Entrenar el modelo con los datos de entrenamiento\n",
    "logistic_model.fit(X_train_scaled, y_train)\n",
    "# Realizar predicciones\n",
    "y_pred_logistic = logistic_model.predict(X_test_scaled)\n",
    "# Evaluar el modelo\n",
    "print(\"------ Resultados de Regresión Logística ------\")\n",
    "print(f\"Accuracy: {accuracy_score(y_test, y_pred_logistic):.4f}\")\n",
    "print(\"\\nMatriz de Confusión:\")\n",
    "print(confusion_matrix(y_test, y_pred_logistic))\n",
    "print(\"\\nReporte de Clasificación:\")\n",
    "print(classification_report(y_test, y_pred_logistic))\n"
   ]
  },
  {
   "cell_type": "markdown",
   "metadata": {},
   "source": [
    "### El resultado es apenas peor qu eel de los otros modelos, sin embargo es un modelo más simple y rápido de entrenar y mas explicativo"
   ]
  }
 ],
 "metadata": {
  "kernelspec": {
   "display_name": "islp",
   "language": "python",
   "name": "python3"
  },
  "language_info": {
   "codemirror_mode": {
    "name": "ipython",
    "version": 3
   },
   "file_extension": ".py",
   "mimetype": "text/x-python",
   "name": "python",
   "nbconvert_exporter": "python",
   "pygments_lexer": "ipython3",
   "version": "3.12.11"
  }
 },
 "nbformat": 4,
 "nbformat_minor": 2
}
