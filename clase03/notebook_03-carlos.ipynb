{
 "cells": [
  {
   "cell_type": "markdown",
   "metadata": {
    "id": "jEX29wNNQQiQ"
   },
   "source": [
    "# Taller Práctico: Regresión Logística (Versión Completa y Corregida)\n",
    "\n",
    "**Curso:** Maestría en Machine Learning\n",
    "\n",
    "**Nota:** Esta versión incorpora las correcciones de preprocesamiento discutidas: la correcta creación de variables dummy (0/1) y la estandarización de features numéricos, presentando el flujo de trabajo metodológicamente correcto y completo."
   ]
  },
  {
   "cell_type": "markdown",
   "metadata": {
    "id": "XtXka06yQQiS"
   },
   "source": [
    "## 1. Importación de Librerías"
   ]
  },
  {
   "cell_type": "code",
   "execution_count": 27,
   "metadata": {
    "id": "teOFJP_hQRTu"
   },
   "outputs": [],
   "source": [
    "#! pip install ISLP"
   ]
  },
  {
   "cell_type": "code",
   "execution_count": 28,
   "metadata": {
    "id": "BzWFrvFzQQiS"
   },
   "outputs": [],
   "source": [
    "# Librerías para manipulación de datos\n",
    "import pandas as pd\n",
    "import numpy as np\n",
    "\n",
    "# Librerías para visualización\n",
    "import plotly.express as px\n",
    "import plotly.graph_objects as go\n",
    "from matplotlib import pyplot as plt\n",
    "\n",
    "# Librerías de Machine Learning (scikit-learn)\n",
    "from sklearn.model_selection import train_test_split\n",
    "from sklearn.preprocessing import StandardScaler\n",
    "from sklearn.linear_model import LogisticRegression\n",
    "from sklearn.metrics import (\n",
    "    confusion_matrix,\n",
    "    ConfusionMatrixDisplay,\n",
    "    classification_report,\n",
    "    roc_curve,\n",
    "    roc_auc_score\n",
    ")\n",
    "\n",
    "# Librería para cargar el dataset\n",
    "from ISLP import load_data"
   ]
  },
  {
   "cell_type": "markdown",
   "metadata": {
    "id": "rx1a4IQ7QQiT"
   },
   "source": [
    "## 2. Carga y Preprocesamiento de Datos"
   ]
  },
  {
   "cell_type": "code",
   "execution_count": 29,
   "metadata": {
    "id": "35soQHJIQQiT"
   },
   "outputs": [
    {
     "name": "stdout",
     "output_type": "stream",
     "text": [
      "  default student      balance        income\n",
      "0      No      No   729.526495  44361.625074\n",
      "1      No     Yes   817.180407  12106.134700\n",
      "2      No      No  1073.549164  31767.138947\n",
      "3      No      No   529.250605  35704.493935\n",
      "4      No      No   785.655883  38463.495879\n",
      "  default      balance        income  student_Yes\n",
      "0      No   729.526495  44361.625074            0\n",
      "1      No   817.180407  12106.134700            1\n",
      "2      No  1073.549164  31767.138947            0\n",
      "3      No   529.250605  35704.493935            0\n",
      "4      No   785.655883  38463.495879            0\n",
      "Primeras filas de los datos preprocesados:\n"
     ]
    },
    {
     "data": {
      "text/html": [
       "<div>\n",
       "<style scoped>\n",
       "    .dataframe tbody tr th:only-of-type {\n",
       "        vertical-align: middle;\n",
       "    }\n",
       "\n",
       "    .dataframe tbody tr th {\n",
       "        vertical-align: top;\n",
       "    }\n",
       "\n",
       "    .dataframe thead th {\n",
       "        text-align: right;\n",
       "    }\n",
       "</style>\n",
       "<table border=\"1\" class=\"dataframe\">\n",
       "  <thead>\n",
       "    <tr style=\"text-align: right;\">\n",
       "      <th></th>\n",
       "      <th>balance</th>\n",
       "      <th>income</th>\n",
       "      <th>student_Yes</th>\n",
       "    </tr>\n",
       "  </thead>\n",
       "  <tbody>\n",
       "    <tr>\n",
       "      <th>0</th>\n",
       "      <td>729.526495</td>\n",
       "      <td>44361.625074</td>\n",
       "      <td>0</td>\n",
       "    </tr>\n",
       "    <tr>\n",
       "      <th>1</th>\n",
       "      <td>817.180407</td>\n",
       "      <td>12106.134700</td>\n",
       "      <td>1</td>\n",
       "    </tr>\n",
       "    <tr>\n",
       "      <th>2</th>\n",
       "      <td>1073.549164</td>\n",
       "      <td>31767.138947</td>\n",
       "      <td>0</td>\n",
       "    </tr>\n",
       "    <tr>\n",
       "      <th>3</th>\n",
       "      <td>529.250605</td>\n",
       "      <td>35704.493935</td>\n",
       "      <td>0</td>\n",
       "    </tr>\n",
       "    <tr>\n",
       "      <th>4</th>\n",
       "      <td>785.655883</td>\n",
       "      <td>38463.495879</td>\n",
       "      <td>0</td>\n",
       "    </tr>\n",
       "  </tbody>\n",
       "</table>\n",
       "</div>"
      ],
      "text/plain": [
       "       balance        income  student_Yes\n",
       "0   729.526495  44361.625074            0\n",
       "1   817.180407  12106.134700            1\n",
       "2  1073.549164  31767.138947            0\n",
       "3   529.250605  35704.493935            0\n",
       "4   785.655883  38463.495879            0"
      ]
     },
     "metadata": {},
     "output_type": "display_data"
    },
    {
     "data": {
      "text/plain": [
       "0    0\n",
       "1    0\n",
       "2    0\n",
       "3    0\n",
       "4    0\n",
       "Name: default, dtype: category\n",
       "Categories (2, int64): [0, 1]"
      ]
     },
     "metadata": {},
     "output_type": "display_data"
    },
    {
     "data": {
      "text/plain": [
       "483.71498520561704"
      ]
     },
     "metadata": {},
     "output_type": "display_data"
    }
   ],
   "source": [
    "# Carga de datos\n",
    "default_df = load_data('Default')\n",
    "print(default_df.head())\n",
    "\n",
    "# Conversión de categóricas a numéricas\n",
    "df_processed = pd.get_dummies(default_df, columns=['student'], drop_first=True, dtype=int)\n",
    "print(df_processed.head())\n",
    "df_processed['default'] = df_processed['default'].apply(lambda x: 1 if x == 'Yes' else 0)\n",
    "\n",
    "# Definición de features y target\n",
    "X = df_processed[['balance', 'income', 'student_Yes']]\n",
    "y = df_processed['default']\n",
    "\n",
    "print(\"Primeras filas de los datos preprocesados:\")\n",
    "display(X.head())\n",
    "display(y.head())\n",
    "\n",
    "display(X['balance'].std())\n"
   ]
  },
  {
   "cell_type": "markdown",
   "metadata": {
    "id": "9s0jwOTsQQiU"
   },
   "source": [
    "### División en Conjuntos de Entrenamiento y Prueba\n",
    "\n",
    "Dividimos los datos ANTES de cualquier preprocesamiento que \"aprenda\" de los datos, como la estandarización, para evitar fuga de información."
   ]
  },
  {
   "cell_type": "code",
   "execution_count": 30,
   "metadata": {
    "id": "eGhZA41sQQiU"
   },
   "outputs": [
    {
     "name": "stdout",
     "output_type": "stream",
     "text": [
      "Forma de X_train: (8000, 3)\n",
      "Forma de X_test: (2000, 3)\n"
     ]
    }
   ],
   "source": [
    "X_train, X_test, y_train, y_test = train_test_split(\n",
    "    X, y,\n",
    "    test_size=0.2,\n",
    "    random_state=42,\n",
    "    stratify=y\n",
    ")\n",
    "\n",
    "print(f\"Forma de X_train: {X_train.shape}\")\n",
    "print(f\"Forma de X_test: {X_test.shape}\")"
   ]
  },
  {
   "cell_type": "markdown",
   "metadata": {
    "id": "iMwv7uO-QQiU"
   },
   "source": [
    "### Estandarización de Features Numéricos\n",
    "\n",
    "**Este es un paso crucial.** Estandarizamos las variables `balance` e `income` para que tengan media 0 y desviación estándar 1. Esto asegura que la regularización del modelo se aplique de manera justa.\n",
    "\n",
    "**Importante:** Ajustamos el `StandardScaler` **únicamente** con los datos de entrenamiento (`X_train`) y luego lo usamos para transformar tanto el conjunto de entrenamiento como el de prueba."
   ]
  },
  {
   "cell_type": "code",
   "execution_count": 31,
   "metadata": {
    "id": "F92uEGLTQQiV"
   },
   "outputs": [
    {
     "name": "stdout",
     "output_type": "stream",
     "text": [
      "Primeras filas de los datos de entrenamiento escalados:\n"
     ]
    },
    {
     "data": {
      "text/html": [
       "<div>\n",
       "<style scoped>\n",
       "    .dataframe tbody tr th:only-of-type {\n",
       "        vertical-align: middle;\n",
       "    }\n",
       "\n",
       "    .dataframe tbody tr th {\n",
       "        vertical-align: top;\n",
       "    }\n",
       "\n",
       "    .dataframe thead th {\n",
       "        text-align: right;\n",
       "    }\n",
       "</style>\n",
       "<table border=\"1\" class=\"dataframe\">\n",
       "  <thead>\n",
       "    <tr style=\"text-align: right;\">\n",
       "      <th></th>\n",
       "      <th>balance</th>\n",
       "      <th>income</th>\n",
       "      <th>student_Yes</th>\n",
       "    </tr>\n",
       "  </thead>\n",
       "  <tbody>\n",
       "    <tr>\n",
       "      <th>2720</th>\n",
       "      <td>-0.018061</td>\n",
       "      <td>-0.331140</td>\n",
       "      <td>1</td>\n",
       "    </tr>\n",
       "    <tr>\n",
       "      <th>6168</th>\n",
       "      <td>-1.687480</td>\n",
       "      <td>2.194023</td>\n",
       "      <td>0</td>\n",
       "    </tr>\n",
       "    <tr>\n",
       "      <th>7723</th>\n",
       "      <td>-0.123917</td>\n",
       "      <td>-0.288274</td>\n",
       "      <td>0</td>\n",
       "    </tr>\n",
       "    <tr>\n",
       "      <th>8128</th>\n",
       "      <td>0.155670</td>\n",
       "      <td>0.992420</td>\n",
       "      <td>0</td>\n",
       "    </tr>\n",
       "    <tr>\n",
       "      <th>3565</th>\n",
       "      <td>0.449485</td>\n",
       "      <td>-1.673192</td>\n",
       "      <td>1</td>\n",
       "    </tr>\n",
       "  </tbody>\n",
       "</table>\n",
       "</div>"
      ],
      "text/plain": [
       "       balance    income  student_Yes\n",
       "2720 -0.018061 -0.331140            1\n",
       "6168 -1.687480  2.194023            0\n",
       "7723 -0.123917 -0.288274            0\n",
       "8128  0.155670  0.992420            0\n",
       "3565  0.449485 -1.673192            1"
      ]
     },
     "metadata": {},
     "output_type": "display_data"
    }
   ],
   "source": [
    "# Instanciamos el escalador\n",
    "scaler = StandardScaler()\n",
    "\n",
    "# Columnas a escalar\n",
    "cols_to_scale = ['balance', 'income']\n",
    "\n",
    "# Creamos copias para no modificar los dataframes originales\n",
    "X_train_scaled = X_train.copy()\n",
    "X_test_scaled = X_test.copy()\n",
    "\n",
    "# Ajustamos y transformamos los datos de entrenamiento\n",
    "X_train_scaled[cols_to_scale] = scaler.fit_transform(X_train[cols_to_scale])\n",
    "\n",
    "# Transformamos los datos de prueba con el escalador ya ajustado\n",
    "X_test_scaled[cols_to_scale] = scaler.transform(X_test[cols_to_scale])\n",
    "\n",
    "print(\"Primeras filas de los datos de entrenamiento escalados:\")\n",
    "display(X_train_scaled.head())"
   ]
  },
  {
   "cell_type": "markdown",
   "metadata": {
    "id": "p4vON1LBQQiV"
   },
   "source": [
    "## 3. Entrenamiento del Modelo de Regresión Logística\n",
    "\n",
    "Ahora entrenaremos el modelo usando los datos estandarizados."
   ]
  },
  {
   "cell_type": "code",
   "execution_count": 32,
   "metadata": {
    "id": "LsDmZG1RQQiW"
   },
   "outputs": [
    {
     "name": "stdout",
     "output_type": "stream",
     "text": [
      "¡Modelo entrenado exitosamente con datos escalados!\n"
     ]
    }
   ],
   "source": [
    "# Instanciamos y entrenamos el modelo con los datos escalados\n",
    "log_reg = LogisticRegression(random_state=42)#, solver='liblinear')\n",
    "log_reg.fit(X_train_scaled, y_train)\n",
    "\n",
    "print(\"¡Modelo entrenado exitosamente con datos escalados!\")"
   ]
  },
  {
   "cell_type": "markdown",
   "metadata": {
    "id": "dl5Of2i0QQiW"
   },
   "source": [
    "## 4. Evaluación del Modelo\n",
    "\n",
    "Procedemos a la evaluación completa del modelo sobre el conjunto de prueba escalado."
   ]
  },
  {
   "cell_type": "markdown",
   "metadata": {
    "id": "zfC7MO6ZQQiW"
   },
   "source": [
    "### 4.1. Matriz de Confusión y Métricas Clave"
   ]
  },
  {
   "cell_type": "code",
   "execution_count": 33,
   "metadata": {
    "id": "EPnbLgxFQQiW"
   },
   "outputs": [
    {
     "data": {
      "image/png": "[encoded data removed]",
      "text/plain": [
       "<Figure size 600x400 with 2 Axes>"
      ]
     },
     "metadata": {},
     "output_type": "display_data"
    },
    {
     "name": "stdout",
     "output_type": "stream",
     "text": [
      "\n",
      "Reporte de Clasificación:\n",
      "              precision    recall  f1-score   support\n",
      "\n",
      "  No Default       0.98      1.00      0.99      1933\n",
      "     Default       0.72      0.31      0.44        67\n",
      "\n",
      "    accuracy                           0.97      2000\n",
      "   macro avg       0.85      0.65      0.71      2000\n",
      "weighted avg       0.97      0.97      0.97      2000\n",
      "\n"
     ]
    }
   ],
   "source": [
    "# Realizamos predicciones sobre el conjunto de prueba escalado\n",
    "y_pred = log_reg.predict(X_test_scaled)\n",
    "\n",
    "# Calculamos y visualizamos la matriz de confusión\n",
    "cm = confusion_matrix(y_test, y_pred)\n",
    "disp = ConfusionMatrixDisplay(confusion_matrix=cm, display_labels=['No Default', 'Default'])\n",
    "fig, ax = plt.subplots(figsize=(6, 4))\n",
    "disp.plot(cmap='Blues', ax=ax)\n",
    "ax.set_title('Matriz de Confusión')\n",
    "plt.show()\n",
    "\n",
    "# Imprimimos el reporte de clasificación completo\n",
    "print(\"\\nReporte de Clasificación:\")\n",
    "print(classification_report(y_test, y_pred, target_names=['No Default', 'Default']))"
   ]
  },
  {
   "cell_type": "markdown",
   "metadata": {
    "id": "VcNJ8WokQQiW"
   },
   "source": [
    "### 4.2. El Impacto del Umbral de Decisión"
   ]
  },
  {
   "cell_type": "code",
   "execution_count": 34,
   "metadata": {
    "id": "V2Bc0-MaQQiW"
   },
   "outputs": [
    {
     "name": "stdout",
     "output_type": "stream",
     "text": [
      "Reporte de Clasificación con Umbral = 0.2:\n",
      "              precision    recall  f1-score   support\n",
      "\n",
      "  No Default       0.99      0.97      0.98      1933\n",
      "     Default       0.39      0.63      0.48        67\n",
      "\n",
      "    accuracy                           0.95      2000\n",
      "   macro avg       0.69      0.80      0.73      2000\n",
      "weighted avg       0.97      0.95      0.96      2000\n",
      "\n"
     ]
    },
    {
     "data": {
      "image/png": "[encoded data removed]",
      "text/plain": [
       "<Figure size 600x400 with 2 Axes>"
      ]
     },
     "metadata": {},
     "output_type": "display_data"
    }
   ],
   "source": [
    "# Obtenemos las probabilidades de predicción para la clase positiva (Default)\n",
    "y_pred_proba = log_reg.predict_proba(X_test_scaled)[:, 1]\n",
    "\n",
    "# Aplicamos un nuevo umbral de 0.2 para aumentar el Recall\n",
    "umbral = 0.2\n",
    "y_pred_nuevo_umbral = (y_pred_proba >= umbral).astype(int)\n",
    "\n",
    "print(f\"Reporte de Clasificación con Umbral = {umbral}:\")\n",
    "print(classification_report(y_test, y_pred_nuevo_umbral, target_names=['No Default', 'Default']))\n",
    "\n",
    "# Visualizamos la nueva matriz de confusión\n",
    "cm_nuevo = confusion_matrix(y_test, y_pred_nuevo_umbral)\n",
    "disp_nuevo = ConfusionMatrixDisplay(confusion_matrix=cm_nuevo, display_labels=['No Default', 'Default'])\n",
    "fig, ax = plt.subplots(figsize=(6, 4))\n",
    "disp_nuevo.plot(cmap='Greens', ax=ax)\n",
    "ax.set_title(f'Matriz de Confusión con Umbral = {umbral}')\n",
    "plt.show()"
   ]
  },
  {
   "cell_type": "markdown",
   "metadata": {
    "id": "-PsV6LgfQQiX"
   },
   "source": [
    "### 4.3. Curva ROC y AUC"
   ]
  },
  {
   "cell_type": "code",
   "execution_count": 35,
   "metadata": {
    "id": "-xauP270QQiX"
   },
   "outputs": [
    {
     "data": {
      "application/vnd.plotly.v1+json": {
       "config": {
        "plotlyServerURL": "https://plot.ly"
       },
       "data": [
        {
         "mode": "lines",
         "name": "Curva ROC (AUC = 0.9485)",
         "type": "scatter",
         "x": {
          "bdata": "AAAAAAAAAAAAAAAAAAAAAAAAAAAAAAAAsIbj8q7zQD+whuPyrvNAP7CG4/Ku81A/sIbj8q7zUD+whuPyrvNgP7CG4/Ku82A/XGicr5owZT9caJyvmjBlP7CG4/Ku83A/sIbj8q7zcD8ISlVshm15PwhKVWyGbXk/3rqxSvyLez/eurFK/It7P4b3P9EkEoM/hvc/0SQSgz9caJyvmjCFP1xonK+aMIU/Mtn4jRBPhz8y2fiNEE+HP50RJ31LXog/nREnfUteiD9zgoNbwXyKP3OCg1vBfIo/3rqxSvyLiz/eurFK/IuLP7QrDilyqo0/tCsOKXKqjT8fZDwYrbmOPx9kPBituY4/e2pMexFskD97akx7EWyQP+aiempMe5E/5qJ6akx7kT9R26hZh4qSP1HbqFmHipI/XGicr5owlT9caJyvmjCVPz5m7OMj9Zk/Pmbs4yP1mT+0Kw4pcqqdP7QrDilyqp0/yxSvrn03oT/LFK+ufTehPzZN3Z24RqI/Nk3dnbhGoj9R26hZh4qiP1HbqFmHiqI/a2l0FVbOoj9raXQVVs6iPxdLLdJBC6c/F0st0kELpz+Cg1vBfBqoP4KDW8F8Gqg/CEpVbIZtqT8ISlVshm2pP1j0t5/yOKo/WPS3n/I4qj/DLOaOLUirP8Ms5o4tSKs/tCsOKXKqrT+0Kw4pcqqtP/NpYMgznbE/82lgyDOdsT8ZhR/aFYe0PxmFH9oVh7Q/CoRHdFrptj8KhEd0Wum2P4gxMtn4jcA/iDEy2fiNwD+U2x4z9vHBP5TbHjP28cE/J0wFOP2oxD8nTAU4/ajEP5z0LXlhoMk/nPQteWGgyT9lnqT575zLP2WepPnvnMs/6keloA8yzj/qR6WgDzLOPx9kPBituc4/H2Q8GK25zj+AokkkJmDSP4CiSSQmYNI/VhOmApx+1D9WE6YCnH7UP6a9CDYIStU/pr0INghK1T8AAAAAAADwPw==",
          "dtype": "f8"
         },
         "y": {
          "bdata": "AAAAAAAAAABnt/CrMZGOP2e38KsxkZ4/Z7fwqzGRnj+NifRA5ezGP42J9EDl7MY/BJWzW/jVyD8ElbNb+NXIP3qgcnYLv8o/eqBydgu/yj/l7BZ+NSbSP+XsFn41JtI/XPjVmEgP1D9c+NWYSA/UPxd+NSbSA9U/F341JtID1T+NifRA5ezWP42J9EDl7NY/SQ9Uzm7h1z9JD1TObuHXPwSVs1v41dg/BJWzW/jV2D+/GhPpgcrZP78aE+mBytk/eqBydgu/2j96oHJ2C7/aPzUm0gOVs9s/NSbSA5Wz2z+sMZEeqJzdP6wxkR6onN0/Z7fwqzGR3j9nt/CrMZHePyI9UDm7hd8/Ij1QObuF3z9v4VdjIj3gP2/hV2MiPeA/TKQHKme34D9MpAcqZ7fgPypnt/CrMeE/Kme38Ksx4T8IKme38KvhPwgqZ7fwq+E/5ewWfjUm4j/l7BZ+NSbiP6Bydgu/GuM/oHJ2C78a4z9c+NWYSA/kP1z41ZhID+Q/ObuFX42J5D85u4VfjYnkPxd+NSbSA+U/F341JtID5T/1QOXsFn7lP/VA5ewWfuU/0gOVs1v45T/SA5WzW/jlP42J9EDl7OY/jYn0QOXs5j9rTKQHKmfnP2tMpAcqZ+c/JtIDlbNb6D8m0gOVs1voP+FXYyI9UOk/4VdjIj1Q6T+/GhPpgcrpP78aE+mByuk/nd3Cr8ZE6j+d3cKvxkTqP3qgcnYLv+o/eqBydgu/6j9YYyI9UDnrP1hjIj1QOes/NSbSA5Wz6z81JtIDlbPrPxPpgcrZLew/E+mBytkt7D/xqzGRHqjsP/GrMZEeqOw/zm7hV2Mi7T/ObuFXYyLtP6wxkR6onO0/rDGRHqic7T+K9EDl7BbuP4r0QOXsFu4/Z7fwqzGR7j9nt/CrMZHuP0V6oHJ2C+8/RXqgcnYL7z8iPVA5u4XvPyI9UDm7he8/AAAAAAAA8D8AAAAAAADwPw==",
          "dtype": "f8"
         }
        },
        {
         "line": {
          "dash": "dash"
         },
         "mode": "lines",
         "name": "Clasificador Aleatorio",
         "type": "scatter",
         "x": [
          0,
          1
         ],
         "y": [
          0,
          1
         ]
        }
       ],
       "layout": {
        "template": {
         "data": {
          "bar": [
           {
            "error_x": {
             "color": "#2a3f5f"
            },
            "error_y": {
             "color": "#2a3f5f"
            },
            "marker": {
             "line": {
              "color": "white",
              "width": 0.5
             },
             "pattern": {
              "fillmode": "overlay",
              "size": 10,
              "solidity": 0.2
             }
            },
            "type": "bar"
           }
          ],
          "barpolar": [
           {
            "marker": {
             "line": {
              "color": "white",
              "width": 0.5
             },
             "pattern": {
              "fillmode": "overlay",
              "size": 10,
              "solidity": 0.2
             }
            },
            "type": "barpolar"
           }
          ],
          "carpet": [
           {
            "aaxis": {
             "endlinecolor": "#2a3f5f",
             "gridcolor": "#C8D4E3",
             "linecolor": "#C8D4E3",
             "minorgridcolor": "#C8D4E3",
             "startlinecolor": "#2a3f5f"
            },
            "baxis": {
             "endlinecolor": "#2a3f5f",
             "gridcolor": "#C8D4E3",
             "linecolor": "#C8D4E3",
             "minorgridcolor": "#C8D4E3",
             "startlinecolor": "#2a3f5f"
            },
            "type": "carpet"
           }
          ],
          "choropleth": [
           {
            "colorbar": {
             "outlinewidth": 0,
             "ticks": ""
            },
            "type": "choropleth"
           }
          ],
          "contour": [
           {
            "colorbar": {
             "outlinewidth": 0,
             "ticks": ""
            },
            "colorscale": [
             [
              0,
              "#0d0887"
             ],
             [
              0.1111111111111111,
              "#46039f"
             ],
             [
              0.2222222222222222,
              "#7201a8"
             ],
             [
              0.3333333333333333,
              "#9c179e"
             ],
             [
              0.4444444444444444,
              "#bd3786"
             ],
             [
              0.5555555555555556,
              "#d8576b"
             ],
             [
              0.6666666666666666,
              "#ed7953"
             ],
             [
              0.7777777777777778,
              "#fb9f3a"
             ],
             [
              0.8888888888888888,
              "#fdca26"
             ],
             [
              1,
              "#f0f921"
             ]
            ],
            "type": "contour"
           }
          ],
          "contourcarpet": [
           {
            "colorbar": {
             "outlinewidth": 0,
             "ticks": ""
            },
            "type": "contourcarpet"
           }
          ],
          "heatmap": [
           {
            "colorbar": {
             "outlinewidth": 0,
             "ticks": ""
            },
            "colorscale": [
             [
              0,
              "#0d0887"
             ],
             [
              0.1111111111111111,
              "#46039f"
             ],
             [
              0.2222222222222222,
              "#7201a8"
             ],
             [
              0.3333333333333333,
              "#9c179e"
             ],
             [
              0.4444444444444444,
              "#bd3786"
             ],
             [
              0.5555555555555556,
              "#d8576b"
             ],
             [
              0.6666666666666666,
              "#ed7953"
             ],
             [
              0.7777777777777778,
              "#fb9f3a"
             ],
             [
              0.8888888888888888,
              "#fdca26"
             ],
             [
              1,
              "#f0f921"
             ]
            ],
            "type": "heatmap"
           }
          ],
          "histogram": [
           {
            "marker": {
             "pattern": {
              "fillmode": "overlay",
              "size": 10,
              "solidity": 0.2
             }
            },
            "type": "histogram"
           }
          ],
          "histogram2d": [
           {
            "colorbar": {
             "outlinewidth": 0,
             "ticks": ""
            },
            "colorscale": [
             [
              0,
              "#0d0887"
             ],
             [
              0.1111111111111111,
              "#46039f"
             ],
             [
              0.2222222222222222,
              "#7201a8"
             ],
             [
              0.3333333333333333,
              "#9c179e"
             ],
             [
              0.4444444444444444,
              "#bd3786"
             ],
             [
              0.5555555555555556,
              "#d8576b"
             ],
             [
              0.6666666666666666,
              "#ed7953"
             ],
             [
              0.7777777777777778,
              "#fb9f3a"
             ],
             [
              0.8888888888888888,
              "#fdca26"
             ],
             [
              1,
              "#f0f921"
             ]
            ],
            "type": "histogram2d"
           }
          ],
          "histogram2dcontour": [
           {
            "colorbar": {
             "outlinewidth": 0,
             "ticks": ""
            },
            "colorscale": [
             [
              0,
              "#0d0887"
             ],
             [
              0.1111111111111111,
              "#46039f"
             ],
             [
              0.2222222222222222,
              "#7201a8"
             ],
             [
              0.3333333333333333,
              "#9c179e"
             ],
             [
              0.4444444444444444,
              "#bd3786"
             ],
             [
              0.5555555555555556,
              "#d8576b"
             ],
             [
              0.6666666666666666,
              "#ed7953"
             ],
             [
              0.7777777777777778,
              "#fb9f3a"
             ],
             [
              0.8888888888888888,
              "#fdca26"
             ],
             [
              1,
              "#f0f921"
             ]
            ],
            "type": "histogram2dcontour"
           }
          ],
          "mesh3d": [
           {
            "colorbar": {
             "outlinewidth": 0,
             "ticks": ""
            },
            "type": "mesh3d"
           }
          ],
          "parcoords": [
           {
            "line": {
             "colorbar": {
              "outlinewidth": 0,
              "ticks": ""
             }
            },
            "type": "parcoords"
           }
          ],
          "pie": [
           {
            "automargin": true,
            "type": "pie"
           }
          ],
          "scatter": [
           {
            "fillpattern": {
             "fillmode": "overlay",
             "size": 10,
             "solidity": 0.2
            },
            "type": "scatter"
           }
          ],
          "scatter3d": [
           {
            "line": {
             "colorbar": {
              "outlinewidth": 0,
              "ticks": ""
             }
            },
            "marker": {
             "colorbar": {
              "outlinewidth": 0,
              "ticks": ""
             }
            },
            "type": "scatter3d"
           }
          ],
          "scattercarpet": [
           {
            "marker": {
             "colorbar": {
              "outlinewidth": 0,
              "ticks": ""
             }
            },
            "type": "scattercarpet"
           }
          ],
          "scattergeo": [
           {
            "marker": {
             "colorbar": {
              "outlinewidth": 0,
              "ticks": ""
             }
            },
            "type": "scattergeo"
           }
          ],
          "scattergl": [
           {
            "marker": {
             "colorbar": {
              "outlinewidth": 0,
              "ticks": ""
             }
            },
            "type": "scattergl"
           }
          ],
          "scattermap": [
           {
            "marker": {
             "colorbar": {
              "outlinewidth": 0,
              "ticks": ""
             }
            },
            "type": "scattermap"
           }
          ],
          "scattermapbox": [
           {
            "marker": {
             "colorbar": {
              "outlinewidth": 0,
              "ticks": ""
             }
            },
            "type": "scattermapbox"
           }
          ],
          "scatterpolar": [
           {
            "marker": {
             "colorbar": {
              "outlinewidth": 0,
              "ticks": ""
             }
            },
            "type": "scatterpolar"
           }
          ],
          "scatterpolargl": [
           {
            "marker": {
             "colorbar": {
              "outlinewidth": 0,
              "ticks": ""
             }
            },
            "type": "scatterpolargl"
           }
          ],
          "scatterternary": [
           {
            "marker": {
             "colorbar": {
              "outlinewidth": 0,
              "ticks": ""
             }
            },
            "type": "scatterternary"
           }
          ],
          "surface": [
           {
            "colorbar": {
             "outlinewidth": 0,
             "ticks": ""
            },
            "colorscale": [
             [
              0,
              "#0d0887"
             ],
             [
              0.1111111111111111,
              "#46039f"
             ],
             [
              0.2222222222222222,
              "#7201a8"
             ],
             [
              0.3333333333333333,
              "#9c179e"
             ],
             [
              0.4444444444444444,
              "#bd3786"
             ],
             [
              0.5555555555555556,
              "#d8576b"
             ],
             [
              0.6666666666666666,
              "#ed7953"
             ],
             [
              0.7777777777777778,
              "#fb9f3a"
             ],
             [
              0.8888888888888888,
              "#fdca26"
             ],
             [
              1,
              "#f0f921"
             ]
            ],
            "type": "surface"
           }
          ],
          "table": [
           {
            "cells": {
             "fill": {
              "color": "#EBF0F8"
             },
             "line": {
              "color": "white"
             }
            },
            "header": {
             "fill": {
              "color": "#C8D4E3"
             },
             "line": {
              "color": "white"
             }
            },
            "type": "table"
           }
          ]
         },
         "layout": {
          "annotationdefaults": {
           "arrowcolor": "#2a3f5f",
           "arrowhead": 0,
           "arrowwidth": 1
          },
          "autotypenumbers": "strict",
          "coloraxis": {
           "colorbar": {
            "outlinewidth": 0,
            "ticks": ""
           }
          },
          "colorscale": {
           "diverging": [
            [
             0,
             "#8e0152"
            ],
            [
             0.1,
             "#c51b7d"
            ],
            [
             0.2,
             "#de77ae"
            ],
            [
             0.3,
             "#f1b6da"
            ],
            [
             0.4,
             "#fde0ef"
            ],
            [
             0.5,
             "#f7f7f7"
            ],
            [
             0.6,
             "#e6f5d0"
            ],
            [
             0.7,
             "#b8e186"
            ],
            [
             0.8,
             "#7fbc41"
            ],
            [
             0.9,
             "#4d9221"
            ],
            [
             1,
             "#276419"
            ]
           ],
           "sequential": [
            [
             0,
             "#0d0887"
            ],
            [
             0.1111111111111111,
             "#46039f"
            ],
            [
             0.2222222222222222,
             "#7201a8"
            ],
            [
             0.3333333333333333,
             "#9c179e"
            ],
            [
             0.4444444444444444,
             "#bd3786"
            ],
            [
             0.5555555555555556,
             "#d8576b"
            ],
            [
             0.6666666666666666,
             "#ed7953"
            ],
            [
             0.7777777777777778,
             "#fb9f3a"
            ],
            [
             0.8888888888888888,
             "#fdca26"
            ],
            [
             1,
             "#f0f921"
            ]
           ],
           "sequentialminus": [
            [
             0,
             "#0d0887"
            ],
            [
             0.1111111111111111,
             "#46039f"
            ],
            [
             0.2222222222222222,
             "#7201a8"
            ],
            [
             0.3333333333333333,
             "#9c179e"
            ],
            [
             0.4444444444444444,
             "#bd3786"
            ],
            [
             0.5555555555555556,
             "#d8576b"
            ],
            [
             0.6666666666666666,
             "#ed7953"
            ],
            [
             0.7777777777777778,
             "#fb9f3a"
            ],
            [
             0.8888888888888888,
             "#fdca26"
            ],
            [
             1,
             "#f0f921"
            ]
           ]
          },
          "colorway": [
           "#636efa",
           "#EF553B",
           "#00cc96",
           "#ab63fa",
           "#FFA15A",
           "#19d3f3",
           "#FF6692",
           "#B6E880",
           "#FF97FF",
           "#FECB52"
          ],
          "font": {
           "color": "#2a3f5f"
          },
          "geo": {
           "bgcolor": "white",
           "lakecolor": "white",
           "landcolor": "white",
           "showlakes": true,
           "showland": true,
           "subunitcolor": "#C8D4E3"
          },
          "hoverlabel": {
           "align": "left"
          },
          "hovermode": "closest",
          "mapbox": {
           "style": "light"
          },
          "paper_bgcolor": "white",
          "plot_bgcolor": "white",
          "polar": {
           "angularaxis": {
            "gridcolor": "#EBF0F8",
            "linecolor": "#EBF0F8",
            "ticks": ""
           },
           "bgcolor": "white",
           "radialaxis": {
            "gridcolor": "#EBF0F8",
            "linecolor": "#EBF0F8",
            "ticks": ""
           }
          },
          "scene": {
           "xaxis": {
            "backgroundcolor": "white",
            "gridcolor": "#DFE8F3",
            "gridwidth": 2,
            "linecolor": "#EBF0F8",
            "showbackground": true,
            "ticks": "",
            "zerolinecolor": "#EBF0F8"
           },
           "yaxis": {
            "backgroundcolor": "white",
            "gridcolor": "#DFE8F3",
            "gridwidth": 2,
            "linecolor": "#EBF0F8",
            "showbackground": true,
            "ticks": "",
            "zerolinecolor": "#EBF0F8"
           },
           "zaxis": {
            "backgroundcolor": "white",
            "gridcolor": "#DFE8F3",
            "gridwidth": 2,
            "linecolor": "#EBF0F8",
            "showbackground": true,
            "ticks": "",
            "zerolinecolor": "#EBF0F8"
           }
          },
          "shapedefaults": {
           "line": {
            "color": "#2a3f5f"
           }
          },
          "ternary": {
           "aaxis": {
            "gridcolor": "#DFE8F3",
            "linecolor": "#A2B1C6",
            "ticks": ""
           },
           "baxis": {
            "gridcolor": "#DFE8F3",
            "linecolor": "#A2B1C6",
            "ticks": ""
           },
           "bgcolor": "white",
           "caxis": {
            "gridcolor": "#DFE8F3",
            "linecolor": "#A2B1C6",
            "ticks": ""
           }
          },
          "title": {
           "x": 0.05
          },
          "xaxis": {
           "automargin": true,
           "gridcolor": "#EBF0F8",
           "linecolor": "#EBF0F8",
           "ticks": "",
           "title": {
            "standoff": 15
           },
           "zerolinecolor": "#EBF0F8",
           "zerolinewidth": 2
          },
          "yaxis": {
           "automargin": true,
           "gridcolor": "#EBF0F8",
           "linecolor": "#EBF0F8",
           "ticks": "",
           "title": {
            "standoff": 15
           },
           "zerolinecolor": "#EBF0F8",
           "zerolinewidth": 2
          }
         }
        },
        "title": {
         "text": "Curva ROC para el Modelo de Regresión Logística"
        },
        "xaxis": {
         "title": {
          "text": "Tasa de Falsos Positivos (FPR)"
         }
        },
        "yaxis": {
         "title": {
          "text": "Tasa de Verdaderos Positivos (TPR)"
         }
        }
       }
      }
     },
     "metadata": {},
     "output_type": "display_data"
    }
   ],
   "source": [
    "# Calculamos la tasa de verdaderos positivos (tpr) y la tasa de falsos positivos (fpr)\n",
    "fpr, tpr, umbrales = roc_curve(y_test, y_pred_proba)\n",
    "auc = roc_auc_score(y_test, y_pred_proba)\n",
    "\n",
    "# Creamos el gráfico con Plotly\n",
    "fig = go.Figure()\n",
    "fig.add_trace(go.Scatter(x=fpr, y=tpr, mode='lines', name=f'Curva ROC (AUC = {auc:.4f})'))\n",
    "fig.add_trace(go.Scatter(x=[0, 1], y=[0, 1], mode='lines', name='Clasificador Aleatorio', line=dict(dash='dash')))\n",
    "fig.update_layout(\n",
    "    title='Curva ROC para el Modelo de Regresión Logística',\n",
    "    xaxis_title='Tasa de Falsos Positivos (FPR)',\n",
    "    yaxis_title='Tasa de Verdaderos Positivos (TPR)',\n",
    "    template='plotly_white'\n",
    ")\n",
    "fig.show()"
   ]
  },
  {
   "cell_type": "code",
   "execution_count": 36,
   "metadata": {
    "id": "wWqZ5lm5QQiX"
   },
   "outputs": [
    {
     "data": {
      "text/html": [
       "<div>\n",
       "<style scoped>\n",
       "    .dataframe tbody tr th:only-of-type {\n",
       "        vertical-align: middle;\n",
       "    }\n",
       "\n",
       "    .dataframe tbody tr th {\n",
       "        vertical-align: top;\n",
       "    }\n",
       "\n",
       "    .dataframe thead th {\n",
       "        text-align: right;\n",
       "    }\n",
       "</style>\n",
       "<table border=\"1\" class=\"dataframe\">\n",
       "  <thead>\n",
       "    <tr style=\"text-align: right;\">\n",
       "      <th></th>\n",
       "      <th>Umbral</th>\n",
       "      <th>FPR</th>\n",
       "      <th>TPR</th>\n",
       "    </tr>\n",
       "  </thead>\n",
       "  <tbody>\n",
       "    <tr>\n",
       "      <th>0</th>\n",
       "      <td>inf</td>\n",
       "      <td>0.000000</td>\n",
       "      <td>0.000000</td>\n",
       "    </tr>\n",
       "    <tr>\n",
       "      <th>1</th>\n",
       "      <td>0.904982</td>\n",
       "      <td>0.000000</td>\n",
       "      <td>0.014925</td>\n",
       "    </tr>\n",
       "    <tr>\n",
       "      <th>2</th>\n",
       "      <td>0.876104</td>\n",
       "      <td>0.000000</td>\n",
       "      <td>0.029851</td>\n",
       "    </tr>\n",
       "    <tr>\n",
       "      <th>3</th>\n",
       "      <td>0.861995</td>\n",
       "      <td>0.000517</td>\n",
       "      <td>0.029851</td>\n",
       "    </tr>\n",
       "    <tr>\n",
       "      <th>4</th>\n",
       "      <td>0.723316</td>\n",
       "      <td>0.000517</td>\n",
       "      <td>0.179104</td>\n",
       "    </tr>\n",
       "    <tr>\n",
       "      <th>...</th>\n",
       "      <td>...</td>\n",
       "      <td>...</td>\n",
       "      <td>...</td>\n",
       "    </tr>\n",
       "    <tr>\n",
       "      <th>87</th>\n",
       "      <td>0.007660</td>\n",
       "      <td>0.320228</td>\n",
       "      <td>0.970149</td>\n",
       "    </tr>\n",
       "    <tr>\n",
       "      <th>88</th>\n",
       "      <td>0.007620</td>\n",
       "      <td>0.320228</td>\n",
       "      <td>0.985075</td>\n",
       "    </tr>\n",
       "    <tr>\n",
       "      <th>89</th>\n",
       "      <td>0.007012</td>\n",
       "      <td>0.332644</td>\n",
       "      <td>0.985075</td>\n",
       "    </tr>\n",
       "    <tr>\n",
       "      <th>90</th>\n",
       "      <td>0.007008</td>\n",
       "      <td>0.332644</td>\n",
       "      <td>1.000000</td>\n",
       "    </tr>\n",
       "    <tr>\n",
       "      <th>91</th>\n",
       "      <td>0.000014</td>\n",
       "      <td>1.000000</td>\n",
       "      <td>1.000000</td>\n",
       "    </tr>\n",
       "  </tbody>\n",
       "</table>\n",
       "<p>92 rows × 3 columns</p>\n",
       "</div>"
      ],
      "text/plain": [
       "      Umbral       FPR       TPR\n",
       "0        inf  0.000000  0.000000\n",
       "1   0.904982  0.000000  0.014925\n",
       "2   0.876104  0.000000  0.029851\n",
       "3   0.861995  0.000517  0.029851\n",
       "4   0.723316  0.000517  0.179104\n",
       "..       ...       ...       ...\n",
       "87  0.007660  0.320228  0.970149\n",
       "88  0.007620  0.320228  0.985075\n",
       "89  0.007012  0.332644  0.985075\n",
       "90  0.007008  0.332644  1.000000\n",
       "91  0.000014  1.000000  1.000000\n",
       "\n",
       "[92 rows x 3 columns]"
      ]
     },
     "execution_count": 36,
     "metadata": {},
     "output_type": "execute_result"
    }
   ],
   "source": [
    "pd.DataFrame({\n",
    "    'Umbral': umbrales,\n",
    "    'FPR': fpr,\n",
    "    'TPR': tpr\n",
    "})  # Mostramos las primeras filas de los umbrales y sus correspondientes FPR y TPR"
   ]
  },
  {
   "cell_type": "markdown",
   "metadata": {
    "id": "ey7AUT45QQiX"
   },
   "source": [
    "## 5. Regularización\n",
    "\n",
    "El hiperparámetro `C` en `scikit-learn` es el inverso de la fuerza de regularización $\\lambda$. Un valor de `C` pequeño implica una regularización más fuerte. Ahora que los datos están escalados, la comparación de coeficientes es mucho más justa."
   ]
  },
  {
   "cell_type": "code",
   "execution_count": 37,
   "metadata": {
    "id": "zpZrqn2cQQiX"
   },
   "outputs": [
    {
     "name": "stdout",
     "output_type": "stream",
     "text": [
      "Comparación de Coeficientes con Regularización (Datos Escalados):\n"
     ]
    },
    {
     "data": {
      "text/html": [
       "<div>\n",
       "<style scoped>\n",
       "    .dataframe tbody tr th:only-of-type {\n",
       "        vertical-align: middle;\n",
       "    }\n",
       "\n",
       "    .dataframe tbody tr th {\n",
       "        vertical-align: top;\n",
       "    }\n",
       "\n",
       "    .dataframe thead th {\n",
       "        text-align: right;\n",
       "    }\n",
       "</style>\n",
       "<table border=\"1\" class=\"dataframe\">\n",
       "  <thead>\n",
       "    <tr style=\"text-align: right;\">\n",
       "      <th></th>\n",
       "      <th>Predictor</th>\n",
       "      <th>Coef_L2 (C=1.0)</th>\n",
       "      <th>Coef_L1 (C=1.0)</th>\n",
       "      <th>Coef_L2_fuerte (C=0.1)</th>\n",
       "      <th>Coef_L1_fuerte (C=0.1)</th>\n",
       "    </tr>\n",
       "  </thead>\n",
       "  <tbody>\n",
       "    <tr>\n",
       "      <th>0</th>\n",
       "      <td>balance</td>\n",
       "      <td>2.594626</td>\n",
       "      <td>2.709366</td>\n",
       "      <td>1.921343</td>\n",
       "      <td>2.389894</td>\n",
       "    </tr>\n",
       "    <tr>\n",
       "      <th>1</th>\n",
       "      <td>income</td>\n",
       "      <td>-0.054058</td>\n",
       "      <td>-0.004069</td>\n",
       "      <td>-0.106268</td>\n",
       "      <td>0.002709</td>\n",
       "    </tr>\n",
       "    <tr>\n",
       "      <th>2</th>\n",
       "      <td>student_Yes</td>\n",
       "      <td>-0.658059</td>\n",
       "      <td>-0.561404</td>\n",
       "      <td>-0.670900</td>\n",
       "      <td>-0.323989</td>\n",
       "    </tr>\n",
       "  </tbody>\n",
       "</table>\n",
       "</div>"
      ],
      "text/plain": [
       "     Predictor  Coef_L2 (C=1.0)  Coef_L1 (C=1.0)  Coef_L2_fuerte (C=0.1)  \\\n",
       "0      balance         2.594626         2.709366                1.921343   \n",
       "1       income        -0.054058        -0.004069               -0.106268   \n",
       "2  student_Yes        -0.658059        -0.561404               -0.670900   \n",
       "\n",
       "   Coef_L1_fuerte (C=0.1)  \n",
       "0                2.389894  \n",
       "1                0.002709  \n",
       "2               -0.323989  "
      ]
     },
     "metadata": {},
     "output_type": "display_data"
    }
   ],
   "source": [
    "# Modelo con regularización L2 (Ridge) - C=1.0 (default)\n",
    "log_reg_l2 = LogisticRegression(penalty='l2', C=1.0, solver='liblinear', random_state=42).fit(X_train_scaled, y_train)\n",
    "\n",
    "# Modelo con regularización L1 (Lasso) - C=1.0 (default)\n",
    "log_reg_l1 = LogisticRegression(penalty='l1', C=1.0, solver='liblinear', random_state=42).fit(X_train_scaled, y_train)\n",
    "\n",
    "# Ahora con regularización más fuerte (C=0.1)\n",
    "log_reg_l2_strong = LogisticRegression(penalty='l2', C=0.1, solver='liblinear', random_state=42).fit(X_train_scaled, y_train)\n",
    "log_reg_l1_strong = LogisticRegression(penalty='l1', C=0.1, solver='liblinear', random_state=42).fit(X_train_scaled, y_train)\n",
    "\n",
    "# Creamos un DataFrame para comparar los coeficientes\n",
    "coef_df = pd.DataFrame({\n",
    "    'Predictor': X.columns,\n",
    "    'Coef_L2 (C=1.0)': log_reg_l2.coef_[0],\n",
    "    'Coef_L1 (C=1.0)': log_reg_l1.coef_[0],\n",
    "    'Coef_L2_fuerte (C=0.1)': log_reg_l2_strong.coef_[0],\n",
    "    'Coef_L1_fuerte (C=0.1)': log_reg_l1_strong.coef_[0]\n",
    "})\n",
    "\n",
    "print(\"Comparación de Coeficientes con Regularización (Datos Escalados):\")\n",
    "display(coef_df)"
   ]
  },
  {
   "cell_type": "markdown",
   "metadata": {
    "id": "-os9B39dQQiX"
   },
   "source": [
    "**Análisis:**\n",
    "- Ahora los coeficientes son directamente comparables en magnitud.\n",
    "- Se puede observar claramente cómo al aumentar la fuerza de la regularización (disminuir `C`), los coeficientes se \"encogen\" hacia cero.\n",
    "- La regularización L1 es más agresiva y puede llevar coeficientes a cero, realizando una selección de variables."
   ]
  },
  {
   "cell_type": "markdown",
   "metadata": {
    "id": "wo5kcoNhQQiX"
   },
   "source": [
    "## 6. Preguntas y Desafíos para Experimentar\n",
    "\n",
    "Ahora te toca a ti. Intenta responder a las siguientes preguntas modificando el código anterior para solidificar tu aprendizaje:\n",
    "\n",
    "1.  **Fuerza de Regularización vs. Rendimiento:** Crea un gráfico que muestre cómo cambia el AUC del modelo a medida que varías el hiperparámetro `C` (p. ej. `[0.001, 0.01, 0.1, 1, 10, 100]`). ¿Encuentras un valor óptimo para `C`?\n",
    "2.  **Otros Escaladores:** En lugar de `StandardScaler`, prueba con `MinMaxScaler` de `sklearn.preprocessing`. ¿Cambian los resultados de rendimiento? ¿Y los coeficientes del modelo?\n",
    "3.  **Selección de Predictores:** Entrena el modelo usando solo `balance` y `student_Yes` (ambos escalados). ¿Cuánto cae el rendimiento (AUC) al quitar la variable `income`? ¿Confirma esto que `income` es el predictor menos importante?"
   ]
  },
  {
   "cell_type": "markdown",
   "metadata": {
    "id": "tzQ4eRD6QQiY"
   },
   "source": [
    "## 7. Ejercicios Propuestos\n",
    "\n",
    "1.  Explica con tus propias palabras por qué el accuracy no es una buena métrica para evaluar un modelo en un dataset desbalanceado como `Default`.\n",
    "2.  Si un banco te pide un modelo que minimice la cantidad de clientes en default que no son detectados, ¿en qué métrica te enfocarías (Precisión o Recall)? ¿Y cómo ajustarías el umbral de decisión?\n",
    "3.  Carga un nuevo dataset de clasificación de `scikit-learn` (por ejemplo, `load_breast_cancer`) y realiza un análisis completo: estandarización, entrenamiento, evaluación con matriz de confusión y reporte de clasificación.\n",
    "4.  ¿Qué representa un punto en la esquina superior izquierda de la curva ROC? ¿Y un punto en la línea diagonal?\n",
    "5.  ¿Por qué es fundamental ajustar (`fit`) el `StandardScaler` únicamente con los datos de entrenamiento y no con todo el dataset?\n",
    "6.  Crea un bucle `for` que itere sobre una lista de umbrales (ej. `[0.1, 0.2, 0.3, 0.4, 0.5, 0.6, 0.7, 0.8, 0.9]`). Para cada umbral, calcula y guarda la Precisión y el Recall para la clase 'Default'. Luego, grafica cómo cambian estas dos métricas a medida que varía el umbral (Precision-Recall Curve).\n",
    "7.  Usando los coeficientes del modelo `log_reg` (entrenado con datos escalados), interpreta el coeficiente de la variable `balance`. ¿Qué significa un aumento de una desviación estándar en el `balance` en términos del odds ratio de default?\n",
    "8.  Explica la diferencia fundamental entre la regularización L1 y L2 en términos de su efecto sobre los coeficientes del modelo.\n",
    "9.  Si tuvieras dos modelos, uno con AUC de 0.85 y otro con AUC de 0.75, ¿cuál elegirías y por qué? ¿Bajo qué circunstancias podrías preferir el de 0.75?\n",
    "10. Investiga el parámetro `class_weight` de `LogisticRegression` en `scikit-learn`. ¿Cómo podrías usarlo para manejar el desbalanceo de clases en el dataset `Default`? Pruébalo (con los datos escalados) y compara los resultados (recall, precisión) con la técnica de ajustar el umbral."
   ]
  },
  {
   "cell_type": "markdown",
   "metadata": {},
   "source": [
    "## 1. \n",
    "En un modelo desbalanceado como el de Default existen muchoas observciones de NoDefault y pocas de default, por lo tanto en el accuracy (TP+TN)/TOTAL queda muy sesgado hacia los NoDefault (TN) , mientras se predigan  bien los NoDefault la métrica va a dar alta porque pesa mucho ese valor pero para los casos de Default el peso relativo en el total es bajo entonces no tiene inferencia en la métrica incluso cuando los FN sean muchos, esto es, dado que predigo mal los default el numerador es mas chico que el denomiador (pero poquito por el sesgo)"
   ]
  },
  {
   "cell_type": "markdown",
   "metadata": {},
   "source": [
    "## 2. \n",
    "Los clientes en default son los TP, entonces los no detectados son los TP/(TP+FN), por lo tanto la métrica que se ajust es la recall que es del total de lo que habia cuando predije bien. \n",
    "Precisión mide la calidad de lo predicho esto es TP/(TP+FP) esto es, los que realmente eran positivos sobre los que predije como positivos, (incluyo los que predije como positovo y no eran \"FP\")\n",
    "\n",
    "Minimizar la cantidad de clientes en default no detectados es minimizar los FN (Predije NoDefault y era default) para eso la mejor métrica es el recall (de hecho entre las dos es la única que tiene FN) y bajar el umbral de 0.5 a 02 o mas inclusive. \n",
    "Por qué bajar el umbral y no subirlo?. Porque se predice default si  $$P(y=1|default)>0.5$$\n",
    "\n",
    "Ahora si bajo el umbral a 0.2 $$P(y=1|default)>0.2$$\n",
    "\n",
    "cuando la probabilidad de que sea default sea mas baja lo va a predecir como 1 (default) esto hace que sea mas sensible.\n",
    "\n"
   ]
  },
  {
   "cell_type": "markdown",
   "metadata": {},
   "source": [
    "### 3. \n",
    "Carga un nuevo dataset de clasificación de `scikit-learn` (por ejemplo, `load_breast_cancer`) y realiza un análisis completo: estandarización, entrenamiento, evaluación con matriz de confusión y reporte de clasificación."
   ]
  },
  {
   "cell_type": "markdown",
   "metadata": {},
   "source": [
    "### 3.1 Visualizamos los datos primero\n",
    "- a vemos si hay variables categoricas"
   ]
  },
  {
   "cell_type": "code",
   "execution_count": 38,
   "metadata": {},
   "outputs": [
    {
     "name": "stdout",
     "output_type": "stream",
     "text": [
      "Index(['mean radius', 'mean texture', 'mean perimeter', 'mean area',\n",
      "       'mean smoothness', 'mean compactness', 'mean concavity',\n",
      "       'mean concave points', 'mean symmetry', 'mean fractal dimension',\n",
      "       'radius error', 'texture error', 'perimeter error', 'area error',\n",
      "       'smoothness error', 'compactness error', 'concavity error',\n",
      "       'concave points error', 'symmetry error', 'fractal dimension error',\n",
      "       'worst radius', 'worst texture', 'worst perimeter', 'worst area',\n",
      "       'worst smoothness', 'worst compactness', 'worst concavity',\n",
      "       'worst concave points', 'worst symmetry', 'worst fractal dimension'],\n",
      "      dtype='object')\n"
     ]
    },
    {
     "data": {
      "text/html": [
       "<div>\n",
       "<style scoped>\n",
       "    .dataframe tbody tr th:only-of-type {\n",
       "        vertical-align: middle;\n",
       "    }\n",
       "\n",
       "    .dataframe tbody tr th {\n",
       "        vertical-align: top;\n",
       "    }\n",
       "\n",
       "    .dataframe thead th {\n",
       "        text-align: right;\n",
       "    }\n",
       "</style>\n",
       "<table border=\"1\" class=\"dataframe\">\n",
       "  <thead>\n",
       "    <tr style=\"text-align: right;\">\n",
       "      <th></th>\n",
       "      <th>mean radius</th>\n",
       "      <th>mean texture</th>\n",
       "      <th>mean perimeter</th>\n",
       "      <th>mean area</th>\n",
       "      <th>mean smoothness</th>\n",
       "      <th>mean compactness</th>\n",
       "      <th>mean concavity</th>\n",
       "      <th>mean concave points</th>\n",
       "      <th>mean symmetry</th>\n",
       "      <th>mean fractal dimension</th>\n",
       "      <th>radius error</th>\n",
       "      <th>texture error</th>\n",
       "      <th>perimeter error</th>\n",
       "      <th>area error</th>\n",
       "      <th>smoothness error</th>\n",
       "      <th>compactness error</th>\n",
       "      <th>concavity error</th>\n",
       "      <th>concave points error</th>\n",
       "      <th>symmetry error</th>\n",
       "      <th>fractal dimension error</th>\n",
       "      <th>worst radius</th>\n",
       "      <th>worst texture</th>\n",
       "      <th>worst perimeter</th>\n",
       "      <th>worst area</th>\n",
       "      <th>worst smoothness</th>\n",
       "      <th>worst compactness</th>\n",
       "      <th>worst concavity</th>\n",
       "      <th>worst concave points</th>\n",
       "      <th>worst symmetry</th>\n",
       "      <th>worst fractal dimension</th>\n",
       "    </tr>\n",
       "  </thead>\n",
       "  <tbody>\n",
       "    <tr>\n",
       "      <th>0</th>\n",
       "      <td>17.99</td>\n",
       "      <td>10.38</td>\n",
       "      <td>122.80</td>\n",
       "      <td>1001.0</td>\n",
       "      <td>0.11840</td>\n",
       "      <td>0.27760</td>\n",
       "      <td>0.30010</td>\n",
       "      <td>0.14710</td>\n",
       "      <td>0.2419</td>\n",
       "      <td>0.07871</td>\n",
       "      <td>1.0950</td>\n",
       "      <td>0.9053</td>\n",
       "      <td>8.589</td>\n",
       "      <td>153.40</td>\n",
       "      <td>0.006399</td>\n",
       "      <td>0.04904</td>\n",
       "      <td>0.05373</td>\n",
       "      <td>0.01587</td>\n",
       "      <td>0.03003</td>\n",
       "      <td>0.006193</td>\n",
       "      <td>25.380</td>\n",
       "      <td>17.33</td>\n",
       "      <td>184.60</td>\n",
       "      <td>2019.0</td>\n",
       "      <td>0.16220</td>\n",
       "      <td>0.66560</td>\n",
       "      <td>0.7119</td>\n",
       "      <td>0.2654</td>\n",
       "      <td>0.4601</td>\n",
       "      <td>0.11890</td>\n",
       "    </tr>\n",
       "    <tr>\n",
       "      <th>1</th>\n",
       "      <td>20.57</td>\n",
       "      <td>17.77</td>\n",
       "      <td>132.90</td>\n",
       "      <td>1326.0</td>\n",
       "      <td>0.08474</td>\n",
       "      <td>0.07864</td>\n",
       "      <td>0.08690</td>\n",
       "      <td>0.07017</td>\n",
       "      <td>0.1812</td>\n",
       "      <td>0.05667</td>\n",
       "      <td>0.5435</td>\n",
       "      <td>0.7339</td>\n",
       "      <td>3.398</td>\n",
       "      <td>74.08</td>\n",
       "      <td>0.005225</td>\n",
       "      <td>0.01308</td>\n",
       "      <td>0.01860</td>\n",
       "      <td>0.01340</td>\n",
       "      <td>0.01389</td>\n",
       "      <td>0.003532</td>\n",
       "      <td>24.990</td>\n",
       "      <td>23.41</td>\n",
       "      <td>158.80</td>\n",
       "      <td>1956.0</td>\n",
       "      <td>0.12380</td>\n",
       "      <td>0.18660</td>\n",
       "      <td>0.2416</td>\n",
       "      <td>0.1860</td>\n",
       "      <td>0.2750</td>\n",
       "      <td>0.08902</td>\n",
       "    </tr>\n",
       "    <tr>\n",
       "      <th>2</th>\n",
       "      <td>19.69</td>\n",
       "      <td>21.25</td>\n",
       "      <td>130.00</td>\n",
       "      <td>1203.0</td>\n",
       "      <td>0.10960</td>\n",
       "      <td>0.15990</td>\n",
       "      <td>0.19740</td>\n",
       "      <td>0.12790</td>\n",
       "      <td>0.2069</td>\n",
       "      <td>0.05999</td>\n",
       "      <td>0.7456</td>\n",
       "      <td>0.7869</td>\n",
       "      <td>4.585</td>\n",
       "      <td>94.03</td>\n",
       "      <td>0.006150</td>\n",
       "      <td>0.04006</td>\n",
       "      <td>0.03832</td>\n",
       "      <td>0.02058</td>\n",
       "      <td>0.02250</td>\n",
       "      <td>0.004571</td>\n",
       "      <td>23.570</td>\n",
       "      <td>25.53</td>\n",
       "      <td>152.50</td>\n",
       "      <td>1709.0</td>\n",
       "      <td>0.14440</td>\n",
       "      <td>0.42450</td>\n",
       "      <td>0.4504</td>\n",
       "      <td>0.2430</td>\n",
       "      <td>0.3613</td>\n",
       "      <td>0.08758</td>\n",
       "    </tr>\n",
       "    <tr>\n",
       "      <th>3</th>\n",
       "      <td>11.42</td>\n",
       "      <td>20.38</td>\n",
       "      <td>77.58</td>\n",
       "      <td>386.1</td>\n",
       "      <td>0.14250</td>\n",
       "      <td>0.28390</td>\n",
       "      <td>0.24140</td>\n",
       "      <td>0.10520</td>\n",
       "      <td>0.2597</td>\n",
       "      <td>0.09744</td>\n",
       "      <td>0.4956</td>\n",
       "      <td>1.1560</td>\n",
       "      <td>3.445</td>\n",
       "      <td>27.23</td>\n",
       "      <td>0.009110</td>\n",
       "      <td>0.07458</td>\n",
       "      <td>0.05661</td>\n",
       "      <td>0.01867</td>\n",
       "      <td>0.05963</td>\n",
       "      <td>0.009208</td>\n",
       "      <td>14.910</td>\n",
       "      <td>26.50</td>\n",
       "      <td>98.87</td>\n",
       "      <td>567.7</td>\n",
       "      <td>0.20980</td>\n",
       "      <td>0.86630</td>\n",
       "      <td>0.6869</td>\n",
       "      <td>0.2575</td>\n",
       "      <td>0.6638</td>\n",
       "      <td>0.17300</td>\n",
       "    </tr>\n",
       "    <tr>\n",
       "      <th>4</th>\n",
       "      <td>20.29</td>\n",
       "      <td>14.34</td>\n",
       "      <td>135.10</td>\n",
       "      <td>1297.0</td>\n",
       "      <td>0.10030</td>\n",
       "      <td>0.13280</td>\n",
       "      <td>0.19800</td>\n",
       "      <td>0.10430</td>\n",
       "      <td>0.1809</td>\n",
       "      <td>0.05883</td>\n",
       "      <td>0.7572</td>\n",
       "      <td>0.7813</td>\n",
       "      <td>5.438</td>\n",
       "      <td>94.44</td>\n",
       "      <td>0.011490</td>\n",
       "      <td>0.02461</td>\n",
       "      <td>0.05688</td>\n",
       "      <td>0.01885</td>\n",
       "      <td>0.01756</td>\n",
       "      <td>0.005115</td>\n",
       "      <td>22.540</td>\n",
       "      <td>16.67</td>\n",
       "      <td>152.20</td>\n",
       "      <td>1575.0</td>\n",
       "      <td>0.13740</td>\n",
       "      <td>0.20500</td>\n",
       "      <td>0.4000</td>\n",
       "      <td>0.1625</td>\n",
       "      <td>0.2364</td>\n",
       "      <td>0.07678</td>\n",
       "    </tr>\n",
       "    <tr>\n",
       "      <th>...</th>\n",
       "      <td>...</td>\n",
       "      <td>...</td>\n",
       "      <td>...</td>\n",
       "      <td>...</td>\n",
       "      <td>...</td>\n",
       "      <td>...</td>\n",
       "      <td>...</td>\n",
       "      <td>...</td>\n",
       "      <td>...</td>\n",
       "      <td>...</td>\n",
       "      <td>...</td>\n",
       "      <td>...</td>\n",
       "      <td>...</td>\n",
       "      <td>...</td>\n",
       "      <td>...</td>\n",
       "      <td>...</td>\n",
       "      <td>...</td>\n",
       "      <td>...</td>\n",
       "      <td>...</td>\n",
       "      <td>...</td>\n",
       "      <td>...</td>\n",
       "      <td>...</td>\n",
       "      <td>...</td>\n",
       "      <td>...</td>\n",
       "      <td>...</td>\n",
       "      <td>...</td>\n",
       "      <td>...</td>\n",
       "      <td>...</td>\n",
       "      <td>...</td>\n",
       "      <td>...</td>\n",
       "    </tr>\n",
       "    <tr>\n",
       "      <th>564</th>\n",
       "      <td>21.56</td>\n",
       "      <td>22.39</td>\n",
       "      <td>142.00</td>\n",
       "      <td>1479.0</td>\n",
       "      <td>0.11100</td>\n",
       "      <td>0.11590</td>\n",
       "      <td>0.24390</td>\n",
       "      <td>0.13890</td>\n",
       "      <td>0.1726</td>\n",
       "      <td>0.05623</td>\n",
       "      <td>1.1760</td>\n",
       "      <td>1.2560</td>\n",
       "      <td>7.673</td>\n",
       "      <td>158.70</td>\n",
       "      <td>0.010300</td>\n",
       "      <td>0.02891</td>\n",
       "      <td>0.05198</td>\n",
       "      <td>0.02454</td>\n",
       "      <td>0.01114</td>\n",
       "      <td>0.004239</td>\n",
       "      <td>25.450</td>\n",
       "      <td>26.40</td>\n",
       "      <td>166.10</td>\n",
       "      <td>2027.0</td>\n",
       "      <td>0.14100</td>\n",
       "      <td>0.21130</td>\n",
       "      <td>0.4107</td>\n",
       "      <td>0.2216</td>\n",
       "      <td>0.2060</td>\n",
       "      <td>0.07115</td>\n",
       "    </tr>\n",
       "    <tr>\n",
       "      <th>565</th>\n",
       "      <td>20.13</td>\n",
       "      <td>28.25</td>\n",
       "      <td>131.20</td>\n",
       "      <td>1261.0</td>\n",
       "      <td>0.09780</td>\n",
       "      <td>0.10340</td>\n",
       "      <td>0.14400</td>\n",
       "      <td>0.09791</td>\n",
       "      <td>0.1752</td>\n",
       "      <td>0.05533</td>\n",
       "      <td>0.7655</td>\n",
       "      <td>2.4630</td>\n",
       "      <td>5.203</td>\n",
       "      <td>99.04</td>\n",
       "      <td>0.005769</td>\n",
       "      <td>0.02423</td>\n",
       "      <td>0.03950</td>\n",
       "      <td>0.01678</td>\n",
       "      <td>0.01898</td>\n",
       "      <td>0.002498</td>\n",
       "      <td>23.690</td>\n",
       "      <td>38.25</td>\n",
       "      <td>155.00</td>\n",
       "      <td>1731.0</td>\n",
       "      <td>0.11660</td>\n",
       "      <td>0.19220</td>\n",
       "      <td>0.3215</td>\n",
       "      <td>0.1628</td>\n",
       "      <td>0.2572</td>\n",
       "      <td>0.06637</td>\n",
       "    </tr>\n",
       "    <tr>\n",
       "      <th>566</th>\n",
       "      <td>16.60</td>\n",
       "      <td>28.08</td>\n",
       "      <td>108.30</td>\n",
       "      <td>858.1</td>\n",
       "      <td>0.08455</td>\n",
       "      <td>0.10230</td>\n",
       "      <td>0.09251</td>\n",
       "      <td>0.05302</td>\n",
       "      <td>0.1590</td>\n",
       "      <td>0.05648</td>\n",
       "      <td>0.4564</td>\n",
       "      <td>1.0750</td>\n",
       "      <td>3.425</td>\n",
       "      <td>48.55</td>\n",
       "      <td>0.005903</td>\n",
       "      <td>0.03731</td>\n",
       "      <td>0.04730</td>\n",
       "      <td>0.01557</td>\n",
       "      <td>0.01318</td>\n",
       "      <td>0.003892</td>\n",
       "      <td>18.980</td>\n",
       "      <td>34.12</td>\n",
       "      <td>126.70</td>\n",
       "      <td>1124.0</td>\n",
       "      <td>0.11390</td>\n",
       "      <td>0.30940</td>\n",
       "      <td>0.3403</td>\n",
       "      <td>0.1418</td>\n",
       "      <td>0.2218</td>\n",
       "      <td>0.07820</td>\n",
       "    </tr>\n",
       "    <tr>\n",
       "      <th>567</th>\n",
       "      <td>20.60</td>\n",
       "      <td>29.33</td>\n",
       "      <td>140.10</td>\n",
       "      <td>1265.0</td>\n",
       "      <td>0.11780</td>\n",
       "      <td>0.27700</td>\n",
       "      <td>0.35140</td>\n",
       "      <td>0.15200</td>\n",
       "      <td>0.2397</td>\n",
       "      <td>0.07016</td>\n",
       "      <td>0.7260</td>\n",
       "      <td>1.5950</td>\n",
       "      <td>5.772</td>\n",
       "      <td>86.22</td>\n",
       "      <td>0.006522</td>\n",
       "      <td>0.06158</td>\n",
       "      <td>0.07117</td>\n",
       "      <td>0.01664</td>\n",
       "      <td>0.02324</td>\n",
       "      <td>0.006185</td>\n",
       "      <td>25.740</td>\n",
       "      <td>39.42</td>\n",
       "      <td>184.60</td>\n",
       "      <td>1821.0</td>\n",
       "      <td>0.16500</td>\n",
       "      <td>0.86810</td>\n",
       "      <td>0.9387</td>\n",
       "      <td>0.2650</td>\n",
       "      <td>0.4087</td>\n",
       "      <td>0.12400</td>\n",
       "    </tr>\n",
       "    <tr>\n",
       "      <th>568</th>\n",
       "      <td>7.76</td>\n",
       "      <td>24.54</td>\n",
       "      <td>47.92</td>\n",
       "      <td>181.0</td>\n",
       "      <td>0.05263</td>\n",
       "      <td>0.04362</td>\n",
       "      <td>0.00000</td>\n",
       "      <td>0.00000</td>\n",
       "      <td>0.1587</td>\n",
       "      <td>0.05884</td>\n",
       "      <td>0.3857</td>\n",
       "      <td>1.4280</td>\n",
       "      <td>2.548</td>\n",
       "      <td>19.15</td>\n",
       "      <td>0.007189</td>\n",
       "      <td>0.00466</td>\n",
       "      <td>0.00000</td>\n",
       "      <td>0.00000</td>\n",
       "      <td>0.02676</td>\n",
       "      <td>0.002783</td>\n",
       "      <td>9.456</td>\n",
       "      <td>30.37</td>\n",
       "      <td>59.16</td>\n",
       "      <td>268.6</td>\n",
       "      <td>0.08996</td>\n",
       "      <td>0.06444</td>\n",
       "      <td>0.0000</td>\n",
       "      <td>0.0000</td>\n",
       "      <td>0.2871</td>\n",
       "      <td>0.07039</td>\n",
       "    </tr>\n",
       "  </tbody>\n",
       "</table>\n",
       "<p>569 rows × 30 columns</p>\n",
       "</div>"
      ],
      "text/plain": [
       "     mean radius  mean texture  mean perimeter  mean area  mean smoothness  \\\n",
       "0          17.99         10.38          122.80     1001.0          0.11840   \n",
       "1          20.57         17.77          132.90     1326.0          0.08474   \n",
       "2          19.69         21.25          130.00     1203.0          0.10960   \n",
       "3          11.42         20.38           77.58      386.1          0.14250   \n",
       "4          20.29         14.34          135.10     1297.0          0.10030   \n",
       "..           ...           ...             ...        ...              ...   \n",
       "564        21.56         22.39          142.00     1479.0          0.11100   \n",
       "565        20.13         28.25          131.20     1261.0          0.09780   \n",
       "566        16.60         28.08          108.30      858.1          0.08455   \n",
       "567        20.60         29.33          140.10     1265.0          0.11780   \n",
       "568         7.76         24.54           47.92      181.0          0.05263   \n",
       "\n",
       "     mean compactness  mean concavity  mean concave points  mean symmetry  \\\n",
       "0             0.27760         0.30010              0.14710         0.2419   \n",
       "1             0.07864         0.08690              0.07017         0.1812   \n",
       "2             0.15990         0.19740              0.12790         0.2069   \n",
       "3             0.28390         0.24140              0.10520         0.2597   \n",
       "4             0.13280         0.19800              0.10430         0.1809   \n",
       "..                ...             ...                  ...            ...   \n",
       "564           0.11590         0.24390              0.13890         0.1726   \n",
       "565           0.10340         0.14400              0.09791         0.1752   \n",
       "566           0.10230         0.09251              0.05302         0.1590   \n",
       "567           0.27700         0.35140              0.15200         0.2397   \n",
       "568           0.04362         0.00000              0.00000         0.1587   \n",
       "\n",
       "     mean fractal dimension  radius error  texture error  perimeter error  \\\n",
       "0                   0.07871        1.0950         0.9053            8.589   \n",
       "1                   0.05667        0.5435         0.7339            3.398   \n",
       "2                   0.05999        0.7456         0.7869            4.585   \n",
       "3                   0.09744        0.4956         1.1560            3.445   \n",
       "4                   0.05883        0.7572         0.7813            5.438   \n",
       "..                      ...           ...            ...              ...   \n",
       "564                 0.05623        1.1760         1.2560            7.673   \n",
       "565                 0.05533        0.7655         2.4630            5.203   \n",
       "566                 0.05648        0.4564         1.0750            3.425   \n",
       "567                 0.07016        0.7260         1.5950            5.772   \n",
       "568                 0.05884        0.3857         1.4280            2.548   \n",
       "\n",
       "     area error  smoothness error  compactness error  concavity error  \\\n",
       "0        153.40          0.006399            0.04904          0.05373   \n",
       "1         74.08          0.005225            0.01308          0.01860   \n",
       "2         94.03          0.006150            0.04006          0.03832   \n",
       "3         27.23          0.009110            0.07458          0.05661   \n",
       "4         94.44          0.011490            0.02461          0.05688   \n",
       "..          ...               ...                ...              ...   \n",
       "564      158.70          0.010300            0.02891          0.05198   \n",
       "565       99.04          0.005769            0.02423          0.03950   \n",
       "566       48.55          0.005903            0.03731          0.04730   \n",
       "567       86.22          0.006522            0.06158          0.07117   \n",
       "568       19.15          0.007189            0.00466          0.00000   \n",
       "\n",
       "     concave points error  symmetry error  fractal dimension error  \\\n",
       "0                 0.01587         0.03003                 0.006193   \n",
       "1                 0.01340         0.01389                 0.003532   \n",
       "2                 0.02058         0.02250                 0.004571   \n",
       "3                 0.01867         0.05963                 0.009208   \n",
       "4                 0.01885         0.01756                 0.005115   \n",
       "..                    ...             ...                      ...   \n",
       "564               0.02454         0.01114                 0.004239   \n",
       "565               0.01678         0.01898                 0.002498   \n",
       "566               0.01557         0.01318                 0.003892   \n",
       "567               0.01664         0.02324                 0.006185   \n",
       "568               0.00000         0.02676                 0.002783   \n",
       "\n",
       "     worst radius  worst texture  worst perimeter  worst area  \\\n",
       "0          25.380          17.33           184.60      2019.0   \n",
       "1          24.990          23.41           158.80      1956.0   \n",
       "2          23.570          25.53           152.50      1709.0   \n",
       "3          14.910          26.50            98.87       567.7   \n",
       "4          22.540          16.67           152.20      1575.0   \n",
       "..            ...            ...              ...         ...   \n",
       "564        25.450          26.40           166.10      2027.0   \n",
       "565        23.690          38.25           155.00      1731.0   \n",
       "566        18.980          34.12           126.70      1124.0   \n",
       "567        25.740          39.42           184.60      1821.0   \n",
       "568         9.456          30.37            59.16       268.6   \n",
       "\n",
       "     worst smoothness  worst compactness  worst concavity  \\\n",
       "0             0.16220            0.66560           0.7119   \n",
       "1             0.12380            0.18660           0.2416   \n",
       "2             0.14440            0.42450           0.4504   \n",
       "3             0.20980            0.86630           0.6869   \n",
       "4             0.13740            0.20500           0.4000   \n",
       "..                ...                ...              ...   \n",
       "564           0.14100            0.21130           0.4107   \n",
       "565           0.11660            0.19220           0.3215   \n",
       "566           0.11390            0.30940           0.3403   \n",
       "567           0.16500            0.86810           0.9387   \n",
       "568           0.08996            0.06444           0.0000   \n",
       "\n",
       "     worst concave points  worst symmetry  worst fractal dimension  \n",
       "0                  0.2654          0.4601                  0.11890  \n",
       "1                  0.1860          0.2750                  0.08902  \n",
       "2                  0.2430          0.3613                  0.08758  \n",
       "3                  0.2575          0.6638                  0.17300  \n",
       "4                  0.1625          0.2364                  0.07678  \n",
       "..                    ...             ...                      ...  \n",
       "564                0.2216          0.2060                  0.07115  \n",
       "565                0.1628          0.2572                  0.06637  \n",
       "566                0.1418          0.2218                  0.07820  \n",
       "567                0.2650          0.4087                  0.12400  \n",
       "568                0.0000          0.2871                  0.07039  \n",
       "\n",
       "[569 rows x 30 columns]"
      ]
     },
     "metadata": {},
     "output_type": "display_data"
    },
    {
     "name": "stdout",
     "output_type": "stream",
     "text": [
      "hay categorizados como No cancer: 212 casos\n",
      "hay categorizados como Cancer: 357 casos\n"
     ]
    },
    {
     "data": {
      "image/png": "[encoded data removed]",
      "text/plain": [
       "<Figure size 640x480 with 1 Axes>"
      ]
     },
     "metadata": {},
     "output_type": "display_data"
    }
   ],
   "source": [
    "from sklearn.datasets import load_breast_cancer\n",
    "\n",
    "breast_cancer_df,target=load_breast_cancer(return_X_y=True,as_frame=True)\n",
    "\n",
    "columns_names=breast_cancer_df.columns\n",
    "print(columns_names)\n",
    "\n",
    "pd.set_option('display.max_columns', None)\n",
    "\n",
    "display(breast_cancer_df)\n",
    "print(f'hay categorizados como No cancer: {(target == 0).sum()} casos')\n",
    "print(f'hay categorizados como Cancer: {(target == 1).sum()} casos')\n",
    "\n",
    "plt.figure()\n",
    "plt.hist(target,)\n",
    "plt.show()"
   ]
  },
  {
   "cell_type": "markdown",
   "metadata": {},
   "source": [
    "#### No hay variables categoricas. Dividimos en test y train"
   ]
  },
  {
   "cell_type": "code",
   "execution_count": 39,
   "metadata": {},
   "outputs": [
    {
     "name": "stdout",
     "output_type": "stream",
     "text": [
      "(455, 30)\n",
      "(114, 30)\n"
     ]
    }
   ],
   "source": [
    "X_cancer=breast_cancer_df.copy()\n",
    "y_cancer=target.copy()\n",
    "X_train_cancer,X_test_cancer,y_train_cancer,y_test_cancer=train_test_split(X_cancer,\n",
    "                                                                           y_cancer,\n",
    "                                                                           test_size=0.2,\n",
    "                                                                           random_state=42,\n",
    "                                                                           stratify=y_cancer)\n",
    "\n",
    "print(X_train_cancer.shape)\n",
    "print(X_test_cancer.shape)"
   ]
  },
  {
   "cell_type": "markdown",
   "metadata": {},
   "source": [
    "### Estandarizamos los features "
   ]
  },
  {
   "cell_type": "code",
   "execution_count": 40,
   "metadata": {},
   "outputs": [
    {
     "name": "stdout",
     "output_type": "stream",
     "text": [
      "datos escalados\n"
     ]
    },
    {
     "data": {
      "text/html": [
       "<div>\n",
       "<style scoped>\n",
       "    .dataframe tbody tr th:only-of-type {\n",
       "        vertical-align: middle;\n",
       "    }\n",
       "\n",
       "    .dataframe tbody tr th {\n",
       "        vertical-align: top;\n",
       "    }\n",
       "\n",
       "    .dataframe thead th {\n",
       "        text-align: right;\n",
       "    }\n",
       "</style>\n",
       "<table border=\"1\" class=\"dataframe\">\n",
       "  <thead>\n",
       "    <tr style=\"text-align: right;\">\n",
       "      <th></th>\n",
       "      <th>mean radius</th>\n",
       "      <th>mean texture</th>\n",
       "      <th>mean perimeter</th>\n",
       "      <th>mean area</th>\n",
       "      <th>mean smoothness</th>\n",
       "      <th>mean compactness</th>\n",
       "      <th>mean concavity</th>\n",
       "      <th>mean concave points</th>\n",
       "      <th>mean symmetry</th>\n",
       "      <th>mean fractal dimension</th>\n",
       "      <th>radius error</th>\n",
       "      <th>texture error</th>\n",
       "      <th>perimeter error</th>\n",
       "      <th>area error</th>\n",
       "      <th>smoothness error</th>\n",
       "      <th>compactness error</th>\n",
       "      <th>concavity error</th>\n",
       "      <th>concave points error</th>\n",
       "      <th>symmetry error</th>\n",
       "      <th>fractal dimension error</th>\n",
       "      <th>worst radius</th>\n",
       "      <th>worst texture</th>\n",
       "      <th>worst perimeter</th>\n",
       "      <th>worst area</th>\n",
       "      <th>worst smoothness</th>\n",
       "      <th>worst compactness</th>\n",
       "      <th>worst concavity</th>\n",
       "      <th>worst concave points</th>\n",
       "      <th>worst symmetry</th>\n",
       "      <th>worst fractal dimension</th>\n",
       "    </tr>\n",
       "  </thead>\n",
       "  <tbody>\n",
       "    <tr>\n",
       "      <th>546</th>\n",
       "      <td>-1.072001</td>\n",
       "      <td>-0.658425</td>\n",
       "      <td>-1.088080</td>\n",
       "      <td>-0.939274</td>\n",
       "      <td>-0.135940</td>\n",
       "      <td>-1.008718</td>\n",
       "      <td>-0.968359</td>\n",
       "      <td>-1.102032</td>\n",
       "      <td>0.281062</td>\n",
       "      <td>-0.113231</td>\n",
       "      <td>-0.704861</td>\n",
       "      <td>-0.440938</td>\n",
       "      <td>-0.743949</td>\n",
       "      <td>-0.629805</td>\n",
       "      <td>0.000748</td>\n",
       "      <td>-0.991573</td>\n",
       "      <td>-0.693760</td>\n",
       "      <td>-0.983284</td>\n",
       "      <td>-0.591579</td>\n",
       "      <td>-0.428972</td>\n",
       "      <td>-1.034094</td>\n",
       "      <td>-0.623497</td>\n",
       "      <td>-1.070773</td>\n",
       "      <td>-0.876534</td>\n",
       "      <td>-0.169982</td>\n",
       "      <td>-1.038836</td>\n",
       "      <td>-1.078995</td>\n",
       "      <td>-1.350527</td>\n",
       "      <td>-0.352658</td>\n",
       "      <td>-0.541380</td>\n",
       "    </tr>\n",
       "    <tr>\n",
       "      <th>432</th>\n",
       "      <td>1.748743</td>\n",
       "      <td>0.066502</td>\n",
       "      <td>1.751157</td>\n",
       "      <td>1.745559</td>\n",
       "      <td>1.274468</td>\n",
       "      <td>0.842288</td>\n",
       "      <td>1.519852</td>\n",
       "      <td>1.994664</td>\n",
       "      <td>-0.293045</td>\n",
       "      <td>-0.320180</td>\n",
       "      <td>0.127567</td>\n",
       "      <td>-0.381383</td>\n",
       "      <td>0.094075</td>\n",
       "      <td>0.317524</td>\n",
       "      <td>0.639656</td>\n",
       "      <td>0.087389</td>\n",
       "      <td>0.708451</td>\n",
       "      <td>1.182150</td>\n",
       "      <td>0.426212</td>\n",
       "      <td>0.074797</td>\n",
       "      <td>1.228342</td>\n",
       "      <td>-0.092833</td>\n",
       "      <td>1.187467</td>\n",
       "      <td>1.104386</td>\n",
       "      <td>1.517001</td>\n",
       "      <td>0.249655</td>\n",
       "      <td>1.178594</td>\n",
       "      <td>1.549916</td>\n",
       "      <td>0.191078</td>\n",
       "      <td>-0.173739</td>\n",
       "    </tr>\n",
       "    <tr>\n",
       "      <th>174</th>\n",
       "      <td>-0.974734</td>\n",
       "      <td>-0.931124</td>\n",
       "      <td>-0.997709</td>\n",
       "      <td>-0.867589</td>\n",
       "      <td>-0.613515</td>\n",
       "      <td>-1.138154</td>\n",
       "      <td>-1.092292</td>\n",
       "      <td>-1.243358</td>\n",
       "      <td>0.434395</td>\n",
       "      <td>-0.429247</td>\n",
       "      <td>-0.254445</td>\n",
       "      <td>1.237130</td>\n",
       "      <td>-0.338634</td>\n",
       "      <td>-0.413827</td>\n",
       "      <td>0.520240</td>\n",
       "      <td>-0.833114</td>\n",
       "      <td>-1.006736</td>\n",
       "      <td>-1.857894</td>\n",
       "      <td>1.356046</td>\n",
       "      <td>-1.006560</td>\n",
       "      <td>-0.973231</td>\n",
       "      <td>-1.036772</td>\n",
       "      <td>-1.008044</td>\n",
       "      <td>-0.834168</td>\n",
       "      <td>-1.097823</td>\n",
       "      <td>-1.167260</td>\n",
       "      <td>-1.282241</td>\n",
       "      <td>-1.707442</td>\n",
       "      <td>-0.307734</td>\n",
       "      <td>-1.213033</td>\n",
       "    </tr>\n",
       "    <tr>\n",
       "      <th>221</th>\n",
       "      <td>-0.145103</td>\n",
       "      <td>-1.215186</td>\n",
       "      <td>-0.123013</td>\n",
       "      <td>-0.253192</td>\n",
       "      <td>0.664482</td>\n",
       "      <td>0.286762</td>\n",
       "      <td>-0.129729</td>\n",
       "      <td>-0.098605</td>\n",
       "      <td>0.555635</td>\n",
       "      <td>0.029395</td>\n",
       "      <td>-0.531049</td>\n",
       "      <td>-1.262281</td>\n",
       "      <td>-0.411682</td>\n",
       "      <td>-0.436600</td>\n",
       "      <td>-0.393580</td>\n",
       "      <td>-0.129997</td>\n",
       "      <td>-0.219965</td>\n",
       "      <td>-0.527278</td>\n",
       "      <td>-0.269450</td>\n",
       "      <td>-0.316623</td>\n",
       "      <td>-0.251266</td>\n",
       "      <td>-1.369643</td>\n",
       "      <td>-0.166633</td>\n",
       "      <td>-0.330292</td>\n",
       "      <td>0.234006</td>\n",
       "      <td>0.096874</td>\n",
       "      <td>-0.087521</td>\n",
       "      <td>-0.344838</td>\n",
       "      <td>0.242198</td>\n",
       "      <td>-0.118266</td>\n",
       "    </tr>\n",
       "    <tr>\n",
       "      <th>289</th>\n",
       "      <td>-0.771617</td>\n",
       "      <td>-0.081211</td>\n",
       "      <td>-0.803700</td>\n",
       "      <td>-0.732927</td>\n",
       "      <td>-0.672282</td>\n",
       "      <td>-1.006099</td>\n",
       "      <td>-0.798502</td>\n",
       "      <td>-0.684484</td>\n",
       "      <td>0.737495</td>\n",
       "      <td>-0.457213</td>\n",
       "      <td>-0.498529</td>\n",
       "      <td>1.322961</td>\n",
       "      <td>-0.440597</td>\n",
       "      <td>-0.521457</td>\n",
       "      <td>-0.174225</td>\n",
       "      <td>-0.628196</td>\n",
       "      <td>-0.581187</td>\n",
       "      <td>-0.278344</td>\n",
       "      <td>1.528534</td>\n",
       "      <td>-0.313022</td>\n",
       "      <td>-0.801135</td>\n",
       "      <td>0.079230</td>\n",
       "      <td>-0.824381</td>\n",
       "      <td>-0.741830</td>\n",
       "      <td>-0.911367</td>\n",
       "      <td>-0.984612</td>\n",
       "      <td>-0.933190</td>\n",
       "      <td>-0.777604</td>\n",
       "      <td>0.555118</td>\n",
       "      <td>-0.761639</td>\n",
       "    </tr>\n",
       "    <tr>\n",
       "      <th>...</th>\n",
       "      <td>...</td>\n",
       "      <td>...</td>\n",
       "      <td>...</td>\n",
       "      <td>...</td>\n",
       "      <td>...</td>\n",
       "      <td>...</td>\n",
       "      <td>...</td>\n",
       "      <td>...</td>\n",
       "      <td>...</td>\n",
       "      <td>...</td>\n",
       "      <td>...</td>\n",
       "      <td>...</td>\n",
       "      <td>...</td>\n",
       "      <td>...</td>\n",
       "      <td>...</td>\n",
       "      <td>...</td>\n",
       "      <td>...</td>\n",
       "      <td>...</td>\n",
       "      <td>...</td>\n",
       "      <td>...</td>\n",
       "      <td>...</td>\n",
       "      <td>...</td>\n",
       "      <td>...</td>\n",
       "      <td>...</td>\n",
       "      <td>...</td>\n",
       "      <td>...</td>\n",
       "      <td>...</td>\n",
       "      <td>...</td>\n",
       "      <td>...</td>\n",
       "      <td>...</td>\n",
       "    </tr>\n",
       "    <tr>\n",
       "      <th>184</th>\n",
       "      <td>0.346953</td>\n",
       "      <td>0.718708</td>\n",
       "      <td>0.305215</td>\n",
       "      <td>0.180108</td>\n",
       "      <td>-0.416385</td>\n",
       "      <td>0.024898</td>\n",
       "      <td>-0.434051</td>\n",
       "      <td>-0.404147</td>\n",
       "      <td>-0.282347</td>\n",
       "      <td>0.048971</td>\n",
       "      <td>-0.723550</td>\n",
       "      <td>-1.266660</td>\n",
       "      <td>-0.750036</td>\n",
       "      <td>-0.472556</td>\n",
       "      <td>-1.211293</td>\n",
       "      <td>-0.628196</td>\n",
       "      <td>-0.458099</td>\n",
       "      <td>-0.901474</td>\n",
       "      <td>-1.034792</td>\n",
       "      <td>-0.440135</td>\n",
       "      <td>0.340577</td>\n",
       "      <td>0.383156</td>\n",
       "      <td>0.216376</td>\n",
       "      <td>0.188430</td>\n",
       "      <td>-0.098951</td>\n",
       "      <td>0.473190</td>\n",
       "      <td>0.400659</td>\n",
       "      <td>0.130349</td>\n",
       "      <td>0.412600</td>\n",
       "      <td>0.749172</td>\n",
       "    </tr>\n",
       "    <tr>\n",
       "      <th>300</th>\n",
       "      <td>1.562791</td>\n",
       "      <td>-0.078938</td>\n",
       "      <td>1.572901</td>\n",
       "      <td>1.649786</td>\n",
       "      <td>1.400929</td>\n",
       "      <td>1.128468</td>\n",
       "      <td>1.598229</td>\n",
       "      <td>1.488000</td>\n",
       "      <td>-0.050565</td>\n",
       "      <td>0.377571</td>\n",
       "      <td>2.661483</td>\n",
       "      <td>-0.101121</td>\n",
       "      <td>2.239354</td>\n",
       "      <td>2.247420</td>\n",
       "      <td>-0.328125</td>\n",
       "      <td>0.351939</td>\n",
       "      <td>0.736903</td>\n",
       "      <td>0.900429</td>\n",
       "      <td>-0.221473</td>\n",
       "      <td>0.356389</td>\n",
       "      <td>2.046849</td>\n",
       "      <td>0.095311</td>\n",
       "      <td>1.944436</td>\n",
       "      <td>2.143641</td>\n",
       "      <td>0.762298</td>\n",
       "      <td>0.984755</td>\n",
       "      <td>1.555508</td>\n",
       "      <td>1.260606</td>\n",
       "      <td>0.091935</td>\n",
       "      <td>0.834556</td>\n",
       "    </tr>\n",
       "    <tr>\n",
       "      <th>509</th>\n",
       "      <td>0.398448</td>\n",
       "      <td>1.068673</td>\n",
       "      <td>0.507514</td>\n",
       "      <td>0.240184</td>\n",
       "      <td>1.646411</td>\n",
       "      <td>1.554933</td>\n",
       "      <td>1.393715</td>\n",
       "      <td>0.947901</td>\n",
       "      <td>0.002923</td>\n",
       "      <td>1.120068</td>\n",
       "      <td>-0.246222</td>\n",
       "      <td>1.300189</td>\n",
       "      <td>0.058058</td>\n",
       "      <td>-0.161174</td>\n",
       "      <td>0.783658</td>\n",
       "      <td>1.293585</td>\n",
       "      <td>0.854733</td>\n",
       "      <td>1.390656</td>\n",
       "      <td>0.030976</td>\n",
       "      <td>0.793181</td>\n",
       "      <td>0.195764</td>\n",
       "      <td>1.717856</td>\n",
       "      <td>0.333992</td>\n",
       "      <td>0.073098</td>\n",
       "      <td>1.814443</td>\n",
       "      <td>1.517608</td>\n",
       "      <td>1.458150</td>\n",
       "      <td>1.534925</td>\n",
       "      <td>0.161645</td>\n",
       "      <td>1.237548</td>\n",
       "    </tr>\n",
       "    <tr>\n",
       "      <th>230</th>\n",
       "      <td>0.853314</td>\n",
       "      <td>-0.038033</td>\n",
       "      <td>0.905480</td>\n",
       "      <td>0.715275</td>\n",
       "      <td>1.333979</td>\n",
       "      <td>0.997536</td>\n",
       "      <td>1.246759</td>\n",
       "      <td>1.560013</td>\n",
       "      <td>1.158269</td>\n",
       "      <td>0.060158</td>\n",
       "      <td>-0.385271</td>\n",
       "      <td>-0.945410</td>\n",
       "      <td>-0.339648</td>\n",
       "      <td>-0.174118</td>\n",
       "      <td>-0.495435</td>\n",
       "      <td>-0.295883</td>\n",
       "      <td>-0.061930</td>\n",
       "      <td>0.344944</td>\n",
       "      <td>-1.029081</td>\n",
       "      <td>-0.526197</td>\n",
       "      <td>0.716251</td>\n",
       "      <td>-0.121779</td>\n",
       "      <td>0.810491</td>\n",
       "      <td>0.579327</td>\n",
       "      <td>1.685699</td>\n",
       "      <td>0.870796</td>\n",
       "      <td>1.044148</td>\n",
       "      <td>2.104551</td>\n",
       "      <td>0.310359</td>\n",
       "      <td>0.362496</td>\n",
       "    </tr>\n",
       "    <tr>\n",
       "      <th>474</th>\n",
       "      <td>-0.911796</td>\n",
       "      <td>-0.824317</td>\n",
       "      <td>-0.876661</td>\n",
       "      <td>-0.840599</td>\n",
       "      <td>0.337172</td>\n",
       "      <td>0.056695</td>\n",
       "      <td>-0.465891</td>\n",
       "      <td>-0.839313</td>\n",
       "      <td>0.195481</td>\n",
       "      <td>0.776087</td>\n",
       "      <td>-0.937358</td>\n",
       "      <td>-1.192391</td>\n",
       "      <td>-0.771849</td>\n",
       "      <td>-0.710659</td>\n",
       "      <td>-0.833249</td>\n",
       "      <td>0.292307</td>\n",
       "      <td>-0.154091</td>\n",
       "      <td>-0.792924</td>\n",
       "      <td>-0.989100</td>\n",
       "      <td>0.314979</td>\n",
       "      <td>-0.889282</td>\n",
       "      <td>-1.012651</td>\n",
       "      <td>-0.779446</td>\n",
       "      <td>-0.789266</td>\n",
       "      <td>0.038671</td>\n",
       "      <td>0.848254</td>\n",
       "      <td>0.277803</td>\n",
       "      <td>-0.513327</td>\n",
       "      <td>-0.507569</td>\n",
       "      <td>1.308248</td>\n",
       "    </tr>\n",
       "  </tbody>\n",
       "</table>\n",
       "<p>455 rows × 30 columns</p>\n",
       "</div>"
      ],
      "text/plain": [
       "     mean radius  mean texture  mean perimeter  mean area  mean smoothness  \\\n",
       "546    -1.072001     -0.658425       -1.088080  -0.939274        -0.135940   \n",
       "432     1.748743      0.066502        1.751157   1.745559         1.274468   \n",
       "174    -0.974734     -0.931124       -0.997709  -0.867589        -0.613515   \n",
       "221    -0.145103     -1.215186       -0.123013  -0.253192         0.664482   \n",
       "289    -0.771617     -0.081211       -0.803700  -0.732927        -0.672282   \n",
       "..           ...           ...             ...        ...              ...   \n",
       "184     0.346953      0.718708        0.305215   0.180108        -0.416385   \n",
       "300     1.562791     -0.078938        1.572901   1.649786         1.400929   \n",
       "509     0.398448      1.068673        0.507514   0.240184         1.646411   \n",
       "230     0.853314     -0.038033        0.905480   0.715275         1.333979   \n",
       "474    -0.911796     -0.824317       -0.876661  -0.840599         0.337172   \n",
       "\n",
       "     mean compactness  mean concavity  mean concave points  mean symmetry  \\\n",
       "546         -1.008718       -0.968359            -1.102032       0.281062   \n",
       "432          0.842288        1.519852             1.994664      -0.293045   \n",
       "174         -1.138154       -1.092292            -1.243358       0.434395   \n",
       "221          0.286762       -0.129729            -0.098605       0.555635   \n",
       "289         -1.006099       -0.798502            -0.684484       0.737495   \n",
       "..                ...             ...                  ...            ...   \n",
       "184          0.024898       -0.434051            -0.404147      -0.282347   \n",
       "300          1.128468        1.598229             1.488000      -0.050565   \n",
       "509          1.554933        1.393715             0.947901       0.002923   \n",
       "230          0.997536        1.246759             1.560013       1.158269   \n",
       "474          0.056695       -0.465891            -0.839313       0.195481   \n",
       "\n",
       "     mean fractal dimension  radius error  texture error  perimeter error  \\\n",
       "546               -0.113231     -0.704861      -0.440938        -0.743949   \n",
       "432               -0.320180      0.127567      -0.381383         0.094075   \n",
       "174               -0.429247     -0.254445       1.237130        -0.338634   \n",
       "221                0.029395     -0.531049      -1.262281        -0.411682   \n",
       "289               -0.457213     -0.498529       1.322961        -0.440597   \n",
       "..                      ...           ...            ...              ...   \n",
       "184                0.048971     -0.723550      -1.266660        -0.750036   \n",
       "300                0.377571      2.661483      -0.101121         2.239354   \n",
       "509                1.120068     -0.246222       1.300189         0.058058   \n",
       "230                0.060158     -0.385271      -0.945410        -0.339648   \n",
       "474                0.776087     -0.937358      -1.192391        -0.771849   \n",
       "\n",
       "     area error  smoothness error  compactness error  concavity error  \\\n",
       "546   -0.629805          0.000748          -0.991573        -0.693760   \n",
       "432    0.317524          0.639656           0.087389         0.708451   \n",
       "174   -0.413827          0.520240          -0.833114        -1.006736   \n",
       "221   -0.436600         -0.393580          -0.129997        -0.219965   \n",
       "289   -0.521457         -0.174225          -0.628196        -0.581187   \n",
       "..          ...               ...                ...              ...   \n",
       "184   -0.472556         -1.211293          -0.628196        -0.458099   \n",
       "300    2.247420         -0.328125           0.351939         0.736903   \n",
       "509   -0.161174          0.783658           1.293585         0.854733   \n",
       "230   -0.174118         -0.495435          -0.295883        -0.061930   \n",
       "474   -0.710659         -0.833249           0.292307        -0.154091   \n",
       "\n",
       "     concave points error  symmetry error  fractal dimension error  \\\n",
       "546             -0.983284       -0.591579                -0.428972   \n",
       "432              1.182150        0.426212                 0.074797   \n",
       "174             -1.857894        1.356046                -1.006560   \n",
       "221             -0.527278       -0.269450                -0.316623   \n",
       "289             -0.278344        1.528534                -0.313022   \n",
       "..                    ...             ...                      ...   \n",
       "184             -0.901474       -1.034792                -0.440135   \n",
       "300              0.900429       -0.221473                 0.356389   \n",
       "509              1.390656        0.030976                 0.793181   \n",
       "230              0.344944       -1.029081                -0.526197   \n",
       "474             -0.792924       -0.989100                 0.314979   \n",
       "\n",
       "     worst radius  worst texture  worst perimeter  worst area  \\\n",
       "546     -1.034094      -0.623497        -1.070773   -0.876534   \n",
       "432      1.228342      -0.092833         1.187467    1.104386   \n",
       "174     -0.973231      -1.036772        -1.008044   -0.834168   \n",
       "221     -0.251266      -1.369643        -0.166633   -0.330292   \n",
       "289     -0.801135       0.079230        -0.824381   -0.741830   \n",
       "..            ...            ...              ...         ...   \n",
       "184      0.340577       0.383156         0.216376    0.188430   \n",
       "300      2.046849       0.095311         1.944436    2.143641   \n",
       "509      0.195764       1.717856         0.333992    0.073098   \n",
       "230      0.716251      -0.121779         0.810491    0.579327   \n",
       "474     -0.889282      -1.012651        -0.779446   -0.789266   \n",
       "\n",
       "     worst smoothness  worst compactness  worst concavity  \\\n",
       "546         -0.169982          -1.038836        -1.078995   \n",
       "432          1.517001           0.249655         1.178594   \n",
       "174         -1.097823          -1.167260        -1.282241   \n",
       "221          0.234006           0.096874        -0.087521   \n",
       "289         -0.911367          -0.984612        -0.933190   \n",
       "..                ...                ...              ...   \n",
       "184         -0.098951           0.473190         0.400659   \n",
       "300          0.762298           0.984755         1.555508   \n",
       "509          1.814443           1.517608         1.458150   \n",
       "230          1.685699           0.870796         1.044148   \n",
       "474          0.038671           0.848254         0.277803   \n",
       "\n",
       "     worst concave points  worst symmetry  worst fractal dimension  \n",
       "546             -1.350527       -0.352658                -0.541380  \n",
       "432              1.549916        0.191078                -0.173739  \n",
       "174             -1.707442       -0.307734                -1.213033  \n",
       "221             -0.344838        0.242198                -0.118266  \n",
       "289             -0.777604        0.555118                -0.761639  \n",
       "..                    ...             ...                      ...  \n",
       "184              0.130349        0.412600                 0.749172  \n",
       "300              1.260606        0.091935                 0.834556  \n",
       "509              1.534925        0.161645                 1.237548  \n",
       "230              2.104551        0.310359                 0.362496  \n",
       "474             -0.513327       -0.507569                 1.308248  \n",
       "\n",
       "[455 rows x 30 columns]"
      ]
     },
     "metadata": {},
     "output_type": "display_data"
    },
    {
     "data": {
      "text/html": [
       "<div>\n",
       "<style scoped>\n",
       "    .dataframe tbody tr th:only-of-type {\n",
       "        vertical-align: middle;\n",
       "    }\n",
       "\n",
       "    .dataframe tbody tr th {\n",
       "        vertical-align: top;\n",
       "    }\n",
       "\n",
       "    .dataframe thead th {\n",
       "        text-align: right;\n",
       "    }\n",
       "</style>\n",
       "<table border=\"1\" class=\"dataframe\">\n",
       "  <thead>\n",
       "    <tr style=\"text-align: right;\">\n",
       "      <th></th>\n",
       "      <th>mean radius</th>\n",
       "      <th>mean texture</th>\n",
       "      <th>mean perimeter</th>\n",
       "      <th>mean area</th>\n",
       "      <th>mean smoothness</th>\n",
       "      <th>mean compactness</th>\n",
       "      <th>mean concavity</th>\n",
       "      <th>mean concave points</th>\n",
       "      <th>mean symmetry</th>\n",
       "      <th>mean fractal dimension</th>\n",
       "      <th>radius error</th>\n",
       "      <th>texture error</th>\n",
       "      <th>perimeter error</th>\n",
       "      <th>area error</th>\n",
       "      <th>smoothness error</th>\n",
       "      <th>compactness error</th>\n",
       "      <th>concavity error</th>\n",
       "      <th>concave points error</th>\n",
       "      <th>symmetry error</th>\n",
       "      <th>fractal dimension error</th>\n",
       "      <th>worst radius</th>\n",
       "      <th>worst texture</th>\n",
       "      <th>worst perimeter</th>\n",
       "      <th>worst area</th>\n",
       "      <th>worst smoothness</th>\n",
       "      <th>worst compactness</th>\n",
       "      <th>worst concavity</th>\n",
       "      <th>worst concave points</th>\n",
       "      <th>worst symmetry</th>\n",
       "      <th>worst fractal dimension</th>\n",
       "    </tr>\n",
       "  </thead>\n",
       "  <tbody>\n",
       "    <tr>\n",
       "      <th>256</th>\n",
       "      <td>1.568513</td>\n",
       "      <td>2.164016</td>\n",
       "      <td>1.742866</td>\n",
       "      <td>1.620764</td>\n",
       "      <td>-0.265376</td>\n",
       "      <td>1.915932</td>\n",
       "      <td>1.092455</td>\n",
       "      <td>1.698896</td>\n",
       "      <td>0.309589</td>\n",
       "      <td>-0.069884</td>\n",
       "      <td>1.658233</td>\n",
       "      <td>-0.034558</td>\n",
       "      <td>2.199279</td>\n",
       "      <td>1.609795</td>\n",
       "      <td>-0.232337</td>\n",
       "      <td>1.198715</td>\n",
       "      <td>0.187957</td>\n",
       "      <td>0.559817</td>\n",
       "      <td>-0.162073</td>\n",
       "      <td>0.523832</td>\n",
       "      <td>1.862160</td>\n",
       "      <td>1.708208</td>\n",
       "      <td>2.170622</td>\n",
       "      <td>1.913701</td>\n",
       "      <td>-0.187740</td>\n",
       "      <td>1.744275</td>\n",
       "      <td>0.688560</td>\n",
       "      <td>1.202144</td>\n",
       "      <td>-0.140431</td>\n",
       "      <td>0.900362</td>\n",
       "    </tr>\n",
       "    <tr>\n",
       "      <th>428</th>\n",
       "      <td>-0.840276</td>\n",
       "      <td>-0.597067</td>\n",
       "      <td>-0.874174</td>\n",
       "      <td>-0.776170</td>\n",
       "      <td>-1.090346</td>\n",
       "      <td>-1.225691</td>\n",
       "      <td>-0.924639</td>\n",
       "      <td>-0.891008</td>\n",
       "      <td>-1.052578</td>\n",
       "      <td>-0.187341</td>\n",
       "      <td>-0.962401</td>\n",
       "      <td>-0.440763</td>\n",
       "      <td>-0.940773</td>\n",
       "      <td>-0.708094</td>\n",
       "      <td>-0.383363</td>\n",
       "      <td>-1.044917</td>\n",
       "      <td>-0.716089</td>\n",
       "      <td>-0.872824</td>\n",
       "      <td>-0.078685</td>\n",
       "      <td>-0.511433</td>\n",
       "      <td>-0.943849</td>\n",
       "      <td>-0.861492</td>\n",
       "      <td>-0.973363</td>\n",
       "      <td>-0.810993</td>\n",
       "      <td>-1.302037</td>\n",
       "      <td>-1.203075</td>\n",
       "      <td>-1.069908</td>\n",
       "      <td>-1.101241</td>\n",
       "      <td>-0.814291</td>\n",
       "      <td>-0.713236</td>\n",
       "    </tr>\n",
       "    <tr>\n",
       "      <th>501</th>\n",
       "      <td>-0.070723</td>\n",
       "      <td>1.191387</td>\n",
       "      <td>0.032028</td>\n",
       "      <td>-0.152775</td>\n",
       "      <td>1.490195</td>\n",
       "      <td>1.201416</td>\n",
       "      <td>0.569536</td>\n",
       "      <td>0.494989</td>\n",
       "      <td>1.671757</td>\n",
       "      <td>1.335406</td>\n",
       "      <td>0.284559</td>\n",
       "      <td>0.541730</td>\n",
       "      <td>0.076827</td>\n",
       "      <td>-0.004644</td>\n",
       "      <td>0.828998</td>\n",
       "      <td>0.705937</td>\n",
       "      <td>0.068271</td>\n",
       "      <td>0.714206</td>\n",
       "      <td>0.406793</td>\n",
       "      <td>1.151473</td>\n",
       "      <td>-0.035096</td>\n",
       "      <td>1.172720</td>\n",
       "      <td>-0.018858</td>\n",
       "      <td>-0.146703</td>\n",
       "      <td>2.089687</td>\n",
       "      <td>0.890832</td>\n",
       "      <td>0.285220</td>\n",
       "      <td>0.572558</td>\n",
       "      <td>1.149974</td>\n",
       "      <td>1.868412</td>\n",
       "    </tr>\n",
       "    <tr>\n",
       "      <th>363</th>\n",
       "      <td>0.695970</td>\n",
       "      <td>-0.217560</td>\n",
       "      <td>0.623587</td>\n",
       "      <td>0.550139</td>\n",
       "      <td>0.051519</td>\n",
       "      <td>-0.358921</td>\n",
       "      <td>-0.374411</td>\n",
       "      <td>0.000156</td>\n",
       "      <td>-1.109632</td>\n",
       "      <td>-0.963397</td>\n",
       "      <td>-0.224542</td>\n",
       "      <td>0.385835</td>\n",
       "      <td>-0.242758</td>\n",
       "      <td>-0.135765</td>\n",
       "      <td>0.055347</td>\n",
       "      <td>-0.405931</td>\n",
       "      <td>-0.440162</td>\n",
       "      <td>-0.213723</td>\n",
       "      <td>-0.438511</td>\n",
       "      <td>-0.646828</td>\n",
       "      <td>0.409835</td>\n",
       "      <td>-0.031727</td>\n",
       "      <td>0.318913</td>\n",
       "      <td>0.253429</td>\n",
       "      <td>0.065307</td>\n",
       "      <td>-0.541172</td>\n",
       "      <td>-0.511259</td>\n",
       "      <td>-0.339891</td>\n",
       "      <td>-0.797251</td>\n",
       "      <td>-1.047159</td>\n",
       "    </tr>\n",
       "    <tr>\n",
       "      <th>564</th>\n",
       "      <td>2.143533</td>\n",
       "      <td>0.714163</td>\n",
       "      <td>2.091086</td>\n",
       "      <td>2.410164</td>\n",
       "      <td>1.103374</td>\n",
       "      <td>0.225037</td>\n",
       "      <td>1.894590</td>\n",
       "      <td>2.329011</td>\n",
       "      <td>-0.285913</td>\n",
       "      <td>-0.921448</td>\n",
       "      <td>2.904446</td>\n",
       "      <td>0.065285</td>\n",
       "      <td>2.460528</td>\n",
       "      <td>2.863472</td>\n",
       "      <td>1.026960</td>\n",
       "      <td>0.182801</td>\n",
       "      <td>0.600826</td>\n",
       "      <td>2.048006</td>\n",
       "      <td>-1.101046</td>\n",
       "      <td>0.159059</td>\n",
       "      <td>1.946110</td>\n",
       "      <td>0.121040</td>\n",
       "      <td>1.793646</td>\n",
       "      <td>2.096566</td>\n",
       "      <td>0.384946</td>\n",
       "      <td>-0.269423</td>\n",
       "      <td>0.621800</td>\n",
       "      <td>1.614373</td>\n",
       "      <td>-1.314652</td>\n",
       "      <td>-0.695833</td>\n",
       "    </tr>\n",
       "    <tr>\n",
       "      <th>...</th>\n",
       "      <td>...</td>\n",
       "      <td>...</td>\n",
       "      <td>...</td>\n",
       "      <td>...</td>\n",
       "      <td>...</td>\n",
       "      <td>...</td>\n",
       "      <td>...</td>\n",
       "      <td>...</td>\n",
       "      <td>...</td>\n",
       "      <td>...</td>\n",
       "      <td>...</td>\n",
       "      <td>...</td>\n",
       "      <td>...</td>\n",
       "      <td>...</td>\n",
       "      <td>...</td>\n",
       "      <td>...</td>\n",
       "      <td>...</td>\n",
       "      <td>...</td>\n",
       "      <td>...</td>\n",
       "      <td>...</td>\n",
       "      <td>...</td>\n",
       "      <td>...</td>\n",
       "      <td>...</td>\n",
       "      <td>...</td>\n",
       "      <td>...</td>\n",
       "      <td>...</td>\n",
       "      <td>...</td>\n",
       "      <td>...</td>\n",
       "      <td>...</td>\n",
       "      <td>...</td>\n",
       "    </tr>\n",
       "    <tr>\n",
       "      <th>95</th>\n",
       "      <td>1.771629</td>\n",
       "      <td>0.859603</td>\n",
       "      <td>1.693120</td>\n",
       "      <td>1.786189</td>\n",
       "      <td>-0.400763</td>\n",
       "      <td>0.513087</td>\n",
       "      <td>0.701797</td>\n",
       "      <td>0.989823</td>\n",
       "      <td>1.029898</td>\n",
       "      <td>-0.885092</td>\n",
       "      <td>1.340512</td>\n",
       "      <td>0.508449</td>\n",
       "      <td>0.878327</td>\n",
       "      <td>1.165614</td>\n",
       "      <td>-0.340897</td>\n",
       "      <td>0.503188</td>\n",
       "      <td>0.302076</td>\n",
       "      <td>0.161905</td>\n",
       "      <td>0.661527</td>\n",
       "      <td>0.220994</td>\n",
       "      <td>1.687965</td>\n",
       "      <td>0.955630</td>\n",
       "      <td>1.492065</td>\n",
       "      <td>1.595045</td>\n",
       "      <td>-0.591728</td>\n",
       "      <td>0.623466</td>\n",
       "      <td>0.617628</td>\n",
       "      <td>0.650507</td>\n",
       "      <td>1.208840</td>\n",
       "      <td>-0.014391</td>\n",
       "    </tr>\n",
       "    <tr>\n",
       "      <th>128</th>\n",
       "      <td>0.295459</td>\n",
       "      <td>-0.649335</td>\n",
       "      <td>0.332575</td>\n",
       "      <td>0.075338</td>\n",
       "      <td>1.400929</td>\n",
       "      <td>1.437094</td>\n",
       "      <td>0.301342</td>\n",
       "      <td>0.951502</td>\n",
       "      <td>0.694705</td>\n",
       "      <td>0.258716</td>\n",
       "      <td>0.119344</td>\n",
       "      <td>-0.264023</td>\n",
       "      <td>-0.013468</td>\n",
       "      <td>0.014293</td>\n",
       "      <td>0.613793</td>\n",
       "      <td>0.884291</td>\n",
       "      <td>-0.015849</td>\n",
       "      <td>1.736043</td>\n",
       "      <td>0.314267</td>\n",
       "      <td>0.427327</td>\n",
       "      <td>-0.014109</td>\n",
       "      <td>-1.176674</td>\n",
       "      <td>-0.021874</td>\n",
       "      <td>-0.192690</td>\n",
       "      <td>0.278400</td>\n",
       "      <td>0.212712</td>\n",
       "      <td>-0.373568</td>\n",
       "      <td>0.425655</td>\n",
       "      <td>-0.493627</td>\n",
       "      <td>-0.334718</td>\n",
       "    </tr>\n",
       "    <tr>\n",
       "      <th>257</th>\n",
       "      <td>0.358397</td>\n",
       "      <td>-0.449355</td>\n",
       "      <td>0.482641</td>\n",
       "      <td>0.187944</td>\n",
       "      <td>2.777118</td>\n",
       "      <td>2.329303</td>\n",
       "      <td>1.905612</td>\n",
       "      <td>1.950942</td>\n",
       "      <td>2.110360</td>\n",
       "      <td>1.837395</td>\n",
       "      <td>0.972704</td>\n",
       "      <td>-0.279788</td>\n",
       "      <td>0.628239</td>\n",
       "      <td>0.484601</td>\n",
       "      <td>0.979066</td>\n",
       "      <td>1.102762</td>\n",
       "      <td>0.534334</td>\n",
       "      <td>1.527538</td>\n",
       "      <td>-0.221473</td>\n",
       "      <td>1.751026</td>\n",
       "      <td>0.325886</td>\n",
       "      <td>-0.480379</td>\n",
       "      <td>0.397324</td>\n",
       "      <td>0.108223</td>\n",
       "      <td>1.960944</td>\n",
       "      <td>1.227075</td>\n",
       "      <td>0.771082</td>\n",
       "      <td>1.633860</td>\n",
       "      <td>0.541176</td>\n",
       "      <td>1.911919</td>\n",
       "    </tr>\n",
       "    <tr>\n",
       "      <th>228</th>\n",
       "      <td>-0.414018</td>\n",
       "      <td>1.073218</td>\n",
       "      <td>-0.423146</td>\n",
       "      <td>-0.441545</td>\n",
       "      <td>-1.274830</td>\n",
       "      <td>-0.534557</td>\n",
       "      <td>-0.426336</td>\n",
       "      <td>-0.719719</td>\n",
       "      <td>-1.041880</td>\n",
       "      <td>-0.367722</td>\n",
       "      <td>-0.575904</td>\n",
       "      <td>-0.267526</td>\n",
       "      <td>-0.698801</td>\n",
       "      <td>-0.497006</td>\n",
       "      <td>-0.611339</td>\n",
       "      <td>-0.140839</td>\n",
       "      <td>-0.073991</td>\n",
       "      <td>-0.474594</td>\n",
       "      <td>-0.814328</td>\n",
       "      <td>-0.140538</td>\n",
       "      <td>-0.414967</td>\n",
       "      <td>0.910604</td>\n",
       "      <td>-0.481182</td>\n",
       "      <td>-0.443632</td>\n",
       "      <td>-0.427469</td>\n",
       "      <td>0.570244</td>\n",
       "      <td>0.530933</td>\n",
       "      <td>0.061395</td>\n",
       "      <td>-0.128038</td>\n",
       "      <td>0.647472</td>\n",
       "    </tr>\n",
       "    <tr>\n",
       "      <th>488</th>\n",
       "      <td>-0.682933</td>\n",
       "      <td>-0.699330</td>\n",
       "      <td>-0.666071</td>\n",
       "      <td>-0.661823</td>\n",
       "      <td>1.237274</td>\n",
       "      <td>-0.210219</td>\n",
       "      <td>-0.568271</td>\n",
       "      <td>-0.437839</td>\n",
       "      <td>0.166954</td>\n",
       "      <td>0.166428</td>\n",
       "      <td>-0.103434</td>\n",
       "      <td>-0.113382</td>\n",
       "      <td>-0.136230</td>\n",
       "      <td>-0.279830</td>\n",
       "      <td>0.611239</td>\n",
       "      <td>-0.684034</td>\n",
       "      <td>-0.434286</td>\n",
       "      <td>-0.000443</td>\n",
       "      <td>0.084664</td>\n",
       "      <td>-0.210396</td>\n",
       "      <td>-0.599656</td>\n",
       "      <td>-0.652443</td>\n",
       "      <td>-0.604830</td>\n",
       "      <td>-0.577975</td>\n",
       "      <td>0.899920</td>\n",
       "      <td>-0.667655</td>\n",
       "      <td>-0.591464</td>\n",
       "      <td>-0.236160</td>\n",
       "      <td>-0.162118</td>\n",
       "      <td>-0.201475</td>\n",
       "    </tr>\n",
       "  </tbody>\n",
       "</table>\n",
       "<p>114 rows × 30 columns</p>\n",
       "</div>"
      ],
      "text/plain": [
       "     mean radius  mean texture  mean perimeter  mean area  mean smoothness  \\\n",
       "256     1.568513      2.164016        1.742866   1.620764        -0.265376   \n",
       "428    -0.840276     -0.597067       -0.874174  -0.776170        -1.090346   \n",
       "501    -0.070723      1.191387        0.032028  -0.152775         1.490195   \n",
       "363     0.695970     -0.217560        0.623587   0.550139         0.051519   \n",
       "564     2.143533      0.714163        2.091086   2.410164         1.103374   \n",
       "..           ...           ...             ...        ...              ...   \n",
       "95      1.771629      0.859603        1.693120   1.786189        -0.400763   \n",
       "128     0.295459     -0.649335        0.332575   0.075338         1.400929   \n",
       "257     0.358397     -0.449355        0.482641   0.187944         2.777118   \n",
       "228    -0.414018      1.073218       -0.423146  -0.441545        -1.274830   \n",
       "488    -0.682933     -0.699330       -0.666071  -0.661823         1.237274   \n",
       "\n",
       "     mean compactness  mean concavity  mean concave points  mean symmetry  \\\n",
       "256          1.915932        1.092455             1.698896       0.309589   \n",
       "428         -1.225691       -0.924639            -0.891008      -1.052578   \n",
       "501          1.201416        0.569536             0.494989       1.671757   \n",
       "363         -0.358921       -0.374411             0.000156      -1.109632   \n",
       "564          0.225037        1.894590             2.329011      -0.285913   \n",
       "..                ...             ...                  ...            ...   \n",
       "95           0.513087        0.701797             0.989823       1.029898   \n",
       "128          1.437094        0.301342             0.951502       0.694705   \n",
       "257          2.329303        1.905612             1.950942       2.110360   \n",
       "228         -0.534557       -0.426336            -0.719719      -1.041880   \n",
       "488         -0.210219       -0.568271            -0.437839       0.166954   \n",
       "\n",
       "     mean fractal dimension  radius error  texture error  perimeter error  \\\n",
       "256               -0.069884      1.658233      -0.034558         2.199279   \n",
       "428               -0.187341     -0.962401      -0.440763        -0.940773   \n",
       "501                1.335406      0.284559       0.541730         0.076827   \n",
       "363               -0.963397     -0.224542       0.385835        -0.242758   \n",
       "564               -0.921448      2.904446       0.065285         2.460528   \n",
       "..                      ...           ...            ...              ...   \n",
       "95                -0.885092      1.340512       0.508449         0.878327   \n",
       "128                0.258716      0.119344      -0.264023        -0.013468   \n",
       "257                1.837395      0.972704      -0.279788         0.628239   \n",
       "228               -0.367722     -0.575904      -0.267526        -0.698801   \n",
       "488                0.166428     -0.103434      -0.113382        -0.136230   \n",
       "\n",
       "     area error  smoothness error  compactness error  concavity error  \\\n",
       "256    1.609795         -0.232337           1.198715         0.187957   \n",
       "428   -0.708094         -0.383363          -1.044917        -0.716089   \n",
       "501   -0.004644          0.828998           0.705937         0.068271   \n",
       "363   -0.135765          0.055347          -0.405931        -0.440162   \n",
       "564    2.863472          1.026960           0.182801         0.600826   \n",
       "..          ...               ...                ...              ...   \n",
       "95     1.165614         -0.340897           0.503188         0.302076   \n",
       "128    0.014293          0.613793           0.884291        -0.015849   \n",
       "257    0.484601          0.979066           1.102762         0.534334   \n",
       "228   -0.497006         -0.611339          -0.140839        -0.073991   \n",
       "488   -0.279830          0.611239          -0.684034        -0.434286   \n",
       "\n",
       "     concave points error  symmetry error  fractal dimension error  \\\n",
       "256              0.559817       -0.162073                 0.523832   \n",
       "428             -0.872824       -0.078685                -0.511433   \n",
       "501              0.714206        0.406793                 1.151473   \n",
       "363             -0.213723       -0.438511                -0.646828   \n",
       "564              2.048006       -1.101046                 0.159059   \n",
       "..                    ...             ...                      ...   \n",
       "95               0.161905        0.661527                 0.220994   \n",
       "128              1.736043        0.314267                 0.427327   \n",
       "257              1.527538       -0.221473                 1.751026   \n",
       "228             -0.474594       -0.814328                -0.140538   \n",
       "488             -0.000443        0.084664                -0.210396   \n",
       "\n",
       "     worst radius  worst texture  worst perimeter  worst area  \\\n",
       "256      1.862160       1.708208         2.170622    1.913701   \n",
       "428     -0.943849      -0.861492        -0.973363   -0.810993   \n",
       "501     -0.035096       1.172720        -0.018858   -0.146703   \n",
       "363      0.409835      -0.031727         0.318913    0.253429   \n",
       "564      1.946110       0.121040         1.793646    2.096566   \n",
       "..            ...            ...              ...         ...   \n",
       "95       1.687965       0.955630         1.492065    1.595045   \n",
       "128     -0.014109      -1.176674        -0.021874   -0.192690   \n",
       "257      0.325886      -0.480379         0.397324    0.108223   \n",
       "228     -0.414967       0.910604        -0.481182   -0.443632   \n",
       "488     -0.599656      -0.652443        -0.604830   -0.577975   \n",
       "\n",
       "     worst smoothness  worst compactness  worst concavity  \\\n",
       "256         -0.187740           1.744275         0.688560   \n",
       "428         -1.302037          -1.203075        -1.069908   \n",
       "501          2.089687           0.890832         0.285220   \n",
       "363          0.065307          -0.541172        -0.511259   \n",
       "564          0.384946          -0.269423         0.621800   \n",
       "..                ...                ...              ...   \n",
       "95          -0.591728           0.623466         0.617628   \n",
       "128          0.278400           0.212712        -0.373568   \n",
       "257          1.960944           1.227075         0.771082   \n",
       "228         -0.427469           0.570244         0.530933   \n",
       "488          0.899920          -0.667655        -0.591464   \n",
       "\n",
       "     worst concave points  worst symmetry  worst fractal dimension  \n",
       "256              1.202144       -0.140431                 0.900362  \n",
       "428             -1.101241       -0.814291                -0.713236  \n",
       "501              0.572558        1.149974                 1.868412  \n",
       "363             -0.339891       -0.797251                -1.047159  \n",
       "564              1.614373       -1.314652                -0.695833  \n",
       "..                    ...             ...                      ...  \n",
       "95               0.650507        1.208840                -0.014391  \n",
       "128              0.425655       -0.493627                -0.334718  \n",
       "257              1.633860        0.541176                 1.911919  \n",
       "228              0.061395       -0.128038                 0.647472  \n",
       "488             -0.236160       -0.162118                -0.201475  \n",
       "\n",
       "[114 rows x 30 columns]"
      ]
     },
     "metadata": {},
     "output_type": "display_data"
    }
   ],
   "source": [
    "scaler_cancer= StandardScaler()\n",
    "\n",
    "cols_to_scale_cancer=columns_names\n",
    "\n",
    "X_train_cancer_scaled=X_train_cancer.copy()\n",
    "X_test_cancer_scaled=X_test_cancer.copy()\n",
    "\n",
    "X_train_cancer_scaled[cols_to_scale_cancer]=scaler_cancer.fit_transform(X_train_cancer[cols_to_scale_cancer])\n",
    "X_test_cancer_scaled[cols_to_scale_cancer]=scaler_cancer.transform(X_test_cancer[cols_to_scale_cancer])\n",
    "\n",
    "print(\"datos escalados\")\n",
    "\n",
    "display(X_train_cancer_scaled)\n",
    "display(X_test_cancer_scaled)\n"
   ]
  },
  {
   "cell_type": "markdown",
   "metadata": {},
   "source": [
    "#### Entrenamiento"
   ]
  },
  {
   "cell_type": "code",
   "execution_count": 41,
   "metadata": {},
   "outputs": [
    {
     "data": {
      "text/html": [
       "<style>#sk-container-id-2 {\n",
       "  /* Definition of color scheme common for light and dark mode */\n",
       "  --sklearn-color-text: #000;\n",
       "  --sklearn-color-text-muted: #666;\n",
       "  --sklearn-color-line: gray;\n",
       "  /* Definition of color scheme for unfitted estimators */\n",
       "  --sklearn-color-unfitted-level-0: #fff5e6;\n",
       "  --sklearn-color-unfitted-level-1: #f6e4d2;\n",
       "  --sklearn-color-unfitted-level-2: #ffe0b3;\n",
       "  --sklearn-color-unfitted-level-3: chocolate;\n",
       "  /* Definition of color scheme for fitted estimators */\n",
       "  --sklearn-color-fitted-level-0: #f0f8ff;\n",
       "  --sklearn-color-fitted-level-1: #d4ebff;\n",
       "  --sklearn-color-fitted-level-2: #b3dbfd;\n",
       "  --sklearn-color-fitted-level-3: cornflowerblue;\n",
       "\n",
       "  /* Specific color for light theme */\n",
       "  --sklearn-color-text-on-default-background: var(--sg-text-color, var(--theme-code-foreground, var(--jp-content-font-color1, black)));\n",
       "  --sklearn-color-background: var(--sg-background-color, var(--theme-background, var(--jp-layout-color0, white)));\n",
       "  --sklearn-color-border-box: var(--sg-text-color, var(--theme-code-foreground, var(--jp-content-font-color1, black)));\n",
       "  --sklearn-color-icon: #696969;\n",
       "\n",
       "  @media (prefers-color-scheme: dark) {\n",
       "    /* Redefinition of color scheme for dark theme */\n",
       "    --sklearn-color-text-on-default-background: var(--sg-text-color, var(--theme-code-foreground, var(--jp-content-font-color1, white)));\n",
       "    --sklearn-color-background: var(--sg-background-color, var(--theme-background, var(--jp-layout-color0, #111)));\n",
       "    --sklearn-color-border-box: var(--sg-text-color, var(--theme-code-foreground, var(--jp-content-font-color1, white)));\n",
       "    --sklearn-color-icon: #878787;\n",
       "  }\n",
       "}\n",
       "\n",
       "#sk-container-id-2 {\n",
       "  color: var(--sklearn-color-text);\n",
       "}\n",
       "\n",
       "#sk-container-id-2 pre {\n",
       "  padding: 0;\n",
       "}\n",
       "\n",
       "#sk-container-id-2 input.sk-hidden--visually {\n",
       "  border: 0;\n",
       "  clip: rect(1px 1px 1px 1px);\n",
       "  clip: rect(1px, 1px, 1px, 1px);\n",
       "  height: 1px;\n",
       "  margin: -1px;\n",
       "  overflow: hidden;\n",
       "  padding: 0;\n",
       "  position: absolute;\n",
       "  width: 1px;\n",
       "}\n",
       "\n",
       "#sk-container-id-2 div.sk-dashed-wrapped {\n",
       "  border: 1px dashed var(--sklearn-color-line);\n",
       "  margin: 0 0.4em 0.5em 0.4em;\n",
       "  box-sizing: border-box;\n",
       "  padding-bottom: 0.4em;\n",
       "  background-color: var(--sklearn-color-background);\n",
       "}\n",
       "\n",
       "#sk-container-id-2 div.sk-container {\n",
       "  /* jupyter's `normalize.less` sets `[hidden] { display: none; }`\n",
       "     but bootstrap.min.css set `[hidden] { display: none !important; }`\n",
       "     so we also need the `!important` here to be able to override the\n",
       "     default hidden behavior on the sphinx rendered scikit-learn.org.\n",
       "     See: https://github.com/scikit-learn/scikit-learn/issues/21755 */\n",
       "  display: inline-block !important;\n",
       "  position: relative;\n",
       "}\n",
       "\n",
       "#sk-container-id-2 div.sk-text-repr-fallback {\n",
       "  display: none;\n",
       "}\n",
       "\n",
       "div.sk-parallel-item,\n",
       "div.sk-serial,\n",
       "div.sk-item {\n",
       "  /* draw centered vertical line to link estimators */\n",
       "  background-image: linear-gradient(var(--sklearn-color-text-on-default-background), var(--sklearn-color-text-on-default-background));\n",
       "  background-size: 2px 100%;\n",
       "  background-repeat: no-repeat;\n",
       "  background-position: center center;\n",
       "}\n",
       "\n",
       "/* Parallel-specific style estimator block */\n",
       "\n",
       "#sk-container-id-2 div.sk-parallel-item::after {\n",
       "  content: \"\";\n",
       "  width: 100%;\n",
       "  border-bottom: 2px solid var(--sklearn-color-text-on-default-background);\n",
       "  flex-grow: 1;\n",
       "}\n",
       "\n",
       "#sk-container-id-2 div.sk-parallel {\n",
       "  display: flex;\n",
       "  align-items: stretch;\n",
       "  justify-content: center;\n",
       "  background-color: var(--sklearn-color-background);\n",
       "  position: relative;\n",
       "}\n",
       "\n",
       "#sk-container-id-2 div.sk-parallel-item {\n",
       "  display: flex;\n",
       "  flex-direction: column;\n",
       "}\n",
       "\n",
       "#sk-container-id-2 div.sk-parallel-item:first-child::after {\n",
       "  align-self: flex-end;\n",
       "  width: 50%;\n",
       "}\n",
       "\n",
       "#sk-container-id-2 div.sk-parallel-item:last-child::after {\n",
       "  align-self: flex-start;\n",
       "  width: 50%;\n",
       "}\n",
       "\n",
       "#sk-container-id-2 div.sk-parallel-item:only-child::after {\n",
       "  width: 0;\n",
       "}\n",
       "\n",
       "/* Serial-specific style estimator block */\n",
       "\n",
       "#sk-container-id-2 div.sk-serial {\n",
       "  display: flex;\n",
       "  flex-direction: column;\n",
       "  align-items: center;\n",
       "  background-color: var(--sklearn-color-background);\n",
       "  padding-right: 1em;\n",
       "  padding-left: 1em;\n",
       "}\n",
       "\n",
       "\n",
       "/* Toggleable style: style used for estimator/Pipeline/ColumnTransformer box that is\n",
       "clickable and can be expanded/collapsed.\n",
       "- Pipeline and ColumnTransformer use this feature and define the default style\n",
       "- Estimators will overwrite some part of the style using the `sk-estimator` class\n",
       "*/\n",
       "\n",
       "/* Pipeline and ColumnTransformer style (default) */\n",
       "\n",
       "#sk-container-id-2 div.sk-toggleable {\n",
       "  /* Default theme specific background. It is overwritten whether we have a\n",
       "  specific estimator or a Pipeline/ColumnTransformer */\n",
       "  background-color: var(--sklearn-color-background);\n",
       "}\n",
       "\n",
       "/* Toggleable label */\n",
       "#sk-container-id-2 label.sk-toggleable__label {\n",
       "  cursor: pointer;\n",
       "  display: flex;\n",
       "  width: 100%;\n",
       "  margin-bottom: 0;\n",
       "  padding: 0.5em;\n",
       "  box-sizing: border-box;\n",
       "  text-align: center;\n",
       "  align-items: start;\n",
       "  justify-content: space-between;\n",
       "  gap: 0.5em;\n",
       "}\n",
       "\n",
       "#sk-container-id-2 label.sk-toggleable__label .caption {\n",
       "  font-size: 0.6rem;\n",
       "  font-weight: lighter;\n",
       "  color: var(--sklearn-color-text-muted);\n",
       "}\n",
       "\n",
       "#sk-container-id-2 label.sk-toggleable__label-arrow:before {\n",
       "  /* Arrow on the left of the label */\n",
       "  content: \"▸\";\n",
       "  float: left;\n",
       "  margin-right: 0.25em;\n",
       "  color: var(--sklearn-color-icon);\n",
       "}\n",
       "\n",
       "#sk-container-id-2 label.sk-toggleable__label-arrow:hover:before {\n",
       "  color: var(--sklearn-color-text);\n",
       "}\n",
       "\n",
       "/* Toggleable content - dropdown */\n",
       "\n",
       "#sk-container-id-2 div.sk-toggleable__content {\n",
       "  display: none;\n",
       "  text-align: left;\n",
       "  /* unfitted */\n",
       "  background-color: var(--sklearn-color-unfitted-level-0);\n",
       "}\n",
       "\n",
       "#sk-container-id-2 div.sk-toggleable__content.fitted {\n",
       "  /* fitted */\n",
       "  background-color: var(--sklearn-color-fitted-level-0);\n",
       "}\n",
       "\n",
       "#sk-container-id-2 div.sk-toggleable__content pre {\n",
       "  margin: 0.2em;\n",
       "  border-radius: 0.25em;\n",
       "  color: var(--sklearn-color-text);\n",
       "  /* unfitted */\n",
       "  background-color: var(--sklearn-color-unfitted-level-0);\n",
       "}\n",
       "\n",
       "#sk-container-id-2 div.sk-toggleable__content.fitted pre {\n",
       "  /* unfitted */\n",
       "  background-color: var(--sklearn-color-fitted-level-0);\n",
       "}\n",
       "\n",
       "#sk-container-id-2 input.sk-toggleable__control:checked~div.sk-toggleable__content {\n",
       "  /* Expand drop-down */\n",
       "  display: block;\n",
       "  width: 100%;\n",
       "  overflow: visible;\n",
       "}\n",
       "\n",
       "#sk-container-id-2 input.sk-toggleable__control:checked~label.sk-toggleable__label-arrow:before {\n",
       "  content: \"▾\";\n",
       "}\n",
       "\n",
       "/* Pipeline/ColumnTransformer-specific style */\n",
       "\n",
       "#sk-container-id-2 div.sk-label input.sk-toggleable__control:checked~label.sk-toggleable__label {\n",
       "  color: var(--sklearn-color-text);\n",
       "  background-color: var(--sklearn-color-unfitted-level-2);\n",
       "}\n",
       "\n",
       "#sk-container-id-2 div.sk-label.fitted input.sk-toggleable__control:checked~label.sk-toggleable__label {\n",
       "  background-color: var(--sklearn-color-fitted-level-2);\n",
       "}\n",
       "\n",
       "/* Estimator-specific style */\n",
       "\n",
       "/* Colorize estimator box */\n",
       "#sk-container-id-2 div.sk-estimator input.sk-toggleable__control:checked~label.sk-toggleable__label {\n",
       "  /* unfitted */\n",
       "  background-color: var(--sklearn-color-unfitted-level-2);\n",
       "}\n",
       "\n",
       "#sk-container-id-2 div.sk-estimator.fitted input.sk-toggleable__control:checked~label.sk-toggleable__label {\n",
       "  /* fitted */\n",
       "  background-color: var(--sklearn-color-fitted-level-2);\n",
       "}\n",
       "\n",
       "#sk-container-id-2 div.sk-label label.sk-toggleable__label,\n",
       "#sk-container-id-2 div.sk-label label {\n",
       "  /* The background is the default theme color */\n",
       "  color: var(--sklearn-color-text-on-default-background);\n",
       "}\n",
       "\n",
       "/* On hover, darken the color of the background */\n",
       "#sk-container-id-2 div.sk-label:hover label.sk-toggleable__label {\n",
       "  color: var(--sklearn-color-text);\n",
       "  background-color: var(--sklearn-color-unfitted-level-2);\n",
       "}\n",
       "\n",
       "/* Label box, darken color on hover, fitted */\n",
       "#sk-container-id-2 div.sk-label.fitted:hover label.sk-toggleable__label.fitted {\n",
       "  color: var(--sklearn-color-text);\n",
       "  background-color: var(--sklearn-color-fitted-level-2);\n",
       "}\n",
       "\n",
       "/* Estimator label */\n",
       "\n",
       "#sk-container-id-2 div.sk-label label {\n",
       "  font-family: monospace;\n",
       "  font-weight: bold;\n",
       "  display: inline-block;\n",
       "  line-height: 1.2em;\n",
       "}\n",
       "\n",
       "#sk-container-id-2 div.sk-label-container {\n",
       "  text-align: center;\n",
       "}\n",
       "\n",
       "/* Estimator-specific */\n",
       "#sk-container-id-2 div.sk-estimator {\n",
       "  font-family: monospace;\n",
       "  border: 1px dotted var(--sklearn-color-border-box);\n",
       "  border-radius: 0.25em;\n",
       "  box-sizing: border-box;\n",
       "  margin-bottom: 0.5em;\n",
       "  /* unfitted */\n",
       "  background-color: var(--sklearn-color-unfitted-level-0);\n",
       "}\n",
       "\n",
       "#sk-container-id-2 div.sk-estimator.fitted {\n",
       "  /* fitted */\n",
       "  background-color: var(--sklearn-color-fitted-level-0);\n",
       "}\n",
       "\n",
       "/* on hover */\n",
       "#sk-container-id-2 div.sk-estimator:hover {\n",
       "  /* unfitted */\n",
       "  background-color: var(--sklearn-color-unfitted-level-2);\n",
       "}\n",
       "\n",
       "#sk-container-id-2 div.sk-estimator.fitted:hover {\n",
       "  /* fitted */\n",
       "  background-color: var(--sklearn-color-fitted-level-2);\n",
       "}\n",
       "\n",
       "/* Specification for estimator info (e.g. \"i\" and \"?\") */\n",
       "\n",
       "/* Common style for \"i\" and \"?\" */\n",
       "\n",
       ".sk-estimator-doc-link,\n",
       "a:link.sk-estimator-doc-link,\n",
       "a:visited.sk-estimator-doc-link {\n",
       "  float: right;\n",
       "  font-size: smaller;\n",
       "  line-height: 1em;\n",
       "  font-family: monospace;\n",
       "  background-color: var(--sklearn-color-background);\n",
       "  border-radius: 1em;\n",
       "  height: 1em;\n",
       "  width: 1em;\n",
       "  text-decoration: none !important;\n",
       "  margin-left: 0.5em;\n",
       "  text-align: center;\n",
       "  /* unfitted */\n",
       "  border: var(--sklearn-color-unfitted-level-1) 1pt solid;\n",
       "  color: var(--sklearn-color-unfitted-level-1);\n",
       "}\n",
       "\n",
       ".sk-estimator-doc-link.fitted,\n",
       "a:link.sk-estimator-doc-link.fitted,\n",
       "a:visited.sk-estimator-doc-link.fitted {\n",
       "  /* fitted */\n",
       "  border: var(--sklearn-color-fitted-level-1) 1pt solid;\n",
       "  color: var(--sklearn-color-fitted-level-1);\n",
       "}\n",
       "\n",
       "/* On hover */\n",
       "div.sk-estimator:hover .sk-estimator-doc-link:hover,\n",
       ".sk-estimator-doc-link:hover,\n",
       "div.sk-label-container:hover .sk-estimator-doc-link:hover,\n",
       ".sk-estimator-doc-link:hover {\n",
       "  /* unfitted */\n",
       "  background-color: var(--sklearn-color-unfitted-level-3);\n",
       "  color: var(--sklearn-color-background);\n",
       "  text-decoration: none;\n",
       "}\n",
       "\n",
       "div.sk-estimator.fitted:hover .sk-estimator-doc-link.fitted:hover,\n",
       ".sk-estimator-doc-link.fitted:hover,\n",
       "div.sk-label-container:hover .sk-estimator-doc-link.fitted:hover,\n",
       ".sk-estimator-doc-link.fitted:hover {\n",
       "  /* fitted */\n",
       "  background-color: var(--sklearn-color-fitted-level-3);\n",
       "  color: var(--sklearn-color-background);\n",
       "  text-decoration: none;\n",
       "}\n",
       "\n",
       "/* Span, style for the box shown on hovering the info icon */\n",
       ".sk-estimator-doc-link span {\n",
       "  display: none;\n",
       "  z-index: 9999;\n",
       "  position: relative;\n",
       "  font-weight: normal;\n",
       "  right: .2ex;\n",
       "  padding: .5ex;\n",
       "  margin: .5ex;\n",
       "  width: min-content;\n",
       "  min-width: 20ex;\n",
       "  max-width: 50ex;\n",
       "  color: var(--sklearn-color-text);\n",
       "  box-shadow: 2pt 2pt 4pt #999;\n",
       "  /* unfitted */\n",
       "  background: var(--sklearn-color-unfitted-level-0);\n",
       "  border: .5pt solid var(--sklearn-color-unfitted-level-3);\n",
       "}\n",
       "\n",
       ".sk-estimator-doc-link.fitted span {\n",
       "  /* fitted */\n",
       "  background: var(--sklearn-color-fitted-level-0);\n",
       "  border: var(--sklearn-color-fitted-level-3);\n",
       "}\n",
       "\n",
       ".sk-estimator-doc-link:hover span {\n",
       "  display: block;\n",
       "}\n",
       "\n",
       "/* \"?\"-specific style due to the `<a>` HTML tag */\n",
       "\n",
       "#sk-container-id-2 a.estimator_doc_link {\n",
       "  float: right;\n",
       "  font-size: 1rem;\n",
       "  line-height: 1em;\n",
       "  font-family: monospace;\n",
       "  background-color: var(--sklearn-color-background);\n",
       "  border-radius: 1rem;\n",
       "  height: 1rem;\n",
       "  width: 1rem;\n",
       "  text-decoration: none;\n",
       "  /* unfitted */\n",
       "  color: var(--sklearn-color-unfitted-level-1);\n",
       "  border: var(--sklearn-color-unfitted-level-1) 1pt solid;\n",
       "}\n",
       "\n",
       "#sk-container-id-2 a.estimator_doc_link.fitted {\n",
       "  /* fitted */\n",
       "  border: var(--sklearn-color-fitted-level-1) 1pt solid;\n",
       "  color: var(--sklearn-color-fitted-level-1);\n",
       "}\n",
       "\n",
       "/* On hover */\n",
       "#sk-container-id-2 a.estimator_doc_link:hover {\n",
       "  /* unfitted */\n",
       "  background-color: var(--sklearn-color-unfitted-level-3);\n",
       "  color: var(--sklearn-color-background);\n",
       "  text-decoration: none;\n",
       "}\n",
       "\n",
       "#sk-container-id-2 a.estimator_doc_link.fitted:hover {\n",
       "  /* fitted */\n",
       "  background-color: var(--sklearn-color-fitted-level-3);\n",
       "}\n",
       "\n",
       ".estimator-table summary {\n",
       "    padding: .5rem;\n",
       "    font-family: monospace;\n",
       "    cursor: pointer;\n",
       "}\n",
       "\n",
       ".estimator-table details[open] {\n",
       "    padding-left: 0.1rem;\n",
       "    padding-right: 0.1rem;\n",
       "    padding-bottom: 0.3rem;\n",
       "}\n",
       "\n",
       ".estimator-table .parameters-table {\n",
       "    margin-left: auto !important;\n",
       "    margin-right: auto !important;\n",
       "}\n",
       "\n",
       ".estimator-table .parameters-table tr:nth-child(odd) {\n",
       "    background-color: #fff;\n",
       "}\n",
       "\n",
       ".estimator-table .parameters-table tr:nth-child(even) {\n",
       "    background-color: #f6f6f6;\n",
       "}\n",
       "\n",
       ".estimator-table .parameters-table tr:hover {\n",
       "    background-color: #e0e0e0;\n",
       "}\n",
       "\n",
       ".estimator-table table td {\n",
       "    border: 1px solid rgba(106, 105, 104, 0.232);\n",
       "}\n",
       "\n",
       ".user-set td {\n",
       "    color:rgb(255, 94, 0);\n",
       "    text-align: left;\n",
       "}\n",
       "\n",
       ".user-set td.value pre {\n",
       "    color:rgb(255, 94, 0) !important;\n",
       "    background-color: transparent !important;\n",
       "}\n",
       "\n",
       ".default td {\n",
       "    color: black;\n",
       "    text-align: left;\n",
       "}\n",
       "\n",
       ".user-set td i,\n",
       ".default td i {\n",
       "    color: black;\n",
       "}\n",
       "\n",
       ".copy-paste-icon {\n",
       "    background-image: url(data:image/svg+xml;base64,PHN2ZyB4bWxucz0iaHR0cDovL3d3dy53My5vcmcvMjAwMC9zdmciIHZpZXdCb3g9IjAgMCA0NDggNTEyIj48IS0tIUZvbnQgQXdlc29tZSBGcmVlIDYuNy4yIGJ5IEBmb250YXdlc29tZSAtIGh0dHBzOi8vZm9udGF3ZXNvbWUuY29tIExpY2Vuc2UgLSBodHRwczovL2ZvbnRhd2Vzb21lLmNvbS9saWNlbnNlL2ZyZWUgQ29weXJpZ2h0IDIwMjUgRm9udGljb25zLCBJbmMuLS0+PHBhdGggZD0iTTIwOCAwTDMzMi4xIDBjMTIuNyAwIDI0LjkgNS4xIDMzLjkgMTQuMWw2Ny45IDY3LjljOSA5IDE0LjEgMjEuMiAxNC4xIDMzLjlMNDQ4IDMzNmMwIDI2LjUtMjEuNSA0OC00OCA0OGwtMTkyIDBjLTI2LjUgMC00OC0yMS41LTQ4LTQ4bDAtMjg4YzAtMjYuNSAyMS41LTQ4IDQ4LTQ4ek00OCAxMjhsODAgMCAwIDY0LTY0IDAgMCAyNTYgMTkyIDAgMC0zMiA2NCAwIDAgNDhjMCAyNi41LTIxLjUgNDgtNDggNDhMNDggNTEyYy0yNi41IDAtNDgtMjEuNS00OC00OEwwIDE3NmMwLTI2LjUgMjEuNS00OCA0OC00OHoiLz48L3N2Zz4=);\n",
       "    background-repeat: no-repeat;\n",
       "    background-size: 14px 14px;\n",
       "    background-position: 0;\n",
       "    display: inline-block;\n",
       "    width: 14px;\n",
       "    height: 14px;\n",
       "    cursor: pointer;\n",
       "}\n",
       "</style><body><div id=\"sk-container-id-2\" class=\"sk-top-container\"><div class=\"sk-text-repr-fallback\"><pre>LogisticRegression(random_state=42)</pre><b>In a Jupyter environment, please rerun this cell to show the HTML representation or trust the notebook. <br />On GitHub, the HTML representation is unable to render, please try loading this page with nbviewer.org.</b></div><div class=\"sk-container\" hidden><div class=\"sk-item\"><div class=\"sk-estimator fitted sk-toggleable\"><input class=\"sk-toggleable__control sk-hidden--visually\" id=\"sk-estimator-id-2\" type=\"checkbox\" checked><label for=\"sk-estimator-id-2\" class=\"sk-toggleable__label fitted sk-toggleable__label-arrow\"><div><div>LogisticRegression</div></div><div><a class=\"sk-estimator-doc-link fitted\" rel=\"noreferrer\" target=\"_blank\" href=\"https://scikit-learn.org/1.7/modules/generated/sklearn.linear_model.LogisticRegression.html\">?<span>Documentation for LogisticRegression</span></a><span class=\"sk-estimator-doc-link fitted\">i<span>Fitted</span></span></div></label><div class=\"sk-toggleable__content fitted\" data-param-prefix=\"\">\n",
       "        <div class=\"estimator-table\">\n",
       "            <details>\n",
       "                <summary>Parameters</summary>\n",
       "                <table class=\"parameters-table\">\n",
       "                  <tbody>\n",
       "                    \n",
       "        <tr class=\"default\">\n",
       "            <td><i class=\"copy-paste-icon\"\n",
       "                 onclick=\"copyToClipboard('penalty',\n",
       "                          this.parentElement.nextElementSibling)\"\n",
       "            ></i></td>\n",
       "            <td class=\"param\">penalty&nbsp;</td>\n",
       "            <td class=\"value\">&#x27;l2&#x27;</td>\n",
       "        </tr>\n",
       "    \n",
       "\n",
       "        <tr class=\"default\">\n",
       "            <td><i class=\"copy-paste-icon\"\n",
       "                 onclick=\"copyToClipboard('dual',\n",
       "                          this.parentElement.nextElementSibling)\"\n",
       "            ></i></td>\n",
       "            <td class=\"param\">dual&nbsp;</td>\n",
       "            <td class=\"value\">False</td>\n",
       "        </tr>\n",
       "    \n",
       "\n",
       "        <tr class=\"default\">\n",
       "            <td><i class=\"copy-paste-icon\"\n",
       "                 onclick=\"copyToClipboard('tol',\n",
       "                          this.parentElement.nextElementSibling)\"\n",
       "            ></i></td>\n",
       "            <td class=\"param\">tol&nbsp;</td>\n",
       "            <td class=\"value\">0.0001</td>\n",
       "        </tr>\n",
       "    \n",
       "\n",
       "        <tr class=\"default\">\n",
       "            <td><i class=\"copy-paste-icon\"\n",
       "                 onclick=\"copyToClipboard('C',\n",
       "                          this.parentElement.nextElementSibling)\"\n",
       "            ></i></td>\n",
       "            <td class=\"param\">C&nbsp;</td>\n",
       "            <td class=\"value\">1.0</td>\n",
       "        </tr>\n",
       "    \n",
       "\n",
       "        <tr class=\"default\">\n",
       "            <td><i class=\"copy-paste-icon\"\n",
       "                 onclick=\"copyToClipboard('fit_intercept',\n",
       "                          this.parentElement.nextElementSibling)\"\n",
       "            ></i></td>\n",
       "            <td class=\"param\">fit_intercept&nbsp;</td>\n",
       "            <td class=\"value\">True</td>\n",
       "        </tr>\n",
       "    \n",
       "\n",
       "        <tr class=\"default\">\n",
       "            <td><i class=\"copy-paste-icon\"\n",
       "                 onclick=\"copyToClipboard('intercept_scaling',\n",
       "                          this.parentElement.nextElementSibling)\"\n",
       "            ></i></td>\n",
       "            <td class=\"param\">intercept_scaling&nbsp;</td>\n",
       "            <td class=\"value\">1</td>\n",
       "        </tr>\n",
       "    \n",
       "\n",
       "        <tr class=\"default\">\n",
       "            <td><i class=\"copy-paste-icon\"\n",
       "                 onclick=\"copyToClipboard('class_weight',\n",
       "                          this.parentElement.nextElementSibling)\"\n",
       "            ></i></td>\n",
       "            <td class=\"param\">class_weight&nbsp;</td>\n",
       "            <td class=\"value\">None</td>\n",
       "        </tr>\n",
       "    \n",
       "\n",
       "        <tr class=\"user-set\">\n",
       "            <td><i class=\"copy-paste-icon\"\n",
       "                 onclick=\"copyToClipboard('random_state',\n",
       "                          this.parentElement.nextElementSibling)\"\n",
       "            ></i></td>\n",
       "            <td class=\"param\">random_state&nbsp;</td>\n",
       "            <td class=\"value\">42</td>\n",
       "        </tr>\n",
       "    \n",
       "\n",
       "        <tr class=\"default\">\n",
       "            <td><i class=\"copy-paste-icon\"\n",
       "                 onclick=\"copyToClipboard('solver',\n",
       "                          this.parentElement.nextElementSibling)\"\n",
       "            ></i></td>\n",
       "            <td class=\"param\">solver&nbsp;</td>\n",
       "            <td class=\"value\">&#x27;lbfgs&#x27;</td>\n",
       "        </tr>\n",
       "    \n",
       "\n",
       "        <tr class=\"default\">\n",
       "            <td><i class=\"copy-paste-icon\"\n",
       "                 onclick=\"copyToClipboard('max_iter',\n",
       "                          this.parentElement.nextElementSibling)\"\n",
       "            ></i></td>\n",
       "            <td class=\"param\">max_iter&nbsp;</td>\n",
       "            <td class=\"value\">100</td>\n",
       "        </tr>\n",
       "    \n",
       "\n",
       "        <tr class=\"default\">\n",
       "            <td><i class=\"copy-paste-icon\"\n",
       "                 onclick=\"copyToClipboard('multi_class',\n",
       "                          this.parentElement.nextElementSibling)\"\n",
       "            ></i></td>\n",
       "            <td class=\"param\">multi_class&nbsp;</td>\n",
       "            <td class=\"value\">&#x27;deprecated&#x27;</td>\n",
       "        </tr>\n",
       "    \n",
       "\n",
       "        <tr class=\"default\">\n",
       "            <td><i class=\"copy-paste-icon\"\n",
       "                 onclick=\"copyToClipboard('verbose',\n",
       "                          this.parentElement.nextElementSibling)\"\n",
       "            ></i></td>\n",
       "            <td class=\"param\">verbose&nbsp;</td>\n",
       "            <td class=\"value\">0</td>\n",
       "        </tr>\n",
       "    \n",
       "\n",
       "        <tr class=\"default\">\n",
       "            <td><i class=\"copy-paste-icon\"\n",
       "                 onclick=\"copyToClipboard('warm_start',\n",
       "                          this.parentElement.nextElementSibling)\"\n",
       "            ></i></td>\n",
       "            <td class=\"param\">warm_start&nbsp;</td>\n",
       "            <td class=\"value\">False</td>\n",
       "        </tr>\n",
       "    \n",
       "\n",
       "        <tr class=\"default\">\n",
       "            <td><i class=\"copy-paste-icon\"\n",
       "                 onclick=\"copyToClipboard('n_jobs',\n",
       "                          this.parentElement.nextElementSibling)\"\n",
       "            ></i></td>\n",
       "            <td class=\"param\">n_jobs&nbsp;</td>\n",
       "            <td class=\"value\">None</td>\n",
       "        </tr>\n",
       "    \n",
       "\n",
       "        <tr class=\"default\">\n",
       "            <td><i class=\"copy-paste-icon\"\n",
       "                 onclick=\"copyToClipboard('l1_ratio',\n",
       "                          this.parentElement.nextElementSibling)\"\n",
       "            ></i></td>\n",
       "            <td class=\"param\">l1_ratio&nbsp;</td>\n",
       "            <td class=\"value\">None</td>\n",
       "        </tr>\n",
       "    \n",
       "                  </tbody>\n",
       "                </table>\n",
       "            </details>\n",
       "        </div>\n",
       "    </div></div></div></div></div><script>function copyToClipboard(text, element) {\n",
       "    // Get the parameter prefix from the closest toggleable content\n",
       "    const toggleableContent = element.closest('.sk-toggleable__content');\n",
       "    const paramPrefix = toggleableContent ? toggleableContent.dataset.paramPrefix : '';\n",
       "    const fullParamName = paramPrefix ? `${paramPrefix}${text}` : text;\n",
       "\n",
       "    const originalStyle = element.style;\n",
       "    const computedStyle = window.getComputedStyle(element);\n",
       "    const originalWidth = computedStyle.width;\n",
       "    const originalHTML = element.innerHTML.replace('Copied!', '');\n",
       "\n",
       "    navigator.clipboard.writeText(fullParamName)\n",
       "        .then(() => {\n",
       "            element.style.width = originalWidth;\n",
       "            element.style.color = 'green';\n",
       "            element.innerHTML = \"Copied!\";\n",
       "\n",
       "            setTimeout(() => {\n",
       "                element.innerHTML = originalHTML;\n",
       "                element.style = originalStyle;\n",
       "            }, 2000);\n",
       "        })\n",
       "        .catch(err => {\n",
       "            console.error('Failed to copy:', err);\n",
       "            element.style.color = 'red';\n",
       "            element.innerHTML = \"Failed!\";\n",
       "            setTimeout(() => {\n",
       "                element.innerHTML = originalHTML;\n",
       "                element.style = originalStyle;\n",
       "            }, 2000);\n",
       "        });\n",
       "    return false;\n",
       "}\n",
       "\n",
       "document.querySelectorAll('.fa-regular.fa-copy').forEach(function(element) {\n",
       "    const toggleableContent = element.closest('.sk-toggleable__content');\n",
       "    const paramPrefix = toggleableContent ? toggleableContent.dataset.paramPrefix : '';\n",
       "    const paramName = element.parentElement.nextElementSibling.textContent.trim();\n",
       "    const fullParamName = paramPrefix ? `${paramPrefix}${paramName}` : paramName;\n",
       "\n",
       "    element.setAttribute('title', fullParamName);\n",
       "});\n",
       "</script></body>"
      ],
      "text/plain": [
       "LogisticRegression(random_state=42)"
      ]
     },
     "execution_count": 41,
     "metadata": {},
     "output_type": "execute_result"
    }
   ],
   "source": [
    "log_reg_cancer=LogisticRegression(random_state=42)\n",
    "log_reg_cancer.fit(X_train_cancer_scaled,y_train_cancer)\n",
    "\n",
    "\n",
    "log_reg_cancer\n"
   ]
  },
  {
   "cell_type": "markdown",
   "metadata": {},
   "source": [
    "#### Evaluación del modelo"
   ]
  },
  {
   "cell_type": "code",
   "execution_count": 42,
   "metadata": {},
   "outputs": [
    {
     "data": {
      "image/png": "[encoded data removed]",
      "text/plain": [
       "<Figure size 600x400 with 2 Axes>"
      ]
     },
     "metadata": {},
     "output_type": "display_data"
    },
    {
     "name": "stdout",
     "output_type": "stream",
     "text": [
      "\n",
      "Reporte de Clasicación para Cancer\n",
      "              precision    recall  f1-score   support\n",
      "\n",
      "   No Cancer       0.98      0.98      0.98        42\n",
      "      Cancer       0.99      0.99      0.99        72\n",
      "\n",
      "    accuracy                           0.98       114\n",
      "   macro avg       0.98      0.98      0.98       114\n",
      "weighted avg       0.98      0.98      0.98       114\n",
      "\n"
     ]
    }
   ],
   "source": [
    "y_cancer_pred=log_reg_cancer.predict(X_test_cancer_scaled)\n",
    "\n",
    "cm_cancer=confusion_matrix(y_test_cancer,y_cancer_pred)\n",
    "\n",
    "disp_cm_cancer=ConfusionMatrixDisplay(confusion_matrix=cm_cancer,display_labels=['No Cancer', 'Cancer'])\n",
    "fig_cancer, ax_cancer=plt.subplots(figsize=(6,4))\n",
    "disp_cm_cancer.plot(cmap=\"Blues\",ax=ax_cancer)\n",
    "\n",
    "ax_cancer.set_title(\"Matriz confusión Cancer\")\n",
    "plt.show()\n",
    "\n",
    "print('\\nReporte de Clasicación para Cancer')\n",
    "print(classification_report(y_test_cancer,y_cancer_pred,target_names=['No Cancer','Cancer']))"
   ]
  },
  {
   "cell_type": "markdown",
   "metadata": {},
   "source": [
    "### 4.  ¿Qué representa un punto en la esquina superior izquierda de la curva ROC? ¿Y un punto en la línea diagonal?\n",
    "\n",
    "La curva ROC dibuja el impacto de todos los umbrales posibles entre TPR (eje y) y FPR (eje x) por lo tanto un punto en la esquina superir izq implica el maximo TPR y el mínimo FPR, o sea, que predijo los positivos en un 100% para ESE Uumbral, es decir es el umbral óptimo.\n",
    "Los puntos de la linea diagonal son un 50%. 50% es un comportamiento aleatorio\n"
   ]
  },
  {
   "cell_type": "markdown",
   "metadata": {},
   "source": [
    "### 5.  ¿Por qué es fundamental ajustar (`fit`) el `StandardScaler` únicamente con los datos de entrenamiento y no con todo el dataset?\n",
    "\n",
    "Esto es para evitar filtado de datos. El escalamiento se hace estandarizando. Para estandarizar se usa la media y el desvio, si se entrena todo los datos juntos los datos de test influyen en la estandarización de los datos de entrenamiento y se esta filtrando información.\n"
   ]
  },
  {
   "cell_type": "markdown",
   "metadata": {},
   "source": [
    "### 6.  Crea un bucle `for` que itere sobre una lista de umbrales (ej. `[0.1, 0.2, 0.3, 0.4, 0.5, 0.6, 0.7, 0.8, 0.9]`). Para cada umbral, calcula y guarda la Precisión y el Recall para la clase 'Default'. Luego, grafica cómo cambian estas dos métricas a medida que varía el umbral (Precision-Recall Curve).\n"
   ]
  },
  {
   "cell_type": "code",
   "execution_count": 43,
   "metadata": {},
   "outputs": [
    {
     "data": {
      "image/png": "[encoded data removed]",
      "text/plain": [
       "<Figure size 640x480 with 1 Axes>"
      ]
     },
     "metadata": {},
     "output_type": "display_data"
    }
   ],
   "source": [
    "umbrales_default=[0.1, 0.2, 0.3, 0.4, 0.5, 0.6, 0.7, 0.8, 0.9]\n",
    "\n",
    "#Precision: TP/(TP+FP)\n",
    "#Recall: TP/(TP+FN)\n",
    "\n",
    "y_pred_proba=log_reg.predict_proba(X_test_scaled)[:,1]\n",
    "precision=[]\n",
    "recall=[]\n",
    "for i,umbral in enumerate(umbrales_default):\n",
    "    y_pred_nuevo_umbral=(y_pred_proba>=umbral).astype(int)\n",
    "    cr=classification_report(y_test,y_pred_nuevo_umbral,target_names=['No default','Default'],output_dict=True)\n",
    "    precision.append(cr['Default'].get('precision'))\n",
    "    recall.append(cr['Default'].get('recall'))\n",
    "\n",
    "plt.figure()\n",
    "plt.plot(umbrales_default,recall,label='recall')\n",
    "plt.plot(umbrales_default,precision,label='precision')\n",
    "plt.xlabel('Umbrales')\n",
    "plt.ylabel('Valores precision/recall')\n",
    "plt.legend(loc='best', fontsize='small', bbox_to_anchor=(1.05, 1))\n",
    "plt.grid(True)\n",
    "plt.title(\"Valores de precision y recall para difrentes umbrales de la clase Default\")\n",
    "plt.show()\n",
    "\n",
    "\n"
   ]
  },
  {
   "cell_type": "markdown",
   "metadata": {},
   "source": [
    "### 7.  Usando los coeficientes del modelo `log_reg` (entrenado con datos escalados), interpreta el coeficiente de la variable `balance`. ¿Qué significa un aumento de una desviación estándar en el `balance` en términos del odds ratio de default?\n"
   ]
  },
  {
   "cell_type": "code",
   "execution_count": 44,
   "metadata": {},
   "outputs": [
    {
     "data": {
      "text/plain": [
       "array([[ 2.7084448 , -0.02143334, -0.58993015]])"
      ]
     },
     "execution_count": 44,
     "metadata": {},
     "output_type": "execute_result"
    }
   ],
   "source": [
    "log_reg.coef_"
   ]
  },
  {
   "cell_type": "markdown",
   "metadata": {},
   "source": [
    "El Coeficiente de la variable balance es de 2.71 y significa que un incremento de una unidad en el balance hace que esas cuentas sean 15 veces mas propensas a entrar en default en comparación a aquellas cuyo balnce no aumenta, manteniendo todo lo demas constante.\n",
    "\n",
    "Esto significa por ejemplo que si las probabilidades eran de 0.8 lo que es una proporción de $4/1$ lo que es $(0.8/1-0.8)$ ahora si hay 15 veces mas, entonces se multiplica por 15 el numerador: \n",
    "\n",
    "\n",
    "Ahora 4*15=60, por lo tanto odds=60=$\\frac{p}{1-p}$ despejando:\n",
    "$$\n",
    "    60*(1-p)=p \\Longrightarrow  60-60p=p \\Longrightarrow 60=61p \\Longrightarrow p=\\frac{60}{61} =0.9836\n",
    "$$\n",
    "\n",
    "\n",
    "Las variables ya estan estandarizadas, con lo cual todo se mide en desvios estándar, asi que un incremento en una unidad del desvio estandar del balance no cambia la interpretación primera. \n",
    "Si no hubiera estado estandarizado debería multiplicar el coeficiente (regresor) de balance por el incremento de la desviación estandar (que lo deja igual de todmos modos).\n",
    "Dado que el desvío es de 438 podemos decir que: \n",
    "\n",
    "Un incremento de 438 pesos en balance implica que esas cuentas son 15 veces mas propensas a entrar en default en comparación a quellas cuyo balance no aumentó. Esto es un incremento de 438 pesos en el balance incremnta 15 veces odds (p/1-p)"
   ]
  },
  {
   "cell_type": "markdown",
   "metadata": {},
   "source": [
    "### 8.  Explica la diferencia fundamental entre la regularización L1 y L2 en términos de su efecto sobre los coeficientes del modelo.\n"
   ]
  },
  {
   "cell_type": "markdown",
   "metadata": {},
   "source": [
    "L2 (Ridge) lo que hace es penalizar el cuadrado los coeficiente en lugar del módulo como lo hace L1 (Lasso) esto hace que L1 pueda llevar los coeficientes a 0 y descartarlos del modelo."
   ]
  },
  {
   "cell_type": "markdown",
   "metadata": {},
   "source": [
    "### 9.  Si tuvieras dos modelos, uno con AUC de 0.85 y otro con AUC de 0.75, ¿cuál elegirías y por qué? ¿Bajo qué circunstancias podrías preferir el de 0.75?\n"
   ]
  },
  {
   "cell_type": "markdown",
   "metadata": {},
   "source": [
    "Si AUC es el área bajo la curva del ROC es mejor el de 0.85 porque maximiza la tasa de TP. \n",
    "Podría llegar a elegir 0.75 en el caso donde se diera para un umbral particular una tasa de TP que sea mas grande que culaquier otra de la ROC para el 0.85 y solo se quiera usar ese umbral.\n",
    "También se puede dar que el modelo de 0.75 ofrezca mayor simplicidad para explicar y por lo tanto convenga usarlo sin embargo no soy fan de perder performance en base a tener capacidad explicativa."
   ]
  },
  {
   "cell_type": "markdown",
   "metadata": {},
   "source": [
    "### 10. Investiga el parámetro `class_weight` de `LogisticRegression` en `scikit-learn`. ¿Cómo podrías usarlo para manejar el desbalanceo de clases en el dataset `Default`? Pruébalo (con los datos escalados) y compara los resultados (recall, precisión) con la técnica de ajustar el umbral."
   ]
  },
  {
   "cell_type": "markdown",
   "metadata": {},
   "source": [
    "El parámetro class_weight asocia un peso a cada clase, si no lo tiene asume. Dado que mi dataset es desbalanceado puedo usarlo para modificar el peso que tiene según la cantidad de ejemplos que tengo."
   ]
  },
  {
   "cell_type": "code",
   "execution_count": 45,
   "metadata": {},
   "outputs": [
    {
     "data": {
      "image/png": "[encoded data removed]",
      "text/plain": [
       "<Figure size 600x400 with 2 Axes>"
      ]
     },
     "metadata": {},
     "output_type": "display_data"
    },
    {
     "name": "stdout",
     "output_type": "stream",
     "text": [
      "\n",
      "Reporte de Clasificación balanced:\n",
      "              precision    recall  f1-score   support\n",
      "\n",
      "  No Default       1.00      0.85      0.92      1933\n",
      "     Default       0.17      0.88      0.29        67\n",
      "\n",
      "    accuracy                           0.85      2000\n",
      "   macro avg       0.58      0.87      0.60      2000\n",
      "weighted avg       0.97      0.85      0.90      2000\n",
      "\n",
      "Reporte de Clasificación con Umbral = 0.9:\n",
      "              precision    recall  f1-score   support\n",
      "\n",
      "  No Default       0.97      1.00      0.98      1933\n",
      "     Default       1.00      0.01      0.03        67\n",
      "\n",
      "    accuracy                           0.97      2000\n",
      "   macro avg       0.98      0.51      0.51      2000\n",
      "weighted avg       0.97      0.97      0.95      2000\n",
      "\n"
     ]
    }
   ],
   "source": [
    "# Instanciamos y entrenamos el modelo con los datos escalados\n",
    "log_reg_balanced = LogisticRegression(random_state=42,class_weight='balanced')\n",
    "log_reg_balanced.fit(X_train_scaled, y_train)\n",
    "\n",
    "# Realizamos predicciones sobre el conjunto de prueba escalado\n",
    "y_pred_balanced = log_reg_balanced.predict(X_test_scaled)\n",
    "\n",
    "# Calculamos y visualizamos la matriz de confusión\n",
    "cm_balanced = confusion_matrix(y_test, y_pred_balanced)\n",
    "disp_balanced = ConfusionMatrixDisplay(confusion_matrix=cm_balanced, display_labels=['No Default', 'Default'])\n",
    "fig, ax = plt.subplots(figsize=(6, 4))\n",
    "disp_balanced.plot(cmap='Blues', ax=ax)\n",
    "ax.set_title('Matriz de Confusión')\n",
    "plt.show()\n",
    "\n",
    "# Imprimimos el reporte de clasificación completo\n",
    "print(\"\\nReporte de Clasificación balanced:\")\n",
    "print(classification_report(y_test, y_pred_balanced, target_names=['No Default', 'Default']))\n",
    "\n",
    "print(f\"Reporte de Clasificación con Umbral = {umbral}:\")\n",
    "print(classification_report(y_test, y_pred_nuevo_umbral, target_names=['No Default', 'Default']))\n"
   ]
  },
  {
   "cell_type": "markdown",
   "metadata": {},
   "source": [
    "Aca se puede ver que para default obtuve un mejor recall que bajando el umbral a 0.2. Esto nos dice que se le \"escapan\" menos casos de default. Sin embargo para No default bajo bastante lo que implica que peca de conservadora. \n",
    "\n",
    "Para la precision, o sea que tan bien bien predice cuando acierta, y se ve que bajo a casi la mitad, eso es, nuevamente, que vuelvo a ser conservador, marco como Default casos que no lo son."
   ]
  }
 ],
 "metadata": {
  "colab": {
   "provenance": []
  },
  "kernelspec": {
   "display_name": "islp",
   "language": "python",
   "name": "python3"
  },
  "language_info": {
   "codemirror_mode": {
    "name": "ipython",
    "version": 3
   },
   "file_extension": ".py",
   "mimetype": "text/x-python",
   "name": "python",
   "nbconvert_exporter": "python",
   "pygments_lexer": "ipython3",
   "version": "3.12.11"
  }
 },
 "nbformat": 4,
 "nbformat_minor": 0
}
