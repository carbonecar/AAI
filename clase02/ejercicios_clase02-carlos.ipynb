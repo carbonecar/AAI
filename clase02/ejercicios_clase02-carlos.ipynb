{
 "cells": [
  {
   "cell_type": "code",
   "execution_count": 1,
   "id": "JVgeG8VnCn2K",
   "metadata": {
    "id": "JVgeG8VnCn2K"
   },
   "outputs": [],
   "source": [
    "# Importación de Librerías Esenciales\n",
    "\n",
    "import numpy as np\n",
    "import pandas as pd\n",
    "import plotly.express as px\n",
    "import plotly.graph_objects as go\n",
    "import matplotlib.pyplot as plt\n",
    "\n",
    "\n",
    "from sklearn.datasets import fetch_openml\n",
    "from sklearn.model_selection import train_test_split, KFold, cross_val_score\n",
    "from sklearn.preprocessing import StandardScaler\n",
    "from sklearn.linear_model import LinearRegression, Ridge, Lasso, RidgeCV, LassoCV\n",
    "from sklearn.metrics import mean_squared_error, mean_absolute_error, r2_score"
   ]
  },
  {
   "cell_type": "markdown",
   "id": "Xlq_PwqkCn2N",
   "metadata": {
    "id": "Xlq_PwqkCn2N"
   },
   "source": [
    "<div class=\"alert alert-block alert-info\">\n",
    "    <h1>Taller Práctico: Regresión Lineal, Ridge y Lasso</h1>\n",
    "    <p><strong>Objetivos de la sesión:</strong></p>\n",
    "    <ul>\n",
    "        <li>Aplicar los conceptos de regresión lineal en un problema práctico.</li>\n",
    "        <li>Implementar y comparar modelos de Regresión Lineal, Ridge y Lasso.</li>\n",
    "        <li>Utilizar la validación cruzada para encontrar el hiperparámetro de regularización óptimo.</li>\n",
    "        <li>Evaluar el rendimiento de los modelos utilizando métricas como MSE, MAE y R².</li>\n",
    "    </ul>\n",
    "    <p><strong>Dataset:</strong> Utilizaremos el dataset \"Ames Housing\", que contiene información sobre la venta de casas en Ames, Iowa. Nuestro objetivo será predecir el precio de venta (<code>SalePrice</code>) de las casas.</p>\n",
    "</div>"
   ]
  },
  {
   "cell_type": "markdown",
   "id": "q43DIERcCn2O",
   "metadata": {
    "id": "q43DIERcCn2O"
   },
   "source": [
    "### 1. Carga y Exploración de Datos (EDA)\n",
    "\n",
    "<p>El primer paso en cualquier proyecto de Machine Learning es entender nuestros datos. Cargaremos el dataset, veremos su estructura y realizaremos algunas visualizaciones iniciales.</p>"
   ]
  },
  {
   "cell_type": "code",
   "execution_count": 2,
   "id": "672dcd71",
   "metadata": {},
   "outputs": [
    {
     "data": {
      "text/html": [
       "<div>\n",
       "<style scoped>\n",
       "    .dataframe tbody tr th:only-of-type {\n",
       "        vertical-align: middle;\n",
       "    }\n",
       "\n",
       "    .dataframe tbody tr th {\n",
       "        vertical-align: top;\n",
       "    }\n",
       "\n",
       "    .dataframe thead th {\n",
       "        text-align: right;\n",
       "    }\n",
       "</style>\n",
       "<table border=\"1\" class=\"dataframe\">\n",
       "  <thead>\n",
       "    <tr style=\"text-align: right;\">\n",
       "      <th></th>\n",
       "      <th>Id</th>\n",
       "      <th>MSSubClass</th>\n",
       "      <th>MSZoning</th>\n",
       "      <th>LotFrontage</th>\n",
       "      <th>LotArea</th>\n",
       "      <th>Street</th>\n",
       "      <th>Alley</th>\n",
       "      <th>LotShape</th>\n",
       "      <th>LandContour</th>\n",
       "      <th>Utilities</th>\n",
       "      <th>...</th>\n",
       "      <th>PoolArea</th>\n",
       "      <th>PoolQC</th>\n",
       "      <th>Fence</th>\n",
       "      <th>MiscFeature</th>\n",
       "      <th>MiscVal</th>\n",
       "      <th>MoSold</th>\n",
       "      <th>YrSold</th>\n",
       "      <th>SaleType</th>\n",
       "      <th>SaleCondition</th>\n",
       "      <th>SalePrice</th>\n",
       "    </tr>\n",
       "  </thead>\n",
       "  <tbody>\n",
       "    <tr>\n",
       "      <th>0</th>\n",
       "      <td>1</td>\n",
       "      <td>60</td>\n",
       "      <td>RL</td>\n",
       "      <td>65.0</td>\n",
       "      <td>8450</td>\n",
       "      <td>Pave</td>\n",
       "      <td>NaN</td>\n",
       "      <td>Reg</td>\n",
       "      <td>Lvl</td>\n",
       "      <td>AllPub</td>\n",
       "      <td>...</td>\n",
       "      <td>0</td>\n",
       "      <td>NaN</td>\n",
       "      <td>NaN</td>\n",
       "      <td>NaN</td>\n",
       "      <td>0</td>\n",
       "      <td>2</td>\n",
       "      <td>2008</td>\n",
       "      <td>WD</td>\n",
       "      <td>Normal</td>\n",
       "      <td>208500</td>\n",
       "    </tr>\n",
       "    <tr>\n",
       "      <th>1</th>\n",
       "      <td>2</td>\n",
       "      <td>20</td>\n",
       "      <td>RL</td>\n",
       "      <td>80.0</td>\n",
       "      <td>9600</td>\n",
       "      <td>Pave</td>\n",
       "      <td>NaN</td>\n",
       "      <td>Reg</td>\n",
       "      <td>Lvl</td>\n",
       "      <td>AllPub</td>\n",
       "      <td>...</td>\n",
       "      <td>0</td>\n",
       "      <td>NaN</td>\n",
       "      <td>NaN</td>\n",
       "      <td>NaN</td>\n",
       "      <td>0</td>\n",
       "      <td>5</td>\n",
       "      <td>2007</td>\n",
       "      <td>WD</td>\n",
       "      <td>Normal</td>\n",
       "      <td>181500</td>\n",
       "    </tr>\n",
       "    <tr>\n",
       "      <th>2</th>\n",
       "      <td>3</td>\n",
       "      <td>60</td>\n",
       "      <td>RL</td>\n",
       "      <td>68.0</td>\n",
       "      <td>11250</td>\n",
       "      <td>Pave</td>\n",
       "      <td>NaN</td>\n",
       "      <td>IR1</td>\n",
       "      <td>Lvl</td>\n",
       "      <td>AllPub</td>\n",
       "      <td>...</td>\n",
       "      <td>0</td>\n",
       "      <td>NaN</td>\n",
       "      <td>NaN</td>\n",
       "      <td>NaN</td>\n",
       "      <td>0</td>\n",
       "      <td>9</td>\n",
       "      <td>2008</td>\n",
       "      <td>WD</td>\n",
       "      <td>Normal</td>\n",
       "      <td>223500</td>\n",
       "    </tr>\n",
       "    <tr>\n",
       "      <th>3</th>\n",
       "      <td>4</td>\n",
       "      <td>70</td>\n",
       "      <td>RL</td>\n",
       "      <td>60.0</td>\n",
       "      <td>9550</td>\n",
       "      <td>Pave</td>\n",
       "      <td>NaN</td>\n",
       "      <td>IR1</td>\n",
       "      <td>Lvl</td>\n",
       "      <td>AllPub</td>\n",
       "      <td>...</td>\n",
       "      <td>0</td>\n",
       "      <td>NaN</td>\n",
       "      <td>NaN</td>\n",
       "      <td>NaN</td>\n",
       "      <td>0</td>\n",
       "      <td>2</td>\n",
       "      <td>2006</td>\n",
       "      <td>WD</td>\n",
       "      <td>Abnorml</td>\n",
       "      <td>140000</td>\n",
       "    </tr>\n",
       "    <tr>\n",
       "      <th>4</th>\n",
       "      <td>5</td>\n",
       "      <td>60</td>\n",
       "      <td>RL</td>\n",
       "      <td>84.0</td>\n",
       "      <td>14260</td>\n",
       "      <td>Pave</td>\n",
       "      <td>NaN</td>\n",
       "      <td>IR1</td>\n",
       "      <td>Lvl</td>\n",
       "      <td>AllPub</td>\n",
       "      <td>...</td>\n",
       "      <td>0</td>\n",
       "      <td>NaN</td>\n",
       "      <td>NaN</td>\n",
       "      <td>NaN</td>\n",
       "      <td>0</td>\n",
       "      <td>12</td>\n",
       "      <td>2008</td>\n",
       "      <td>WD</td>\n",
       "      <td>Normal</td>\n",
       "      <td>250000</td>\n",
       "    </tr>\n",
       "  </tbody>\n",
       "</table>\n",
       "<p>5 rows × 81 columns</p>\n",
       "</div>"
      ],
      "text/plain": [
       "   Id  MSSubClass MSZoning  LotFrontage  LotArea Street Alley LotShape  \\\n",
       "0   1          60       RL         65.0     8450   Pave   NaN      Reg   \n",
       "1   2          20       RL         80.0     9600   Pave   NaN      Reg   \n",
       "2   3          60       RL         68.0    11250   Pave   NaN      IR1   \n",
       "3   4          70       RL         60.0     9550   Pave   NaN      IR1   \n",
       "4   5          60       RL         84.0    14260   Pave   NaN      IR1   \n",
       "\n",
       "  LandContour Utilities  ... PoolArea PoolQC Fence MiscFeature MiscVal MoSold  \\\n",
       "0         Lvl    AllPub  ...        0    NaN   NaN         NaN       0      2   \n",
       "1         Lvl    AllPub  ...        0    NaN   NaN         NaN       0      5   \n",
       "2         Lvl    AllPub  ...        0    NaN   NaN         NaN       0      9   \n",
       "3         Lvl    AllPub  ...        0    NaN   NaN         NaN       0      2   \n",
       "4         Lvl    AllPub  ...        0    NaN   NaN         NaN       0     12   \n",
       "\n",
       "  YrSold  SaleType  SaleCondition  SalePrice  \n",
       "0   2008        WD         Normal     208500  \n",
       "1   2007        WD         Normal     181500  \n",
       "2   2008        WD         Normal     223500  \n",
       "3   2006        WD        Abnorml     140000  \n",
       "4   2008        WD         Normal     250000  \n",
       "\n",
       "[5 rows x 81 columns]"
      ]
     },
     "execution_count": 2,
     "metadata": {},
     "output_type": "execute_result"
    }
   ],
   "source": [
    "# Cargar el dataset Ames Housing desde OpenML\n",
    "housing = fetch_openml(name=\"house_prices\", as_frame=True)\n",
    "df = housing.frame\n",
    "\n",
    "df[:5]"
   ]
  },
  {
   "cell_type": "code",
   "execution_count": 3,
   "id": "sVKpIUd1Cn2O",
   "metadata": {
    "id": "sVKpIUd1Cn2O"
   },
   "outputs": [
    {
     "name": "stdout",
     "output_type": "stream",
     "text": [
      "\n",
      "Dimensiones del subconjunto de datos: (1460, 7)\n",
      "\n",
      "Descripción estadística del subconjunto:\n",
      "         GrLivArea  OverallQual    YearBuilt  TotalBsmtSF     FullBath  \\\n",
      "count  1460.000000  1460.000000  1460.000000  1460.000000  1460.000000   \n",
      "mean   1515.463699     6.099315  1971.267808  1057.429452     1.565068   \n",
      "std     525.480383     1.382997    30.202904   438.705324     0.550916   \n",
      "min     334.000000     1.000000  1872.000000     0.000000     0.000000   \n",
      "25%    1129.500000     5.000000  1954.000000   795.750000     1.000000   \n",
      "50%    1464.000000     6.000000  1973.000000   991.500000     2.000000   \n",
      "75%    1776.750000     7.000000  2000.000000  1298.250000     2.000000   \n",
      "max    5642.000000    10.000000  2010.000000  6110.000000     3.000000   \n",
      "\n",
      "        GarageCars      SalePrice  \n",
      "count  1460.000000    1460.000000  \n",
      "mean      1.767123  180921.195890  \n",
      "std       0.747315   79442.502883  \n",
      "min       0.000000   34900.000000  \n",
      "25%       1.000000  129975.000000  \n",
      "50%       2.000000  163000.000000  \n",
      "75%       2.000000  214000.000000  \n",
      "max       4.000000  755000.000000  \n"
     ]
    }
   ],
   "source": [
    "# Cargar el dataset Ames Housing desde OpenML\n",
    "housing = fetch_openml(name=\"house_prices\", as_frame=True)\n",
    "df = housing.frame\n",
    "\n",
    "# Seleccionamos un subconjunto de características numéricas para simplificar el taller\n",
    "# y la variable objetivo 'SalePrice'\n",
    "numeric_features = ['GrLivArea', 'OverallQual', 'YearBuilt', 'TotalBsmtSF', 'FullBath', 'GarageCars']\n",
    "aditional_features=['LotFrontage','LotArea']\n",
    "target_variable = 'SalePrice'\n",
    "\n",
    "# Creamos un DataFrame más pequeño y manejamos valores faltantes de forma simple\n",
    "df_subset = df[numeric_features + [target_variable]].dropna()\n",
    "\n",
    "print(f\"\\nDimensiones del subconjunto de datos: {df_subset.shape}\")\n",
    "print(\"\\nDescripción estadística del subconjunto:\")\n",
    "print(df_subset.describe())"
   ]
  },
  {
   "cell_type": "markdown",
   "id": "5a1849ce",
   "metadata": {},
   "source": []
  },
  {
   "cell_type": "markdown",
   "id": "PKgRKIIDCn2P",
   "metadata": {
    "id": "PKgRKIIDCn2P"
   },
   "source": [
    "<p>Ahora, visualicemos la distribución de nuestra variable objetivo y la relación entre el área de la vivienda y su precio. La distribución de precios está sesgada, por lo que una transformación logarítmica será útil.</p>"
   ]
  },
  {
   "cell_type": "code",
   "execution_count": 4,
   "id": "-sj-Mr1JCn2P",
   "metadata": {
    "id": "-sj-Mr1JCn2P"
   },
   "outputs": [
    {
     "data": {
      "application/vnd.plotly.v1+json": {
       "config": {
        "plotlyServerURL": "https://plot.ly"
       },
       "data": [
        {
         "bingroup": "x",
         "hovertemplate": "SalePrice=%{x}<br>count=%{y}<extra></extra>",
         "legendgroup": "",
         "marker": {
          "color": "#636efa",
          "pattern": {
           "shape": ""
          }
         },
         "name": "",
         "nbinsx": 50,
         "orientation": "v",
         "showlegend": false,
         "type": "histogram",
         "x": {
          "bdata": "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",
          "dtype": "i4"
         },
         "xaxis": "x",
         "yaxis": "y"
        }
       ],
       "layout": {
        "barmode": "relative",
        "legend": {
         "tracegroupgap": 0
        },
        "template": {
         "data": {
          "bar": [
           {
            "error_x": {
             "color": "#2a3f5f"
            },
            "error_y": {
             "color": "#2a3f5f"
            },
            "marker": {
             "line": {
              "color": "#E5ECF6",
              "width": 0.5
             },
             "pattern": {
              "fillmode": "overlay",
              "size": 10,
              "solidity": 0.2
             }
            },
            "type": "bar"
           }
          ],
          "barpolar": [
           {
            "marker": {
             "line": {
              "color": "#E5ECF6",
              "width": 0.5
             },
             "pattern": {
              "fillmode": "overlay",
              "size": 10,
              "solidity": 0.2
             }
            },
            "type": "barpolar"
           }
          ],
          "carpet": [
           {
            "aaxis": {
             "endlinecolor": "#2a3f5f",
             "gridcolor": "white",
             "linecolor": "white",
             "minorgridcolor": "white",
             "startlinecolor": "#2a3f5f"
            },
            "baxis": {
             "endlinecolor": "#2a3f5f",
             "gridcolor": "white",
             "linecolor": "white",
             "minorgridcolor": "white",
             "startlinecolor": "#2a3f5f"
            },
            "type": "carpet"
           }
          ],
          "choropleth": [
           {
            "colorbar": {
             "outlinewidth": 0,
             "ticks": ""
            },
            "type": "choropleth"
           }
          ],
          "contour": [
           {
            "colorbar": {
             "outlinewidth": 0,
             "ticks": ""
            },
            "colorscale": [
             [
              0,
              "#0d0887"
             ],
             [
              0.1111111111111111,
              "#46039f"
             ],
             [
              0.2222222222222222,
              "#7201a8"
             ],
             [
              0.3333333333333333,
              "#9c179e"
             ],
             [
              0.4444444444444444,
              "#bd3786"
             ],
             [
              0.5555555555555556,
              "#d8576b"
             ],
             [
              0.6666666666666666,
              "#ed7953"
             ],
             [
              0.7777777777777778,
              "#fb9f3a"
             ],
             [
              0.8888888888888888,
              "#fdca26"
             ],
             [
              1,
              "#f0f921"
             ]
            ],
            "type": "contour"
           }
          ],
          "contourcarpet": [
           {
            "colorbar": {
             "outlinewidth": 0,
             "ticks": ""
            },
            "type": "contourcarpet"
           }
          ],
          "heatmap": [
           {
            "colorbar": {
             "outlinewidth": 0,
             "ticks": ""
            },
            "colorscale": [
             [
              0,
              "#0d0887"
             ],
             [
              0.1111111111111111,
              "#46039f"
             ],
             [
              0.2222222222222222,
              "#7201a8"
             ],
             [
              0.3333333333333333,
              "#9c179e"
             ],
             [
              0.4444444444444444,
              "#bd3786"
             ],
             [
              0.5555555555555556,
              "#d8576b"
             ],
             [
              0.6666666666666666,
              "#ed7953"
             ],
             [
              0.7777777777777778,
              "#fb9f3a"
             ],
             [
              0.8888888888888888,
              "#fdca26"
             ],
             [
              1,
              "#f0f921"
             ]
            ],
            "type": "heatmap"
           }
          ],
          "histogram": [
           {
            "marker": {
             "pattern": {
              "fillmode": "overlay",
              "size": 10,
              "solidity": 0.2
             }
            },
            "type": "histogram"
           }
          ],
          "histogram2d": [
           {
            "colorbar": {
             "outlinewidth": 0,
             "ticks": ""
            },
            "colorscale": [
             [
              0,
              "#0d0887"
             ],
             [
              0.1111111111111111,
              "#46039f"
             ],
             [
              0.2222222222222222,
              "#7201a8"
             ],
             [
              0.3333333333333333,
              "#9c179e"
             ],
             [
              0.4444444444444444,
              "#bd3786"
             ],
             [
              0.5555555555555556,
              "#d8576b"
             ],
             [
              0.6666666666666666,
              "#ed7953"
             ],
             [
              0.7777777777777778,
              "#fb9f3a"
             ],
             [
              0.8888888888888888,
              "#fdca26"
             ],
             [
              1,
              "#f0f921"
             ]
            ],
            "type": "histogram2d"
           }
          ],
          "histogram2dcontour": [
           {
            "colorbar": {
             "outlinewidth": 0,
             "ticks": ""
            },
            "colorscale": [
             [
              0,
              "#0d0887"
             ],
             [
              0.1111111111111111,
              "#46039f"
             ],
             [
              0.2222222222222222,
              "#7201a8"
             ],
             [
              0.3333333333333333,
              "#9c179e"
             ],
             [
              0.4444444444444444,
              "#bd3786"
             ],
             [
              0.5555555555555556,
              "#d8576b"
             ],
             [
              0.6666666666666666,
              "#ed7953"
             ],
             [
              0.7777777777777778,
              "#fb9f3a"
             ],
             [
              0.8888888888888888,
              "#fdca26"
             ],
             [
              1,
              "#f0f921"
             ]
            ],
            "type": "histogram2dcontour"
           }
          ],
          "mesh3d": [
           {
            "colorbar": {
             "outlinewidth": 0,
             "ticks": ""
            },
            "type": "mesh3d"
           }
          ],
          "parcoords": [
           {
            "line": {
             "colorbar": {
              "outlinewidth": 0,
              "ticks": ""
             }
            },
            "type": "parcoords"
           }
          ],
          "pie": [
           {
            "automargin": true,
            "type": "pie"
           }
          ],
          "scatter": [
           {
            "fillpattern": {
             "fillmode": "overlay",
             "size": 10,
             "solidity": 0.2
            },
            "type": "scatter"
           }
          ],
          "scatter3d": [
           {
            "line": {
             "colorbar": {
              "outlinewidth": 0,
              "ticks": ""
             }
            },
            "marker": {
             "colorbar": {
              "outlinewidth": 0,
              "ticks": ""
             }
            },
            "type": "scatter3d"
           }
          ],
          "scattercarpet": [
           {
            "marker": {
             "colorbar": {
              "outlinewidth": 0,
              "ticks": ""
             }
            },
            "type": "scattercarpet"
           }
          ],
          "scattergeo": [
           {
            "marker": {
             "colorbar": {
              "outlinewidth": 0,
              "ticks": ""
             }
            },
            "type": "scattergeo"
           }
          ],
          "scattergl": [
           {
            "marker": {
             "colorbar": {
              "outlinewidth": 0,
              "ticks": ""
             }
            },
            "type": "scattergl"
           }
          ],
          "scattermap": [
           {
            "marker": {
             "colorbar": {
              "outlinewidth": 0,
              "ticks": ""
             }
            },
            "type": "scattermap"
           }
          ],
          "scattermapbox": [
           {
            "marker": {
             "colorbar": {
              "outlinewidth": 0,
              "ticks": ""
             }
            },
            "type": "scattermapbox"
           }
          ],
          "scatterpolar": [
           {
            "marker": {
             "colorbar": {
              "outlinewidth": 0,
              "ticks": ""
             }
            },
            "type": "scatterpolar"
           }
          ],
          "scatterpolargl": [
           {
            "marker": {
             "colorbar": {
              "outlinewidth": 0,
              "ticks": ""
             }
            },
            "type": "scatterpolargl"
           }
          ],
          "scatterternary": [
           {
            "marker": {
             "colorbar": {
              "outlinewidth": 0,
              "ticks": ""
             }
            },
            "type": "scatterternary"
           }
          ],
          "surface": [
           {
            "colorbar": {
             "outlinewidth": 0,
             "ticks": ""
            },
            "colorscale": [
             [
              0,
              "#0d0887"
             ],
             [
              0.1111111111111111,
              "#46039f"
             ],
             [
              0.2222222222222222,
              "#7201a8"
             ],
             [
              0.3333333333333333,
              "#9c179e"
             ],
             [
              0.4444444444444444,
              "#bd3786"
             ],
             [
              0.5555555555555556,
              "#d8576b"
             ],
             [
              0.6666666666666666,
              "#ed7953"
             ],
             [
              0.7777777777777778,
              "#fb9f3a"
             ],
             [
              0.8888888888888888,
              "#fdca26"
             ],
             [
              1,
              "#f0f921"
             ]
            ],
            "type": "surface"
           }
          ],
          "table": [
           {
            "cells": {
             "fill": {
              "color": "#EBF0F8"
             },
             "line": {
              "color": "white"
             }
            },
            "header": {
             "fill": {
              "color": "#C8D4E3"
             },
             "line": {
              "color": "white"
             }
            },
            "type": "table"
           }
          ]
         },
         "layout": {
          "annotationdefaults": {
           "arrowcolor": "#2a3f5f",
           "arrowhead": 0,
           "arrowwidth": 1
          },
          "autotypenumbers": "strict",
          "coloraxis": {
           "colorbar": {
            "outlinewidth": 0,
            "ticks": ""
           }
          },
          "colorscale": {
           "diverging": [
            [
             0,
             "#8e0152"
            ],
            [
             0.1,
             "#c51b7d"
            ],
            [
             0.2,
             "#de77ae"
            ],
            [
             0.3,
             "#f1b6da"
            ],
            [
             0.4,
             "#fde0ef"
            ],
            [
             0.5,
             "#f7f7f7"
            ],
            [
             0.6,
             "#e6f5d0"
            ],
            [
             0.7,
             "#b8e186"
            ],
            [
             0.8,
             "#7fbc41"
            ],
            [
             0.9,
             "#4d9221"
            ],
            [
             1,
             "#276419"
            ]
           ],
           "sequential": [
            [
             0,
             "#0d0887"
            ],
            [
             0.1111111111111111,
             "#46039f"
            ],
            [
             0.2222222222222222,
             "#7201a8"
            ],
            [
             0.3333333333333333,
             "#9c179e"
            ],
            [
             0.4444444444444444,
             "#bd3786"
            ],
            [
             0.5555555555555556,
             "#d8576b"
            ],
            [
             0.6666666666666666,
             "#ed7953"
            ],
            [
             0.7777777777777778,
             "#fb9f3a"
            ],
            [
             0.8888888888888888,
             "#fdca26"
            ],
            [
             1,
             "#f0f921"
            ]
           ],
           "sequentialminus": [
            [
             0,
             "#0d0887"
            ],
            [
             0.1111111111111111,
             "#46039f"
            ],
            [
             0.2222222222222222,
             "#7201a8"
            ],
            [
             0.3333333333333333,
             "#9c179e"
            ],
            [
             0.4444444444444444,
             "#bd3786"
            ],
            [
             0.5555555555555556,
             "#d8576b"
            ],
            [
             0.6666666666666666,
             "#ed7953"
            ],
            [
             0.7777777777777778,
             "#fb9f3a"
            ],
            [
             0.8888888888888888,
             "#fdca26"
            ],
            [
             1,
             "#f0f921"
            ]
           ]
          },
          "colorway": [
           "#636efa",
           "#EF553B",
           "#00cc96",
           "#ab63fa",
           "#FFA15A",
           "#19d3f3",
           "#FF6692",
           "#B6E880",
           "#FF97FF",
           "#FECB52"
          ],
          "font": {
           "color": "#2a3f5f"
          },
          "geo": {
           "bgcolor": "white",
           "lakecolor": "white",
           "landcolor": "#E5ECF6",
           "showlakes": true,
           "showland": true,
           "subunitcolor": "white"
          },
          "hoverlabel": {
           "align": "left"
          },
          "hovermode": "closest",
          "mapbox": {
           "style": "light"
          },
          "paper_bgcolor": "white",
          "plot_bgcolor": "#E5ECF6",
          "polar": {
           "angularaxis": {
            "gridcolor": "white",
            "linecolor": "white",
            "ticks": ""
           },
           "bgcolor": "#E5ECF6",
           "radialaxis": {
            "gridcolor": "white",
            "linecolor": "white",
            "ticks": ""
           }
          },
          "scene": {
           "xaxis": {
            "backgroundcolor": "#E5ECF6",
            "gridcolor": "white",
            "gridwidth": 2,
            "linecolor": "white",
            "showbackground": true,
            "ticks": "",
            "zerolinecolor": "white"
           },
           "yaxis": {
            "backgroundcolor": "#E5ECF6",
            "gridcolor": "white",
            "gridwidth": 2,
            "linecolor": "white",
            "showbackground": true,
            "ticks": "",
            "zerolinecolor": "white"
           },
           "zaxis": {
            "backgroundcolor": "#E5ECF6",
            "gridcolor": "white",
            "gridwidth": 2,
            "linecolor": "white",
            "showbackground": true,
            "ticks": "",
            "zerolinecolor": "white"
           }
          },
          "shapedefaults": {
           "line": {
            "color": "#2a3f5f"
           }
          },
          "ternary": {
           "aaxis": {
            "gridcolor": "white",
            "linecolor": "white",
            "ticks": ""
           },
           "baxis": {
            "gridcolor": "white",
            "linecolor": "white",
            "ticks": ""
           },
           "bgcolor": "#E5ECF6",
           "caxis": {
            "gridcolor": "white",
            "linecolor": "white",
            "ticks": ""
           }
          },
          "title": {
           "x": 0.05
          },
          "xaxis": {
           "automargin": true,
           "gridcolor": "white",
           "linecolor": "white",
           "ticks": "",
           "title": {
            "standoff": 15
           },
           "zerolinecolor": "white",
           "zerolinewidth": 2
          },
          "yaxis": {
           "automargin": true,
           "gridcolor": "white",
           "linecolor": "white",
           "ticks": "",
           "title": {
            "standoff": 15
           },
           "zerolinecolor": "white",
           "zerolinewidth": 2
          }
         }
        },
        "title": {
         "text": "Distribución del Precio de Venta de las Casas (Original)"
        },
        "xaxis": {
         "anchor": "y",
         "domain": [
          0,
          1
         ],
         "title": {
          "text": "Precio de Venta (USD)"
         }
        },
        "yaxis": {
         "anchor": "x",
         "domain": [
          0,
          1
         ],
         "title": {
          "text": "Frecuencia"
         }
        }
       }
      }
     },
     "metadata": {},
     "output_type": "display_data"
    },
    {
     "data": {
      "application/vnd.plotly.v1+json": {
       "config": {
        "plotlyServerURL": "https://plot.ly"
       },
       "data": [
        {
         "bingroup": "x",
         "hovertemplate": "x=%{x}<br>count=%{y}<extra></extra>",
         "legendgroup": "",
         "marker": {
          "color": "#636efa",
          "pattern": {
           "shape": ""
          }
         },
         "name": "",
         "nbinsx": 50,
         "orientation": "v",
         "showlegend": false,
         "type": "histogram",
         "x": {
          "bdata": "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",
          "dtype": "f8"
         },
         "xaxis": "x",
         "yaxis": "y"
        }
       ],
       "layout": {
        "barmode": "relative",
        "legend": {
         "tracegroupgap": 0
        },
        "template": {
         "data": {
          "bar": [
           {
            "error_x": {
             "color": "#2a3f5f"
            },
            "error_y": {
             "color": "#2a3f5f"
            },
            "marker": {
             "line": {
              "color": "#E5ECF6",
              "width": 0.5
             },
             "pattern": {
              "fillmode": "overlay",
              "size": 10,
              "solidity": 0.2
             }
            },
            "type": "bar"
           }
          ],
          "barpolar": [
           {
            "marker": {
             "line": {
              "color": "#E5ECF6",
              "width": 0.5
             },
             "pattern": {
              "fillmode": "overlay",
              "size": 10,
              "solidity": 0.2
             }
            },
            "type": "barpolar"
           }
          ],
          "carpet": [
           {
            "aaxis": {
             "endlinecolor": "#2a3f5f",
             "gridcolor": "white",
             "linecolor": "white",
             "minorgridcolor": "white",
             "startlinecolor": "#2a3f5f"
            },
            "baxis": {
             "endlinecolor": "#2a3f5f",
             "gridcolor": "white",
             "linecolor": "white",
             "minorgridcolor": "white",
             "startlinecolor": "#2a3f5f"
            },
            "type": "carpet"
           }
          ],
          "choropleth": [
           {
            "colorbar": {
             "outlinewidth": 0,
             "ticks": ""
            },
            "type": "choropleth"
           }
          ],
          "contour": [
           {
            "colorbar": {
             "outlinewidth": 0,
             "ticks": ""
            },
            "colorscale": [
             [
              0,
              "#0d0887"
             ],
             [
              0.1111111111111111,
              "#46039f"
             ],
             [
              0.2222222222222222,
              "#7201a8"
             ],
             [
              0.3333333333333333,
              "#9c179e"
             ],
             [
              0.4444444444444444,
              "#bd3786"
             ],
             [
              0.5555555555555556,
              "#d8576b"
             ],
             [
              0.6666666666666666,
              "#ed7953"
             ],
             [
              0.7777777777777778,
              "#fb9f3a"
             ],
             [
              0.8888888888888888,
              "#fdca26"
             ],
             [
              1,
              "#f0f921"
             ]
            ],
            "type": "contour"
           }
          ],
          "contourcarpet": [
           {
            "colorbar": {
             "outlinewidth": 0,
             "ticks": ""
            },
            "type": "contourcarpet"
           }
          ],
          "heatmap": [
           {
            "colorbar": {
             "outlinewidth": 0,
             "ticks": ""
            },
            "colorscale": [
             [
              0,
              "#0d0887"
             ],
             [
              0.1111111111111111,
              "#46039f"
             ],
             [
              0.2222222222222222,
              "#7201a8"
             ],
             [
              0.3333333333333333,
              "#9c179e"
             ],
             [
              0.4444444444444444,
              "#bd3786"
             ],
             [
              0.5555555555555556,
              "#d8576b"
             ],
             [
              0.6666666666666666,
              "#ed7953"
             ],
             [
              0.7777777777777778,
              "#fb9f3a"
             ],
             [
              0.8888888888888888,
              "#fdca26"
             ],
             [
              1,
              "#f0f921"
             ]
            ],
            "type": "heatmap"
           }
          ],
          "histogram": [
           {
            "marker": {
             "pattern": {
              "fillmode": "overlay",
              "size": 10,
              "solidity": 0.2
             }
            },
            "type": "histogram"
           }
          ],
          "histogram2d": [
           {
            "colorbar": {
             "outlinewidth": 0,
             "ticks": ""
            },
            "colorscale": [
             [
              0,
              "#0d0887"
             ],
             [
              0.1111111111111111,
              "#46039f"
             ],
             [
              0.2222222222222222,
              "#7201a8"
             ],
             [
              0.3333333333333333,
              "#9c179e"
             ],
             [
              0.4444444444444444,
              "#bd3786"
             ],
             [
              0.5555555555555556,
              "#d8576b"
             ],
             [
              0.6666666666666666,
              "#ed7953"
             ],
             [
              0.7777777777777778,
              "#fb9f3a"
             ],
             [
              0.8888888888888888,
              "#fdca26"
             ],
             [
              1,
              "#f0f921"
             ]
            ],
            "type": "histogram2d"
           }
          ],
          "histogram2dcontour": [
           {
            "colorbar": {
             "outlinewidth": 0,
             "ticks": ""
            },
            "colorscale": [
             [
              0,
              "#0d0887"
             ],
             [
              0.1111111111111111,
              "#46039f"
             ],
             [
              0.2222222222222222,
              "#7201a8"
             ],
             [
              0.3333333333333333,
              "#9c179e"
             ],
             [
              0.4444444444444444,
              "#bd3786"
             ],
             [
              0.5555555555555556,
              "#d8576b"
             ],
             [
              0.6666666666666666,
              "#ed7953"
             ],
             [
              0.7777777777777778,
              "#fb9f3a"
             ],
             [
              0.8888888888888888,
              "#fdca26"
             ],
             [
              1,
              "#f0f921"
             ]
            ],
            "type": "histogram2dcontour"
           }
          ],
          "mesh3d": [
           {
            "colorbar": {
             "outlinewidth": 0,
             "ticks": ""
            },
            "type": "mesh3d"
           }
          ],
          "parcoords": [
           {
            "line": {
             "colorbar": {
              "outlinewidth": 0,
              "ticks": ""
             }
            },
            "type": "parcoords"
           }
          ],
          "pie": [
           {
            "automargin": true,
            "type": "pie"
           }
          ],
          "scatter": [
           {
            "fillpattern": {
             "fillmode": "overlay",
             "size": 10,
             "solidity": 0.2
            },
            "type": "scatter"
           }
          ],
          "scatter3d": [
           {
            "line": {
             "colorbar": {
              "outlinewidth": 0,
              "ticks": ""
             }
            },
            "marker": {
             "colorbar": {
              "outlinewidth": 0,
              "ticks": ""
             }
            },
            "type": "scatter3d"
           }
          ],
          "scattercarpet": [
           {
            "marker": {
             "colorbar": {
              "outlinewidth": 0,
              "ticks": ""
             }
            },
            "type": "scattercarpet"
           }
          ],
          "scattergeo": [
           {
            "marker": {
             "colorbar": {
              "outlinewidth": 0,
              "ticks": ""
             }
            },
            "type": "scattergeo"
           }
          ],
          "scattergl": [
           {
            "marker": {
             "colorbar": {
              "outlinewidth": 0,
              "ticks": ""
             }
            },
            "type": "scattergl"
           }
          ],
          "scattermap": [
           {
            "marker": {
             "colorbar": {
              "outlinewidth": 0,
              "ticks": ""
             }
            },
            "type": "scattermap"
           }
          ],
          "scattermapbox": [
           {
            "marker": {
             "colorbar": {
              "outlinewidth": 0,
              "ticks": ""
             }
            },
            "type": "scattermapbox"
           }
          ],
          "scatterpolar": [
           {
            "marker": {
             "colorbar": {
              "outlinewidth": 0,
              "ticks": ""
             }
            },
            "type": "scatterpolar"
           }
          ],
          "scatterpolargl": [
           {
            "marker": {
             "colorbar": {
              "outlinewidth": 0,
              "ticks": ""
             }
            },
            "type": "scatterpolargl"
           }
          ],
          "scatterternary": [
           {
            "marker": {
             "colorbar": {
              "outlinewidth": 0,
              "ticks": ""
             }
            },
            "type": "scatterternary"
           }
          ],
          "surface": [
           {
            "colorbar": {
             "outlinewidth": 0,
             "ticks": ""
            },
            "colorscale": [
             [
              0,
              "#0d0887"
             ],
             [
              0.1111111111111111,
              "#46039f"
             ],
             [
              0.2222222222222222,
              "#7201a8"
             ],
             [
              0.3333333333333333,
              "#9c179e"
             ],
             [
              0.4444444444444444,
              "#bd3786"
             ],
             [
              0.5555555555555556,
              "#d8576b"
             ],
             [
              0.6666666666666666,
              "#ed7953"
             ],
             [
              0.7777777777777778,
              "#fb9f3a"
             ],
             [
              0.8888888888888888,
              "#fdca26"
             ],
             [
              1,
              "#f0f921"
             ]
            ],
            "type": "surface"
           }
          ],
          "table": [
           {
            "cells": {
             "fill": {
              "color": "#EBF0F8"
             },
             "line": {
              "color": "white"
             }
            },
            "header": {
             "fill": {
              "color": "#C8D4E3"
             },
             "line": {
              "color": "white"
             }
            },
            "type": "table"
           }
          ]
         },
         "layout": {
          "annotationdefaults": {
           "arrowcolor": "#2a3f5f",
           "arrowhead": 0,
           "arrowwidth": 1
          },
          "autotypenumbers": "strict",
          "coloraxis": {
           "colorbar": {
            "outlinewidth": 0,
            "ticks": ""
           }
          },
          "colorscale": {
           "diverging": [
            [
             0,
             "#8e0152"
            ],
            [
             0.1,
             "#c51b7d"
            ],
            [
             0.2,
             "#de77ae"
            ],
            [
             0.3,
             "#f1b6da"
            ],
            [
             0.4,
             "#fde0ef"
            ],
            [
             0.5,
             "#f7f7f7"
            ],
            [
             0.6,
             "#e6f5d0"
            ],
            [
             0.7,
             "#b8e186"
            ],
            [
             0.8,
             "#7fbc41"
            ],
            [
             0.9,
             "#4d9221"
            ],
            [
             1,
             "#276419"
            ]
           ],
           "sequential": [
            [
             0,
             "#0d0887"
            ],
            [
             0.1111111111111111,
             "#46039f"
            ],
            [
             0.2222222222222222,
             "#7201a8"
            ],
            [
             0.3333333333333333,
             "#9c179e"
            ],
            [
             0.4444444444444444,
             "#bd3786"
            ],
            [
             0.5555555555555556,
             "#d8576b"
            ],
            [
             0.6666666666666666,
             "#ed7953"
            ],
            [
             0.7777777777777778,
             "#fb9f3a"
            ],
            [
             0.8888888888888888,
             "#fdca26"
            ],
            [
             1,
             "#f0f921"
            ]
           ],
           "sequentialminus": [
            [
             0,
             "#0d0887"
            ],
            [
             0.1111111111111111,
             "#46039f"
            ],
            [
             0.2222222222222222,
             "#7201a8"
            ],
            [
             0.3333333333333333,
             "#9c179e"
            ],
            [
             0.4444444444444444,
             "#bd3786"
            ],
            [
             0.5555555555555556,
             "#d8576b"
            ],
            [
             0.6666666666666666,
             "#ed7953"
            ],
            [
             0.7777777777777778,
             "#fb9f3a"
            ],
            [
             0.8888888888888888,
             "#fdca26"
            ],
            [
             1,
             "#f0f921"
            ]
           ]
          },
          "colorway": [
           "#636efa",
           "#EF553B",
           "#00cc96",
           "#ab63fa",
           "#FFA15A",
           "#19d3f3",
           "#FF6692",
           "#B6E880",
           "#FF97FF",
           "#FECB52"
          ],
          "font": {
           "color": "#2a3f5f"
          },
          "geo": {
           "bgcolor": "white",
           "lakecolor": "white",
           "landcolor": "#E5ECF6",
           "showlakes": true,
           "showland": true,
           "subunitcolor": "white"
          },
          "hoverlabel": {
           "align": "left"
          },
          "hovermode": "closest",
          "mapbox": {
           "style": "light"
          },
          "paper_bgcolor": "white",
          "plot_bgcolor": "#E5ECF6",
          "polar": {
           "angularaxis": {
            "gridcolor": "white",
            "linecolor": "white",
            "ticks": ""
           },
           "bgcolor": "#E5ECF6",
           "radialaxis": {
            "gridcolor": "white",
            "linecolor": "white",
            "ticks": ""
           }
          },
          "scene": {
           "xaxis": {
            "backgroundcolor": "#E5ECF6",
            "gridcolor": "white",
            "gridwidth": 2,
            "linecolor": "white",
            "showbackground": true,
            "ticks": "",
            "zerolinecolor": "white"
           },
           "yaxis": {
            "backgroundcolor": "#E5ECF6",
            "gridcolor": "white",
            "gridwidth": 2,
            "linecolor": "white",
            "showbackground": true,
            "ticks": "",
            "zerolinecolor": "white"
           },
           "zaxis": {
            "backgroundcolor": "#E5ECF6",
            "gridcolor": "white",
            "gridwidth": 2,
            "linecolor": "white",
            "showbackground": true,
            "ticks": "",
            "zerolinecolor": "white"
           }
          },
          "shapedefaults": {
           "line": {
            "color": "#2a3f5f"
           }
          },
          "ternary": {
           "aaxis": {
            "gridcolor": "white",
            "linecolor": "white",
            "ticks": ""
           },
           "baxis": {
            "gridcolor": "white",
            "linecolor": "white",
            "ticks": ""
           },
           "bgcolor": "#E5ECF6",
           "caxis": {
            "gridcolor": "white",
            "linecolor": "white",
            "ticks": ""
           }
          },
          "title": {
           "x": 0.05
          },
          "xaxis": {
           "automargin": true,
           "gridcolor": "white",
           "linecolor": "white",
           "ticks": "",
           "title": {
            "standoff": 15
           },
           "zerolinecolor": "white",
           "zerolinewidth": 2
          },
          "yaxis": {
           "automargin": true,
           "gridcolor": "white",
           "linecolor": "white",
           "ticks": "",
           "title": {
            "standoff": 15
           },
           "zerolinecolor": "white",
           "zerolinewidth": 2
          }
         }
        },
        "title": {
         "text": "Distribución del log(Precio de Venta)"
        },
        "xaxis": {
         "anchor": "y",
         "domain": [
          0,
          1
         ],
         "title": {
          "text": "log(1 + Precio de Venta)"
         }
        },
        "yaxis": {
         "anchor": "x",
         "domain": [
          0,
          1
         ],
         "title": {
          "text": "Frecuencia"
         }
        }
       }
      }
     },
     "metadata": {},
     "output_type": "display_data"
    }
   ],
   "source": [
    "# Histograma del Precio de Venta (SalePrice)\n",
    "fig_hist = px.histogram(df_subset, x='SalePrice', nbins=50, title='Distribución del Precio de Venta de las Casas (Original)')\n",
    "fig_hist.update_layout(xaxis_title='Precio de Venta (USD)', yaxis_title='Frecuencia')\n",
    "fig_hist.show()\n",
    "\n",
    "# Histograma del log(Precio de Venta)\n",
    "fig_hist_log = px.histogram(x=np.log1p(df_subset['SalePrice']), nbins=50, title='Distribución del log(Precio de Venta)')\n",
    "fig_hist_log.update_layout(xaxis_title='log(1 + Precio de Venta)', yaxis_title='Frecuencia')\n",
    "fig_hist_log.show()\n",
    "\n"
   ]
  },
  {
   "cell_type": "markdown",
   "id": "sQ7YA9fACn2P",
   "metadata": {
    "id": "sQ7YA9fACn2P"
   },
   "source": [
    "### 2. Preparación de Datos\n",
    "\n",
    "<p>Ahora aplicaremos los cambios necesarios: división de datos, transformación logarítmica del objetivo y escalado de características.</p>"
   ]
  },
  {
   "cell_type": "code",
   "execution_count": 5,
   "id": "mTa4Ct-uCn2P",
   "metadata": {
    "id": "mTa4Ct-uCn2P"
   },
   "outputs": [
    {
     "name": "stdout",
     "output_type": "stream",
     "text": [
      "Tamaño del set de entrenamiento: (1168, 6)\n",
      "Tamaño del set de prueba: (292, 6)\n"
     ]
    }
   ],
   "source": [
    "# 1. Definir características (X) y objetivo (y)\n",
    "X = df_subset[numeric_features]\n",
    "y_raw = df_subset[target_variable] # Guardamos el 'y' original para evaluación final\n",
    "\n",
    "# !! CAMBIO CLAVE !!\n",
    "# Aplicamos la transformación logarítmica a la variable objetivo 'y'\n",
    "# Esto estabiliza la varianza y normaliza la escala del problema.\n",
    "y = np.log1p(y_raw)\n",
    "\n",
    "# 2. Dividir en conjuntos de entrenamiento y prueba (80% entrenamiento, 20% prueba)\n",
    "X_train, X_test, y_train, y_test = train_test_split(X, y, test_size=0.2, random_state=42)\n",
    "\n",
    "print(f\"Tamaño del set de entrenamiento: {X_train.shape}\")\n",
    "print(f\"Tamaño del set de prueba: {X_test.shape}\")\n",
    "\n",
    "# 3. Escalar las características numéricas. (Normalizamos lo datos para que esten en el mismo rango)\n",
    "scaler = StandardScaler()\n",
    "\n",
    "# Ajustamos el escalador SOLO con los datos de entrenamiento para evitar fuga de datos (data leakage)\n",
    "X_train_scaled = scaler.fit_transform(X_train)  # el fit hace el aprendizaje\n",
    "# Aplicamos la misma transformación a los datos de prueba\n",
    "X_test_scaled = scaler.transform(X_test)  # usa el mismo aprendizaje que antes. \n",
    "\n",
    "# Convertimos los arrays de numpy de vuelta a DataFrames de pandas para mejor legibilidad\n",
    "X_train_scaled = pd.DataFrame(X_train_scaled, columns=numeric_features)\n",
    "X_test_scaled = pd.DataFrame(X_test_scaled, columns=numeric_features)\n",
    "\n"
   ]
  },
  {
   "cell_type": "markdown",
   "id": "49cdfd09",
   "metadata": {},
   "source": []
  },
  {
   "cell_type": "markdown",
   "id": "eb9265ae",
   "metadata": {},
   "source": [
    "# Transformación logarítmica de Y. (Pregunta)\n",
    "Aplicar logaritmo a Y deja una relación log-lin donde puede interprestarse como un cambio de una unidad en X genera un cambio de 100*b1% de Y. \n",
    "Aca no aplicamos log sino log1 y la interpretación no es trivial. Si Y>0 (que lo es para el precio de venta puede tener mas sentido)"
   ]
  },
  {
   "cell_type": "markdown",
   "id": "b3ebe28e",
   "metadata": {},
   "source": [
    "## Creación de matriz para comparar MAE vs MSE\n"
   ]
  },
  {
   "cell_type": "code",
   "execution_count": 6,
   "id": "8e4f4952",
   "metadata": {},
   "outputs": [],
   "source": [
    "mse_vs_mae=pd.DataFrame(None,index=['MSE','MAE'])\n"
   ]
  },
  {
   "cell_type": "markdown",
   "id": "mgyMAHyNCn2Q",
   "metadata": {
    "id": "mgyMAHyNCn2Q"
   },
   "source": [
    "### 3. Regresión Lineal (Mínimos Cuadrados Ordinarios)\n",
    "\n",
    "<p>Entrenamos nuestro modelo base con los datos transformados. El MSE será un número pequeño y manejable.</p>"
   ]
  },
  {
   "cell_type": "code",
   "execution_count": 7,
   "id": "QutSXzv6Cn2Q",
   "metadata": {
    "id": "QutSXzv6Cn2Q"
   },
   "outputs": [
    {
     "name": "stdout",
     "output_type": "stream",
     "text": [
      "--- Evaluación del Modelo de Regresión Lineal (OLS) ---\n",
      "Error Cuadrático Medio (MSE en escala log): 0.0303\n",
      "Error absoluto Medio (MAE en escala log): 0.1213\n",
      "Coeficiente de Determinación (R²): 0.8375\n",
      "\n",
      "Coeficientes del modelo OLS:\n",
      "             Coeficiente_OLS\n",
      "GrLivArea           0.126585\n",
      "OverallQual         0.138404\n",
      "YearBuilt           0.074407\n",
      "TotalBsmtSF         0.044540\n",
      "FullBath           -0.006889\n",
      "GarageCars          0.071504\n"
     ]
    }
   ],
   "source": [
    "# Crear y entrenar el modelo de Regresión Lineal\n",
    "ols_model = LinearRegression()\n",
    "ols_model.fit(X_train_scaled, y_train)\n",
    "\n",
    "# Realizar predicciones en el conjunto de prueba (las predicciones estarán en escala logarítmica)\n",
    "y_pred_ols = ols_model.predict(X_test_scaled)\n",
    "\n",
    "# Evaluar el modelo\n",
    "mse_ols = mean_squared_error(y_test, y_pred_ols)\n",
    "mae_ols=mean_absolute_error(y_test,y_pred_ols)\n",
    "mse_mae_ols=[mse_ols,mae_ols]\n",
    "mse_vs_mae['OLS']=mse_mae_ols\n",
    "r2_ols = r2_score(y_test, y_pred_ols)\n",
    "\n",
    "print(\"--- Evaluación del Modelo de Regresión Lineal (OLS) ---\")\n",
    "print(f\"Error Cuadrático Medio (MSE en escala log): {mse_ols:.4f}\")\n",
    "print(f\"Error absoluto Medio (MAE en escala log): {mae_ols:.4f}\")\n",
    "\n",
    "print(f\"Coeficiente de Determinación (R²): {r2_ols:.4f}\")\n",
    "\n",
    "# Ver los coeficientes del modelo\n",
    "coef_df = pd.DataFrame(ols_model.coef_, index=numeric_features, columns=['Coeficiente_OLS'])\n",
    "print(\"\\nCoeficientes del modelo OLS:\")\n",
    "print(coef_df)\n",
    "\n",
    "\n"
   ]
  },
  {
   "cell_type": "markdown",
   "id": "c0e1f895",
   "metadata": {},
   "source": [
    "### Como el MAE da mas alto que el MSE grafico los errores para ver por donde andan. Lo que se espera encontrar son valores menos a 0.X lo que justificaría que el cuadrado de los errores (MSE)< MAE"
   ]
  },
  {
   "cell_type": "code",
   "execution_count": 8,
   "id": "7a86cc27",
   "metadata": {},
   "outputs": [
    {
     "data": {
      "image/png": "[encoded data removed]",
      "text/plain": [
       "<Figure size 800x400 with 1 Axes>"
      ]
     },
     "metadata": {},
     "output_type": "display_data"
    }
   ],
   "source": [
    "\n",
    "errores=y_test-y_pred_ols\n",
    "errores_cuadraticos_ols=(errores)**2\n",
    "errores_absolutos_ols=np.abs(errores)\n",
    "# Gráfico\n",
    "fig, ax = plt.subplots(figsize=(8, 4))\n",
    "x = np.arange(len(y_test))\n",
    "\n",
    "bar_width = 1\n",
    "ax.bar(x - bar_width/2, errores_absolutos_ols, width=bar_width, label='|Error| (para MAE)', color='skyblue')\n",
    "ax.bar(x + bar_width/2, errores_cuadraticos_ols, width=bar_width, label='Error² (para MSE)', color='red')\n",
    "\n",
    "# Títulos y etiquetas\n",
    "ax.set_xticks(x)\n",
    "ax.set_xticklabels([f'Obs {i+1}' for i in x])\n",
    "ax.set_ylabel('Valor del error')\n",
    "ax.set_title(f'MAE = {mae_ols:.4f} vs MSE = {mse_ols:.4f}')\n",
    "ax.legend()\n",
    "plt.tight_layout()\n",
    "plt.show()"
   ]
  },
  {
   "cell_type": "markdown",
   "id": "CRQlbm0CCn2Q",
   "metadata": {
    "id": "CRQlbm0CCn2Q"
   },
   "source": [
    "### 4. Regresión con Regularización: Ridge (L2) y Lasso (L1)\n",
    "\n",
    "<p>Con el objetivo ya transformado, ahora `alpha` tendrá el efecto esperado. Usaremos un valor pequeño para ver el contraste.</p>"
   ]
  },
  {
   "cell_type": "code",
   "execution_count": 9,
   "id": "_gJ__IM-Cn2Q",
   "metadata": {
    "id": "_gJ__IM-Cn2Q"
   },
   "outputs": [
    {
     "name": "stdout",
     "output_type": "stream",
     "text": [
      "--- Evaluación del Modelo Ridge (alpha=100.) ---\n",
      "Error Cuadrático Medio (MSE en escala log): 0.0310\n",
      "Coeficiente de Determinación (R²): 0.8340\n",
      "\n",
      "--- Evaluación del Modelo Lasso (alpha=0.1) ---\n",
      "Error Cuadrático Medio (MSE en escala log): 0.0579\n",
      "Coeficiente de Determinación (R²): 0.6895\n",
      "\n",
      "--- Comparación de Coeficientes ---\n",
      "             Coeficiente_OLS  Coef_Ridge_alpha100  Coef_Lasso_alpha0.1\n",
      "GrLivArea             0.1266               0.1120               0.0567\n",
      "OverallQual           0.1384               0.1285               0.1479\n",
      "YearBuilt             0.0744               0.0673               0.0050\n",
      "TotalBsmtSF           0.0445               0.0499               0.0060\n",
      "FullBath             -0.0069               0.0080               0.0000\n",
      "GarageCars            0.0715               0.0723               0.0486\n"
     ]
    }
   ],
   "source": [
    "# --- Ridge Regression (L2) ---\n",
    "ridge_model = Ridge(alpha=100.) # Alpha grande\n",
    "ridge_model.fit(X_train_scaled, y_train)\n",
    "y_pred_ridge = ridge_model.predict(X_test_scaled)\n",
    "\n",
    "mse_ridge = mean_squared_error(y_test, y_pred_ridge)\n",
    "r2_ridge = r2_score(y_test, y_pred_ridge)\n",
    "\n",
    "print(\"--- Evaluación del Modelo Ridge (alpha=100.) ---\")\n",
    "print(f\"Error Cuadrático Medio (MSE en escala log): {mse_ridge:.4f}\")\n",
    "print(f\"Coeficiente de Determinación (R²): {r2_ridge:.4f}\")\n",
    "\n",
    "# --- Lasso Regression (L1) ---\n",
    "lasso_model = Lasso(alpha=0.1) # Alpha pequeño\n",
    "lasso_model.fit(X_train_scaled, y_train)\n",
    "y_pred_lasso = lasso_model.predict(X_test_scaled)\n",
    "\n",
    "mse_lasso = mean_squared_error(y_test, y_pred_lasso)\n",
    "r2_lasso = r2_score(y_test, y_pred_lasso)\n",
    "\n",
    "print(\"\\n--- Evaluación del Modelo Lasso (alpha=0.1) ---\")\n",
    "print(f\"Error Cuadrático Medio (MSE en escala log): {mse_lasso:.4f}\")\n",
    "print(f\"Coeficiente de Determinación (R²): {r2_lasso:.4f}\")\n",
    "\n",
    "# Comparar coeficientes\n",
    "\n",
    "coef_df['Coef_Ridge_alpha100'] = ridge_model.coef_\n",
    "coef_df['Coef_Lasso_alpha0.1'] = lasso_model.coef_\n",
    "print(\"\\n--- Comparación de Coeficientes ---\")\n",
    "print(coef_df.round(4))"
   ]
  },
  {
   "cell_type": "markdown",
   "id": "MflacAq2Cn2Q",
   "metadata": {
    "id": "MflacAq2Cn2Q"
   },
   "source": [
    "<p>¡Ahora sí! Observa cómo los coeficientes de Ridge son sistemáticamente más pequeños (encogidos) que los de OLS. Y más importante, mira los coeficientes de Lasso: con un `alpha` de solo 0.1, ¡ya ha reducido el coeficiente de `FullBath` casi a cero, demostrando su poder de selección de características!</p>"
   ]
  },
  {
   "cell_type": "markdown",
   "id": "lpR5Xe_RCn2Q",
   "metadata": {
    "id": "lpR5Xe_RCn2Q"
   },
   "source": [
    "### 5. Selección de Hiperparámetros con Validación Cruzada\n",
    "\n",
    "<p>Finalmente, usamos `RidgeCV` y `LassoCV` para encontrar el `alpha` óptimo de manera automática.</p>"
   ]
  },
  {
   "cell_type": "code",
   "execution_count": 10,
   "id": "OBVzAKiECn2R",
   "metadata": {
    "id": "OBVzAKiECn2R"
   },
   "outputs": [
    {
     "name": "stdout",
     "output_type": "stream",
     "text": [
      "--- Búsqueda del mejor Alpha para Ridge ---\n",
      "Mejor alpha encontrado para Ridge: 86.9749\n",
      "MSE de Ridge con CV: 0.0309\n",
      "R² de Ridge con CV: 0.8346\n",
      "\n",
      "--- Búsqueda del mejor Alpha para Lasso ---\n",
      "Mejor alpha encontrado para Lasso: 0.0043\n",
      "MSE de Lasso con CV: 0.0307\n",
      "R² de Lasso con CV: 0.8357\n",
      "\n",
      "--- Comparación Final de Coeficientes ---\n",
      "             Coeficiente_OLS  Coef_Ridge_alpha100  Coef_Lasso_alpha0.1  \\\n",
      "GrLivArea             0.1266               0.1120               0.0567   \n",
      "OverallQual           0.1384               0.1285               0.1479   \n",
      "YearBuilt             0.0744               0.0673               0.0050   \n",
      "TotalBsmtSF           0.0445               0.0499               0.0060   \n",
      "FullBath             -0.0069               0.0080               0.0000   \n",
      "GarageCars            0.0715               0.0723               0.0486   \n",
      "\n",
      "             Coef_Ridge_CV  Coef_Lasso_CV  \n",
      "GrLivArea           0.1135         0.1199  \n",
      "OverallQual         0.1297         0.1385  \n",
      "YearBuilt           0.0680         0.0690  \n",
      "TotalBsmtSF         0.0494         0.0437  \n",
      "FullBath            0.0065         0.0000  \n",
      "GarageCars          0.0723         0.0702  \n"
     ]
    }
   ],
   "source": [
    "# Definir un rango de alphas para probar\n",
    "alphas = np.logspace(-4, 2, 100)\n",
    "\n",
    "# --- RidgeCV ---\n",
    "ridge_cv = RidgeCV(alphas=alphas, store_cv_results=True)\n",
    "ridge_cv.fit(X_train_scaled, y_train)\n",
    "\n",
    "print(\"--- Búsqueda del mejor Alpha para Ridge ---\")\n",
    "print(f\"Mejor alpha encontrado para Ridge: {ridge_cv.alpha_:.4f}\")\n",
    "\n",
    "# Evaluar el modelo Ridge final con el mejor alpha\n",
    "y_pred_ridge_cv = ridge_cv.predict(X_test_scaled)\n",
    "mse_ridge_cv = mean_squared_error(y_test, y_pred_ridge_cv)\n",
    "r2_ridge_cv = r2_score(y_test, y_pred_ridge_cv)\n",
    "print(f\"MSE de Ridge con CV: {mse_ridge_cv:.4f}\")\n",
    "print(f\"R² de Ridge con CV: {r2_ridge_cv:.4f}\")\n",
    "\n",
    "# --- LassoCV ---\n",
    "lasso_cv = LassoCV(alphas=alphas, cv=5, random_state=42)\n",
    "lasso_cv.fit(X_train_scaled, y_train)\n",
    "print(\"\\n--- Búsqueda del mejor Alpha para Lasso ---\")\n",
    "print(f\"Mejor alpha encontrado para Lasso: {lasso_cv.alpha_:.4f}\")\n",
    "\n",
    "# Evaluar el modelo Lasso final\n",
    "y_pred_lasso_cv = lasso_cv.predict(X_test_scaled)\n",
    "mse_lasso_cv = mean_squared_error(y_test, y_pred_lasso_cv)\n",
    "r2_lasso_cv = r2_score(y_test, y_pred_lasso_cv)\n",
    "print(f\"MSE de Lasso con CV: {mse_lasso_cv:.4f}\")\n",
    "print(f\"R² de Lasso con CV: {r2_lasso_cv:.4f}\")\n",
    "\n",
    "# Añadir los coeficientes finales al DataFrame\n",
    "coef_df['Coef_Ridge_CV'] = ridge_cv.coef_\n",
    "coef_df['Coef_Lasso_CV'] = lasso_cv.coef_\n",
    "print(\"\\n--- Comparación Final de Coeficientes ---\")\n",
    "print(coef_df.round(4))"
   ]
  },
  {
   "cell_type": "markdown",
   "id": "9dh7yoCICn2R",
   "metadata": {
    "id": "9dh7yoCICn2R"
   },
   "source": [
    "### 6. Desafíos para Experimentar\n",
    "\n",
    "<p>Ahora es tu turno de experimentar. Responde a las siguientes preguntas modificando el código anterior:</p>\n",
    "<ol>\n",
    "    <li><strong>Añadir más características:</strong> Elige otras 2 o 3 características numéricas del `df` original, añádelas a la lista `numeric_features` y vuelve a ejecutar todo el notebook. ¿Mejora el R² del modelo final?</li>\n",
    "    <li><strong>Interpretación de coeficientes:</strong> Observa los coeficientes finales del modelo `LassoCV`. ¿Qué característica parece ser la más importante según este modelo? ¿Cuáles ha descartado (coeficiente cercano a cero)?</li>\n",
    "    <li><strong>Evaluación en escala original:</strong> Las predicciones (`y_pred_lasso_cv`) están en escala logarítmica. Usa `np.expm1()` para convertirlas de nuevo a dólares. Luego, calcula el Error Absoluto Medio (MAE) entre las predicciones revertidas y el `y_test` original (que deberías haber guardado como `y_raw`). ¿Cuál es el error promedio en dólares de tu mejor modelo?</li>\n",
    "</ol>"
   ]
  },
  {
   "cell_type": "code",
   "execution_count": 11,
   "id": "33de59d8",
   "metadata": {},
   "outputs": [],
   "source": [
    "# MSE de Lasso con CV: 0.0307\n",
    "# R² de Lasso con CV: 0.8357\n",
    "\n",
    "# Para el OLS simple el R^2 da 0.8604\n",
    "# R² de Ridge con CV: 0.8555\n",
    "# R² de Lasso con CV: 0.8574\n",
    "\n",
    "# La caracteristica mas importante parece ser OverallQual\n",
    "# Descarto LotFrontage (la que agregue) y FullBath\n",
    "\n",
    "y_pred_lasso_cv_original=np.expm1(y_pred_lasso_cv)\n",
    "#mean_absolute_error"
   ]
  },
  {
   "cell_type": "markdown",
   "id": "PCTnFW4PCn2R",
   "metadata": {
    "id": "PCTnFW4PCn2R"
   },
   "source": [
    "### 7. Ejercicios Propuestos\n",
    "\n",
    "<div class=\"alert alert-block alert-warning\">\n",
    "<h4>Ejercicios para Solidificar Conceptos</h4>\n",
    "<ol>\n",
    "    <li><strong>Evaluación de Residuos:</strong> Para el mejor modelo que encontraste (probablemente RidgeCV o LassoCV), calcula los residuos ($y_{test} - \\hat{y}$) y crea un gráfico de dispersión de los valores predichos vs. los residuos. ¿Observas algún patrón? Un patrón podría indicar que la relación no es puramente lineal.</li>\n",
    "    <li><strong>Cambiar la Métrica de CV:</strong> En `LassoCV` y `RidgeCV`, el scoring por defecto es el error cuadrático negativo. Investiga cómo podrías usar el \"mean_absolute_error\" en su lugar. ¿Cambia el `alpha` seleccionado?</li>\n",
    "    <li><strong>Implementar K-Fold a Mano:</strong> En lugar de usar `RidgeCV`, instancia un `KFold(n_splits=5)`, itera sobre los pliegues, entrena un modelo `Ridge` para un alpha fijo en cada pliegue y calcula el error promedio. Compara tu resultado con el de la clase `RidgeCV`.</li>\n",
    "    <li><strong>Características Polinómicas:</strong> Sospechamos que la relación entre `GrLivArea` y `SalePrice` no es perfectamente lineal. Usa `sklearn.preprocessing.PolynomialFeatures` para crear una característica `GrLivArea` al cuadrado y añádela al modelo. ¿Mejora el R²?</li>\n",
    "    <li><strong>Impacto de Outliers:</strong> Encuentra la casa más cara en el `df_subset`. Elimínala y vuelve a entrenar el modelo OLS (con el target logarítmico). ¿Cómo cambian los coeficientes y el R²?</li>\n",
    "    <li><strong>Comparar MAE vs MSE:</strong> Calcula el `mean_absolute_error` (MAE) para todos los modelos finales (OLS, RidgeCV, LassoCV) en la escala logarítmica. ¿Por qué el MAE es menor que el MSE?</li>\n",
    "    <li><strong>Importancia de Características:</strong> Ordena los coeficientes del modelo `RidgeCV` final de mayor a menor en valor absoluto. ¿Cuáles son las 3 características más influyentes según este modelo?</li>\n",
    "    <li><strong>Efecto del Alpha en Lasso:</strong> Crea un gráfico que muestre cómo cambian los coeficientes de Lasso a medida que `alpha` aumenta. Puedes usar la información almacenada en `lasso_cv.path_`.</li>\n",
    "    <li><strong>Regresión Lineal Simple vs. Múltiple:</strong> Entrena un modelo de regresión lineal simple para cada una de las características en `numeric_features` por separado. Compara el coeficiente de cada característica en su modelo simple con su coeficiente en el modelo múltiple (OLS). ¿Por qué son diferentes?</li>\n",
    "    <li><strong>Modelo para Producción:</strong> Si tuvieras que elegir uno de los modelos entrenados para ponerlo en producción y predecir precios de casas para un cliente, ¿cuál elegirías y por qué? Justifica tu respuesta basándote en el rendimiento (R², MSE), la interpretabilidad (coeficientes) y la simplicidad del modelo.</li>\n",
    "</ol>\n",
    "</div>"
   ]
  },
  {
   "cell_type": "markdown",
   "id": "303df79c",
   "metadata": {},
   "source": [
    "# PREGUNTAS\n",
    "\n",
    "1. En la celda 10 dibuja el log1() que diferencia hay entre hacer eso y el log a fines estadísticos? Graficamente me da lo mismo\n",
    "2. Cuando calculamos los predictores en la forma que lo hicimos no estamos teniendo en cuenta los p-values de cada uno. Es que no importan?"
   ]
  },
  {
   "cell_type": "markdown",
   "id": "c181efef",
   "metadata": {},
   "source": [
    "# Evaluación de residuos\n",
    "- Para el mejor modelo calcular los residuos $y_{test}-\\hat{y}$. \n",
    "- Crear un gráfico de dispersión de los valores predichos vs los residuos. \n"
   ]
  },
  {
   "cell_type": "code",
   "execution_count": 12,
   "id": "c472c018",
   "metadata": {},
   "outputs": [
    {
     "data": {
      "image/png": "[encoded data removed]",
      "text/plain": [
       "<Figure size 640x480 with 1 Axes>"
      ]
     },
     "metadata": {},
     "output_type": "display_data"
    }
   ],
   "source": [
    "import matplotlib.pyplot as plt\n",
    "#El mejor modelo es el de lasso\n",
    "residuos=y_test-y_pred_lasso_cv\n",
    "\n",
    "plt.scatter(x=y_pred_lasso_cv,y=residuos)\n",
    "plt.xlabel(\"Predicciones lasso cv\")\n",
    "plt.ylabel(\"Residuos\")\n",
    "plt.grid()\n",
    "plt.show()"
   ]
  },
  {
   "cell_type": "markdown",
   "id": "78fe6b26",
   "metadata": {},
   "source": [
    "### Se observa que para las predicciones estan entre 11.5 y 12.5 alrededor del 0, pero existen algunas desviaciones hacia |0.2| es posible que no sea puramente lineal"
   ]
  },
  {
   "cell_type": "markdown",
   "id": "45c88947",
   "metadata": {},
   "source": [
    "# 2. Cambiar la métrica de CV en LassoCV y RidgeCV. El scoring por defecto es el error cuadratico negativo. Investigar como se podría usar el \"mean_absolute_error\" en su lugar. Cambia el alpha seleccionado?\n"
   ]
  },
  {
   "cell_type": "code",
   "execution_count": 13,
   "id": "0db72dc5",
   "metadata": {},
   "outputs": [
    {
     "name": "stdout",
     "output_type": "stream",
     "text": [
      "--- Búsqueda del mejor Alpha para Ridge ---\n",
      "Mejor alpha encontrado para Ridge: 21.5443\n",
      "MAE de Ridge con CV: 0.1213\n",
      "R² de Ridge con CV: 0.8370\n",
      "\n",
      "--- Búsqueda del mejor Alpha para Lasso ---\n",
      "Mejor alpha encontrado para Lasso: 0.0001\n",
      "MAE de Lasso con CV: 0.1213\n",
      "R² de Lasso con CV: 0.8375\n",
      "\n",
      "--- Comparación Final de Coeficientes ---\n",
      "             Coeficiente_OLS  Coef_Ridge_alpha100  Coef_Lasso_alpha0.1  \\\n",
      "GrLivArea             0.1266               0.1120               0.0567   \n",
      "OverallQual           0.1384               0.1285               0.1479   \n",
      "YearBuilt             0.0744               0.0673               0.0050   \n",
      "TotalBsmtSF           0.0445               0.0499               0.0060   \n",
      "FullBath             -0.0069               0.0080               0.0000   \n",
      "GarageCars            0.0715               0.0723               0.0486   \n",
      "\n",
      "             Coef_Ridge_CV  Coef_Lasso_CV  Coef_Ridge_CV MAE  \\\n",
      "GrLivArea           0.1135         0.1199             0.1227   \n",
      "OverallQual         0.1297         0.1385             0.1361   \n",
      "YearBuilt           0.0680         0.0690             0.0724   \n",
      "TotalBsmtSF         0.0494         0.0437             0.0460   \n",
      "FullBath            0.0065         0.0000            -0.0029   \n",
      "GarageCars          0.0723         0.0702             0.0718   \n",
      "\n",
      "             Coef_Lasso_CV MAE   \n",
      "GrLivArea                0.1263  \n",
      "OverallQual              0.1384  \n",
      "YearBuilt                0.0742  \n",
      "TotalBsmtSF              0.0446  \n",
      "FullBath                -0.0065  \n",
      "GarageCars               0.0715  \n"
     ]
    }
   ],
   "source": [
    "from sklearn.model_selection import GridSearchCV\n",
    "from sklearn.linear_model import Lasso\n",
    "from sklearn.metrics import make_scorer\n",
    "\n",
    "# Definir un rango de alphas para probar\n",
    "alphas = np.logspace(-4, 2, 100)\n",
    "\n",
    "# --- RidgeCV ---\n",
    "ridge_cv = RidgeCV(alphas=alphas, store_cv_results=True,scoring='neg_mean_absolute_error')\n",
    "ridge_cv.fit(X_train_scaled, y_train)\n",
    "\n",
    "print(\"--- Búsqueda del mejor Alpha para Ridge ---\")\n",
    "print(f\"Mejor alpha encontrado para Ridge: {ridge_cv.alpha_:.4f}\")\n",
    "\n",
    "# Evaluar el modelo Ridge final con el mejor alpha\n",
    "y_pred_ridge_cv = ridge_cv.predict(X_test_scaled)\n",
    "mae_ridge_cv = mean_absolute_error(y_test, y_pred_ridge_cv)\n",
    "r2_ridge_cv = r2_score(y_test, y_pred_ridge_cv)\n",
    "print(f\"MAE de Ridge con CV: {mae_ridge_cv:.4f}\")\n",
    "print(f\"R² de Ridge con CV: {r2_ridge_cv:.4f}\")\n",
    "\n",
    "# --- LassoCV ---\n",
    "mae_scorer = make_scorer(mean_absolute_error, greater_is_better=False)\n",
    "\n",
    "lasso_cv_for_grid = Lasso(max_iter=1000)\n",
    "\n",
    "lasso_cv_grid = GridSearchCV(estimator=lasso_cv_for_grid,\n",
    "                    param_grid={'alpha': alphas},\n",
    "                    scoring=mae_scorer,\n",
    "                    cv=5)\n",
    "\n",
    "lasso_cv_grid.fit(X_train_scaled, y_train)\n",
    "\n",
    "print(\"\\n--- Búsqueda del mejor Alpha para Lasso ---\")\n",
    "print(f\"Mejor alpha encontrado para Lasso: {lasso_cv_grid.best_params_['alpha']:.4f}\")\n",
    "\n",
    "# Evaluar el modelo Lasso final\n",
    "y_pred_lasso_cv = lasso_cv_grid.predict(X_test_scaled)\n",
    "mae_lasso_cv = mean_absolute_error(y_test, y_pred_lasso_cv)\n",
    "r2_lasso_cv = r2_score(y_test, y_pred_lasso_cv)\n",
    "print(f\"MAE de Lasso con CV: {mae_lasso_cv:.4f}\")\n",
    "print(f\"R² de Lasso con CV: {r2_lasso_cv:.4f}\")\n",
    "\n",
    "lasso_best = lasso_cv_grid.best_estimator_\n",
    "\n",
    "\n",
    "# Añadir los coeficientes finales al DataFrame\n",
    "coef_df['Coef_Ridge_CV MAE'] = ridge_cv.coef_\n",
    "coef_df['Coef_Lasso_CV MAE '] = lasso_best.coef_\n",
    "print(\"\\n--- Comparación Final de Coeficientes ---\")\n",
    "print(coef_df.round(4))\n",
    "\n",
    "\n",
    "mse_mae_lasso=[mse_lasso_cv,mae_lasso_cv]\n",
    "mse_mae_ridge=[mse_ridge_cv,mae_ridge_cv]\n",
    "mse_vs_mae['lasso_cv']=mse_mae_lasso\n",
    "mse_vs_mae['ridge_cv']=mse_mae_ridge"
   ]
  },
  {
   "cell_type": "markdown",
   "id": "bd67f0e2",
   "metadata": {},
   "source": [
    "### Como se puede ver si ha cambiado el alpha tanto para Ridge como para Lasso"
   ]
  },
  {
   "cell_type": "markdown",
   "id": "f7d7b7bf",
   "metadata": {},
   "source": [
    "# 3. Implementación de K-Fold a Mano: En lugar de usar RidgeCv instancia KFlold(n_splits=5) iterar sobre los pliegue, entrenar un modelo Ridge para un alpha fijo en cada pliegue y calcula el error promedio. "
   ]
  },
  {
   "cell_type": "code",
   "execution_count": 14,
   "id": "eb4bcace",
   "metadata": {},
   "outputs": [
    {
     "name": "stdout",
     "output_type": "stream",
     "text": [
      "MSE promedio usando k-fold con Ridge: 0.0324\n",
      "MSE usando RidgeCV: 0.0309\n"
     ]
    }
   ],
   "source": [
    "from sklearn.model_selection import KFold\n",
    "\n",
    "kf=KFold(n_splits=5,shuffle=True,random_state=42)\n",
    "\n",
    "ridge_fold=Ridge(alpha=86.9749)\n",
    "\n",
    "mse_scores=[]\n",
    "\n",
    "for fold,(train_index,test_index) in enumerate(kf.split(X_train_scaled)):\n",
    "   X_train_fold,X_test_fold=X_train_scaled.iloc[train_index],X_train_scaled.iloc[test_index]\n",
    "   y_train_fold,y_test_fold=y_train.iloc[train_index],y_train.iloc[test_index]\n",
    "\n",
    "   ridge_fold.fit(X_train_fold,y_train_fold)\n",
    "   predictions_fold=ridge_fold.predict(X_test_fold)\n",
    "   mse_fold=mean_squared_error(y_test_fold,predictions_fold)\n",
    "   mse_scores.append(mse_fold)\n",
    "\n",
    "print(f\"MSE promedio usando k-fold con Ridge: {np.mean(mse_scores):.4f}\")\n",
    "print(f\"MSE usando RidgeCV: 0.0309\")\n",
    "\n"
   ]
  },
  {
   "cell_type": "markdown",
   "id": "2d3e1780",
   "metadata": {},
   "source": [
    "# 4. Características polinómicas usar PolynomialFeatures para crear una ${GrLivArea^2}$"
   ]
  },
  {
   "cell_type": "code",
   "execution_count": 15,
   "id": "c6dc665b",
   "metadata": {},
   "outputs": [
    {
     "name": "stderr",
     "output_type": "stream",
     "text": [
      "/var/folders/jr/t_k402pj3bg57t7p56rgmknr0000gn/T/ipykernel_89023/4164825938.py:1: FutureWarning:\n",
      "\n",
      "The behavior of DataFrame concatenation with empty or all-NA entries is deprecated. In a future version, this will no longer exclude empty or all-NA columns when determining the result dtypes. To retain the old behavior, exclude the relevant entries before the concat operation.\n",
      "\n"
     ]
    }
   ],
   "source": [
    "coef_df.loc['GrLivArea^2']=[None]*len(coef_df.columns)"
   ]
  },
  {
   "cell_type": "code",
   "execution_count": 16,
   "id": "58f37ec9",
   "metadata": {},
   "outputs": [
    {
     "name": "stdout",
     "output_type": "stream",
     "text": [
      "--- Búsqueda del mejor Alpha para Ridge ---\n",
      "Mejor alpha encontrado para Ridge: 0.0001\n",
      "MSE de Ridge con CV: 0.030816\n",
      "R² de Ridge con CV: 0.834865\n",
      "\n",
      "--- Búsqueda del mejor Alpha para Lasso ---\n",
      "Mejor alpha encontrado para Lasso: 0.0001\n",
      "MSE de Lasso con CV: 0.030806\n",
      "R² de Lasso con CV: 0.834916\n",
      "\n",
      "--- Comparación Final de Coeficientes ---\n",
      "             Coeficiente_OLS  Coef_Ridge_alpha100  Coef_Lasso_alpha0.1  \\\n",
      "GrLivArea             0.1266               0.1120               0.0567   \n",
      "OverallQual           0.1384               0.1285               0.1479   \n",
      "YearBuilt             0.0744               0.0673               0.0050   \n",
      "TotalBsmtSF           0.0445               0.0499               0.0060   \n",
      "FullBath             -0.0069               0.0080               0.0000   \n",
      "GarageCars            0.0715               0.0723               0.0486   \n",
      "GrLivArea^2              NaN                  NaN                  NaN   \n",
      "\n",
      "             Coef_Ridge_CV  Coef_Lasso_CV  Coef_Ridge_CV MAE  \\\n",
      "GrLivArea           0.1135         0.1199             0.1227   \n",
      "OverallQual         0.1297         0.1385             0.1361   \n",
      "YearBuilt           0.0680         0.0690             0.0724   \n",
      "TotalBsmtSF         0.0494         0.0437             0.0460   \n",
      "FullBath            0.0065         0.0000            -0.0029   \n",
      "GarageCars          0.0723         0.0702             0.0718   \n",
      "GrLivArea^2            NaN            NaN                NaN   \n",
      "\n",
      "             Coef_Lasso_CV MAE   Coef_Ridge_CV ^2  Coef_Lasso_CV ^2  \n",
      "GrLivArea                0.1263            0.1812            0.1808  \n",
      "OverallQual              0.1384            0.1257            0.1258  \n",
      "YearBuilt                0.0742            0.0768            0.0766  \n",
      "TotalBsmtSF              0.0446            0.0634            0.0634  \n",
      "FullBath                -0.0065           -0.0220           -0.0215  \n",
      "GarageCars               0.0715            0.0588            0.0588  \n",
      "GrLivArea^2                 NaN           -0.0288           -0.0287  \n"
     ]
    }
   ],
   "source": [
    "from sklearn.preprocessing import PolynomialFeatures\n",
    "\n",
    "X_train_scaled.head()\n",
    "# En este caso creo que es mas facil agregar la columan elevada al cuadrado y listo\n",
    "\n",
    "poly=PolynomialFeatures(degree=2)\n",
    "X_poly_train=poly.fit_transform(X_train_scaled[['GrLivArea']])\n",
    "\n",
    "X_poly_test=poly.fit_transform(X_test_scaled[['GrLivArea']])\n",
    "\n",
    "column_names=poly.get_feature_names_out(['GrLivArea'])\n",
    "df_poly_train=pd.DataFrame(X_poly_train,columns=column_names)\n",
    "df_poly_test=pd.DataFrame(X_poly_test,columns=column_names)\n",
    "X_train_scaled_augmented=pd.concat([X_train_scaled,df_poly_train[['GrLivArea^2']]],axis=1)\n",
    "X_test_scaled_augmented=pd.concat([X_test_scaled,df_poly_test[['GrLivArea^2']]],axis=1)\n",
    "\n",
    "\n",
    "\n",
    "\n",
    "\n",
    "# Definir un rango de alphas para probar\n",
    "alphas = np.logspace(-4, 2, 100)\n",
    "\n",
    "# --- RidgeCV ---\n",
    "ridge_cv = RidgeCV(alphas=alphas, store_cv_results=True)\n",
    "ridge_cv.fit(X_train_scaled_augmented, y_train)\n",
    "\n",
    "print(\"--- Búsqueda del mejor Alpha para Ridge ---\")\n",
    "print(f\"Mejor alpha encontrado para Ridge: {ridge_cv.alpha_:.4f}\")\n",
    "\n",
    "# Evaluar el modelo Ridge final con el mejor alpha\n",
    "y_pred_ridge_cv = ridge_cv.predict(X_test_scaled_augmented)\n",
    "mse_ridge_cv = mean_squared_error(y_test, y_pred_ridge_cv)\n",
    "r2_ridge_cv = r2_score(y_test, y_pred_ridge_cv)\n",
    "print(f\"MSE de Ridge con CV: {mse_ridge_cv:.6f}\")\n",
    "print(f\"R² de Ridge con CV: {r2_ridge_cv:.6f}\")\n",
    "\n",
    "# --- LassoCV ---\n",
    "lasso_cv = LassoCV(alphas=alphas, cv=5, random_state=42)\n",
    "lasso_cv.fit(X_train_scaled_augmented, y_train)\n",
    "\n",
    "print(\"\\n--- Búsqueda del mejor Alpha para Lasso ---\")\n",
    "print(f\"Mejor alpha encontrado para Lasso: {lasso_cv.alpha_:.4f}\")\n",
    "\n",
    "# Evaluar el modelo Lasso final\n",
    "y_pred_lasso_cv = lasso_cv.predict(X_test_scaled_augmented)\n",
    "mse_lasso_cv = mean_squared_error(y_test, y_pred_lasso_cv)\n",
    "r2_lasso_cv = r2_score(y_test, y_pred_lasso_cv)\n",
    "print(f\"MSE de Lasso con CV: {mse_lasso_cv:.6f}\")\n",
    "print(f\"R² de Lasso con CV: {r2_lasso_cv:.6f}\")\n",
    "\n",
    "# Añadir los coeficientes finales al DataFrame\n",
    "coef_df['Coef_Ridge_CV ^2'] = ridge_cv.coef_\n",
    "coef_df['Coef_Lasso_CV ^2'] = lasso_cv.coef_\n",
    "print(\"\\n--- Comparación Final de Coeficientes ---\")\n",
    "print(coef_df.round(4))\n",
    "\n",
    "\n"
   ]
  },
  {
   "cell_type": "markdown",
   "id": "e7778fee",
   "metadata": {},
   "source": [
    "### El R^2 pasa de 0.8370 a 0.8349, no mejora, empeora"
   ]
  },
  {
   "cell_type": "markdown",
   "id": "fe7829f0",
   "metadata": {},
   "source": [
    "# 5. Impacto de los outliers. Encuentra la casa mas cara en el df_subset. Elminala y vuelve a entrenar el modelo OLS con el target logarítmico. Como cambian los coeficientes y el R^2?"
   ]
  },
  {
   "cell_type": "code",
   "execution_count": 17,
   "id": "6f756753",
   "metadata": {},
   "outputs": [
    {
     "name": "stdout",
     "output_type": "stream",
     "text": [
      "691\n",
      "1182\n"
     ]
    }
   ],
   "source": [
    "fila_precio_maximo=df_subset['SalePrice'].idxmax()\n",
    "print(fila_precio_maximo)\n",
    "df[fila_precio_maximo:fila_precio_maximo+1]\n",
    "\n",
    "df_subset=df_subset.drop(index=fila_precio_maximo)\n",
    "\n",
    "fila_precio_maximo=df_subset['SalePrice'].idxmax()\n",
    "print(fila_precio_maximo)\n",
    "\n"
   ]
  },
  {
   "cell_type": "code",
   "execution_count": 18,
   "id": "0cab4a0a",
   "metadata": {},
   "outputs": [
    {
     "name": "stdout",
     "output_type": "stream",
     "text": [
      "Tamaño del set de entrenamiento: (1167, 6)\n",
      "Tamaño del set de prueba: (292, 6)\n",
      "--- Evaluación del Modelo de Regresión Lineal (OLS) ---\n",
      "Error Cuadrático Medio (MSE en escala log): 0.0272\n",
      "Coeficiente de Determinación (R²): 0.8427\n",
      "\n",
      "Coeficientes del modelo OLS:\n",
      "             Coeficiente_OLS  Coef_Ridge_alpha100  Coef_Lasso_alpha0.1  \\\n",
      "GrLivArea           0.126585             0.111973             0.056712   \n",
      "OverallQual         0.138404             0.128540             0.147911   \n",
      "YearBuilt           0.074407             0.067285             0.004993   \n",
      "TotalBsmtSF         0.044540             0.049878             0.006045   \n",
      "FullBath           -0.006889             0.008021             0.000000   \n",
      "GarageCars          0.071504             0.072289             0.048613   \n",
      "GrLivArea^2              NaN                  NaN                  NaN   \n",
      "\n",
      "             Coef_Ridge_CV  Coef_Lasso_CV  Coef_Ridge_CV MAE  \\\n",
      "GrLivArea         0.113471       0.119855           0.122695   \n",
      "OverallQual       0.129720       0.138460           0.136131   \n",
      "YearBuilt         0.067968       0.069024           0.072409   \n",
      "TotalBsmtSF       0.049380       0.043748           0.046043   \n",
      "FullBath          0.006507       0.000000          -0.002913   \n",
      "GarageCars        0.072278       0.070204           0.071843   \n",
      "GrLivArea^2            NaN            NaN                NaN   \n",
      "\n",
      "             Coef_Lasso_CV MAE   Coef_Ridge_CV ^2  Coef_Lasso_CV ^2  \\\n",
      "GrLivArea              0.126298          0.181194          0.180780   \n",
      "OverallQual            0.138388          0.125741          0.125755   \n",
      "YearBuilt              0.074200          0.076823          0.076610   \n",
      "TotalBsmtSF            0.044555          0.063394          0.063365   \n",
      "FullBath              -0.006490         -0.021950         -0.021518   \n",
      "GarageCars             0.071460          0.058822          0.058809   \n",
      "GrLivArea^2                 NaN         -0.028759         -0.028690   \n",
      "\n",
      "            Coeficiente_OLS sin outlier  \n",
      "GrLivArea                      0.125544  \n",
      "OverallQual                    0.139523  \n",
      "YearBuilt                      0.072556  \n",
      "TotalBsmtSF                    0.048065  \n",
      "FullBath                      -0.005993  \n",
      "GarageCars                     0.070626  \n",
      "GrLivArea^2                        None  \n"
     ]
    }
   ],
   "source": [
    "\n",
    "# 1. Definir características (X) y objetivo (y)\n",
    "\n",
    "X = df_subset[numeric_features]\n",
    "y_raw = df_subset[target_variable] # Guardamos el 'y' original para evaluación final\n",
    "\n",
    "# !! CAMBIO CLAVE !!\n",
    "# Aplicamos la transformación logarítmica a la variable objetivo 'y'\n",
    "# Esto estabiliza la varianza y normaliza la escala del problema.\n",
    "y = np.log1p(y_raw)\n",
    "\n",
    "# 2. Dividir en conjuntos de entrenamiento y prueba (80% entrenamiento, 20% prueba)\n",
    "X_train, X_test, y_train, y_test = train_test_split(X, y, test_size=0.2, random_state=42)\n",
    "\n",
    "print(f\"Tamaño del set de entrenamiento: {X_train.shape}\")\n",
    "print(f\"Tamaño del set de prueba: {X_test.shape}\")\n",
    "\n",
    "# 3. Escalar las características numéricas. (Normalizamos lo datos para que esten en el mismo rango)\n",
    "scaler = StandardScaler()\n",
    "\n",
    "# Ajustamos el escalador SOLO con los datos de entrenamiento para evitar fuga de datos (data leakage)\n",
    "X_train_scaled = scaler.fit_transform(X_train)  # el fit hace el aprendizaje\n",
    "# Aplicamos la misma transformación a los datos de prueba\n",
    "X_test_scaled = scaler.transform(X_test)  # usa el mismo aprendizaje que antes. \n",
    "\n",
    "# Convertimos los arrays de numpy de vuelta a DataFrames de pandas para mejor legibilidad\n",
    "X_train_scaled = pd.DataFrame(X_train_scaled, columns=numeric_features)\n",
    "X_test_scaled = pd.DataFrame(X_test_scaled, columns=numeric_features)\n",
    "\n",
    "\n",
    "# Crear y entrenar el modelo de Regresión Lineal\n",
    "ols_model = LinearRegression()\n",
    "ols_model.fit(X_train_scaled, y_train)\n",
    "\n",
    "# Realizar predicciones en el conjunto de prueba (las predicciones estarán en escala logarítmica)\n",
    "y_pred_ols = ols_model.predict(X_test_scaled)\n",
    "\n",
    "# Evaluar el modelo\n",
    "mse_ols = mean_squared_error(y_test, y_pred_ols)\n",
    "r2_ols = r2_score(y_test, y_pred_ols)\n",
    "\n",
    "print(\"--- Evaluación del Modelo de Regresión Lineal (OLS) ---\")\n",
    "print(f\"Error Cuadrático Medio (MSE en escala log): {mse_ols:.4f}\")\n",
    "print(f\"Coeficiente de Determinación (R²): {r2_ols:.4f}\")\n",
    "\n",
    "# Ver los coeficientes del modelo\n",
    "row=ols_model.coef_\n",
    "row=np.append(row,None)\n",
    "\n",
    "coef_df['Coeficiente_OLS sin outlier']=row\n",
    "print(\"\\nCoeficientes del modelo OLS:\")\n",
    "print(coef_df)\n"
   ]
  },
  {
   "cell_type": "markdown",
   "id": "23e20448",
   "metadata": {},
   "source": [
    "### Rta: El coeficiente ${R^2}$ quitando el outlayer es de 0.8427 contra un 0.8375 con el outlier"
   ]
  },
  {
   "cell_type": "markdown",
   "id": "3fae5d0f",
   "metadata": {},
   "source": [
    "# 6. Compara MAE vs MSE para los modelos OLS, RidgeCV y LasoCV\n"
   ]
  },
  {
   "cell_type": "code",
   "execution_count": 19,
   "id": "9f77dfd1",
   "metadata": {},
   "outputs": [
    {
     "name": "stdout",
     "output_type": "stream",
     "text": [
      "          OLS  lasso_cv  ridge_cv\n",
      "MSE  0.030318  0.030657  0.030869\n",
      "MAE  0.121281  0.121288  0.121340\n"
     ]
    }
   ],
   "source": [
    "print(mse_vs_mae)"
   ]
  },
  {
   "cell_type": "markdown",
   "id": "21cf5072",
   "metadata": {},
   "source": [
    "### MAE no es menor a MSE, MSE es menor a MAE y es porque los errores estan muy cerca del cero "
   ]
  },
  {
   "cell_type": "markdown",
   "id": "fc0949aa",
   "metadata": {},
   "source": [
    "## 7. Importancia de las caracteristicas: Ordenar los coeficientes del modelo RidgeCV  de mayor a menor en valor absoluto, Cuales son las 3 caracteristicas mas influyentes?"
   ]
  },
  {
   "cell_type": "code",
   "execution_count": 20,
   "id": "2f72eb1a",
   "metadata": {},
   "outputs": [
    {
     "name": "stdout",
     "output_type": "stream",
     "text": [
      "FullBath       0.006507\n",
      "TotalBsmtSF    0.049380\n",
      "YearBuilt      0.067968\n",
      "GarageCars     0.072278\n",
      "GrLivArea      0.113471\n",
      "OverallQual    0.129720\n",
      "GrLivArea^2         NaN\n",
      "Name: Coef_Ridge_CV, dtype: float64\n"
     ]
    }
   ],
   "source": [
    "coef_ridge_cv=coef_df['Coef_Ridge_CV']\n",
    "\n",
    "print(coef_ridge_cv.abs().sort_values())\n"
   ]
  },
  {
   "cell_type": "markdown",
   "id": "6047d2eb",
   "metadata": {},
   "source": [
    "### Características mas influyentes\n",
    "- GarageCars     0.072278\n",
    "- GrLivArea      0.113471\n",
    "- OverallQual    0.129720\n"
   ]
  },
  {
   "cell_type": "markdown",
   "id": "b27e4b79",
   "metadata": {},
   "source": [
    "## Efecto Alpha en Lasso: Crear un gráfico que muestre cómo cambian los coeficientes de Lasso a medida que alpha aumenta. Usar la información guardada en  'lasso_cv.path_'"
   ]
  },
  {
   "cell_type": "code",
   "execution_count": 21,
   "id": "132d1c00",
   "metadata": {},
   "outputs": [
    {
     "data": {
      "image/png": "[encoded data removed]",
      "text/plain": [
       "<Figure size 1000x600 with 1 Axes>"
      ]
     },
     "metadata": {},
     "output_type": "display_data"
    }
   ],
   "source": [
    "#Aca tengo que hacer un Lasso e ir aumentando el alpha porque no hay una variable path_ en la clase Lasso\n",
    "coefs=[]\n",
    "feature_names=X_train_scaled.columns\n",
    "# Ajustamos Lasso para cada alpha\n",
    "for a in alphas:\n",
    "    lasso = Lasso(alpha=a, max_iter=10000)\n",
    "    lasso.fit(X_train_scaled, y_train)\n",
    "    coefs.append(lasso.coef_)\n",
    "coefs=np.array(coefs)\n",
    "# Graficamos\n",
    "plt.figure(figsize=(10, 6))\n",
    "for i, name in enumerate(feature_names):\n",
    "    plt.plot(alphas, coefs[:, i], label=name)\n",
    "\n",
    "plt.xscale(\"log\")\n",
    "plt.xlabel(\"Alpha\")\n",
    "plt.ylabel(\"Coeficientes\")\n",
    "plt.title(\"Coeficientes Lasso vs Alpha\")\n",
    "plt.legend(loc='best', fontsize='small', bbox_to_anchor=(1.05, 1))\n",
    "plt.grid(True)\n",
    "plt.show()"
   ]
  },
  {
   "cell_type": "markdown",
   "id": "63274846",
   "metadata": {},
   "source": [
    "## 9. Regression lineal vs regesion multiple: Entrenar un modelo de regresión lineal simple para cada una de las características en numeric features. Comparar el coefciente con el de la regresíon múltiple. Determinar porque son diferentes.\n"
   ]
  },
  {
   "cell_type": "code",
   "execution_count": 22,
   "id": "d1c336a2",
   "metadata": {},
   "outputs": [
    {
     "name": "stdout",
     "output_type": "stream",
     "text": [
      "             coeficientes_ols_per_feature  OLS multiple\n",
      "GrLivArea                        0.271114      0.125544\n",
      "OverallQual                      0.316801      0.139523\n",
      "YearBuilt                        0.228113      0.072556\n",
      "TotalBsmtSF                      0.233728      0.048065\n",
      "FullBath                         0.226524     -0.005993\n",
      "GarageCars                       0.265968      0.070626\n"
     ]
    }
   ],
   "source": [
    "# Crear y entrenar el modelo de Regresión Lineal\n",
    "coef_per_feature=[]\n",
    "for i,feature in enumerate(numeric_features):\n",
    "    X_train_feature=X_train_scaled[[feature]]\n",
    "    regression_model=LinearRegression()\n",
    "    regression_model.fit(X_train_feature,y_train)\n",
    "    coef_per_feature.append(regression_model.coef_)\n",
    "\n",
    "coef_reg_per_feature = pd.DataFrame(coef_per_feature, index=numeric_features, columns=['coeficientes_ols_per_feature'])\n",
    "coef_reg_per_feature['OLS multiple']=ols_model.coef_\n",
    "print(coef_reg_per_feature)\n"
   ]
  },
  {
   "cell_type": "markdown",
   "id": "4894dc09",
   "metadata": {},
   "source": [
    "La diferencia radica en las dimensiones, con un feature es una recta, con dos un plano y asi sucesivamente, a medida que se agregan features el modelo toma mas dimensiones y ajusta por una figura geometrica diferente"
   ]
  },
  {
   "cell_type": "markdown",
   "id": "f9087fd7",
   "metadata": {},
   "source": [
    "### 10. Modelo para producción. \n",
    "En función del MSE el R^2 me quedo con el LassoCV porque si bien otros modelos tienen un un mayor R^2 la simplejza del modelo amerita elegirlo por sobre el que tiene variables al cuadrado."
   ]
  },
  {
   "cell_type": "markdown",
   "id": "d47af616",
   "metadata": {},
   "source": [
    "# Probamos con una regresion OLS pero observando los p-values"
   ]
  },
  {
   "cell_type": "code",
   "execution_count": 32,
   "id": "e95cfd01",
   "metadata": {},
   "outputs": [
    {
     "name": "stdout",
     "output_type": "stream",
     "text": [
      "<class 'pandas.core.frame.DataFrame'>\n",
      "<class 'pandas.core.series.Series'>\n",
      "1167\n",
      "1167\n"
     ]
    },
    {
     "ename": "ValueError",
     "evalue": "The indices for endog and exog are not aligned",
     "output_type": "error",
     "traceback": [
      "\u001b[31m---------------------------------------------------------------------------\u001b[39m",
      "\u001b[31mValueError\u001b[39m                                Traceback (most recent call last)",
      "\u001b[36mCell\u001b[39m\u001b[36m \u001b[39m\u001b[32mIn[32]\u001b[39m\u001b[32m, line 8\u001b[39m\n\u001b[32m      6\u001b[39m \u001b[38;5;28mprint\u001b[39m(\u001b[38;5;28mlen\u001b[39m(X_train_scaled))\n\u001b[32m      7\u001b[39m X_new=sm.add_constant(X_train_scaled)\n\u001b[32m----> \u001b[39m\u001b[32m8\u001b[39m ols_model_simple = \u001b[43msm\u001b[49m\u001b[43m.\u001b[49m\u001b[43mOLS\u001b[49m\u001b[43m(\u001b[49m\u001b[43my_train\u001b[49m\u001b[43m,\u001b[49m\u001b[43m \u001b[49m\u001b[43mX_new\u001b[49m\u001b[43m)\u001b[49m.fit()\n\u001b[32m      9\u001b[39m \u001b[38;5;66;03m#results = ols_model_simple.fit()\u001b[39;00m\n\u001b[32m     10\u001b[39m \n\u001b[32m     11\u001b[39m \u001b[38;5;66;03m#sm.OLS\u001b[39;00m\n",
      "\u001b[36mFile \u001b[39m\u001b[32m/opt/anaconda3/envs/islp/lib/python3.12/site-packages/statsmodels/regression/linear_model.py:921\u001b[39m, in \u001b[36mOLS.__init__\u001b[39m\u001b[34m(self, endog, exog, missing, hasconst, **kwargs)\u001b[39m\n\u001b[32m    918\u001b[39m     msg = (\u001b[33m\"\u001b[39m\u001b[33mWeights are not supported in OLS and will be ignored\u001b[39m\u001b[33m\"\u001b[39m\n\u001b[32m    919\u001b[39m            \u001b[33m\"\u001b[39m\u001b[33mAn exception will be raised in the next version.\u001b[39m\u001b[33m\"\u001b[39m)\n\u001b[32m    920\u001b[39m     warnings.warn(msg, ValueWarning)\n\u001b[32m--> \u001b[39m\u001b[32m921\u001b[39m \u001b[38;5;28;43msuper\u001b[39;49m\u001b[43m(\u001b[49m\u001b[43m)\u001b[49m\u001b[43m.\u001b[49m\u001b[34;43m__init__\u001b[39;49m\u001b[43m(\u001b[49m\u001b[43mendog\u001b[49m\u001b[43m,\u001b[49m\u001b[43m \u001b[49m\u001b[43mexog\u001b[49m\u001b[43m,\u001b[49m\u001b[43m \u001b[49m\u001b[43mmissing\u001b[49m\u001b[43m=\u001b[49m\u001b[43mmissing\u001b[49m\u001b[43m,\u001b[49m\n\u001b[32m    922\u001b[39m \u001b[43m                          \u001b[49m\u001b[43mhasconst\u001b[49m\u001b[43m=\u001b[49m\u001b[43mhasconst\u001b[49m\u001b[43m,\u001b[49m\u001b[43m \u001b[49m\u001b[43m*\u001b[49m\u001b[43m*\u001b[49m\u001b[43mkwargs\u001b[49m\u001b[43m)\u001b[49m\n\u001b[32m    923\u001b[39m \u001b[38;5;28;01mif\u001b[39;00m \u001b[33m\"\u001b[39m\u001b[33mweights\u001b[39m\u001b[33m\"\u001b[39m \u001b[38;5;129;01min\u001b[39;00m \u001b[38;5;28mself\u001b[39m._init_keys:\n\u001b[32m    924\u001b[39m     \u001b[38;5;28mself\u001b[39m._init_keys.remove(\u001b[33m\"\u001b[39m\u001b[33mweights\u001b[39m\u001b[33m\"\u001b[39m)\n",
      "\u001b[36mFile \u001b[39m\u001b[32m/opt/anaconda3/envs/islp/lib/python3.12/site-packages/statsmodels/regression/linear_model.py:746\u001b[39m, in \u001b[36mWLS.__init__\u001b[39m\u001b[34m(self, endog, exog, weights, missing, hasconst, **kwargs)\u001b[39m\n\u001b[32m    744\u001b[39m \u001b[38;5;28;01melse\u001b[39;00m:\n\u001b[32m    745\u001b[39m     weights = weights.squeeze()\n\u001b[32m--> \u001b[39m\u001b[32m746\u001b[39m \u001b[38;5;28;43msuper\u001b[39;49m\u001b[43m(\u001b[49m\u001b[43m)\u001b[49m\u001b[43m.\u001b[49m\u001b[34;43m__init__\u001b[39;49m\u001b[43m(\u001b[49m\u001b[43mendog\u001b[49m\u001b[43m,\u001b[49m\u001b[43m \u001b[49m\u001b[43mexog\u001b[49m\u001b[43m,\u001b[49m\u001b[43m \u001b[49m\u001b[43mmissing\u001b[49m\u001b[43m=\u001b[49m\u001b[43mmissing\u001b[49m\u001b[43m,\u001b[49m\n\u001b[32m    747\u001b[39m \u001b[43m                          \u001b[49m\u001b[43mweights\u001b[49m\u001b[43m=\u001b[49m\u001b[43mweights\u001b[49m\u001b[43m,\u001b[49m\u001b[43m \u001b[49m\u001b[43mhasconst\u001b[49m\u001b[43m=\u001b[49m\u001b[43mhasconst\u001b[49m\u001b[43m,\u001b[49m\u001b[43m \u001b[49m\u001b[43m*\u001b[49m\u001b[43m*\u001b[49m\u001b[43mkwargs\u001b[49m\u001b[43m)\u001b[49m\n\u001b[32m    748\u001b[39m nobs = \u001b[38;5;28mself\u001b[39m.exog.shape[\u001b[32m0\u001b[39m]\n\u001b[32m    749\u001b[39m weights = \u001b[38;5;28mself\u001b[39m.weights\n",
      "\u001b[36mFile \u001b[39m\u001b[32m/opt/anaconda3/envs/islp/lib/python3.12/site-packages/statsmodels/regression/linear_model.py:200\u001b[39m, in \u001b[36mRegressionModel.__init__\u001b[39m\u001b[34m(self, endog, exog, **kwargs)\u001b[39m\n\u001b[32m    199\u001b[39m \u001b[38;5;28;01mdef\u001b[39;00m\u001b[38;5;250m \u001b[39m\u001b[34m__init__\u001b[39m(\u001b[38;5;28mself\u001b[39m, endog, exog, **kwargs):\n\u001b[32m--> \u001b[39m\u001b[32m200\u001b[39m     \u001b[38;5;28;43msuper\u001b[39;49m\u001b[43m(\u001b[49m\u001b[43m)\u001b[49m\u001b[43m.\u001b[49m\u001b[34;43m__init__\u001b[39;49m\u001b[43m(\u001b[49m\u001b[43mendog\u001b[49m\u001b[43m,\u001b[49m\u001b[43m \u001b[49m\u001b[43mexog\u001b[49m\u001b[43m,\u001b[49m\u001b[43m \u001b[49m\u001b[43m*\u001b[49m\u001b[43m*\u001b[49m\u001b[43mkwargs\u001b[49m\u001b[43m)\u001b[49m\n\u001b[32m    201\u001b[39m     \u001b[38;5;28mself\u001b[39m.pinv_wexog: Float64Array | \u001b[38;5;28;01mNone\u001b[39;00m = \u001b[38;5;28;01mNone\u001b[39;00m\n\u001b[32m    202\u001b[39m     \u001b[38;5;28mself\u001b[39m._data_attr.extend([\u001b[33m'\u001b[39m\u001b[33mpinv_wexog\u001b[39m\u001b[33m'\u001b[39m, \u001b[33m'\u001b[39m\u001b[33mwendog\u001b[39m\u001b[33m'\u001b[39m, \u001b[33m'\u001b[39m\u001b[33mwexog\u001b[39m\u001b[33m'\u001b[39m, \u001b[33m'\u001b[39m\u001b[33mweights\u001b[39m\u001b[33m'\u001b[39m])\n",
      "\u001b[36mFile \u001b[39m\u001b[32m/opt/anaconda3/envs/islp/lib/python3.12/site-packages/statsmodels/base/model.py:270\u001b[39m, in \u001b[36mLikelihoodModel.__init__\u001b[39m\u001b[34m(self, endog, exog, **kwargs)\u001b[39m\n\u001b[32m    269\u001b[39m \u001b[38;5;28;01mdef\u001b[39;00m\u001b[38;5;250m \u001b[39m\u001b[34m__init__\u001b[39m(\u001b[38;5;28mself\u001b[39m, endog, exog=\u001b[38;5;28;01mNone\u001b[39;00m, **kwargs):\n\u001b[32m--> \u001b[39m\u001b[32m270\u001b[39m     \u001b[38;5;28;43msuper\u001b[39;49m\u001b[43m(\u001b[49m\u001b[43m)\u001b[49m\u001b[43m.\u001b[49m\u001b[34;43m__init__\u001b[39;49m\u001b[43m(\u001b[49m\u001b[43mendog\u001b[49m\u001b[43m,\u001b[49m\u001b[43m \u001b[49m\u001b[43mexog\u001b[49m\u001b[43m,\u001b[49m\u001b[43m \u001b[49m\u001b[43m*\u001b[49m\u001b[43m*\u001b[49m\u001b[43mkwargs\u001b[49m\u001b[43m)\u001b[49m\n\u001b[32m    271\u001b[39m     \u001b[38;5;28mself\u001b[39m.initialize()\n",
      "\u001b[36mFile \u001b[39m\u001b[32m/opt/anaconda3/envs/islp/lib/python3.12/site-packages/statsmodels/base/model.py:95\u001b[39m, in \u001b[36mModel.__init__\u001b[39m\u001b[34m(self, endog, exog, **kwargs)\u001b[39m\n\u001b[32m     93\u001b[39m missing = kwargs.pop(\u001b[33m'\u001b[39m\u001b[33mmissing\u001b[39m\u001b[33m'\u001b[39m, \u001b[33m'\u001b[39m\u001b[33mnone\u001b[39m\u001b[33m'\u001b[39m)\n\u001b[32m     94\u001b[39m hasconst = kwargs.pop(\u001b[33m'\u001b[39m\u001b[33mhasconst\u001b[39m\u001b[33m'\u001b[39m, \u001b[38;5;28;01mNone\u001b[39;00m)\n\u001b[32m---> \u001b[39m\u001b[32m95\u001b[39m \u001b[38;5;28mself\u001b[39m.data = \u001b[38;5;28;43mself\u001b[39;49m\u001b[43m.\u001b[49m\u001b[43m_handle_data\u001b[49m\u001b[43m(\u001b[49m\u001b[43mendog\u001b[49m\u001b[43m,\u001b[49m\u001b[43m \u001b[49m\u001b[43mexog\u001b[49m\u001b[43m,\u001b[49m\u001b[43m \u001b[49m\u001b[43mmissing\u001b[49m\u001b[43m,\u001b[49m\u001b[43m \u001b[49m\u001b[43mhasconst\u001b[49m\u001b[43m,\u001b[49m\n\u001b[32m     96\u001b[39m \u001b[43m                              \u001b[49m\u001b[43m*\u001b[49m\u001b[43m*\u001b[49m\u001b[43mkwargs\u001b[49m\u001b[43m)\u001b[49m\n\u001b[32m     97\u001b[39m \u001b[38;5;28mself\u001b[39m.k_constant = \u001b[38;5;28mself\u001b[39m.data.k_constant\n\u001b[32m     98\u001b[39m \u001b[38;5;28mself\u001b[39m.exog = \u001b[38;5;28mself\u001b[39m.data.exog\n",
      "\u001b[36mFile \u001b[39m\u001b[32m/opt/anaconda3/envs/islp/lib/python3.12/site-packages/statsmodels/base/model.py:135\u001b[39m, in \u001b[36mModel._handle_data\u001b[39m\u001b[34m(self, endog, exog, missing, hasconst, **kwargs)\u001b[39m\n\u001b[32m    134\u001b[39m \u001b[38;5;28;01mdef\u001b[39;00m\u001b[38;5;250m \u001b[39m\u001b[34m_handle_data\u001b[39m(\u001b[38;5;28mself\u001b[39m, endog, exog, missing, hasconst, **kwargs):\n\u001b[32m--> \u001b[39m\u001b[32m135\u001b[39m     data = \u001b[43mhandle_data\u001b[49m\u001b[43m(\u001b[49m\u001b[43mendog\u001b[49m\u001b[43m,\u001b[49m\u001b[43m \u001b[49m\u001b[43mexog\u001b[49m\u001b[43m,\u001b[49m\u001b[43m \u001b[49m\u001b[43mmissing\u001b[49m\u001b[43m,\u001b[49m\u001b[43m \u001b[49m\u001b[43mhasconst\u001b[49m\u001b[43m,\u001b[49m\u001b[43m \u001b[49m\u001b[43m*\u001b[49m\u001b[43m*\u001b[49m\u001b[43mkwargs\u001b[49m\u001b[43m)\u001b[49m\n\u001b[32m    136\u001b[39m     \u001b[38;5;66;03m# kwargs arrays could have changed, easier to just attach here\u001b[39;00m\n\u001b[32m    137\u001b[39m     \u001b[38;5;28;01mfor\u001b[39;00m key \u001b[38;5;129;01min\u001b[39;00m kwargs:\n",
      "\u001b[36mFile \u001b[39m\u001b[32m/opt/anaconda3/envs/islp/lib/python3.12/site-packages/statsmodels/base/data.py:675\u001b[39m, in \u001b[36mhandle_data\u001b[39m\u001b[34m(endog, exog, missing, hasconst, **kwargs)\u001b[39m\n\u001b[32m    672\u001b[39m     exog = np.asarray(exog)\n\u001b[32m    674\u001b[39m klass = handle_data_class_factory(endog, exog)\n\u001b[32m--> \u001b[39m\u001b[32m675\u001b[39m \u001b[38;5;28;01mreturn\u001b[39;00m \u001b[43mklass\u001b[49m\u001b[43m(\u001b[49m\u001b[43mendog\u001b[49m\u001b[43m,\u001b[49m\u001b[43m \u001b[49m\u001b[43mexog\u001b[49m\u001b[43m=\u001b[49m\u001b[43mexog\u001b[49m\u001b[43m,\u001b[49m\u001b[43m \u001b[49m\u001b[43mmissing\u001b[49m\u001b[43m=\u001b[49m\u001b[43mmissing\u001b[49m\u001b[43m,\u001b[49m\u001b[43m \u001b[49m\u001b[43mhasconst\u001b[49m\u001b[43m=\u001b[49m\u001b[43mhasconst\u001b[49m\u001b[43m,\u001b[49m\n\u001b[32m    676\u001b[39m \u001b[43m             \u001b[49m\u001b[43m*\u001b[49m\u001b[43m*\u001b[49m\u001b[43mkwargs\u001b[49m\u001b[43m)\u001b[49m\n",
      "\u001b[36mFile \u001b[39m\u001b[32m/opt/anaconda3/envs/islp/lib/python3.12/site-packages/statsmodels/base/data.py:89\u001b[39m, in \u001b[36mModelData.__init__\u001b[39m\u001b[34m(self, endog, exog, missing, hasconst, **kwargs)\u001b[39m\n\u001b[32m     87\u001b[39m \u001b[38;5;28mself\u001b[39m.k_constant = \u001b[32m0\u001b[39m\n\u001b[32m     88\u001b[39m \u001b[38;5;28mself\u001b[39m._handle_constant(hasconst)\n\u001b[32m---> \u001b[39m\u001b[32m89\u001b[39m \u001b[38;5;28;43mself\u001b[39;49m\u001b[43m.\u001b[49m\u001b[43m_check_integrity\u001b[49m\u001b[43m(\u001b[49m\u001b[43m)\u001b[49m\n\u001b[32m     90\u001b[39m \u001b[38;5;28mself\u001b[39m._cache = {}\n",
      "\u001b[36mFile \u001b[39m\u001b[32m/opt/anaconda3/envs/islp/lib/python3.12/site-packages/statsmodels/base/data.py:533\u001b[39m, in \u001b[36mPandasData._check_integrity\u001b[39m\u001b[34m(self)\u001b[39m\n\u001b[32m    529\u001b[39m \u001b[38;5;66;03m# exog can be None and we could be upcasting one or the other\u001b[39;00m\n\u001b[32m    530\u001b[39m \u001b[38;5;28;01mif\u001b[39;00m (exog \u001b[38;5;129;01mis\u001b[39;00m \u001b[38;5;129;01mnot\u001b[39;00m \u001b[38;5;28;01mNone\u001b[39;00m \u001b[38;5;129;01mand\u001b[39;00m\n\u001b[32m    531\u001b[39m         (\u001b[38;5;28mhasattr\u001b[39m(endog, \u001b[33m'\u001b[39m\u001b[33mindex\u001b[39m\u001b[33m'\u001b[39m) \u001b[38;5;129;01mand\u001b[39;00m \u001b[38;5;28mhasattr\u001b[39m(exog, \u001b[33m'\u001b[39m\u001b[33mindex\u001b[39m\u001b[33m'\u001b[39m)) \u001b[38;5;129;01mand\u001b[39;00m\n\u001b[32m    532\u001b[39m         \u001b[38;5;129;01mnot\u001b[39;00m \u001b[38;5;28mself\u001b[39m.orig_endog.index.equals(\u001b[38;5;28mself\u001b[39m.orig_exog.index)):\n\u001b[32m--> \u001b[39m\u001b[32m533\u001b[39m     \u001b[38;5;28;01mraise\u001b[39;00m \u001b[38;5;167;01mValueError\u001b[39;00m(\u001b[33m\"\u001b[39m\u001b[33mThe indices for endog and exog are not aligned\u001b[39m\u001b[33m\"\u001b[39m)\n\u001b[32m    534\u001b[39m \u001b[38;5;28msuper\u001b[39m()._check_integrity()\n",
      "\u001b[31mValueError\u001b[39m: The indices for endog and exog are not aligned"
     ]
    }
   ],
   "source": [
    "import statsmodels.api as sm\n",
    "\n",
    "print(type(X_train_scaled))\n",
    "print(type(y_train))\n",
    "print(len(y_train))\n",
    "print(len(X_train_scaled))\n",
    "X_new=sm.add_constant(X_train_scaled)\n",
    "ols_model_simple = sm.OLS(y_train, X_new).fit()\n",
    "#results = ols_model_simple.fit()\n",
    "\n",
    "#sm.OLS"
   ]
  }
 ],
 "metadata": {
  "colab": {
   "provenance": []
  },
  "kernelspec": {
   "display_name": "islp",
   "language": "python",
   "name": "python3"
  },
  "language_info": {
   "codemirror_mode": {
    "name": "ipython",
    "version": 3
   },
   "file_extension": ".py",
   "mimetype": "text/x-python",
   "name": "python",
   "nbconvert_exporter": "python",
   "pygments_lexer": "ipython3",
   "version": "3.12.11"
  }
 },
 "nbformat": 4,
 "nbformat_minor": 5
}
